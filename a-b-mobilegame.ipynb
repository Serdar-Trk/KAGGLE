{
 "cells": [
  {
   "cell_type": "markdown",
   "id": "3f023692",
   "metadata": {
    "papermill": {
     "duration": 0.009841,
     "end_time": "2023-03-25T22:30:06.662602",
     "exception": false,
     "start_time": "2023-03-25T22:30:06.652761",
     "status": "completed"
    },
    "tags": []
   },
   "source": [
    "<div style=\"color:#3F497F;font-size:70px;font-family:Georgia;text-align:center;\">A/B Testing</div>\n",
    "\n",
    "<div style=\"float:center;margin-left:210px;max-width:60%;\">\n",
    "<img src=\"https://cdn.dribbble.com/users/299116/screenshots/16642724/media/2df13bcb6b66092dc502b92cd441deba.jpg\"></div>\n",
    "\n",
    "\n",
    "\n",
    "<strong style=\"color:#443C68;font-size:20px;font-family:Georgia;text-align:center;\">“A/B testing can provide value, but it shouldn’t come at the expense of other areas of design.”\n",
    " </strong>\n",
    " \n",
    " The process of decision making in design has always been a popular area of discussion. Why do some designers make choices that others don’t, and why do some designs seemingly work better than others?\n",
    "\n",
    "From academic study to sketches and anecdotes, the design world is fascinated with process. But for all of the legendary stories of lore, few anecdotes in recent times have had the staying power of Google and its 41 shades of blue.\n",
    "\n",
    "In trying to determine which out of 2 shades of blue to use for link text, Google tested not only the 2, but also the 39 shades of blue in between. The story outlines a relatively minute decision but highlights a rapidly growing approach to making decisions. One based in experimentation, alternatives, and, most importantly, data.\n",
    "\n",
    "\n",
    "\n",
    "1. Define your conversion goal. In this example, you want to measure click-through rate. \n",
    "\n",
    "2. Design the A/B test. How big of a sample size do you want? Who will participate, new customers or existing customers? \n",
    "\n",
    "3. Gather data. Will you run your own test or use A/B testing software? For how long will the test run?\n",
    "\n",
    "4. Analyze the results. Which variation had the biggest positive impact on the conversion metric that matters most? \n",
    "\n",
    "\n",
    "\n",
    "<strong style=\"color:#443C68;font-size:20px;font-family:Georgia;\"> AB Testing Process </strong>\n",
    "\n",
    "* Understanding business problem & data\n",
    "* Detect and resolve problems in the data (Missing Value, Outliers, Unexpected Value)\n",
    "* Look summary stats and plots\n",
    "* Apply hypothesis testing and check assumptions\n",
    "* Check Normality & Homogeneity\n",
    "* Apply tests (Shapiro, Levene Test, T-Test, Welch Test, Mann Whitney U Test)\n",
    "* Evaluate the results\n",
    "* Make inferences\n",
    "* Recommend business decision to your customer/director/ceo etc.\n",
    "\n",
    "<div class=\"inner_cell\">\n",
    "<div class=\"text_cell_render border-box-sizing rendered_html\">\n",
    "<p></p><div class=\"list-group\" id=\"list-tab\" role=\"tablist\">\n",
    "  <h3 class=\"list-group-item list-group-item-action active\" data-toggle=\"list\" role=\"tab\" aria-controls=\"home\" style = \"background-color:#443C68;font-family:Georgia;color:#F0FF42;font-size:200%;text-align:LEFT;border-radius:20px 40px;overflow:hidden;border-style:dotted;border-width:1.8px;border-color:#FFEA20;\">...Table of Contents...</h3>\n",
    "  <a class=\"list-group-item list-group-item-action\" data-toggle=\"list\" href=\"#1\" role=\"tab\" aria-controls=\"home\" target=\"_self\" style = \"color:#000000; font-family:Charter;font-size:120%;\">Packages-Libraries-Settings <span class=\"badge badge-primary badge-pill\">1</span></a>\n",
    "  <a class=\"list-group-item list-group-item-action\" data-toggle=\"list\" href=\"#2\" role=\"tab\" aria-controls=\"messages\" target=\"_self\" style = \"color:#000000; font-family:Charter;font-size:120%;\">Data Understandıng<span class=\"badge badge-primary badge-pill\">2</span></a>\n",
    "  <a class=\"list-group-item list-group-item-action\" data-toggle=\"list\" href=\"#3\" role=\"tab\" aria-controls=\"settings\" target=\"_self\" style = \"color:#000000; font-family:Charter;font-size:120%;\">A/B Testing BEFORE Removing The Extreme Values<span class=\"badge badge-primary badge-pill\">3</span></a>\n",
    "  <a class=\"list-group-item list-group-item-action\" data-toggle=\"list\" href=\"#4\" role=\"tab\" aria-controls=\"settings\" target=\"_self\" style = \"color:#000000; font-family:Charter;font-size:120%;\">A/B Testing AFTER Removing The Extreme Values<span class=\"badge badge-primary badge-pill\">4</span></a> \n",
    "</div>\n",
    "</div>\n",
    "</div>"
   ]
  },
  {
   "cell_type": "markdown",
   "id": "c20fdf4f",
   "metadata": {
    "papermill": {
     "duration": 0.007557,
     "end_time": "2023-03-25T22:30:06.678615",
     "exception": false,
     "start_time": "2023-03-25T22:30:06.671058",
     "status": "completed"
    },
    "tags": []
   },
   "source": [
    "\n",
    "\n",
    "<strong style=\"color:#443C68;font-size:20px;font-family:Georgia;text-align:center;\">  Descriptions: The data is about an A/B test with a mobile game called \"Cookie Cats\".\n",
    " </strong>\n",
    "\n",
    "Cookie Cats is a hugely popular mobile puzzle game developed by Tactile Entertainment. It's a classic \"connect three\" style puzzle game where the player must connect tiles of the same color in order to clear the board and win the level. It also features singing cats. We're not kidding!\n",
    "\n",
    "As players progress through the game they will encounter gates that force them to wait some time before they can progress or make an in-app purchase. In this project, we will analyze the result of an A/B test where the first gate in Cookie Cats was moved from level 30 to level 40. In particular, we will analyze the impact on player retention and game rounds.\n",
    "\n",
    "To complete this project, you should be comfortable working with pandas DataFrames and with using the pandas plot method. You should also have some understanding of hypothesis testing and bootstrap analysis.\n",
    "\n",
    "\n",
    "<strong style=\"color:#443C68;font-size:20px;font-family:Georgia;text-align:center;\">  Dataset columns descriptions:\n",
    " </strong>\n",
    "\n",
    "\n",
    "* userid: A unique number that identifies each player.\n",
    "* version: Whether the player was put in the control group (gate_30 - a gate at level 30) or the group with the moved gate (gate_40 - a gate at level 40).\n",
    "* sum_gamerounds: The number of game rounds played by the player during the first 14 days after install.\n",
    "* retention_1: Did the player come back and play 1 day after installing?\n",
    "* retention_7: Did the player come back and play 7 days after installing?"
   ]
  },
  {
   "cell_type": "markdown",
   "id": "b85243e9",
   "metadata": {
    "papermill": {
     "duration": 0.00763,
     "end_time": "2023-03-25T22:30:06.694190",
     "exception": false,
     "start_time": "2023-03-25T22:30:06.686560",
     "status": "completed"
    },
    "tags": []
   },
   "source": [
    "<a id = \"1\"></a>\n",
    "<strong style=\"color:#443C68;font-size:20px;font-family:Georgia;text-align:center;\">  Packages-Libraries-Settings 📜 ⚙️ </strong>"
   ]
  },
  {
   "cell_type": "code",
   "execution_count": 1,
   "id": "b4f27970",
   "metadata": {
    "execution": {
     "iopub.execute_input": "2023-03-25T22:30:06.713371Z",
     "iopub.status.busy": "2023-03-25T22:30:06.711801Z",
     "iopub.status.idle": "2023-03-25T22:30:08.056160Z",
     "shell.execute_reply": "2023-03-25T22:30:08.055119Z"
    },
    "papermill": {
     "duration": 1.356954,
     "end_time": "2023-03-25T22:30:08.059099",
     "exception": false,
     "start_time": "2023-03-25T22:30:06.702145",
     "status": "completed"
    },
    "tags": []
   },
   "outputs": [],
   "source": [
    "#!pip install statsmodels\n",
    "import itertools\n",
    "import numpy as np\n",
    "import pandas as pd\n",
    "import matplotlib.pyplot as plt\n",
    "import seaborn as sns\n",
    "sns.set_style('whitegrid')\n",
    "palette = 'Set2'\n",
    "import warnings\n",
    "warnings.filterwarnings(\"ignore\")\n",
    "warnings.simplefilter(action='ignore', category=FutureWarning)\n",
    "import statsmodels.stats.api as sms\n",
    "from scipy.stats import ttest_1samp, shapiro, levene, ttest_ind, mannwhitneyu, \\\n",
    "    pearsonr, spearmanr, kendalltau, f_oneway, kruskal, normaltest\n",
    "from statsmodels.stats.proportion import proportions_ztest\n",
    "\n",
    "pd.set_option('display.max_columns', None)\n",
    "pd.set_option('display.max_rows', 20)\n",
    "pd.set_option('display.width', 180)\n",
    "pd.set_option('display.float_format', lambda x: '%.5f' % x)"
   ]
  },
  {
   "cell_type": "markdown",
   "id": "d588d870",
   "metadata": {
    "papermill": {
     "duration": 0.007909,
     "end_time": "2023-03-25T22:30:08.075261",
     "exception": false,
     "start_time": "2023-03-25T22:30:08.067352",
     "status": "completed"
    },
    "tags": []
   },
   "source": [
    "\n",
    "<strong style=\"color:#443C68;font-size:20px;font-family:Georgia;text-align:center;\">  Load Data </strong>"
   ]
  },
  {
   "cell_type": "code",
   "execution_count": 2,
   "id": "83864a83",
   "metadata": {
    "execution": {
     "iopub.execute_input": "2023-03-25T22:30:08.093505Z",
     "iopub.status.busy": "2023-03-25T22:30:08.093128Z",
     "iopub.status.idle": "2023-03-25T22:30:08.233746Z",
     "shell.execute_reply": "2023-03-25T22:30:08.231941Z"
    },
    "papermill": {
     "duration": 0.153403,
     "end_time": "2023-03-25T22:30:08.236886",
     "exception": false,
     "start_time": "2023-03-25T22:30:08.083483",
     "status": "completed"
    },
    "tags": []
   },
   "outputs": [
    {
     "data": {
      "text/html": [
       "<div>\n",
       "<style scoped>\n",
       "    .dataframe tbody tr th:only-of-type {\n",
       "        vertical-align: middle;\n",
       "    }\n",
       "\n",
       "    .dataframe tbody tr th {\n",
       "        vertical-align: top;\n",
       "    }\n",
       "\n",
       "    .dataframe thead th {\n",
       "        text-align: right;\n",
       "    }\n",
       "</style>\n",
       "<table border=\"1\" class=\"dataframe\">\n",
       "  <thead>\n",
       "    <tr style=\"text-align: right;\">\n",
       "      <th></th>\n",
       "      <th>userid</th>\n",
       "      <th>version</th>\n",
       "      <th>sum_gamerounds</th>\n",
       "      <th>retention_1</th>\n",
       "      <th>retention_7</th>\n",
       "    </tr>\n",
       "  </thead>\n",
       "  <tbody>\n",
       "    <tr>\n",
       "      <th>0</th>\n",
       "      <td>116</td>\n",
       "      <td>gate_30</td>\n",
       "      <td>3</td>\n",
       "      <td>False</td>\n",
       "      <td>False</td>\n",
       "    </tr>\n",
       "    <tr>\n",
       "      <th>1</th>\n",
       "      <td>337</td>\n",
       "      <td>gate_30</td>\n",
       "      <td>38</td>\n",
       "      <td>True</td>\n",
       "      <td>False</td>\n",
       "    </tr>\n",
       "    <tr>\n",
       "      <th>2</th>\n",
       "      <td>377</td>\n",
       "      <td>gate_40</td>\n",
       "      <td>165</td>\n",
       "      <td>True</td>\n",
       "      <td>False</td>\n",
       "    </tr>\n",
       "    <tr>\n",
       "      <th>3</th>\n",
       "      <td>483</td>\n",
       "      <td>gate_40</td>\n",
       "      <td>1</td>\n",
       "      <td>False</td>\n",
       "      <td>False</td>\n",
       "    </tr>\n",
       "    <tr>\n",
       "      <th>4</th>\n",
       "      <td>488</td>\n",
       "      <td>gate_40</td>\n",
       "      <td>179</td>\n",
       "      <td>True</td>\n",
       "      <td>True</td>\n",
       "    </tr>\n",
       "  </tbody>\n",
       "</table>\n",
       "</div>"
      ],
      "text/plain": [
       "   userid  version  sum_gamerounds  retention_1  retention_7\n",
       "0     116  gate_30               3        False        False\n",
       "1     337  gate_30              38         True        False\n",
       "2     377  gate_40             165         True        False\n",
       "3     483  gate_40               1        False        False\n",
       "4     488  gate_40             179         True         True"
      ]
     },
     "execution_count": 2,
     "metadata": {},
     "output_type": "execute_result"
    }
   ],
   "source": [
    "df = pd.read_csv('/kaggle/input/mobile-games-ab-testing/cookie_cats.csv')\n",
    "df.head()"
   ]
  },
  {
   "cell_type": "markdown",
   "id": "208ca34f",
   "metadata": {
    "papermill": {
     "duration": 0.009461,
     "end_time": "2023-03-25T22:30:08.255768",
     "exception": false,
     "start_time": "2023-03-25T22:30:08.246307",
     "status": "completed"
    },
    "tags": []
   },
   "source": [
    "<a id = \"2\"></a>\n",
    "<strong style=\"color:#443C68;font-size:20px;font-family:Georgia;text-align:center;\"> Data Understandıng </strong>"
   ]
  },
  {
   "cell_type": "code",
   "execution_count": 3,
   "id": "4e231402",
   "metadata": {
    "execution": {
     "iopub.execute_input": "2023-03-25T22:30:08.285706Z",
     "iopub.status.busy": "2023-03-25T22:30:08.284975Z",
     "iopub.status.idle": "2023-03-25T22:30:08.354319Z",
     "shell.execute_reply": "2023-03-25T22:30:08.352498Z"
    },
    "papermill": {
     "duration": 0.082035,
     "end_time": "2023-03-25T22:30:08.356674",
     "exception": false,
     "start_time": "2023-03-25T22:30:08.274639",
     "status": "completed"
    },
    "tags": []
   },
   "outputs": [
    {
     "name": "stdout",
     "output_type": "stream",
     "text": [
      "~~~~~~~~~~~~~~~~~~~~~~~~~~~~~~~~~~~~~~~~~ SHAPE ~~~~~~~~~~~~~~~~~~~~~~~~~~~~~~~~~~~~~~~~~~\n",
      "Rows: 90189\n",
      "Columns: 5\n",
      "~~~~~~~~~~~~~~~~~~~~~~~~~~~~~~~~~~~~~~~~~ TYPES ~~~~~~~~~~~~~~~~~~~~~~~~~~~~~~~~~~~~~~~~~~\n",
      "userid             int64\n",
      "version           object\n",
      "sum_gamerounds     int64\n",
      "retention_1         bool\n",
      "retention_7         bool\n",
      "dtype: object\n",
      "~~~~~~~~~~~~~~~~~~~~~~~~~~~~~~~~~~~~~~~~~~ HEAD ~~~~~~~~~~~~~~~~~~~~~~~~~~~~~~~~~~~~~~~~~~\n",
      "   userid  version  sum_gamerounds  retention_1  retention_7\n",
      "0     116  gate_30               3        False        False\n",
      "1     337  gate_30              38         True        False\n",
      "2     377  gate_40             165         True        False\n",
      "3     483  gate_40               1        False        False\n",
      "4     488  gate_40             179         True         True\n",
      "~~~~~~~~~~~~~~~~~~~~~~~~~~~~~~~~~~~~~~~~~~ TAIL ~~~~~~~~~~~~~~~~~~~~~~~~~~~~~~~~~~~~~~~~~~\n",
      "        userid  version  sum_gamerounds  retention_1  retention_7\n",
      "90184  9999441  gate_40              97         True        False\n",
      "90185  9999479  gate_40              30        False        False\n",
      "90186  9999710  gate_30              28         True        False\n",
      "90187  9999768  gate_40              51         True        False\n",
      "90188  9999861  gate_40              16        False        False\n",
      "~~~~~~~~~~~~~~~~~~~~~~~~~~~~~~~~~~~~~ MISSING VALUES ~~~~~~~~~~~~~~~~~~~~~~~~~~~~~~~~~~~~~\n",
      "userid            0\n",
      "version           0\n",
      "sum_gamerounds    0\n",
      "retention_1       0\n",
      "retention_7       0\n",
      "dtype: int64\n",
      "~~~~~~~~~~~~~~~~~~~~~~~~~~~~~~~~~~~ DUPLICATED VALUES ~~~~~~~~~~~~~~~~~~~~~~~~~~~~~~~~~~~~\n",
      "0\n",
      "~~~~~~~~~~~~~~~~~~~~~~~~~~~~~~~~~~~~~~~~ DESCRIBE ~~~~~~~~~~~~~~~~~~~~~~~~~~~~~~~~~~~~~~~~\n",
      "                     count          mean           std       min           25%           50%           75%           max\n",
      "userid         90189.00000 4998412.23450 2883285.60770 116.00000 2512230.00000 4995815.00000 7496452.00000 9999861.00000\n",
      "sum_gamerounds 90189.00000      51.87246     195.05086   0.00000       5.00000      16.00000      51.00000   49854.00000\n"
     ]
    }
   ],
   "source": [
    "def check_df(dataframe, head=5):\n",
    "    print(\" SHAPE \".center(90,'~'))\n",
    "    print('Rows: {}'.format(dataframe.shape[0]))\n",
    "    print('Columns: {}'.format(dataframe.shape[1]))\n",
    "    print(\" TYPES \".center(90,'~'))\n",
    "    print(dataframe.dtypes)\n",
    "    print(\" HEAD \".center(90,'~'))\n",
    "    print(dataframe.head(head))\n",
    "    print(\" TAIL \".center(90,'~'))\n",
    "    print(dataframe.tail(head))\n",
    "    print(\" MISSING VALUES \".center(90,'~'))\n",
    "    print(dataframe.isnull().sum())\n",
    "    print(\" DUPLICATED VALUES \".center(90,'~'))\n",
    "    print(dataframe.duplicated().sum())\n",
    "    print(\" DESCRIBE \".center(90,'~'))\n",
    "    print(dataframe.describe().T)\n",
    "    \n",
    "check_df(df)"
   ]
  },
  {
   "cell_type": "code",
   "execution_count": 4,
   "id": "d1269539",
   "metadata": {
    "execution": {
     "iopub.execute_input": "2023-03-25T22:30:08.375655Z",
     "iopub.status.busy": "2023-03-25T22:30:08.374676Z",
     "iopub.status.idle": "2023-03-25T22:30:08.993925Z",
     "shell.execute_reply": "2023-03-25T22:30:08.992455Z"
    },
    "papermill": {
     "duration": 0.63238,
     "end_time": "2023-03-25T22:30:08.997366",
     "exception": false,
     "start_time": "2023-03-25T22:30:08.364986",
     "status": "completed"
    },
    "tags": []
   },
   "outputs": [
    {
     "data": {
      "image/png": "[encoded data removed]",
      "text/plain": [
       "<Figure size 1600x600 with 3 Axes>"
      ]
     },
     "metadata": {},
     "output_type": "display_data"
    },
    {
     "name": "stdout",
     "output_type": "stream",
     "text": [
      "\u001b[1m####**RETENTION_1**#####\n",
      "\u001b[0m\n",
      "       retention_1    Ratio\n",
      "False        50036 55.47905\n",
      "True         40153 44.52095\n",
      "\u001b[1m####**RETENTION_7**#####\n",
      "\u001b[0m\n",
      "       retention_7    Ratio\n",
      "False        73408 81.39352\n",
      "True         16781 18.60648\n",
      "\u001b[1m####**VERSION**#####\n",
      "\u001b[0m\n",
      "         version    Ratio\n",
      "gate_40    45489 50.43741\n",
      "gate_30    44700 49.56259\n"
     ]
    }
   ],
   "source": [
    "fig, axes = plt.subplots(1, 3, figsize = (16, 6), facecolor = \"#FFFFFF\", sharey = True)\n",
    "\n",
    "sns.countplot(x = \"retention_1\", data = df, hue = \"version\",\n",
    "              ax = axes[0], palette = [\"#2B3467\", \"#FFA3FD\"]).set_title(\"Gate 30\")\n",
    "\n",
    "sns.countplot(x = \"retention_7\", data = df, hue = \"version\",\n",
    "              ax = axes[1], palette = [\"#2B3467\", \"#FFA3FD\"]).set_title(\"Gate 40\")\n",
    "\n",
    "sns.countplot(x = \"version\", data = df, hue = \"version\",\n",
    "              ax = axes[2], palette = [\"#2B3467\", \"#FFA3FD\"]).set_title(\"Version\")\n",
    "\n",
    "for ax in axes:\n",
    "    \n",
    "    ax.set_facecolor(\"#e5e5e5\")\n",
    "    ax.get_legend().remove()\n",
    "    ax.set_yticks([])\n",
    "    \n",
    "    for p in ax.patches:\n",
    "        \n",
    "        txt = p.get_height()\n",
    "        ax.text(p.get_x() + 0.125, p.get_height()*1.01, txt, fontsize = 10)\n",
    "        \n",
    "axes[1].set_ylabel(\"\")\n",
    "        \n",
    "handles, labels = axes[0].get_legend_handles_labels()\n",
    "fig.legend(handles, labels, loc = \"upper center\")\n",
    "\n",
    "sns.despine(left = True, bottom = True)\n",
    "plt.show()\n",
    "\n",
    "print(\"\\033[1m####**RETENTION_1**#####\\n\\033[0m\")\n",
    "print(pd.DataFrame({\"retention_1\": df['retention_1'].value_counts(),\n",
    "                        \"Ratio\": 100 * df['retention_1'].value_counts() / len(df)}))\n",
    "\n",
    "\n",
    "print(\"\\033[1m####**RETENTION_7**#####\\n\\033[0m\")\n",
    "print(pd.DataFrame({'retention_7': df['retention_7'].value_counts(),\n",
    "                        \"Ratio\": 100 * df['retention_7'].value_counts() / len(df)}))\n",
    "\n",
    "\n",
    "print(\"\\033[1m####**VERSION**#####\\n\\033[0m\")\n",
    "print(pd.DataFrame({'version': df['version'].value_counts(),\n",
    "                        \"Ratio\": 100 * df['version'].value_counts() / len(df)}))"
   ]
  },
  {
   "cell_type": "markdown",
   "id": "c4923e0b",
   "metadata": {
    "papermill": {
     "duration": 0.009008,
     "end_time": "2023-03-25T22:30:09.016819",
     "exception": false,
     "start_time": "2023-03-25T22:30:09.007811",
     "status": "completed"
    },
    "tags": []
   },
   "source": [
    "<strong style=\"color:#443C68;font-size:20px;font-family:Georgia;text-align:center;\"> Retention variables gives us player retention details. </strong>\n",
    "\n",
    "* retention_1 - did the player come back and play 1 day after installing?\n",
    "* retention_7 - did the player come back and play 7 days after installing?\n",
    "Also players tend not to play the game! There are many players who quit the game.\n",
    "\n",
    "* 55 percent of the players didn't play the game 1 day after insalling\n",
    "* 81 percent of the players didn't play the game 7 day after insalling"
   ]
  },
  {
   "cell_type": "code",
   "execution_count": 5,
   "id": "b700d64b",
   "metadata": {
    "execution": {
     "iopub.execute_input": "2023-03-25T22:30:09.037615Z",
     "iopub.status.busy": "2023-03-25T22:30:09.036725Z",
     "iopub.status.idle": "2023-03-25T22:30:09.052381Z",
     "shell.execute_reply": "2023-03-25T22:30:09.050901Z"
    },
    "papermill": {
     "duration": 0.028741,
     "end_time": "2023-03-25T22:30:09.054781",
     "exception": false,
     "start_time": "2023-03-25T22:30:09.026040",
     "status": "completed"
    },
    "tags": []
   },
   "outputs": [
    {
     "data": {
      "text/plain": [
       "45094        0\n",
       "56753        0\n",
       "56786        0\n",
       "56834        0\n",
       "56876        0\n",
       "         ...  \n",
       "48188     2294\n",
       "43671     2438\n",
       "29417     2640\n",
       "7912      2961\n",
       "57702    49854\n",
       "Name: sum_gamerounds, Length: 90189, dtype: int64"
      ]
     },
     "execution_count": 5,
     "metadata": {},
     "output_type": "execute_result"
    }
   ],
   "source": [
    "df['sum_gamerounds'].sort_values()"
   ]
  },
  {
   "cell_type": "code",
   "execution_count": 6,
   "id": "d394a54f",
   "metadata": {
    "execution": {
     "iopub.execute_input": "2023-03-25T22:30:09.075657Z",
     "iopub.status.busy": "2023-03-25T22:30:09.075241Z",
     "iopub.status.idle": "2023-03-25T22:30:09.499844Z",
     "shell.execute_reply": "2023-03-25T22:30:09.498996Z"
    },
    "papermill": {
     "duration": 0.438114,
     "end_time": "2023-03-25T22:30:09.502301",
     "exception": false,
     "start_time": "2023-03-25T22:30:09.064187",
     "status": "completed"
    },
    "tags": []
   },
   "outputs": [
    {
     "data": {
      "image/png": "[encoded data removed]",
      "text/plain": [
       "<Figure size 1200x800 with 1 Axes>"
      ]
     },
     "metadata": {},
     "output_type": "display_data"
    }
   ],
   "source": [
    "fig, ax = plt.subplots(figsize = (12, 8), facecolor = \"#FFFFFF\")\n",
    "ax.set_facecolor(\"#FFFFFF\")\n",
    "\n",
    "sns.boxplot(data=df, x=\"sum_gamerounds\", y=\"version\", hue=\"version\", dodge=False,\n",
    "            flierprops={\"marker\": \"x\"}, width=.8, fliersize=10)\n",
    "plt.title('Before Removing The Extreme Values', size = 10, color='#443C68')\n",
    "plt.ylabel('.', size = 10,color=\"#443C68\" )\n",
    "plt.xlabel('sum_gamerounds Density', fontsize = 10,color=\"#443C68\" )\n",
    "plt.xticks(size = 10)\n",
    "plt.yticks(size = 10)\n",
    "plt.show()\n"
   ]
  },
  {
   "cell_type": "markdown",
   "id": "abfa8f5a",
   "metadata": {
    "papermill": {
     "duration": 0.009887,
     "end_time": "2023-03-25T22:30:09.522343",
     "exception": false,
     "start_time": "2023-03-25T22:30:09.512456",
     "status": "completed"
    },
    "tags": []
   },
   "source": [
    "<strong style=\"color:#443C68;font-size:20px;font-family:Georgia;text-align:center;\"> As can be seen from the data, there are outliers in the sum_gamerounds column. What if we set up our hypotheses without clearing out the outliers? Let's see... </strong>\n",
    "\n",
    "\n",
    "<a id = \"3\"></a>\n",
    "<strong style=\"color:#443C68;font-size:40px;font-family:Georgia;text-align:center;\"> A/B Testing Before Removing The Extreme Values </strong>\n",
    "\n",
    "<strong style=\"color:#443C68;font-size:20px;font-family:Georgia;text-align:center;\"> H0: Distribution is Normal! </strong>\n",
    "\n",
    "<strong style=\"color:#443C68;font-size:20px;font-family:Georgia;text-align:center;\"> H1: Distribution is not Normal! </strong>\n",
    "\n",
    "<strong style=\"color:#443C68;font-size:20px;font-family:Georgia;text-align:center;\"> H0: M1 = M2</strong>\n",
    "\n",
    "<strong style=\"color:#443C68;font-size:20px;font-family:Georgia;text-align:center;\"> H1: M1 != M2</strong>\n"
   ]
  },
  {
   "cell_type": "code",
   "execution_count": 7,
   "id": "e02e5847",
   "metadata": {
    "execution": {
     "iopub.execute_input": "2023-03-25T22:30:09.545041Z",
     "iopub.status.busy": "2023-03-25T22:30:09.544313Z",
     "iopub.status.idle": "2023-03-25T22:30:09.554373Z",
     "shell.execute_reply": "2023-03-25T22:30:09.553310Z"
    },
    "papermill": {
     "duration": 0.023978,
     "end_time": "2023-03-25T22:30:09.556757",
     "exception": false,
     "start_time": "2023-03-25T22:30:09.532779",
     "status": "completed"
    },
    "tags": []
   },
   "outputs": [
    {
     "data": {
      "text/plain": [
       "90189"
      ]
     },
     "execution_count": 7,
     "metadata": {},
     "output_type": "execute_result"
    }
   ],
   "source": [
    "df['userid'].nunique()"
   ]
  },
  {
   "cell_type": "code",
   "execution_count": 8,
   "id": "ed4c45bf",
   "metadata": {
    "execution": {
     "iopub.execute_input": "2023-03-25T22:30:09.578954Z",
     "iopub.status.busy": "2023-03-25T22:30:09.578490Z",
     "iopub.status.idle": "2023-03-25T22:30:09.619930Z",
     "shell.execute_reply": "2023-03-25T22:30:09.618662Z"
    },
    "papermill": {
     "duration": 0.055519,
     "end_time": "2023-03-25T22:30:09.622579",
     "exception": false,
     "start_time": "2023-03-25T22:30:09.567060",
     "status": "completed"
    },
    "tags": []
   },
   "outputs": [
    {
     "data": {
      "text/html": [
       "<div>\n",
       "<style scoped>\n",
       "    .dataframe tbody tr th:only-of-type {\n",
       "        vertical-align: middle;\n",
       "    }\n",
       "\n",
       "    .dataframe tbody tr th {\n",
       "        vertical-align: top;\n",
       "    }\n",
       "\n",
       "    .dataframe thead tr th {\n",
       "        text-align: left;\n",
       "    }\n",
       "\n",
       "    .dataframe thead tr:last-of-type th {\n",
       "        text-align: right;\n",
       "    }\n",
       "</style>\n",
       "<table border=\"1\" class=\"dataframe\">\n",
       "  <thead>\n",
       "    <tr>\n",
       "      <th></th>\n",
       "      <th colspan=\"5\" halign=\"left\">sum_gamerounds</th>\n",
       "    </tr>\n",
       "    <tr>\n",
       "      <th></th>\n",
       "      <th>count</th>\n",
       "      <th>median</th>\n",
       "      <th>mean</th>\n",
       "      <th>std</th>\n",
       "      <th>max</th>\n",
       "    </tr>\n",
       "    <tr>\n",
       "      <th>version</th>\n",
       "      <th></th>\n",
       "      <th></th>\n",
       "      <th></th>\n",
       "      <th></th>\n",
       "      <th></th>\n",
       "    </tr>\n",
       "  </thead>\n",
       "  <tbody>\n",
       "    <tr>\n",
       "      <th>gate_30</th>\n",
       "      <td>44700</td>\n",
       "      <td>17.00000</td>\n",
       "      <td>52.45626</td>\n",
       "      <td>256.71642</td>\n",
       "      <td>49854</td>\n",
       "    </tr>\n",
       "    <tr>\n",
       "      <th>gate_40</th>\n",
       "      <td>45489</td>\n",
       "      <td>16.00000</td>\n",
       "      <td>51.29878</td>\n",
       "      <td>103.29442</td>\n",
       "      <td>2640</td>\n",
       "    </tr>\n",
       "  </tbody>\n",
       "</table>\n",
       "</div>"
      ],
      "text/plain": [
       "        sum_gamerounds                                   \n",
       "                 count   median     mean       std    max\n",
       "version                                                  \n",
       "gate_30          44700 17.00000 52.45626 256.71642  49854\n",
       "gate_40          45489 16.00000 51.29878 103.29442   2640"
      ]
     },
     "execution_count": 8,
     "metadata": {},
     "output_type": "execute_result"
    }
   ],
   "source": [
    "# A/B Groups & Target Summary Stats\n",
    "df.groupby(\"version\").agg({'sum_gamerounds': [\"count\", \"median\", \"mean\", \"std\", \"max\"]})"
   ]
  },
  {
   "cell_type": "markdown",
   "id": "008d476d",
   "metadata": {
    "papermill": {
     "duration": 0.010009,
     "end_time": "2023-03-25T22:30:09.642959",
     "exception": false,
     "start_time": "2023-03-25T22:30:09.632950",
     "status": "completed"
    },
    "tags": []
   },
   "source": [
    "<strong style=\"color:#443C68;font-size:30px;font-family:Georgia;text-align:center;\">  Normality</strong>\n",
    "\n",
    "\n"
   ]
  },
  {
   "cell_type": "code",
   "execution_count": 9,
   "id": "fa91dd8d",
   "metadata": {
    "execution": {
     "iopub.execute_input": "2023-03-25T22:30:09.666591Z",
     "iopub.status.busy": "2023-03-25T22:30:09.665535Z",
     "iopub.status.idle": "2023-03-25T22:30:09.685526Z",
     "shell.execute_reply": "2023-03-25T22:30:09.683890Z"
    },
    "papermill": {
     "duration": 0.035122,
     "end_time": "2023-03-25T22:30:09.688422",
     "exception": false,
     "start_time": "2023-03-25T22:30:09.653300",
     "status": "completed"
    },
    "tags": []
   },
   "outputs": [
    {
     "name": "stdout",
     "output_type": "stream",
     "text": [
      "\u001b[1msum_gamerounds normality for gate 40: \n",
      "\u001b[0m\n",
      "Test Stat = 0.0881, p-value = 0.0000\n",
      "\u001b[1mOur series is not normally distributed. \n",
      "\u001b[0m\n"
     ]
    }
   ],
   "source": [
    "print(\"\\033[1msum_gamerounds normality for gate 40: \\n\\033[0m\")\n",
    "test_stat, pvalue = shapiro(df.loc[df[\"version\"] == \"gate_30\", \"sum_gamerounds\"])\n",
    "print('Test Stat = %.4f, p-value = %.4f' % (test_stat, pvalue))\n",
    "\n",
    "print(\"\\033[1mOur series is not normally distributed. \\n\\033[0m\")\n"
   ]
  },
  {
   "cell_type": "code",
   "execution_count": 10,
   "id": "40e127db",
   "metadata": {
    "execution": {
     "iopub.execute_input": "2023-03-25T22:30:09.711642Z",
     "iopub.status.busy": "2023-03-25T22:30:09.710936Z",
     "iopub.status.idle": "2023-03-25T22:30:09.729402Z",
     "shell.execute_reply": "2023-03-25T22:30:09.728039Z"
    },
    "papermill": {
     "duration": 0.032943,
     "end_time": "2023-03-25T22:30:09.731732",
     "exception": false,
     "start_time": "2023-03-25T22:30:09.698789",
     "status": "completed"
    },
    "tags": []
   },
   "outputs": [
    {
     "name": "stdout",
     "output_type": "stream",
     "text": [
      "\u001b[1msum_gamerounds normality for gate 40: \n",
      "\u001b[0m\n",
      "Test Stat = 0.4826, p-value = 0.0000\n",
      "\u001b[1mOur series is not normally distributed. \n",
      "\u001b[0m\n"
     ]
    }
   ],
   "source": [
    "\n",
    "print(\"\\033[1msum_gamerounds normality for gate 40: \\n\\033[0m\")\n",
    "test_stat, pvalue = shapiro(df.loc[df[\"version\"] == \"gate_40\", \"sum_gamerounds\"])\n",
    "print('Test Stat = %.4f, p-value = %.4f' % (test_stat, pvalue))\n",
    "\n",
    "print(\"\\033[1mOur series is not normally distributed. \\n\\033[0m\")\n",
    "    "
   ]
  },
  {
   "cell_type": "markdown",
   "id": "e7371749",
   "metadata": {
    "papermill": {
     "duration": 0.00992,
     "end_time": "2023-03-25T22:30:09.752124",
     "exception": false,
     "start_time": "2023-03-25T22:30:09.742204",
     "status": "completed"
    },
    "tags": []
   },
   "source": [
    "<strong style=\"color:#443C68;font-size:30px;font-family:Georgia;text-align:center;\">  Homogeneity of variances </strong>\n",
    "\n",
    "\n"
   ]
  },
  {
   "cell_type": "code",
   "execution_count": 11,
   "id": "611ec20b",
   "metadata": {
    "execution": {
     "iopub.execute_input": "2023-03-25T22:30:09.775150Z",
     "iopub.status.busy": "2023-03-25T22:30:09.774406Z",
     "iopub.status.idle": "2023-03-25T22:30:09.801526Z",
     "shell.execute_reply": "2023-03-25T22:30:09.800149Z"
    },
    "papermill": {
     "duration": 0.041396,
     "end_time": "2023-03-25T22:30:09.803886",
     "exception": false,
     "start_time": "2023-03-25T22:30:09.762490",
     "status": "completed"
    },
    "tags": []
   },
   "outputs": [
    {
     "name": "stdout",
     "output_type": "stream",
     "text": [
      "\u001b[1msum_gamerounds normality for gate 30 and gate 40: \n",
      "\u001b[0m\n",
      "Test Stat = 0.5292, p-value = 0.4669\n",
      "\u001b[1mOur series is not homogen. \n",
      "\u001b[0m\n"
     ]
    }
   ],
   "source": [
    "print(\"\\033[1msum_gamerounds normality for gate 30 and gate 40: \\n\\033[0m\")\n",
    "\n",
    "\n",
    "test_stat, pvalue = levene(df.loc[df[\"version\"] == \"gate_30\", \"sum_gamerounds\"],\n",
    "                           df.loc[df[\"version\"] == \"gate_40\", \"sum_gamerounds\"])\n",
    "print('Test Stat = %.4f, p-value = %.4f' % (test_stat, pvalue))\n",
    "\n",
    "\n",
    "print(\"\\033[1mOur series is not homogen. \\n\\033[0m\")\n"
   ]
  },
  {
   "cell_type": "code",
   "execution_count": 12,
   "id": "7ca6beed",
   "metadata": {
    "execution": {
     "iopub.execute_input": "2023-03-25T22:30:09.827766Z",
     "iopub.status.busy": "2023-03-25T22:30:09.827009Z",
     "iopub.status.idle": "2023-03-25T22:30:09.907041Z",
     "shell.execute_reply": "2023-03-25T22:30:09.905806Z"
    },
    "papermill": {
     "duration": 0.095212,
     "end_time": "2023-03-25T22:30:09.909617",
     "exception": false,
     "start_time": "2023-03-25T22:30:09.814405",
     "status": "completed"
    },
    "tags": []
   },
   "outputs": [
    {
     "name": "stdout",
     "output_type": "stream",
     "text": [
      "Test Stat = 1024331250.5000, p-value = 0.0502\n",
      "\u001b[1mWe can not reject H0 hypothesis, so that A/B groups are similar!.\n",
      "\u001b[0m\n"
     ]
    }
   ],
   "source": [
    "#non-parametrik test\n",
    "test_stat, pvalue = mannwhitneyu(df.loc[df[\"version\"] == \"gate_30\", \"sum_gamerounds\"],\n",
    "                                 df.loc[df[\"version\"] == \"gate_40\", \"sum_gamerounds\"])\n",
    "\n",
    "print('Test Stat = %.4f, p-value = %.4f' % (test_stat, pvalue))\n",
    "\n",
    "print(\"\\033[1mWe can not reject H0 hypothesis, \"\n",
    "              \"so that A/B groups are similar!.\\n\\033[0m\")\n"
   ]
  },
  {
   "cell_type": "markdown",
   "id": "bfe1c87a",
   "metadata": {
    "papermill": {
     "duration": 0.010383,
     "end_time": "2023-03-25T22:30:09.930625",
     "exception": false,
     "start_time": "2023-03-25T22:30:09.920242",
     "status": "completed"
    },
    "tags": []
   },
   "source": [
    "<a id = \"4\"></a>\n",
    "<strong style=\"color:#443C68;font-size:40px;font-family:Georgia;text-align:center;\"> A/B Testing After Removing The Extreme Values </strong>\n",
    "\n",
    "<strong style=\"color:#443C68;font-size:20px;font-family:Georgia;text-align:center;\"> H0: Distribution is Normal! </strong>\n",
    "\n",
    "<strong style=\"color:#443C68;font-size:20px;font-family:Georgia;text-align:center;\"> H1: Distribution is not Normal! </strong>\n",
    "\n",
    "<strong style=\"color:#443C68;font-size:20px;font-family:Georgia;text-align:center;\"> H0: M1 = M2</strong>\n",
    "\n",
    "<strong style=\"color:#443C68;font-size:20px;font-family:Georgia;text-align:center;\"> H1: M1 != M2</strong>\n"
   ]
  },
  {
   "cell_type": "code",
   "execution_count": 13,
   "id": "bf976177",
   "metadata": {
    "execution": {
     "iopub.execute_input": "2023-03-25T22:30:09.953705Z",
     "iopub.status.busy": "2023-03-25T22:30:09.953266Z",
     "iopub.status.idle": "2023-03-25T22:30:09.972342Z",
     "shell.execute_reply": "2023-03-25T22:30:09.970967Z"
    },
    "papermill": {
     "duration": 0.033505,
     "end_time": "2023-03-25T22:30:09.974830",
     "exception": false,
     "start_time": "2023-03-25T22:30:09.941325",
     "status": "completed"
    },
    "tags": []
   },
   "outputs": [
    {
     "data": {
      "text/plain": [
       "count   90188.00000\n",
       "mean       51.32025\n",
       "std       102.68272\n",
       "min         0.00000\n",
       "25%         5.00000\n",
       "50%        16.00000\n",
       "75%        51.00000\n",
       "max      2961.00000\n",
       "Name: sum_gamerounds, dtype: float64"
      ]
     },
     "execution_count": 13,
     "metadata": {},
     "output_type": "execute_result"
    }
   ],
   "source": [
    "\n",
    "df = df[df.sum_gamerounds < df.sum_gamerounds.max()]\n",
    "df['sum_gamerounds'].describe()"
   ]
  },
  {
   "cell_type": "code",
   "execution_count": 14,
   "id": "7a98b61f",
   "metadata": {
    "execution": {
     "iopub.execute_input": "2023-03-25T22:30:09.998553Z",
     "iopub.status.busy": "2023-03-25T22:30:09.997829Z",
     "iopub.status.idle": "2023-03-25T22:30:10.442159Z",
     "shell.execute_reply": "2023-03-25T22:30:10.440656Z"
    },
    "papermill": {
     "duration": 0.460195,
     "end_time": "2023-03-25T22:30:10.445786",
     "exception": false,
     "start_time": "2023-03-25T22:30:09.985591",
     "status": "completed"
    },
    "tags": []
   },
   "outputs": [
    {
     "data": {
      "image/png": "[encoded data removed]",
      "text/plain": [
       "<Figure size 1200x800 with 1 Axes>"
      ]
     },
     "metadata": {},
     "output_type": "display_data"
    }
   ],
   "source": [
    "fig, ax = plt.subplots(figsize = (12, 8), facecolor = \"#FFFFFF\")\n",
    "ax.set_facecolor(\"#FFFFFF\")\n",
    "\n",
    "sns.boxplot(data=df, x=\"sum_gamerounds\", y=\"version\", hue=\"version\", dodge=False,\n",
    "            flierprops={\"marker\": \"x\"}, width=.8, fliersize=10)\n",
    "plt.title('After Removing The Extreme Values', size = 10, color='#443C68')\n",
    "plt.ylabel('.', size = 10,color=\"#443C68\" )\n",
    "plt.xlabel('sum_gamerounds Density', fontsize = 10,color=\"#443C68\" )\n",
    "plt.xticks(size = 10)\n",
    "plt.yticks(size = 10)\n",
    "plt.show()\n"
   ]
  },
  {
   "cell_type": "code",
   "execution_count": 15,
   "id": "f5396126",
   "metadata": {
    "execution": {
     "iopub.execute_input": "2023-03-25T22:30:10.471822Z",
     "iopub.status.busy": "2023-03-25T22:30:10.470997Z",
     "iopub.status.idle": "2023-03-25T22:30:10.487326Z",
     "shell.execute_reply": "2023-03-25T22:30:10.485701Z"
    },
    "papermill": {
     "duration": 0.033519,
     "end_time": "2023-03-25T22:30:10.491668",
     "exception": false,
     "start_time": "2023-03-25T22:30:10.458149",
     "status": "completed"
    },
    "tags": []
   },
   "outputs": [
    {
     "data": {
      "text/plain": [
       "(50.650095717882344, 51.99041077965614)"
      ]
     },
     "execution_count": 15,
     "metadata": {},
     "output_type": "execute_result"
    }
   ],
   "source": [
    "# What is the confidence interval for the 'REVENUE' value?\n",
    "\n",
    "sms.DescrStatsW(df[\"sum_gamerounds\"]).tconfint_mean()"
   ]
  },
  {
   "cell_type": "code",
   "execution_count": 16,
   "id": "ac51259e",
   "metadata": {
    "execution": {
     "iopub.execute_input": "2023-03-25T22:30:10.552465Z",
     "iopub.status.busy": "2023-03-25T22:30:10.551723Z",
     "iopub.status.idle": "2023-03-25T22:30:10.601566Z",
     "shell.execute_reply": "2023-03-25T22:30:10.600306Z"
    },
    "papermill": {
     "duration": 0.083733,
     "end_time": "2023-03-25T22:30:10.604087",
     "exception": false,
     "start_time": "2023-03-25T22:30:10.520354",
     "status": "completed"
    },
    "tags": []
   },
   "outputs": [
    {
     "data": {
      "text/html": [
       "<div>\n",
       "<style scoped>\n",
       "    .dataframe tbody tr th:only-of-type {\n",
       "        vertical-align: middle;\n",
       "    }\n",
       "\n",
       "    .dataframe tbody tr th {\n",
       "        vertical-align: top;\n",
       "    }\n",
       "\n",
       "    .dataframe thead tr th {\n",
       "        text-align: left;\n",
       "    }\n",
       "</style>\n",
       "<table border=\"1\" class=\"dataframe\">\n",
       "  <thead>\n",
       "    <tr>\n",
       "      <th></th>\n",
       "      <th>version</th>\n",
       "      <th colspan=\"2\" halign=\"left\">sum_gamerounds</th>\n",
       "    </tr>\n",
       "    <tr>\n",
       "      <th></th>\n",
       "      <th></th>\n",
       "      <th>sum</th>\n",
       "      <th>count</th>\n",
       "    </tr>\n",
       "  </thead>\n",
       "  <tbody>\n",
       "    <tr>\n",
       "      <th>0</th>\n",
       "      <td>gate_30</td>\n",
       "      <td>2294941</td>\n",
       "      <td>44699</td>\n",
       "    </tr>\n",
       "    <tr>\n",
       "      <th>1</th>\n",
       "      <td>gate_40</td>\n",
       "      <td>2333530</td>\n",
       "      <td>45489</td>\n",
       "    </tr>\n",
       "  </tbody>\n",
       "</table>\n",
       "</div>"
      ],
      "text/plain": [
       "   version sum_gamerounds       \n",
       "                      sum  count\n",
       "0  gate_30        2294941  44699\n",
       "1  gate_40        2333530  45489"
      ]
     },
     "execution_count": 16,
     "metadata": {},
     "output_type": "execute_result"
    }
   ],
   "source": [
    "df.groupby('version').agg({'sum_gamerounds': ['sum', 'count']}).reset_index()\n"
   ]
  },
  {
   "cell_type": "markdown",
   "id": "16a5db74",
   "metadata": {
    "papermill": {
     "duration": 0.011612,
     "end_time": "2023-03-25T22:30:10.627809",
     "exception": false,
     "start_time": "2023-03-25T22:30:10.616197",
     "status": "completed"
    },
    "tags": []
   },
   "source": [
    "<strong style=\"color:#443C68;font-size:30px;font-family:Georgia;text-align:center;\"> Normality</strong>\n",
    "\n",
    "\n"
   ]
  },
  {
   "cell_type": "code",
   "execution_count": 17,
   "id": "89af4a55",
   "metadata": {
    "execution": {
     "iopub.execute_input": "2023-03-25T22:30:10.653848Z",
     "iopub.status.busy": "2023-03-25T22:30:10.652755Z",
     "iopub.status.idle": "2023-03-25T22:30:10.671736Z",
     "shell.execute_reply": "2023-03-25T22:30:10.670707Z"
    },
    "papermill": {
     "duration": 0.034836,
     "end_time": "2023-03-25T22:30:10.674327",
     "exception": false,
     "start_time": "2023-03-25T22:30:10.639491",
     "status": "completed"
    },
    "tags": []
   },
   "outputs": [
    {
     "name": "stdout",
     "output_type": "stream",
     "text": [
      "\u001b[1msum_gamerounds normality for gate 40: \n",
      "\u001b[0m\n",
      "Test Stat = 0.4886, p-value = 0.0000\n",
      "\u001b[1mOur series is not normally distributed. \n",
      "\u001b[0m\n"
     ]
    }
   ],
   "source": [
    "print(\"\\033[1msum_gamerounds normality for gate 40: \\n\\033[0m\")\n",
    "test_stat, pvalue = shapiro(df.loc[df[\"version\"] == \"gate_30\", \"sum_gamerounds\"])\n",
    "print('Test Stat = %.4f, p-value = %.4f' % (test_stat, pvalue))\n",
    "\n",
    "print(\"\\033[1mOur series is not normally distributed. \\n\\033[0m\")\n"
   ]
  },
  {
   "cell_type": "code",
   "execution_count": 18,
   "id": "ea78bbc6",
   "metadata": {
    "execution": {
     "iopub.execute_input": "2023-03-25T22:30:10.700036Z",
     "iopub.status.busy": "2023-03-25T22:30:10.699555Z",
     "iopub.status.idle": "2023-03-25T22:30:10.718421Z",
     "shell.execute_reply": "2023-03-25T22:30:10.716645Z"
    },
    "papermill": {
     "duration": 0.03527,
     "end_time": "2023-03-25T22:30:10.721408",
     "exception": false,
     "start_time": "2023-03-25T22:30:10.686138",
     "status": "completed"
    },
    "tags": []
   },
   "outputs": [
    {
     "name": "stdout",
     "output_type": "stream",
     "text": [
      "\u001b[1msum_gamerounds normality for gate 40: \n",
      "\u001b[0m\n",
      "Test Stat = 0.4826, p-value = 0.0000\n",
      "\u001b[1mOur series is not normally distributed. \n",
      "\u001b[0m\n"
     ]
    }
   ],
   "source": [
    "print(\"\\033[1msum_gamerounds normality for gate 40: \\n\\033[0m\")\n",
    "test_stat, pvalue = shapiro(df.loc[df[\"version\"] == \"gate_40\", \"sum_gamerounds\"])\n",
    "print('Test Stat = %.4f, p-value = %.4f' % (test_stat, pvalue))\n",
    "\n",
    "\n",
    "print(\"\\033[1mOur series is not normally distributed. \\n\\033[0m\")\n"
   ]
  },
  {
   "cell_type": "markdown",
   "id": "46888618",
   "metadata": {
    "papermill": {
     "duration": 0.011451,
     "end_time": "2023-03-25T22:30:10.744658",
     "exception": false,
     "start_time": "2023-03-25T22:30:10.733207",
     "status": "completed"
    },
    "tags": []
   },
   "source": [
    "<strong style=\"color:#443C68;font-size:30px;font-family:Georgia;text-align:center;\"> Homogeneity of variances </strong>\n",
    "\n"
   ]
  },
  {
   "cell_type": "code",
   "execution_count": 19,
   "id": "2d57be50",
   "metadata": {
    "execution": {
     "iopub.execute_input": "2023-03-25T22:30:10.770329Z",
     "iopub.status.busy": "2023-03-25T22:30:10.769922Z",
     "iopub.status.idle": "2023-03-25T22:30:10.798173Z",
     "shell.execute_reply": "2023-03-25T22:30:10.797159Z"
    },
    "papermill": {
     "duration": 0.044418,
     "end_time": "2023-03-25T22:30:10.800820",
     "exception": false,
     "start_time": "2023-03-25T22:30:10.756402",
     "status": "completed"
    },
    "tags": []
   },
   "outputs": [
    {
     "name": "stdout",
     "output_type": "stream",
     "text": [
      "\u001b[1msum_gamerounds normality for gate 30 and gate 40: \n",
      "\u001b[0m\n",
      "Test Stat = 0.0751, p-value = 0.7840\n",
      "\u001b[1mOur variance of series is homogen. \n",
      "\u001b[0m\n"
     ]
    }
   ],
   "source": [
    "print(\"\\033[1msum_gamerounds normality for gate 30 and gate 40: \\n\\033[0m\")\n",
    "\n",
    "\n",
    "test_stat, pvalue = levene(df.loc[df[\"version\"] == \"gate_30\", \"sum_gamerounds\"],\n",
    "                           df.loc[df[\"version\"] == \"gate_40\", \"sum_gamerounds\"])\n",
    "print('Test Stat = %.4f, p-value = %.4f' % (test_stat, pvalue))\n",
    "\n",
    "print(\"\\033[1mOur variance of series is homogen. \\n\\033[0m\")\n"
   ]
  },
  {
   "cell_type": "code",
   "execution_count": 20,
   "id": "80aa17c2",
   "metadata": {
    "execution": {
     "iopub.execute_input": "2023-03-25T22:30:10.827076Z",
     "iopub.status.busy": "2023-03-25T22:30:10.826330Z",
     "iopub.status.idle": "2023-03-25T22:30:10.905689Z",
     "shell.execute_reply": "2023-03-25T22:30:10.904008Z"
    },
    "papermill": {
     "duration": 0.095629,
     "end_time": "2023-03-25T22:30:10.908433",
     "exception": false,
     "start_time": "2023-03-25T22:30:10.812804",
     "status": "completed"
    },
    "tags": []
   },
   "outputs": [
    {
     "name": "stdout",
     "output_type": "stream",
     "text": [
      "Test Stat = 1024285761.5000, p-value = 0.0509\n",
      "\u001b[1mWe can not reject H0 hypothesis, so that A/B groups are similar!.\n",
      "\u001b[0m\n"
     ]
    }
   ],
   "source": [
    "#non-parametrik test\n",
    "test_stat, pvalue = mannwhitneyu(df.loc[df[\"version\"] == \"gate_30\", \"sum_gamerounds\"],\n",
    "                                 df.loc[df[\"version\"] == \"gate_40\", \"sum_gamerounds\"])\n",
    "\n",
    "print('Test Stat = %.4f, p-value = %.4f' % (test_stat, pvalue))\n",
    "\n",
    "print(\"\\033[1mWe can not reject H0 hypothesis, \"\n",
    "              \"so that A/B groups are similar!.\\n\\033[0m\")"
   ]
  },
  {
   "cell_type": "markdown",
   "id": "b8d0e258",
   "metadata": {
    "papermill": {
     "duration": 0.011516,
     "end_time": "2023-03-25T22:30:10.931839",
     "exception": false,
     "start_time": "2023-03-25T22:30:10.920323",
     "status": "completed"
    },
    "tags": []
   },
   "source": [
    "\n",
    "<strong style=\"color:#443C68;font-size:40px;font-family:Georgia;text-align:center;\"> Conclusion: </strong>\n",
    "\n",
    "<strong style=\"color:#443C68;font-size:30px;font-family:Arial;text-align:center;\"> If we need to summarise briefly;</strong>\n",
    "\n",
    "<strong style=\"color:#443C68;font-size:20px;font-family:Arial;text-align:center;\"> We apply Mann Whitney U test for comparing sum_gamerounds for both version.</strong>\n",
    " \n",
    " <strong style=\"color:#443C68;font-size:20px;font-family:Arial;text-align:center;\"> For Mann Whitney U test, we don't have statistically significant difference between groups. They have similar sum_gamerounds.</strong>\n",
    "      \n",
    " <strong style=\"color:#443C68;font-size:20px;font-family:Arial;text-align:center;\">The Mann Whitney U test I ran before cleaning out the outliers yielded p_value=0.0502. </strong>\n",
    "          \n",
    " <strong style=\"color:#443C68;font-size:20px;font-family:Arial;text-align:center;\">When I cleared the maximum value, p_value=0.0509 appeared. In this case, we can say that the H0 hypothesis cannot be rejected. </strong>\n",
    "               \n",
    "<strong style=\"color:#443C68;font-size:20px;font-family:Arial;text-align:center;\">However, in order to reach a clearer conclusion, it is necessary to perform A/B test on a larger data set. In addition, a larger change to the outliers may reduce the yyy value to less than 0.05.</strong>\n",
    "\n"
   ]
  },
  {
   "cell_type": "markdown",
   "id": "a5714e9d",
   "metadata": {
    "papermill": {
     "duration": 0.011557,
     "end_time": "2023-03-25T22:30:10.955039",
     "exception": false,
     "start_time": "2023-03-25T22:30:10.943482",
     "status": "completed"
    },
    "tags": []
   },
   "source": [
    "<p style=\"padding:15px;\n",
    "background-color:#f4ebdc;\n",
    "margin:0; color:#B3005E; border:2px dotted #C689C6; font-family:Charter; font-weight: bold; font-size:250%; text-align:center; overflow:hidden; font-weight:500\">If you like this then please UPVOTE this. Your opinions and suggestions are very important to me...Thanks <img src=\"https://media.giphy.com/media/WUlplcMpOCEmTGBtBW/giphy.gif\" width=\"100\"> <div style=\"float:center;margin-left:270px;max-width:50%;\">"
   ]
  },
  {
   "cell_type": "markdown",
   "id": "c9ccbba2",
   "metadata": {
    "papermill": {
     "duration": 0.011415,
     "end_time": "2023-03-25T22:30:10.978201",
     "exception": false,
     "start_time": "2023-03-25T22:30:10.966786",
     "status": "completed"
    },
    "tags": []
   },
   "source": [
    "\n"
   ]
  },
  {
   "cell_type": "markdown",
   "id": "3e16d782",
   "metadata": {
    "papermill": {
     "duration": 0.011229,
     "end_time": "2023-03-25T22:30:11.001234",
     "exception": false,
     "start_time": "2023-03-25T22:30:10.990005",
     "status": "completed"
    },
    "tags": []
   },
   "source": [
    "<p style=\"padding:15px;\n",
    "background-color:#f4ebdc;\n",
    "margin:0; color:#B3005E; border:2px dotted #C689C6; font-family:Charter; font-weight: bold; font-size:250%; text-align:center; overflow:hidden; font-weight:500\">\n",
    "FOR MORE:</p> \n",
    "\n",
    "https://www.linkedin.com/in/serdar-ozturk/\n",
    "\n",
    "https://github.com/Serdar-Trk\n",
    "\n",
    "https://medium.com/@serdar.f95\n",
    "\n",
    "<p style=\"padding:15px;\n",
    "background-color:#f4ebdc;\n",
    "margin:0; color:#B3005E; border:2px dotted #C689C6; font-family:Charter; font-weight: bold; font-size:250%; text-align:center; overflow:hidden; font-weight:500\">CREDITS:</p> \n",
    "\n",
    "[https://numpy.org/](http://)\n",
    "\n",
    "[https://seaborn.pydata.org/](http://)\n",
    "\n",
    "[https://pandas.pydata.org](http://)\n",
    "\n",
    "[https://pandas.pydata.org/](http://)\n",
    "\n",
    "[https://learning.miuul.com](http://)"
   ]
  }
 ],
 "metadata": {
  "kernelspec": {
   "display_name": "Python 3",
   "language": "python",
   "name": "python3"
  },
  "language_info": {
   "codemirror_mode": {
    "name": "ipython",
    "version": 3
   },
   "file_extension": ".py",
   "mimetype": "text/x-python",
   "name": "python",
   "nbconvert_exporter": "python",
   "pygments_lexer": "ipython3",
   "version": "3.7.12"
  },
  "papermill": {
   "default_parameters": {},
   "duration": 14.753094,
   "end_time": "2023-03-25T22:30:11.734303",
   "environment_variables": {},
   "exception": null,
   "input_path": "__notebook__.ipynb",
   "output_path": "__notebook__.ipynb",
   "parameters": {},
   "start_time": "2023-03-25T22:29:56.981209",
   "version": "2.4.0"
  }
 },
 "nbformat": 4,
 "nbformat_minor": 5
}
