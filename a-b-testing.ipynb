{
 "cells": [
  {
   "cell_type": "markdown",
   "id": "af0aecb2",
   "metadata": {
    "papermill": {
     "duration": 0.010764,
     "end_time": "2023-03-15T12:55:25.111251",
     "exception": false,
     "start_time": "2023-03-15T12:55:25.100487",
     "status": "completed"
    },
    "tags": []
   },
   "source": [
    "<strong style=\"color:#B3005E;font-size:60px;font-family:Georgia;text-align:center;\">A/B Testing </strong>\n",
    "\n",
    "\n",
    "<div style=\"float:center;margin-left:100px;max-width:100%;\">\n",
    "<img src=\"https://i.imgur.com/7BiesIO.gif\"></div>\n",
    "\n",
    "\n",
    "\n",
    "<strong style=\"color:#B3005E;font-size:20px;font-family:Georgia;text-align:center;\">“A/B testing can provide value, but it shouldn’t come at the expense of other areas of design.”\n",
    " </strong>\n",
    " \n",
    " The process of decision making in design has always been a popular area of discussion. Why do some designers make choices that others don’t, and why do some designs seemingly work better than others?\n",
    "\n",
    "From academic study to sketches and anecdotes, the design world is fascinated with process. But for all of the legendary stories of lore, few anecdotes in recent times have had the staying power of Google and its 41 shades of blue.\n",
    "\n",
    "In trying to determine which out of 2 shades of blue to use for link text, Google tested not only the 2, but also the 39 shades of blue in between. The story outlines a relatively minute decision but highlights a rapidly growing approach to making decisions. One based in experimentation, alternatives, and, most importantly, data.\n",
    "\n",
    "\n",
    "<strong style=\"color:#B3005E;font-size:20px;font-family:Georgia;\"> AB Testing Process </strong>\n",
    "\n",
    "* Understanding business problem & data\n",
    "* Detect and resolve problems in the data (Missing Value, Outliers, Unexpected Value)\n",
    "* Look summary stats and plots\n",
    "* Apply hypothesis testing and check assumptions\n",
    "* Check Normality & Homogeneity\n",
    "* Apply tests (Shapiro, Levene Test, T-Test, Welch Test, Mann Whitney U Test)\n",
    "* Evaluate the results\n",
    "* Make inferences\n",
    "* Recommend business decision to your customer/director/ceo etc.\n",
    "\n",
    "<div class=\"inner_cell\">\n",
    "<div class=\"text_cell_render border-box-sizing rendered_html\">\n",
    "<p></p><div class=\"list-group\" id=\"list-tab\" role=\"tablist\">\n",
    "  <h3 class=\"list-group-item list-group-item-action active\" data-toggle=\"list\" role=\"tab\" aria-controls=\"home\" style = \"background-color:#B3005E;font-family:Georgia;color:#FFEA20;font-size:200%;text-align:LEFT;border-radius:20px 40px;overflow:hidden;border-style:dotted;border-width:1.8px;border-color:#FFEA20;\">...Table of Contents...</h3>\n",
    "  <a class=\"list-group-item list-group-item-action\" data-toggle=\"list\" href=\"#1\" role=\"tab\" aria-controls=\"home\" target=\"_self\" style = \"color:#000000; font-family:Charter;font-size:120%;\">Packages-Libraries-Settings <span class=\"badge badge-primary badge-pill\">1</span></a>\n",
    "  <a class=\"list-group-item list-group-item-action\" data-toggle=\"list\" href=\"#2\" role=\"tab\" aria-controls=\"messages\" target=\"_self\" style = \"color:#000000; font-family:Charter;font-size:120%;\">Load Data<span class=\"badge badge-primary badge-pill\">2</span></a>\n",
    "  <a class=\"list-group-item list-group-item-action\" data-toggle=\"list\" href=\"#3\" role=\"tab\" aria-controls=\"settings\" target=\"_self\" style = \"color:#000000; font-family:Charter;font-size:120%;\">Data Understanding & Summary Stats<span class=\"badge badge-primary badge-pill\">3</span></a>\n",
    "  <a class=\"list-group-item list-group-item-action\" data-toggle=\"list\" href=\"#4\" role=\"tab\" aria-controls=\"settings\" target=\"_self\" style = \"color:#000000; font-family:Charter;font-size:120%;\">A/B Testing<span class=\"badge badge-primary badge-pill\">4</span></a> \n",
    "  <a class=\"list-group-item list-group-item-action\" data-toggle=\"list\" href=\"#5\" role=\"tab\" aria-controls=\"settings\" target=\"_self\" style = \"color:#000000; font-family:Charter;font-size:120%;\"> ^^^^^<span class=\"badge badge-primary badge-pill\">5</span></a>\n",
    "</div>\n",
    "</div>\n",
    "</div>"
   ]
  },
  {
   "cell_type": "markdown",
   "id": "1183871d",
   "metadata": {
    "papermill": {
     "duration": 0.009784,
     "end_time": "2023-03-15T12:55:25.129914",
     "exception": false,
     "start_time": "2023-03-15T12:55:25.120130",
     "status": "completed"
    },
    "tags": []
   },
   "source": [
    "<div style=\"float:center;margin-left:150px;max-width:100%;\">\n",
    "<img src=\"https://miro.medium.com/v2/resize:fit:1400/0*BKbkXes6rKTrVA1f.\"></div>\n",
    "\n"
   ]
  },
  {
   "cell_type": "markdown",
   "id": "48a94a7f",
   "metadata": {
    "papermill": {
     "duration": 0.010703,
     "end_time": "2023-03-15T12:55:25.148669",
     "exception": false,
     "start_time": "2023-03-15T12:55:25.137966",
     "status": "completed"
    },
    "tags": []
   },
   "source": [
    "<a id = \"1\"></a>\n",
    "<strong style=\"color:#B3005E;font-size:20px;font-family:Georgia;text-align:center;\">  Packages-Libraries-Settings 📜 ⚙️ </strong>\n"
   ]
  },
  {
   "cell_type": "code",
   "execution_count": 1,
   "id": "78adaaed",
   "metadata": {
    "execution": {
     "iopub.execute_input": "2023-03-15T12:55:25.167012Z",
     "iopub.status.busy": "2023-03-15T12:55:25.165098Z",
     "iopub.status.idle": "2023-03-15T12:55:26.970515Z",
     "shell.execute_reply": "2023-03-15T12:55:26.968269Z"
    },
    "papermill": {
     "duration": 1.818187,
     "end_time": "2023-03-15T12:55:26.974077",
     "exception": false,
     "start_time": "2023-03-15T12:55:25.155890",
     "status": "completed"
    },
    "tags": []
   },
   "outputs": [],
   "source": [
    "#!pip install statsmodels\n",
    "import itertools\n",
    "import numpy as np\n",
    "import pandas as pd\n",
    "import matplotlib.pyplot as plt\n",
    "import seaborn as sns\n",
    "import warnings\n",
    "warnings.filterwarnings(\"ignore\")\n",
    "warnings.simplefilter(action='ignore', category=FutureWarning)\n",
    "import statsmodels.stats.api as sms\n",
    "from scipy.stats import ttest_1samp, shapiro, levene, ttest_ind, mannwhitneyu, \\\n",
    "    pearsonr, spearmanr, kendalltau, f_oneway, kruskal, normaltest\n",
    "from statsmodels.stats.proportion import proportions_ztest\n",
    "\n",
    "pd.set_option('display.max_columns', None)\n",
    "pd.set_option('display.max_rows', 10)\n",
    "pd.set_option('display.float_format', lambda x: '%.5f' % x)"
   ]
  },
  {
   "cell_type": "markdown",
   "id": "0db627da",
   "metadata": {
    "papermill": {
     "duration": 0.006944,
     "end_time": "2023-03-15T12:55:26.987817",
     "exception": false,
     "start_time": "2023-03-15T12:55:26.980873",
     "status": "completed"
    },
    "tags": []
   },
   "source": [
    "<a id = \"2\"></a>\n",
    "<strong style=\"color:#B3005E;font-size:20px;font-family:Georgia;text-align:center;\">  Load Data </strong>"
   ]
  },
  {
   "cell_type": "code",
   "execution_count": 2,
   "id": "17f1d8d1",
   "metadata": {
    "execution": {
     "iopub.execute_input": "2023-03-15T12:55:27.003344Z",
     "iopub.status.busy": "2023-03-15T12:55:27.002913Z",
     "iopub.status.idle": "2023-03-15T12:55:27.061880Z",
     "shell.execute_reply": "2023-03-15T12:55:27.060261Z"
    },
    "papermill": {
     "duration": 0.070481,
     "end_time": "2023-03-15T12:55:27.064971",
     "exception": false,
     "start_time": "2023-03-15T12:55:26.994490",
     "status": "completed"
    },
    "tags": []
   },
   "outputs": [
    {
     "data": {
      "text/html": [
       "<div>\n",
       "<style scoped>\n",
       "    .dataframe tbody tr th:only-of-type {\n",
       "        vertical-align: middle;\n",
       "    }\n",
       "\n",
       "    .dataframe tbody tr th {\n",
       "        vertical-align: top;\n",
       "    }\n",
       "\n",
       "    .dataframe thead th {\n",
       "        text-align: right;\n",
       "    }\n",
       "</style>\n",
       "<table border=\"1\" class=\"dataframe\">\n",
       "  <thead>\n",
       "    <tr style=\"text-align: right;\">\n",
       "      <th></th>\n",
       "      <th>USER_ID</th>\n",
       "      <th>VARIANT_NAME</th>\n",
       "      <th>REVENUE</th>\n",
       "    </tr>\n",
       "  </thead>\n",
       "  <tbody>\n",
       "    <tr>\n",
       "      <th>0</th>\n",
       "      <td>737</td>\n",
       "      <td>variant</td>\n",
       "      <td>0.00000</td>\n",
       "    </tr>\n",
       "    <tr>\n",
       "      <th>1</th>\n",
       "      <td>2423</td>\n",
       "      <td>control</td>\n",
       "      <td>0.00000</td>\n",
       "    </tr>\n",
       "    <tr>\n",
       "      <th>2</th>\n",
       "      <td>9411</td>\n",
       "      <td>control</td>\n",
       "      <td>0.00000</td>\n",
       "    </tr>\n",
       "    <tr>\n",
       "      <th>3</th>\n",
       "      <td>7311</td>\n",
       "      <td>control</td>\n",
       "      <td>0.00000</td>\n",
       "    </tr>\n",
       "    <tr>\n",
       "      <th>4</th>\n",
       "      <td>6174</td>\n",
       "      <td>variant</td>\n",
       "      <td>0.00000</td>\n",
       "    </tr>\n",
       "  </tbody>\n",
       "</table>\n",
       "</div>"
      ],
      "text/plain": [
       "   USER_ID VARIANT_NAME  REVENUE\n",
       "0      737      variant  0.00000\n",
       "1     2423      control  0.00000\n",
       "2     9411      control  0.00000\n",
       "3     7311      control  0.00000\n",
       "4     6174      variant  0.00000"
      ]
     },
     "execution_count": 2,
     "metadata": {},
     "output_type": "execute_result"
    }
   ],
   "source": [
    "df = pd.read_csv('/kaggle/input/ab-test-data/AB_Test_Results.csv')\n",
    "df.head()"
   ]
  },
  {
   "cell_type": "markdown",
   "id": "eacaf3b0",
   "metadata": {
    "papermill": {
     "duration": 0.008075,
     "end_time": "2023-03-15T12:55:27.080085",
     "exception": false,
     "start_time": "2023-03-15T12:55:27.072010",
     "status": "completed"
    },
    "tags": []
   },
   "source": [
    "<strong style=\"color:#B3005E;font-size:18px;font-family:Georgia;\">  We wonder if there is a statistical difference in the revenues according to the variables. Let's observe together how we can find out about this. After making our observations, let's set up our hypothesis. </strong>\n"
   ]
  },
  {
   "cell_type": "markdown",
   "id": "c6c561a5",
   "metadata": {
    "papermill": {
     "duration": 0.006452,
     "end_time": "2023-03-15T12:55:27.094194",
     "exception": false,
     "start_time": "2023-03-15T12:55:27.087742",
     "status": "completed"
    },
    "tags": []
   },
   "source": [
    "<a id = \"3\"></a>\n",
    "<strong style=\"color:#B3005E;font-size:30px;font-family:Georgia;text-align:center;\">  Data Understanding & Summary Stats </strong>"
   ]
  },
  {
   "cell_type": "code",
   "execution_count": 3,
   "id": "31583197",
   "metadata": {
    "execution": {
     "iopub.execute_input": "2023-03-15T12:55:27.113312Z",
     "iopub.status.busy": "2023-03-15T12:55:27.112610Z",
     "iopub.status.idle": "2023-03-15T12:55:27.165871Z",
     "shell.execute_reply": "2023-03-15T12:55:27.162899Z"
    },
    "papermill": {
     "duration": 0.067215,
     "end_time": "2023-03-15T12:55:27.169328",
     "exception": false,
     "start_time": "2023-03-15T12:55:27.102113",
     "status": "completed"
    },
    "tags": []
   },
   "outputs": [
    {
     "name": "stdout",
     "output_type": "stream",
     "text": [
      "------------------------------- SHAPE --------------------------------\n",
      "Rows: 10000\n",
      "Columns: 3\n",
      "------------------------------- TYPES --------------------------------\n",
      "USER_ID           int64\n",
      "VARIANT_NAME     object\n",
      "REVENUE         float64\n",
      "dtype: object\n",
      "-------------------------------- HEAD --------------------------------\n",
      "   USER_ID VARIANT_NAME  REVENUE\n",
      "0      737      variant  0.00000\n",
      "1     2423      control  0.00000\n",
      "2     9411      control  0.00000\n",
      "3     7311      control  0.00000\n",
      "4     6174      variant  0.00000\n",
      "-------------------------------- TAIL --------------------------------\n",
      "      USER_ID VARIANT_NAME  REVENUE\n",
      "9995     1981      control  0.00000\n",
      "9996      502      variant  0.00000\n",
      "9997     9214      variant  0.00000\n",
      "9998     7741      control  0.00000\n",
      "9999     9468      control  0.00000\n",
      "--------------------------- MISSING VALUES ---------------------------\n",
      "USER_ID         0\n",
      "VARIANT_NAME    0\n",
      "REVENUE         0\n",
      "dtype: int64\n",
      "------------------------- DUPLICATED VALUES --------------------------\n",
      "2067\n",
      "------------------------------ DESCRIBE ------------------------------\n",
      "              count       mean        std     min      0%        10%  \\\n",
      "USER_ID 10000.00000 4981.08020 2890.59011 2.00000 2.00000 1008.80000   \n",
      "REVENUE 10000.00000    0.09945    2.31853 0.00000 0.00000    0.00000   \n",
      "\n",
      "               20%        30%        40%        50%        60%        70%  \\\n",
      "USER_ID 1962.60000 2947.00000 3940.60000 4962.00000 5965.00000 6994.00000   \n",
      "REVENUE    0.00000    0.00000    0.00000    0.00000    0.00000    0.00000   \n",
      "\n",
      "               80%        90%        100%         max  \n",
      "USER_ID 8011.00000 8998.00000 10000.00000 10000.00000  \n",
      "REVENUE    0.00000    0.00000   196.01000   196.01000  \n"
     ]
    }
   ],
   "source": [
    "def check_df(dataframe, head=5):\n",
    "    print(\" SHAPE \".center(70,'-'))\n",
    "    print('Rows: {}'.format(dataframe.shape[0]))\n",
    "    print('Columns: {}'.format(dataframe.shape[1]))\n",
    "    print(\" TYPES \".center(70,'-'))\n",
    "    print(dataframe.dtypes)\n",
    "    print(\" HEAD \".center(70,'-'))\n",
    "    print(dataframe.head(head))\n",
    "    print(\" TAIL \".center(70,'-'))\n",
    "    print(dataframe.tail(head))\n",
    "    print(\" MISSING VALUES \".center(70,'-'))\n",
    "    print(dataframe.isnull().sum())\n",
    "    print(\" DUPLICATED VALUES \".center(70,'-'))\n",
    "    print(dataframe.duplicated().sum())\n",
    "    print(\" DESCRIBE \".center(70,'-'))\n",
    "    print(dataframe.describe([0, 0.10, 0.20, 0.30, 0.40, 0.50, 0.60, 0.70, 0.80, 0.90, 1]).T)\n",
    "    \n",
    "check_df(df)"
   ]
  },
  {
   "cell_type": "code",
   "execution_count": 4,
   "id": "f5cd74d9",
   "metadata": {
    "execution": {
     "iopub.execute_input": "2023-03-15T12:55:27.187436Z",
     "iopub.status.busy": "2023-03-15T12:55:27.185880Z",
     "iopub.status.idle": "2023-03-15T12:55:27.195122Z",
     "shell.execute_reply": "2023-03-15T12:55:27.193587Z"
    },
    "papermill": {
     "duration": 0.020797,
     "end_time": "2023-03-15T12:55:27.198058",
     "exception": false,
     "start_time": "2023-03-15T12:55:27.177261",
     "status": "completed"
    },
    "tags": []
   },
   "outputs": [
    {
     "name": "stdout",
     "output_type": "stream",
     "text": [
      "False\n"
     ]
    }
   ],
   "source": [
    "# Number of Unique User\n",
    "print(df['USER_ID'].nunique() == df.shape[0])"
   ]
  },
  {
   "cell_type": "code",
   "execution_count": 5,
   "id": "86b53a35",
   "metadata": {
    "execution": {
     "iopub.execute_input": "2023-03-15T12:55:27.214979Z",
     "iopub.status.busy": "2023-03-15T12:55:27.214551Z",
     "iopub.status.idle": "2023-03-15T12:55:27.231283Z",
     "shell.execute_reply": "2023-03-15T12:55:27.229866Z"
    },
    "papermill": {
     "duration": 0.029286,
     "end_time": "2023-03-15T12:55:27.234349",
     "exception": false,
     "start_time": "2023-03-15T12:55:27.205063",
     "status": "completed"
    },
    "tags": []
   },
   "outputs": [],
   "source": [
    "#  remove USER_ID who have two groups\n",
    "\n",
    "duplicates = (df.groupby(\"USER_ID\")[\"VARIANT_NAME\"].nunique() == 1)\n",
    "duplicates = duplicates[duplicates]\n",
    "\n",
    "# USER_ID_nunique data\n",
    "\n",
    "df = df[df[\"USER_ID\"].isin(duplicates.index)]"
   ]
  },
  {
   "cell_type": "code",
   "execution_count": 6,
   "id": "22e5c52a",
   "metadata": {
    "execution": {
     "iopub.execute_input": "2023-03-15T12:55:27.253535Z",
     "iopub.status.busy": "2023-03-15T12:55:27.252525Z",
     "iopub.status.idle": "2023-03-15T12:55:27.279747Z",
     "shell.execute_reply": "2023-03-15T12:55:27.277923Z"
    },
    "papermill": {
     "duration": 0.040641,
     "end_time": "2023-03-15T12:55:27.282548",
     "exception": false,
     "start_time": "2023-03-15T12:55:27.241907",
     "status": "completed"
    },
    "tags": []
   },
   "outputs": [
    {
     "name": "stdout",
     "output_type": "stream",
     "text": [
      "------------------------------ DESCRIBE ------------------------------\n"
     ]
    },
    {
     "data": {
      "text/html": [
       "<div>\n",
       "<style scoped>\n",
       "    .dataframe tbody tr th:only-of-type {\n",
       "        vertical-align: middle;\n",
       "    }\n",
       "\n",
       "    .dataframe tbody tr th {\n",
       "        vertical-align: top;\n",
       "    }\n",
       "\n",
       "    .dataframe thead th {\n",
       "        text-align: right;\n",
       "    }\n",
       "</style>\n",
       "<table border=\"1\" class=\"dataframe\">\n",
       "  <thead>\n",
       "    <tr style=\"text-align: right;\">\n",
       "      <th></th>\n",
       "      <th>count</th>\n",
       "      <th>mean</th>\n",
       "      <th>std</th>\n",
       "      <th>min</th>\n",
       "      <th>1%</th>\n",
       "      <th>5%</th>\n",
       "      <th>10%</th>\n",
       "      <th>20%</th>\n",
       "      <th>50%</th>\n",
       "      <th>80%</th>\n",
       "      <th>90%</th>\n",
       "      <th>95%</th>\n",
       "      <th>99%</th>\n",
       "      <th>max</th>\n",
       "    </tr>\n",
       "  </thead>\n",
       "  <tbody>\n",
       "    <tr>\n",
       "      <th>REVENUE</th>\n",
       "      <td>6070.00000</td>\n",
       "      <td>0.10706</td>\n",
       "      <td>2.67350</td>\n",
       "      <td>0.00000</td>\n",
       "      <td>0.00000</td>\n",
       "      <td>0.00000</td>\n",
       "      <td>0.00000</td>\n",
       "      <td>0.00000</td>\n",
       "      <td>0.00000</td>\n",
       "      <td>0.00000</td>\n",
       "      <td>0.00000</td>\n",
       "      <td>0.00000</td>\n",
       "      <td>2.16000</td>\n",
       "      <td>196.01000</td>\n",
       "    </tr>\n",
       "  </tbody>\n",
       "</table>\n",
       "</div>"
      ],
      "text/plain": [
       "             count    mean     std     min      1%      5%     10%     20%  \\\n",
       "REVENUE 6070.00000 0.10706 2.67350 0.00000 0.00000 0.00000 0.00000 0.00000   \n",
       "\n",
       "            50%     80%     90%     95%     99%       max  \n",
       "REVENUE 0.00000 0.00000 0.00000 0.00000 2.16000 196.01000  "
      ]
     },
     "execution_count": 6,
     "metadata": {},
     "output_type": "execute_result"
    }
   ],
   "source": [
    "# and then take only these users\n",
    "print(\" DESCRIBE \".center(70,'-'))\n",
    "\n",
    "df.describe([0.01, 0.05, 0.10, 0.20, 0.80, 0.90, 0.95, 0.99])[[\"REVENUE\"]].T"
   ]
  },
  {
   "cell_type": "code",
   "execution_count": 7,
   "id": "20ca255d",
   "metadata": {
    "execution": {
     "iopub.execute_input": "2023-03-15T12:55:27.303040Z",
     "iopub.status.busy": "2023-03-15T12:55:27.301323Z",
     "iopub.status.idle": "2023-03-15T12:55:27.316216Z",
     "shell.execute_reply": "2023-03-15T12:55:27.314787Z"
    },
    "papermill": {
     "duration": 0.028379,
     "end_time": "2023-03-15T12:55:27.319767",
     "exception": false,
     "start_time": "2023-03-15T12:55:27.291388",
     "status": "completed"
    },
    "tags": []
   },
   "outputs": [
    {
     "data": {
      "text/html": [
       "<div>\n",
       "<style scoped>\n",
       "    .dataframe tbody tr th:only-of-type {\n",
       "        vertical-align: middle;\n",
       "    }\n",
       "\n",
       "    .dataframe tbody tr th {\n",
       "        vertical-align: top;\n",
       "    }\n",
       "\n",
       "    .dataframe thead th {\n",
       "        text-align: right;\n",
       "    }\n",
       "</style>\n",
       "<table border=\"1\" class=\"dataframe\">\n",
       "  <thead>\n",
       "    <tr style=\"text-align: right;\">\n",
       "      <th></th>\n",
       "      <th>USER_ID</th>\n",
       "      <th>VARIANT_NAME</th>\n",
       "      <th>REVENUE</th>\n",
       "    </tr>\n",
       "  </thead>\n",
       "  <tbody>\n",
       "    <tr>\n",
       "      <th>1437</th>\n",
       "      <td>3342</td>\n",
       "      <td>control</td>\n",
       "      <td>196.01000</td>\n",
       "    </tr>\n",
       "    <tr>\n",
       "      <th>8168</th>\n",
       "      <td>2166</td>\n",
       "      <td>control</td>\n",
       "      <td>29.32000</td>\n",
       "    </tr>\n",
       "    <tr>\n",
       "      <th>2482</th>\n",
       "      <td>7356</td>\n",
       "      <td>variant</td>\n",
       "      <td>23.04000</td>\n",
       "    </tr>\n",
       "    <tr>\n",
       "      <th>6412</th>\n",
       "      <td>1053</td>\n",
       "      <td>control</td>\n",
       "      <td>20.07000</td>\n",
       "    </tr>\n",
       "    <tr>\n",
       "      <th>5217</th>\n",
       "      <td>3684</td>\n",
       "      <td>variant</td>\n",
       "      <td>19.47000</td>\n",
       "    </tr>\n",
       "    <tr>\n",
       "      <th>5530</th>\n",
       "      <td>282</td>\n",
       "      <td>control</td>\n",
       "      <td>18.56000</td>\n",
       "    </tr>\n",
       "    <tr>\n",
       "      <th>758</th>\n",
       "      <td>4445</td>\n",
       "      <td>control</td>\n",
       "      <td>17.05000</td>\n",
       "    </tr>\n",
       "    <tr>\n",
       "      <th>4031</th>\n",
       "      <td>2059</td>\n",
       "      <td>control</td>\n",
       "      <td>14.24000</td>\n",
       "    </tr>\n",
       "    <tr>\n",
       "      <th>9019</th>\n",
       "      <td>1973</td>\n",
       "      <td>control</td>\n",
       "      <td>14.07000</td>\n",
       "    </tr>\n",
       "    <tr>\n",
       "      <th>4561</th>\n",
       "      <td>4966</td>\n",
       "      <td>variant</td>\n",
       "      <td>12.99000</td>\n",
       "    </tr>\n",
       "  </tbody>\n",
       "</table>\n",
       "</div>"
      ],
      "text/plain": [
       "      USER_ID VARIANT_NAME   REVENUE\n",
       "1437     3342      control 196.01000\n",
       "8168     2166      control  29.32000\n",
       "2482     7356      variant  23.04000\n",
       "6412     1053      control  20.07000\n",
       "5217     3684      variant  19.47000\n",
       "5530      282      control  18.56000\n",
       "758      4445      control  17.05000\n",
       "4031     2059      control  14.24000\n",
       "9019     1973      control  14.07000\n",
       "4561     4966      variant  12.99000"
      ]
     },
     "execution_count": 7,
     "metadata": {},
     "output_type": "execute_result"
    }
   ],
   "source": [
    "df.sort_values(by='REVENUE', ascending=False).head(10)"
   ]
  },
  {
   "cell_type": "code",
   "execution_count": 8,
   "id": "8da69cc8",
   "metadata": {
    "execution": {
     "iopub.execute_input": "2023-03-15T12:55:27.338478Z",
     "iopub.status.busy": "2023-03-15T12:55:27.337580Z",
     "iopub.status.idle": "2023-03-15T12:55:27.369431Z",
     "shell.execute_reply": "2023-03-15T12:55:27.367917Z"
    },
    "papermill": {
     "duration": 0.04426,
     "end_time": "2023-03-15T12:55:27.372011",
     "exception": false,
     "start_time": "2023-03-15T12:55:27.327751",
     "status": "completed"
    },
    "tags": []
   },
   "outputs": [
    {
     "data": {
      "text/html": [
       "<div>\n",
       "<style scoped>\n",
       "    .dataframe tbody tr th:only-of-type {\n",
       "        vertical-align: middle;\n",
       "    }\n",
       "\n",
       "    .dataframe tbody tr th {\n",
       "        vertical-align: top;\n",
       "    }\n",
       "\n",
       "    .dataframe thead tr th {\n",
       "        text-align: left;\n",
       "    }\n",
       "\n",
       "    .dataframe thead tr:last-of-type th {\n",
       "        text-align: right;\n",
       "    }\n",
       "</style>\n",
       "<table border=\"1\" class=\"dataframe\">\n",
       "  <thead>\n",
       "    <tr>\n",
       "      <th></th>\n",
       "      <th>USER_ID</th>\n",
       "      <th colspan=\"4\" halign=\"left\">REVENUE</th>\n",
       "    </tr>\n",
       "    <tr>\n",
       "      <th></th>\n",
       "      <th>nunique</th>\n",
       "      <th>sum</th>\n",
       "      <th>mean</th>\n",
       "      <th>median</th>\n",
       "      <th>count</th>\n",
       "    </tr>\n",
       "    <tr>\n",
       "      <th>VARIANT_NAME</th>\n",
       "      <th></th>\n",
       "      <th></th>\n",
       "      <th></th>\n",
       "      <th></th>\n",
       "      <th></th>\n",
       "    </tr>\n",
       "  </thead>\n",
       "  <tbody>\n",
       "    <tr>\n",
       "      <th>control</th>\n",
       "      <td>2390</td>\n",
       "      <td>470.56000</td>\n",
       "      <td>0.15551</td>\n",
       "      <td>0.00000</td>\n",
       "      <td>3026</td>\n",
       "    </tr>\n",
       "    <tr>\n",
       "      <th>variant</th>\n",
       "      <td>2393</td>\n",
       "      <td>179.32000</td>\n",
       "      <td>0.05891</td>\n",
       "      <td>0.00000</td>\n",
       "      <td>3044</td>\n",
       "    </tr>\n",
       "  </tbody>\n",
       "</table>\n",
       "</div>"
      ],
      "text/plain": [
       "             USER_ID   REVENUE                      \n",
       "             nunique       sum    mean  median count\n",
       "VARIANT_NAME                                        \n",
       "control         2390 470.56000 0.15551 0.00000  3026\n",
       "variant         2393 179.32000 0.05891 0.00000  3044"
      ]
     },
     "execution_count": 8,
     "metadata": {},
     "output_type": "execute_result"
    }
   ],
   "source": [
    "# A/B Groups & Target Summary Stats\n",
    "df.groupby(by='VARIANT_NAME').agg({'USER_ID': 'nunique',\n",
    "                                               'REVENUE': ['sum', 'mean', 'median', 'count']})"
   ]
  },
  {
   "cell_type": "code",
   "execution_count": 9,
   "id": "e559a58a",
   "metadata": {
    "execution": {
     "iopub.execute_input": "2023-03-15T12:55:27.391454Z",
     "iopub.status.busy": "2023-03-15T12:55:27.390608Z",
     "iopub.status.idle": "2023-03-15T12:55:27.416784Z",
     "shell.execute_reply": "2023-03-15T12:55:27.415430Z"
    },
    "papermill": {
     "duration": 0.040757,
     "end_time": "2023-03-15T12:55:27.420747",
     "exception": false,
     "start_time": "2023-03-15T12:55:27.379990",
     "status": "completed"
    },
    "tags": []
   },
   "outputs": [
    {
     "data": {
      "text/html": [
       "<div>\n",
       "<style scoped>\n",
       "    .dataframe tbody tr th:only-of-type {\n",
       "        vertical-align: middle;\n",
       "    }\n",
       "\n",
       "    .dataframe tbody tr th {\n",
       "        vertical-align: top;\n",
       "    }\n",
       "\n",
       "    .dataframe thead th {\n",
       "        text-align: right;\n",
       "    }\n",
       "</style>\n",
       "<table border=\"1\" class=\"dataframe\">\n",
       "  <thead>\n",
       "    <tr style=\"text-align: right;\">\n",
       "      <th></th>\n",
       "      <th>count</th>\n",
       "      <th>median</th>\n",
       "      <th>mean</th>\n",
       "      <th>std</th>\n",
       "      <th>max</th>\n",
       "      <th>sum</th>\n",
       "    </tr>\n",
       "    <tr>\n",
       "      <th>USER_ID</th>\n",
       "      <th></th>\n",
       "      <th></th>\n",
       "      <th></th>\n",
       "      <th></th>\n",
       "      <th></th>\n",
       "      <th></th>\n",
       "    </tr>\n",
       "  </thead>\n",
       "  <tbody>\n",
       "    <tr>\n",
       "      <th>3342</th>\n",
       "      <td>1</td>\n",
       "      <td>196.01000</td>\n",
       "      <td>196.01000</td>\n",
       "      <td>NaN</td>\n",
       "      <td>196.01000</td>\n",
       "      <td>196.01000</td>\n",
       "    </tr>\n",
       "    <tr>\n",
       "      <th>2166</th>\n",
       "      <td>2</td>\n",
       "      <td>14.66000</td>\n",
       "      <td>14.66000</td>\n",
       "      <td>20.73237</td>\n",
       "      <td>29.32000</td>\n",
       "      <td>29.32000</td>\n",
       "    </tr>\n",
       "    <tr>\n",
       "      <th>7356</th>\n",
       "      <td>1</td>\n",
       "      <td>23.04000</td>\n",
       "      <td>23.04000</td>\n",
       "      <td>NaN</td>\n",
       "      <td>23.04000</td>\n",
       "      <td>23.04000</td>\n",
       "    </tr>\n",
       "    <tr>\n",
       "      <th>1053</th>\n",
       "      <td>4</td>\n",
       "      <td>0.00000</td>\n",
       "      <td>5.01750</td>\n",
       "      <td>10.03500</td>\n",
       "      <td>20.07000</td>\n",
       "      <td>20.07000</td>\n",
       "    </tr>\n",
       "    <tr>\n",
       "      <th>3684</th>\n",
       "      <td>1</td>\n",
       "      <td>19.47000</td>\n",
       "      <td>19.47000</td>\n",
       "      <td>NaN</td>\n",
       "      <td>19.47000</td>\n",
       "      <td>19.47000</td>\n",
       "    </tr>\n",
       "    <tr>\n",
       "      <th>...</th>\n",
       "      <td>...</td>\n",
       "      <td>...</td>\n",
       "      <td>...</td>\n",
       "      <td>...</td>\n",
       "      <td>...</td>\n",
       "      <td>...</td>\n",
       "    </tr>\n",
       "    <tr>\n",
       "      <th>3363</th>\n",
       "      <td>1</td>\n",
       "      <td>0.00000</td>\n",
       "      <td>0.00000</td>\n",
       "      <td>NaN</td>\n",
       "      <td>0.00000</td>\n",
       "      <td>0.00000</td>\n",
       "    </tr>\n",
       "    <tr>\n",
       "      <th>3362</th>\n",
       "      <td>1</td>\n",
       "      <td>0.00000</td>\n",
       "      <td>0.00000</td>\n",
       "      <td>NaN</td>\n",
       "      <td>0.00000</td>\n",
       "      <td>0.00000</td>\n",
       "    </tr>\n",
       "    <tr>\n",
       "      <th>3361</th>\n",
       "      <td>1</td>\n",
       "      <td>0.00000</td>\n",
       "      <td>0.00000</td>\n",
       "      <td>NaN</td>\n",
       "      <td>0.00000</td>\n",
       "      <td>0.00000</td>\n",
       "    </tr>\n",
       "    <tr>\n",
       "      <th>3360</th>\n",
       "      <td>1</td>\n",
       "      <td>0.00000</td>\n",
       "      <td>0.00000</td>\n",
       "      <td>NaN</td>\n",
       "      <td>0.00000</td>\n",
       "      <td>0.00000</td>\n",
       "    </tr>\n",
       "    <tr>\n",
       "      <th>9998</th>\n",
       "      <td>1</td>\n",
       "      <td>0.00000</td>\n",
       "      <td>0.00000</td>\n",
       "      <td>NaN</td>\n",
       "      <td>0.00000</td>\n",
       "      <td>0.00000</td>\n",
       "    </tr>\n",
       "  </tbody>\n",
       "</table>\n",
       "<p>4783 rows × 6 columns</p>\n",
       "</div>"
      ],
      "text/plain": [
       "         count    median      mean      std       max       sum\n",
       "USER_ID                                                        \n",
       "3342         1 196.01000 196.01000      NaN 196.01000 196.01000\n",
       "2166         2  14.66000  14.66000 20.73237  29.32000  29.32000\n",
       "7356         1  23.04000  23.04000      NaN  23.04000  23.04000\n",
       "1053         4   0.00000   5.01750 10.03500  20.07000  20.07000\n",
       "3684         1  19.47000  19.47000      NaN  19.47000  19.47000\n",
       "...        ...       ...       ...      ...       ...       ...\n",
       "3363         1   0.00000   0.00000      NaN   0.00000   0.00000\n",
       "3362         1   0.00000   0.00000      NaN   0.00000   0.00000\n",
       "3361         1   0.00000   0.00000      NaN   0.00000   0.00000\n",
       "3360         1   0.00000   0.00000      NaN   0.00000   0.00000\n",
       "9998         1   0.00000   0.00000      NaN   0.00000   0.00000\n",
       "\n",
       "[4783 rows x 6 columns]"
      ]
     },
     "execution_count": 9,
     "metadata": {},
     "output_type": "execute_result"
    }
   ],
   "source": [
    "# A/B Groups & Target Summary Stats\n",
    "df.groupby(\"USER_ID\")['REVENUE'].agg([\"count\", \"median\", \"mean\", \"std\", \"max\", 'sum']).sort_values(by='sum', ascending=False)"
   ]
  },
  {
   "cell_type": "code",
   "execution_count": 10,
   "id": "7af0b43b",
   "metadata": {
    "execution": {
     "iopub.execute_input": "2023-03-15T12:55:27.439871Z",
     "iopub.status.busy": "2023-03-15T12:55:27.439389Z",
     "iopub.status.idle": "2023-03-15T12:55:27.450028Z",
     "shell.execute_reply": "2023-03-15T12:55:27.448712Z"
    },
    "papermill": {
     "duration": 0.023204,
     "end_time": "2023-03-15T12:55:27.452821",
     "exception": false,
     "start_time": "2023-03-15T12:55:27.429617",
     "status": "completed"
    },
    "tags": []
   },
   "outputs": [
    {
     "data": {
      "text/plain": [
       "(0.039794372950474055, 0.17433412787324915)"
      ]
     },
     "execution_count": 10,
     "metadata": {},
     "output_type": "execute_result"
    }
   ],
   "source": [
    "# What is the confidence interval for the 'REVENUE' value?\n",
    "\n",
    "sms.DescrStatsW(df[\"REVENUE\"]).tconfint_mean()"
   ]
  },
  {
   "cell_type": "code",
   "execution_count": 11,
   "id": "a033a123",
   "metadata": {
    "execution": {
     "iopub.execute_input": "2023-03-15T12:55:27.472661Z",
     "iopub.status.busy": "2023-03-15T12:55:27.472193Z",
     "iopub.status.idle": "2023-03-15T12:55:27.940152Z",
     "shell.execute_reply": "2023-03-15T12:55:27.938331Z"
    },
    "papermill": {
     "duration": 0.481857,
     "end_time": "2023-03-15T12:55:27.943378",
     "exception": false,
     "start_time": "2023-03-15T12:55:27.461521",
     "status": "completed"
    },
    "tags": []
   },
   "outputs": [
    {
     "data": {
      "image/png": "[encoded data removed]",
      "text/plain": [
       "<Figure size 2000x500 with 1 Axes>"
      ]
     },
     "metadata": {},
     "output_type": "display_data"
    }
   ],
   "source": [
    "df[df['VARIANT_NAME'] == \"control\"].reset_index().set_index(\"index\")['REVENUE'].plot(legend = True, label = \"control\", figsize = (20,5))\n",
    "df[df['VARIANT_NAME'] == \"variant\"].reset_index().set_index(\"index\")['REVENUE'].plot(legend = True, label = \"variant\")\n",
    "plt.suptitle(\"Before Removing The Extreme Value\", fontsize = 20);"
   ]
  },
  {
   "cell_type": "code",
   "execution_count": 12,
   "id": "d33c59d7",
   "metadata": {
    "execution": {
     "iopub.execute_input": "2023-03-15T12:55:27.963701Z",
     "iopub.status.busy": "2023-03-15T12:55:27.963261Z",
     "iopub.status.idle": "2023-03-15T12:55:27.979079Z",
     "shell.execute_reply": "2023-03-15T12:55:27.977300Z"
    },
    "papermill": {
     "duration": 0.029716,
     "end_time": "2023-03-15T12:55:27.982348",
     "exception": false,
     "start_time": "2023-03-15T12:55:27.952632",
     "status": "completed"
    },
    "tags": []
   },
   "outputs": [],
   "source": [
    "# Gormek istemedigimiz aykiri degerleri daha sonraki islemler icin temizleyelim\n",
    "\n",
    "def outlier_thresholds(dataframe, variable):\n",
    "    quartile1 = dataframe[variable].quantile(0.01)\n",
    "    quartile3 = dataframe[variable].quantile(0.99)\n",
    "    interquantile_range = quartile3 - quartile1\n",
    "    up_limit = quartile3 + 1.5 * interquantile_range\n",
    "    low_limit = quartile1 - 1.5 * interquantile_range\n",
    "    return low_limit.round(), up_limit.round()\n",
    "\n",
    "\n",
    "def replace_with_thresholds(dataframe, variable):\n",
    "    low_limit, up_limit = outlier_thresholds(dataframe, variable)\n",
    "    dataframe.loc[(dataframe[variable] < low_limit), variable] = low_limit\n",
    "    dataframe.loc[(dataframe[variable] > up_limit), variable] = up_limit\n",
    "    \n",
    "replace_with_thresholds(df, \"REVENUE\")"
   ]
  },
  {
   "cell_type": "code",
   "execution_count": 13,
   "id": "377436b1",
   "metadata": {
    "execution": {
     "iopub.execute_input": "2023-03-15T12:55:28.004256Z",
     "iopub.status.busy": "2023-03-15T12:55:28.003498Z",
     "iopub.status.idle": "2023-03-15T12:55:28.014789Z",
     "shell.execute_reply": "2023-03-15T12:55:28.013328Z"
    },
    "papermill": {
     "duration": 0.026047,
     "end_time": "2023-03-15T12:55:28.017705",
     "exception": false,
     "start_time": "2023-03-15T12:55:27.991658",
     "status": "completed"
    },
    "tags": []
   },
   "outputs": [
    {
     "data": {
      "text/plain": [
       "(0.03595388879674289, 0.05730476029716155)"
      ]
     },
     "execution_count": 13,
     "metadata": {},
     "output_type": "execute_result"
    }
   ],
   "source": [
    "# What is the confidence interval for the 'REVENUE' value?\n",
    "\n",
    "sms.DescrStatsW(df[\"REVENUE\"]).tconfint_mean()"
   ]
  },
  {
   "cell_type": "code",
   "execution_count": 14,
   "id": "6617bba1",
   "metadata": {
    "execution": {
     "iopub.execute_input": "2023-03-15T12:55:28.038866Z",
     "iopub.status.busy": "2023-03-15T12:55:28.038351Z",
     "iopub.status.idle": "2023-03-15T12:55:28.439338Z",
     "shell.execute_reply": "2023-03-15T12:55:28.437238Z"
    },
    "papermill": {
     "duration": 0.415251,
     "end_time": "2023-03-15T12:55:28.442877",
     "exception": false,
     "start_time": "2023-03-15T12:55:28.027626",
     "status": "completed"
    },
    "tags": []
   },
   "outputs": [
    {
     "data": {
      "image/png": "[encoded data removed]",
      "text/plain": [
       "<Figure size 2000x500 with 1 Axes>"
      ]
     },
     "metadata": {},
     "output_type": "display_data"
    }
   ],
   "source": [
    "df[df['VARIANT_NAME'] == \"control\"].reset_index().set_index(\"index\")['REVENUE'].plot(legend = True, label = \"control\", figsize = (20,5))\n",
    "df[df['VARIANT_NAME'] == \"variant\"].reset_index().set_index(\"index\")['REVENUE'].plot(legend = True, label = \"variant\")\n",
    "plt.suptitle(\"After Removing The Extreme Value\", fontsize = 20);"
   ]
  },
  {
   "cell_type": "code",
   "execution_count": 15,
   "id": "ba84f37c",
   "metadata": {
    "execution": {
     "iopub.execute_input": "2023-03-15T12:55:28.467507Z",
     "iopub.status.busy": "2023-03-15T12:55:28.466324Z",
     "iopub.status.idle": "2023-03-15T12:55:28.489357Z",
     "shell.execute_reply": "2023-03-15T12:55:28.487317Z"
    },
    "papermill": {
     "duration": 0.039104,
     "end_time": "2023-03-15T12:55:28.493093",
     "exception": false,
     "start_time": "2023-03-15T12:55:28.453989",
     "status": "completed"
    },
    "tags": []
   },
   "outputs": [
    {
     "data": {
      "text/html": [
       "<div>\n",
       "<style scoped>\n",
       "    .dataframe tbody tr th:only-of-type {\n",
       "        vertical-align: middle;\n",
       "    }\n",
       "\n",
       "    .dataframe tbody tr th {\n",
       "        vertical-align: top;\n",
       "    }\n",
       "\n",
       "    .dataframe thead tr th {\n",
       "        text-align: left;\n",
       "    }\n",
       "</style>\n",
       "<table border=\"1\" class=\"dataframe\">\n",
       "  <thead>\n",
       "    <tr>\n",
       "      <th></th>\n",
       "      <th>VARIANT_NAME</th>\n",
       "      <th colspan=\"2\" halign=\"left\">REVENUE</th>\n",
       "    </tr>\n",
       "    <tr>\n",
       "      <th></th>\n",
       "      <th></th>\n",
       "      <th>sum</th>\n",
       "      <th>count</th>\n",
       "    </tr>\n",
       "  </thead>\n",
       "  <tbody>\n",
       "    <tr>\n",
       "      <th>0</th>\n",
       "      <td>control</td>\n",
       "      <td>165.06000</td>\n",
       "      <td>3026</td>\n",
       "    </tr>\n",
       "    <tr>\n",
       "      <th>1</th>\n",
       "      <td>variant</td>\n",
       "      <td>117.98000</td>\n",
       "      <td>3044</td>\n",
       "    </tr>\n",
       "  </tbody>\n",
       "</table>\n",
       "</div>"
      ],
      "text/plain": [
       "  VARIANT_NAME   REVENUE      \n",
       "                     sum count\n",
       "0      control 165.06000  3026\n",
       "1      variant 117.98000  3044"
      ]
     },
     "execution_count": 15,
     "metadata": {},
     "output_type": "execute_result"
    }
   ],
   "source": [
    "# Is there a significant difference between the average REVENUE of the control and variant groups ?\n",
    "\n",
    "# H0: Data is a normal distribution\n",
    "# H1: Data is a non-normal distribution\n",
    "\n",
    "df.groupby('VARIANT_NAME').agg({'REVENUE': ['sum', 'count']}).reset_index()"
   ]
  },
  {
   "cell_type": "markdown",
   "id": "61bdfcee",
   "metadata": {
    "papermill": {
     "duration": 0.011014,
     "end_time": "2023-03-15T12:55:28.515831",
     "exception": false,
     "start_time": "2023-03-15T12:55:28.504817",
     "status": "completed"
    },
    "tags": []
   },
   "source": [
    "<a id = \"3\"></a>\n",
    "<strong style=\"color:#B3005E;font-size:30px;font-family:Georgia;text-align:center;\">  A/B Testing </strong>\n",
    "\n",
    "<strong style=\"color:#B3005E;font-size:20px;font-family:Georgia;\">  * Assumptions: </strong>\n",
    "\n",
    "\n",
    "* Check normality\n",
    "* If Normal Distribution, check homogeneity\n",
    "* Steps:\n",
    "* Split & Define Control Group & Test Group\n",
    "* Apply Shapiro Test for normality\n",
    "* If parametric apply Levene Test for homogeneity of variances\n",
    "* If Parametric + homogeneity of variances apply T-Test\n",
    "* If Parametric - homogeneity of variances apply Welch Test\n",
    "* If Non-parametric apply Mann Whitney U Test directly"
   ]
  },
  {
   "cell_type": "code",
   "execution_count": 16,
   "id": "0e04d4bc",
   "metadata": {
    "execution": {
     "iopub.execute_input": "2023-03-15T12:55:28.539446Z",
     "iopub.status.busy": "2023-03-15T12:55:28.538884Z",
     "iopub.status.idle": "2023-03-15T12:55:28.575444Z",
     "shell.execute_reply": "2023-03-15T12:55:28.573611Z"
    },
    "papermill": {
     "duration": 0.05167,
     "end_time": "2023-03-15T12:55:28.578379",
     "exception": false,
     "start_time": "2023-03-15T12:55:28.526709",
     "status": "completed"
    },
    "tags": []
   },
   "outputs": [
    {
     "name": "stdout",
     "output_type": "stream",
     "text": [
      "# A/B Testing Hypothesis\n",
      "H0: A == B\n",
      "H1: A != B \n",
      "\n"
     ]
    },
    {
     "data": {
      "text/html": [
       "<div>\n",
       "<style scoped>\n",
       "    .dataframe tbody tr th:only-of-type {\n",
       "        vertical-align: middle;\n",
       "    }\n",
       "\n",
       "    .dataframe tbody tr th {\n",
       "        vertical-align: top;\n",
       "    }\n",
       "\n",
       "    .dataframe thead th {\n",
       "        text-align: right;\n",
       "    }\n",
       "</style>\n",
       "<table border=\"1\" class=\"dataframe\">\n",
       "  <thead>\n",
       "    <tr style=\"text-align: right;\">\n",
       "      <th></th>\n",
       "      <th>Test Type</th>\n",
       "      <th>AB Hypothesis</th>\n",
       "      <th>p-value</th>\n",
       "      <th>Comment</th>\n",
       "    </tr>\n",
       "  </thead>\n",
       "  <tbody>\n",
       "    <tr>\n",
       "      <th>0</th>\n",
       "      <td>Non-Parametric</td>\n",
       "      <td>Fail to Reject H0</td>\n",
       "      <td>0.24485</td>\n",
       "      <td>A/B groups are similar!</td>\n",
       "    </tr>\n",
       "  </tbody>\n",
       "</table>\n",
       "</div>"
      ],
      "text/plain": [
       "        Test Type      AB Hypothesis  p-value                  Comment\n",
       "0  Non-Parametric  Fail to Reject H0  0.24485  A/B groups are similar!"
      ]
     },
     "execution_count": 16,
     "metadata": {},
     "output_type": "execute_result"
    }
   ],
   "source": [
    "# A/B Testing Function - Quick Solution\n",
    "def AB_Test(dataframe, group, target, A, B):\n",
    "    \n",
    "    # Packages\n",
    "    from scipy.stats import shapiro\n",
    "    import scipy.stats as stats\n",
    "    \n",
    "    # Split A/B\n",
    "    groupA = dataframe[dataframe[group] == A][target]\n",
    "    groupB = dataframe[dataframe[group] == B][target]\n",
    "    \n",
    "    # Assumption: Normality\n",
    "    ntA = shapiro(groupA)[1] < 0.05\n",
    "    ntB = shapiro(groupB)[1] < 0.05\n",
    "    # H0: Distribution is Normal! - False\n",
    "    # H1: Distribution is not Normal! - True\n",
    "    \n",
    "    if (ntA == False) & (ntB == False): # \"H0: Normal Distribution\"\n",
    "        # Parametric Test\n",
    "        # Assumption: Homogeneity of variances\n",
    "        leveneTest = stats.levene(groupA, groupB)[1] < 0.05\n",
    "        # H0: Homogeneity: False\n",
    "        # H1: Heterogeneous: True\n",
    "        \n",
    "        if leveneTest == False:\n",
    "            # Homogeneity\n",
    "            ttest = stats.ttest_ind(groupA, groupB, equal_var=True)[1]\n",
    "            # H0: M1 == M2 - False\n",
    "            # H1: M1 != M2 - True\n",
    "        else:\n",
    "            # Heterogeneous\n",
    "            ttest = stats.ttest_ind(groupA, groupB, equal_var=False)[1]\n",
    "            # H0: M1 == M2 - False\n",
    "            # H1: M1 != M2 - True\n",
    "    else:\n",
    "        # Non-Parametric Test\n",
    "        ttest = stats.mannwhitneyu(groupA, groupB)[1] \n",
    "        # H0: M1 == M2 - False\n",
    "        # H1: M1 != M2 - True\n",
    "        \n",
    "    # Result\n",
    "    temp = pd.DataFrame({\n",
    "        \"AB Hypothesis\":[ttest < 0.05], \n",
    "        \"p-value\":[ttest]\n",
    "    })\n",
    "    temp[\"Test Type\"] = np.where((ntA == False) & (ntB == False), \"Parametric\", \"Non-Parametric\")\n",
    "    temp[\"AB Hypothesis\"] = np.where(temp[\"AB Hypothesis\"] == False, \"Fail to Reject H0\", \"Reject H0\")\n",
    "    temp[\"Comment\"] = np.where(temp[\"AB Hypothesis\"] == \"Fail to Reject H0\", \"A/B groups are similar!\", \"A/B groups are not similar!\")\n",
    "    \n",
    "    # Columns\n",
    "    if (ntA == False) & (ntB == False):\n",
    "        temp[\"Homogeneity\"] = np.where(leveneTest == False, \"Yes\", \"No\")\n",
    "        temp = temp[[\"Test Type\", \"Homogeneity\",\"AB Hypothesis\", \"p-value\", \"Comment\"]]\n",
    "    else:\n",
    "        temp = temp[[\"Test Type\",\"AB Hypothesis\", \"p-value\", \"Comment\"]]\n",
    "    \n",
    "    # Print Hypothesis\n",
    "    print(\"# A/B Testing Hypothesis\")\n",
    "    print(\"H0: A == B\")\n",
    "    print(\"H1: A != B\", \"\\n\")\n",
    "    \n",
    "    return temp\n",
    "    \n",
    "    \n",
    "    \n",
    "# Apply A/B Testing\n",
    "AB_Test(dataframe=df, group=\"VARIANT_NAME\", target=\"REVENUE\", A='control', B='variant')"
   ]
  },
  {
   "cell_type": "markdown",
   "id": "bed1ae65",
   "metadata": {
    "papermill": {
     "duration": 0.010688,
     "end_time": "2023-03-15T12:55:28.601202",
     "exception": false,
     "start_time": "2023-03-15T12:55:28.590514",
     "status": "completed"
    },
    "tags": []
   },
   "source": [
    "<div <h1 <strong style=\"color:#B3005E;font-size:18px;font-family:Georgia;\">  ^^Here we observe that there is no statistical difference on the revenues of the control and variant variables. </strong></div>\n",
    "\n",
    "<div <h1 <strong style=\"color:#B3005E;font-size:18px;font-family:Arial;\">  Since p value is greater than 0.05, ------->--------------->-------------->-------------->------------------->---------->----------> H0 HYPOTESIS IS NOT REJECTED! </strong></div>\n",
    "\n"
   ]
  },
  {
   "cell_type": "markdown",
   "id": "49f1504c",
   "metadata": {
    "papermill": {
     "duration": 0.010519,
     "end_time": "2023-03-15T12:55:28.622837",
     "exception": false,
     "start_time": "2023-03-15T12:55:28.612318",
     "status": "completed"
    },
    "tags": []
   },
   "source": [
    "<p style=\"padding:15px;\n",
    "background-color:#f4ebdc;\n",
    "margin:0; color:#B3005E; border:2px dotted #C689C6; font-family:Charter; font-weight: bold; font-size:250%; text-align:center; overflow:hidden; font-weight:500\">If you like this then please UPVOTE this 😄 Your opinions and suggestions are very important to me...<img src=\"https://media.giphy.com/media/WUlplcMpOCEmTGBtBW/giphy.gif\" width=\"100\"> <div style=\"float:center;margin-left:270px;max-width:50%;\">"
   ]
  },
  {
   "cell_type": "markdown",
   "id": "a18654b9",
   "metadata": {
    "papermill": {
     "duration": 0.010535,
     "end_time": "2023-03-15T12:55:28.644259",
     "exception": false,
     "start_time": "2023-03-15T12:55:28.633724",
     "status": "completed"
    },
    "tags": []
   },
   "source": [
    "<p style=\"padding:15px;\n",
    "background-color:#f4ebdc;\n",
    "margin:0; color:#B3005E; border:2px dotted #C689C6; font-family:Charter; font-weight: bold; font-size:250%; text-align:center; overflow:hidden; font-weight:500\">\n",
    "FOR MORE:</p> \n",
    "\n",
    "https://www.linkedin.com/in/serdar-ozturk/\n",
    "\n",
    "https://github.com/StanleyHopson\n",
    "\n",
    "https://medium.com/@serdar.f95\n",
    "\n",
    "<p style=\"padding:15px;\n",
    "background-color:#f4ebdc;\n",
    "margin:0; color:#B3005E; border:2px dotted #C689C6; font-family:Charter; font-weight: bold; font-size:250%; text-align:center; overflow:hidden; font-weight:500\">CREDITS:</p> \n",
    "\n",
    "[https://numpy.org/](http://)\n",
    "\n",
    "[https://seaborn.pydata.org/](http://)\n",
    "\n",
    "[https://pandas.pydata.org](http://)\n",
    "\n",
    "[https://pandas.pydata.org/](http://)\n",
    "\n",
    "[https://learning.miuul.com](http://)"
   ]
  }
 ],
 "metadata": {
  "kernelspec": {
   "display_name": "Python 3",
   "language": "python",
   "name": "python3"
  },
  "language_info": {
   "codemirror_mode": {
    "name": "ipython",
    "version": 3
   },
   "file_extension": ".py",
   "mimetype": "text/x-python",
   "name": "python",
   "nbconvert_exporter": "python",
   "pygments_lexer": "ipython3",
   "version": "3.7.12"
  },
  "papermill": {
   "default_parameters": {},
   "duration": 16.738666,
   "end_time": "2023-03-15T12:55:29.583185",
   "environment_variables": {},
   "exception": null,
   "input_path": "__notebook__.ipynb",
   "output_path": "__notebook__.ipynb",
   "parameters": {},
   "start_time": "2023-03-15T12:55:12.844519",
   "version": "2.4.0"
  }
 },
 "nbformat": 4,
 "nbformat_minor": 5
}
