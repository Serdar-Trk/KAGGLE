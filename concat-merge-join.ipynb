{
 "cells": [
  {
   "cell_type": "code",
   "execution_count": 1,
   "id": "3e88bfd7",
   "metadata": {
    "execution": {
     "iopub.execute_input": "2023-03-13T20:16:57.179526Z",
     "iopub.status.busy": "2023-03-13T20:16:57.178325Z",
     "iopub.status.idle": "2023-03-13T20:16:57.191168Z",
     "shell.execute_reply": "2023-03-13T20:16:57.189927Z"
    },
    "papermill": {
     "duration": 0.041955,
     "end_time": "2023-03-13T20:16:57.194524",
     "exception": false,
     "start_time": "2023-03-13T20:16:57.152569",
     "status": "completed"
    },
    "tags": []
   },
   "outputs": [
    {
     "name": "stdout",
     "output_type": "stream",
     "text": [
      "\n",
      "    panda\n",
      "\n",
      "              .;;.\n",
      "             /;;;;\\  ___      .;;..\n",
      "            |;(;;;-\"\"   `'-.,;;;;;/\n",
      "             \\;'            ';;;);/\n",
      "             /                \\;;'\n",
      "            /    .;.   .;.     \\/\n",
      "            |   ;;o;; ;;o;;    |\n",
      "            ;   '\"-'` `'-\"'    |\n",
      "            /\\      ._.       /\n",
      "          ;;;;;_   ,_Y_,   _.'\n",
      "         /;;;;;\\`--.___.--;.\n",
      "        /|;;;;;;;.__.;;;.  \\/\\/\n",
      "       ;  \\;;;;;;;;;;;;;;\\  ;\\__  .;.\n",
      "       |   ';;;;;;;;=;;;;'  |-__;;;;/\n",
      "       |     `\"\"`  .---._  /;/;;\\;;/\n",
      "      / ;         /;;;;;;;-;/;;/|;/\n",
      "      \\_,\\       |;;;;;;;;;;;;| |\n",
      "          '-...--';;;;;;;;;;;;\\/\n",
      "                   `\"\"\"`   `\"`\n",
      "    \n",
      "                                              MERGE & JOIN &  CONCAT (Dataframe leri birleştirmek) \n"
     ]
    }
   ],
   "source": [
    "panda = \"\"\"\n",
    "    panda\n",
    "\n",
    "              .;;.\n",
    "             /;;;;\\  ___      .;;..\n",
    "            |;(;;;-\"\"   `'-.,;;;;;/\n",
    "             \\;'            ';;;);/\n",
    "             /                \\;;'\n",
    "            /    .;.   .;.     \\/\n",
    "            |   ;;o;; ;;o;;    |\n",
    "            ;   '\"-'` `'-\"'    |\n",
    "            /\\      ._.       /\n",
    "          ;;;;;_   ,_Y_,   _.'\n",
    "         /;;;;;\\`--.___.--;.\n",
    "        /|;;;;;;;.__.;;;.  \\/\\/\n",
    "       ;  \\;;;;;;;;;;;;;;\\  ;\\__  .;.\n",
    "       |   ';;;;;;;;=;;;;'  |-__;;;;/\n",
    "       |     `\"\"`  .---._  /;/;;\\;;/\n",
    "      / ;         /;;;;;;;-;/;;/|;/\n",
    "      \\_,\\       |;;;;;;;;;;;;| |\n",
    "          '-...--';;;;;;;;;;;;\\/\n",
    "                   `\\\"\"\"`   `\"`\n",
    "    \n",
    "                                              MERGE & JOIN &  CONCAT (Dataframe leri birleştirmek) \"\"\"\n",
    "print(panda)"
   ]
  },
  {
   "cell_type": "code",
   "execution_count": 2,
   "id": "e911423d",
   "metadata": {
    "execution": {
     "iopub.execute_input": "2023-03-13T20:16:57.245244Z",
     "iopub.status.busy": "2023-03-13T20:16:57.244774Z",
     "iopub.status.idle": "2023-03-13T20:16:57.249973Z",
     "shell.execute_reply": "2023-03-13T20:16:57.248733Z"
    },
    "papermill": {
     "duration": 0.032051,
     "end_time": "2023-03-13T20:16:57.252383",
     "exception": false,
     "start_time": "2023-03-13T20:16:57.220332",
     "status": "completed"
    },
    "tags": []
   },
   "outputs": [],
   "source": [
    "import pandas as pd\n",
    "import numpy as np"
   ]
  },
  {
   "cell_type": "markdown",
   "id": "ef27ed51",
   "metadata": {
    "papermill": {
     "duration": 0.022181,
     "end_time": "2023-03-13T20:16:57.297207",
     "exception": false,
     "start_time": "2023-03-13T20:16:57.275026",
     "status": "completed"
    },
    "tags": []
   },
   "source": [
    "######################\n",
    "#      CONCAT        #\n",
    "######################\n",
    "\n",
    "**index'i ve kolonu ortak olmayan dataframe'leri birlestirilebilir**\n",
    "\n",
    "1. axis=0 , axis=1 >>>> default 0\n",
    "2. ignore_index : bool, default False\n",
    "3. join{‘inner’, ‘outer’}, default ‘outer’\n",
    "4. ikiden fazla df i birleştirmek istersek\n",
    "\n"
   ]
  },
  {
   "cell_type": "code",
   "execution_count": 3,
   "id": "ce5c2b86",
   "metadata": {
    "execution": {
     "iopub.execute_input": "2023-03-13T20:16:57.345767Z",
     "iopub.status.busy": "2023-03-13T20:16:57.345227Z",
     "iopub.status.idle": "2023-03-13T20:16:57.389853Z",
     "shell.execute_reply": "2023-03-13T20:16:57.388011Z"
    },
    "papermill": {
     "duration": 0.072915,
     "end_time": "2023-03-13T20:16:57.393013",
     "exception": false,
     "start_time": "2023-03-13T20:16:57.320098",
     "status": "completed"
    },
    "tags": []
   },
   "outputs": [
    {
     "data": {
      "text/html": [
       "<div>\n",
       "<style scoped>\n",
       "    .dataframe tbody tr th:only-of-type {\n",
       "        vertical-align: middle;\n",
       "    }\n",
       "\n",
       "    .dataframe tbody tr th {\n",
       "        vertical-align: top;\n",
       "    }\n",
       "\n",
       "    .dataframe thead th {\n",
       "        text-align: right;\n",
       "    }\n",
       "</style>\n",
       "<table border=\"1\" class=\"dataframe\">\n",
       "  <thead>\n",
       "    <tr style=\"text-align: right;\">\n",
       "      <th></th>\n",
       "      <th>df1_1</th>\n",
       "      <th>df1_2</th>\n",
       "    </tr>\n",
       "  </thead>\n",
       "  <tbody>\n",
       "    <tr>\n",
       "      <th>index_1</th>\n",
       "      <td>a</td>\n",
       "      <td>1</td>\n",
       "    </tr>\n",
       "    <tr>\n",
       "      <th>index_2</th>\n",
       "      <td>b</td>\n",
       "      <td>2</td>\n",
       "    </tr>\n",
       "    <tr>\n",
       "      <th>index_3</th>\n",
       "      <td>c</td>\n",
       "      <td>3</td>\n",
       "    </tr>\n",
       "  </tbody>\n",
       "</table>\n",
       "</div>"
      ],
      "text/plain": [
       "        df1_1  df1_2\n",
       "index_1     a      1\n",
       "index_2     b      2\n",
       "index_3     c      3"
      ]
     },
     "execution_count": 3,
     "metadata": {},
     "output_type": "execute_result"
    }
   ],
   "source": [
    "df1 = pd.DataFrame({'df1_1': ['a', 'b', 'c'],\n",
    "                    'df1_2': range(1,4)},\n",
    "                   index=['index_1', 'index_2','index_3'])\n",
    "\n",
    "df2 = pd.DataFrame({'df2_1': ['x', 'y', 'z'],\n",
    "                    'df2_1': range(10,13)},\n",
    "                   index=['index_11','index_12','index_13'])\n",
    "df1"
   ]
  },
  {
   "cell_type": "code",
   "execution_count": 4,
   "id": "0a8c0ddb",
   "metadata": {
    "execution": {
     "iopub.execute_input": "2023-03-13T20:16:57.442204Z",
     "iopub.status.busy": "2023-03-13T20:16:57.441465Z",
     "iopub.status.idle": "2023-03-13T20:16:57.452008Z",
     "shell.execute_reply": "2023-03-13T20:16:57.450667Z"
    },
    "papermill": {
     "duration": 0.038408,
     "end_time": "2023-03-13T20:16:57.454597",
     "exception": false,
     "start_time": "2023-03-13T20:16:57.416189",
     "status": "completed"
    },
    "tags": []
   },
   "outputs": [
    {
     "data": {
      "text/html": [
       "<div>\n",
       "<style scoped>\n",
       "    .dataframe tbody tr th:only-of-type {\n",
       "        vertical-align: middle;\n",
       "    }\n",
       "\n",
       "    .dataframe tbody tr th {\n",
       "        vertical-align: top;\n",
       "    }\n",
       "\n",
       "    .dataframe thead th {\n",
       "        text-align: right;\n",
       "    }\n",
       "</style>\n",
       "<table border=\"1\" class=\"dataframe\">\n",
       "  <thead>\n",
       "    <tr style=\"text-align: right;\">\n",
       "      <th></th>\n",
       "      <th>df2_1</th>\n",
       "    </tr>\n",
       "  </thead>\n",
       "  <tbody>\n",
       "    <tr>\n",
       "      <th>index_11</th>\n",
       "      <td>10</td>\n",
       "    </tr>\n",
       "    <tr>\n",
       "      <th>index_12</th>\n",
       "      <td>11</td>\n",
       "    </tr>\n",
       "    <tr>\n",
       "      <th>index_13</th>\n",
       "      <td>12</td>\n",
       "    </tr>\n",
       "  </tbody>\n",
       "</table>\n",
       "</div>"
      ],
      "text/plain": [
       "          df2_1\n",
       "index_11     10\n",
       "index_12     11\n",
       "index_13     12"
      ]
     },
     "execution_count": 4,
     "metadata": {},
     "output_type": "execute_result"
    }
   ],
   "source": [
    "df2"
   ]
  },
  {
   "cell_type": "code",
   "execution_count": 5,
   "id": "2d27a43b",
   "metadata": {
    "execution": {
     "iopub.execute_input": "2023-03-13T20:16:57.502702Z",
     "iopub.status.busy": "2023-03-13T20:16:57.501876Z",
     "iopub.status.idle": "2023-03-13T20:16:57.521252Z",
     "shell.execute_reply": "2023-03-13T20:16:57.519716Z"
    },
    "papermill": {
     "duration": 0.04658,
     "end_time": "2023-03-13T20:16:57.524149",
     "exception": false,
     "start_time": "2023-03-13T20:16:57.477569",
     "status": "completed"
    },
    "scrolled": true,
    "tags": []
   },
   "outputs": [
    {
     "data": {
      "text/html": [
       "<div>\n",
       "<style scoped>\n",
       "    .dataframe tbody tr th:only-of-type {\n",
       "        vertical-align: middle;\n",
       "    }\n",
       "\n",
       "    .dataframe tbody tr th {\n",
       "        vertical-align: top;\n",
       "    }\n",
       "\n",
       "    .dataframe thead th {\n",
       "        text-align: right;\n",
       "    }\n",
       "</style>\n",
       "<table border=\"1\" class=\"dataframe\">\n",
       "  <thead>\n",
       "    <tr style=\"text-align: right;\">\n",
       "      <th></th>\n",
       "      <th>df1_1</th>\n",
       "      <th>df1_2</th>\n",
       "      <th>df2_1</th>\n",
       "    </tr>\n",
       "  </thead>\n",
       "  <tbody>\n",
       "    <tr>\n",
       "      <th>index_1</th>\n",
       "      <td>a</td>\n",
       "      <td>1.0</td>\n",
       "      <td>NaN</td>\n",
       "    </tr>\n",
       "    <tr>\n",
       "      <th>index_2</th>\n",
       "      <td>b</td>\n",
       "      <td>2.0</td>\n",
       "      <td>NaN</td>\n",
       "    </tr>\n",
       "    <tr>\n",
       "      <th>index_3</th>\n",
       "      <td>c</td>\n",
       "      <td>3.0</td>\n",
       "      <td>NaN</td>\n",
       "    </tr>\n",
       "    <tr>\n",
       "      <th>index_11</th>\n",
       "      <td>NaN</td>\n",
       "      <td>NaN</td>\n",
       "      <td>10.0</td>\n",
       "    </tr>\n",
       "    <tr>\n",
       "      <th>index_12</th>\n",
       "      <td>NaN</td>\n",
       "      <td>NaN</td>\n",
       "      <td>11.0</td>\n",
       "    </tr>\n",
       "    <tr>\n",
       "      <th>index_13</th>\n",
       "      <td>NaN</td>\n",
       "      <td>NaN</td>\n",
       "      <td>12.0</td>\n",
       "    </tr>\n",
       "  </tbody>\n",
       "</table>\n",
       "</div>"
      ],
      "text/plain": [
       "         df1_1  df1_2  df2_1\n",
       "index_1      a    1.0    NaN\n",
       "index_2      b    2.0    NaN\n",
       "index_3      c    3.0    NaN\n",
       "index_11   NaN    NaN   10.0\n",
       "index_12   NaN    NaN   11.0\n",
       "index_13   NaN    NaN   12.0"
      ]
     },
     "execution_count": 5,
     "metadata": {},
     "output_type": "execute_result"
    }
   ],
   "source": [
    "pd.concat([df1, df2])"
   ]
  },
  {
   "cell_type": "code",
   "execution_count": 6,
   "id": "274d1a51",
   "metadata": {
    "execution": {
     "iopub.execute_input": "2023-03-13T20:16:57.573653Z",
     "iopub.status.busy": "2023-03-13T20:16:57.572845Z",
     "iopub.status.idle": "2023-03-13T20:16:57.586951Z",
     "shell.execute_reply": "2023-03-13T20:16:57.585878Z"
    },
    "papermill": {
     "duration": 0.041685,
     "end_time": "2023-03-13T20:16:57.589433",
     "exception": false,
     "start_time": "2023-03-13T20:16:57.547748",
     "status": "completed"
    },
    "tags": []
   },
   "outputs": [
    {
     "data": {
      "text/html": [
       "<div>\n",
       "<style scoped>\n",
       "    .dataframe tbody tr th:only-of-type {\n",
       "        vertical-align: middle;\n",
       "    }\n",
       "\n",
       "    .dataframe tbody tr th {\n",
       "        vertical-align: top;\n",
       "    }\n",
       "\n",
       "    .dataframe thead th {\n",
       "        text-align: right;\n",
       "    }\n",
       "</style>\n",
       "<table border=\"1\" class=\"dataframe\">\n",
       "  <thead>\n",
       "    <tr style=\"text-align: right;\">\n",
       "      <th></th>\n",
       "      <th>anahtar</th>\n",
       "      <th>df1_col1</th>\n",
       "    </tr>\n",
       "  </thead>\n",
       "  <tbody>\n",
       "    <tr>\n",
       "      <th>index_1</th>\n",
       "      <td>a</td>\n",
       "      <td>1</td>\n",
       "    </tr>\n",
       "    <tr>\n",
       "      <th>index_2</th>\n",
       "      <td>b</td>\n",
       "      <td>2</td>\n",
       "    </tr>\n",
       "    <tr>\n",
       "      <th>index_3</th>\n",
       "      <td>c</td>\n",
       "      <td>3</td>\n",
       "    </tr>\n",
       "  </tbody>\n",
       "</table>\n",
       "</div>"
      ],
      "text/plain": [
       "        anahtar  df1_col1\n",
       "index_1       a         1\n",
       "index_2       b         2\n",
       "index_3       c         3"
      ]
     },
     "execution_count": 6,
     "metadata": {},
     "output_type": "execute_result"
    }
   ],
   "source": [
    "df1 = pd.DataFrame({'anahtar': ['a', 'b', 'c'],\n",
    "                    'df1_col1': range(1,4)},\n",
    "                   index=['index_1', 'index_2','index_3'])\n",
    "\n",
    "df2 = pd.DataFrame({'anahtar': ['b', 'c', 'd'],\n",
    "                    'df2_col2': range(2,5)},\n",
    "                   index=['index_2','index_3','index_4'])\n",
    "df1"
   ]
  },
  {
   "cell_type": "code",
   "execution_count": 7,
   "id": "c82af92a",
   "metadata": {
    "execution": {
     "iopub.execute_input": "2023-03-13T20:16:57.638371Z",
     "iopub.status.busy": "2023-03-13T20:16:57.637361Z",
     "iopub.status.idle": "2023-03-13T20:16:57.649461Z",
     "shell.execute_reply": "2023-03-13T20:16:57.648111Z"
    },
    "papermill": {
     "duration": 0.038881,
     "end_time": "2023-03-13T20:16:57.651851",
     "exception": false,
     "start_time": "2023-03-13T20:16:57.612970",
     "status": "completed"
    },
    "scrolled": true,
    "tags": []
   },
   "outputs": [
    {
     "data": {
      "text/html": [
       "<div>\n",
       "<style scoped>\n",
       "    .dataframe tbody tr th:only-of-type {\n",
       "        vertical-align: middle;\n",
       "    }\n",
       "\n",
       "    .dataframe tbody tr th {\n",
       "        vertical-align: top;\n",
       "    }\n",
       "\n",
       "    .dataframe thead th {\n",
       "        text-align: right;\n",
       "    }\n",
       "</style>\n",
       "<table border=\"1\" class=\"dataframe\">\n",
       "  <thead>\n",
       "    <tr style=\"text-align: right;\">\n",
       "      <th></th>\n",
       "      <th>anahtar</th>\n",
       "      <th>df2_col2</th>\n",
       "    </tr>\n",
       "  </thead>\n",
       "  <tbody>\n",
       "    <tr>\n",
       "      <th>index_2</th>\n",
       "      <td>b</td>\n",
       "      <td>2</td>\n",
       "    </tr>\n",
       "    <tr>\n",
       "      <th>index_3</th>\n",
       "      <td>c</td>\n",
       "      <td>3</td>\n",
       "    </tr>\n",
       "    <tr>\n",
       "      <th>index_4</th>\n",
       "      <td>d</td>\n",
       "      <td>4</td>\n",
       "    </tr>\n",
       "  </tbody>\n",
       "</table>\n",
       "</div>"
      ],
      "text/plain": [
       "        anahtar  df2_col2\n",
       "index_2       b         2\n",
       "index_3       c         3\n",
       "index_4       d         4"
      ]
     },
     "execution_count": 7,
     "metadata": {},
     "output_type": "execute_result"
    }
   ],
   "source": [
    "df2"
   ]
  },
  {
   "cell_type": "markdown",
   "id": "53cae65c",
   "metadata": {
    "papermill": {
     "duration": 0.022658,
     "end_time": "2023-03-13T20:16:57.697565",
     "exception": false,
     "start_time": "2023-03-13T20:16:57.674907",
     "status": "completed"
    },
    "tags": []
   },
   "source": [
    "## axis=0 , axis=1   >>>> default 0"
   ]
  },
  {
   "cell_type": "code",
   "execution_count": 8,
   "id": "9e9e0a25",
   "metadata": {
    "execution": {
     "iopub.execute_input": "2023-03-13T20:16:57.747869Z",
     "iopub.status.busy": "2023-03-13T20:16:57.746696Z",
     "iopub.status.idle": "2023-03-13T20:16:57.762504Z",
     "shell.execute_reply": "2023-03-13T20:16:57.761116Z"
    },
    "papermill": {
     "duration": 0.044983,
     "end_time": "2023-03-13T20:16:57.765369",
     "exception": false,
     "start_time": "2023-03-13T20:16:57.720386",
     "status": "completed"
    },
    "tags": []
   },
   "outputs": [
    {
     "data": {
      "text/html": [
       "<div>\n",
       "<style scoped>\n",
       "    .dataframe tbody tr th:only-of-type {\n",
       "        vertical-align: middle;\n",
       "    }\n",
       "\n",
       "    .dataframe tbody tr th {\n",
       "        vertical-align: top;\n",
       "    }\n",
       "\n",
       "    .dataframe thead th {\n",
       "        text-align: right;\n",
       "    }\n",
       "</style>\n",
       "<table border=\"1\" class=\"dataframe\">\n",
       "  <thead>\n",
       "    <tr style=\"text-align: right;\">\n",
       "      <th></th>\n",
       "      <th>anahtar</th>\n",
       "      <th>df1_col1</th>\n",
       "      <th>df2_col2</th>\n",
       "    </tr>\n",
       "  </thead>\n",
       "  <tbody>\n",
       "    <tr>\n",
       "      <th>index_1</th>\n",
       "      <td>a</td>\n",
       "      <td>1.0</td>\n",
       "      <td>NaN</td>\n",
       "    </tr>\n",
       "    <tr>\n",
       "      <th>index_2</th>\n",
       "      <td>b</td>\n",
       "      <td>2.0</td>\n",
       "      <td>NaN</td>\n",
       "    </tr>\n",
       "    <tr>\n",
       "      <th>index_3</th>\n",
       "      <td>c</td>\n",
       "      <td>3.0</td>\n",
       "      <td>NaN</td>\n",
       "    </tr>\n",
       "    <tr>\n",
       "      <th>index_2</th>\n",
       "      <td>b</td>\n",
       "      <td>NaN</td>\n",
       "      <td>2.0</td>\n",
       "    </tr>\n",
       "    <tr>\n",
       "      <th>index_3</th>\n",
       "      <td>c</td>\n",
       "      <td>NaN</td>\n",
       "      <td>3.0</td>\n",
       "    </tr>\n",
       "    <tr>\n",
       "      <th>index_4</th>\n",
       "      <td>d</td>\n",
       "      <td>NaN</td>\n",
       "      <td>4.0</td>\n",
       "    </tr>\n",
       "  </tbody>\n",
       "</table>\n",
       "</div>"
      ],
      "text/plain": [
       "        anahtar  df1_col1  df2_col2\n",
       "index_1       a       1.0       NaN\n",
       "index_2       b       2.0       NaN\n",
       "index_3       c       3.0       NaN\n",
       "index_2       b       NaN       2.0\n",
       "index_3       c       NaN       3.0\n",
       "index_4       d       NaN       4.0"
      ]
     },
     "execution_count": 8,
     "metadata": {},
     "output_type": "execute_result"
    }
   ],
   "source": [
    "# default mode  ==  axis=0\n",
    "pd.concat([df1, df2])"
   ]
  },
  {
   "cell_type": "code",
   "execution_count": 9,
   "id": "d074de60",
   "metadata": {
    "execution": {
     "iopub.execute_input": "2023-03-13T20:16:57.815453Z",
     "iopub.status.busy": "2023-03-13T20:16:57.814136Z",
     "iopub.status.idle": "2023-03-13T20:16:57.832135Z",
     "shell.execute_reply": "2023-03-13T20:16:57.830859Z"
    },
    "papermill": {
     "duration": 0.045982,
     "end_time": "2023-03-13T20:16:57.834891",
     "exception": false,
     "start_time": "2023-03-13T20:16:57.788909",
     "status": "completed"
    },
    "tags": []
   },
   "outputs": [
    {
     "data": {
      "text/html": [
       "<div>\n",
       "<style scoped>\n",
       "    .dataframe tbody tr th:only-of-type {\n",
       "        vertical-align: middle;\n",
       "    }\n",
       "\n",
       "    .dataframe tbody tr th {\n",
       "        vertical-align: top;\n",
       "    }\n",
       "\n",
       "    .dataframe thead th {\n",
       "        text-align: right;\n",
       "    }\n",
       "</style>\n",
       "<table border=\"1\" class=\"dataframe\">\n",
       "  <thead>\n",
       "    <tr style=\"text-align: right;\">\n",
       "      <th></th>\n",
       "      <th>anahtar</th>\n",
       "      <th>df1_col1</th>\n",
       "      <th>anahtar</th>\n",
       "      <th>df2_col2</th>\n",
       "    </tr>\n",
       "  </thead>\n",
       "  <tbody>\n",
       "    <tr>\n",
       "      <th>index_1</th>\n",
       "      <td>a</td>\n",
       "      <td>1.0</td>\n",
       "      <td>NaN</td>\n",
       "      <td>NaN</td>\n",
       "    </tr>\n",
       "    <tr>\n",
       "      <th>index_2</th>\n",
       "      <td>b</td>\n",
       "      <td>2.0</td>\n",
       "      <td>b</td>\n",
       "      <td>2.0</td>\n",
       "    </tr>\n",
       "    <tr>\n",
       "      <th>index_3</th>\n",
       "      <td>c</td>\n",
       "      <td>3.0</td>\n",
       "      <td>c</td>\n",
       "      <td>3.0</td>\n",
       "    </tr>\n",
       "    <tr>\n",
       "      <th>index_4</th>\n",
       "      <td>NaN</td>\n",
       "      <td>NaN</td>\n",
       "      <td>d</td>\n",
       "      <td>4.0</td>\n",
       "    </tr>\n",
       "  </tbody>\n",
       "</table>\n",
       "</div>"
      ],
      "text/plain": [
       "        anahtar  df1_col1 anahtar  df2_col2\n",
       "index_1       a       1.0     NaN       NaN\n",
       "index_2       b       2.0       b       2.0\n",
       "index_3       c       3.0       c       3.0\n",
       "index_4     NaN       NaN       d       4.0"
      ]
     },
     "execution_count": 9,
     "metadata": {},
     "output_type": "execute_result"
    }
   ],
   "source": [
    "# concat() methodu ön tanimli olarak verileri satirlara gore birlestirir.\n",
    "# eger sutun olarak birlestirmek istersek:\n",
    "\n",
    "# axis=1 olursa\n",
    "pd.concat([df1, df2],axis=1)"
   ]
  },
  {
   "cell_type": "markdown",
   "id": "f2746fce",
   "metadata": {
    "papermill": {
     "duration": 0.023161,
     "end_time": "2023-03-13T20:16:57.882374",
     "exception": false,
     "start_time": "2023-03-13T20:16:57.859213",
     "status": "completed"
    },
    "tags": []
   },
   "source": [
    "## ignore_index : bool, default False"
   ]
  },
  {
   "cell_type": "code",
   "execution_count": 10,
   "id": "71293959",
   "metadata": {
    "execution": {
     "iopub.execute_input": "2023-03-13T20:16:57.933106Z",
     "iopub.status.busy": "2023-03-13T20:16:57.932662Z",
     "iopub.status.idle": "2023-03-13T20:16:57.944171Z",
     "shell.execute_reply": "2023-03-13T20:16:57.943215Z"
    },
    "papermill": {
     "duration": 0.039964,
     "end_time": "2023-03-13T20:16:57.946720",
     "exception": false,
     "start_time": "2023-03-13T20:16:57.906756",
     "status": "completed"
    },
    "tags": []
   },
   "outputs": [
    {
     "data": {
      "text/html": [
       "<div>\n",
       "<style scoped>\n",
       "    .dataframe tbody tr th:only-of-type {\n",
       "        vertical-align: middle;\n",
       "    }\n",
       "\n",
       "    .dataframe tbody tr th {\n",
       "        vertical-align: top;\n",
       "    }\n",
       "\n",
       "    .dataframe thead th {\n",
       "        text-align: right;\n",
       "    }\n",
       "</style>\n",
       "<table border=\"1\" class=\"dataframe\">\n",
       "  <thead>\n",
       "    <tr style=\"text-align: right;\">\n",
       "      <th></th>\n",
       "      <th>anahtar</th>\n",
       "      <th>df1_col1</th>\n",
       "    </tr>\n",
       "  </thead>\n",
       "  <tbody>\n",
       "    <tr>\n",
       "      <th>index_1</th>\n",
       "      <td>a</td>\n",
       "      <td>1</td>\n",
       "    </tr>\n",
       "    <tr>\n",
       "      <th>index_2</th>\n",
       "      <td>b</td>\n",
       "      <td>2</td>\n",
       "    </tr>\n",
       "    <tr>\n",
       "      <th>index_3</th>\n",
       "      <td>c</td>\n",
       "      <td>3</td>\n",
       "    </tr>\n",
       "    <tr>\n",
       "      <th>index_1</th>\n",
       "      <td>a</td>\n",
       "      <td>1</td>\n",
       "    </tr>\n",
       "    <tr>\n",
       "      <th>index_2</th>\n",
       "      <td>b</td>\n",
       "      <td>2</td>\n",
       "    </tr>\n",
       "    <tr>\n",
       "      <th>index_3</th>\n",
       "      <td>c</td>\n",
       "      <td>3</td>\n",
       "    </tr>\n",
       "  </tbody>\n",
       "</table>\n",
       "</div>"
      ],
      "text/plain": [
       "        anahtar  df1_col1\n",
       "index_1       a         1\n",
       "index_2       b         2\n",
       "index_3       c         3\n",
       "index_1       a         1\n",
       "index_2       b         2\n",
       "index_3       c         3"
      ]
     },
     "execution_count": 10,
     "metadata": {},
     "output_type": "execute_result"
    }
   ],
   "source": [
    "# Pandas taki Series ve DataFrame veri yapilarinin indexleri vardir.\n",
    "## !!!! Pandasta farkli indexlere sahip verileri birlestirmek icin concat() kullanilir.\n",
    "\n",
    "# default mode : ignore_index=False\n",
    "pd.concat([df1, df1], ignore_index=False)"
   ]
  },
  {
   "cell_type": "code",
   "execution_count": 11,
   "id": "535feab2",
   "metadata": {
    "execution": {
     "iopub.execute_input": "2023-03-13T20:16:57.996435Z",
     "iopub.status.busy": "2023-03-13T20:16:57.995531Z",
     "iopub.status.idle": "2023-03-13T20:16:58.007177Z",
     "shell.execute_reply": "2023-03-13T20:16:58.006220Z"
    },
    "papermill": {
     "duration": 0.039247,
     "end_time": "2023-03-13T20:16:58.009509",
     "exception": false,
     "start_time": "2023-03-13T20:16:57.970262",
     "status": "completed"
    },
    "tags": []
   },
   "outputs": [
    {
     "data": {
      "text/html": [
       "<div>\n",
       "<style scoped>\n",
       "    .dataframe tbody tr th:only-of-type {\n",
       "        vertical-align: middle;\n",
       "    }\n",
       "\n",
       "    .dataframe tbody tr th {\n",
       "        vertical-align: top;\n",
       "    }\n",
       "\n",
       "    .dataframe thead th {\n",
       "        text-align: right;\n",
       "    }\n",
       "</style>\n",
       "<table border=\"1\" class=\"dataframe\">\n",
       "  <thead>\n",
       "    <tr style=\"text-align: right;\">\n",
       "      <th></th>\n",
       "      <th>anahtar</th>\n",
       "      <th>df1_col1</th>\n",
       "    </tr>\n",
       "  </thead>\n",
       "  <tbody>\n",
       "    <tr>\n",
       "      <th>0</th>\n",
       "      <td>a</td>\n",
       "      <td>1</td>\n",
       "    </tr>\n",
       "    <tr>\n",
       "      <th>1</th>\n",
       "      <td>b</td>\n",
       "      <td>2</td>\n",
       "    </tr>\n",
       "    <tr>\n",
       "      <th>2</th>\n",
       "      <td>c</td>\n",
       "      <td>3</td>\n",
       "    </tr>\n",
       "    <tr>\n",
       "      <th>3</th>\n",
       "      <td>a</td>\n",
       "      <td>1</td>\n",
       "    </tr>\n",
       "    <tr>\n",
       "      <th>4</th>\n",
       "      <td>b</td>\n",
       "      <td>2</td>\n",
       "    </tr>\n",
       "    <tr>\n",
       "      <th>5</th>\n",
       "      <td>c</td>\n",
       "      <td>3</td>\n",
       "    </tr>\n",
       "  </tbody>\n",
       "</table>\n",
       "</div>"
      ],
      "text/plain": [
       "  anahtar  df1_col1\n",
       "0       a         1\n",
       "1       b         2\n",
       "2       c         3\n",
       "3       a         1\n",
       "4       b         2\n",
       "5       c         3"
      ]
     },
     "execution_count": 11,
     "metadata": {},
     "output_type": "execute_result"
    }
   ],
   "source": [
    "# ignore_index=True olursa    , # default mode : ignore_index=False\n",
    "pd.concat([df1, df1], ignore_index=True)"
   ]
  },
  {
   "cell_type": "markdown",
   "id": "7487533b",
   "metadata": {
    "papermill": {
     "duration": 0.023608,
     "end_time": "2023-03-13T20:16:58.057246",
     "exception": false,
     "start_time": "2023-03-13T20:16:58.033638",
     "status": "completed"
    },
    "tags": []
   },
   "source": [
    "## join{‘inner’, ‘outer’}, default ‘outer’"
   ]
  },
  {
   "cell_type": "code",
   "execution_count": 12,
   "id": "41f73b8b",
   "metadata": {
    "execution": {
     "iopub.execute_input": "2023-03-13T20:16:58.107904Z",
     "iopub.status.busy": "2023-03-13T20:16:58.106535Z",
     "iopub.status.idle": "2023-03-13T20:16:58.122306Z",
     "shell.execute_reply": "2023-03-13T20:16:58.120887Z"
    },
    "papermill": {
     "duration": 0.043875,
     "end_time": "2023-03-13T20:16:58.124971",
     "exception": false,
     "start_time": "2023-03-13T20:16:58.081096",
     "status": "completed"
    },
    "tags": []
   },
   "outputs": [
    {
     "data": {
      "text/html": [
       "<div>\n",
       "<style scoped>\n",
       "    .dataframe tbody tr th:only-of-type {\n",
       "        vertical-align: middle;\n",
       "    }\n",
       "\n",
       "    .dataframe tbody tr th {\n",
       "        vertical-align: top;\n",
       "    }\n",
       "\n",
       "    .dataframe thead th {\n",
       "        text-align: right;\n",
       "    }\n",
       "</style>\n",
       "<table border=\"1\" class=\"dataframe\">\n",
       "  <thead>\n",
       "    <tr style=\"text-align: right;\">\n",
       "      <th></th>\n",
       "      <th>anahtar</th>\n",
       "      <th>df1_col1</th>\n",
       "      <th>df2_col2</th>\n",
       "    </tr>\n",
       "  </thead>\n",
       "  <tbody>\n",
       "    <tr>\n",
       "      <th>index_1</th>\n",
       "      <td>a</td>\n",
       "      <td>1.0</td>\n",
       "      <td>NaN</td>\n",
       "    </tr>\n",
       "    <tr>\n",
       "      <th>index_2</th>\n",
       "      <td>b</td>\n",
       "      <td>2.0</td>\n",
       "      <td>NaN</td>\n",
       "    </tr>\n",
       "    <tr>\n",
       "      <th>index_3</th>\n",
       "      <td>c</td>\n",
       "      <td>3.0</td>\n",
       "      <td>NaN</td>\n",
       "    </tr>\n",
       "    <tr>\n",
       "      <th>index_2</th>\n",
       "      <td>b</td>\n",
       "      <td>NaN</td>\n",
       "      <td>2.0</td>\n",
       "    </tr>\n",
       "    <tr>\n",
       "      <th>index_3</th>\n",
       "      <td>c</td>\n",
       "      <td>NaN</td>\n",
       "      <td>3.0</td>\n",
       "    </tr>\n",
       "    <tr>\n",
       "      <th>index_4</th>\n",
       "      <td>d</td>\n",
       "      <td>NaN</td>\n",
       "      <td>4.0</td>\n",
       "    </tr>\n",
       "  </tbody>\n",
       "</table>\n",
       "</div>"
      ],
      "text/plain": [
       "        anahtar  df1_col1  df2_col2\n",
       "index_1       a       1.0       NaN\n",
       "index_2       b       2.0       NaN\n",
       "index_3       c       3.0       NaN\n",
       "index_2       b       NaN       2.0\n",
       "index_3       c       NaN       3.0\n",
       "index_4       d       NaN       4.0"
      ]
     },
     "execution_count": 12,
     "metadata": {},
     "output_type": "execute_result"
    }
   ],
   "source": [
    "# join=\"outer\" olursa   # default mode=join=\"outer\"\n",
    "pd.concat([df1, df2], join=\"outer\")"
   ]
  },
  {
   "cell_type": "code",
   "execution_count": 13,
   "id": "3f58ac5c",
   "metadata": {
    "execution": {
     "iopub.execute_input": "2023-03-13T20:16:58.176314Z",
     "iopub.status.busy": "2023-03-13T20:16:58.175564Z",
     "iopub.status.idle": "2023-03-13T20:16:58.191014Z",
     "shell.execute_reply": "2023-03-13T20:16:58.189506Z"
    },
    "papermill": {
     "duration": 0.044947,
     "end_time": "2023-03-13T20:16:58.193761",
     "exception": false,
     "start_time": "2023-03-13T20:16:58.148814",
     "status": "completed"
    },
    "tags": []
   },
   "outputs": [
    {
     "data": {
      "text/html": [
       "<div>\n",
       "<style scoped>\n",
       "    .dataframe tbody tr th:only-of-type {\n",
       "        vertical-align: middle;\n",
       "    }\n",
       "\n",
       "    .dataframe tbody tr th {\n",
       "        vertical-align: top;\n",
       "    }\n",
       "\n",
       "    .dataframe thead th {\n",
       "        text-align: right;\n",
       "    }\n",
       "</style>\n",
       "<table border=\"1\" class=\"dataframe\">\n",
       "  <thead>\n",
       "    <tr style=\"text-align: right;\">\n",
       "      <th></th>\n",
       "      <th>anahtar</th>\n",
       "      <th>df1_col1</th>\n",
       "      <th>anahtar</th>\n",
       "      <th>df2_col2</th>\n",
       "    </tr>\n",
       "  </thead>\n",
       "  <tbody>\n",
       "    <tr>\n",
       "      <th>index_1</th>\n",
       "      <td>a</td>\n",
       "      <td>1.0</td>\n",
       "      <td>NaN</td>\n",
       "      <td>NaN</td>\n",
       "    </tr>\n",
       "    <tr>\n",
       "      <th>index_2</th>\n",
       "      <td>b</td>\n",
       "      <td>2.0</td>\n",
       "      <td>b</td>\n",
       "      <td>2.0</td>\n",
       "    </tr>\n",
       "    <tr>\n",
       "      <th>index_3</th>\n",
       "      <td>c</td>\n",
       "      <td>3.0</td>\n",
       "      <td>c</td>\n",
       "      <td>3.0</td>\n",
       "    </tr>\n",
       "    <tr>\n",
       "      <th>index_4</th>\n",
       "      <td>NaN</td>\n",
       "      <td>NaN</td>\n",
       "      <td>d</td>\n",
       "      <td>4.0</td>\n",
       "    </tr>\n",
       "  </tbody>\n",
       "</table>\n",
       "</div>"
      ],
      "text/plain": [
       "        anahtar  df1_col1 anahtar  df2_col2\n",
       "index_1       a       1.0     NaN       NaN\n",
       "index_2       b       2.0       b       2.0\n",
       "index_3       c       3.0       c       3.0\n",
       "index_4     NaN       NaN       d       4.0"
      ]
     },
     "execution_count": 13,
     "metadata": {},
     "output_type": "execute_result"
    }
   ],
   "source": [
    "pd.concat([df1, df2], axis=1)"
   ]
  },
  {
   "cell_type": "code",
   "execution_count": 14,
   "id": "c115e59b",
   "metadata": {
    "execution": {
     "iopub.execute_input": "2023-03-13T20:16:58.245155Z",
     "iopub.status.busy": "2023-03-13T20:16:58.244298Z",
     "iopub.status.idle": "2023-03-13T20:16:58.259865Z",
     "shell.execute_reply": "2023-03-13T20:16:58.258496Z"
    },
    "papermill": {
     "duration": 0.044156,
     "end_time": "2023-03-13T20:16:58.262527",
     "exception": false,
     "start_time": "2023-03-13T20:16:58.218371",
     "status": "completed"
    },
    "tags": []
   },
   "outputs": [
    {
     "data": {
      "text/html": [
       "<div>\n",
       "<style scoped>\n",
       "    .dataframe tbody tr th:only-of-type {\n",
       "        vertical-align: middle;\n",
       "    }\n",
       "\n",
       "    .dataframe tbody tr th {\n",
       "        vertical-align: top;\n",
       "    }\n",
       "\n",
       "    .dataframe thead th {\n",
       "        text-align: right;\n",
       "    }\n",
       "</style>\n",
       "<table border=\"1\" class=\"dataframe\">\n",
       "  <thead>\n",
       "    <tr style=\"text-align: right;\">\n",
       "      <th></th>\n",
       "      <th>0</th>\n",
       "      <th>1</th>\n",
       "      <th>2</th>\n",
       "      <th>3</th>\n",
       "    </tr>\n",
       "  </thead>\n",
       "  <tbody>\n",
       "    <tr>\n",
       "      <th>index_1</th>\n",
       "      <td>a</td>\n",
       "      <td>1.0</td>\n",
       "      <td>NaN</td>\n",
       "      <td>NaN</td>\n",
       "    </tr>\n",
       "    <tr>\n",
       "      <th>index_2</th>\n",
       "      <td>b</td>\n",
       "      <td>2.0</td>\n",
       "      <td>b</td>\n",
       "      <td>2.0</td>\n",
       "    </tr>\n",
       "    <tr>\n",
       "      <th>index_3</th>\n",
       "      <td>c</td>\n",
       "      <td>3.0</td>\n",
       "      <td>c</td>\n",
       "      <td>3.0</td>\n",
       "    </tr>\n",
       "    <tr>\n",
       "      <th>index_4</th>\n",
       "      <td>NaN</td>\n",
       "      <td>NaN</td>\n",
       "      <td>d</td>\n",
       "      <td>4.0</td>\n",
       "    </tr>\n",
       "  </tbody>\n",
       "</table>\n",
       "</div>"
      ],
      "text/plain": [
       "           0    1    2    3\n",
       "index_1    a  1.0  NaN  NaN\n",
       "index_2    b  2.0    b  2.0\n",
       "index_3    c  3.0    c  3.0\n",
       "index_4  NaN  NaN    d  4.0"
      ]
     },
     "execution_count": 14,
     "metadata": {},
     "output_type": "execute_result"
    }
   ],
   "source": [
    "pd.concat([df1, df2], axis=1, ignore_index=True)"
   ]
  },
  {
   "cell_type": "code",
   "execution_count": 15,
   "id": "68ba2648",
   "metadata": {
    "execution": {
     "iopub.execute_input": "2023-03-13T20:16:58.314674Z",
     "iopub.status.busy": "2023-03-13T20:16:58.314181Z",
     "iopub.status.idle": "2023-03-13T20:16:58.330731Z",
     "shell.execute_reply": "2023-03-13T20:16:58.329325Z"
    },
    "papermill": {
     "duration": 0.046283,
     "end_time": "2023-03-13T20:16:58.333913",
     "exception": false,
     "start_time": "2023-03-13T20:16:58.287630",
     "status": "completed"
    },
    "tags": []
   },
   "outputs": [
    {
     "data": {
      "text/html": [
       "<div>\n",
       "<style scoped>\n",
       "    .dataframe tbody tr th:only-of-type {\n",
       "        vertical-align: middle;\n",
       "    }\n",
       "\n",
       "    .dataframe tbody tr th {\n",
       "        vertical-align: top;\n",
       "    }\n",
       "\n",
       "    .dataframe thead th {\n",
       "        text-align: right;\n",
       "    }\n",
       "</style>\n",
       "<table border=\"1\" class=\"dataframe\">\n",
       "  <thead>\n",
       "    <tr style=\"text-align: right;\">\n",
       "      <th></th>\n",
       "      <th>anahtar</th>\n",
       "      <th>df1_col1</th>\n",
       "      <th>df2_col2</th>\n",
       "    </tr>\n",
       "  </thead>\n",
       "  <tbody>\n",
       "    <tr>\n",
       "      <th>index_1</th>\n",
       "      <td>a</td>\n",
       "      <td>1.0</td>\n",
       "      <td>NaN</td>\n",
       "    </tr>\n",
       "    <tr>\n",
       "      <th>index_2</th>\n",
       "      <td>b</td>\n",
       "      <td>2.0</td>\n",
       "      <td>NaN</td>\n",
       "    </tr>\n",
       "    <tr>\n",
       "      <th>index_3</th>\n",
       "      <td>c</td>\n",
       "      <td>3.0</td>\n",
       "      <td>NaN</td>\n",
       "    </tr>\n",
       "    <tr>\n",
       "      <th>index_2</th>\n",
       "      <td>b</td>\n",
       "      <td>NaN</td>\n",
       "      <td>2.0</td>\n",
       "    </tr>\n",
       "    <tr>\n",
       "      <th>index_3</th>\n",
       "      <td>c</td>\n",
       "      <td>NaN</td>\n",
       "      <td>3.0</td>\n",
       "    </tr>\n",
       "    <tr>\n",
       "      <th>index_4</th>\n",
       "      <td>d</td>\n",
       "      <td>NaN</td>\n",
       "      <td>4.0</td>\n",
       "    </tr>\n",
       "  </tbody>\n",
       "</table>\n",
       "</div>"
      ],
      "text/plain": [
       "        anahtar  df1_col1  df2_col2\n",
       "index_1       a       1.0       NaN\n",
       "index_2       b       2.0       NaN\n",
       "index_3       c       3.0       NaN\n",
       "index_2       b       NaN       2.0\n",
       "index_3       c       NaN       3.0\n",
       "index_4       d       NaN       4.0"
      ]
     },
     "execution_count": 15,
     "metadata": {},
     "output_type": "execute_result"
    }
   ],
   "source": [
    "# default mode=join=\"outer\"\n",
    "pd.concat([df1, df2])"
   ]
  },
  {
   "cell_type": "code",
   "execution_count": 16,
   "id": "4349a240",
   "metadata": {
    "execution": {
     "iopub.execute_input": "2023-03-13T20:16:58.387662Z",
     "iopub.status.busy": "2023-03-13T20:16:58.387160Z",
     "iopub.status.idle": "2023-03-13T20:16:58.402909Z",
     "shell.execute_reply": "2023-03-13T20:16:58.401380Z"
    },
    "papermill": {
     "duration": 0.045492,
     "end_time": "2023-03-13T20:16:58.405781",
     "exception": false,
     "start_time": "2023-03-13T20:16:58.360289",
     "status": "completed"
    },
    "tags": []
   },
   "outputs": [
    {
     "data": {
      "text/html": [
       "<div>\n",
       "<style scoped>\n",
       "    .dataframe tbody tr th:only-of-type {\n",
       "        vertical-align: middle;\n",
       "    }\n",
       "\n",
       "    .dataframe tbody tr th {\n",
       "        vertical-align: top;\n",
       "    }\n",
       "\n",
       "    .dataframe thead th {\n",
       "        text-align: right;\n",
       "    }\n",
       "</style>\n",
       "<table border=\"1\" class=\"dataframe\">\n",
       "  <thead>\n",
       "    <tr style=\"text-align: right;\">\n",
       "      <th></th>\n",
       "      <th>anahtar</th>\n",
       "      <th>df1_col1</th>\n",
       "      <th>df2_col2</th>\n",
       "    </tr>\n",
       "  </thead>\n",
       "  <tbody>\n",
       "    <tr>\n",
       "      <th>0</th>\n",
       "      <td>a</td>\n",
       "      <td>1.0</td>\n",
       "      <td>NaN</td>\n",
       "    </tr>\n",
       "    <tr>\n",
       "      <th>1</th>\n",
       "      <td>b</td>\n",
       "      <td>2.0</td>\n",
       "      <td>NaN</td>\n",
       "    </tr>\n",
       "    <tr>\n",
       "      <th>2</th>\n",
       "      <td>c</td>\n",
       "      <td>3.0</td>\n",
       "      <td>NaN</td>\n",
       "    </tr>\n",
       "    <tr>\n",
       "      <th>3</th>\n",
       "      <td>b</td>\n",
       "      <td>NaN</td>\n",
       "      <td>2.0</td>\n",
       "    </tr>\n",
       "    <tr>\n",
       "      <th>4</th>\n",
       "      <td>c</td>\n",
       "      <td>NaN</td>\n",
       "      <td>3.0</td>\n",
       "    </tr>\n",
       "    <tr>\n",
       "      <th>5</th>\n",
       "      <td>d</td>\n",
       "      <td>NaN</td>\n",
       "      <td>4.0</td>\n",
       "    </tr>\n",
       "  </tbody>\n",
       "</table>\n",
       "</div>"
      ],
      "text/plain": [
       "  anahtar  df1_col1  df2_col2\n",
       "0       a       1.0       NaN\n",
       "1       b       2.0       NaN\n",
       "2       c       3.0       NaN\n",
       "3       b       NaN       2.0\n",
       "4       c       NaN       3.0\n",
       "5       d       NaN       4.0"
      ]
     },
     "execution_count": 16,
     "metadata": {},
     "output_type": "execute_result"
    }
   ],
   "source": [
    "pd.concat([df1, df2], ignore_index=True)"
   ]
  },
  {
   "cell_type": "code",
   "execution_count": 17,
   "id": "3062b4cc",
   "metadata": {
    "execution": {
     "iopub.execute_input": "2023-03-13T20:16:58.457906Z",
     "iopub.status.busy": "2023-03-13T20:16:58.457444Z",
     "iopub.status.idle": "2023-03-13T20:16:58.478917Z",
     "shell.execute_reply": "2023-03-13T20:16:58.477600Z"
    },
    "papermill": {
     "duration": 0.05111,
     "end_time": "2023-03-13T20:16:58.481959",
     "exception": false,
     "start_time": "2023-03-13T20:16:58.430849",
     "status": "completed"
    },
    "tags": []
   },
   "outputs": [
    {
     "data": {
      "text/html": [
       "<div>\n",
       "<style scoped>\n",
       "    .dataframe tbody tr th:only-of-type {\n",
       "        vertical-align: middle;\n",
       "    }\n",
       "\n",
       "    .dataframe tbody tr th {\n",
       "        vertical-align: top;\n",
       "    }\n",
       "\n",
       "    .dataframe thead th {\n",
       "        text-align: right;\n",
       "    }\n",
       "</style>\n",
       "<table border=\"1\" class=\"dataframe\">\n",
       "  <thead>\n",
       "    <tr style=\"text-align: right;\">\n",
       "      <th></th>\n",
       "      <th>anahtar</th>\n",
       "    </tr>\n",
       "  </thead>\n",
       "  <tbody>\n",
       "    <tr>\n",
       "      <th>index_1</th>\n",
       "      <td>a</td>\n",
       "    </tr>\n",
       "    <tr>\n",
       "      <th>index_2</th>\n",
       "      <td>b</td>\n",
       "    </tr>\n",
       "    <tr>\n",
       "      <th>index_3</th>\n",
       "      <td>c</td>\n",
       "    </tr>\n",
       "    <tr>\n",
       "      <th>index_2</th>\n",
       "      <td>b</td>\n",
       "    </tr>\n",
       "    <tr>\n",
       "      <th>index_3</th>\n",
       "      <td>c</td>\n",
       "    </tr>\n",
       "    <tr>\n",
       "      <th>index_4</th>\n",
       "      <td>d</td>\n",
       "    </tr>\n",
       "  </tbody>\n",
       "</table>\n",
       "</div>"
      ],
      "text/plain": [
       "        anahtar\n",
       "index_1       a\n",
       "index_2       b\n",
       "index_3       c\n",
       "index_2       b\n",
       "index_3       c\n",
       "index_4       d"
      ]
     },
     "execution_count": 17,
     "metadata": {},
     "output_type": "execute_result"
    }
   ],
   "source": [
    "# ortak degerleri gormek istersek join='inner' argumani kullanilir.\n",
    "\n",
    "# join=\"inner\" olursa\n",
    "pd.concat([df1, df2], join=\"inner\")"
   ]
  },
  {
   "cell_type": "markdown",
   "id": "73642922",
   "metadata": {
    "papermill": {
     "duration": 0.026322,
     "end_time": "2023-03-13T20:16:58.533970",
     "exception": false,
     "start_time": "2023-03-13T20:16:58.507648",
     "status": "completed"
    },
    "tags": []
   },
   "source": [
    "## ikiden fazla df i birleştirmek istersek"
   ]
  },
  {
   "cell_type": "code",
   "execution_count": 18,
   "id": "bb7e31fe",
   "metadata": {
    "execution": {
     "iopub.execute_input": "2023-03-13T20:16:58.587189Z",
     "iopub.status.busy": "2023-03-13T20:16:58.586731Z",
     "iopub.status.idle": "2023-03-13T20:16:58.603852Z",
     "shell.execute_reply": "2023-03-13T20:16:58.602309Z"
    },
    "papermill": {
     "duration": 0.04632,
     "end_time": "2023-03-13T20:16:58.606571",
     "exception": false,
     "start_time": "2023-03-13T20:16:58.560251",
     "status": "completed"
    },
    "tags": []
   },
   "outputs": [
    {
     "data": {
      "text/html": [
       "<div>\n",
       "<style scoped>\n",
       "    .dataframe tbody tr th:only-of-type {\n",
       "        vertical-align: middle;\n",
       "    }\n",
       "\n",
       "    .dataframe tbody tr th {\n",
       "        vertical-align: top;\n",
       "    }\n",
       "\n",
       "    .dataframe thead th {\n",
       "        text-align: right;\n",
       "    }\n",
       "</style>\n",
       "<table border=\"1\" class=\"dataframe\">\n",
       "  <thead>\n",
       "    <tr style=\"text-align: right;\">\n",
       "      <th></th>\n",
       "      <th>anahtar</th>\n",
       "      <th>df1_col1</th>\n",
       "      <th>df2_col2</th>\n",
       "    </tr>\n",
       "  </thead>\n",
       "  <tbody>\n",
       "    <tr>\n",
       "      <th>index_1</th>\n",
       "      <td>a</td>\n",
       "      <td>1.0</td>\n",
       "      <td>NaN</td>\n",
       "    </tr>\n",
       "    <tr>\n",
       "      <th>index_2</th>\n",
       "      <td>b</td>\n",
       "      <td>2.0</td>\n",
       "      <td>NaN</td>\n",
       "    </tr>\n",
       "    <tr>\n",
       "      <th>index_3</th>\n",
       "      <td>c</td>\n",
       "      <td>3.0</td>\n",
       "      <td>NaN</td>\n",
       "    </tr>\n",
       "    <tr>\n",
       "      <th>index_2</th>\n",
       "      <td>b</td>\n",
       "      <td>NaN</td>\n",
       "      <td>2.0</td>\n",
       "    </tr>\n",
       "    <tr>\n",
       "      <th>index_3</th>\n",
       "      <td>c</td>\n",
       "      <td>NaN</td>\n",
       "      <td>3.0</td>\n",
       "    </tr>\n",
       "    <tr>\n",
       "      <th>index_4</th>\n",
       "      <td>d</td>\n",
       "      <td>NaN</td>\n",
       "      <td>4.0</td>\n",
       "    </tr>\n",
       "    <tr>\n",
       "      <th>index_2</th>\n",
       "      <td>b</td>\n",
       "      <td>NaN</td>\n",
       "      <td>2.0</td>\n",
       "    </tr>\n",
       "    <tr>\n",
       "      <th>index_3</th>\n",
       "      <td>c</td>\n",
       "      <td>NaN</td>\n",
       "      <td>3.0</td>\n",
       "    </tr>\n",
       "    <tr>\n",
       "      <th>index_4</th>\n",
       "      <td>d</td>\n",
       "      <td>NaN</td>\n",
       "      <td>4.0</td>\n",
       "    </tr>\n",
       "  </tbody>\n",
       "</table>\n",
       "</div>"
      ],
      "text/plain": [
       "        anahtar  df1_col1  df2_col2\n",
       "index_1       a       1.0       NaN\n",
       "index_2       b       2.0       NaN\n",
       "index_3       c       3.0       NaN\n",
       "index_2       b       NaN       2.0\n",
       "index_3       c       NaN       3.0\n",
       "index_4       d       NaN       4.0\n",
       "index_2       b       NaN       2.0\n",
       "index_3       c       NaN       3.0\n",
       "index_4       d       NaN       4.0"
      ]
     },
     "execution_count": 18,
     "metadata": {},
     "output_type": "execute_result"
    }
   ],
   "source": [
    "# ikiden fazla df i birleştirmek istersek\n",
    "pd.concat([df1, df2, df2], axis=0)"
   ]
  },
  {
   "cell_type": "markdown",
   "id": "573c77e8",
   "metadata": {
    "papermill": {
     "duration": 0.024755,
     "end_time": "2023-03-13T20:16:58.656572",
     "exception": false,
     "start_time": "2023-03-13T20:16:58.631817",
     "status": "completed"
    },
    "tags": []
   },
   "source": [
    "## Örnek concat kullanımı"
   ]
  },
  {
   "cell_type": "code",
   "execution_count": 19,
   "id": "4bd3e0bf",
   "metadata": {
    "execution": {
     "iopub.execute_input": "2023-03-13T20:16:58.709222Z",
     "iopub.status.busy": "2023-03-13T20:16:58.708695Z",
     "iopub.status.idle": "2023-03-13T20:16:58.728369Z",
     "shell.execute_reply": "2023-03-13T20:16:58.727092Z"
    },
    "papermill": {
     "duration": 0.04978,
     "end_time": "2023-03-13T20:16:58.731540",
     "exception": false,
     "start_time": "2023-03-13T20:16:58.681760",
     "status": "completed"
    },
    "tags": []
   },
   "outputs": [],
   "source": [
    "# yıllara göre farklı değerler içerdiğini düşündüğümüz dataframeler oluşturup kaydedelim\n",
    "for i in range(5):\n",
    "    dfx = pd.DataFrame(np.arange(i*10,(i+1)*10).reshape(2, 5))\n",
    "    col1=2010+i*2\n",
    "    col2=2010+i*2+1\n",
    "    dfx.index=[col1,col2]\n",
    "    dfx.columns=[\"customer_id\",\"product_id\",\"item_id\",\"item_price\",\"sales\"]\n",
    "    dfx_name=\"dfx_\"+str(i)+(\".csv\")\n",
    "    dfx.to_csv(dfx_name)"
   ]
  },
  {
   "cell_type": "code",
   "execution_count": 20,
   "id": "d5401cb9",
   "metadata": {
    "execution": {
     "iopub.execute_input": "2023-03-13T20:16:58.785802Z",
     "iopub.status.busy": "2023-03-13T20:16:58.785315Z",
     "iopub.status.idle": "2023-03-13T20:16:58.807921Z",
     "shell.execute_reply": "2023-03-13T20:16:58.806382Z"
    },
    "papermill": {
     "duration": 0.052914,
     "end_time": "2023-03-13T20:16:58.810879",
     "exception": false,
     "start_time": "2023-03-13T20:16:58.757965",
     "status": "completed"
    },
    "tags": []
   },
   "outputs": [
    {
     "data": {
      "text/html": [
       "<div>\n",
       "<style scoped>\n",
       "    .dataframe tbody tr th:only-of-type {\n",
       "        vertical-align: middle;\n",
       "    }\n",
       "\n",
       "    .dataframe tbody tr th {\n",
       "        vertical-align: top;\n",
       "    }\n",
       "\n",
       "    .dataframe thead th {\n",
       "        text-align: right;\n",
       "    }\n",
       "</style>\n",
       "<table border=\"1\" class=\"dataframe\">\n",
       "  <thead>\n",
       "    <tr style=\"text-align: right;\">\n",
       "      <th></th>\n",
       "      <th>customer_id</th>\n",
       "      <th>product_id</th>\n",
       "      <th>item_id</th>\n",
       "      <th>item_price</th>\n",
       "      <th>sales</th>\n",
       "    </tr>\n",
       "  </thead>\n",
       "  <tbody>\n",
       "    <tr>\n",
       "      <th>2010</th>\n",
       "      <td>0</td>\n",
       "      <td>1</td>\n",
       "      <td>2</td>\n",
       "      <td>3</td>\n",
       "      <td>4</td>\n",
       "    </tr>\n",
       "    <tr>\n",
       "      <th>2011</th>\n",
       "      <td>5</td>\n",
       "      <td>6</td>\n",
       "      <td>7</td>\n",
       "      <td>8</td>\n",
       "      <td>9</td>\n",
       "    </tr>\n",
       "  </tbody>\n",
       "</table>\n",
       "</div>"
      ],
      "text/plain": [
       "      customer_id  product_id  item_id  item_price  sales\n",
       "2010            0           1        2           3      4\n",
       "2011            5           6        7           8      9"
      ]
     },
     "execution_count": 20,
     "metadata": {},
     "output_type": "execute_result"
    }
   ],
   "source": [
    "pd.read_csv('dfx_0.csv',index_col=0)"
   ]
  },
  {
   "cell_type": "code",
   "execution_count": 21,
   "id": "f1768f66",
   "metadata": {
    "execution": {
     "iopub.execute_input": "2023-03-13T20:16:58.865750Z",
     "iopub.status.busy": "2023-03-13T20:16:58.864367Z",
     "iopub.status.idle": "2023-03-13T20:16:58.879914Z",
     "shell.execute_reply": "2023-03-13T20:16:58.878516Z"
    },
    "papermill": {
     "duration": 0.045765,
     "end_time": "2023-03-13T20:16:58.883002",
     "exception": false,
     "start_time": "2023-03-13T20:16:58.837237",
     "status": "completed"
    },
    "tags": []
   },
   "outputs": [
    {
     "data": {
      "text/html": [
       "<div>\n",
       "<style scoped>\n",
       "    .dataframe tbody tr th:only-of-type {\n",
       "        vertical-align: middle;\n",
       "    }\n",
       "\n",
       "    .dataframe tbody tr th {\n",
       "        vertical-align: top;\n",
       "    }\n",
       "\n",
       "    .dataframe thead th {\n",
       "        text-align: right;\n",
       "    }\n",
       "</style>\n",
       "<table border=\"1\" class=\"dataframe\">\n",
       "  <thead>\n",
       "    <tr style=\"text-align: right;\">\n",
       "      <th></th>\n",
       "      <th>customer_id</th>\n",
       "      <th>product_id</th>\n",
       "      <th>item_id</th>\n",
       "      <th>item_price</th>\n",
       "      <th>sales</th>\n",
       "    </tr>\n",
       "  </thead>\n",
       "  <tbody>\n",
       "    <tr>\n",
       "      <th>2012</th>\n",
       "      <td>10</td>\n",
       "      <td>11</td>\n",
       "      <td>12</td>\n",
       "      <td>13</td>\n",
       "      <td>14</td>\n",
       "    </tr>\n",
       "    <tr>\n",
       "      <th>2013</th>\n",
       "      <td>15</td>\n",
       "      <td>16</td>\n",
       "      <td>17</td>\n",
       "      <td>18</td>\n",
       "      <td>19</td>\n",
       "    </tr>\n",
       "  </tbody>\n",
       "</table>\n",
       "</div>"
      ],
      "text/plain": [
       "      customer_id  product_id  item_id  item_price  sales\n",
       "2012           10          11       12          13     14\n",
       "2013           15          16       17          18     19"
      ]
     },
     "execution_count": 21,
     "metadata": {},
     "output_type": "execute_result"
    }
   ],
   "source": [
    "pd.read_csv('dfx_1.csv',index_col=0)"
   ]
  },
  {
   "cell_type": "code",
   "execution_count": 22,
   "id": "df2fe7e1",
   "metadata": {
    "execution": {
     "iopub.execute_input": "2023-03-13T20:16:58.937274Z",
     "iopub.status.busy": "2023-03-13T20:16:58.935797Z",
     "iopub.status.idle": "2023-03-13T20:16:58.962499Z",
     "shell.execute_reply": "2023-03-13T20:16:58.961096Z"
    },
    "papermill": {
     "duration": 0.056536,
     "end_time": "2023-03-13T20:16:58.965121",
     "exception": false,
     "start_time": "2023-03-13T20:16:58.908585",
     "status": "completed"
    },
    "tags": []
   },
   "outputs": [
    {
     "data": {
      "text/html": [
       "<div>\n",
       "<style scoped>\n",
       "    .dataframe tbody tr th:only-of-type {\n",
       "        vertical-align: middle;\n",
       "    }\n",
       "\n",
       "    .dataframe tbody tr th {\n",
       "        vertical-align: top;\n",
       "    }\n",
       "\n",
       "    .dataframe thead th {\n",
       "        text-align: right;\n",
       "    }\n",
       "</style>\n",
       "<table border=\"1\" class=\"dataframe\">\n",
       "  <thead>\n",
       "    <tr style=\"text-align: right;\">\n",
       "      <th></th>\n",
       "      <th>customer_id</th>\n",
       "      <th>product_id</th>\n",
       "      <th>item_id</th>\n",
       "      <th>item_price</th>\n",
       "      <th>sales</th>\n",
       "    </tr>\n",
       "  </thead>\n",
       "  <tbody>\n",
       "    <tr>\n",
       "      <th>2010</th>\n",
       "      <td>0</td>\n",
       "      <td>1</td>\n",
       "      <td>2</td>\n",
       "      <td>3</td>\n",
       "      <td>4</td>\n",
       "    </tr>\n",
       "    <tr>\n",
       "      <th>2011</th>\n",
       "      <td>5</td>\n",
       "      <td>6</td>\n",
       "      <td>7</td>\n",
       "      <td>8</td>\n",
       "      <td>9</td>\n",
       "    </tr>\n",
       "    <tr>\n",
       "      <th>2012</th>\n",
       "      <td>10</td>\n",
       "      <td>11</td>\n",
       "      <td>12</td>\n",
       "      <td>13</td>\n",
       "      <td>14</td>\n",
       "    </tr>\n",
       "    <tr>\n",
       "      <th>2013</th>\n",
       "      <td>15</td>\n",
       "      <td>16</td>\n",
       "      <td>17</td>\n",
       "      <td>18</td>\n",
       "      <td>19</td>\n",
       "    </tr>\n",
       "    <tr>\n",
       "      <th>2014</th>\n",
       "      <td>20</td>\n",
       "      <td>21</td>\n",
       "      <td>22</td>\n",
       "      <td>23</td>\n",
       "      <td>24</td>\n",
       "    </tr>\n",
       "    <tr>\n",
       "      <th>2015</th>\n",
       "      <td>25</td>\n",
       "      <td>26</td>\n",
       "      <td>27</td>\n",
       "      <td>28</td>\n",
       "      <td>29</td>\n",
       "    </tr>\n",
       "    <tr>\n",
       "      <th>2016</th>\n",
       "      <td>30</td>\n",
       "      <td>31</td>\n",
       "      <td>32</td>\n",
       "      <td>33</td>\n",
       "      <td>34</td>\n",
       "    </tr>\n",
       "    <tr>\n",
       "      <th>2017</th>\n",
       "      <td>35</td>\n",
       "      <td>36</td>\n",
       "      <td>37</td>\n",
       "      <td>38</td>\n",
       "      <td>39</td>\n",
       "    </tr>\n",
       "    <tr>\n",
       "      <th>2018</th>\n",
       "      <td>40</td>\n",
       "      <td>41</td>\n",
       "      <td>42</td>\n",
       "      <td>43</td>\n",
       "      <td>44</td>\n",
       "    </tr>\n",
       "    <tr>\n",
       "      <th>2019</th>\n",
       "      <td>45</td>\n",
       "      <td>46</td>\n",
       "      <td>47</td>\n",
       "      <td>48</td>\n",
       "      <td>49</td>\n",
       "    </tr>\n",
       "  </tbody>\n",
       "</table>\n",
       "</div>"
      ],
      "text/plain": [
       "      customer_id  product_id  item_id  item_price  sales\n",
       "2010            0           1        2           3      4\n",
       "2011            5           6        7           8      9\n",
       "2012           10          11       12          13     14\n",
       "2013           15          16       17          18     19\n",
       "2014           20          21       22          23     24\n",
       "2015           25          26       27          28     29\n",
       "2016           30          31       32          33     34\n",
       "2017           35          36       37          38     39\n",
       "2018           40          41       42          43     44\n",
       "2019           45          46       47          48     49"
      ]
     },
     "execution_count": 22,
     "metadata": {},
     "output_type": "execute_result"
    }
   ],
   "source": [
    "# Ve bunlari birlestirip okutmak istiyorum.\n",
    "\n",
    "from glob import glob\n",
    "DirtySalesDate = sorted(glob('*.csv'))\n",
    "DirtySalesDate\n",
    "\n",
    "df = pd.concat((pd.read_csv(file,index_col=0)) for file in DirtySalesDate)\n",
    "df"
   ]
  },
  {
   "cell_type": "code",
   "execution_count": 23,
   "id": "b1353b6b",
   "metadata": {
    "execution": {
     "iopub.execute_input": "2023-03-13T20:16:59.019332Z",
     "iopub.status.busy": "2023-03-13T20:16:59.017993Z",
     "iopub.status.idle": "2023-03-13T20:16:59.026413Z",
     "shell.execute_reply": "2023-03-13T20:16:59.025313Z"
    },
    "papermill": {
     "duration": 0.038249,
     "end_time": "2023-03-13T20:16:59.029061",
     "exception": false,
     "start_time": "2023-03-13T20:16:58.990812",
     "status": "completed"
    },
    "tags": []
   },
   "outputs": [
    {
     "data": {
      "text/plain": [
       "(10, 5)"
      ]
     },
     "execution_count": 23,
     "metadata": {},
     "output_type": "execute_result"
    }
   ],
   "source": [
    "df.shape"
   ]
  },
  {
   "cell_type": "markdown",
   "id": "95780034",
   "metadata": {
    "papermill": {
     "duration": 0.025561,
     "end_time": "2023-03-13T20:16:59.080906",
     "exception": false,
     "start_time": "2023-03-13T20:16:59.055345",
     "status": "completed"
    },
    "tags": []
   },
   "source": [
    "## Örnek concat kullanımı Yöntemi 2"
   ]
  },
  {
   "cell_type": "code",
   "execution_count": 24,
   "id": "0b8caebc",
   "metadata": {
    "execution": {
     "iopub.execute_input": "2023-03-13T20:16:59.135369Z",
     "iopub.status.busy": "2023-03-13T20:16:59.134920Z",
     "iopub.status.idle": "2023-03-13T20:16:59.161355Z",
     "shell.execute_reply": "2023-03-13T20:16:59.159865Z"
    },
    "papermill": {
     "duration": 0.057067,
     "end_time": "2023-03-13T20:16:59.164486",
     "exception": false,
     "start_time": "2023-03-13T20:16:59.107419",
     "status": "completed"
    },
    "tags": []
   },
   "outputs": [
    {
     "data": {
      "text/html": [
       "<div>\n",
       "<style scoped>\n",
       "    .dataframe tbody tr th:only-of-type {\n",
       "        vertical-align: middle;\n",
       "    }\n",
       "\n",
       "    .dataframe tbody tr th {\n",
       "        vertical-align: top;\n",
       "    }\n",
       "\n",
       "    .dataframe thead th {\n",
       "        text-align: right;\n",
       "    }\n",
       "</style>\n",
       "<table border=\"1\" class=\"dataframe\">\n",
       "  <thead>\n",
       "    <tr style=\"text-align: right;\">\n",
       "      <th></th>\n",
       "      <th>customer_id</th>\n",
       "      <th>product_id</th>\n",
       "      <th>item_id</th>\n",
       "      <th>item_price</th>\n",
       "      <th>sales</th>\n",
       "    </tr>\n",
       "  </thead>\n",
       "  <tbody>\n",
       "    <tr>\n",
       "      <th>2010</th>\n",
       "      <td>0</td>\n",
       "      <td>1</td>\n",
       "      <td>2</td>\n",
       "      <td>3</td>\n",
       "      <td>4</td>\n",
       "    </tr>\n",
       "    <tr>\n",
       "      <th>2011</th>\n",
       "      <td>5</td>\n",
       "      <td>6</td>\n",
       "      <td>7</td>\n",
       "      <td>8</td>\n",
       "      <td>9</td>\n",
       "    </tr>\n",
       "    <tr>\n",
       "      <th>2012</th>\n",
       "      <td>10</td>\n",
       "      <td>11</td>\n",
       "      <td>12</td>\n",
       "      <td>13</td>\n",
       "      <td>14</td>\n",
       "    </tr>\n",
       "    <tr>\n",
       "      <th>2013</th>\n",
       "      <td>15</td>\n",
       "      <td>16</td>\n",
       "      <td>17</td>\n",
       "      <td>18</td>\n",
       "      <td>19</td>\n",
       "    </tr>\n",
       "    <tr>\n",
       "      <th>2014</th>\n",
       "      <td>20</td>\n",
       "      <td>21</td>\n",
       "      <td>22</td>\n",
       "      <td>23</td>\n",
       "      <td>24</td>\n",
       "    </tr>\n",
       "    <tr>\n",
       "      <th>2015</th>\n",
       "      <td>25</td>\n",
       "      <td>26</td>\n",
       "      <td>27</td>\n",
       "      <td>28</td>\n",
       "      <td>29</td>\n",
       "    </tr>\n",
       "    <tr>\n",
       "      <th>2016</th>\n",
       "      <td>30</td>\n",
       "      <td>31</td>\n",
       "      <td>32</td>\n",
       "      <td>33</td>\n",
       "      <td>34</td>\n",
       "    </tr>\n",
       "    <tr>\n",
       "      <th>2017</th>\n",
       "      <td>35</td>\n",
       "      <td>36</td>\n",
       "      <td>37</td>\n",
       "      <td>38</td>\n",
       "      <td>39</td>\n",
       "    </tr>\n",
       "    <tr>\n",
       "      <th>2018</th>\n",
       "      <td>40</td>\n",
       "      <td>41</td>\n",
       "      <td>42</td>\n",
       "      <td>43</td>\n",
       "      <td>44</td>\n",
       "    </tr>\n",
       "    <tr>\n",
       "      <th>2019</th>\n",
       "      <td>45</td>\n",
       "      <td>46</td>\n",
       "      <td>47</td>\n",
       "      <td>48</td>\n",
       "      <td>49</td>\n",
       "    </tr>\n",
       "  </tbody>\n",
       "</table>\n",
       "</div>"
      ],
      "text/plain": [
       "      customer_id  product_id  item_id  item_price  sales\n",
       "2010            0           1        2           3      4\n",
       "2011            5           6        7           8      9\n",
       "2012           10          11       12          13     14\n",
       "2013           15          16       17          18     19\n",
       "2014           20          21       22          23     24\n",
       "2015           25          26       27          28     29\n",
       "2016           30          31       32          33     34\n",
       "2017           35          36       37          38     39\n",
       "2018           40          41       42          43     44\n",
       "2019           45          46       47          48     49"
      ]
     },
     "execution_count": 24,
     "metadata": {},
     "output_type": "execute_result"
    }
   ],
   "source": [
    "df=pd.DataFrame()\n",
    "for name in DirtySalesDate:\n",
    "    df = pd.concat([df,pd.read_csv(name,index_col=0)])\n",
    "df"
   ]
  },
  {
   "cell_type": "code",
   "execution_count": 25,
   "id": "a0ee8f20",
   "metadata": {
    "execution": {
     "iopub.execute_input": "2023-03-13T20:16:59.219889Z",
     "iopub.status.busy": "2023-03-13T20:16:59.219358Z",
     "iopub.status.idle": "2023-03-13T20:16:59.224715Z",
     "shell.execute_reply": "2023-03-13T20:16:59.223282Z"
    },
    "papermill": {
     "duration": 0.03646,
     "end_time": "2023-03-13T20:16:59.227527",
     "exception": false,
     "start_time": "2023-03-13T20:16:59.191067",
     "status": "completed"
    },
    "tags": []
   },
   "outputs": [],
   "source": [
    "#Soru 1: concat() methodu için join argümanının işlevi nelerdir? Default değeri nedir? "
   ]
  },
  {
   "cell_type": "code",
   "execution_count": 26,
   "id": "b40219d5",
   "metadata": {
    "execution": {
     "iopub.execute_input": "2023-03-13T20:16:59.283973Z",
     "iopub.status.busy": "2023-03-13T20:16:59.283484Z",
     "iopub.status.idle": "2023-03-13T20:16:59.288799Z",
     "shell.execute_reply": "2023-03-13T20:16:59.287433Z"
    },
    "papermill": {
     "duration": 0.036558,
     "end_time": "2023-03-13T20:16:59.291431",
     "exception": false,
     "start_time": "2023-03-13T20:16:59.254873",
     "status": "completed"
    },
    "tags": []
   },
   "outputs": [],
   "source": [
    "#Soru 2: pd.concat(df1,df2) biçiminde birleştirilmiş olan 2 DataFramein nasıl birleşmesi beklenir?\n",
    "\n",
    "# A - sütunlara göre\n",
    "# B - satırlara göre\n",
    "\n",
    "# Nedenini açıklayınız."
   ]
  },
  {
   "cell_type": "code",
   "execution_count": 27,
   "id": "fe858ec3",
   "metadata": {
    "execution": {
     "iopub.execute_input": "2023-03-13T20:16:59.346844Z",
     "iopub.status.busy": "2023-03-13T20:16:59.345996Z",
     "iopub.status.idle": "2023-03-13T20:16:59.351365Z",
     "shell.execute_reply": "2023-03-13T20:16:59.350405Z"
    },
    "papermill": {
     "duration": 0.036014,
     "end_time": "2023-03-13T20:16:59.353799",
     "exception": false,
     "start_time": "2023-03-13T20:16:59.317785",
     "status": "completed"
    },
    "tags": []
   },
   "outputs": [],
   "source": [
    "# Soru 3: concat() methodunun bir argümanı olan ignore_index='' ne sebeple kullanilir? Default degeri nedir?"
   ]
  },
  {
   "cell_type": "markdown",
   "id": "65da5b44",
   "metadata": {
    "papermill": {
     "duration": 0.025867,
     "end_time": "2023-03-13T20:16:59.405767",
     "exception": false,
     "start_time": "2023-03-13T20:16:59.379900",
     "status": "completed"
    },
    "tags": []
   },
   "source": [
    "################################\n",
    "# ---------MERGE--------- #\n",
    "################################\n",
    "\n",
    "**kolon odaklı birleştirme yapıyor**\n",
    "\n",
    "1. on='.....'\n",
    "2. left_on='anahtar1', right_on='anahtar2'\n",
    "3. how{‘left’, ‘right’, ‘outer’, ‘inner’, ‘cross’}, default ‘inner’\n",
    "4. suffixes : list-like, default is (“_x”, “_y”)\n",
    "5. on=[\"...\",\"...\"] ile çoklu kolon kullanımı\n",
    "6. right_index=True, left_index=True\n",
    "\n",
    "\n"
   ]
  },
  {
   "cell_type": "code",
   "execution_count": 28,
   "id": "6c44434e",
   "metadata": {
    "execution": {
     "iopub.execute_input": "2023-03-13T20:16:59.460119Z",
     "iopub.status.busy": "2023-03-13T20:16:59.459638Z",
     "iopub.status.idle": "2023-03-13T20:16:59.473755Z",
     "shell.execute_reply": "2023-03-13T20:16:59.472679Z"
    },
    "papermill": {
     "duration": 0.044053,
     "end_time": "2023-03-13T20:16:59.476036",
     "exception": false,
     "start_time": "2023-03-13T20:16:59.431983",
     "status": "completed"
    },
    "tags": []
   },
   "outputs": [
    {
     "data": {
      "text/html": [
       "<div>\n",
       "<style scoped>\n",
       "    .dataframe tbody tr th:only-of-type {\n",
       "        vertical-align: middle;\n",
       "    }\n",
       "\n",
       "    .dataframe tbody tr th {\n",
       "        vertical-align: top;\n",
       "    }\n",
       "\n",
       "    .dataframe thead th {\n",
       "        text-align: right;\n",
       "    }\n",
       "</style>\n",
       "<table border=\"1\" class=\"dataframe\">\n",
       "  <thead>\n",
       "    <tr style=\"text-align: right;\">\n",
       "      <th></th>\n",
       "      <th>anahtar</th>\n",
       "      <th>df1_col1</th>\n",
       "    </tr>\n",
       "  </thead>\n",
       "  <tbody>\n",
       "    <tr>\n",
       "      <th>index_1</th>\n",
       "      <td>a</td>\n",
       "      <td>1</td>\n",
       "    </tr>\n",
       "    <tr>\n",
       "      <th>index_2</th>\n",
       "      <td>b</td>\n",
       "      <td>2</td>\n",
       "    </tr>\n",
       "    <tr>\n",
       "      <th>index_3</th>\n",
       "      <td>c</td>\n",
       "      <td>3</td>\n",
       "    </tr>\n",
       "  </tbody>\n",
       "</table>\n",
       "</div>"
      ],
      "text/plain": [
       "        anahtar  df1_col1\n",
       "index_1       a         1\n",
       "index_2       b         2\n",
       "index_3       c         3"
      ]
     },
     "execution_count": 28,
     "metadata": {},
     "output_type": "execute_result"
    }
   ],
   "source": [
    "df1 = pd.DataFrame({'anahtar': ['a', 'b', 'c'],\n",
    "                    'df1_col1': range(1,4)},\n",
    "                   index=['index_1', 'index_2','index_3'])\n",
    "\n",
    "df2 = pd.DataFrame({'anahtar': ['b', 'c', 'd'],\n",
    "                    'df2_col2': range(2,5)},\n",
    "                   index=['index_2','index_3','index_4'])\n",
    "df1"
   ]
  },
  {
   "cell_type": "code",
   "execution_count": 29,
   "id": "e2d71967",
   "metadata": {
    "execution": {
     "iopub.execute_input": "2023-03-13T20:16:59.531477Z",
     "iopub.status.busy": "2023-03-13T20:16:59.530087Z",
     "iopub.status.idle": "2023-03-13T20:16:59.541101Z",
     "shell.execute_reply": "2023-03-13T20:16:59.540051Z"
    },
    "papermill": {
     "duration": 0.041354,
     "end_time": "2023-03-13T20:16:59.543671",
     "exception": false,
     "start_time": "2023-03-13T20:16:59.502317",
     "status": "completed"
    },
    "scrolled": true,
    "tags": []
   },
   "outputs": [
    {
     "data": {
      "text/html": [
       "<div>\n",
       "<style scoped>\n",
       "    .dataframe tbody tr th:only-of-type {\n",
       "        vertical-align: middle;\n",
       "    }\n",
       "\n",
       "    .dataframe tbody tr th {\n",
       "        vertical-align: top;\n",
       "    }\n",
       "\n",
       "    .dataframe thead th {\n",
       "        text-align: right;\n",
       "    }\n",
       "</style>\n",
       "<table border=\"1\" class=\"dataframe\">\n",
       "  <thead>\n",
       "    <tr style=\"text-align: right;\">\n",
       "      <th></th>\n",
       "      <th>anahtar</th>\n",
       "      <th>df2_col2</th>\n",
       "    </tr>\n",
       "  </thead>\n",
       "  <tbody>\n",
       "    <tr>\n",
       "      <th>index_2</th>\n",
       "      <td>b</td>\n",
       "      <td>2</td>\n",
       "    </tr>\n",
       "    <tr>\n",
       "      <th>index_3</th>\n",
       "      <td>c</td>\n",
       "      <td>3</td>\n",
       "    </tr>\n",
       "    <tr>\n",
       "      <th>index_4</th>\n",
       "      <td>d</td>\n",
       "      <td>4</td>\n",
       "    </tr>\n",
       "  </tbody>\n",
       "</table>\n",
       "</div>"
      ],
      "text/plain": [
       "        anahtar  df2_col2\n",
       "index_2       b         2\n",
       "index_3       c         3\n",
       "index_4       d         4"
      ]
     },
     "execution_count": 29,
     "metadata": {},
     "output_type": "execute_result"
    }
   ],
   "source": [
    "df2"
   ]
  },
  {
   "cell_type": "markdown",
   "id": "7e276eea",
   "metadata": {
    "papermill": {
     "duration": 0.025871,
     "end_time": "2023-03-13T20:16:59.595967",
     "exception": false,
     "start_time": "2023-03-13T20:16:59.570096",
     "status": "completed"
    },
    "tags": []
   },
   "source": [
    "## on='.....'"
   ]
  },
  {
   "cell_type": "code",
   "execution_count": 30,
   "id": "979bba96",
   "metadata": {
    "execution": {
     "iopub.execute_input": "2023-03-13T20:16:59.652448Z",
     "iopub.status.busy": "2023-03-13T20:16:59.651019Z",
     "iopub.status.idle": "2023-03-13T20:16:59.677188Z",
     "shell.execute_reply": "2023-03-13T20:16:59.675853Z"
    },
    "papermill": {
     "duration": 0.056931,
     "end_time": "2023-03-13T20:16:59.679875",
     "exception": false,
     "start_time": "2023-03-13T20:16:59.622944",
     "status": "completed"
    },
    "tags": []
   },
   "outputs": [
    {
     "data": {
      "text/html": [
       "<div>\n",
       "<style scoped>\n",
       "    .dataframe tbody tr th:only-of-type {\n",
       "        vertical-align: middle;\n",
       "    }\n",
       "\n",
       "    .dataframe tbody tr th {\n",
       "        vertical-align: top;\n",
       "    }\n",
       "\n",
       "    .dataframe thead th {\n",
       "        text-align: right;\n",
       "    }\n",
       "</style>\n",
       "<table border=\"1\" class=\"dataframe\">\n",
       "  <thead>\n",
       "    <tr style=\"text-align: right;\">\n",
       "      <th></th>\n",
       "      <th>anahtar</th>\n",
       "      <th>df1_col1</th>\n",
       "      <th>df2_col2</th>\n",
       "    </tr>\n",
       "  </thead>\n",
       "  <tbody>\n",
       "    <tr>\n",
       "      <th>0</th>\n",
       "      <td>b</td>\n",
       "      <td>2</td>\n",
       "      <td>2</td>\n",
       "    </tr>\n",
       "    <tr>\n",
       "      <th>1</th>\n",
       "      <td>c</td>\n",
       "      <td>3</td>\n",
       "      <td>3</td>\n",
       "    </tr>\n",
       "  </tbody>\n",
       "</table>\n",
       "</div>"
      ],
      "text/plain": [
       "  anahtar  df1_col1  df2_col2\n",
       "0       b         2         2\n",
       "1       c         3         3"
      ]
     },
     "execution_count": 30,
     "metadata": {},
     "output_type": "execute_result"
    }
   ],
   "source": [
    "# merge() fonksiyonunu kullanarak bu iki DataFrame i birleştirelim..\n",
    "# DataFrame de ortak olarak 'anahtar' degiskeni oldugundan otomatik olarak ona gore birlestirdi.\n",
    "pd.merge(df1, df2)"
   ]
  },
  {
   "cell_type": "code",
   "execution_count": 31,
   "id": "a52ec216",
   "metadata": {
    "execution": {
     "iopub.execute_input": "2023-03-13T20:16:59.737233Z",
     "iopub.status.busy": "2023-03-13T20:16:59.736156Z",
     "iopub.status.idle": "2023-03-13T20:16:59.751822Z",
     "shell.execute_reply": "2023-03-13T20:16:59.750575Z"
    },
    "papermill": {
     "duration": 0.047798,
     "end_time": "2023-03-13T20:16:59.755060",
     "exception": false,
     "start_time": "2023-03-13T20:16:59.707262",
     "status": "completed"
    },
    "tags": []
   },
   "outputs": [
    {
     "data": {
      "text/html": [
       "<div>\n",
       "<style scoped>\n",
       "    .dataframe tbody tr th:only-of-type {\n",
       "        vertical-align: middle;\n",
       "    }\n",
       "\n",
       "    .dataframe tbody tr th {\n",
       "        vertical-align: top;\n",
       "    }\n",
       "\n",
       "    .dataframe thead th {\n",
       "        text-align: right;\n",
       "    }\n",
       "</style>\n",
       "<table border=\"1\" class=\"dataframe\">\n",
       "  <thead>\n",
       "    <tr style=\"text-align: right;\">\n",
       "      <th></th>\n",
       "      <th>anahtar</th>\n",
       "      <th>df1_col1</th>\n",
       "      <th>df2_col2</th>\n",
       "    </tr>\n",
       "  </thead>\n",
       "  <tbody>\n",
       "    <tr>\n",
       "      <th>0</th>\n",
       "      <td>b</td>\n",
       "      <td>2</td>\n",
       "      <td>2</td>\n",
       "    </tr>\n",
       "    <tr>\n",
       "      <th>1</th>\n",
       "      <td>c</td>\n",
       "      <td>3</td>\n",
       "      <td>3</td>\n",
       "    </tr>\n",
       "  </tbody>\n",
       "</table>\n",
       "</div>"
      ],
      "text/plain": [
       "  anahtar  df1_col1  df2_col2\n",
       "0       b         2         2\n",
       "1       c         3         3"
      ]
     },
     "execution_count": 31,
     "metadata": {},
     "output_type": "execute_result"
    }
   ],
   "source": [
    "pd.merge(df1, df2, on='anahtar')"
   ]
  },
  {
   "cell_type": "markdown",
   "id": "664f24b0",
   "metadata": {
    "papermill": {
     "duration": 0.026554,
     "end_time": "2023-03-13T20:16:59.808502",
     "exception": false,
     "start_time": "2023-03-13T20:16:59.781948",
     "status": "completed"
    },
    "tags": []
   },
   "source": [
    "## left_on='anahtar1', right_on='anahtar2'"
   ]
  },
  {
   "cell_type": "code",
   "execution_count": 32,
   "id": "314e2be3",
   "metadata": {
    "execution": {
     "iopub.execute_input": "2023-03-13T20:16:59.867415Z",
     "iopub.status.busy": "2023-03-13T20:16:59.866457Z",
     "iopub.status.idle": "2023-03-13T20:16:59.872791Z",
     "shell.execute_reply": "2023-03-13T20:16:59.871831Z"
    },
    "papermill": {
     "duration": 0.038516,
     "end_time": "2023-03-13T20:16:59.875504",
     "exception": false,
     "start_time": "2023-03-13T20:16:59.836988",
     "status": "completed"
    },
    "tags": []
   },
   "outputs": [],
   "source": [
    "df1.columns=[\"anahtar1\",\"df1_col1\"]\n",
    "df2.columns=[\"anahtar2\",\"df1_col2\"]"
   ]
  },
  {
   "cell_type": "code",
   "execution_count": 33,
   "id": "bc562c9b",
   "metadata": {
    "execution": {
     "iopub.execute_input": "2023-03-13T20:16:59.933255Z",
     "iopub.status.busy": "2023-03-13T20:16:59.932266Z",
     "iopub.status.idle": "2023-03-13T20:16:59.945062Z",
     "shell.execute_reply": "2023-03-13T20:16:59.943267Z"
    },
    "papermill": {
     "duration": 0.046083,
     "end_time": "2023-03-13T20:16:59.948660",
     "exception": false,
     "start_time": "2023-03-13T20:16:59.902577",
     "status": "completed"
    },
    "tags": []
   },
   "outputs": [
    {
     "data": {
      "text/html": [
       "<div>\n",
       "<style scoped>\n",
       "    .dataframe tbody tr th:only-of-type {\n",
       "        vertical-align: middle;\n",
       "    }\n",
       "\n",
       "    .dataframe tbody tr th {\n",
       "        vertical-align: top;\n",
       "    }\n",
       "\n",
       "    .dataframe thead th {\n",
       "        text-align: right;\n",
       "    }\n",
       "</style>\n",
       "<table border=\"1\" class=\"dataframe\">\n",
       "  <thead>\n",
       "    <tr style=\"text-align: right;\">\n",
       "      <th></th>\n",
       "      <th>anahtar1</th>\n",
       "      <th>df1_col1</th>\n",
       "    </tr>\n",
       "  </thead>\n",
       "  <tbody>\n",
       "    <tr>\n",
       "      <th>index_1</th>\n",
       "      <td>a</td>\n",
       "      <td>1</td>\n",
       "    </tr>\n",
       "    <tr>\n",
       "      <th>index_2</th>\n",
       "      <td>b</td>\n",
       "      <td>2</td>\n",
       "    </tr>\n",
       "    <tr>\n",
       "      <th>index_3</th>\n",
       "      <td>c</td>\n",
       "      <td>3</td>\n",
       "    </tr>\n",
       "  </tbody>\n",
       "</table>\n",
       "</div>"
      ],
      "text/plain": [
       "        anahtar1  df1_col1\n",
       "index_1        a         1\n",
       "index_2        b         2\n",
       "index_3        c         3"
      ]
     },
     "execution_count": 33,
     "metadata": {},
     "output_type": "execute_result"
    }
   ],
   "source": [
    "df1"
   ]
  },
  {
   "cell_type": "code",
   "execution_count": 34,
   "id": "3d75a1cb",
   "metadata": {
    "execution": {
     "iopub.execute_input": "2023-03-13T20:17:00.005549Z",
     "iopub.status.busy": "2023-03-13T20:17:00.005034Z",
     "iopub.status.idle": "2023-03-13T20:17:00.017261Z",
     "shell.execute_reply": "2023-03-13T20:17:00.015923Z"
    },
    "papermill": {
     "duration": 0.043667,
     "end_time": "2023-03-13T20:17:00.020188",
     "exception": false,
     "start_time": "2023-03-13T20:16:59.976521",
     "status": "completed"
    },
    "tags": []
   },
   "outputs": [
    {
     "data": {
      "text/html": [
       "<div>\n",
       "<style scoped>\n",
       "    .dataframe tbody tr th:only-of-type {\n",
       "        vertical-align: middle;\n",
       "    }\n",
       "\n",
       "    .dataframe tbody tr th {\n",
       "        vertical-align: top;\n",
       "    }\n",
       "\n",
       "    .dataframe thead th {\n",
       "        text-align: right;\n",
       "    }\n",
       "</style>\n",
       "<table border=\"1\" class=\"dataframe\">\n",
       "  <thead>\n",
       "    <tr style=\"text-align: right;\">\n",
       "      <th></th>\n",
       "      <th>anahtar2</th>\n",
       "      <th>df1_col2</th>\n",
       "    </tr>\n",
       "  </thead>\n",
       "  <tbody>\n",
       "    <tr>\n",
       "      <th>index_2</th>\n",
       "      <td>b</td>\n",
       "      <td>2</td>\n",
       "    </tr>\n",
       "    <tr>\n",
       "      <th>index_3</th>\n",
       "      <td>c</td>\n",
       "      <td>3</td>\n",
       "    </tr>\n",
       "    <tr>\n",
       "      <th>index_4</th>\n",
       "      <td>d</td>\n",
       "      <td>4</td>\n",
       "    </tr>\n",
       "  </tbody>\n",
       "</table>\n",
       "</div>"
      ],
      "text/plain": [
       "        anahtar2  df1_col2\n",
       "index_2        b         2\n",
       "index_3        c         3\n",
       "index_4        d         4"
      ]
     },
     "execution_count": 34,
     "metadata": {},
     "output_type": "execute_result"
    }
   ],
   "source": [
    "df2"
   ]
  },
  {
   "cell_type": "code",
   "execution_count": 35,
   "id": "6de2f6d8",
   "metadata": {
    "execution": {
     "iopub.execute_input": "2023-03-13T20:17:00.077917Z",
     "iopub.status.busy": "2023-03-13T20:17:00.077143Z",
     "iopub.status.idle": "2023-03-13T20:17:00.092623Z",
     "shell.execute_reply": "2023-03-13T20:17:00.091225Z"
    },
    "papermill": {
     "duration": 0.047741,
     "end_time": "2023-03-13T20:17:00.095908",
     "exception": false,
     "start_time": "2023-03-13T20:17:00.048167",
     "status": "completed"
    },
    "tags": []
   },
   "outputs": [
    {
     "data": {
      "text/html": [
       "<div>\n",
       "<style scoped>\n",
       "    .dataframe tbody tr th:only-of-type {\n",
       "        vertical-align: middle;\n",
       "    }\n",
       "\n",
       "    .dataframe tbody tr th {\n",
       "        vertical-align: top;\n",
       "    }\n",
       "\n",
       "    .dataframe thead th {\n",
       "        text-align: right;\n",
       "    }\n",
       "</style>\n",
       "<table border=\"1\" class=\"dataframe\">\n",
       "  <thead>\n",
       "    <tr style=\"text-align: right;\">\n",
       "      <th></th>\n",
       "      <th>anahtar1</th>\n",
       "      <th>df1_col1</th>\n",
       "      <th>anahtar2</th>\n",
       "      <th>df1_col2</th>\n",
       "    </tr>\n",
       "  </thead>\n",
       "  <tbody>\n",
       "    <tr>\n",
       "      <th>0</th>\n",
       "      <td>b</td>\n",
       "      <td>2</td>\n",
       "      <td>b</td>\n",
       "      <td>2</td>\n",
       "    </tr>\n",
       "    <tr>\n",
       "      <th>1</th>\n",
       "      <td>c</td>\n",
       "      <td>3</td>\n",
       "      <td>c</td>\n",
       "      <td>3</td>\n",
       "    </tr>\n",
       "  </tbody>\n",
       "</table>\n",
       "</div>"
      ],
      "text/plain": [
       "  anahtar1  df1_col1 anahtar2  df1_col2\n",
       "0        b         2        b         2\n",
       "1        c         3        c         3"
      ]
     },
     "execution_count": 35,
     "metadata": {},
     "output_type": "execute_result"
    }
   ],
   "source": [
    "pd.merge(df1, df2, left_on='anahtar1', right_on='anahtar2')"
   ]
  },
  {
   "cell_type": "code",
   "execution_count": 36,
   "id": "d19a551b",
   "metadata": {
    "execution": {
     "iopub.execute_input": "2023-03-13T20:17:00.154947Z",
     "iopub.status.busy": "2023-03-13T20:17:00.154485Z",
     "iopub.status.idle": "2023-03-13T20:17:00.169733Z",
     "shell.execute_reply": "2023-03-13T20:17:00.168509Z"
    },
    "papermill": {
     "duration": 0.048258,
     "end_time": "2023-03-13T20:17:00.172240",
     "exception": false,
     "start_time": "2023-03-13T20:17:00.123982",
     "status": "completed"
    },
    "tags": []
   },
   "outputs": [
    {
     "data": {
      "text/html": [
       "<div>\n",
       "<style scoped>\n",
       "    .dataframe tbody tr th:only-of-type {\n",
       "        vertical-align: middle;\n",
       "    }\n",
       "\n",
       "    .dataframe tbody tr th {\n",
       "        vertical-align: top;\n",
       "    }\n",
       "\n",
       "    .dataframe thead th {\n",
       "        text-align: right;\n",
       "    }\n",
       "</style>\n",
       "<table border=\"1\" class=\"dataframe\">\n",
       "  <thead>\n",
       "    <tr style=\"text-align: right;\">\n",
       "      <th></th>\n",
       "      <th>anahtar2</th>\n",
       "      <th>df1_col2</th>\n",
       "      <th>anahtar1</th>\n",
       "      <th>df1_col1</th>\n",
       "    </tr>\n",
       "  </thead>\n",
       "  <tbody>\n",
       "    <tr>\n",
       "      <th>0</th>\n",
       "      <td>b</td>\n",
       "      <td>2</td>\n",
       "      <td>b</td>\n",
       "      <td>2</td>\n",
       "    </tr>\n",
       "    <tr>\n",
       "      <th>1</th>\n",
       "      <td>c</td>\n",
       "      <td>3</td>\n",
       "      <td>c</td>\n",
       "      <td>3</td>\n",
       "    </tr>\n",
       "  </tbody>\n",
       "</table>\n",
       "</div>"
      ],
      "text/plain": [
       "  anahtar2  df1_col2 anahtar1  df1_col1\n",
       "0        b         2        b         2\n",
       "1        c         3        c         3"
      ]
     },
     "execution_count": 36,
     "metadata": {},
     "output_type": "execute_result"
    }
   ],
   "source": [
    "pd.merge(df2, df1, left_on='anahtar2', right_on='anahtar1')\n"
   ]
  },
  {
   "cell_type": "markdown",
   "id": "92a16d29",
   "metadata": {
    "papermill": {
     "duration": 0.027046,
     "end_time": "2023-03-13T20:17:00.227192",
     "exception": false,
     "start_time": "2023-03-13T20:17:00.200146",
     "status": "completed"
    },
    "tags": []
   },
   "source": [
    "## how{‘left’, ‘right’, ‘outer’, ‘inner’, ‘cross’}, default ‘inner’"
   ]
  },
  {
   "cell_type": "code",
   "execution_count": 37,
   "id": "5a20c7f7",
   "metadata": {
    "execution": {
     "iopub.execute_input": "2023-03-13T20:17:00.284970Z",
     "iopub.status.busy": "2023-03-13T20:17:00.284481Z",
     "iopub.status.idle": "2023-03-13T20:17:00.300805Z",
     "shell.execute_reply": "2023-03-13T20:17:00.299489Z"
    },
    "papermill": {
     "duration": 0.048972,
     "end_time": "2023-03-13T20:17:00.303301",
     "exception": false,
     "start_time": "2023-03-13T20:17:00.254329",
     "status": "completed"
    },
    "tags": []
   },
   "outputs": [
    {
     "data": {
      "text/html": [
       "<div>\n",
       "<style scoped>\n",
       "    .dataframe tbody tr th:only-of-type {\n",
       "        vertical-align: middle;\n",
       "    }\n",
       "\n",
       "    .dataframe tbody tr th {\n",
       "        vertical-align: top;\n",
       "    }\n",
       "\n",
       "    .dataframe thead th {\n",
       "        text-align: right;\n",
       "    }\n",
       "</style>\n",
       "<table border=\"1\" class=\"dataframe\">\n",
       "  <thead>\n",
       "    <tr style=\"text-align: right;\">\n",
       "      <th></th>\n",
       "      <th>anahtar1</th>\n",
       "      <th>df1_col1</th>\n",
       "      <th>anahtar2</th>\n",
       "      <th>df1_col2</th>\n",
       "    </tr>\n",
       "  </thead>\n",
       "  <tbody>\n",
       "    <tr>\n",
       "      <th>0</th>\n",
       "      <td>a</td>\n",
       "      <td>1.0</td>\n",
       "      <td>NaN</td>\n",
       "      <td>NaN</td>\n",
       "    </tr>\n",
       "    <tr>\n",
       "      <th>1</th>\n",
       "      <td>b</td>\n",
       "      <td>2.0</td>\n",
       "      <td>b</td>\n",
       "      <td>2.0</td>\n",
       "    </tr>\n",
       "    <tr>\n",
       "      <th>2</th>\n",
       "      <td>c</td>\n",
       "      <td>3.0</td>\n",
       "      <td>c</td>\n",
       "      <td>3.0</td>\n",
       "    </tr>\n",
       "    <tr>\n",
       "      <th>3</th>\n",
       "      <td>NaN</td>\n",
       "      <td>NaN</td>\n",
       "      <td>d</td>\n",
       "      <td>4.0</td>\n",
       "    </tr>\n",
       "  </tbody>\n",
       "</table>\n",
       "</div>"
      ],
      "text/plain": [
       "  anahtar1  df1_col1 anahtar2  df1_col2\n",
       "0        a       1.0      NaN       NaN\n",
       "1        b       2.0        b       2.0\n",
       "2        c       3.0        c       3.0\n",
       "3      NaN       NaN        d       4.0"
      ]
     },
     "execution_count": 37,
     "metadata": {},
     "output_type": "execute_result"
    }
   ],
   "source": [
    "# Dikkat ettiyseniz a ve d degerleri karsiligi olmadigi icin ekrana yazdirilmadi.\n",
    "# Buna ragmen birlestirme yapmak istersek outer opsiyonunu kullanabiliriz:\n",
    "pd.merge(df1, df2, left_on='anahtar1', right_on='anahtar2', how='outer')"
   ]
  },
  {
   "cell_type": "code",
   "execution_count": 38,
   "id": "63924ef6",
   "metadata": {
    "execution": {
     "iopub.execute_input": "2023-03-13T20:17:00.361874Z",
     "iopub.status.busy": "2023-03-13T20:17:00.360537Z",
     "iopub.status.idle": "2023-03-13T20:17:00.379613Z",
     "shell.execute_reply": "2023-03-13T20:17:00.378085Z"
    },
    "papermill": {
     "duration": 0.0517,
     "end_time": "2023-03-13T20:17:00.382438",
     "exception": false,
     "start_time": "2023-03-13T20:17:00.330738",
     "status": "completed"
    },
    "tags": []
   },
   "outputs": [
    {
     "data": {
      "text/html": [
       "<div>\n",
       "<style scoped>\n",
       "    .dataframe tbody tr th:only-of-type {\n",
       "        vertical-align: middle;\n",
       "    }\n",
       "\n",
       "    .dataframe tbody tr th {\n",
       "        vertical-align: top;\n",
       "    }\n",
       "\n",
       "    .dataframe thead th {\n",
       "        text-align: right;\n",
       "    }\n",
       "</style>\n",
       "<table border=\"1\" class=\"dataframe\">\n",
       "  <thead>\n",
       "    <tr style=\"text-align: right;\">\n",
       "      <th></th>\n",
       "      <th>anahtar1</th>\n",
       "      <th>df1_col1</th>\n",
       "      <th>anahtar2</th>\n",
       "      <th>df1_col2</th>\n",
       "    </tr>\n",
       "  </thead>\n",
       "  <tbody>\n",
       "    <tr>\n",
       "      <th>0</th>\n",
       "      <td>a</td>\n",
       "      <td>1</td>\n",
       "      <td>NaN</td>\n",
       "      <td>NaN</td>\n",
       "    </tr>\n",
       "    <tr>\n",
       "      <th>1</th>\n",
       "      <td>b</td>\n",
       "      <td>2</td>\n",
       "      <td>b</td>\n",
       "      <td>2.0</td>\n",
       "    </tr>\n",
       "    <tr>\n",
       "      <th>2</th>\n",
       "      <td>c</td>\n",
       "      <td>3</td>\n",
       "      <td>c</td>\n",
       "      <td>3.0</td>\n",
       "    </tr>\n",
       "  </tbody>\n",
       "</table>\n",
       "</div>"
      ],
      "text/plain": [
       "  anahtar1  df1_col1 anahtar2  df1_col2\n",
       "0        a         1      NaN       NaN\n",
       "1        b         2        b       2.0\n",
       "2        c         3        c       3.0"
      ]
     },
     "execution_count": 38,
     "metadata": {},
     "output_type": "execute_result"
    }
   ],
   "source": [
    "pd.merge(df1, df2, left_on='anahtar1', right_on='anahtar2', how='left')"
   ]
  },
  {
   "cell_type": "code",
   "execution_count": 39,
   "id": "3209b3e3",
   "metadata": {
    "execution": {
     "iopub.execute_input": "2023-03-13T20:17:00.440355Z",
     "iopub.status.busy": "2023-03-13T20:17:00.439844Z",
     "iopub.status.idle": "2023-03-13T20:17:00.457403Z",
     "shell.execute_reply": "2023-03-13T20:17:00.456342Z"
    },
    "papermill": {
     "duration": 0.049742,
     "end_time": "2023-03-13T20:17:00.460180",
     "exception": false,
     "start_time": "2023-03-13T20:17:00.410438",
     "status": "completed"
    },
    "tags": []
   },
   "outputs": [
    {
     "data": {
      "text/html": [
       "<div>\n",
       "<style scoped>\n",
       "    .dataframe tbody tr th:only-of-type {\n",
       "        vertical-align: middle;\n",
       "    }\n",
       "\n",
       "    .dataframe tbody tr th {\n",
       "        vertical-align: top;\n",
       "    }\n",
       "\n",
       "    .dataframe thead th {\n",
       "        text-align: right;\n",
       "    }\n",
       "</style>\n",
       "<table border=\"1\" class=\"dataframe\">\n",
       "  <thead>\n",
       "    <tr style=\"text-align: right;\">\n",
       "      <th></th>\n",
       "      <th>anahtar1</th>\n",
       "      <th>df1_col1</th>\n",
       "      <th>anahtar2</th>\n",
       "      <th>df1_col2</th>\n",
       "    </tr>\n",
       "  </thead>\n",
       "  <tbody>\n",
       "    <tr>\n",
       "      <th>0</th>\n",
       "      <td>b</td>\n",
       "      <td>2</td>\n",
       "      <td>b</td>\n",
       "      <td>2</td>\n",
       "    </tr>\n",
       "    <tr>\n",
       "      <th>1</th>\n",
       "      <td>c</td>\n",
       "      <td>3</td>\n",
       "      <td>c</td>\n",
       "      <td>3</td>\n",
       "    </tr>\n",
       "  </tbody>\n",
       "</table>\n",
       "</div>"
      ],
      "text/plain": [
       "  anahtar1  df1_col1 anahtar2  df1_col2\n",
       "0        b         2        b         2\n",
       "1        c         3        c         3"
      ]
     },
     "execution_count": 39,
     "metadata": {},
     "output_type": "execute_result"
    }
   ],
   "source": [
    "pd.merge(df1, df2, left_on='anahtar1', right_on='anahtar2', how='inner')  # Varsayilan how='inner'"
   ]
  },
  {
   "cell_type": "code",
   "execution_count": 40,
   "id": "dfd2c225",
   "metadata": {
    "execution": {
     "iopub.execute_input": "2023-03-13T20:17:00.520281Z",
     "iopub.status.busy": "2023-03-13T20:17:00.519822Z",
     "iopub.status.idle": "2023-03-13T20:17:00.537149Z",
     "shell.execute_reply": "2023-03-13T20:17:00.535654Z"
    },
    "papermill": {
     "duration": 0.052099,
     "end_time": "2023-03-13T20:17:00.540221",
     "exception": false,
     "start_time": "2023-03-13T20:17:00.488122",
     "status": "completed"
    },
    "tags": []
   },
   "outputs": [
    {
     "data": {
      "text/html": [
       "<div>\n",
       "<style scoped>\n",
       "    .dataframe tbody tr th:only-of-type {\n",
       "        vertical-align: middle;\n",
       "    }\n",
       "\n",
       "    .dataframe tbody tr th {\n",
       "        vertical-align: top;\n",
       "    }\n",
       "\n",
       "    .dataframe thead th {\n",
       "        text-align: right;\n",
       "    }\n",
       "</style>\n",
       "<table border=\"1\" class=\"dataframe\">\n",
       "  <thead>\n",
       "    <tr style=\"text-align: right;\">\n",
       "      <th></th>\n",
       "      <th>anahtar1</th>\n",
       "      <th>df1_col1</th>\n",
       "      <th>anahtar2</th>\n",
       "      <th>df1_col2</th>\n",
       "    </tr>\n",
       "  </thead>\n",
       "  <tbody>\n",
       "    <tr>\n",
       "      <th>0</th>\n",
       "      <td>b</td>\n",
       "      <td>2.0</td>\n",
       "      <td>b</td>\n",
       "      <td>2</td>\n",
       "    </tr>\n",
       "    <tr>\n",
       "      <th>1</th>\n",
       "      <td>c</td>\n",
       "      <td>3.0</td>\n",
       "      <td>c</td>\n",
       "      <td>3</td>\n",
       "    </tr>\n",
       "    <tr>\n",
       "      <th>2</th>\n",
       "      <td>NaN</td>\n",
       "      <td>NaN</td>\n",
       "      <td>d</td>\n",
       "      <td>4</td>\n",
       "    </tr>\n",
       "  </tbody>\n",
       "</table>\n",
       "</div>"
      ],
      "text/plain": [
       "  anahtar1  df1_col1 anahtar2  df1_col2\n",
       "0        b       2.0        b         2\n",
       "1        c       3.0        c         3\n",
       "2      NaN       NaN        d         4"
      ]
     },
     "execution_count": 40,
     "metadata": {},
     "output_type": "execute_result"
    }
   ],
   "source": [
    "pd.merge(df1, df2, left_on='anahtar1', right_on='anahtar2', how='right')"
   ]
  },
  {
   "cell_type": "markdown",
   "id": "ef9eafb3",
   "metadata": {
    "papermill": {
     "duration": 0.027934,
     "end_time": "2023-03-13T20:17:00.596886",
     "exception": false,
     "start_time": "2023-03-13T20:17:00.568952",
     "status": "completed"
    },
    "tags": []
   },
   "source": [
    "## suffixes : list-like, default is (“_x”, “_y”)"
   ]
  },
  {
   "cell_type": "code",
   "execution_count": 41,
   "id": "9041d3ab",
   "metadata": {
    "execution": {
     "iopub.execute_input": "2023-03-13T20:17:00.657514Z",
     "iopub.status.busy": "2023-03-13T20:17:00.656992Z",
     "iopub.status.idle": "2023-03-13T20:17:00.673180Z",
     "shell.execute_reply": "2023-03-13T20:17:00.671708Z"
    },
    "papermill": {
     "duration": 0.049957,
     "end_time": "2023-03-13T20:17:00.675798",
     "exception": false,
     "start_time": "2023-03-13T20:17:00.625841",
     "status": "completed"
    },
    "tags": []
   },
   "outputs": [
    {
     "data": {
      "text/html": [
       "<div>\n",
       "<style scoped>\n",
       "    .dataframe tbody tr th:only-of-type {\n",
       "        vertical-align: middle;\n",
       "    }\n",
       "\n",
       "    .dataframe tbody tr th {\n",
       "        vertical-align: top;\n",
       "    }\n",
       "\n",
       "    .dataframe thead th {\n",
       "        text-align: right;\n",
       "    }\n",
       "</style>\n",
       "<table border=\"1\" class=\"dataframe\">\n",
       "  <thead>\n",
       "    <tr style=\"text-align: right;\">\n",
       "      <th></th>\n",
       "      <th>anahtar</th>\n",
       "      <th>df1_col1</th>\n",
       "      <th>sayi</th>\n",
       "    </tr>\n",
       "  </thead>\n",
       "  <tbody>\n",
       "    <tr>\n",
       "      <th>0</th>\n",
       "      <td>a</td>\n",
       "      <td>1</td>\n",
       "      <td>bir</td>\n",
       "    </tr>\n",
       "    <tr>\n",
       "      <th>1</th>\n",
       "      <td>b</td>\n",
       "      <td>2</td>\n",
       "      <td>iki</td>\n",
       "    </tr>\n",
       "    <tr>\n",
       "      <th>2</th>\n",
       "      <td>c</td>\n",
       "      <td>3</td>\n",
       "      <td>uc</td>\n",
       "    </tr>\n",
       "  </tbody>\n",
       "</table>\n",
       "</div>"
      ],
      "text/plain": [
       "  anahtar  df1_col1 sayi\n",
       "0       a         1  bir\n",
       "1       b         2  iki\n",
       "2       c         3   uc"
      ]
     },
     "execution_count": 41,
     "metadata": {},
     "output_type": "execute_result"
    }
   ],
   "source": [
    "# Bazen veri setlerini birlestirirken birden fazla anahtar sutunlar olabilir.\n",
    "df1 = pd.DataFrame({'anahtar': ['a', 'b', 'c'],\n",
    "                    'df1_col1': range(1,4),\n",
    "                    'sayi': ['bir', 'iki', 'uc']})\n",
    "\n",
    "df2 = pd.DataFrame({'anahtar': ['b', 'c', 'd'],\n",
    "                    'df2_col2': range(2,5),\n",
    "                    'sayi': ['uc', 'uc', 'uc']})\n",
    "df1"
   ]
  },
  {
   "cell_type": "code",
   "execution_count": 42,
   "id": "f74c6038",
   "metadata": {
    "execution": {
     "iopub.execute_input": "2023-03-13T20:17:00.735548Z",
     "iopub.status.busy": "2023-03-13T20:17:00.735052Z",
     "iopub.status.idle": "2023-03-13T20:17:00.746898Z",
     "shell.execute_reply": "2023-03-13T20:17:00.745429Z"
    },
    "papermill": {
     "duration": 0.045413,
     "end_time": "2023-03-13T20:17:00.749728",
     "exception": false,
     "start_time": "2023-03-13T20:17:00.704315",
     "status": "completed"
    },
    "tags": []
   },
   "outputs": [
    {
     "data": {
      "text/html": [
       "<div>\n",
       "<style scoped>\n",
       "    .dataframe tbody tr th:only-of-type {\n",
       "        vertical-align: middle;\n",
       "    }\n",
       "\n",
       "    .dataframe tbody tr th {\n",
       "        vertical-align: top;\n",
       "    }\n",
       "\n",
       "    .dataframe thead th {\n",
       "        text-align: right;\n",
       "    }\n",
       "</style>\n",
       "<table border=\"1\" class=\"dataframe\">\n",
       "  <thead>\n",
       "    <tr style=\"text-align: right;\">\n",
       "      <th></th>\n",
       "      <th>anahtar</th>\n",
       "      <th>df2_col2</th>\n",
       "      <th>sayi</th>\n",
       "    </tr>\n",
       "  </thead>\n",
       "  <tbody>\n",
       "    <tr>\n",
       "      <th>0</th>\n",
       "      <td>b</td>\n",
       "      <td>2</td>\n",
       "      <td>uc</td>\n",
       "    </tr>\n",
       "    <tr>\n",
       "      <th>1</th>\n",
       "      <td>c</td>\n",
       "      <td>3</td>\n",
       "      <td>uc</td>\n",
       "    </tr>\n",
       "    <tr>\n",
       "      <th>2</th>\n",
       "      <td>d</td>\n",
       "      <td>4</td>\n",
       "      <td>uc</td>\n",
       "    </tr>\n",
       "  </tbody>\n",
       "</table>\n",
       "</div>"
      ],
      "text/plain": [
       "  anahtar  df2_col2 sayi\n",
       "0       b         2   uc\n",
       "1       c         3   uc\n",
       "2       d         4   uc"
      ]
     },
     "execution_count": 42,
     "metadata": {},
     "output_type": "execute_result"
    }
   ],
   "source": [
    "df2"
   ]
  },
  {
   "cell_type": "code",
   "execution_count": 43,
   "id": "1f9f6177",
   "metadata": {
    "execution": {
     "iopub.execute_input": "2023-03-13T20:17:00.810132Z",
     "iopub.status.busy": "2023-03-13T20:17:00.809619Z",
     "iopub.status.idle": "2023-03-13T20:17:00.836469Z",
     "shell.execute_reply": "2023-03-13T20:17:00.833882Z"
    },
    "papermill": {
     "duration": 0.061906,
     "end_time": "2023-03-13T20:17:00.840973",
     "exception": false,
     "start_time": "2023-03-13T20:17:00.779067",
     "status": "completed"
    },
    "tags": []
   },
   "outputs": [
    {
     "data": {
      "text/html": [
       "<div>\n",
       "<style scoped>\n",
       "    .dataframe tbody tr th:only-of-type {\n",
       "        vertical-align: middle;\n",
       "    }\n",
       "\n",
       "    .dataframe tbody tr th {\n",
       "        vertical-align: top;\n",
       "    }\n",
       "\n",
       "    .dataframe thead th {\n",
       "        text-align: right;\n",
       "    }\n",
       "</style>\n",
       "<table border=\"1\" class=\"dataframe\">\n",
       "  <thead>\n",
       "    <tr style=\"text-align: right;\">\n",
       "      <th></th>\n",
       "      <th>anahtar</th>\n",
       "      <th>df1_col1</th>\n",
       "      <th>sayi_x</th>\n",
       "      <th>df2_col2</th>\n",
       "      <th>sayi_y</th>\n",
       "    </tr>\n",
       "  </thead>\n",
       "  <tbody>\n",
       "    <tr>\n",
       "      <th>0</th>\n",
       "      <td>b</td>\n",
       "      <td>2</td>\n",
       "      <td>iki</td>\n",
       "      <td>2</td>\n",
       "      <td>uc</td>\n",
       "    </tr>\n",
       "    <tr>\n",
       "      <th>1</th>\n",
       "      <td>c</td>\n",
       "      <td>3</td>\n",
       "      <td>uc</td>\n",
       "      <td>3</td>\n",
       "      <td>uc</td>\n",
       "    </tr>\n",
       "  </tbody>\n",
       "</table>\n",
       "</div>"
      ],
      "text/plain": [
       "  anahtar  df1_col1 sayi_x  df2_col2 sayi_y\n",
       "0       b         2    iki         2     uc\n",
       "1       c         3     uc         3     uc"
      ]
     },
     "execution_count": 43,
     "metadata": {},
     "output_type": "execute_result"
    }
   ],
   "source": [
    "pd.merge(df1, df2, on='anahtar')\n",
    "#sayi_x ve sayi_y nereden geldi..?\n",
    "\n",
    "# df1 ve df2 de iki tane anahtar sutun var. Biz sadece anahtar sutununa gore veri setlerini birlestirirsek\n",
    "# sayi sutunu ayni oldugu icin hangi sutuna ait oldugunu bilemeyiz\n",
    "# Bu sebeptan Pandas otomatik olarak ortak sutunlari isimlendirir. Hadi bunu gozlemleyelim:"
   ]
  },
  {
   "cell_type": "code",
   "execution_count": 44,
   "id": "9cf77eba",
   "metadata": {
    "execution": {
     "iopub.execute_input": "2023-03-13T20:17:00.920298Z",
     "iopub.status.busy": "2023-03-13T20:17:00.918938Z",
     "iopub.status.idle": "2023-03-13T20:17:00.939079Z",
     "shell.execute_reply": "2023-03-13T20:17:00.937654Z"
    },
    "papermill": {
     "duration": 0.061197,
     "end_time": "2023-03-13T20:17:00.941965",
     "exception": false,
     "start_time": "2023-03-13T20:17:00.880768",
     "status": "completed"
    },
    "tags": []
   },
   "outputs": [
    {
     "data": {
      "text/html": [
       "<div>\n",
       "<style scoped>\n",
       "    .dataframe tbody tr th:only-of-type {\n",
       "        vertical-align: middle;\n",
       "    }\n",
       "\n",
       "    .dataframe tbody tr th {\n",
       "        vertical-align: top;\n",
       "    }\n",
       "\n",
       "    .dataframe thead th {\n",
       "        text-align: right;\n",
       "    }\n",
       "</style>\n",
       "<table border=\"1\" class=\"dataframe\">\n",
       "  <thead>\n",
       "    <tr style=\"text-align: right;\">\n",
       "      <th></th>\n",
       "      <th>anahtar</th>\n",
       "      <th>df1_col1</th>\n",
       "      <th>sayi_veri1</th>\n",
       "      <th>df2_col2</th>\n",
       "      <th>sayi_veri2</th>\n",
       "    </tr>\n",
       "  </thead>\n",
       "  <tbody>\n",
       "    <tr>\n",
       "      <th>0</th>\n",
       "      <td>a</td>\n",
       "      <td>1.0</td>\n",
       "      <td>bir</td>\n",
       "      <td>NaN</td>\n",
       "      <td>NaN</td>\n",
       "    </tr>\n",
       "    <tr>\n",
       "      <th>1</th>\n",
       "      <td>b</td>\n",
       "      <td>2.0</td>\n",
       "      <td>iki</td>\n",
       "      <td>2.0</td>\n",
       "      <td>uc</td>\n",
       "    </tr>\n",
       "    <tr>\n",
       "      <th>2</th>\n",
       "      <td>c</td>\n",
       "      <td>3.0</td>\n",
       "      <td>uc</td>\n",
       "      <td>3.0</td>\n",
       "      <td>uc</td>\n",
       "    </tr>\n",
       "    <tr>\n",
       "      <th>3</th>\n",
       "      <td>d</td>\n",
       "      <td>NaN</td>\n",
       "      <td>NaN</td>\n",
       "      <td>4.0</td>\n",
       "      <td>uc</td>\n",
       "    </tr>\n",
       "  </tbody>\n",
       "</table>\n",
       "</div>"
      ],
      "text/plain": [
       "  anahtar  df1_col1 sayi_veri1  df2_col2 sayi_veri2\n",
       "0       a       1.0        bir       NaN        NaN\n",
       "1       b       2.0        iki       2.0         uc\n",
       "2       c       3.0         uc       3.0         uc\n",
       "3       d       NaN        NaN       4.0         uc"
      ]
     },
     "execution_count": 44,
     "metadata": {},
     "output_type": "execute_result"
    }
   ],
   "source": [
    "# Bu isimlendirmeyi degistirmek istersek (suffixes='') opsiyonu kullanilir.\n",
    "pd.merge(df1, df2, on='anahtar', how='outer', suffixes=('_veri1', '_veri2'))"
   ]
  },
  {
   "cell_type": "markdown",
   "id": "7d73380e",
   "metadata": {
    "papermill": {
     "duration": 0.028915,
     "end_time": "2023-03-13T20:17:01.000267",
     "exception": false,
     "start_time": "2023-03-13T20:17:00.971352",
     "status": "completed"
    },
    "tags": []
   },
   "source": [
    "# on=[\"...\",\"...\"] ile çoklu kolon kullanımı"
   ]
  },
  {
   "cell_type": "code",
   "execution_count": 45,
   "id": "1a422a72",
   "metadata": {
    "execution": {
     "iopub.execute_input": "2023-03-13T20:17:01.060767Z",
     "iopub.status.busy": "2023-03-13T20:17:01.060238Z",
     "iopub.status.idle": "2023-03-13T20:17:01.076409Z",
     "shell.execute_reply": "2023-03-13T20:17:01.074979Z"
    },
    "papermill": {
     "duration": 0.049661,
     "end_time": "2023-03-13T20:17:01.079114",
     "exception": false,
     "start_time": "2023-03-13T20:17:01.029453",
     "status": "completed"
    },
    "tags": []
   },
   "outputs": [
    {
     "data": {
      "text/html": [
       "<div>\n",
       "<style scoped>\n",
       "    .dataframe tbody tr th:only-of-type {\n",
       "        vertical-align: middle;\n",
       "    }\n",
       "\n",
       "    .dataframe tbody tr th {\n",
       "        vertical-align: top;\n",
       "    }\n",
       "\n",
       "    .dataframe thead th {\n",
       "        text-align: right;\n",
       "    }\n",
       "</style>\n",
       "<table border=\"1\" class=\"dataframe\">\n",
       "  <thead>\n",
       "    <tr style=\"text-align: right;\">\n",
       "      <th></th>\n",
       "      <th>anahtar</th>\n",
       "      <th>df1_col1</th>\n",
       "      <th>sayi</th>\n",
       "      <th>df2_col2</th>\n",
       "    </tr>\n",
       "  </thead>\n",
       "  <tbody>\n",
       "    <tr>\n",
       "      <th>0</th>\n",
       "      <td>c</td>\n",
       "      <td>3</td>\n",
       "      <td>uc</td>\n",
       "      <td>3</td>\n",
       "    </tr>\n",
       "  </tbody>\n",
       "</table>\n",
       "</div>"
      ],
      "text/plain": [
       "  anahtar  df1_col1 sayi  df2_col2\n",
       "0       c         3   uc         3"
      ]
     },
     "execution_count": 45,
     "metadata": {},
     "output_type": "execute_result"
    }
   ],
   "source": [
    "# Veri setlerini anahtar ve sayi degiskenlerine gore birlestirelim\n",
    "# birden fazla ortak degisken olsaydi\n",
    "# Bu durumda hangi sutuna gore birlestirmesi gerektigini asagidaki gibi belirtebiliriz.\n",
    "pd.merge(df1, df2, on=['anahtar', 'sayi'])\n",
    "# buradan sadece bir tane ortak degerlerin oldugunu anliyoruz."
   ]
  },
  {
   "cell_type": "markdown",
   "id": "b3cf5553",
   "metadata": {
    "papermill": {
     "duration": 0.028903,
     "end_time": "2023-03-13T20:17:01.137361",
     "exception": false,
     "start_time": "2023-03-13T20:17:01.108458",
     "status": "completed"
    },
    "tags": []
   },
   "source": [
    "## right_index=True   ,  left_index=True"
   ]
  },
  {
   "cell_type": "code",
   "execution_count": 46,
   "id": "4e05c206",
   "metadata": {
    "execution": {
     "iopub.execute_input": "2023-03-13T20:17:01.198194Z",
     "iopub.status.busy": "2023-03-13T20:17:01.197236Z",
     "iopub.status.idle": "2023-03-13T20:17:01.211663Z",
     "shell.execute_reply": "2023-03-13T20:17:01.210224Z"
    },
    "papermill": {
     "duration": 0.048401,
     "end_time": "2023-03-13T20:17:01.214745",
     "exception": false,
     "start_time": "2023-03-13T20:17:01.166344",
     "status": "completed"
    },
    "tags": []
   },
   "outputs": [
    {
     "data": {
      "text/html": [
       "<div>\n",
       "<style scoped>\n",
       "    .dataframe tbody tr th:only-of-type {\n",
       "        vertical-align: middle;\n",
       "    }\n",
       "\n",
       "    .dataframe tbody tr th {\n",
       "        vertical-align: top;\n",
       "    }\n",
       "\n",
       "    .dataframe thead th {\n",
       "        text-align: right;\n",
       "    }\n",
       "</style>\n",
       "<table border=\"1\" class=\"dataframe\">\n",
       "  <thead>\n",
       "    <tr style=\"text-align: right;\">\n",
       "      <th></th>\n",
       "      <th>df1_col1</th>\n",
       "      <th>df1_col2</th>\n",
       "    </tr>\n",
       "  </thead>\n",
       "  <tbody>\n",
       "    <tr>\n",
       "      <th>0</th>\n",
       "      <td>a</td>\n",
       "      <td>1</td>\n",
       "    </tr>\n",
       "    <tr>\n",
       "      <th>1</th>\n",
       "      <td>b</td>\n",
       "      <td>2</td>\n",
       "    </tr>\n",
       "    <tr>\n",
       "      <th>2</th>\n",
       "      <td>c</td>\n",
       "      <td>3</td>\n",
       "    </tr>\n",
       "  </tbody>\n",
       "</table>\n",
       "</div>"
      ],
      "text/plain": [
       "  df1_col1  df1_col2\n",
       "0        a         1\n",
       "1        b         2\n",
       "2        c         3"
      ]
     },
     "execution_count": 46,
     "metadata": {},
     "output_type": "execute_result"
    }
   ],
   "source": [
    "### Index Islemleri\n",
    "\n",
    "# Bazi durumlarda veri setindeki birlestirilecek anahtar sutun veri setinin indexinde bulunabilir.\n",
    "# Boyle durumlarda anahtar sutun olarak kullanilacak index; left_index=True ya da rigth_index=True opsiyonlari ile belirtilir.\n",
    "# Ornek:\n",
    "df1 = pd.DataFrame({'df1_col1': ['a', 'b', 'c'],\n",
    "                    'df1_col2': range(1,4)})\n",
    "df2 = pd.DataFrame({'df2_col1': ['data_boomers', 'data_boomers', 'data_boomers']},\n",
    "                   index=['b', 'c', 'd'])\n",
    "df1"
   ]
  },
  {
   "cell_type": "code",
   "execution_count": 47,
   "id": "9a2096c5",
   "metadata": {
    "execution": {
     "iopub.execute_input": "2023-03-13T20:17:01.276595Z",
     "iopub.status.busy": "2023-03-13T20:17:01.275712Z",
     "iopub.status.idle": "2023-03-13T20:17:01.285954Z",
     "shell.execute_reply": "2023-03-13T20:17:01.284680Z"
    },
    "papermill": {
     "duration": 0.044266,
     "end_time": "2023-03-13T20:17:01.288583",
     "exception": false,
     "start_time": "2023-03-13T20:17:01.244317",
     "status": "completed"
    },
    "tags": []
   },
   "outputs": [
    {
     "data": {
      "text/html": [
       "<div>\n",
       "<style scoped>\n",
       "    .dataframe tbody tr th:only-of-type {\n",
       "        vertical-align: middle;\n",
       "    }\n",
       "\n",
       "    .dataframe tbody tr th {\n",
       "        vertical-align: top;\n",
       "    }\n",
       "\n",
       "    .dataframe thead th {\n",
       "        text-align: right;\n",
       "    }\n",
       "</style>\n",
       "<table border=\"1\" class=\"dataframe\">\n",
       "  <thead>\n",
       "    <tr style=\"text-align: right;\">\n",
       "      <th></th>\n",
       "      <th>df2_col1</th>\n",
       "    </tr>\n",
       "  </thead>\n",
       "  <tbody>\n",
       "    <tr>\n",
       "      <th>b</th>\n",
       "      <td>data_boomers</td>\n",
       "    </tr>\n",
       "    <tr>\n",
       "      <th>c</th>\n",
       "      <td>data_boomers</td>\n",
       "    </tr>\n",
       "    <tr>\n",
       "      <th>d</th>\n",
       "      <td>data_boomers</td>\n",
       "    </tr>\n",
       "  </tbody>\n",
       "</table>\n",
       "</div>"
      ],
      "text/plain": [
       "       df2_col1\n",
       "b  data_boomers\n",
       "c  data_boomers\n",
       "d  data_boomers"
      ]
     },
     "execution_count": 47,
     "metadata": {},
     "output_type": "execute_result"
    }
   ],
   "source": [
    "df2"
   ]
  },
  {
   "cell_type": "code",
   "execution_count": 48,
   "id": "2be8e080",
   "metadata": {
    "execution": {
     "iopub.execute_input": "2023-03-13T20:17:01.351102Z",
     "iopub.status.busy": "2023-03-13T20:17:01.349914Z",
     "iopub.status.idle": "2023-03-13T20:17:01.364827Z",
     "shell.execute_reply": "2023-03-13T20:17:01.363298Z"
    },
    "papermill": {
     "duration": 0.049273,
     "end_time": "2023-03-13T20:17:01.367274",
     "exception": false,
     "start_time": "2023-03-13T20:17:01.318001",
     "status": "completed"
    },
    "tags": []
   },
   "outputs": [
    {
     "data": {
      "text/html": [
       "<div>\n",
       "<style scoped>\n",
       "    .dataframe tbody tr th:only-of-type {\n",
       "        vertical-align: middle;\n",
       "    }\n",
       "\n",
       "    .dataframe tbody tr th {\n",
       "        vertical-align: top;\n",
       "    }\n",
       "\n",
       "    .dataframe thead th {\n",
       "        text-align: right;\n",
       "    }\n",
       "</style>\n",
       "<table border=\"1\" class=\"dataframe\">\n",
       "  <thead>\n",
       "    <tr style=\"text-align: right;\">\n",
       "      <th></th>\n",
       "      <th>df1_col1</th>\n",
       "      <th>df1_col2</th>\n",
       "      <th>df2_col1</th>\n",
       "    </tr>\n",
       "  </thead>\n",
       "  <tbody>\n",
       "    <tr>\n",
       "      <th>1</th>\n",
       "      <td>b</td>\n",
       "      <td>2</td>\n",
       "      <td>data_boomers</td>\n",
       "    </tr>\n",
       "    <tr>\n",
       "      <th>2</th>\n",
       "      <td>c</td>\n",
       "      <td>3</td>\n",
       "      <td>data_boomers</td>\n",
       "    </tr>\n",
       "  </tbody>\n",
       "</table>\n",
       "</div>"
      ],
      "text/plain": [
       "  df1_col1  df1_col2      df2_col1\n",
       "1        b         2  data_boomers\n",
       "2        c         3  data_boomers"
      ]
     },
     "execution_count": 48,
     "metadata": {},
     "output_type": "execute_result"
    }
   ],
   "source": [
    "# df2 veri setinin indexlerine gore veri setlerini birlestirmek isteyelim.\n",
    "pd.merge(df1, df2, left_on='df1_col1', right_index=True)"
   ]
  },
  {
   "cell_type": "code",
   "execution_count": 49,
   "id": "8448af4e",
   "metadata": {
    "execution": {
     "iopub.execute_input": "2023-03-13T20:17:01.428812Z",
     "iopub.status.busy": "2023-03-13T20:17:01.427963Z",
     "iopub.status.idle": "2023-03-13T20:17:01.442202Z",
     "shell.execute_reply": "2023-03-13T20:17:01.441166Z"
    },
    "papermill": {
     "duration": 0.048285,
     "end_time": "2023-03-13T20:17:01.444941",
     "exception": false,
     "start_time": "2023-03-13T20:17:01.396656",
     "status": "completed"
    },
    "tags": []
   },
   "outputs": [
    {
     "data": {
      "text/html": [
       "<div>\n",
       "<style scoped>\n",
       "    .dataframe tbody tr th:only-of-type {\n",
       "        vertical-align: middle;\n",
       "    }\n",
       "\n",
       "    .dataframe tbody tr th {\n",
       "        vertical-align: top;\n",
       "    }\n",
       "\n",
       "    .dataframe thead th {\n",
       "        text-align: right;\n",
       "    }\n",
       "</style>\n",
       "<table border=\"1\" class=\"dataframe\">\n",
       "  <thead>\n",
       "    <tr style=\"text-align: right;\">\n",
       "      <th></th>\n",
       "      <th>df1_col1</th>\n",
       "    </tr>\n",
       "  </thead>\n",
       "  <tbody>\n",
       "    <tr>\n",
       "      <th>b</th>\n",
       "      <td>miuul</td>\n",
       "    </tr>\n",
       "    <tr>\n",
       "      <th>c</th>\n",
       "      <td>miuul</td>\n",
       "    </tr>\n",
       "    <tr>\n",
       "      <th>d</th>\n",
       "      <td>miuul</td>\n",
       "    </tr>\n",
       "  </tbody>\n",
       "</table>\n",
       "</div>"
      ],
      "text/plain": [
       "  df1_col1\n",
       "b    miuul\n",
       "c    miuul\n",
       "d    miuul"
      ]
     },
     "execution_count": 49,
     "metadata": {},
     "output_type": "execute_result"
    }
   ],
   "source": [
    "df1 = pd.DataFrame({'df1_col1': ['miuul', 'miuul', 'miuul']},\n",
    "                   index=['b', 'c', 'd'])\n",
    "df2 = pd.DataFrame({'df1_col1': ['data_boomers', 'data_boomers', 'data_boomers']},\n",
    "                   index=['b', 'c', 'd'])\n",
    "df1"
   ]
  },
  {
   "cell_type": "code",
   "execution_count": 50,
   "id": "ebe38616",
   "metadata": {
    "execution": {
     "iopub.execute_input": "2023-03-13T20:17:01.508300Z",
     "iopub.status.busy": "2023-03-13T20:17:01.507290Z",
     "iopub.status.idle": "2023-03-13T20:17:01.517099Z",
     "shell.execute_reply": "2023-03-13T20:17:01.515815Z"
    },
    "papermill": {
     "duration": 0.045157,
     "end_time": "2023-03-13T20:17:01.519865",
     "exception": false,
     "start_time": "2023-03-13T20:17:01.474708",
     "status": "completed"
    },
    "tags": []
   },
   "outputs": [
    {
     "data": {
      "text/html": [
       "<div>\n",
       "<style scoped>\n",
       "    .dataframe tbody tr th:only-of-type {\n",
       "        vertical-align: middle;\n",
       "    }\n",
       "\n",
       "    .dataframe tbody tr th {\n",
       "        vertical-align: top;\n",
       "    }\n",
       "\n",
       "    .dataframe thead th {\n",
       "        text-align: right;\n",
       "    }\n",
       "</style>\n",
       "<table border=\"1\" class=\"dataframe\">\n",
       "  <thead>\n",
       "    <tr style=\"text-align: right;\">\n",
       "      <th></th>\n",
       "      <th>df1_col1</th>\n",
       "    </tr>\n",
       "  </thead>\n",
       "  <tbody>\n",
       "    <tr>\n",
       "      <th>b</th>\n",
       "      <td>data_boomers</td>\n",
       "    </tr>\n",
       "    <tr>\n",
       "      <th>c</th>\n",
       "      <td>data_boomers</td>\n",
       "    </tr>\n",
       "    <tr>\n",
       "      <th>d</th>\n",
       "      <td>data_boomers</td>\n",
       "    </tr>\n",
       "  </tbody>\n",
       "</table>\n",
       "</div>"
      ],
      "text/plain": [
       "       df1_col1\n",
       "b  data_boomers\n",
       "c  data_boomers\n",
       "d  data_boomers"
      ]
     },
     "execution_count": 50,
     "metadata": {},
     "output_type": "execute_result"
    }
   ],
   "source": [
    "df2"
   ]
  },
  {
   "cell_type": "code",
   "execution_count": 51,
   "id": "1b6c4564",
   "metadata": {
    "execution": {
     "iopub.execute_input": "2023-03-13T20:17:01.584771Z",
     "iopub.status.busy": "2023-03-13T20:17:01.584003Z",
     "iopub.status.idle": "2023-03-13T20:17:01.595076Z",
     "shell.execute_reply": "2023-03-13T20:17:01.594091Z"
    },
    "papermill": {
     "duration": 0.045704,
     "end_time": "2023-03-13T20:17:01.597597",
     "exception": false,
     "start_time": "2023-03-13T20:17:01.551893",
     "status": "completed"
    },
    "tags": []
   },
   "outputs": [
    {
     "data": {
      "text/html": [
       "<div>\n",
       "<style scoped>\n",
       "    .dataframe tbody tr th:only-of-type {\n",
       "        vertical-align: middle;\n",
       "    }\n",
       "\n",
       "    .dataframe tbody tr th {\n",
       "        vertical-align: top;\n",
       "    }\n",
       "\n",
       "    .dataframe thead th {\n",
       "        text-align: right;\n",
       "    }\n",
       "</style>\n",
       "<table border=\"1\" class=\"dataframe\">\n",
       "  <thead>\n",
       "    <tr style=\"text-align: right;\">\n",
       "      <th></th>\n",
       "      <th>df1_col1_x</th>\n",
       "      <th>df1_col1_y</th>\n",
       "    </tr>\n",
       "  </thead>\n",
       "  <tbody>\n",
       "    <tr>\n",
       "      <th>b</th>\n",
       "      <td>miuul</td>\n",
       "      <td>data_boomers</td>\n",
       "    </tr>\n",
       "    <tr>\n",
       "      <th>c</th>\n",
       "      <td>miuul</td>\n",
       "      <td>data_boomers</td>\n",
       "    </tr>\n",
       "    <tr>\n",
       "      <th>d</th>\n",
       "      <td>miuul</td>\n",
       "      <td>data_boomers</td>\n",
       "    </tr>\n",
       "  </tbody>\n",
       "</table>\n",
       "</div>"
      ],
      "text/plain": [
       "  df1_col1_x    df1_col1_y\n",
       "b      miuul  data_boomers\n",
       "c      miuul  data_boomers\n",
       "d      miuul  data_boomers"
      ]
     },
     "execution_count": 51,
     "metadata": {},
     "output_type": "execute_result"
    }
   ],
   "source": [
    "pd.merge(df1, df2, right_index=True, left_index=True)\n"
   ]
  },
  {
   "cell_type": "code",
   "execution_count": 52,
   "id": "209c3e16",
   "metadata": {
    "execution": {
     "iopub.execute_input": "2023-03-13T20:17:01.661849Z",
     "iopub.status.busy": "2023-03-13T20:17:01.661049Z",
     "iopub.status.idle": "2023-03-13T20:17:01.674981Z",
     "shell.execute_reply": "2023-03-13T20:17:01.673506Z"
    },
    "papermill": {
     "duration": 0.049981,
     "end_time": "2023-03-13T20:17:01.678134",
     "exception": false,
     "start_time": "2023-03-13T20:17:01.628153",
     "status": "completed"
    },
    "tags": []
   },
   "outputs": [
    {
     "data": {
      "text/html": [
       "<div>\n",
       "<style scoped>\n",
       "    .dataframe tbody tr th:only-of-type {\n",
       "        vertical-align: middle;\n",
       "    }\n",
       "\n",
       "    .dataframe tbody tr th {\n",
       "        vertical-align: top;\n",
       "    }\n",
       "\n",
       "    .dataframe thead th {\n",
       "        text-align: right;\n",
       "    }\n",
       "</style>\n",
       "<table border=\"1\" class=\"dataframe\">\n",
       "  <thead>\n",
       "    <tr style=\"text-align: right;\">\n",
       "      <th></th>\n",
       "      <th>df1_col1</th>\n",
       "    </tr>\n",
       "  </thead>\n",
       "  <tbody>\n",
       "    <tr>\n",
       "      <th>0</th>\n",
       "      <td>miuul</td>\n",
       "    </tr>\n",
       "    <tr>\n",
       "      <th>1</th>\n",
       "      <td>miuul</td>\n",
       "    </tr>\n",
       "    <tr>\n",
       "      <th>2</th>\n",
       "      <td>miuul</td>\n",
       "    </tr>\n",
       "    <tr>\n",
       "      <th>3</th>\n",
       "      <td>data_boomers</td>\n",
       "    </tr>\n",
       "    <tr>\n",
       "      <th>4</th>\n",
       "      <td>data_boomers</td>\n",
       "    </tr>\n",
       "    <tr>\n",
       "      <th>5</th>\n",
       "      <td>data_boomers</td>\n",
       "    </tr>\n",
       "  </tbody>\n",
       "</table>\n",
       "</div>"
      ],
      "text/plain": [
       "       df1_col1\n",
       "0         miuul\n",
       "1         miuul\n",
       "2         miuul\n",
       "3  data_boomers\n",
       "4  data_boomers\n",
       "5  data_boomers"
      ]
     },
     "execution_count": 52,
     "metadata": {},
     "output_type": "execute_result"
    }
   ],
   "source": [
    "pd.merge(df1, df2, how='outer')"
   ]
  },
  {
   "cell_type": "code",
   "execution_count": 53,
   "id": "47e46447",
   "metadata": {
    "execution": {
     "iopub.execute_input": "2023-03-13T20:17:01.742835Z",
     "iopub.status.busy": "2023-03-13T20:17:01.742035Z",
     "iopub.status.idle": "2023-03-13T20:17:01.750088Z",
     "shell.execute_reply": "2023-03-13T20:17:01.748448Z"
    },
    "papermill": {
     "duration": 0.043242,
     "end_time": "2023-03-13T20:17:01.753072",
     "exception": false,
     "start_time": "2023-03-13T20:17:01.709830",
     "status": "completed"
    },
    "tags": []
   },
   "outputs": [
    {
     "name": "stdout",
     "output_type": "stream",
     "text": [
      "Object `kullanilir` not found.\n"
     ]
    }
   ],
   "source": [
    "Soru 1. suffixes='' argümanı nedir? neden kullanilir?"
   ]
  },
  {
   "cell_type": "code",
   "execution_count": 54,
   "id": "69445aad",
   "metadata": {
    "execution": {
     "iopub.execute_input": "2023-03-13T20:17:01.818451Z",
     "iopub.status.busy": "2023-03-13T20:17:01.817657Z",
     "iopub.status.idle": "2023-03-13T20:17:01.825049Z",
     "shell.execute_reply": "2023-03-13T20:17:01.823475Z"
    },
    "papermill": {
     "duration": 0.043228,
     "end_time": "2023-03-13T20:17:01.828026",
     "exception": false,
     "start_time": "2023-03-13T20:17:01.784798",
     "status": "completed"
    },
    "tags": []
   },
   "outputs": [
    {
     "name": "stdout",
     "output_type": "stream",
     "text": [
      "Object `kullanilir` not found.\n"
     ]
    }
   ],
   "source": [
    "Soru 2. left_on , right_on argumanlari nedir? neden kullanilir?"
   ]
  },
  {
   "cell_type": "markdown",
   "id": "68d3582d",
   "metadata": {
    "papermill": {
     "duration": 0.031621,
     "end_time": "2023-03-13T20:17:01.890005",
     "exception": false,
     "start_time": "2023-03-13T20:17:01.858384",
     "status": "completed"
    },
    "tags": []
   },
   "source": [
    "#################################\n",
    "# -------- JOIN --------#\n",
    "#################################\n",
    "\n",
    "**index odaklı birleştirme yapıyor**\n",
    "1. Eğer anahatar değerin biri indexte biri ise kolonda ise Yöntem 1\n",
    "2. Eğer anahatar değerin biri indexte biri ise kolonda ise Yöntem 2\n",
    "3. On = \"....\"\n",
    "4. how{‘left’, ‘right’, ‘outer’, ‘inner’}, default ‘left’\n",
    "5. lsuffix='....', rsuffix='.....'"
   ]
  },
  {
   "cell_type": "code",
   "execution_count": 55,
   "id": "3acfe633",
   "metadata": {
    "execution": {
     "iopub.execute_input": "2023-03-13T20:17:01.954980Z",
     "iopub.status.busy": "2023-03-13T20:17:01.953480Z",
     "iopub.status.idle": "2023-03-13T20:17:01.963153Z",
     "shell.execute_reply": "2023-03-13T20:17:01.961789Z"
    },
    "papermill": {
     "duration": 0.045537,
     "end_time": "2023-03-13T20:17:01.966257",
     "exception": false,
     "start_time": "2023-03-13T20:17:01.920720",
     "status": "completed"
    },
    "tags": []
   },
   "outputs": [],
   "source": [
    "df1 = pd.DataFrame({'anahtar1': ['a', 'b', 'c'],\n",
    "                    'df1_col1': range(1,4)},\n",
    "                   index=['index_1', 'index_2','index_3'])\n",
    "\n",
    "df2 = pd.DataFrame({'anahtar2': ['b', 'c', 'd'],\n",
    "                    'df2_col2': range(2,5)},\n",
    "                   index=['index_2','index_3','index_4'])"
   ]
  },
  {
   "cell_type": "code",
   "execution_count": 56,
   "id": "6db91491",
   "metadata": {
    "execution": {
     "iopub.execute_input": "2023-03-13T20:17:02.029882Z",
     "iopub.status.busy": "2023-03-13T20:17:02.029380Z",
     "iopub.status.idle": "2023-03-13T20:17:02.041184Z",
     "shell.execute_reply": "2023-03-13T20:17:02.039704Z"
    },
    "papermill": {
     "duration": 0.046871,
     "end_time": "2023-03-13T20:17:02.043927",
     "exception": false,
     "start_time": "2023-03-13T20:17:01.997056",
     "status": "completed"
    },
    "tags": []
   },
   "outputs": [
    {
     "data": {
      "text/html": [
       "<div>\n",
       "<style scoped>\n",
       "    .dataframe tbody tr th:only-of-type {\n",
       "        vertical-align: middle;\n",
       "    }\n",
       "\n",
       "    .dataframe tbody tr th {\n",
       "        vertical-align: top;\n",
       "    }\n",
       "\n",
       "    .dataframe thead th {\n",
       "        text-align: right;\n",
       "    }\n",
       "</style>\n",
       "<table border=\"1\" class=\"dataframe\">\n",
       "  <thead>\n",
       "    <tr style=\"text-align: right;\">\n",
       "      <th></th>\n",
       "      <th>anahtar1</th>\n",
       "      <th>df1_col1</th>\n",
       "    </tr>\n",
       "  </thead>\n",
       "  <tbody>\n",
       "    <tr>\n",
       "      <th>index_1</th>\n",
       "      <td>a</td>\n",
       "      <td>1</td>\n",
       "    </tr>\n",
       "    <tr>\n",
       "      <th>index_2</th>\n",
       "      <td>b</td>\n",
       "      <td>2</td>\n",
       "    </tr>\n",
       "    <tr>\n",
       "      <th>index_3</th>\n",
       "      <td>c</td>\n",
       "      <td>3</td>\n",
       "    </tr>\n",
       "  </tbody>\n",
       "</table>\n",
       "</div>"
      ],
      "text/plain": [
       "        anahtar1  df1_col1\n",
       "index_1        a         1\n",
       "index_2        b         2\n",
       "index_3        c         3"
      ]
     },
     "execution_count": 56,
     "metadata": {},
     "output_type": "execute_result"
    }
   ],
   "source": [
    "df1"
   ]
  },
  {
   "cell_type": "code",
   "execution_count": 57,
   "id": "7f27cf01",
   "metadata": {
    "execution": {
     "iopub.execute_input": "2023-03-13T20:17:02.108334Z",
     "iopub.status.busy": "2023-03-13T20:17:02.107838Z",
     "iopub.status.idle": "2023-03-13T20:17:02.118492Z",
     "shell.execute_reply": "2023-03-13T20:17:02.117439Z"
    },
    "papermill": {
     "duration": 0.04585,
     "end_time": "2023-03-13T20:17:02.120969",
     "exception": false,
     "start_time": "2023-03-13T20:17:02.075119",
     "status": "completed"
    },
    "scrolled": true,
    "tags": []
   },
   "outputs": [
    {
     "data": {
      "text/html": [
       "<div>\n",
       "<style scoped>\n",
       "    .dataframe tbody tr th:only-of-type {\n",
       "        vertical-align: middle;\n",
       "    }\n",
       "\n",
       "    .dataframe tbody tr th {\n",
       "        vertical-align: top;\n",
       "    }\n",
       "\n",
       "    .dataframe thead th {\n",
       "        text-align: right;\n",
       "    }\n",
       "</style>\n",
       "<table border=\"1\" class=\"dataframe\">\n",
       "  <thead>\n",
       "    <tr style=\"text-align: right;\">\n",
       "      <th></th>\n",
       "      <th>anahtar2</th>\n",
       "      <th>df2_col2</th>\n",
       "    </tr>\n",
       "  </thead>\n",
       "  <tbody>\n",
       "    <tr>\n",
       "      <th>index_2</th>\n",
       "      <td>b</td>\n",
       "      <td>2</td>\n",
       "    </tr>\n",
       "    <tr>\n",
       "      <th>index_3</th>\n",
       "      <td>c</td>\n",
       "      <td>3</td>\n",
       "    </tr>\n",
       "    <tr>\n",
       "      <th>index_4</th>\n",
       "      <td>d</td>\n",
       "      <td>4</td>\n",
       "    </tr>\n",
       "  </tbody>\n",
       "</table>\n",
       "</div>"
      ],
      "text/plain": [
       "        anahtar2  df2_col2\n",
       "index_2        b         2\n",
       "index_3        c         3\n",
       "index_4        d         4"
      ]
     },
     "execution_count": 57,
     "metadata": {},
     "output_type": "execute_result"
    }
   ],
   "source": [
    "df2"
   ]
  },
  {
   "cell_type": "code",
   "execution_count": 58,
   "id": "85b1b75c",
   "metadata": {
    "execution": {
     "iopub.execute_input": "2023-03-13T20:17:02.185885Z",
     "iopub.status.busy": "2023-03-13T20:17:02.185032Z",
     "iopub.status.idle": "2023-03-13T20:17:02.200742Z",
     "shell.execute_reply": "2023-03-13T20:17:02.199326Z"
    },
    "papermill": {
     "duration": 0.05188,
     "end_time": "2023-03-13T20:17:02.203595",
     "exception": false,
     "start_time": "2023-03-13T20:17:02.151715",
     "status": "completed"
    },
    "tags": []
   },
   "outputs": [
    {
     "data": {
      "text/html": [
       "<div>\n",
       "<style scoped>\n",
       "    .dataframe tbody tr th:only-of-type {\n",
       "        vertical-align: middle;\n",
       "    }\n",
       "\n",
       "    .dataframe tbody tr th {\n",
       "        vertical-align: top;\n",
       "    }\n",
       "\n",
       "    .dataframe thead th {\n",
       "        text-align: right;\n",
       "    }\n",
       "</style>\n",
       "<table border=\"1\" class=\"dataframe\">\n",
       "  <thead>\n",
       "    <tr style=\"text-align: right;\">\n",
       "      <th></th>\n",
       "      <th>anahtar1</th>\n",
       "      <th>df1_col1</th>\n",
       "      <th>anahtar2</th>\n",
       "      <th>df2_col2</th>\n",
       "    </tr>\n",
       "  </thead>\n",
       "  <tbody>\n",
       "    <tr>\n",
       "      <th>index_1</th>\n",
       "      <td>a</td>\n",
       "      <td>1</td>\n",
       "      <td>NaN</td>\n",
       "      <td>NaN</td>\n",
       "    </tr>\n",
       "    <tr>\n",
       "      <th>index_2</th>\n",
       "      <td>b</td>\n",
       "      <td>2</td>\n",
       "      <td>b</td>\n",
       "      <td>2.0</td>\n",
       "    </tr>\n",
       "    <tr>\n",
       "      <th>index_3</th>\n",
       "      <td>c</td>\n",
       "      <td>3</td>\n",
       "      <td>c</td>\n",
       "      <td>3.0</td>\n",
       "    </tr>\n",
       "  </tbody>\n",
       "</table>\n",
       "</div>"
      ],
      "text/plain": [
       "        anahtar1  df1_col1 anahtar2  df2_col2\n",
       "index_1        a         1      NaN       NaN\n",
       "index_2        b         2        b       2.0\n",
       "index_3        c         3        c       3.0"
      ]
     },
     "execution_count": 58,
     "metadata": {},
     "output_type": "execute_result"
    }
   ],
   "source": [
    "# ilk df in indexlerine göre birleştirme yapıyor, olmayan değerlere NAN değeri atıyor\n",
    "df1.join(df2)"
   ]
  },
  {
   "cell_type": "code",
   "execution_count": 59,
   "id": "575f236f",
   "metadata": {
    "execution": {
     "iopub.execute_input": "2023-03-13T20:17:02.268743Z",
     "iopub.status.busy": "2023-03-13T20:17:02.267727Z",
     "iopub.status.idle": "2023-03-13T20:17:02.275496Z",
     "shell.execute_reply": "2023-03-13T20:17:02.274211Z"
    },
    "papermill": {
     "duration": 0.04287,
     "end_time": "2023-03-13T20:17:02.277880",
     "exception": false,
     "start_time": "2023-03-13T20:17:02.235010",
     "status": "completed"
    },
    "tags": []
   },
   "outputs": [],
   "source": [
    "df3 = df1.join(df2)"
   ]
  },
  {
   "cell_type": "code",
   "execution_count": 60,
   "id": "25338125",
   "metadata": {
    "execution": {
     "iopub.execute_input": "2023-03-13T20:17:02.342779Z",
     "iopub.status.busy": "2023-03-13T20:17:02.341372Z",
     "iopub.status.idle": "2023-03-13T20:17:02.356775Z",
     "shell.execute_reply": "2023-03-13T20:17:02.355482Z"
    },
    "papermill": {
     "duration": 0.050818,
     "end_time": "2023-03-13T20:17:02.359660",
     "exception": false,
     "start_time": "2023-03-13T20:17:02.308842",
     "status": "completed"
    },
    "scrolled": true,
    "tags": []
   },
   "outputs": [
    {
     "data": {
      "text/html": [
       "<div>\n",
       "<style scoped>\n",
       "    .dataframe tbody tr th:only-of-type {\n",
       "        vertical-align: middle;\n",
       "    }\n",
       "\n",
       "    .dataframe tbody tr th {\n",
       "        vertical-align: top;\n",
       "    }\n",
       "\n",
       "    .dataframe thead th {\n",
       "        text-align: right;\n",
       "    }\n",
       "</style>\n",
       "<table border=\"1\" class=\"dataframe\">\n",
       "  <thead>\n",
       "    <tr style=\"text-align: right;\">\n",
       "      <th></th>\n",
       "      <th>anahtar2</th>\n",
       "      <th>df2_col2</th>\n",
       "      <th>anahtar1</th>\n",
       "      <th>df1_col1</th>\n",
       "    </tr>\n",
       "  </thead>\n",
       "  <tbody>\n",
       "    <tr>\n",
       "      <th>index_2</th>\n",
       "      <td>b</td>\n",
       "      <td>2</td>\n",
       "      <td>b</td>\n",
       "      <td>2.0</td>\n",
       "    </tr>\n",
       "    <tr>\n",
       "      <th>index_3</th>\n",
       "      <td>c</td>\n",
       "      <td>3</td>\n",
       "      <td>c</td>\n",
       "      <td>3.0</td>\n",
       "    </tr>\n",
       "    <tr>\n",
       "      <th>index_4</th>\n",
       "      <td>d</td>\n",
       "      <td>4</td>\n",
       "      <td>NaN</td>\n",
       "      <td>NaN</td>\n",
       "    </tr>\n",
       "  </tbody>\n",
       "</table>\n",
       "</div>"
      ],
      "text/plain": [
       "        anahtar2  df2_col2 anahtar1  df1_col1\n",
       "index_2        b         2        b       2.0\n",
       "index_3        c         3        c       3.0\n",
       "index_4        d         4      NaN       NaN"
      ]
     },
     "execution_count": 60,
     "metadata": {},
     "output_type": "execute_result"
    }
   ],
   "source": [
    "df2.join(df1)"
   ]
  },
  {
   "cell_type": "markdown",
   "id": "a413d012",
   "metadata": {
    "papermill": {
     "duration": 0.030713,
     "end_time": "2023-03-13T20:17:02.436494",
     "exception": false,
     "start_time": "2023-03-13T20:17:02.405781",
     "status": "completed"
    },
    "tags": []
   },
   "source": [
    "## Eğer anahatar değerin biri indexte biri ise kolonda ise Yöntem 1"
   ]
  },
  {
   "cell_type": "code",
   "execution_count": 61,
   "id": "28fc88e0",
   "metadata": {
    "execution": {
     "iopub.execute_input": "2023-03-13T20:17:02.501980Z",
     "iopub.status.busy": "2023-03-13T20:17:02.501502Z",
     "iopub.status.idle": "2023-03-13T20:17:02.510170Z",
     "shell.execute_reply": "2023-03-13T20:17:02.508859Z"
    },
    "papermill": {
     "duration": 0.043857,
     "end_time": "2023-03-13T20:17:02.512730",
     "exception": false,
     "start_time": "2023-03-13T20:17:02.468873",
     "status": "completed"
    },
    "tags": []
   },
   "outputs": [],
   "source": [
    "df2 = pd.DataFrame({'anahtar1': ['a', 'b', 'c'],\n",
    "                    'df1_col1': range(1,4)},\n",
    "                   index=['index_1', 'index_2','index_3'])\n",
    "\n",
    "df3 = pd.DataFrame({'anahtar2': ['b', 'c', 'd'],\n",
    "                    'df2_col2': range(2,5),\n",
    "                    \"df2_colindex\":['index_2','index_3','index_4']}   )"
   ]
  },
  {
   "cell_type": "code",
   "execution_count": 62,
   "id": "66610f6d",
   "metadata": {
    "execution": {
     "iopub.execute_input": "2023-03-13T20:17:02.577534Z",
     "iopub.status.busy": "2023-03-13T20:17:02.576995Z",
     "iopub.status.idle": "2023-03-13T20:17:02.589789Z",
     "shell.execute_reply": "2023-03-13T20:17:02.588436Z"
    },
    "papermill": {
     "duration": 0.048749,
     "end_time": "2023-03-13T20:17:02.592515",
     "exception": false,
     "start_time": "2023-03-13T20:17:02.543766",
     "status": "completed"
    },
    "tags": []
   },
   "outputs": [
    {
     "data": {
      "text/html": [
       "<div>\n",
       "<style scoped>\n",
       "    .dataframe tbody tr th:only-of-type {\n",
       "        vertical-align: middle;\n",
       "    }\n",
       "\n",
       "    .dataframe tbody tr th {\n",
       "        vertical-align: top;\n",
       "    }\n",
       "\n",
       "    .dataframe thead th {\n",
       "        text-align: right;\n",
       "    }\n",
       "</style>\n",
       "<table border=\"1\" class=\"dataframe\">\n",
       "  <thead>\n",
       "    <tr style=\"text-align: right;\">\n",
       "      <th></th>\n",
       "      <th>anahtar2</th>\n",
       "      <th>df2_col2</th>\n",
       "      <th>df2_colindex</th>\n",
       "    </tr>\n",
       "  </thead>\n",
       "  <tbody>\n",
       "    <tr>\n",
       "      <th>0</th>\n",
       "      <td>b</td>\n",
       "      <td>2</td>\n",
       "      <td>index_2</td>\n",
       "    </tr>\n",
       "    <tr>\n",
       "      <th>1</th>\n",
       "      <td>c</td>\n",
       "      <td>3</td>\n",
       "      <td>index_3</td>\n",
       "    </tr>\n",
       "    <tr>\n",
       "      <th>2</th>\n",
       "      <td>d</td>\n",
       "      <td>4</td>\n",
       "      <td>index_4</td>\n",
       "    </tr>\n",
       "  </tbody>\n",
       "</table>\n",
       "</div>"
      ],
      "text/plain": [
       "  anahtar2  df2_col2 df2_colindex\n",
       "0        b         2      index_2\n",
       "1        c         3      index_3\n",
       "2        d         4      index_4"
      ]
     },
     "execution_count": 62,
     "metadata": {},
     "output_type": "execute_result"
    }
   ],
   "source": [
    "df3"
   ]
  },
  {
   "cell_type": "code",
   "execution_count": 63,
   "id": "c9f38b95",
   "metadata": {
    "execution": {
     "iopub.execute_input": "2023-03-13T20:17:02.658569Z",
     "iopub.status.busy": "2023-03-13T20:17:02.658049Z",
     "iopub.status.idle": "2023-03-13T20:17:02.670766Z",
     "shell.execute_reply": "2023-03-13T20:17:02.669456Z"
    },
    "papermill": {
     "duration": 0.048938,
     "end_time": "2023-03-13T20:17:02.673311",
     "exception": false,
     "start_time": "2023-03-13T20:17:02.624373",
     "status": "completed"
    },
    "scrolled": true,
    "tags": []
   },
   "outputs": [
    {
     "data": {
      "text/html": [
       "<div>\n",
       "<style scoped>\n",
       "    .dataframe tbody tr th:only-of-type {\n",
       "        vertical-align: middle;\n",
       "    }\n",
       "\n",
       "    .dataframe tbody tr th {\n",
       "        vertical-align: top;\n",
       "    }\n",
       "\n",
       "    .dataframe thead th {\n",
       "        text-align: right;\n",
       "    }\n",
       "</style>\n",
       "<table border=\"1\" class=\"dataframe\">\n",
       "  <thead>\n",
       "    <tr style=\"text-align: right;\">\n",
       "      <th></th>\n",
       "      <th>anahtar2</th>\n",
       "      <th>df2_col2</th>\n",
       "      <th>df2_colindex</th>\n",
       "    </tr>\n",
       "  </thead>\n",
       "  <tbody>\n",
       "    <tr>\n",
       "      <th>0</th>\n",
       "      <td>b</td>\n",
       "      <td>2</td>\n",
       "      <td>index_2</td>\n",
       "    </tr>\n",
       "    <tr>\n",
       "      <th>1</th>\n",
       "      <td>c</td>\n",
       "      <td>3</td>\n",
       "      <td>index_3</td>\n",
       "    </tr>\n",
       "    <tr>\n",
       "      <th>2</th>\n",
       "      <td>d</td>\n",
       "      <td>4</td>\n",
       "      <td>index_4</td>\n",
       "    </tr>\n",
       "  </tbody>\n",
       "</table>\n",
       "</div>"
      ],
      "text/plain": [
       "  anahtar2  df2_col2 df2_colindex\n",
       "0        b         2      index_2\n",
       "1        c         3      index_3\n",
       "2        d         4      index_4"
      ]
     },
     "execution_count": 63,
     "metadata": {},
     "output_type": "execute_result"
    }
   ],
   "source": [
    "df3"
   ]
  },
  {
   "cell_type": "code",
   "execution_count": 64,
   "id": "e5e9c025",
   "metadata": {
    "execution": {
     "iopub.execute_input": "2023-03-13T20:17:02.740062Z",
     "iopub.status.busy": "2023-03-13T20:17:02.739628Z",
     "iopub.status.idle": "2023-03-13T20:17:02.751903Z",
     "shell.execute_reply": "2023-03-13T20:17:02.750531Z"
    },
    "papermill": {
     "duration": 0.048676,
     "end_time": "2023-03-13T20:17:02.754459",
     "exception": false,
     "start_time": "2023-03-13T20:17:02.705783",
     "status": "completed"
    },
    "tags": []
   },
   "outputs": [
    {
     "data": {
      "text/html": [
       "<div>\n",
       "<style scoped>\n",
       "    .dataframe tbody tr th:only-of-type {\n",
       "        vertical-align: middle;\n",
       "    }\n",
       "\n",
       "    .dataframe tbody tr th {\n",
       "        vertical-align: top;\n",
       "    }\n",
       "\n",
       "    .dataframe thead th {\n",
       "        text-align: right;\n",
       "    }\n",
       "</style>\n",
       "<table border=\"1\" class=\"dataframe\">\n",
       "  <thead>\n",
       "    <tr style=\"text-align: right;\">\n",
       "      <th></th>\n",
       "      <th>anahtar2</th>\n",
       "      <th>df2_col2</th>\n",
       "    </tr>\n",
       "    <tr>\n",
       "      <th>df2_colindex</th>\n",
       "      <th></th>\n",
       "      <th></th>\n",
       "    </tr>\n",
       "  </thead>\n",
       "  <tbody>\n",
       "    <tr>\n",
       "      <th>index_2</th>\n",
       "      <td>b</td>\n",
       "      <td>2</td>\n",
       "    </tr>\n",
       "    <tr>\n",
       "      <th>index_3</th>\n",
       "      <td>c</td>\n",
       "      <td>3</td>\n",
       "    </tr>\n",
       "    <tr>\n",
       "      <th>index_4</th>\n",
       "      <td>d</td>\n",
       "      <td>4</td>\n",
       "    </tr>\n",
       "  </tbody>\n",
       "</table>\n",
       "</div>"
      ],
      "text/plain": [
       "             anahtar2  df2_col2\n",
       "df2_colindex                   \n",
       "index_2             b         2\n",
       "index_3             c         3\n",
       "index_4             d         4"
      ]
     },
     "execution_count": 64,
     "metadata": {},
     "output_type": "execute_result"
    }
   ],
   "source": [
    "# index e değer atayarak \n",
    "df2=df3.set_index('df2_colindex')\n",
    "df2"
   ]
  },
  {
   "cell_type": "code",
   "execution_count": 65,
   "id": "8050bb46",
   "metadata": {
    "execution": {
     "iopub.execute_input": "2023-03-13T20:17:02.821467Z",
     "iopub.status.busy": "2023-03-13T20:17:02.820566Z",
     "iopub.status.idle": "2023-03-13T20:17:02.835857Z",
     "shell.execute_reply": "2023-03-13T20:17:02.834592Z"
    },
    "papermill": {
     "duration": 0.052926,
     "end_time": "2023-03-13T20:17:02.838906",
     "exception": false,
     "start_time": "2023-03-13T20:17:02.785980",
     "status": "completed"
    },
    "tags": []
   },
   "outputs": [
    {
     "data": {
      "text/html": [
       "<div>\n",
       "<style scoped>\n",
       "    .dataframe tbody tr th:only-of-type {\n",
       "        vertical-align: middle;\n",
       "    }\n",
       "\n",
       "    .dataframe tbody tr th {\n",
       "        vertical-align: top;\n",
       "    }\n",
       "\n",
       "    .dataframe thead th {\n",
       "        text-align: right;\n",
       "    }\n",
       "</style>\n",
       "<table border=\"1\" class=\"dataframe\">\n",
       "  <thead>\n",
       "    <tr style=\"text-align: right;\">\n",
       "      <th></th>\n",
       "      <th>anahtar1</th>\n",
       "      <th>df1_col1</th>\n",
       "      <th>anahtar2</th>\n",
       "      <th>df2_col2</th>\n",
       "      <th>df2_colindex</th>\n",
       "    </tr>\n",
       "  </thead>\n",
       "  <tbody>\n",
       "    <tr>\n",
       "      <th>index_1</th>\n",
       "      <td>a</td>\n",
       "      <td>1</td>\n",
       "      <td>NaN</td>\n",
       "      <td>NaN</td>\n",
       "      <td>NaN</td>\n",
       "    </tr>\n",
       "    <tr>\n",
       "      <th>index_2</th>\n",
       "      <td>b</td>\n",
       "      <td>2</td>\n",
       "      <td>NaN</td>\n",
       "      <td>NaN</td>\n",
       "      <td>NaN</td>\n",
       "    </tr>\n",
       "    <tr>\n",
       "      <th>index_3</th>\n",
       "      <td>c</td>\n",
       "      <td>3</td>\n",
       "      <td>NaN</td>\n",
       "      <td>NaN</td>\n",
       "      <td>NaN</td>\n",
       "    </tr>\n",
       "  </tbody>\n",
       "</table>\n",
       "</div>"
      ],
      "text/plain": [
       "        anahtar1  df1_col1 anahtar2  df2_col2 df2_colindex\n",
       "index_1        a         1      NaN       NaN          NaN\n",
       "index_2        b         2      NaN       NaN          NaN\n",
       "index_3        c         3      NaN       NaN          NaN"
      ]
     },
     "execution_count": 65,
     "metadata": {},
     "output_type": "execute_result"
    }
   ],
   "source": [
    "df1.join(df3)"
   ]
  },
  {
   "cell_type": "markdown",
   "id": "9b200fb9",
   "metadata": {
    "papermill": {
     "duration": 0.032254,
     "end_time": "2023-03-13T20:17:02.904534",
     "exception": false,
     "start_time": "2023-03-13T20:17:02.872280",
     "status": "completed"
    },
    "tags": []
   },
   "source": [
    "## Eğer anahatar değerin biri indexte biri ise kolonda ise Yöntem 2"
   ]
  },
  {
   "cell_type": "markdown",
   "id": "7f8036fc",
   "metadata": {
    "papermill": {
     "duration": 0.031299,
     "end_time": "2023-03-13T20:17:02.968219",
     "exception": false,
     "start_time": "2023-03-13T20:17:02.936920",
     "status": "completed"
    },
    "tags": []
   },
   "source": [
    "## On = \"....\"\n",
    "**Eğer anahatar değerin ikiside kolonda ise kullanılabilir"
   ]
  },
  {
   "cell_type": "code",
   "execution_count": 66,
   "id": "cb4730bf",
   "metadata": {
    "execution": {
     "iopub.execute_input": "2023-03-13T20:17:03.034322Z",
     "iopub.status.busy": "2023-03-13T20:17:03.033125Z",
     "iopub.status.idle": "2023-03-13T20:17:03.041757Z",
     "shell.execute_reply": "2023-03-13T20:17:03.040534Z"
    },
    "papermill": {
     "duration": 0.044513,
     "end_time": "2023-03-13T20:17:03.044352",
     "exception": false,
     "start_time": "2023-03-13T20:17:02.999839",
     "status": "completed"
    },
    "tags": []
   },
   "outputs": [],
   "source": [
    "df1 = pd.DataFrame({'anahtar1': ['a', 'b', 'c'],\n",
    "                    'df1_col1': range(1,4),\n",
    "                   \"df1_colindex\":['index_1','index_2','index_3']}   )\n",
    "\n",
    "df2 = pd.DataFrame({'anahtar2': ['b', 'c', 'd'],\n",
    "                    'df2_col2': range(2,5),\n",
    "                    \"df2_colindex\":['index_2','index_3','index_4']}   )"
   ]
  },
  {
   "cell_type": "code",
   "execution_count": 67,
   "id": "fef6193d",
   "metadata": {
    "execution": {
     "iopub.execute_input": "2023-03-13T20:17:03.110775Z",
     "iopub.status.busy": "2023-03-13T20:17:03.110243Z",
     "iopub.status.idle": "2023-03-13T20:17:03.122731Z",
     "shell.execute_reply": "2023-03-13T20:17:03.121433Z"
    },
    "papermill": {
     "duration": 0.049564,
     "end_time": "2023-03-13T20:17:03.125571",
     "exception": false,
     "start_time": "2023-03-13T20:17:03.076007",
     "status": "completed"
    },
    "tags": []
   },
   "outputs": [
    {
     "data": {
      "text/html": [
       "<div>\n",
       "<style scoped>\n",
       "    .dataframe tbody tr th:only-of-type {\n",
       "        vertical-align: middle;\n",
       "    }\n",
       "\n",
       "    .dataframe tbody tr th {\n",
       "        vertical-align: top;\n",
       "    }\n",
       "\n",
       "    .dataframe thead th {\n",
       "        text-align: right;\n",
       "    }\n",
       "</style>\n",
       "<table border=\"1\" class=\"dataframe\">\n",
       "  <thead>\n",
       "    <tr style=\"text-align: right;\">\n",
       "      <th></th>\n",
       "      <th>anahtar1</th>\n",
       "      <th>df1_col1</th>\n",
       "      <th>df1_colindex</th>\n",
       "    </tr>\n",
       "  </thead>\n",
       "  <tbody>\n",
       "    <tr>\n",
       "      <th>0</th>\n",
       "      <td>a</td>\n",
       "      <td>1</td>\n",
       "      <td>index_1</td>\n",
       "    </tr>\n",
       "    <tr>\n",
       "      <th>1</th>\n",
       "      <td>b</td>\n",
       "      <td>2</td>\n",
       "      <td>index_2</td>\n",
       "    </tr>\n",
       "    <tr>\n",
       "      <th>2</th>\n",
       "      <td>c</td>\n",
       "      <td>3</td>\n",
       "      <td>index_3</td>\n",
       "    </tr>\n",
       "  </tbody>\n",
       "</table>\n",
       "</div>"
      ],
      "text/plain": [
       "  anahtar1  df1_col1 df1_colindex\n",
       "0        a         1      index_1\n",
       "1        b         2      index_2\n",
       "2        c         3      index_3"
      ]
     },
     "execution_count": 67,
     "metadata": {},
     "output_type": "execute_result"
    }
   ],
   "source": [
    "df1"
   ]
  },
  {
   "cell_type": "code",
   "execution_count": 68,
   "id": "c7adaefb",
   "metadata": {
    "execution": {
     "iopub.execute_input": "2023-03-13T20:17:03.192118Z",
     "iopub.status.busy": "2023-03-13T20:17:03.191598Z",
     "iopub.status.idle": "2023-03-13T20:17:03.204123Z",
     "shell.execute_reply": "2023-03-13T20:17:03.202603Z"
    },
    "papermill": {
     "duration": 0.049073,
     "end_time": "2023-03-13T20:17:03.206885",
     "exception": false,
     "start_time": "2023-03-13T20:17:03.157812",
     "status": "completed"
    },
    "tags": []
   },
   "outputs": [
    {
     "data": {
      "text/html": [
       "<div>\n",
       "<style scoped>\n",
       "    .dataframe tbody tr th:only-of-type {\n",
       "        vertical-align: middle;\n",
       "    }\n",
       "\n",
       "    .dataframe tbody tr th {\n",
       "        vertical-align: top;\n",
       "    }\n",
       "\n",
       "    .dataframe thead th {\n",
       "        text-align: right;\n",
       "    }\n",
       "</style>\n",
       "<table border=\"1\" class=\"dataframe\">\n",
       "  <thead>\n",
       "    <tr style=\"text-align: right;\">\n",
       "      <th></th>\n",
       "      <th>anahtar2</th>\n",
       "      <th>df2_col2</th>\n",
       "      <th>df2_colindex</th>\n",
       "    </tr>\n",
       "  </thead>\n",
       "  <tbody>\n",
       "    <tr>\n",
       "      <th>0</th>\n",
       "      <td>b</td>\n",
       "      <td>2</td>\n",
       "      <td>index_2</td>\n",
       "    </tr>\n",
       "    <tr>\n",
       "      <th>1</th>\n",
       "      <td>c</td>\n",
       "      <td>3</td>\n",
       "      <td>index_3</td>\n",
       "    </tr>\n",
       "    <tr>\n",
       "      <th>2</th>\n",
       "      <td>d</td>\n",
       "      <td>4</td>\n",
       "      <td>index_4</td>\n",
       "    </tr>\n",
       "  </tbody>\n",
       "</table>\n",
       "</div>"
      ],
      "text/plain": [
       "  anahtar2  df2_col2 df2_colindex\n",
       "0        b         2      index_2\n",
       "1        c         3      index_3\n",
       "2        d         4      index_4"
      ]
     },
     "execution_count": 68,
     "metadata": {},
     "output_type": "execute_result"
    }
   ],
   "source": [
    "df2"
   ]
  },
  {
   "cell_type": "code",
   "execution_count": 69,
   "id": "69c84175",
   "metadata": {
    "execution": {
     "iopub.execute_input": "2023-03-13T20:17:03.275317Z",
     "iopub.status.busy": "2023-03-13T20:17:03.274850Z",
     "iopub.status.idle": "2023-03-13T20:17:03.295714Z",
     "shell.execute_reply": "2023-03-13T20:17:03.294036Z"
    },
    "papermill": {
     "duration": 0.058629,
     "end_time": "2023-03-13T20:17:03.298708",
     "exception": false,
     "start_time": "2023-03-13T20:17:03.240079",
     "status": "completed"
    },
    "tags": []
   },
   "outputs": [
    {
     "data": {
      "text/html": [
       "<div>\n",
       "<style scoped>\n",
       "    .dataframe tbody tr th:only-of-type {\n",
       "        vertical-align: middle;\n",
       "    }\n",
       "\n",
       "    .dataframe tbody tr th {\n",
       "        vertical-align: top;\n",
       "    }\n",
       "\n",
       "    .dataframe thead th {\n",
       "        text-align: right;\n",
       "    }\n",
       "</style>\n",
       "<table border=\"1\" class=\"dataframe\">\n",
       "  <thead>\n",
       "    <tr style=\"text-align: right;\">\n",
       "      <th></th>\n",
       "      <th>anahtar1</th>\n",
       "      <th>df1_col1</th>\n",
       "      <th>df1_colindex</th>\n",
       "      <th>df2_col2</th>\n",
       "      <th>df2_colindex</th>\n",
       "    </tr>\n",
       "  </thead>\n",
       "  <tbody>\n",
       "    <tr>\n",
       "      <th>0</th>\n",
       "      <td>a</td>\n",
       "      <td>1</td>\n",
       "      <td>index_1</td>\n",
       "      <td>NaN</td>\n",
       "      <td>NaN</td>\n",
       "    </tr>\n",
       "    <tr>\n",
       "      <th>1</th>\n",
       "      <td>b</td>\n",
       "      <td>2</td>\n",
       "      <td>index_2</td>\n",
       "      <td>2.0</td>\n",
       "      <td>index_2</td>\n",
       "    </tr>\n",
       "    <tr>\n",
       "      <th>2</th>\n",
       "      <td>c</td>\n",
       "      <td>3</td>\n",
       "      <td>index_3</td>\n",
       "      <td>3.0</td>\n",
       "      <td>index_3</td>\n",
       "    </tr>\n",
       "  </tbody>\n",
       "</table>\n",
       "</div>"
      ],
      "text/plain": [
       "  anahtar1  df1_col1 df1_colindex  df2_col2 df2_colindex\n",
       "0        a         1      index_1       NaN          NaN\n",
       "1        b         2      index_2       2.0      index_2\n",
       "2        c         3      index_3       3.0      index_3"
      ]
     },
     "execution_count": 69,
     "metadata": {},
     "output_type": "execute_result"
    }
   ],
   "source": [
    "df1.join(df2.set_index('anahtar2'),on=\"anahtar1\")"
   ]
  },
  {
   "cell_type": "code",
   "execution_count": 70,
   "id": "82babbc0",
   "metadata": {
    "execution": {
     "iopub.execute_input": "2023-03-13T20:17:03.365992Z",
     "iopub.status.busy": "2023-03-13T20:17:03.365540Z",
     "iopub.status.idle": "2023-03-13T20:17:03.382185Z",
     "shell.execute_reply": "2023-03-13T20:17:03.380897Z"
    },
    "papermill": {
     "duration": 0.053318,
     "end_time": "2023-03-13T20:17:03.384630",
     "exception": false,
     "start_time": "2023-03-13T20:17:03.331312",
     "status": "completed"
    },
    "tags": []
   },
   "outputs": [
    {
     "data": {
      "text/html": [
       "<div>\n",
       "<style scoped>\n",
       "    .dataframe tbody tr th:only-of-type {\n",
       "        vertical-align: middle;\n",
       "    }\n",
       "\n",
       "    .dataframe tbody tr th {\n",
       "        vertical-align: top;\n",
       "    }\n",
       "\n",
       "    .dataframe thead th {\n",
       "        text-align: right;\n",
       "    }\n",
       "</style>\n",
       "<table border=\"1\" class=\"dataframe\">\n",
       "  <thead>\n",
       "    <tr style=\"text-align: right;\">\n",
       "      <th></th>\n",
       "      <th>df1_col1</th>\n",
       "      <th>df1_colindex</th>\n",
       "      <th>df2_col2</th>\n",
       "      <th>df2_colindex</th>\n",
       "    </tr>\n",
       "    <tr>\n",
       "      <th>anahtar1</th>\n",
       "      <th></th>\n",
       "      <th></th>\n",
       "      <th></th>\n",
       "      <th></th>\n",
       "    </tr>\n",
       "  </thead>\n",
       "  <tbody>\n",
       "    <tr>\n",
       "      <th>a</th>\n",
       "      <td>1</td>\n",
       "      <td>index_1</td>\n",
       "      <td>NaN</td>\n",
       "      <td>NaN</td>\n",
       "    </tr>\n",
       "    <tr>\n",
       "      <th>b</th>\n",
       "      <td>2</td>\n",
       "      <td>index_2</td>\n",
       "      <td>2.0</td>\n",
       "      <td>index_2</td>\n",
       "    </tr>\n",
       "    <tr>\n",
       "      <th>c</th>\n",
       "      <td>3</td>\n",
       "      <td>index_3</td>\n",
       "      <td>3.0</td>\n",
       "      <td>index_3</td>\n",
       "    </tr>\n",
       "  </tbody>\n",
       "</table>\n",
       "</div>"
      ],
      "text/plain": [
       "          df1_col1 df1_colindex  df2_col2 df2_colindex\n",
       "anahtar1                                              \n",
       "a                1      index_1       NaN          NaN\n",
       "b                2      index_2       2.0      index_2\n",
       "c                3      index_3       3.0      index_3"
      ]
     },
     "execution_count": 70,
     "metadata": {},
     "output_type": "execute_result"
    }
   ],
   "source": [
    "# ortak değişkeni index e atayarak, ortak değişkene göre de birleştirme yapabiliriz.\n",
    "df1.set_index('anahtar1').join(df2.set_index('anahtar2'))"
   ]
  },
  {
   "cell_type": "markdown",
   "id": "9267254f",
   "metadata": {
    "papermill": {
     "duration": 0.032788,
     "end_time": "2023-03-13T20:17:03.449916",
     "exception": false,
     "start_time": "2023-03-13T20:17:03.417128",
     "status": "completed"
    },
    "tags": []
   },
   "source": [
    "## how{‘left’, ‘right’, ‘outer’, ‘inner’}, default ‘left’"
   ]
  },
  {
   "cell_type": "code",
   "execution_count": 71,
   "id": "0fba62b7",
   "metadata": {
    "execution": {
     "iopub.execute_input": "2023-03-13T20:17:03.517151Z",
     "iopub.status.busy": "2023-03-13T20:17:03.516652Z",
     "iopub.status.idle": "2023-03-13T20:17:03.525241Z",
     "shell.execute_reply": "2023-03-13T20:17:03.523933Z"
    },
    "papermill": {
     "duration": 0.045244,
     "end_time": "2023-03-13T20:17:03.527719",
     "exception": false,
     "start_time": "2023-03-13T20:17:03.482475",
     "status": "completed"
    },
    "tags": []
   },
   "outputs": [],
   "source": [
    "df1 = pd.DataFrame({'anahtar1': ['a', 'b', 'c'],\n",
    "                    'df1_col1': range(1,4)},\n",
    "                   index=['index_1', 'index_2','index_3'])\n",
    "\n",
    "df2 = pd.DataFrame({'anahtar2': ['b', 'c', 'd'],\n",
    "                    'df2_col2': range(2,5)},\n",
    "                   index=['index_2','index_3','index_4'])"
   ]
  },
  {
   "cell_type": "code",
   "execution_count": 72,
   "id": "1e7a91d8",
   "metadata": {
    "execution": {
     "iopub.execute_input": "2023-03-13T20:17:03.595179Z",
     "iopub.status.busy": "2023-03-13T20:17:03.594754Z",
     "iopub.status.idle": "2023-03-13T20:17:03.605921Z",
     "shell.execute_reply": "2023-03-13T20:17:03.604547Z"
    },
    "papermill": {
     "duration": 0.048389,
     "end_time": "2023-03-13T20:17:03.608642",
     "exception": false,
     "start_time": "2023-03-13T20:17:03.560253",
     "status": "completed"
    },
    "tags": []
   },
   "outputs": [
    {
     "data": {
      "text/html": [
       "<div>\n",
       "<style scoped>\n",
       "    .dataframe tbody tr th:only-of-type {\n",
       "        vertical-align: middle;\n",
       "    }\n",
       "\n",
       "    .dataframe tbody tr th {\n",
       "        vertical-align: top;\n",
       "    }\n",
       "\n",
       "    .dataframe thead th {\n",
       "        text-align: right;\n",
       "    }\n",
       "</style>\n",
       "<table border=\"1\" class=\"dataframe\">\n",
       "  <thead>\n",
       "    <tr style=\"text-align: right;\">\n",
       "      <th></th>\n",
       "      <th>anahtar1</th>\n",
       "      <th>df1_col1</th>\n",
       "    </tr>\n",
       "  </thead>\n",
       "  <tbody>\n",
       "    <tr>\n",
       "      <th>index_1</th>\n",
       "      <td>a</td>\n",
       "      <td>1</td>\n",
       "    </tr>\n",
       "    <tr>\n",
       "      <th>index_2</th>\n",
       "      <td>b</td>\n",
       "      <td>2</td>\n",
       "    </tr>\n",
       "    <tr>\n",
       "      <th>index_3</th>\n",
       "      <td>c</td>\n",
       "      <td>3</td>\n",
       "    </tr>\n",
       "  </tbody>\n",
       "</table>\n",
       "</div>"
      ],
      "text/plain": [
       "        anahtar1  df1_col1\n",
       "index_1        a         1\n",
       "index_2        b         2\n",
       "index_3        c         3"
      ]
     },
     "execution_count": 72,
     "metadata": {},
     "output_type": "execute_result"
    }
   ],
   "source": [
    "df1"
   ]
  },
  {
   "cell_type": "code",
   "execution_count": 73,
   "id": "4c6667c9",
   "metadata": {
    "execution": {
     "iopub.execute_input": "2023-03-13T20:17:03.677761Z",
     "iopub.status.busy": "2023-03-13T20:17:03.676938Z",
     "iopub.status.idle": "2023-03-13T20:17:03.687796Z",
     "shell.execute_reply": "2023-03-13T20:17:03.686446Z"
    },
    "papermill": {
     "duration": 0.049522,
     "end_time": "2023-03-13T20:17:03.690781",
     "exception": false,
     "start_time": "2023-03-13T20:17:03.641259",
     "status": "completed"
    },
    "scrolled": true,
    "tags": []
   },
   "outputs": [
    {
     "data": {
      "text/html": [
       "<div>\n",
       "<style scoped>\n",
       "    .dataframe tbody tr th:only-of-type {\n",
       "        vertical-align: middle;\n",
       "    }\n",
       "\n",
       "    .dataframe tbody tr th {\n",
       "        vertical-align: top;\n",
       "    }\n",
       "\n",
       "    .dataframe thead th {\n",
       "        text-align: right;\n",
       "    }\n",
       "</style>\n",
       "<table border=\"1\" class=\"dataframe\">\n",
       "  <thead>\n",
       "    <tr style=\"text-align: right;\">\n",
       "      <th></th>\n",
       "      <th>anahtar2</th>\n",
       "      <th>df2_col2</th>\n",
       "    </tr>\n",
       "  </thead>\n",
       "  <tbody>\n",
       "    <tr>\n",
       "      <th>index_2</th>\n",
       "      <td>b</td>\n",
       "      <td>2</td>\n",
       "    </tr>\n",
       "    <tr>\n",
       "      <th>index_3</th>\n",
       "      <td>c</td>\n",
       "      <td>3</td>\n",
       "    </tr>\n",
       "    <tr>\n",
       "      <th>index_4</th>\n",
       "      <td>d</td>\n",
       "      <td>4</td>\n",
       "    </tr>\n",
       "  </tbody>\n",
       "</table>\n",
       "</div>"
      ],
      "text/plain": [
       "        anahtar2  df2_col2\n",
       "index_2        b         2\n",
       "index_3        c         3\n",
       "index_4        d         4"
      ]
     },
     "execution_count": 73,
     "metadata": {},
     "output_type": "execute_result"
    }
   ],
   "source": [
    "df2"
   ]
  },
  {
   "cell_type": "code",
   "execution_count": 74,
   "id": "85cdd44f",
   "metadata": {
    "execution": {
     "iopub.execute_input": "2023-03-13T20:17:03.760526Z",
     "iopub.status.busy": "2023-03-13T20:17:03.759180Z",
     "iopub.status.idle": "2023-03-13T20:17:03.774770Z",
     "shell.execute_reply": "2023-03-13T20:17:03.773345Z"
    },
    "papermill": {
     "duration": 0.05355,
     "end_time": "2023-03-13T20:17:03.777713",
     "exception": false,
     "start_time": "2023-03-13T20:17:03.724163",
     "status": "completed"
    },
    "tags": []
   },
   "outputs": [
    {
     "data": {
      "text/html": [
       "<div>\n",
       "<style scoped>\n",
       "    .dataframe tbody tr th:only-of-type {\n",
       "        vertical-align: middle;\n",
       "    }\n",
       "\n",
       "    .dataframe tbody tr th {\n",
       "        vertical-align: top;\n",
       "    }\n",
       "\n",
       "    .dataframe thead th {\n",
       "        text-align: right;\n",
       "    }\n",
       "</style>\n",
       "<table border=\"1\" class=\"dataframe\">\n",
       "  <thead>\n",
       "    <tr style=\"text-align: right;\">\n",
       "      <th></th>\n",
       "      <th>anahtar1</th>\n",
       "      <th>df1_col1</th>\n",
       "      <th>anahtar2</th>\n",
       "      <th>df2_col2</th>\n",
       "    </tr>\n",
       "  </thead>\n",
       "  <tbody>\n",
       "    <tr>\n",
       "      <th>index_1</th>\n",
       "      <td>a</td>\n",
       "      <td>1</td>\n",
       "      <td>NaN</td>\n",
       "      <td>NaN</td>\n",
       "    </tr>\n",
       "    <tr>\n",
       "      <th>index_2</th>\n",
       "      <td>b</td>\n",
       "      <td>2</td>\n",
       "      <td>b</td>\n",
       "      <td>2.0</td>\n",
       "    </tr>\n",
       "    <tr>\n",
       "      <th>index_3</th>\n",
       "      <td>c</td>\n",
       "      <td>3</td>\n",
       "      <td>c</td>\n",
       "      <td>3.0</td>\n",
       "    </tr>\n",
       "  </tbody>\n",
       "</table>\n",
       "</div>"
      ],
      "text/plain": [
       "        anahtar1  df1_col1 anahtar2  df2_col2\n",
       "index_1        a         1      NaN       NaN\n",
       "index_2        b         2        b       2.0\n",
       "index_3        c         3        c       3.0"
      ]
     },
     "execution_count": 74,
     "metadata": {},
     "output_type": "execute_result"
    }
   ],
   "source": [
    "# default,  how='left'\n",
    "df1.join(df2, how='left')"
   ]
  },
  {
   "cell_type": "code",
   "execution_count": 75,
   "id": "b8747bd2",
   "metadata": {
    "execution": {
     "iopub.execute_input": "2023-03-13T20:17:03.847081Z",
     "iopub.status.busy": "2023-03-13T20:17:03.846613Z",
     "iopub.status.idle": "2023-03-13T20:17:03.862215Z",
     "shell.execute_reply": "2023-03-13T20:17:03.860829Z"
    },
    "papermill": {
     "duration": 0.054107,
     "end_time": "2023-03-13T20:17:03.864956",
     "exception": false,
     "start_time": "2023-03-13T20:17:03.810849",
     "status": "completed"
    },
    "tags": []
   },
   "outputs": [
    {
     "data": {
      "text/html": [
       "<div>\n",
       "<style scoped>\n",
       "    .dataframe tbody tr th:only-of-type {\n",
       "        vertical-align: middle;\n",
       "    }\n",
       "\n",
       "    .dataframe tbody tr th {\n",
       "        vertical-align: top;\n",
       "    }\n",
       "\n",
       "    .dataframe thead th {\n",
       "        text-align: right;\n",
       "    }\n",
       "</style>\n",
       "<table border=\"1\" class=\"dataframe\">\n",
       "  <thead>\n",
       "    <tr style=\"text-align: right;\">\n",
       "      <th></th>\n",
       "      <th>anahtar1</th>\n",
       "      <th>df1_col1</th>\n",
       "      <th>anahtar2</th>\n",
       "      <th>df2_col2</th>\n",
       "    </tr>\n",
       "  </thead>\n",
       "  <tbody>\n",
       "    <tr>\n",
       "      <th>index_2</th>\n",
       "      <td>b</td>\n",
       "      <td>2.0</td>\n",
       "      <td>b</td>\n",
       "      <td>2</td>\n",
       "    </tr>\n",
       "    <tr>\n",
       "      <th>index_3</th>\n",
       "      <td>c</td>\n",
       "      <td>3.0</td>\n",
       "      <td>c</td>\n",
       "      <td>3</td>\n",
       "    </tr>\n",
       "    <tr>\n",
       "      <th>index_4</th>\n",
       "      <td>NaN</td>\n",
       "      <td>NaN</td>\n",
       "      <td>d</td>\n",
       "      <td>4</td>\n",
       "    </tr>\n",
       "  </tbody>\n",
       "</table>\n",
       "</div>"
      ],
      "text/plain": [
       "        anahtar1  df1_col1 anahtar2  df2_col2\n",
       "index_2        b       2.0        b         2\n",
       "index_3        c       3.0        c         3\n",
       "index_4      NaN       NaN        d         4"
      ]
     },
     "execution_count": 75,
     "metadata": {},
     "output_type": "execute_result"
    }
   ],
   "source": [
    "# sağdaki df in indexine göre birleştirme\n",
    "df1.join(df2, how='right')"
   ]
  },
  {
   "cell_type": "code",
   "execution_count": 76,
   "id": "83b57fa8",
   "metadata": {
    "execution": {
     "iopub.execute_input": "2023-03-13T20:17:03.933714Z",
     "iopub.status.busy": "2023-03-13T20:17:03.932840Z",
     "iopub.status.idle": "2023-03-13T20:17:03.947919Z",
     "shell.execute_reply": "2023-03-13T20:17:03.946567Z"
    },
    "papermill": {
     "duration": 0.052555,
     "end_time": "2023-03-13T20:17:03.950515",
     "exception": false,
     "start_time": "2023-03-13T20:17:03.897960",
     "status": "completed"
    },
    "tags": []
   },
   "outputs": [
    {
     "data": {
      "text/html": [
       "<div>\n",
       "<style scoped>\n",
       "    .dataframe tbody tr th:only-of-type {\n",
       "        vertical-align: middle;\n",
       "    }\n",
       "\n",
       "    .dataframe tbody tr th {\n",
       "        vertical-align: top;\n",
       "    }\n",
       "\n",
       "    .dataframe thead th {\n",
       "        text-align: right;\n",
       "    }\n",
       "</style>\n",
       "<table border=\"1\" class=\"dataframe\">\n",
       "  <thead>\n",
       "    <tr style=\"text-align: right;\">\n",
       "      <th></th>\n",
       "      <th>anahtar1</th>\n",
       "      <th>df1_col1</th>\n",
       "      <th>anahtar2</th>\n",
       "      <th>df2_col2</th>\n",
       "    </tr>\n",
       "  </thead>\n",
       "  <tbody>\n",
       "    <tr>\n",
       "      <th>index_1</th>\n",
       "      <td>a</td>\n",
       "      <td>1.0</td>\n",
       "      <td>NaN</td>\n",
       "      <td>NaN</td>\n",
       "    </tr>\n",
       "    <tr>\n",
       "      <th>index_2</th>\n",
       "      <td>b</td>\n",
       "      <td>2.0</td>\n",
       "      <td>b</td>\n",
       "      <td>2.0</td>\n",
       "    </tr>\n",
       "    <tr>\n",
       "      <th>index_3</th>\n",
       "      <td>c</td>\n",
       "      <td>3.0</td>\n",
       "      <td>c</td>\n",
       "      <td>3.0</td>\n",
       "    </tr>\n",
       "    <tr>\n",
       "      <th>index_4</th>\n",
       "      <td>NaN</td>\n",
       "      <td>NaN</td>\n",
       "      <td>d</td>\n",
       "      <td>4.0</td>\n",
       "    </tr>\n",
       "  </tbody>\n",
       "</table>\n",
       "</div>"
      ],
      "text/plain": [
       "        anahtar1  df1_col1 anahtar2  df2_col2\n",
       "index_1        a       1.0      NaN       NaN\n",
       "index_2        b       2.0        b       2.0\n",
       "index_3        c       3.0        c       3.0\n",
       "index_4      NaN       NaN        d       4.0"
      ]
     },
     "execution_count": 76,
     "metadata": {},
     "output_type": "execute_result"
    }
   ],
   "source": [
    "# butun degerleri gormek istersek\n",
    "df1.join(df2, how='outer')"
   ]
  },
  {
   "cell_type": "code",
   "execution_count": 77,
   "id": "0ba9ef0b",
   "metadata": {
    "execution": {
     "iopub.execute_input": "2023-03-13T20:17:04.018999Z",
     "iopub.status.busy": "2023-03-13T20:17:04.018511Z",
     "iopub.status.idle": "2023-03-13T20:17:04.033690Z",
     "shell.execute_reply": "2023-03-13T20:17:04.032186Z"
    },
    "papermill": {
     "duration": 0.05251,
     "end_time": "2023-03-13T20:17:04.036324",
     "exception": false,
     "start_time": "2023-03-13T20:17:03.983814",
     "status": "completed"
    },
    "tags": []
   },
   "outputs": [
    {
     "data": {
      "text/html": [
       "<div>\n",
       "<style scoped>\n",
       "    .dataframe tbody tr th:only-of-type {\n",
       "        vertical-align: middle;\n",
       "    }\n",
       "\n",
       "    .dataframe tbody tr th {\n",
       "        vertical-align: top;\n",
       "    }\n",
       "\n",
       "    .dataframe thead th {\n",
       "        text-align: right;\n",
       "    }\n",
       "</style>\n",
       "<table border=\"1\" class=\"dataframe\">\n",
       "  <thead>\n",
       "    <tr style=\"text-align: right;\">\n",
       "      <th></th>\n",
       "      <th>anahtar1</th>\n",
       "      <th>df1_col1</th>\n",
       "      <th>anahtar2</th>\n",
       "      <th>df2_col2</th>\n",
       "    </tr>\n",
       "  </thead>\n",
       "  <tbody>\n",
       "    <tr>\n",
       "      <th>index_2</th>\n",
       "      <td>b</td>\n",
       "      <td>2</td>\n",
       "      <td>b</td>\n",
       "      <td>2</td>\n",
       "    </tr>\n",
       "    <tr>\n",
       "      <th>index_3</th>\n",
       "      <td>c</td>\n",
       "      <td>3</td>\n",
       "      <td>c</td>\n",
       "      <td>3</td>\n",
       "    </tr>\n",
       "  </tbody>\n",
       "</table>\n",
       "</div>"
      ],
      "text/plain": [
       "        anahtar1  df1_col1 anahtar2  df2_col2\n",
       "index_2        b         2        b         2\n",
       "index_3        c         3        c         3"
      ]
     },
     "execution_count": 77,
     "metadata": {},
     "output_type": "execute_result"
    }
   ],
   "source": [
    "# ortak index degerleri gormek istersek\n",
    "df1.join(df2, how='inner')"
   ]
  },
  {
   "cell_type": "markdown",
   "id": "54508357",
   "metadata": {
    "papermill": {
     "duration": 0.033266,
     "end_time": "2023-03-13T20:17:04.103570",
     "exception": false,
     "start_time": "2023-03-13T20:17:04.070304",
     "status": "completed"
    },
    "tags": []
   },
   "source": [
    "## lsuffix='....', rsuffix='.....'"
   ]
  },
  {
   "cell_type": "code",
   "execution_count": 78,
   "id": "8d7fbe8d",
   "metadata": {
    "execution": {
     "iopub.execute_input": "2023-03-13T20:17:04.173127Z",
     "iopub.status.busy": "2023-03-13T20:17:04.172656Z",
     "iopub.status.idle": "2023-03-13T20:17:04.181007Z",
     "shell.execute_reply": "2023-03-13T20:17:04.179559Z"
    },
    "papermill": {
     "duration": 0.046183,
     "end_time": "2023-03-13T20:17:04.183788",
     "exception": false,
     "start_time": "2023-03-13T20:17:04.137605",
     "status": "completed"
    },
    "tags": []
   },
   "outputs": [],
   "source": [
    "df1 = pd.DataFrame({'anahtar': ['a', 'b', 'c'],\n",
    "                    'df1_col1': range(1,4)},\n",
    "                   index=['index_1', 'index_2','index_3'])\n",
    "\n",
    "df2 = pd.DataFrame({'anahtar': ['b', 'c', 'd'],\n",
    "                    'df2_col2': range(2,5)},\n",
    "                   index=['index_2','index_3','index_4'])"
   ]
  },
  {
   "cell_type": "code",
   "execution_count": 79,
   "id": "c6a291f0",
   "metadata": {
    "execution": {
     "iopub.execute_input": "2023-03-13T20:17:04.254287Z",
     "iopub.status.busy": "2023-03-13T20:17:04.253845Z",
     "iopub.status.idle": "2023-03-13T20:17:04.264155Z",
     "shell.execute_reply": "2023-03-13T20:17:04.263101Z"
    },
    "papermill": {
     "duration": 0.04927,
     "end_time": "2023-03-13T20:17:04.266552",
     "exception": false,
     "start_time": "2023-03-13T20:17:04.217282",
     "status": "completed"
    },
    "tags": []
   },
   "outputs": [
    {
     "data": {
      "text/html": [
       "<div>\n",
       "<style scoped>\n",
       "    .dataframe tbody tr th:only-of-type {\n",
       "        vertical-align: middle;\n",
       "    }\n",
       "\n",
       "    .dataframe tbody tr th {\n",
       "        vertical-align: top;\n",
       "    }\n",
       "\n",
       "    .dataframe thead th {\n",
       "        text-align: right;\n",
       "    }\n",
       "</style>\n",
       "<table border=\"1\" class=\"dataframe\">\n",
       "  <thead>\n",
       "    <tr style=\"text-align: right;\">\n",
       "      <th></th>\n",
       "      <th>anahtar</th>\n",
       "      <th>df1_col1</th>\n",
       "    </tr>\n",
       "  </thead>\n",
       "  <tbody>\n",
       "    <tr>\n",
       "      <th>index_1</th>\n",
       "      <td>a</td>\n",
       "      <td>1</td>\n",
       "    </tr>\n",
       "    <tr>\n",
       "      <th>index_2</th>\n",
       "      <td>b</td>\n",
       "      <td>2</td>\n",
       "    </tr>\n",
       "    <tr>\n",
       "      <th>index_3</th>\n",
       "      <td>c</td>\n",
       "      <td>3</td>\n",
       "    </tr>\n",
       "  </tbody>\n",
       "</table>\n",
       "</div>"
      ],
      "text/plain": [
       "        anahtar  df1_col1\n",
       "index_1       a         1\n",
       "index_2       b         2\n",
       "index_3       c         3"
      ]
     },
     "execution_count": 79,
     "metadata": {},
     "output_type": "execute_result"
    }
   ],
   "source": [
    "df1"
   ]
  },
  {
   "cell_type": "code",
   "execution_count": 80,
   "id": "df0c9fb4",
   "metadata": {
    "execution": {
     "iopub.execute_input": "2023-03-13T20:17:04.339223Z",
     "iopub.status.busy": "2023-03-13T20:17:04.337978Z",
     "iopub.status.idle": "2023-03-13T20:17:04.349672Z",
     "shell.execute_reply": "2023-03-13T20:17:04.348292Z"
    },
    "papermill": {
     "duration": 0.050483,
     "end_time": "2023-03-13T20:17:04.352483",
     "exception": false,
     "start_time": "2023-03-13T20:17:04.302000",
     "status": "completed"
    },
    "tags": []
   },
   "outputs": [
    {
     "data": {
      "text/html": [
       "<div>\n",
       "<style scoped>\n",
       "    .dataframe tbody tr th:only-of-type {\n",
       "        vertical-align: middle;\n",
       "    }\n",
       "\n",
       "    .dataframe tbody tr th {\n",
       "        vertical-align: top;\n",
       "    }\n",
       "\n",
       "    .dataframe thead th {\n",
       "        text-align: right;\n",
       "    }\n",
       "</style>\n",
       "<table border=\"1\" class=\"dataframe\">\n",
       "  <thead>\n",
       "    <tr style=\"text-align: right;\">\n",
       "      <th></th>\n",
       "      <th>anahtar</th>\n",
       "      <th>df2_col2</th>\n",
       "    </tr>\n",
       "  </thead>\n",
       "  <tbody>\n",
       "    <tr>\n",
       "      <th>index_2</th>\n",
       "      <td>b</td>\n",
       "      <td>2</td>\n",
       "    </tr>\n",
       "    <tr>\n",
       "      <th>index_3</th>\n",
       "      <td>c</td>\n",
       "      <td>3</td>\n",
       "    </tr>\n",
       "    <tr>\n",
       "      <th>index_4</th>\n",
       "      <td>d</td>\n",
       "      <td>4</td>\n",
       "    </tr>\n",
       "  </tbody>\n",
       "</table>\n",
       "</div>"
      ],
      "text/plain": [
       "        anahtar  df2_col2\n",
       "index_2       b         2\n",
       "index_3       c         3\n",
       "index_4       d         4"
      ]
     },
     "execution_count": 80,
     "metadata": {},
     "output_type": "execute_result"
    }
   ],
   "source": [
    "df2"
   ]
  },
  {
   "cell_type": "code",
   "execution_count": 81,
   "id": "5a3d7b7b",
   "metadata": {
    "execution": {
     "iopub.execute_input": "2023-03-13T20:17:04.423526Z",
     "iopub.status.busy": "2023-03-13T20:17:04.422998Z",
     "iopub.status.idle": "2023-03-13T20:17:04.428086Z",
     "shell.execute_reply": "2023-03-13T20:17:04.426729Z"
    },
    "papermill": {
     "duration": 0.043353,
     "end_time": "2023-03-13T20:17:04.430637",
     "exception": false,
     "start_time": "2023-03-13T20:17:04.387284",
     "status": "completed"
    },
    "tags": []
   },
   "outputs": [],
   "source": [
    "# df1.join(df2)    \n",
    "# # hata verir: cunku ortak bir degisken var. join indexlere gore birlestirme yapar.\n",
    "# # merge fonksiyonundaki gibi _x ve _y eklemez.\n",
    "# # left_suffix, right_suffix ile hata almaktan kurtuluruz. "
   ]
  },
  {
   "cell_type": "code",
   "execution_count": 82,
   "id": "dec271d2",
   "metadata": {
    "execution": {
     "iopub.execute_input": "2023-03-13T20:17:04.502988Z",
     "iopub.status.busy": "2023-03-13T20:17:04.502051Z",
     "iopub.status.idle": "2023-03-13T20:17:04.517076Z",
     "shell.execute_reply": "2023-03-13T20:17:04.515656Z"
    },
    "papermill": {
     "duration": 0.054164,
     "end_time": "2023-03-13T20:17:04.520085",
     "exception": false,
     "start_time": "2023-03-13T20:17:04.465921",
     "status": "completed"
    },
    "tags": []
   },
   "outputs": [
    {
     "data": {
      "text/html": [
       "<div>\n",
       "<style scoped>\n",
       "    .dataframe tbody tr th:only-of-type {\n",
       "        vertical-align: middle;\n",
       "    }\n",
       "\n",
       "    .dataframe tbody tr th {\n",
       "        vertical-align: top;\n",
       "    }\n",
       "\n",
       "    .dataframe thead th {\n",
       "        text-align: right;\n",
       "    }\n",
       "</style>\n",
       "<table border=\"1\" class=\"dataframe\">\n",
       "  <thead>\n",
       "    <tr style=\"text-align: right;\">\n",
       "      <th></th>\n",
       "      <th>anahtar_df1</th>\n",
       "      <th>df1_col1</th>\n",
       "      <th>anahtar_df2</th>\n",
       "      <th>df2_col2</th>\n",
       "    </tr>\n",
       "  </thead>\n",
       "  <tbody>\n",
       "    <tr>\n",
       "      <th>index_1</th>\n",
       "      <td>a</td>\n",
       "      <td>1</td>\n",
       "      <td>NaN</td>\n",
       "      <td>NaN</td>\n",
       "    </tr>\n",
       "    <tr>\n",
       "      <th>index_2</th>\n",
       "      <td>b</td>\n",
       "      <td>2</td>\n",
       "      <td>b</td>\n",
       "      <td>2.0</td>\n",
       "    </tr>\n",
       "    <tr>\n",
       "      <th>index_3</th>\n",
       "      <td>c</td>\n",
       "      <td>3</td>\n",
       "      <td>c</td>\n",
       "      <td>3.0</td>\n",
       "    </tr>\n",
       "  </tbody>\n",
       "</table>\n",
       "</div>"
      ],
      "text/plain": [
       "        anahtar_df1  df1_col1 anahtar_df2  df2_col2\n",
       "index_1           a         1         NaN       NaN\n",
       "index_2           b         2           b       2.0\n",
       "index_3           c         3           c       3.0"
      ]
     },
     "execution_count": 82,
     "metadata": {},
     "output_type": "execute_result"
    }
   ],
   "source": [
    "# aynı olan kolonlara sonek ekliyoruz\n",
    "df1.join(df2, lsuffix='_df1', rsuffix='_df2')"
   ]
  },
  {
   "cell_type": "markdown",
   "id": "f1dd4877",
   "metadata": {
    "papermill": {
     "duration": 0.033841,
     "end_time": "2023-03-13T20:17:04.589914",
     "exception": false,
     "start_time": "2023-03-13T20:17:04.556073",
     "status": "completed"
    },
    "tags": []
   },
   "source": [
    "##  İkiden fazla veri setini birlestirmek icin yine join kullanilabilir"
   ]
  },
  {
   "cell_type": "code",
   "execution_count": 83,
   "id": "6d722763",
   "metadata": {
    "execution": {
     "iopub.execute_input": "2023-03-13T20:17:04.662636Z",
     "iopub.status.busy": "2023-03-13T20:17:04.661718Z",
     "iopub.status.idle": "2023-03-13T20:17:04.677702Z",
     "shell.execute_reply": "2023-03-13T20:17:04.676335Z"
    },
    "papermill": {
     "duration": 0.056357,
     "end_time": "2023-03-13T20:17:04.680548",
     "exception": false,
     "start_time": "2023-03-13T20:17:04.624191",
     "status": "completed"
    },
    "tags": []
   },
   "outputs": [
    {
     "data": {
      "text/html": [
       "<div>\n",
       "<style scoped>\n",
       "    .dataframe tbody tr th:only-of-type {\n",
       "        vertical-align: middle;\n",
       "    }\n",
       "\n",
       "    .dataframe tbody tr th {\n",
       "        vertical-align: top;\n",
       "    }\n",
       "\n",
       "    .dataframe thead th {\n",
       "        text-align: right;\n",
       "    }\n",
       "</style>\n",
       "<table border=\"1\" class=\"dataframe\">\n",
       "  <thead>\n",
       "    <tr style=\"text-align: right;\">\n",
       "      <th></th>\n",
       "      <th>anahtar1</th>\n",
       "      <th>df1_col1</th>\n",
       "    </tr>\n",
       "  </thead>\n",
       "  <tbody>\n",
       "    <tr>\n",
       "      <th>index_1</th>\n",
       "      <td>a</td>\n",
       "      <td>1</td>\n",
       "    </tr>\n",
       "    <tr>\n",
       "      <th>index_2</th>\n",
       "      <td>b</td>\n",
       "      <td>2</td>\n",
       "    </tr>\n",
       "    <tr>\n",
       "      <th>index_3</th>\n",
       "      <td>c</td>\n",
       "      <td>3</td>\n",
       "    </tr>\n",
       "  </tbody>\n",
       "</table>\n",
       "</div>"
      ],
      "text/plain": [
       "        anahtar1  df1_col1\n",
       "index_1        a         1\n",
       "index_2        b         2\n",
       "index_3        c         3"
      ]
     },
     "execution_count": 83,
     "metadata": {},
     "output_type": "execute_result"
    }
   ],
   "source": [
    "# Ikiden fazla veri setini birlestirmek icin yine join kullanilabilir\n",
    "# bunu gozlemlemek icin yeni bir DataFrame olusturalim:\n",
    "\n",
    "df1 = pd.DataFrame({'anahtar1': ['a', 'b', 'c'],\n",
    "                    'df1_col1': range(1,4)},\n",
    "                   index=['index_1', 'index_2','index_3'])\n",
    "\n",
    "df2 = pd.DataFrame({'anahtar2': ['b', 'c', 'd'],\n",
    "                    'df2_col2': range(2,5)},\n",
    "                   index=['index_2','index_3','index_4'])\n",
    "\n",
    "df3 = pd.DataFrame({'anahtar3': [ 'c', 'd',\"e\"],\n",
    "                    'df3_col3': range(2,5)},\n",
    "                   index=['index_3','index_4','index_5'])\n",
    "\n",
    "df1"
   ]
  },
  {
   "cell_type": "code",
   "execution_count": 84,
   "id": "63042d23",
   "metadata": {
    "execution": {
     "iopub.execute_input": "2023-03-13T20:17:04.752490Z",
     "iopub.status.busy": "2023-03-13T20:17:04.751515Z",
     "iopub.status.idle": "2023-03-13T20:17:04.763541Z",
     "shell.execute_reply": "2023-03-13T20:17:04.762149Z"
    },
    "papermill": {
     "duration": 0.051142,
     "end_time": "2023-03-13T20:17:04.766491",
     "exception": false,
     "start_time": "2023-03-13T20:17:04.715349",
     "status": "completed"
    },
    "tags": []
   },
   "outputs": [
    {
     "data": {
      "text/html": [
       "<div>\n",
       "<style scoped>\n",
       "    .dataframe tbody tr th:only-of-type {\n",
       "        vertical-align: middle;\n",
       "    }\n",
       "\n",
       "    .dataframe tbody tr th {\n",
       "        vertical-align: top;\n",
       "    }\n",
       "\n",
       "    .dataframe thead th {\n",
       "        text-align: right;\n",
       "    }\n",
       "</style>\n",
       "<table border=\"1\" class=\"dataframe\">\n",
       "  <thead>\n",
       "    <tr style=\"text-align: right;\">\n",
       "      <th></th>\n",
       "      <th>anahtar2</th>\n",
       "      <th>df2_col2</th>\n",
       "    </tr>\n",
       "  </thead>\n",
       "  <tbody>\n",
       "    <tr>\n",
       "      <th>index_2</th>\n",
       "      <td>b</td>\n",
       "      <td>2</td>\n",
       "    </tr>\n",
       "    <tr>\n",
       "      <th>index_3</th>\n",
       "      <td>c</td>\n",
       "      <td>3</td>\n",
       "    </tr>\n",
       "    <tr>\n",
       "      <th>index_4</th>\n",
       "      <td>d</td>\n",
       "      <td>4</td>\n",
       "    </tr>\n",
       "  </tbody>\n",
       "</table>\n",
       "</div>"
      ],
      "text/plain": [
       "        anahtar2  df2_col2\n",
       "index_2        b         2\n",
       "index_3        c         3\n",
       "index_4        d         4"
      ]
     },
     "execution_count": 84,
     "metadata": {},
     "output_type": "execute_result"
    }
   ],
   "source": [
    "df2"
   ]
  },
  {
   "cell_type": "code",
   "execution_count": 85,
   "id": "37990211",
   "metadata": {
    "execution": {
     "iopub.execute_input": "2023-03-13T20:17:04.838735Z",
     "iopub.status.busy": "2023-03-13T20:17:04.838241Z",
     "iopub.status.idle": "2023-03-13T20:17:04.849974Z",
     "shell.execute_reply": "2023-03-13T20:17:04.848594Z"
    },
    "papermill": {
     "duration": 0.051901,
     "end_time": "2023-03-13T20:17:04.852847",
     "exception": false,
     "start_time": "2023-03-13T20:17:04.800946",
     "status": "completed"
    },
    "tags": []
   },
   "outputs": [
    {
     "data": {
      "text/html": [
       "<div>\n",
       "<style scoped>\n",
       "    .dataframe tbody tr th:only-of-type {\n",
       "        vertical-align: middle;\n",
       "    }\n",
       "\n",
       "    .dataframe tbody tr th {\n",
       "        vertical-align: top;\n",
       "    }\n",
       "\n",
       "    .dataframe thead th {\n",
       "        text-align: right;\n",
       "    }\n",
       "</style>\n",
       "<table border=\"1\" class=\"dataframe\">\n",
       "  <thead>\n",
       "    <tr style=\"text-align: right;\">\n",
       "      <th></th>\n",
       "      <th>anahtar3</th>\n",
       "      <th>df3_col3</th>\n",
       "    </tr>\n",
       "  </thead>\n",
       "  <tbody>\n",
       "    <tr>\n",
       "      <th>index_3</th>\n",
       "      <td>c</td>\n",
       "      <td>2</td>\n",
       "    </tr>\n",
       "    <tr>\n",
       "      <th>index_4</th>\n",
       "      <td>d</td>\n",
       "      <td>3</td>\n",
       "    </tr>\n",
       "    <tr>\n",
       "      <th>index_5</th>\n",
       "      <td>e</td>\n",
       "      <td>4</td>\n",
       "    </tr>\n",
       "  </tbody>\n",
       "</table>\n",
       "</div>"
      ],
      "text/plain": [
       "        anahtar3  df3_col3\n",
       "index_3        c         2\n",
       "index_4        d         3\n",
       "index_5        e         4"
      ]
     },
     "execution_count": 85,
     "metadata": {},
     "output_type": "execute_result"
    }
   ],
   "source": [
    "df3"
   ]
  },
  {
   "cell_type": "code",
   "execution_count": 86,
   "id": "5ec362e0",
   "metadata": {
    "execution": {
     "iopub.execute_input": "2023-03-13T20:17:04.927417Z",
     "iopub.status.busy": "2023-03-13T20:17:04.926451Z",
     "iopub.status.idle": "2023-03-13T20:17:04.944693Z",
     "shell.execute_reply": "2023-03-13T20:17:04.943207Z"
    },
    "papermill": {
     "duration": 0.058501,
     "end_time": "2023-03-13T20:17:04.947672",
     "exception": false,
     "start_time": "2023-03-13T20:17:04.889171",
     "status": "completed"
    },
    "tags": []
   },
   "outputs": [
    {
     "data": {
      "text/html": [
       "<div>\n",
       "<style scoped>\n",
       "    .dataframe tbody tr th:only-of-type {\n",
       "        vertical-align: middle;\n",
       "    }\n",
       "\n",
       "    .dataframe tbody tr th {\n",
       "        vertical-align: top;\n",
       "    }\n",
       "\n",
       "    .dataframe thead th {\n",
       "        text-align: right;\n",
       "    }\n",
       "</style>\n",
       "<table border=\"1\" class=\"dataframe\">\n",
       "  <thead>\n",
       "    <tr style=\"text-align: right;\">\n",
       "      <th></th>\n",
       "      <th>anahtar2</th>\n",
       "      <th>df2_col2</th>\n",
       "      <th>anahtar1</th>\n",
       "      <th>df1_col1</th>\n",
       "      <th>anahtar3</th>\n",
       "      <th>df3_col3</th>\n",
       "    </tr>\n",
       "  </thead>\n",
       "  <tbody>\n",
       "    <tr>\n",
       "      <th>index_2</th>\n",
       "      <td>b</td>\n",
       "      <td>2.0</td>\n",
       "      <td>b</td>\n",
       "      <td>2.0</td>\n",
       "      <td>NaN</td>\n",
       "      <td>NaN</td>\n",
       "    </tr>\n",
       "    <tr>\n",
       "      <th>index_3</th>\n",
       "      <td>c</td>\n",
       "      <td>3.0</td>\n",
       "      <td>c</td>\n",
       "      <td>3.0</td>\n",
       "      <td>c</td>\n",
       "      <td>2.0</td>\n",
       "    </tr>\n",
       "    <tr>\n",
       "      <th>index_4</th>\n",
       "      <td>d</td>\n",
       "      <td>4.0</td>\n",
       "      <td>NaN</td>\n",
       "      <td>NaN</td>\n",
       "      <td>d</td>\n",
       "      <td>3.0</td>\n",
       "    </tr>\n",
       "  </tbody>\n",
       "</table>\n",
       "</div>"
      ],
      "text/plain": [
       "        anahtar2  df2_col2 anahtar1  df1_col1 anahtar3  df3_col3\n",
       "index_2        b       2.0        b       2.0      NaN       NaN\n",
       "index_3        c       3.0        c       3.0        c       2.0\n",
       "index_4        d       4.0      NaN       NaN        d       3.0"
      ]
     },
     "execution_count": 86,
     "metadata": {},
     "output_type": "execute_result"
    }
   ],
   "source": [
    "df2.join([df1, df3])"
   ]
  }
 ],
 "metadata": {
  "kernelspec": {
   "display_name": "Python 3",
   "language": "python",
   "name": "python3"
  },
  "language_info": {
   "codemirror_mode": {
    "name": "ipython",
    "version": 3
   },
   "file_extension": ".py",
   "mimetype": "text/x-python",
   "name": "python",
   "nbconvert_exporter": "python",
   "pygments_lexer": "ipython3",
   "version": "3.7.12"
  },
  "papermill": {
   "default_parameters": {},
   "duration": 22.277432,
   "end_time": "2023-03-13T20:17:05.807155",
   "environment_variables": {},
   "exception": null,
   "input_path": "__notebook__.ipynb",
   "output_path": "__notebook__.ipynb",
   "parameters": {},
   "start_time": "2023-03-13T20:16:43.529723",
   "version": "2.4.0"
  }
 },
 "nbformat": 4,
 "nbformat_minor": 5
}
