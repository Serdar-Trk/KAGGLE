{
 "cells": [
  {
   "cell_type": "markdown",
   "id": "b98b2ba8",
   "metadata": {
    "papermill": {
     "duration": 0.015341,
     "end_time": "2023-03-08T07:45:12.108931",
     "exception": false,
     "start_time": "2023-03-08T07:45:12.093590",
     "status": "completed"
    },
    "tags": []
   },
   "source": [
    "\n",
    "\n",
    "\n",
    "<p style= \"background-color:#000000;font-family:Georgia;color:#FEFBE9;font-size:300%;text-align:center;border-radius:20px 60px;overflow:hidden;border-style:dotted;border-width:1.8px;border-color:#FEFBE9;\"><b>CRM ANALYTICS</b></p> \n",
    "\n"
   ]
  },
  {
   "cell_type": "markdown",
   "id": "845a652c",
   "metadata": {
    "papermill": {
     "duration": 0.013505,
     "end_time": "2023-03-08T07:45:12.136444",
     "exception": false,
     "start_time": "2023-03-08T07:45:12.122939",
     "status": "completed"
    },
    "tags": []
   },
   "source": [
    "<div style=\"float:center;margin-left:10px;max-width:100%;\">\n",
    "\n",
    "<img src ='https://serving.photos.photobox.com/00882225b4c9849d525427abe2dffb339d20b4972046e0d9836e3fd2b2534e9afbfc39af.jpg'>\n",
    "\n",
    "</div>"
   ]
  },
  {
   "cell_type": "markdown",
   "id": "cfe0184f",
   "metadata": {
    "papermill": {
     "duration": 0.013861,
     "end_time": "2023-03-08T07:45:12.164208",
     "exception": false,
     "start_time": "2023-03-08T07:45:12.150347",
     "status": "completed"
    },
    "tags": []
   },
   "source": [
    "\n",
    "<p style= \"background-color:#000000;font-family:Georgia;color:#FEFBE9;font-size:300%;text-align:center;border-radius:20px 60px;overflow:hidden;border-style:dotted;border-width:1.8px;border-color:#FEFBE9;\"><b>CUSTOMER RELATIONSHIP MANAGEMENT</b></p>"
   ]
  },
  {
   "cell_type": "markdown",
   "id": "736cbd4e",
   "metadata": {
    "papermill": {
     "duration": 0.013528,
     "end_time": "2023-03-08T07:45:12.192898",
     "exception": false,
     "start_time": "2023-03-08T07:45:12.179370",
     "status": "completed"
    },
    "tags": []
   },
   "source": [
    "<p style='font-family:Lucida Console; text-align:left; color: red;font-size:18px'> Attribute Information: </p>\n",
    "\n",
    "* InvoiceNo: Invoice number. Nominal. A 6-digit integral number uniquely assigned to each transaction. If this code starts with the letter 'c', it indicates a cancellation. (Fatura Numarasi)\n",
    "* StockCode: Product (item) code. Nominal. A 5-digit integral number uniquely assigned to each distinct product.\n",
    "* Description: Product (item) name. Nominal.\n",
    "* Quantity: The quantities of each product (item) per transaction. Numeric.\n",
    "* InvoiceDate: Invice date and time. Numeric. The day and time when a transaction was generated.\n",
    "* UnitPrice: Unit price. Numeric. Product price per unit in sterling (Â£).\n",
    "* CustomerID: Customer number. Nominal. A 5-digit integral number uniquely assigned to each customer.\n",
    "* Country: Country name. Nominal. The name of the country where a customer resides."
   ]
  },
  {
   "cell_type": "markdown",
   "id": "cf077e9e",
   "metadata": {
    "papermill": {
     "duration": 0.013666,
     "end_time": "2023-03-08T07:45:12.220825",
     "exception": false,
     "start_time": "2023-03-08T07:45:12.207159",
     "status": "completed"
    },
    "tags": []
   },
   "source": [
    "<p style= \"background-color:#000000;font-family:Georgia;color:#FEFBE9;font-size:300%;text-align:center;border-radius:20px 60px;overflow:hidden;border-style:dotted;border-width:1.8px;border-color:#FEFBE9;\"><b>CUSTOMER RELATIONSHIP MANAGEMENT</b></p>\n",
    "\n",
    "\n",
    "<div class=\"inner_cell\">\n",
    "<div class=\"text_cell_render border-box-sizing rendered_html\">\n",
    "<p></p><div class=\"list-group\" id=\"list-tab\" role=\"tablist\">\n",
    "  <h3 class=\"list-group-item list-group-item-action active\" data-toggle=\"list\" role=\"tab\" aria-controls=\"home\" style = \"background-color:#000000;font-family:Georgia;color:#FEFBE9;font-size:200%;text-align:LEFT;border-radius:20px 40px;overflow:hidden;border-style:dotted;border-width:1.8px;border-color:#FEFBE9;\">Table of Contents</h3>\n",
    "  <a class=\"list-group-item list-group-item-action\" data-toggle=\"list\" href=\"#1\" role=\"tab\" aria-controls=\"home\" target=\"_self\" style = \"color:#000000; font-family:Charter;font-size:120%;\">Data Understanding(Veriyden Anlam Çıkarma)<span class=\"badge badge-primary badge-pill\">1</span></a>\n",
    "  <a class=\"list-group-item list-group-item-action\" data-toggle=\"list\" href=\"#2\" role=\"tab\" aria-controls=\"messages\" target=\"_self\" style = \"color:#000000; font-family:Charter;font-size:120%;\">Data Preparation(Veri Hazırlama)<span class=\"badge badge-primary badge-pill\">2</span></a>\n",
    "  <a class=\"list-group-item list-group-item-action\" data-toggle=\"list\" href=\"#3\" role=\"tab\" aria-controls=\"settings\" target=\"_self\" style = \"color:#000000; font-family:Charter;font-size:120%;\">RFM Metrics(RFM Metriklerinin Hesaplanması)<span class=\"badge badge-primary badge-pill\">3</span></a>\n",
    "  <a class=\"list-group-item list-group-item-action\" data-toggle=\"list\" href=\"#4\" role=\"tab\" aria-controls=\"settings\" target=\"_self\" style = \"color:#000000; font-family:Charter;font-size:120%;\">RFM Scores & Segments (RFM Skorlarının & Segmentlerinin Hesaplanması)<span class=\"badge badge-primary badge-pill\">4</span></a> \n",
    "  <a class=\"list-group-item list-group-item-action\" data-toggle=\"list\" href=\"#5\" role=\"tab\" aria-controls=\"settings\" target=\"_self\" style = \"color:#000000; font-family:Charter;font-size:120%;\">RFM Model Evaluation & Cohort Analysis(Analiz ve Değerlendirme)<span class=\"badge badge-primary badge-pill\">5</span></a>\n",
    "  <a class=\"list-group-item list-group-item-action\" data-toggle=\"list\" href=\"#6\" role=\"tab\" aria-controls=\"settings\" target=\"_self\" style = \"color:#000000; font-family:Charter;font-size:120%;\">Customer Lifetime Value(CLV)(Müşteri Yaşam Boyu Değeri)<span class=\"badge badge-primary badge-pill\">6</span></a>\n",
    "  <a class=\"list-group-item list-group-item-action\" data-toggle=\"list\" href=\"#7\" role=\"tab\" aria-controls=\"settings\" target=\"_self\" style = \"color:#000000; font-family:Charter;font-size:120%;\">BG-NBD & Gamma-Gamma (Beklenen işlem sayısı & Beklenen ortalama kar)<span class=\"badge badge-primary badge-pill\">7</span></a>\n",
    "    <a class=\"list-group-item list-group-item-action\" data-toggle=\"list\" href=\"#8\" role=\"tab\" aria-controls=\"settings\" target=\"_self\" style = \"color:#000000; font-family:Charter;font-size:120%;\">Calculation of CLTV(CLTV'nin hesaplanması)<span class=\"badge badge-primary badge-pill\">8</span></a>\n",
    "     <a class=\"list-group-item list-group-item-action\" data-toggle=\"list\" href=\"#9\" role=\"tab\" aria-controls=\"settings\" target=\"_self\" style = \"color:#000000; font-family:Charter;font-size:120%;\">Segmentation with CLTV(CLTV'ye Göre Segmentlerin Oluşturulması)<span class=\"badge badge-primary badge-pill\">9</span></a>\n",
    "\n",
    "</div>\n",
    "</div>\n",
    "</div>"
   ]
  },
  {
   "cell_type": "code",
   "execution_count": 1,
   "id": "58decb96",
   "metadata": {
    "_kg_hide-input": true,
    "_kg_hide-output": true,
    "execution": {
     "iopub.execute_input": "2023-03-08T07:45:12.251728Z",
     "iopub.status.busy": "2023-03-08T07:45:12.250720Z",
     "iopub.status.idle": "2023-03-08T07:45:48.043968Z",
     "shell.execute_reply": "2023-03-08T07:45:48.042668Z"
    },
    "papermill": {
     "duration": 35.812438,
     "end_time": "2023-03-08T07:45:48.047141",
     "exception": false,
     "start_time": "2023-03-08T07:45:12.234703",
     "status": "completed"
    },
    "tags": []
   },
   "outputs": [
    {
     "name": "stdout",
     "output_type": "stream",
     "text": [
      "Requirement already satisfied: openpyxl in /opt/conda/lib/python3.7/site-packages (3.1.1)\r\n",
      "Requirement already satisfied: et-xmlfile in /opt/conda/lib/python3.7/site-packages (from openpyxl) (1.1.0)\r\n",
      "\u001b[33mWARNING: Running pip as the 'root' user can result in broken permissions and conflicting behaviour with the system package manager. It is recommended to use a virtual environment instead: https://pip.pypa.io/warnings/venv\u001b[0m\u001b[33m\r\n",
      "\u001b[0mCollecting xlrd\r\n",
      "  Downloading xlrd-2.0.1-py2.py3-none-any.whl (96 kB)\r\n",
      "\u001b[2K     \u001b[90m━━━━━━━━━━━━━━━━━━━━━━━━━━━━━━━━━━━━━━━━\u001b[0m \u001b[32m96.5/96.5 kB\u001b[0m \u001b[31m4.7 MB/s\u001b[0m eta \u001b[36m0:00:00\u001b[0m\r\n",
      "\u001b[?25hInstalling collected packages: xlrd\r\n",
      "Successfully installed xlrd-2.0.1\r\n",
      "\u001b[33mWARNING: Running pip as the 'root' user can result in broken permissions and conflicting behaviour with the system package manager. It is recommended to use a virtual environment instead: https://pip.pypa.io/warnings/venv\u001b[0m\u001b[33m\r\n",
      "\u001b[0mCollecting lifetimes\r\n",
      "  Downloading Lifetimes-0.11.3-py3-none-any.whl (584 kB)\r\n",
      "\u001b[2K     \u001b[90m━━━━━━━━━━━━━━━━━━━━━━━━━━━━━━━━━━━━━━\u001b[0m \u001b[32m584.2/584.2 kB\u001b[0m \u001b[31m15.1 MB/s\u001b[0m eta \u001b[36m0:00:00\u001b[0m\r\n",
      "\u001b[?25hRequirement already satisfied: scipy>=1.0.0 in /opt/conda/lib/python3.7/site-packages (from lifetimes) (1.7.3)\r\n",
      "Collecting autograd>=1.2.0\r\n",
      "  Downloading autograd-1.5-py3-none-any.whl (48 kB)\r\n",
      "\u001b[2K     \u001b[90m━━━━━━━━━━━━━━━━━━━━━━━━━━━━━━━━━━━━━━━━\u001b[0m \u001b[32m48.9/48.9 kB\u001b[0m \u001b[31m3.4 MB/s\u001b[0m eta \u001b[36m0:00:00\u001b[0m\r\n",
      "\u001b[?25hRequirement already satisfied: pandas>=0.24.0 in /opt/conda/lib/python3.7/site-packages (from lifetimes) (1.3.5)\r\n",
      "Requirement already satisfied: numpy>=1.10.0 in /opt/conda/lib/python3.7/site-packages (from lifetimes) (1.21.6)\r\n",
      "Requirement already satisfied: dill>=0.2.6 in /opt/conda/lib/python3.7/site-packages (from lifetimes) (0.3.6)\r\n",
      "Requirement already satisfied: future>=0.15.2 in /opt/conda/lib/python3.7/site-packages (from autograd>=1.2.0->lifetimes) (0.18.3)\r\n",
      "Requirement already satisfied: python-dateutil>=2.7.3 in /opt/conda/lib/python3.7/site-packages (from pandas>=0.24.0->lifetimes) (2.8.2)\r\n",
      "Requirement already satisfied: pytz>=2017.3 in /opt/conda/lib/python3.7/site-packages (from pandas>=0.24.0->lifetimes) (2022.7.1)\r\n",
      "Requirement already satisfied: six>=1.5 in /opt/conda/lib/python3.7/site-packages (from python-dateutil>=2.7.3->pandas>=0.24.0->lifetimes) (1.16.0)\r\n",
      "Installing collected packages: autograd, lifetimes\r\n",
      "Successfully installed autograd-1.5 lifetimes-0.11.3\r\n",
      "\u001b[33mWARNING: Running pip as the 'root' user can result in broken permissions and conflicting behaviour with the system package manager. It is recommended to use a virtual environment instead: https://pip.pypa.io/warnings/venv\u001b[0m\u001b[33m\r\n",
      "\u001b[0m"
     ]
    }
   ],
   "source": [
    "!pip install openpyxl\n",
    "!pip install xlrd\n",
    "!pip install lifetimes"
   ]
  },
  {
   "cell_type": "code",
   "execution_count": 2,
   "id": "8dfdb8bd",
   "metadata": {
    "execution": {
     "iopub.execute_input": "2023-03-08T07:45:48.079847Z",
     "iopub.status.busy": "2023-03-08T07:45:48.079419Z",
     "iopub.status.idle": "2023-03-08T07:45:49.587845Z",
     "shell.execute_reply": "2023-03-08T07:45:49.586190Z"
    },
    "papermill": {
     "duration": 1.528611,
     "end_time": "2023-03-08T07:45:49.590834",
     "exception": false,
     "start_time": "2023-03-08T07:45:48.062223",
     "status": "completed"
    },
    "tags": []
   },
   "outputs": [],
   "source": [
    "# Temel kütüphanelerimiz.\n",
    "import pandas as pd\n",
    "import numpy as np\n",
    "import warnings\n",
    "from datetime import datetime\n",
    "\n",
    "# Beklenti hesaplamak için kullanacağımız kütüphaneler.\n",
    "from lifetimes import BetaGeoFitter\n",
    "from lifetimes import GammaGammaFitter\n",
    "from sklearn.preprocessing import MinMaxScaler\n",
    "from sklearn.metrics import (silhouette_score,\n",
    "                             calinski_harabasz_score,\n",
    "                             davies_bouldin_score)\n",
    "# Görselleştirme için kullandığımız kütüphaneler.\n",
    "from lifetimes.plotting import plot_period_transactions\n",
    "import seaborn as sns\n",
    "import matplotlib.pyplot as plt\n",
    "import matplotlib.colors as mcolors\n",
    "import plotly.graph_objs as go\n",
    "from plotly.offline import iplot\n",
    "from operator import attrgetter\n",
    "import squarify\n",
    "sns.set_style('whitegrid')\n",
    "palette = 'Set2'\n",
    "\n",
    "# Birtakım ayarlar.\n",
    "warnings.filterwarnings('ignore')\n",
    "pd.set_option('display.max_columns', None)\n",
    "pd.set_option('display.max_rows', None)\n",
    "pd.set_option('display.width', 500)\n",
    "pd.set_option('display.float_format', lambda x: '%.3f' % x)"
   ]
  },
  {
   "cell_type": "code",
   "execution_count": 3,
   "id": "b4733808",
   "metadata": {
    "execution": {
     "iopub.execute_input": "2023-03-08T07:45:49.625153Z",
     "iopub.status.busy": "2023-03-08T07:45:49.623669Z",
     "iopub.status.idle": "2023-03-08T07:47:02.561909Z",
     "shell.execute_reply": "2023-03-08T07:47:02.560533Z"
    },
    "papermill": {
     "duration": 72.973249,
     "end_time": "2023-03-08T07:47:02.580096",
     "exception": false,
     "start_time": "2023-03-08T07:45:49.606847",
     "status": "completed"
    },
    "tags": []
   },
   "outputs": [
    {
     "data": {
      "text/html": [
       "<style type=\"text/css\">\n",
       "#T_689bd_row0_col0, #T_689bd_row0_col1, #T_689bd_row0_col2, #T_689bd_row0_col3, #T_689bd_row0_col4, #T_689bd_row0_col5, #T_689bd_row0_col6, #T_689bd_row0_col7, #T_689bd_row1_col0, #T_689bd_row1_col1, #T_689bd_row1_col2, #T_689bd_row1_col3, #T_689bd_row1_col4, #T_689bd_row1_col5, #T_689bd_row1_col6, #T_689bd_row1_col7, #T_689bd_row2_col0, #T_689bd_row2_col1, #T_689bd_row2_col2, #T_689bd_row2_col3, #T_689bd_row2_col4, #T_689bd_row2_col5, #T_689bd_row2_col6, #T_689bd_row2_col7, #T_689bd_row3_col0, #T_689bd_row3_col1, #T_689bd_row3_col2, #T_689bd_row3_col3, #T_689bd_row3_col4, #T_689bd_row3_col5, #T_689bd_row3_col6, #T_689bd_row3_col7, #T_689bd_row4_col0, #T_689bd_row4_col1, #T_689bd_row4_col2, #T_689bd_row4_col3, #T_689bd_row4_col4, #T_689bd_row4_col5, #T_689bd_row4_col6, #T_689bd_row4_col7 {\n",
       "  background-color: #000000;\n",
       "  color: #FFEA20;\n",
       "  border: 0.2px solid white;\n",
       "}\n",
       "</style>\n",
       "<table id=\"T_689bd_\">\n",
       "  <thead>\n",
       "    <tr>\n",
       "      <th class=\"blank level0\" >&nbsp;</th>\n",
       "      <th class=\"col_heading level0 col0\" >Invoice</th>\n",
       "      <th class=\"col_heading level0 col1\" >StockCode</th>\n",
       "      <th class=\"col_heading level0 col2\" >Description</th>\n",
       "      <th class=\"col_heading level0 col3\" >Quantity</th>\n",
       "      <th class=\"col_heading level0 col4\" >InvoiceDate</th>\n",
       "      <th class=\"col_heading level0 col5\" >Price</th>\n",
       "      <th class=\"col_heading level0 col6\" >Customer ID</th>\n",
       "      <th class=\"col_heading level0 col7\" >Country</th>\n",
       "    </tr>\n",
       "  </thead>\n",
       "  <tbody>\n",
       "    <tr>\n",
       "      <th id=\"T_689bd_level0_row0\" class=\"row_heading level0 row0\" >0</th>\n",
       "      <td id=\"T_689bd_row0_col0\" class=\"data row0 col0\" >536365</td>\n",
       "      <td id=\"T_689bd_row0_col1\" class=\"data row0 col1\" >85123A</td>\n",
       "      <td id=\"T_689bd_row0_col2\" class=\"data row0 col2\" >WHITE HANGING HEART T-LIGHT HOLDER</td>\n",
       "      <td id=\"T_689bd_row0_col3\" class=\"data row0 col3\" >6</td>\n",
       "      <td id=\"T_689bd_row0_col4\" class=\"data row0 col4\" >2010-12-01 08:26:00</td>\n",
       "      <td id=\"T_689bd_row0_col5\" class=\"data row0 col5\" >2.550000</td>\n",
       "      <td id=\"T_689bd_row0_col6\" class=\"data row0 col6\" >17850.000000</td>\n",
       "      <td id=\"T_689bd_row0_col7\" class=\"data row0 col7\" >United Kingdom</td>\n",
       "    </tr>\n",
       "    <tr>\n",
       "      <th id=\"T_689bd_level0_row1\" class=\"row_heading level0 row1\" >1</th>\n",
       "      <td id=\"T_689bd_row1_col0\" class=\"data row1 col0\" >536365</td>\n",
       "      <td id=\"T_689bd_row1_col1\" class=\"data row1 col1\" >71053</td>\n",
       "      <td id=\"T_689bd_row1_col2\" class=\"data row1 col2\" >WHITE METAL LANTERN</td>\n",
       "      <td id=\"T_689bd_row1_col3\" class=\"data row1 col3\" >6</td>\n",
       "      <td id=\"T_689bd_row1_col4\" class=\"data row1 col4\" >2010-12-01 08:26:00</td>\n",
       "      <td id=\"T_689bd_row1_col5\" class=\"data row1 col5\" >3.390000</td>\n",
       "      <td id=\"T_689bd_row1_col6\" class=\"data row1 col6\" >17850.000000</td>\n",
       "      <td id=\"T_689bd_row1_col7\" class=\"data row1 col7\" >United Kingdom</td>\n",
       "    </tr>\n",
       "    <tr>\n",
       "      <th id=\"T_689bd_level0_row2\" class=\"row_heading level0 row2\" >2</th>\n",
       "      <td id=\"T_689bd_row2_col0\" class=\"data row2 col0\" >536365</td>\n",
       "      <td id=\"T_689bd_row2_col1\" class=\"data row2 col1\" >84406B</td>\n",
       "      <td id=\"T_689bd_row2_col2\" class=\"data row2 col2\" >CREAM CUPID HEARTS COAT HANGER</td>\n",
       "      <td id=\"T_689bd_row2_col3\" class=\"data row2 col3\" >8</td>\n",
       "      <td id=\"T_689bd_row2_col4\" class=\"data row2 col4\" >2010-12-01 08:26:00</td>\n",
       "      <td id=\"T_689bd_row2_col5\" class=\"data row2 col5\" >2.750000</td>\n",
       "      <td id=\"T_689bd_row2_col6\" class=\"data row2 col6\" >17850.000000</td>\n",
       "      <td id=\"T_689bd_row2_col7\" class=\"data row2 col7\" >United Kingdom</td>\n",
       "    </tr>\n",
       "    <tr>\n",
       "      <th id=\"T_689bd_level0_row3\" class=\"row_heading level0 row3\" >3</th>\n",
       "      <td id=\"T_689bd_row3_col0\" class=\"data row3 col0\" >536365</td>\n",
       "      <td id=\"T_689bd_row3_col1\" class=\"data row3 col1\" >84029G</td>\n",
       "      <td id=\"T_689bd_row3_col2\" class=\"data row3 col2\" >KNITTED UNION FLAG HOT WATER BOTTLE</td>\n",
       "      <td id=\"T_689bd_row3_col3\" class=\"data row3 col3\" >6</td>\n",
       "      <td id=\"T_689bd_row3_col4\" class=\"data row3 col4\" >2010-12-01 08:26:00</td>\n",
       "      <td id=\"T_689bd_row3_col5\" class=\"data row3 col5\" >3.390000</td>\n",
       "      <td id=\"T_689bd_row3_col6\" class=\"data row3 col6\" >17850.000000</td>\n",
       "      <td id=\"T_689bd_row3_col7\" class=\"data row3 col7\" >United Kingdom</td>\n",
       "    </tr>\n",
       "    <tr>\n",
       "      <th id=\"T_689bd_level0_row4\" class=\"row_heading level0 row4\" >4</th>\n",
       "      <td id=\"T_689bd_row4_col0\" class=\"data row4 col0\" >536365</td>\n",
       "      <td id=\"T_689bd_row4_col1\" class=\"data row4 col1\" >84029E</td>\n",
       "      <td id=\"T_689bd_row4_col2\" class=\"data row4 col2\" >RED WOOLLY HOTTIE WHITE HEART.</td>\n",
       "      <td id=\"T_689bd_row4_col3\" class=\"data row4 col3\" >6</td>\n",
       "      <td id=\"T_689bd_row4_col4\" class=\"data row4 col4\" >2010-12-01 08:26:00</td>\n",
       "      <td id=\"T_689bd_row4_col5\" class=\"data row4 col5\" >3.390000</td>\n",
       "      <td id=\"T_689bd_row4_col6\" class=\"data row4 col6\" >17850.000000</td>\n",
       "      <td id=\"T_689bd_row4_col7\" class=\"data row4 col7\" >United Kingdom</td>\n",
       "    </tr>\n",
       "  </tbody>\n",
       "</table>\n"
      ],
      "text/plain": [
       "<pandas.io.formats.style.Styler at 0x7f823d3ffa50>"
      ]
     },
     "execution_count": 3,
     "metadata": {},
     "output_type": "execute_result"
    }
   ],
   "source": [
    "df = pd.read_excel('/kaggle/input/online-retail-ii-data-set/online_retail_II.xlsx', sheet_name='Year 2010-2011')\n",
    "df_ = df.copy()\n",
    "df.head().style.set_properties(**{\"background-color\": \"#000000\",\"color\":\"#FFEA20\",\"border\": \"0.2px solid white\"})"
   ]
  },
  {
   "cell_type": "markdown",
   "id": "3331d0c7",
   "metadata": {
    "papermill": {
     "duration": 0.014825,
     "end_time": "2023-03-08T07:47:02.609975",
     "exception": false,
     "start_time": "2023-03-08T07:47:02.595150",
     "status": "completed"
    },
    "tags": []
   },
   "source": [
    "<p style= \"background-color:#000000;font-family:Georgia;color:#FEFBE9;font-size:300%;text-align:center;border-radius:20px 60px;overflow:hidden;border-style:dotted;border-width:1.8px;border-color:#FEFBE9;\"><b>DATA UNDERSTANDING</b></p>"
   ]
  },
  {
   "cell_type": "code",
   "execution_count": 4,
   "id": "9d09bce7",
   "metadata": {
    "execution": {
     "iopub.execute_input": "2023-03-08T07:47:02.642948Z",
     "iopub.status.busy": "2023-03-08T07:47:02.641965Z",
     "iopub.status.idle": "2023-03-08T07:47:03.180055Z",
     "shell.execute_reply": "2023-03-08T07:47:03.178746Z"
    },
    "papermill": {
     "duration": 0.557812,
     "end_time": "2023-03-08T07:47:03.182982",
     "exception": false,
     "start_time": "2023-03-08T07:47:02.625170",
     "status": "completed"
    },
    "tags": []
   },
   "outputs": [
    {
     "name": "stdout",
     "output_type": "stream",
     "text": [
      "------------------------------- SHAPE --------------------------------\n",
      "Rows: 541910\n",
      "Columns: 8\n",
      "------------------------------- TYPES --------------------------------\n",
      "Invoice                object\n",
      "StockCode              object\n",
      "Description            object\n",
      "Quantity                int64\n",
      "InvoiceDate    datetime64[ns]\n",
      "Price                 float64\n",
      "Customer ID           float64\n",
      "Country                object\n",
      "dtype: object\n",
      "-------------------------------- HEAD --------------------------------\n",
      "  Invoice StockCode                          Description  Quantity         InvoiceDate  Price  Customer ID         Country\n",
      "0  536365    85123A   WHITE HANGING HEART T-LIGHT HOLDER         6 2010-12-01 08:26:00  2.550    17850.000  United Kingdom\n",
      "1  536365     71053                  WHITE METAL LANTERN         6 2010-12-01 08:26:00  3.390    17850.000  United Kingdom\n",
      "2  536365    84406B       CREAM CUPID HEARTS COAT HANGER         8 2010-12-01 08:26:00  2.750    17850.000  United Kingdom\n",
      "3  536365    84029G  KNITTED UNION FLAG HOT WATER BOTTLE         6 2010-12-01 08:26:00  3.390    17850.000  United Kingdom\n",
      "4  536365    84029E       RED WOOLLY HOTTIE WHITE HEART.         6 2010-12-01 08:26:00  3.390    17850.000  United Kingdom\n",
      "-------------------------------- TAIL --------------------------------\n",
      "       Invoice StockCode                      Description  Quantity         InvoiceDate  Price  Customer ID Country\n",
      "541905  581587     22899     CHILDREN'S APRON DOLLY GIRL          6 2011-12-09 12:50:00  2.100    12680.000  France\n",
      "541906  581587     23254    CHILDRENS CUTLERY DOLLY GIRL          4 2011-12-09 12:50:00  4.150    12680.000  France\n",
      "541907  581587     23255  CHILDRENS CUTLERY CIRCUS PARADE         4 2011-12-09 12:50:00  4.150    12680.000  France\n",
      "541908  581587     22138    BAKING SET 9 PIECE RETROSPOT          3 2011-12-09 12:50:00  4.950    12680.000  France\n",
      "541909  581587      POST                          POSTAGE         1 2011-12-09 12:50:00 18.000    12680.000  France\n",
      "--------------------------- MISSING VALUES ---------------------------\n",
      "Invoice             0\n",
      "StockCode           0\n",
      "Description      1454\n",
      "Quantity            0\n",
      "InvoiceDate         0\n",
      "Price               0\n",
      "Customer ID    135080\n",
      "Country             0\n",
      "dtype: int64\n",
      "------------------------- DUPLICATED VALUES --------------------------\n",
      "5268\n",
      "------------------------------ DESCRIBE ------------------------------\n",
      "                 count      mean      std        min         0%       10%       20%       30%       40%       50%       60%       70%       80%       90%      100%       max\n",
      "Quantity    541910.000     9.552  218.081 -80995.000 -80995.000     1.000     1.000     2.000     2.000     3.000     5.000     8.000    12.000    24.000 80995.000 80995.000\n",
      "Price       541910.000     4.611   96.760 -11062.060 -11062.060     0.630     0.850     1.250     1.650     2.080     2.550     3.750     4.950     7.950 38970.000 38970.000\n",
      "Customer ID 406830.000 15287.684 1713.603  12346.000  12346.000 12876.000 13536.000 14159.000 14659.000 15152.000 15805.000 16493.000 17095.000 17719.000 18287.000 18287.000\n"
     ]
    }
   ],
   "source": [
    "  \n",
    "def check_df(dataframe, head=5):\n",
    "    print(\" SHAPE \".center(70,'-'))\n",
    "    print('Rows: {}'.format(dataframe.shape[0]))\n",
    "    print('Columns: {}'.format(dataframe.shape[1]))\n",
    "    print(\" TYPES \".center(70,'-'))\n",
    "    print(dataframe.dtypes)\n",
    "    print(\" HEAD \".center(70,'-'))\n",
    "    print(dataframe.head(head))\n",
    "    print(\" TAIL \".center(70,'-'))\n",
    "    print(dataframe.tail(head))\n",
    "    print(\" MISSING VALUES \".center(70,'-'))\n",
    "    print(dataframe.isnull().sum())\n",
    "    print(\" DUPLICATED VALUES \".center(70,'-'))\n",
    "    print(dataframe.duplicated().sum())\n",
    "    print(\" DESCRIBE \".center(70,'-'))\n",
    "    print(dataframe.describe([0, 0.10, 0.20, 0.30, 0.40, 0.50, 0.60, 0.70, 0.80, 0.90, 1]).T)\n",
    "    \n",
    "check_df(df)"
   ]
  },
  {
   "cell_type": "code",
   "execution_count": 5,
   "id": "fa528bc0",
   "metadata": {
    "execution": {
     "iopub.execute_input": "2023-03-08T07:47:03.216261Z",
     "iopub.status.busy": "2023-03-08T07:47:03.215848Z",
     "iopub.status.idle": "2023-03-08T07:47:03.250837Z",
     "shell.execute_reply": "2023-03-08T07:47:03.249618Z"
    },
    "papermill": {
     "duration": 0.054661,
     "end_time": "2023-03-08T07:47:03.253382",
     "exception": false,
     "start_time": "2023-03-08T07:47:03.198721",
     "status": "completed"
    },
    "tags": []
   },
   "outputs": [
    {
     "data": {
      "text/plain": [
       "4223"
      ]
     },
     "execution_count": 5,
     "metadata": {},
     "output_type": "execute_result"
    }
   ],
   "source": [
    "# Eşsiz ürün sayımızı görmek için:\n",
    "df[\"Description\"].nunique()"
   ]
  },
  {
   "cell_type": "code",
   "execution_count": 6,
   "id": "4de706ec",
   "metadata": {
    "execution": {
     "iopub.execute_input": "2023-03-08T07:47:03.286293Z",
     "iopub.status.busy": "2023-03-08T07:47:03.285894Z",
     "iopub.status.idle": "2023-03-08T07:47:03.320820Z",
     "shell.execute_reply": "2023-03-08T07:47:03.319623Z"
    },
    "papermill": {
     "duration": 0.054563,
     "end_time": "2023-03-08T07:47:03.323506",
     "exception": false,
     "start_time": "2023-03-08T07:47:03.268943",
     "status": "completed"
    },
    "tags": []
   },
   "outputs": [
    {
     "data": {
      "text/plain": [
       "WHITE HANGING HEART T-LIGHT HOLDER    2369\n",
       "REGENCY CAKESTAND 3 TIER              2200\n",
       "JUMBO BAG RED RETROSPOT               2159\n",
       "PARTY BUNTING                         1727\n",
       "LUNCH BAG RED RETROSPOT               1638\n",
       "ASSORTED COLOUR BIRD ORNAMENT         1501\n",
       "SET OF 3 CAKE TINS PANTRY DESIGN      1473\n",
       "PACK OF 72 RETROSPOT CAKE CASES       1385\n",
       "LUNCH BAG  BLACK SKULL.               1350\n",
       "NATURAL SLATE HEART CHALKBOARD        1280\n",
       "Name: Description, dtype: int64"
      ]
     },
     "execution_count": 6,
     "metadata": {},
     "output_type": "execute_result"
    }
   ],
   "source": [
    "# Sütundaki NaN olmayan her bir unique değerin kaç kez kullanıldığını görmek istersek:\n",
    "df[\"Description\"].value_counts().head(10)"
   ]
  },
  {
   "cell_type": "code",
   "execution_count": 7,
   "id": "ab419071",
   "metadata": {
    "execution": {
     "iopub.execute_input": "2023-03-08T07:47:03.357688Z",
     "iopub.status.busy": "2023-03-08T07:47:03.356569Z",
     "iopub.status.idle": "2023-03-08T07:47:03.428499Z",
     "shell.execute_reply": "2023-03-08T07:47:03.427223Z"
    },
    "papermill": {
     "duration": 0.091481,
     "end_time": "2023-03-08T07:47:03.430974",
     "exception": false,
     "start_time": "2023-03-08T07:47:03.339493",
     "status": "completed"
    },
    "tags": []
   },
   "outputs": [
    {
     "data": {
      "text/html": [
       "<style type=\"text/css\">\n",
       "#T_62966_row0_col0, #T_62966_row1_col0, #T_62966_row2_col0, #T_62966_row3_col0, #T_62966_row4_col0 {\n",
       "  background-color: #000000;\n",
       "  color: #FFEA20;\n",
       "  border: 0.2px solid white;\n",
       "}\n",
       "</style>\n",
       "<table id=\"T_62966_\">\n",
       "  <thead>\n",
       "    <tr>\n",
       "      <th class=\"blank level0\" >&nbsp;</th>\n",
       "      <th class=\"col_heading level0 col0\" >Quantity</th>\n",
       "    </tr>\n",
       "    <tr>\n",
       "      <th class=\"index_name level0\" >Description</th>\n",
       "      <th class=\"blank col0\" >&nbsp;</th>\n",
       "    </tr>\n",
       "  </thead>\n",
       "  <tbody>\n",
       "    <tr>\n",
       "      <th id=\"T_62966_level0_row0\" class=\"row_heading level0 row0\" >WORLD WAR 2 GLIDERS ASSTD DESIGNS</th>\n",
       "      <td id=\"T_62966_row0_col0\" class=\"data row0 col0\" >53847</td>\n",
       "    </tr>\n",
       "    <tr>\n",
       "      <th id=\"T_62966_level0_row1\" class=\"row_heading level0 row1\" >JUMBO BAG RED RETROSPOT</th>\n",
       "      <td id=\"T_62966_row1_col0\" class=\"data row1 col0\" >47363</td>\n",
       "    </tr>\n",
       "    <tr>\n",
       "      <th id=\"T_62966_level0_row2\" class=\"row_heading level0 row2\" >ASSORTED COLOUR BIRD ORNAMENT</th>\n",
       "      <td id=\"T_62966_row2_col0\" class=\"data row2 col0\" >36381</td>\n",
       "    </tr>\n",
       "    <tr>\n",
       "      <th id=\"T_62966_level0_row3\" class=\"row_heading level0 row3\" >POPCORN HOLDER</th>\n",
       "      <td id=\"T_62966_row3_col0\" class=\"data row3 col0\" >36334</td>\n",
       "    </tr>\n",
       "    <tr>\n",
       "      <th id=\"T_62966_level0_row4\" class=\"row_heading level0 row4\" >PACK OF 72 RETROSPOT CAKE CASES</th>\n",
       "      <td id=\"T_62966_row4_col0\" class=\"data row4 col0\" >36039</td>\n",
       "    </tr>\n",
       "  </tbody>\n",
       "</table>\n"
      ],
      "text/plain": [
       "<pandas.io.formats.style.Styler at 0x7f823c20af50>"
      ]
     },
     "execution_count": 7,
     "metadata": {},
     "output_type": "execute_result"
    }
   ],
   "source": [
    "# Herbir ürünümüzün toplam kaç işleme konu olduğunu görelim.\n",
    "df.groupby(\"Description\").agg({\"Quantity\": \"sum\"}).sort_values(\"Quantity\", ascending=False).head().style.set_properties(**{\"background-color\": \"#000000\",\"color\":\"#FFEA20\",\"border\": \"0.2px solid white\"})"
   ]
  },
  {
   "cell_type": "code",
   "execution_count": 8,
   "id": "24b19401",
   "metadata": {
    "execution": {
     "iopub.execute_input": "2023-03-08T07:47:03.465086Z",
     "iopub.status.busy": "2023-03-08T07:47:03.464432Z",
     "iopub.status.idle": "2023-03-08T07:47:03.476806Z",
     "shell.execute_reply": "2023-03-08T07:47:03.475516Z"
    },
    "papermill": {
     "duration": 0.032381,
     "end_time": "2023-03-08T07:47:03.479313",
     "exception": false,
     "start_time": "2023-03-08T07:47:03.446932",
     "status": "completed"
    },
    "tags": []
   },
   "outputs": [
    {
     "data": {
      "text/plain": [
       "0   15.300\n",
       "1   20.340\n",
       "2   22.000\n",
       "3   20.340\n",
       "4   20.340\n",
       "Name: TotalPrice, dtype: float64"
      ]
     },
     "execution_count": 8,
     "metadata": {},
     "output_type": "execute_result"
    }
   ],
   "source": [
    "# Herbir ürünün sterlin cinsinden fiyat bilgisini(Price) ile sipariş sayısı(Quanyity) bilgisini çarparak toplam tutar bilgisine ulaşalım.\n",
    "# Bir üründen birden çok alınabilir.Firmamız perakende çalışıyor)\n",
    "df[\"TotalPrice\"] = df[\"Quantity\"] * df[\"Price\"]\n",
    "df[\"TotalPrice\"].head()"
   ]
  },
  {
   "cell_type": "code",
   "execution_count": 9,
   "id": "771ed6ce",
   "metadata": {
    "execution": {
     "iopub.execute_input": "2023-03-08T07:47:03.514161Z",
     "iopub.status.busy": "2023-03-08T07:47:03.513429Z",
     "iopub.status.idle": "2023-03-08T07:47:03.603060Z",
     "shell.execute_reply": "2023-03-08T07:47:03.602100Z"
    },
    "papermill": {
     "duration": 0.110223,
     "end_time": "2023-03-08T07:47:03.605699",
     "exception": false,
     "start_time": "2023-03-08T07:47:03.495476",
     "status": "completed"
    },
    "tags": []
   },
   "outputs": [
    {
     "data": {
      "text/html": [
       "<style type=\"text/css\">\n",
       "#T_cf295_row0_col0, #T_cf295_row1_col0, #T_cf295_row2_col0, #T_cf295_row3_col0, #T_cf295_row4_col0, #T_cf295_row5_col0, #T_cf295_row6_col0, #T_cf295_row7_col0 {\n",
       "  background-color: #000000;\n",
       "  color: #FFEA20;\n",
       "  border: 0.2px solid white;\n",
       "}\n",
       "</style>\n",
       "<table id=\"T_cf295_\">\n",
       "  <thead>\n",
       "    <tr>\n",
       "      <th class=\"blank level0\" >&nbsp;</th>\n",
       "      <th class=\"col_heading level0 col0\" >TotalPrice</th>\n",
       "    </tr>\n",
       "    <tr>\n",
       "      <th class=\"index_name level0\" >Invoice</th>\n",
       "      <th class=\"blank col0\" >&nbsp;</th>\n",
       "    </tr>\n",
       "  </thead>\n",
       "  <tbody>\n",
       "    <tr>\n",
       "      <th id=\"T_cf295_level0_row0\" class=\"row_heading level0 row0\" >581483</th>\n",
       "      <td id=\"T_cf295_row0_col0\" class=\"data row0 col0\" >168469.600000</td>\n",
       "    </tr>\n",
       "    <tr>\n",
       "      <th id=\"T_cf295_level0_row1\" class=\"row_heading level0 row1\" >541431</th>\n",
       "      <td id=\"T_cf295_row1_col0\" class=\"data row1 col0\" >77183.600000</td>\n",
       "    </tr>\n",
       "    <tr>\n",
       "      <th id=\"T_cf295_level0_row2\" class=\"row_heading level0 row2\" >574941</th>\n",
       "      <td id=\"T_cf295_row2_col0\" class=\"data row2 col0\" >52940.940000</td>\n",
       "    </tr>\n",
       "    <tr>\n",
       "      <th id=\"T_cf295_level0_row3\" class=\"row_heading level0 row3\" >576365</th>\n",
       "      <td id=\"T_cf295_row3_col0\" class=\"data row3 col0\" >50653.910000</td>\n",
       "    </tr>\n",
       "    <tr>\n",
       "      <th id=\"T_cf295_level0_row4\" class=\"row_heading level0 row4\" >556444</th>\n",
       "      <td id=\"T_cf295_row4_col0\" class=\"data row4 col0\" >38970.000000</td>\n",
       "    </tr>\n",
       "    <tr>\n",
       "      <th id=\"T_cf295_level0_row5\" class=\"row_heading level0 row5\" >567423</th>\n",
       "      <td id=\"T_cf295_row5_col0\" class=\"data row5 col0\" >31698.160000</td>\n",
       "    </tr>\n",
       "    <tr>\n",
       "      <th id=\"T_cf295_level0_row6\" class=\"row_heading level0 row6\" >556917</th>\n",
       "      <td id=\"T_cf295_row6_col0\" class=\"data row6 col0\" >22775.930000</td>\n",
       "    </tr>\n",
       "    <tr>\n",
       "      <th id=\"T_cf295_level0_row7\" class=\"row_heading level0 row7\" >572209</th>\n",
       "      <td id=\"T_cf295_row7_col0\" class=\"data row7 col0\" >22206.000000</td>\n",
       "    </tr>\n",
       "  </tbody>\n",
       "</table>\n"
      ],
      "text/plain": [
       "<pandas.io.formats.style.Styler at 0x7f823c18aad0>"
      ]
     },
     "execution_count": 9,
     "metadata": {},
     "output_type": "execute_result"
    }
   ],
   "source": [
    "# Aşağıdaki işlem ile 'İnvoice' kırılımında 'TotalPrice' bilgilerinin toplamına erişerek fatura başına ödenen toplam tutara erişebiliriz.\n",
    "# Bir faturada birden fazla ürün olabilir.)\n",
    "df.groupby(\"Invoice\").agg({\"TotalPrice\": \"sum\"}).sort_values(by='TotalPrice', ascending=False).head(8).style.set_properties(**{\"background-color\": \"#000000\",\"color\":\"#FFEA20\",\"border\": \"0.2px solid white\"})\n"
   ]
  },
  {
   "cell_type": "code",
   "execution_count": 10,
   "id": "684dc3b4",
   "metadata": {
    "execution": {
     "iopub.execute_input": "2023-03-08T07:47:03.640554Z",
     "iopub.status.busy": "2023-03-08T07:47:03.640112Z",
     "iopub.status.idle": "2023-03-08T07:47:03.673360Z",
     "shell.execute_reply": "2023-03-08T07:47:03.672290Z"
    },
    "papermill": {
     "duration": 0.05363,
     "end_time": "2023-03-08T07:47:03.675874",
     "exception": false,
     "start_time": "2023-03-08T07:47:03.622244",
     "status": "completed"
    },
    "tags": []
   },
   "outputs": [
    {
     "data": {
      "text/plain": [
       "United Kingdom          495478\n",
       "Germany                   9495\n",
       "France                    8558\n",
       "EIRE                      8196\n",
       "Spain                     2533\n",
       "Netherlands               2371\n",
       "Belgium                   2069\n",
       "Switzerland               2002\n",
       "Portugal                  1519\n",
       "Australia                 1259\n",
       "Norway                    1086\n",
       "Italy                      803\n",
       "Channel Islands            758\n",
       "Finland                    695\n",
       "Cyprus                     622\n",
       "Sweden                     462\n",
       "Unspecified                446\n",
       "Austria                    401\n",
       "Denmark                    389\n",
       "Japan                      358\n",
       "Poland                     341\n",
       "Israel                     297\n",
       "USA                        291\n",
       "Hong Kong                  288\n",
       "Singapore                  229\n",
       "Iceland                    182\n",
       "Canada                     151\n",
       "Greece                     146\n",
       "Malta                      127\n",
       "United Arab Emirates        68\n",
       "European Community          61\n",
       "RSA                         58\n",
       "Lebanon                     45\n",
       "Lithuania                   35\n",
       "Brazil                      32\n",
       "Czech Republic              30\n",
       "Bahrain                     19\n",
       "Saudi Arabia                10\n",
       "Name: Country, dtype: int64"
      ]
     },
     "execution_count": 10,
     "metadata": {},
     "output_type": "execute_result"
    }
   ],
   "source": [
    "# Uluslar arası çalışan firmamızın yoğunluklu olarak satış yapmakta olduğu bçlgeleri bölgeleri görselleştirmek ve sunumumuza eklemek istiyoruz.\n",
    "df['Country'].value_counts()"
   ]
  },
  {
   "cell_type": "code",
   "execution_count": 11,
   "id": "7d9d747d",
   "metadata": {
    "execution": {
     "iopub.execute_input": "2023-03-08T07:47:03.710776Z",
     "iopub.status.busy": "2023-03-08T07:47:03.709923Z",
     "iopub.status.idle": "2023-03-08T07:47:03.718816Z",
     "shell.execute_reply": "2023-03-08T07:47:03.717514Z"
    },
    "papermill": {
     "duration": 0.028984,
     "end_time": "2023-03-08T07:47:03.721095",
     "exception": false,
     "start_time": "2023-03-08T07:47:03.692111",
     "status": "completed"
    },
    "tags": []
   },
   "outputs": [
    {
     "data": {
      "text/plain": [
       "Index(['Invoice', 'StockCode', 'Description', 'Quantity', 'InvoiceDate', 'Price', 'CustomerID', 'Country', 'TotalPrice'], dtype='object')"
      ]
     },
     "execution_count": 11,
     "metadata": {},
     "output_type": "execute_result"
    }
   ],
   "source": [
    "# 'Country ID' yi hataya mahal vermemek için aşagıdaki gibi değiştiriyoruz.\n",
    "df.columns = df.columns.str.replace(' ', '')\n",
    "df.columns"
   ]
  },
  {
   "cell_type": "code",
   "execution_count": 12,
   "id": "d153adb2",
   "metadata": {
    "execution": {
     "iopub.execute_input": "2023-03-08T07:47:03.756772Z",
     "iopub.status.busy": "2023-03-08T07:47:03.755843Z",
     "iopub.status.idle": "2023-03-08T07:47:05.561627Z",
     "shell.execute_reply": "2023-03-08T07:47:05.560550Z"
    },
    "papermill": {
     "duration": 1.825883,
     "end_time": "2023-03-08T07:47:05.563935",
     "exception": false,
     "start_time": "2023-03-08T07:47:03.738052",
     "status": "completed"
    },
    "tags": []
   },
   "outputs": [
    {
     "data": {
      "text/html": [
       "        <script type=\"text/javascript\">\n",
       "        window.PlotlyConfig = {MathJaxConfig: 'local'};\n",
       "        if (window.MathJax && window.MathJax.Hub && window.MathJax.Hub.Config) {window.MathJax.Hub.Config({SVG: {font: \"STIX-Web\"}});}\n",
       "        if (typeof require !== 'undefined') {\n",
       "        require.undef(\"plotly\");\n",
       "        requirejs.config({\n",
       "            paths: {\n",
       "                'plotly': ['https://cdn.plot.ly/plotly-2.18.0.min']\n",
       "            }\n",
       "        });\n",
       "        require(['plotly'], function(Plotly) {\n",
       "            window._Plotly = Plotly;\n",
       "        });\n",
       "        }\n",
       "        </script>\n",
       "        "
      ]
     },
     "metadata": {},
     "output_type": "display_data"
    },
    {
     "data": {
      "text/html": [
       "<div>                            <div id=\"751679ea-95f8-4a33-b561-8d6f08833ad9\" class=\"plotly-graph-div\" style=\"height:600px; width:1000px;\"></div>            <script type=\"text/javascript\">                require([\"plotly\"], function(Plotly) {                    window.PLOTLYENV=window.PLOTLYENV || {};                                    if (document.getElementById(\"751679ea-95f8-4a33-b561-8d6f08833ad9\")) {                    Plotly.newPlot(                        \"751679ea-95f8-4a33-b561-8d6f08833ad9\",                        [{\"colorbar\":{\"title\":{\"text\":\"Orders\"}},\"colorscale\":[[0.0,\"#440154\"],[0.1111111111111111,\"#482878\"],[0.2222222222222222,\"#3e4989\"],[0.3333333333333333,\"#31688e\"],[0.4444444444444444,\"#26828e\"],[0.5555555555555556,\"#1f9e89\"],[0.6666666666666666,\"#35b779\"],[0.7777777777777778,\"#6ece58\"],[0.8888888888888888,\"#b5de2b\"],[1.0,\"#fde725\"]],\"locationmode\":\"country names\",\"locations\":[\"United Kingdom\",\"Germany\",\"France\",\"EIRE\",\"Belgium\",\"Spain\",\"Netherlands\",\"Switzerland\",\"Portugal\",\"Australia\",\"Italy\",\"Finland\",\"Sweden\",\"Norway\",\"Channel Islands\",\"Japan\",\"Poland\",\"Denmark\",\"Cyprus\",\"Austria\",\"Singapore\",\"Malta\",\"Unspecified\",\"USA\",\"Iceland\",\"Israel\",\"Canada\",\"Greece\",\"Czech Republic\",\"European Community\",\"Lithuania\",\"United Arab Emirates\",\"Saudi Arabia\",\"Bahrain\",\"RSA\",\"Lebanon\",\"Brazil\"],\"reversescale\":false,\"text\":[\"United Kingdom\",\"Germany\",\"France\",\"EIRE\",\"Belgium\",\"Spain\",\"Netherlands\",\"Switzerland\",\"Portugal\",\"Australia\",\"Italy\",\"Finland\",\"Sweden\",\"Norway\",\"Channel Islands\",\"Japan\",\"Poland\",\"Denmark\",\"Cyprus\",\"Austria\",\"Singapore\",\"Malta\",\"Unspecified\",\"USA\",\"Iceland\",\"Israel\",\"Canada\",\"Greece\",\"Czech Republic\",\"European Community\",\"Lithuania\",\"United Arab Emirates\",\"Saudi Arabia\",\"Bahrain\",\"RSA\",\"Lebanon\",\"Brazil\"],\"z\":[19857,603,458,319,119,105,101,71,70,69,55,48,46,40,33,28,24,21,20,19,10,10,8,7,7,6,6,6,5,5,4,3,2,2,1,1,1],\"type\":\"choropleth\"}],                        {\"geo\":{\"landcolor\":\"whitesmoke\",\"oceancolor\":\"LightBlue\",\"resolution\":50,\"showframe\":true,\"showland\":true,\"showocean\":true},\"height\":600,\"template\":{\"data\":{\"barpolar\":[{\"marker\":{\"line\":{\"color\":\"white\",\"width\":0.5},\"pattern\":{\"fillmode\":\"overlay\",\"size\":10,\"solidity\":0.2}},\"type\":\"barpolar\"}],\"bar\":[{\"error_x\":{\"color\":\"#2a3f5f\"},\"error_y\":{\"color\":\"#2a3f5f\"},\"marker\":{\"line\":{\"color\":\"white\",\"width\":0.5},\"pattern\":{\"fillmode\":\"overlay\",\"size\":10,\"solidity\":0.2}},\"type\":\"bar\"}],\"carpet\":[{\"aaxis\":{\"endlinecolor\":\"#2a3f5f\",\"gridcolor\":\"#C8D4E3\",\"linecolor\":\"#C8D4E3\",\"minorgridcolor\":\"#C8D4E3\",\"startlinecolor\":\"#2a3f5f\"},\"baxis\":{\"endlinecolor\":\"#2a3f5f\",\"gridcolor\":\"#C8D4E3\",\"linecolor\":\"#C8D4E3\",\"minorgridcolor\":\"#C8D4E3\",\"startlinecolor\":\"#2a3f5f\"},\"type\":\"carpet\"}],\"choropleth\":[{\"colorbar\":{\"outlinewidth\":0,\"ticks\":\"\"},\"type\":\"choropleth\"}],\"contourcarpet\":[{\"colorbar\":{\"outlinewidth\":0,\"ticks\":\"\"},\"type\":\"contourcarpet\"}],\"contour\":[{\"colorbar\":{\"outlinewidth\":0,\"ticks\":\"\"},\"colorscale\":[[0.0,\"#0d0887\"],[0.1111111111111111,\"#46039f\"],[0.2222222222222222,\"#7201a8\"],[0.3333333333333333,\"#9c179e\"],[0.4444444444444444,\"#bd3786\"],[0.5555555555555556,\"#d8576b\"],[0.6666666666666666,\"#ed7953\"],[0.7777777777777778,\"#fb9f3a\"],[0.8888888888888888,\"#fdca26\"],[1.0,\"#f0f921\"]],\"type\":\"contour\"}],\"heatmapgl\":[{\"colorbar\":{\"outlinewidth\":0,\"ticks\":\"\"},\"colorscale\":[[0.0,\"#0d0887\"],[0.1111111111111111,\"#46039f\"],[0.2222222222222222,\"#7201a8\"],[0.3333333333333333,\"#9c179e\"],[0.4444444444444444,\"#bd3786\"],[0.5555555555555556,\"#d8576b\"],[0.6666666666666666,\"#ed7953\"],[0.7777777777777778,\"#fb9f3a\"],[0.8888888888888888,\"#fdca26\"],[1.0,\"#f0f921\"]],\"type\":\"heatmapgl\"}],\"heatmap\":[{\"colorbar\":{\"outlinewidth\":0,\"ticks\":\"\"},\"colorscale\":[[0.0,\"#0d0887\"],[0.1111111111111111,\"#46039f\"],[0.2222222222222222,\"#7201a8\"],[0.3333333333333333,\"#9c179e\"],[0.4444444444444444,\"#bd3786\"],[0.5555555555555556,\"#d8576b\"],[0.6666666666666666,\"#ed7953\"],[0.7777777777777778,\"#fb9f3a\"],[0.8888888888888888,\"#fdca26\"],[1.0,\"#f0f921\"]],\"type\":\"heatmap\"}],\"histogram2dcontour\":[{\"colorbar\":{\"outlinewidth\":0,\"ticks\":\"\"},\"colorscale\":[[0.0,\"#0d0887\"],[0.1111111111111111,\"#46039f\"],[0.2222222222222222,\"#7201a8\"],[0.3333333333333333,\"#9c179e\"],[0.4444444444444444,\"#bd3786\"],[0.5555555555555556,\"#d8576b\"],[0.6666666666666666,\"#ed7953\"],[0.7777777777777778,\"#fb9f3a\"],[0.8888888888888888,\"#fdca26\"],[1.0,\"#f0f921\"]],\"type\":\"histogram2dcontour\"}],\"histogram2d\":[{\"colorbar\":{\"outlinewidth\":0,\"ticks\":\"\"},\"colorscale\":[[0.0,\"#0d0887\"],[0.1111111111111111,\"#46039f\"],[0.2222222222222222,\"#7201a8\"],[0.3333333333333333,\"#9c179e\"],[0.4444444444444444,\"#bd3786\"],[0.5555555555555556,\"#d8576b\"],[0.6666666666666666,\"#ed7953\"],[0.7777777777777778,\"#fb9f3a\"],[0.8888888888888888,\"#fdca26\"],[1.0,\"#f0f921\"]],\"type\":\"histogram2d\"}],\"histogram\":[{\"marker\":{\"pattern\":{\"fillmode\":\"overlay\",\"size\":10,\"solidity\":0.2}},\"type\":\"histogram\"}],\"mesh3d\":[{\"colorbar\":{\"outlinewidth\":0,\"ticks\":\"\"},\"type\":\"mesh3d\"}],\"parcoords\":[{\"line\":{\"colorbar\":{\"outlinewidth\":0,\"ticks\":\"\"}},\"type\":\"parcoords\"}],\"pie\":[{\"automargin\":true,\"type\":\"pie\"}],\"scatter3d\":[{\"line\":{\"colorbar\":{\"outlinewidth\":0,\"ticks\":\"\"}},\"marker\":{\"colorbar\":{\"outlinewidth\":0,\"ticks\":\"\"}},\"type\":\"scatter3d\"}],\"scattercarpet\":[{\"marker\":{\"colorbar\":{\"outlinewidth\":0,\"ticks\":\"\"}},\"type\":\"scattercarpet\"}],\"scattergeo\":[{\"marker\":{\"colorbar\":{\"outlinewidth\":0,\"ticks\":\"\"}},\"type\":\"scattergeo\"}],\"scattergl\":[{\"marker\":{\"colorbar\":{\"outlinewidth\":0,\"ticks\":\"\"}},\"type\":\"scattergl\"}],\"scattermapbox\":[{\"marker\":{\"colorbar\":{\"outlinewidth\":0,\"ticks\":\"\"}},\"type\":\"scattermapbox\"}],\"scatterpolargl\":[{\"marker\":{\"colorbar\":{\"outlinewidth\":0,\"ticks\":\"\"}},\"type\":\"scatterpolargl\"}],\"scatterpolar\":[{\"marker\":{\"colorbar\":{\"outlinewidth\":0,\"ticks\":\"\"}},\"type\":\"scatterpolar\"}],\"scatter\":[{\"fillpattern\":{\"fillmode\":\"overlay\",\"size\":10,\"solidity\":0.2},\"type\":\"scatter\"}],\"scatterternary\":[{\"marker\":{\"colorbar\":{\"outlinewidth\":0,\"ticks\":\"\"}},\"type\":\"scatterternary\"}],\"surface\":[{\"colorbar\":{\"outlinewidth\":0,\"ticks\":\"\"},\"colorscale\":[[0.0,\"#0d0887\"],[0.1111111111111111,\"#46039f\"],[0.2222222222222222,\"#7201a8\"],[0.3333333333333333,\"#9c179e\"],[0.4444444444444444,\"#bd3786\"],[0.5555555555555556,\"#d8576b\"],[0.6666666666666666,\"#ed7953\"],[0.7777777777777778,\"#fb9f3a\"],[0.8888888888888888,\"#fdca26\"],[1.0,\"#f0f921\"]],\"type\":\"surface\"}],\"table\":[{\"cells\":{\"fill\":{\"color\":\"#EBF0F8\"},\"line\":{\"color\":\"white\"}},\"header\":{\"fill\":{\"color\":\"#C8D4E3\"},\"line\":{\"color\":\"white\"}},\"type\":\"table\"}]},\"layout\":{\"annotationdefaults\":{\"arrowcolor\":\"#2a3f5f\",\"arrowhead\":0,\"arrowwidth\":1},\"autotypenumbers\":\"strict\",\"coloraxis\":{\"colorbar\":{\"outlinewidth\":0,\"ticks\":\"\"}},\"colorscale\":{\"diverging\":[[0,\"#8e0152\"],[0.1,\"#c51b7d\"],[0.2,\"#de77ae\"],[0.3,\"#f1b6da\"],[0.4,\"#fde0ef\"],[0.5,\"#f7f7f7\"],[0.6,\"#e6f5d0\"],[0.7,\"#b8e186\"],[0.8,\"#7fbc41\"],[0.9,\"#4d9221\"],[1,\"#276419\"]],\"sequential\":[[0.0,\"#0d0887\"],[0.1111111111111111,\"#46039f\"],[0.2222222222222222,\"#7201a8\"],[0.3333333333333333,\"#9c179e\"],[0.4444444444444444,\"#bd3786\"],[0.5555555555555556,\"#d8576b\"],[0.6666666666666666,\"#ed7953\"],[0.7777777777777778,\"#fb9f3a\"],[0.8888888888888888,\"#fdca26\"],[1.0,\"#f0f921\"]],\"sequentialminus\":[[0.0,\"#0d0887\"],[0.1111111111111111,\"#46039f\"],[0.2222222222222222,\"#7201a8\"],[0.3333333333333333,\"#9c179e\"],[0.4444444444444444,\"#bd3786\"],[0.5555555555555556,\"#d8576b\"],[0.6666666666666666,\"#ed7953\"],[0.7777777777777778,\"#fb9f3a\"],[0.8888888888888888,\"#fdca26\"],[1.0,\"#f0f921\"]]},\"colorway\":[\"#636efa\",\"#EF553B\",\"#00cc96\",\"#ab63fa\",\"#FFA15A\",\"#19d3f3\",\"#FF6692\",\"#B6E880\",\"#FF97FF\",\"#FECB52\"],\"font\":{\"color\":\"#2a3f5f\"},\"geo\":{\"bgcolor\":\"white\",\"lakecolor\":\"white\",\"landcolor\":\"white\",\"showlakes\":true,\"showland\":true,\"subunitcolor\":\"#C8D4E3\"},\"hoverlabel\":{\"align\":\"left\"},\"hovermode\":\"closest\",\"mapbox\":{\"style\":\"light\"},\"paper_bgcolor\":\"white\",\"plot_bgcolor\":\"white\",\"polar\":{\"angularaxis\":{\"gridcolor\":\"#EBF0F8\",\"linecolor\":\"#EBF0F8\",\"ticks\":\"\"},\"bgcolor\":\"white\",\"radialaxis\":{\"gridcolor\":\"#EBF0F8\",\"linecolor\":\"#EBF0F8\",\"ticks\":\"\"}},\"scene\":{\"xaxis\":{\"backgroundcolor\":\"white\",\"gridcolor\":\"#DFE8F3\",\"gridwidth\":2,\"linecolor\":\"#EBF0F8\",\"showbackground\":true,\"ticks\":\"\",\"zerolinecolor\":\"#EBF0F8\"},\"yaxis\":{\"backgroundcolor\":\"white\",\"gridcolor\":\"#DFE8F3\",\"gridwidth\":2,\"linecolor\":\"#EBF0F8\",\"showbackground\":true,\"ticks\":\"\",\"zerolinecolor\":\"#EBF0F8\"},\"zaxis\":{\"backgroundcolor\":\"white\",\"gridcolor\":\"#DFE8F3\",\"gridwidth\":2,\"linecolor\":\"#EBF0F8\",\"showbackground\":true,\"ticks\":\"\",\"zerolinecolor\":\"#EBF0F8\"}},\"shapedefaults\":{\"line\":{\"color\":\"#2a3f5f\"}},\"ternary\":{\"aaxis\":{\"gridcolor\":\"#DFE8F3\",\"linecolor\":\"#A2B1C6\",\"ticks\":\"\"},\"baxis\":{\"gridcolor\":\"#DFE8F3\",\"linecolor\":\"#A2B1C6\",\"ticks\":\"\"},\"bgcolor\":\"white\",\"caxis\":{\"gridcolor\":\"#DFE8F3\",\"linecolor\":\"#A2B1C6\",\"ticks\":\"\"}},\"title\":{\"x\":0.05},\"xaxis\":{\"automargin\":true,\"gridcolor\":\"#EBF0F8\",\"linecolor\":\"#EBF0F8\",\"ticks\":\"\",\"title\":{\"standoff\":15},\"zerolinecolor\":\"#EBF0F8\",\"zerolinewidth\":2},\"yaxis\":{\"automargin\":true,\"gridcolor\":\"#EBF0F8\",\"linecolor\":\"#EBF0F8\",\"ticks\":\"\",\"title\":{\"standoff\":15},\"zerolinecolor\":\"#EBF0F8\",\"zerolinewidth\":2}}},\"title\":{\"text\":\"Number of Orders by Countries\",\"x\":0.5,\"xanchor\":\"center\",\"y\":0.9,\"yanchor\":\"top\"},\"width\":1000},                        {\"responsive\": true}                    ).then(function(){\n",
       "                            \n",
       "var gd = document.getElementById('751679ea-95f8-4a33-b561-8d6f08833ad9');\n",
       "var x = new MutationObserver(function (mutations, observer) {{\n",
       "        var display = window.getComputedStyle(gd).display;\n",
       "        if (!display || display === 'none') {{\n",
       "            console.log([gd, 'removed!']);\n",
       "            Plotly.purge(gd);\n",
       "            observer.disconnect();\n",
       "        }}\n",
       "}});\n",
       "\n",
       "// Listen for the removal of the full notebook cells\n",
       "var notebookContainer = gd.closest('#notebook-container');\n",
       "if (notebookContainer) {{\n",
       "    x.observe(notebookContainer, {childList: true});\n",
       "}}\n",
       "\n",
       "// Listen for the clearing of the current output cell\n",
       "var outputEl = gd.closest('.output');\n",
       "if (outputEl) {{\n",
       "    x.observe(outputEl, {childList: true});\n",
       "}}\n",
       "\n",
       "                        })                };                });            </script>        </div>"
      ]
     },
     "metadata": {},
     "output_type": "display_data"
    }
   ],
   "source": [
    "world_map = df[['CustomerID', 'Invoice', 'Country']\n",
    "              ].groupby(['CustomerID', 'Invoice', 'Country']\n",
    "                       ).count().reset_index(drop = False)\n",
    "countries = world_map['Country'].value_counts()\n",
    "data = dict(type='choropleth',\n",
    "            locations = countries.index,\n",
    "            locationmode = 'country names',\n",
    "            z = countries,\n",
    "            text = countries.index,\n",
    "            colorbar = {'title':'Orders'},\n",
    "            colorscale='Viridis',\n",
    "            reversescale = False)\n",
    "\n",
    "layout = dict(title={'text': \"Number of Orders by Countries\",\n",
    "                     'y':0.9,\n",
    "                     'x':0.5,\n",
    "                     'xanchor': 'center',\n",
    "                     'yanchor': 'top'},\n",
    "              geo = dict(resolution = 50,\n",
    "                         showocean = True,\n",
    "                         oceancolor = \"LightBlue\",\n",
    "                         showland = True,\n",
    "                         landcolor = \"whitesmoke\",\n",
    "                         showframe = True),\n",
    "             template = 'plotly_white',\n",
    "             height = 600,\n",
    "             width = 1000)\n",
    "\n",
    "choromap = go.Figure(data = [data], layout = layout)\n",
    "iplot(choromap, validate = False)"
   ]
  },
  {
   "cell_type": "markdown",
   "id": "7e5ad751",
   "metadata": {
    "papermill": {
     "duration": 0.016343,
     "end_time": "2023-03-08T07:47:05.597241",
     "exception": false,
     "start_time": "2023-03-08T07:47:05.580898",
     "status": "completed"
    },
    "tags": []
   },
   "source": [
    "<p style= \"background-color:#000000;font-family:Georgia;color:#FEFBE9;font-size:300%;text-align:center;border-radius:20px 60px;overflow:hidden;border-style:dotted;border-width:1.8px;border-color:#FEFBE9;\"><b>DATA PREPARATION</b></p>"
   ]
  },
  {
   "cell_type": "code",
   "execution_count": 13,
   "id": "893fd464",
   "metadata": {
    "execution": {
     "iopub.execute_input": "2023-03-08T07:47:05.632977Z",
     "iopub.status.busy": "2023-03-08T07:47:05.631979Z",
     "iopub.status.idle": "2023-03-08T07:47:05.679593Z",
     "shell.execute_reply": "2023-03-08T07:47:05.678296Z"
    },
    "papermill": {
     "duration": 0.06851,
     "end_time": "2023-03-08T07:47:05.682365",
     "exception": false,
     "start_time": "2023-03-08T07:47:05.613855",
     "status": "completed"
    },
    "tags": []
   },
   "outputs": [],
   "source": [
    "# MIUUL'un hediyesi hazır tıraşlama formülümüzü 'price' ve 'quantity' özelinde çalıştıralım.\n",
    "# Bu işlemi uygulamamızın sebebi aykırı değerlerin tahmin işlemlerine olumsuz etkide bulunmasını önlemektir.\n",
    "def outlier_thresholds(dataframe, variable):\n",
    "    quartile1 = dataframe[variable].quantile(0.01)\n",
    "    quartile3 = dataframe[variable].quantile(0.99)\n",
    "    interquantile_range = quartile3 - quartile1\n",
    "    up_limit = quartile3 + 1.5 * interquantile_range\n",
    "    low_limit = quartile1 - 1.5 * interquantile_range\n",
    "    return low_limit, up_limit\n",
    "\n",
    "\n",
    "def replace_with_thresholds(dataframe, variable):\n",
    "    low_limit, up_limit = outlier_thresholds(dataframe, variable)\n",
    "    dataframe.loc[(dataframe[variable] < low_limit), variable] = low_limit\n",
    "    dataframe.loc[(dataframe[variable] > up_limit), variable] = up_limit\n",
    "    \n",
    "replace_with_thresholds(df, \"Quantity\")\n",
    "replace_with_thresholds(df, \"Price\")"
   ]
  },
  {
   "cell_type": "code",
   "execution_count": 14,
   "id": "385e615c",
   "metadata": {
    "execution": {
     "iopub.execute_input": "2023-03-08T07:47:05.718439Z",
     "iopub.status.busy": "2023-03-08T07:47:05.717199Z",
     "iopub.status.idle": "2023-03-08T07:47:06.322142Z",
     "shell.execute_reply": "2023-03-08T07:47:06.320792Z"
    },
    "papermill": {
     "duration": 0.625489,
     "end_time": "2023-03-08T07:47:06.324683",
     "exception": false,
     "start_time": "2023-03-08T07:47:05.699194",
     "status": "completed"
    },
    "tags": []
   },
   "outputs": [
    {
     "name": "stdout",
     "output_type": "stream",
     "text": [
      "<class 'pandas.core.frame.DataFrame'>\n",
      "Int64Index: 397925 entries, 0 to 541909\n",
      "Data columns (total 9 columns):\n",
      " #   Column       Non-Null Count   Dtype         \n",
      "---  ------       --------------   -----         \n",
      " 0   Invoice      397925 non-null  object        \n",
      " 1   StockCode    397925 non-null  object        \n",
      " 2   Description  397925 non-null  object        \n",
      " 3   Quantity     397925 non-null  int64         \n",
      " 4   InvoiceDate  397925 non-null  datetime64[ns]\n",
      " 5   Price        397925 non-null  float64       \n",
      " 6   CustomerID   397925 non-null  float64       \n",
      " 7   Country      397925 non-null  object        \n",
      " 8   TotalPrice   397925 non-null  float64       \n",
      "dtypes: datetime64[ns](1), float64(3), int64(1), object(4)\n",
      "memory usage: 30.4+ MB\n"
     ]
    }
   ],
   "source": [
    "# Yukarıda CustomerID satırında boş değerler olduğunu görmüştük. Bizim için görmezden gelinemeyek bu eksik gözlemleri siliyoruz.\n",
    "df.dropna(inplace=True)\n",
    "# Veri setinin ayrıntısında fatura kodunda 'C' ibaresi bulunanların iptal işlemi olduğunu görmüştük. Bu sebepten iptal faturaları silmek için:\n",
    "df = df[~df['Invoice'].astype(str).str.contains('C', na=False)]\n",
    "df.info()"
   ]
  },
  {
   "cell_type": "markdown",
   "id": "970d2c61",
   "metadata": {
    "papermill": {
     "duration": 0.016738,
     "end_time": "2023-03-08T07:47:06.358259",
     "exception": false,
     "start_time": "2023-03-08T07:47:06.341521",
     "status": "completed"
    },
    "tags": []
   },
   "source": [
    "<p style= \"background-color:#000000;font-family:Georgia;color:#FEFBE9;font-size:300%;text-align:center;border-radius:20px 60px;overflow:hidden;border-style:dotted;border-width:1.8px;border-color:#FEFBE9;\"><b>CALCULATING RFM METRICS</b></p>"
   ]
  },
  {
   "cell_type": "code",
   "execution_count": 15,
   "id": "3e3f8352",
   "metadata": {
    "execution": {
     "iopub.execute_input": "2023-03-08T07:47:06.394641Z",
     "iopub.status.busy": "2023-03-08T07:47:06.393893Z",
     "iopub.status.idle": "2023-03-08T07:47:06.404071Z",
     "shell.execute_reply": "2023-03-08T07:47:06.402872Z"
    },
    "papermill": {
     "duration": 0.031265,
     "end_time": "2023-03-08T07:47:06.406471",
     "exception": false,
     "start_time": "2023-03-08T07:47:06.375206",
     "status": "completed"
    },
    "tags": []
   },
   "outputs": [
    {
     "data": {
      "text/plain": [
       "Timestamp('2011-12-09 12:50:00')"
      ]
     },
     "execution_count": 15,
     "metadata": {},
     "output_type": "execute_result"
    }
   ],
   "source": [
    "# Hesabımızın doğru olması için son fatura tarihine yakın bir tarihte bu işlemi yapmış olmamız bekleneceğinden:\n",
    "df[\"InvoiceDate\"].max()"
   ]
  },
  {
   "cell_type": "code",
   "execution_count": 16,
   "id": "d7057588",
   "metadata": {
    "execution": {
     "iopub.execute_input": "2023-03-08T07:47:06.442306Z",
     "iopub.status.busy": "2023-03-08T07:47:06.441850Z",
     "iopub.status.idle": "2023-03-08T07:47:07.554111Z",
     "shell.execute_reply": "2023-03-08T07:47:07.552861Z"
    },
    "papermill": {
     "duration": 1.133289,
     "end_time": "2023-03-08T07:47:07.556864",
     "exception": false,
     "start_time": "2023-03-08T07:47:06.423575",
     "status": "completed"
    },
    "tags": []
   },
   "outputs": [
    {
     "data": {
      "text/html": [
       "<style type=\"text/css\">\n",
       "#T_4910f_row0_col0, #T_4910f_row0_col1, #T_4910f_row0_col2, #T_4910f_row1_col0, #T_4910f_row1_col1, #T_4910f_row1_col2, #T_4910f_row2_col0, #T_4910f_row2_col1, #T_4910f_row2_col2, #T_4910f_row3_col0, #T_4910f_row3_col1, #T_4910f_row3_col2, #T_4910f_row4_col0, #T_4910f_row4_col1, #T_4910f_row4_col2 {\n",
       "  background-color: #000000;\n",
       "  color: #FFEA20;\n",
       "  border: 0.2px solid white;\n",
       "}\n",
       "</style>\n",
       "<table id=\"T_4910f_\">\n",
       "  <thead>\n",
       "    <tr>\n",
       "      <th class=\"blank level0\" >&nbsp;</th>\n",
       "      <th class=\"col_heading level0 col0\" >recency</th>\n",
       "      <th class=\"col_heading level0 col1\" >frequency</th>\n",
       "      <th class=\"col_heading level0 col2\" >monetary</th>\n",
       "    </tr>\n",
       "    <tr>\n",
       "      <th class=\"index_name level0\" >CustomerID</th>\n",
       "      <th class=\"blank col0\" >&nbsp;</th>\n",
       "      <th class=\"blank col1\" >&nbsp;</th>\n",
       "      <th class=\"blank col2\" >&nbsp;</th>\n",
       "    </tr>\n",
       "  </thead>\n",
       "  <tbody>\n",
       "    <tr>\n",
       "      <th id=\"T_4910f_level0_row0\" class=\"row_heading level0 row0\" >12346.0</th>\n",
       "      <td id=\"T_4910f_row0_col0\" class=\"data row0 col0\" >326</td>\n",
       "      <td id=\"T_4910f_row0_col1\" class=\"data row0 col1\" >1</td>\n",
       "      <td id=\"T_4910f_row0_col2\" class=\"data row0 col2\" >77183.600000</td>\n",
       "    </tr>\n",
       "    <tr>\n",
       "      <th id=\"T_4910f_level0_row1\" class=\"row_heading level0 row1\" >12347.0</th>\n",
       "      <td id=\"T_4910f_row1_col0\" class=\"data row1 col0\" >3</td>\n",
       "      <td id=\"T_4910f_row1_col1\" class=\"data row1 col1\" >7</td>\n",
       "      <td id=\"T_4910f_row1_col2\" class=\"data row1 col2\" >4310.000000</td>\n",
       "    </tr>\n",
       "    <tr>\n",
       "      <th id=\"T_4910f_level0_row2\" class=\"row_heading level0 row2\" >12348.0</th>\n",
       "      <td id=\"T_4910f_row2_col0\" class=\"data row2 col0\" >76</td>\n",
       "      <td id=\"T_4910f_row2_col1\" class=\"data row2 col1\" >4</td>\n",
       "      <td id=\"T_4910f_row2_col2\" class=\"data row2 col2\" >1797.240000</td>\n",
       "    </tr>\n",
       "    <tr>\n",
       "      <th id=\"T_4910f_level0_row3\" class=\"row_heading level0 row3\" >12349.0</th>\n",
       "      <td id=\"T_4910f_row3_col0\" class=\"data row3 col0\" >19</td>\n",
       "      <td id=\"T_4910f_row3_col1\" class=\"data row3 col1\" >1</td>\n",
       "      <td id=\"T_4910f_row3_col2\" class=\"data row3 col2\" >1757.550000</td>\n",
       "    </tr>\n",
       "    <tr>\n",
       "      <th id=\"T_4910f_level0_row4\" class=\"row_heading level0 row4\" >12350.0</th>\n",
       "      <td id=\"T_4910f_row4_col0\" class=\"data row4 col0\" >311</td>\n",
       "      <td id=\"T_4910f_row4_col1\" class=\"data row4 col1\" >1</td>\n",
       "      <td id=\"T_4910f_row4_col2\" class=\"data row4 col2\" >334.400000</td>\n",
       "    </tr>\n",
       "  </tbody>\n",
       "</table>\n"
      ],
      "text/plain": [
       "<pandas.io.formats.style.Styler at 0x7f823025fe50>"
      ]
     },
     "execution_count": 16,
     "metadata": {},
     "output_type": "execute_result"
    }
   ],
   "source": [
    "today_date = datetime(2011, 12, 11)\n",
    "# RFM metriklerini hesaplayalım..\n",
    "# Recency : Müşterinin son alışverişinin üzerinden geçen zaman.\n",
    "# Frequency: Müşterinin toplam alışveriş sayısı\n",
    "# Monetary: Müşterinin tüm süreçte toplam bıraktığı para\n",
    "\n",
    "rfm = df.groupby('CustomerID').agg({'InvoiceDate': lambda x: (today_date - x.max()).days,\n",
    "                                     'Invoice': lambda x: x.nunique(),\n",
    "                                     'TotalPrice': lambda x: x.sum()})\n",
    "\n",
    "rfm.columns = ['recency', 'frequency', 'monetary']\n",
    "# İadelerden doğabilecek negatif değerleri ve 0 değerleri kaldıralım.\n",
    "rfm = rfm[rfm[\"monetary\"] > 0]\n",
    "\n",
    "rfm.head().style.set_properties(**{\"background-color\": \"#000000\",\"color\":\"#FFEA20\",\"border\": \"0.2px solid white\"})"
   ]
  },
  {
   "cell_type": "code",
   "execution_count": 17,
   "id": "1096e81e",
   "metadata": {
    "execution": {
     "iopub.execute_input": "2023-03-08T07:47:07.604930Z",
     "iopub.status.busy": "2023-03-08T07:47:07.604120Z",
     "iopub.status.idle": "2023-03-08T07:47:07.613053Z",
     "shell.execute_reply": "2023-03-08T07:47:07.611704Z"
    },
    "papermill": {
     "duration": 0.030267,
     "end_time": "2023-03-08T07:47:07.615269",
     "exception": false,
     "start_time": "2023-03-08T07:47:07.585002",
     "status": "completed"
    },
    "tags": []
   },
   "outputs": [
    {
     "data": {
      "text/plain": [
       "recency        int64\n",
       "frequency      int64\n",
       "monetary     float64\n",
       "dtype: object"
      ]
     },
     "execution_count": 17,
     "metadata": {},
     "output_type": "execute_result"
    }
   ],
   "source": [
    "rfm.dtypes"
   ]
  },
  {
   "cell_type": "code",
   "execution_count": 18,
   "id": "9b34056e",
   "metadata": {
    "execution": {
     "iopub.execute_input": "2023-03-08T07:47:07.652602Z",
     "iopub.status.busy": "2023-03-08T07:47:07.651914Z",
     "iopub.status.idle": "2023-03-08T07:47:07.689610Z",
     "shell.execute_reply": "2023-03-08T07:47:07.688343Z"
    },
    "papermill": {
     "duration": 0.059645,
     "end_time": "2023-03-08T07:47:07.692278",
     "exception": false,
     "start_time": "2023-03-08T07:47:07.632633",
     "status": "completed"
    },
    "tags": []
   },
   "outputs": [
    {
     "data": {
      "text/html": [
       "<style type=\"text/css\">\n",
       "#T_47780_row0_col0, #T_47780_row0_col1, #T_47780_row0_col2, #T_47780_row0_col3, #T_47780_row0_col4, #T_47780_row0_col5, #T_47780_row0_col6, #T_47780_row0_col7, #T_47780_row1_col0, #T_47780_row1_col1, #T_47780_row1_col2, #T_47780_row1_col3, #T_47780_row1_col4, #T_47780_row1_col5, #T_47780_row1_col6, #T_47780_row1_col7, #T_47780_row2_col0, #T_47780_row2_col1, #T_47780_row2_col2, #T_47780_row2_col3, #T_47780_row2_col4, #T_47780_row2_col5, #T_47780_row2_col6, #T_47780_row2_col7, #T_47780_row3_col0, #T_47780_row3_col1, #T_47780_row3_col2, #T_47780_row3_col3, #T_47780_row3_col4, #T_47780_row3_col5, #T_47780_row3_col6, #T_47780_row3_col7, #T_47780_row4_col0, #T_47780_row4_col1, #T_47780_row4_col2, #T_47780_row4_col3, #T_47780_row4_col4, #T_47780_row4_col5, #T_47780_row4_col6, #T_47780_row4_col7 {\n",
       "  background-color: #000000;\n",
       "  color: #FFEA20;\n",
       "  border: 0.2px solid white;\n",
       "}\n",
       "</style>\n",
       "<table id=\"T_47780_\">\n",
       "  <thead>\n",
       "    <tr>\n",
       "      <th class=\"blank level0\" >&nbsp;</th>\n",
       "      <th class=\"col_heading level0 col0\" >CustomerID</th>\n",
       "      <th class=\"col_heading level0 col1\" >recency</th>\n",
       "      <th class=\"col_heading level0 col2\" >frequency</th>\n",
       "      <th class=\"col_heading level0 col3\" >monetary</th>\n",
       "      <th class=\"col_heading level0 col4\" >recency_score</th>\n",
       "      <th class=\"col_heading level0 col5\" >frequency_score</th>\n",
       "      <th class=\"col_heading level0 col6\" >monetary_score</th>\n",
       "      <th class=\"col_heading level0 col7\" >RFM_SCORE</th>\n",
       "    </tr>\n",
       "  </thead>\n",
       "  <tbody>\n",
       "    <tr>\n",
       "      <th id=\"T_47780_level0_row0\" class=\"row_heading level0 row0\" >0</th>\n",
       "      <td id=\"T_47780_row0_col0\" class=\"data row0 col0\" >12346.000000</td>\n",
       "      <td id=\"T_47780_row0_col1\" class=\"data row0 col1\" >326</td>\n",
       "      <td id=\"T_47780_row0_col2\" class=\"data row0 col2\" >1</td>\n",
       "      <td id=\"T_47780_row0_col3\" class=\"data row0 col3\" >77183.600000</td>\n",
       "      <td id=\"T_47780_row0_col4\" class=\"data row0 col4\" >1</td>\n",
       "      <td id=\"T_47780_row0_col5\" class=\"data row0 col5\" >1</td>\n",
       "      <td id=\"T_47780_row0_col6\" class=\"data row0 col6\" >5</td>\n",
       "      <td id=\"T_47780_row0_col7\" class=\"data row0 col7\" >11</td>\n",
       "    </tr>\n",
       "    <tr>\n",
       "      <th id=\"T_47780_level0_row1\" class=\"row_heading level0 row1\" >1</th>\n",
       "      <td id=\"T_47780_row1_col0\" class=\"data row1 col0\" >12347.000000</td>\n",
       "      <td id=\"T_47780_row1_col1\" class=\"data row1 col1\" >3</td>\n",
       "      <td id=\"T_47780_row1_col2\" class=\"data row1 col2\" >7</td>\n",
       "      <td id=\"T_47780_row1_col3\" class=\"data row1 col3\" >4310.000000</td>\n",
       "      <td id=\"T_47780_row1_col4\" class=\"data row1 col4\" >5</td>\n",
       "      <td id=\"T_47780_row1_col5\" class=\"data row1 col5\" >5</td>\n",
       "      <td id=\"T_47780_row1_col6\" class=\"data row1 col6\" >5</td>\n",
       "      <td id=\"T_47780_row1_col7\" class=\"data row1 col7\" >55</td>\n",
       "    </tr>\n",
       "    <tr>\n",
       "      <th id=\"T_47780_level0_row2\" class=\"row_heading level0 row2\" >2</th>\n",
       "      <td id=\"T_47780_row2_col0\" class=\"data row2 col0\" >12348.000000</td>\n",
       "      <td id=\"T_47780_row2_col1\" class=\"data row2 col1\" >76</td>\n",
       "      <td id=\"T_47780_row2_col2\" class=\"data row2 col2\" >4</td>\n",
       "      <td id=\"T_47780_row2_col3\" class=\"data row2 col3\" >1797.240000</td>\n",
       "      <td id=\"T_47780_row2_col4\" class=\"data row2 col4\" >2</td>\n",
       "      <td id=\"T_47780_row2_col5\" class=\"data row2 col5\" >4</td>\n",
       "      <td id=\"T_47780_row2_col6\" class=\"data row2 col6\" >4</td>\n",
       "      <td id=\"T_47780_row2_col7\" class=\"data row2 col7\" >24</td>\n",
       "    </tr>\n",
       "    <tr>\n",
       "      <th id=\"T_47780_level0_row3\" class=\"row_heading level0 row3\" >3</th>\n",
       "      <td id=\"T_47780_row3_col0\" class=\"data row3 col0\" >12349.000000</td>\n",
       "      <td id=\"T_47780_row3_col1\" class=\"data row3 col1\" >19</td>\n",
       "      <td id=\"T_47780_row3_col2\" class=\"data row3 col2\" >1</td>\n",
       "      <td id=\"T_47780_row3_col3\" class=\"data row3 col3\" >1757.550000</td>\n",
       "      <td id=\"T_47780_row3_col4\" class=\"data row3 col4\" >4</td>\n",
       "      <td id=\"T_47780_row3_col5\" class=\"data row3 col5\" >1</td>\n",
       "      <td id=\"T_47780_row3_col6\" class=\"data row3 col6\" >4</td>\n",
       "      <td id=\"T_47780_row3_col7\" class=\"data row3 col7\" >41</td>\n",
       "    </tr>\n",
       "    <tr>\n",
       "      <th id=\"T_47780_level0_row4\" class=\"row_heading level0 row4\" >4</th>\n",
       "      <td id=\"T_47780_row4_col0\" class=\"data row4 col0\" >12350.000000</td>\n",
       "      <td id=\"T_47780_row4_col1\" class=\"data row4 col1\" >311</td>\n",
       "      <td id=\"T_47780_row4_col2\" class=\"data row4 col2\" >1</td>\n",
       "      <td id=\"T_47780_row4_col3\" class=\"data row4 col3\" >334.400000</td>\n",
       "      <td id=\"T_47780_row4_col4\" class=\"data row4 col4\" >1</td>\n",
       "      <td id=\"T_47780_row4_col5\" class=\"data row4 col5\" >1</td>\n",
       "      <td id=\"T_47780_row4_col6\" class=\"data row4 col6\" >2</td>\n",
       "      <td id=\"T_47780_row4_col7\" class=\"data row4 col7\" >11</td>\n",
       "    </tr>\n",
       "  </tbody>\n",
       "</table>\n"
      ],
      "text/plain": [
       "<pandas.io.formats.style.Styler at 0x7f82369c4a10>"
      ]
     },
     "execution_count": 18,
     "metadata": {},
     "output_type": "execute_result"
    }
   ],
   "source": [
    "# Oluşturacağımız fonksiyon ile RFM skorlarını belirleyelim.\n",
    "\n",
    "def get_rfm_scores(dataframe):\n",
    "\n",
    "    dataframe[\"recency_score\"] = pd.qcut(dataframe[\"recency\"], 5, labels=[5, 4, 3, 2, 1])\n",
    "    dataframe[\"frequency_score\"] = pd.qcut(dataframe[\"frequency\"].rank(method='first'), 5, labels=[1, 2, 3, 4, 5])\n",
    "    dataframe[\"monetary_score\"] = pd.qcut(dataframe[\"monetary\"], 5, labels=[1, 2, 3, 4, 5])\n",
    "    dataframe[\"RFM_SCORE\"] = dataframe[\"recency_score\"].astype(str) + dataframe[\"frequency_score\"].astype(str)\n",
    "\n",
    "    return dataframe\n",
    "\n",
    "get_rfm_scores(rfm)\n",
    "rfm = rfm.reset_index()\n",
    "rfm.head().style.set_properties(**{\"background-color\": \"#000000\",\"color\":\"#FFEA20\",\"border\": \"0.2px solid white\"})"
   ]
  },
  {
   "cell_type": "markdown",
   "id": "49d70cc6",
   "metadata": {
    "papermill": {
     "duration": 0.017255,
     "end_time": "2023-03-08T07:47:07.727030",
     "exception": false,
     "start_time": "2023-03-08T07:47:07.709775",
     "status": "completed"
    },
    "tags": []
   },
   "source": [
    "<p style= \"background-color:#000000;font-family:Georgia;color:#FEFBE9;font-size:300%;text-align:center;border-radius:20px 60px;overflow:hidden;border-style:dotted;border-width:1.8px;border-color:#FEFBE9;\"><b>CREATING & ANALYISIN RFM SEGMENTS</b></p>"
   ]
  },
  {
   "cell_type": "code",
   "execution_count": 19,
   "id": "a28c3ac4",
   "metadata": {
    "execution": {
     "iopub.execute_input": "2023-03-08T07:47:07.764622Z",
     "iopub.status.busy": "2023-03-08T07:47:07.763788Z",
     "iopub.status.idle": "2023-03-08T07:47:07.862879Z",
     "shell.execute_reply": "2023-03-08T07:47:07.861589Z"
    },
    "papermill": {
     "duration": 0.121028,
     "end_time": "2023-03-08T07:47:07.865596",
     "exception": false,
     "start_time": "2023-03-08T07:47:07.744568",
     "status": "completed"
    },
    "tags": []
   },
   "outputs": [
    {
     "data": {
      "text/html": [
       "<style type=\"text/css\">\n",
       "#T_3efa5_row0_col0, #T_3efa5_row0_col1, #T_3efa5_row0_col2, #T_3efa5_row0_col3, #T_3efa5_row0_col4, #T_3efa5_row0_col5, #T_3efa5_row0_col6, #T_3efa5_row0_col7, #T_3efa5_row0_col8, #T_3efa5_row1_col0, #T_3efa5_row1_col1, #T_3efa5_row1_col2, #T_3efa5_row1_col3, #T_3efa5_row1_col4, #T_3efa5_row1_col5, #T_3efa5_row1_col6, #T_3efa5_row1_col7, #T_3efa5_row1_col8, #T_3efa5_row2_col0, #T_3efa5_row2_col1, #T_3efa5_row2_col2, #T_3efa5_row2_col3, #T_3efa5_row2_col4, #T_3efa5_row2_col5, #T_3efa5_row2_col6, #T_3efa5_row2_col7, #T_3efa5_row2_col8, #T_3efa5_row3_col0, #T_3efa5_row3_col1, #T_3efa5_row3_col2, #T_3efa5_row3_col3, #T_3efa5_row3_col4, #T_3efa5_row3_col5, #T_3efa5_row3_col6, #T_3efa5_row3_col7, #T_3efa5_row3_col8, #T_3efa5_row4_col0, #T_3efa5_row4_col1, #T_3efa5_row4_col2, #T_3efa5_row4_col3, #T_3efa5_row4_col4, #T_3efa5_row4_col5, #T_3efa5_row4_col6, #T_3efa5_row4_col7, #T_3efa5_row4_col8 {\n",
       "  background-color: #000000;\n",
       "  color: #FFEA20;\n",
       "  border: 0.2px solid white;\n",
       "}\n",
       "</style>\n",
       "<table id=\"T_3efa5_\">\n",
       "  <thead>\n",
       "    <tr>\n",
       "      <th class=\"blank level0\" >&nbsp;</th>\n",
       "      <th class=\"col_heading level0 col0\" >CustomerID</th>\n",
       "      <th class=\"col_heading level0 col1\" >recency</th>\n",
       "      <th class=\"col_heading level0 col2\" >frequency</th>\n",
       "      <th class=\"col_heading level0 col3\" >monetary</th>\n",
       "      <th class=\"col_heading level0 col4\" >recency_score</th>\n",
       "      <th class=\"col_heading level0 col5\" >frequency_score</th>\n",
       "      <th class=\"col_heading level0 col6\" >monetary_score</th>\n",
       "      <th class=\"col_heading level0 col7\" >RFM_SCORE</th>\n",
       "      <th class=\"col_heading level0 col8\" >segment</th>\n",
       "    </tr>\n",
       "  </thead>\n",
       "  <tbody>\n",
       "    <tr>\n",
       "      <th id=\"T_3efa5_level0_row0\" class=\"row_heading level0 row0\" >0</th>\n",
       "      <td id=\"T_3efa5_row0_col0\" class=\"data row0 col0\" >12346.000000</td>\n",
       "      <td id=\"T_3efa5_row0_col1\" class=\"data row0 col1\" >326</td>\n",
       "      <td id=\"T_3efa5_row0_col2\" class=\"data row0 col2\" >1</td>\n",
       "      <td id=\"T_3efa5_row0_col3\" class=\"data row0 col3\" >77183.600000</td>\n",
       "      <td id=\"T_3efa5_row0_col4\" class=\"data row0 col4\" >1</td>\n",
       "      <td id=\"T_3efa5_row0_col5\" class=\"data row0 col5\" >1</td>\n",
       "      <td id=\"T_3efa5_row0_col6\" class=\"data row0 col6\" >5</td>\n",
       "      <td id=\"T_3efa5_row0_col7\" class=\"data row0 col7\" >11</td>\n",
       "      <td id=\"T_3efa5_row0_col8\" class=\"data row0 col8\" >hibernating</td>\n",
       "    </tr>\n",
       "    <tr>\n",
       "      <th id=\"T_3efa5_level0_row1\" class=\"row_heading level0 row1\" >1</th>\n",
       "      <td id=\"T_3efa5_row1_col0\" class=\"data row1 col0\" >12347.000000</td>\n",
       "      <td id=\"T_3efa5_row1_col1\" class=\"data row1 col1\" >3</td>\n",
       "      <td id=\"T_3efa5_row1_col2\" class=\"data row1 col2\" >7</td>\n",
       "      <td id=\"T_3efa5_row1_col3\" class=\"data row1 col3\" >4310.000000</td>\n",
       "      <td id=\"T_3efa5_row1_col4\" class=\"data row1 col4\" >5</td>\n",
       "      <td id=\"T_3efa5_row1_col5\" class=\"data row1 col5\" >5</td>\n",
       "      <td id=\"T_3efa5_row1_col6\" class=\"data row1 col6\" >5</td>\n",
       "      <td id=\"T_3efa5_row1_col7\" class=\"data row1 col7\" >55</td>\n",
       "      <td id=\"T_3efa5_row1_col8\" class=\"data row1 col8\" >champions</td>\n",
       "    </tr>\n",
       "    <tr>\n",
       "      <th id=\"T_3efa5_level0_row2\" class=\"row_heading level0 row2\" >2</th>\n",
       "      <td id=\"T_3efa5_row2_col0\" class=\"data row2 col0\" >12348.000000</td>\n",
       "      <td id=\"T_3efa5_row2_col1\" class=\"data row2 col1\" >76</td>\n",
       "      <td id=\"T_3efa5_row2_col2\" class=\"data row2 col2\" >4</td>\n",
       "      <td id=\"T_3efa5_row2_col3\" class=\"data row2 col3\" >1797.240000</td>\n",
       "      <td id=\"T_3efa5_row2_col4\" class=\"data row2 col4\" >2</td>\n",
       "      <td id=\"T_3efa5_row2_col5\" class=\"data row2 col5\" >4</td>\n",
       "      <td id=\"T_3efa5_row2_col6\" class=\"data row2 col6\" >4</td>\n",
       "      <td id=\"T_3efa5_row2_col7\" class=\"data row2 col7\" >24</td>\n",
       "      <td id=\"T_3efa5_row2_col8\" class=\"data row2 col8\" >at_Risk</td>\n",
       "    </tr>\n",
       "    <tr>\n",
       "      <th id=\"T_3efa5_level0_row3\" class=\"row_heading level0 row3\" >3</th>\n",
       "      <td id=\"T_3efa5_row3_col0\" class=\"data row3 col0\" >12349.000000</td>\n",
       "      <td id=\"T_3efa5_row3_col1\" class=\"data row3 col1\" >19</td>\n",
       "      <td id=\"T_3efa5_row3_col2\" class=\"data row3 col2\" >1</td>\n",
       "      <td id=\"T_3efa5_row3_col3\" class=\"data row3 col3\" >1757.550000</td>\n",
       "      <td id=\"T_3efa5_row3_col4\" class=\"data row3 col4\" >4</td>\n",
       "      <td id=\"T_3efa5_row3_col5\" class=\"data row3 col5\" >1</td>\n",
       "      <td id=\"T_3efa5_row3_col6\" class=\"data row3 col6\" >4</td>\n",
       "      <td id=\"T_3efa5_row3_col7\" class=\"data row3 col7\" >41</td>\n",
       "      <td id=\"T_3efa5_row3_col8\" class=\"data row3 col8\" >promising</td>\n",
       "    </tr>\n",
       "    <tr>\n",
       "      <th id=\"T_3efa5_level0_row4\" class=\"row_heading level0 row4\" >4</th>\n",
       "      <td id=\"T_3efa5_row4_col0\" class=\"data row4 col0\" >12350.000000</td>\n",
       "      <td id=\"T_3efa5_row4_col1\" class=\"data row4 col1\" >311</td>\n",
       "      <td id=\"T_3efa5_row4_col2\" class=\"data row4 col2\" >1</td>\n",
       "      <td id=\"T_3efa5_row4_col3\" class=\"data row4 col3\" >334.400000</td>\n",
       "      <td id=\"T_3efa5_row4_col4\" class=\"data row4 col4\" >1</td>\n",
       "      <td id=\"T_3efa5_row4_col5\" class=\"data row4 col5\" >1</td>\n",
       "      <td id=\"T_3efa5_row4_col6\" class=\"data row4 col6\" >2</td>\n",
       "      <td id=\"T_3efa5_row4_col7\" class=\"data row4 col7\" >11</td>\n",
       "      <td id=\"T_3efa5_row4_col8\" class=\"data row4 col8\" >hibernating</td>\n",
       "    </tr>\n",
       "  </tbody>\n",
       "</table>\n"
      ],
      "text/plain": [
       "<pandas.io.formats.style.Styler at 0x7f8234890350>"
      ]
     },
     "execution_count": 19,
     "metadata": {},
     "output_type": "execute_result"
    }
   ],
   "source": [
    "# RFM skorlarından faydalanarak RFM segmentlerini belirleyelim.\n",
    "\n",
    "seg_map = {\n",
    "    r'[1-2][1-2]': 'hibernating',\n",
    "    r'[1-2][3-4]': 'at_Risk',\n",
    "    r'[1-2]5': 'cant_loose',\n",
    "    r'3[1-2]': 'about_to_sleep',\n",
    "    r'33': 'need_attention',\n",
    "    r'[3-4][4-5]': 'loyal_customers',\n",
    "    r'41': 'promising',\n",
    "    r'51': 'new_customers',\n",
    "    r'[4-5][2-3]': 'potential_loyalists',\n",
    "    r'5[4-5]': 'champions'\n",
    "}\n",
    "\n",
    "rfm['segment'] = rfm['RFM_SCORE'].replace(seg_map, regex = True)\n",
    "\n",
    "rfm.head().style.set_properties(**{\"background-color\": \"#000000\",\"color\":\"#FFEA20\",\"border\": \"0.2px solid white\"})"
   ]
  },
  {
   "cell_type": "code",
   "execution_count": 20,
   "id": "0c5fd453",
   "metadata": {
    "execution": {
     "iopub.execute_input": "2023-03-08T07:47:07.903627Z",
     "iopub.status.busy": "2023-03-08T07:47:07.902548Z",
     "iopub.status.idle": "2023-03-08T07:47:07.946711Z",
     "shell.execute_reply": "2023-03-08T07:47:07.945276Z"
    },
    "papermill": {
     "duration": 0.066156,
     "end_time": "2023-03-08T07:47:07.949399",
     "exception": false,
     "start_time": "2023-03-08T07:47:07.883243",
     "status": "completed"
    },
    "tags": []
   },
   "outputs": [
    {
     "data": {
      "text/html": [
       "<style type=\"text/css\">\n",
       "#T_41dee_row0_col0, #T_41dee_row0_col1, #T_41dee_row0_col2, #T_41dee_row0_col3, #T_41dee_row0_col4, #T_41dee_row0_col5, #T_41dee_row1_col0, #T_41dee_row1_col1, #T_41dee_row1_col2, #T_41dee_row1_col3, #T_41dee_row1_col4, #T_41dee_row1_col5, #T_41dee_row2_col0, #T_41dee_row2_col1, #T_41dee_row2_col2, #T_41dee_row2_col3, #T_41dee_row2_col4, #T_41dee_row2_col5, #T_41dee_row3_col0, #T_41dee_row3_col1, #T_41dee_row3_col2, #T_41dee_row3_col3, #T_41dee_row3_col4, #T_41dee_row3_col5, #T_41dee_row4_col0, #T_41dee_row4_col1, #T_41dee_row4_col2, #T_41dee_row4_col3, #T_41dee_row4_col4, #T_41dee_row4_col5, #T_41dee_row5_col0, #T_41dee_row5_col1, #T_41dee_row5_col2, #T_41dee_row5_col3, #T_41dee_row5_col4, #T_41dee_row5_col5, #T_41dee_row6_col0, #T_41dee_row6_col1, #T_41dee_row6_col2, #T_41dee_row6_col3, #T_41dee_row6_col4, #T_41dee_row6_col5, #T_41dee_row7_col0, #T_41dee_row7_col1, #T_41dee_row7_col2, #T_41dee_row7_col3, #T_41dee_row7_col4, #T_41dee_row7_col5, #T_41dee_row8_col0, #T_41dee_row8_col1, #T_41dee_row8_col2, #T_41dee_row8_col3, #T_41dee_row8_col4, #T_41dee_row8_col5, #T_41dee_row9_col0, #T_41dee_row9_col1, #T_41dee_row9_col2, #T_41dee_row9_col3, #T_41dee_row9_col4, #T_41dee_row9_col5 {\n",
       "  background-color: #000000;\n",
       "  color: #FFEA20;\n",
       "  border: 0.2px solid white;\n",
       "}\n",
       "</style>\n",
       "<table id=\"T_41dee_\">\n",
       "  <thead>\n",
       "    <tr>\n",
       "      <th class=\"blank level0\" >&nbsp;</th>\n",
       "      <th class=\"col_heading level0 col0\" colspan=\"2\">recency</th>\n",
       "      <th class=\"col_heading level0 col2\" colspan=\"2\">frequency</th>\n",
       "      <th class=\"col_heading level0 col4\" colspan=\"2\">monetary</th>\n",
       "    </tr>\n",
       "    <tr>\n",
       "      <th class=\"blank level1\" >&nbsp;</th>\n",
       "      <th class=\"col_heading level1 col0\" >mean</th>\n",
       "      <th class=\"col_heading level1 col1\" >count</th>\n",
       "      <th class=\"col_heading level1 col2\" >mean</th>\n",
       "      <th class=\"col_heading level1 col3\" >count</th>\n",
       "      <th class=\"col_heading level1 col4\" >mean</th>\n",
       "      <th class=\"col_heading level1 col5\" >count</th>\n",
       "    </tr>\n",
       "    <tr>\n",
       "      <th class=\"index_name level0\" >segment</th>\n",
       "      <th class=\"blank col0\" >&nbsp;</th>\n",
       "      <th class=\"blank col1\" >&nbsp;</th>\n",
       "      <th class=\"blank col2\" >&nbsp;</th>\n",
       "      <th class=\"blank col3\" >&nbsp;</th>\n",
       "      <th class=\"blank col4\" >&nbsp;</th>\n",
       "      <th class=\"blank col5\" >&nbsp;</th>\n",
       "    </tr>\n",
       "  </thead>\n",
       "  <tbody>\n",
       "    <tr>\n",
       "      <th id=\"T_41dee_level0_row0\" class=\"row_heading level0 row0\" >about_to_sleep</th>\n",
       "      <td id=\"T_41dee_row0_col0\" class=\"data row0 col0\" >53.312500</td>\n",
       "      <td id=\"T_41dee_row0_col1\" class=\"data row0 col1\" >352</td>\n",
       "      <td id=\"T_41dee_row0_col2\" class=\"data row0 col2\" >1.161932</td>\n",
       "      <td id=\"T_41dee_row0_col3\" class=\"data row0 col3\" >352</td>\n",
       "      <td id=\"T_41dee_row0_col4\" class=\"data row0 col4\" >471.994375</td>\n",
       "      <td id=\"T_41dee_row0_col5\" class=\"data row0 col5\" >352</td>\n",
       "    </tr>\n",
       "    <tr>\n",
       "      <th id=\"T_41dee_level0_row1\" class=\"row_heading level0 row1\" >at_Risk</th>\n",
       "      <td id=\"T_41dee_row1_col0\" class=\"data row1 col0\" >153.785835</td>\n",
       "      <td id=\"T_41dee_row1_col1\" class=\"data row1 col1\" >593</td>\n",
       "      <td id=\"T_41dee_row1_col2\" class=\"data row1 col2\" >2.878583</td>\n",
       "      <td id=\"T_41dee_row1_col3\" class=\"data row1 col3\" >593</td>\n",
       "      <td id=\"T_41dee_row1_col4\" class=\"data row1 col4\" >1084.535297</td>\n",
       "      <td id=\"T_41dee_row1_col5\" class=\"data row1 col5\" >593</td>\n",
       "    </tr>\n",
       "    <tr>\n",
       "      <th id=\"T_41dee_level0_row2\" class=\"row_heading level0 row2\" >cant_loose</th>\n",
       "      <td id=\"T_41dee_row2_col0\" class=\"data row2 col0\" >132.968254</td>\n",
       "      <td id=\"T_41dee_row2_col1\" class=\"data row2 col1\" >63</td>\n",
       "      <td id=\"T_41dee_row2_col2\" class=\"data row2 col2\" >8.380952</td>\n",
       "      <td id=\"T_41dee_row2_col3\" class=\"data row2 col3\" >63</td>\n",
       "      <td id=\"T_41dee_row2_col4\" class=\"data row2 col4\" >2796.155873</td>\n",
       "      <td id=\"T_41dee_row2_col5\" class=\"data row2 col5\" >63</td>\n",
       "    </tr>\n",
       "    <tr>\n",
       "      <th id=\"T_41dee_level0_row3\" class=\"row_heading level0 row3\" >champions</th>\n",
       "      <td id=\"T_41dee_row3_col0\" class=\"data row3 col0\" >6.361769</td>\n",
       "      <td id=\"T_41dee_row3_col1\" class=\"data row3 col1\" >633</td>\n",
       "      <td id=\"T_41dee_row3_col2\" class=\"data row3 col2\" >12.417062</td>\n",
       "      <td id=\"T_41dee_row3_col3\" class=\"data row3 col3\" >633</td>\n",
       "      <td id=\"T_41dee_row3_col4\" class=\"data row3 col4\" >6857.963918</td>\n",
       "      <td id=\"T_41dee_row3_col5\" class=\"data row3 col5\" >633</td>\n",
       "    </tr>\n",
       "    <tr>\n",
       "      <th id=\"T_41dee_level0_row4\" class=\"row_heading level0 row4\" >hibernating</th>\n",
       "      <td id=\"T_41dee_row4_col0\" class=\"data row4 col0\" >217.605042</td>\n",
       "      <td id=\"T_41dee_row4_col1\" class=\"data row4 col1\" >1071</td>\n",
       "      <td id=\"T_41dee_row4_col2\" class=\"data row4 col2\" >1.101774</td>\n",
       "      <td id=\"T_41dee_row4_col3\" class=\"data row4 col3\" >1071</td>\n",
       "      <td id=\"T_41dee_row4_col4\" class=\"data row4 col4\" >488.643307</td>\n",
       "      <td id=\"T_41dee_row4_col5\" class=\"data row4 col5\" >1071</td>\n",
       "    </tr>\n",
       "    <tr>\n",
       "      <th id=\"T_41dee_level0_row5\" class=\"row_heading level0 row5\" >loyal_customers</th>\n",
       "      <td id=\"T_41dee_row5_col0\" class=\"data row5 col0\" >33.608059</td>\n",
       "      <td id=\"T_41dee_row5_col1\" class=\"data row5 col1\" >819</td>\n",
       "      <td id=\"T_41dee_row5_col2\" class=\"data row5 col2\" >6.479853</td>\n",
       "      <td id=\"T_41dee_row5_col3\" class=\"data row5 col3\" >819</td>\n",
       "      <td id=\"T_41dee_row5_col4\" class=\"data row5 col4\" >2864.247791</td>\n",
       "      <td id=\"T_41dee_row5_col5\" class=\"data row5 col5\" >819</td>\n",
       "    </tr>\n",
       "    <tr>\n",
       "      <th id=\"T_41dee_level0_row6\" class=\"row_heading level0 row6\" >need_attention</th>\n",
       "      <td id=\"T_41dee_row6_col0\" class=\"data row6 col0\" >52.427807</td>\n",
       "      <td id=\"T_41dee_row6_col1\" class=\"data row6 col1\" >187</td>\n",
       "      <td id=\"T_41dee_row6_col2\" class=\"data row6 col2\" >2.326203</td>\n",
       "      <td id=\"T_41dee_row6_col3\" class=\"data row6 col3\" >187</td>\n",
       "      <td id=\"T_41dee_row6_col4\" class=\"data row6 col4\" >897.627861</td>\n",
       "      <td id=\"T_41dee_row6_col5\" class=\"data row6 col5\" >187</td>\n",
       "    </tr>\n",
       "    <tr>\n",
       "      <th id=\"T_41dee_level0_row7\" class=\"row_heading level0 row7\" >new_customers</th>\n",
       "      <td id=\"T_41dee_row7_col0\" class=\"data row7 col0\" >7.428571</td>\n",
       "      <td id=\"T_41dee_row7_col1\" class=\"data row7 col1\" >42</td>\n",
       "      <td id=\"T_41dee_row7_col2\" class=\"data row7 col2\" >1.000000</td>\n",
       "      <td id=\"T_41dee_row7_col3\" class=\"data row7 col3\" >42</td>\n",
       "      <td id=\"T_41dee_row7_col4\" class=\"data row7 col4\" >388.212857</td>\n",
       "      <td id=\"T_41dee_row7_col5\" class=\"data row7 col5\" >42</td>\n",
       "    </tr>\n",
       "    <tr>\n",
       "      <th id=\"T_41dee_level0_row8\" class=\"row_heading level0 row8\" >potential_loyalists</th>\n",
       "      <td id=\"T_41dee_row8_col0\" class=\"data row8 col0\" >17.398760</td>\n",
       "      <td id=\"T_41dee_row8_col1\" class=\"data row8 col1\" >484</td>\n",
       "      <td id=\"T_41dee_row8_col2\" class=\"data row8 col2\" >2.010331</td>\n",
       "      <td id=\"T_41dee_row8_col3\" class=\"data row8 col3\" >484</td>\n",
       "      <td id=\"T_41dee_row8_col4\" class=\"data row8 col4\" >1041.222004</td>\n",
       "      <td id=\"T_41dee_row8_col5\" class=\"data row8 col5\" >484</td>\n",
       "    </tr>\n",
       "    <tr>\n",
       "      <th id=\"T_41dee_level0_row9\" class=\"row_heading level0 row9\" >promising</th>\n",
       "      <td id=\"T_41dee_row9_col0\" class=\"data row9 col0\" >23.510638</td>\n",
       "      <td id=\"T_41dee_row9_col1\" class=\"data row9 col1\" >94</td>\n",
       "      <td id=\"T_41dee_row9_col2\" class=\"data row9 col2\" >1.000000</td>\n",
       "      <td id=\"T_41dee_row9_col3\" class=\"data row9 col3\" >94</td>\n",
       "      <td id=\"T_41dee_row9_col4\" class=\"data row9 col4\" >294.007979</td>\n",
       "      <td id=\"T_41dee_row9_col5\" class=\"data row9 col5\" >94</td>\n",
       "    </tr>\n",
       "  </tbody>\n",
       "</table>\n"
      ],
      "text/plain": [
       "<pandas.io.formats.style.Styler at 0x7f823028dfd0>"
      ]
     },
     "execution_count": 20,
     "metadata": {},
     "output_type": "execute_result"
    }
   ],
   "source": [
    "# Dha etkili yorumlarda bulunabilmek için segmentler kırılımında değişkenlerimize bir takım işlemler uygulayabiliriz.\n",
    "rfm[[\"segment\", \"recency\", \"frequency\", \"monetary\"]].groupby(\"segment\").agg([\"mean\", \"count\"]).style.set_properties(**{\"background-color\": \"#000000\",\"color\":\"#FFEA20\",\"border\": \"0.2px solid white\"})"
   ]
  },
  {
   "cell_type": "code",
   "execution_count": 21,
   "id": "ef35c42a",
   "metadata": {
    "execution": {
     "iopub.execute_input": "2023-03-08T07:47:07.988825Z",
     "iopub.status.busy": "2023-03-08T07:47:07.988406Z",
     "iopub.status.idle": "2023-03-08T07:47:08.012042Z",
     "shell.execute_reply": "2023-03-08T07:47:08.010836Z"
    },
    "papermill": {
     "duration": 0.047055,
     "end_time": "2023-03-08T07:47:08.014716",
     "exception": false,
     "start_time": "2023-03-08T07:47:07.967661",
     "status": "completed"
    },
    "tags": []
   },
   "outputs": [
    {
     "data": {
      "text/html": [
       "<style type=\"text/css\">\n",
       "#T_a8c36_row0_col0, #T_a8c36_row0_col1, #T_a8c36_row0_col2, #T_a8c36_row0_col3, #T_a8c36_row0_col4, #T_a8c36_row0_col5, #T_a8c36_row0_col6, #T_a8c36_row0_col7, #T_a8c36_row0_col8, #T_a8c36_row1_col0, #T_a8c36_row1_col1, #T_a8c36_row1_col2, #T_a8c36_row1_col3, #T_a8c36_row1_col4, #T_a8c36_row1_col5, #T_a8c36_row1_col6, #T_a8c36_row1_col7, #T_a8c36_row1_col8, #T_a8c36_row2_col0, #T_a8c36_row2_col1, #T_a8c36_row2_col2, #T_a8c36_row2_col3, #T_a8c36_row2_col4, #T_a8c36_row2_col5, #T_a8c36_row2_col6, #T_a8c36_row2_col7, #T_a8c36_row2_col8, #T_a8c36_row3_col0, #T_a8c36_row3_col1, #T_a8c36_row3_col2, #T_a8c36_row3_col3, #T_a8c36_row3_col4, #T_a8c36_row3_col5, #T_a8c36_row3_col6, #T_a8c36_row3_col7, #T_a8c36_row3_col8, #T_a8c36_row4_col0, #T_a8c36_row4_col1, #T_a8c36_row4_col2, #T_a8c36_row4_col3, #T_a8c36_row4_col4, #T_a8c36_row4_col5, #T_a8c36_row4_col6, #T_a8c36_row4_col7, #T_a8c36_row4_col8 {\n",
       "  background-color: #000000;\n",
       "  color: #FFEA20;\n",
       "  border: 0.2px solid white;\n",
       "}\n",
       "</style>\n",
       "<table id=\"T_a8c36_\">\n",
       "  <thead>\n",
       "    <tr>\n",
       "      <th class=\"blank level0\" >&nbsp;</th>\n",
       "      <th class=\"col_heading level0 col0\" >CustomerID</th>\n",
       "      <th class=\"col_heading level0 col1\" >recency</th>\n",
       "      <th class=\"col_heading level0 col2\" >frequency</th>\n",
       "      <th class=\"col_heading level0 col3\" >monetary</th>\n",
       "      <th class=\"col_heading level0 col4\" >recency_score</th>\n",
       "      <th class=\"col_heading level0 col5\" >frequency_score</th>\n",
       "      <th class=\"col_heading level0 col6\" >monetary_score</th>\n",
       "      <th class=\"col_heading level0 col7\" >RFM_SCORE</th>\n",
       "      <th class=\"col_heading level0 col8\" >segment</th>\n",
       "    </tr>\n",
       "  </thead>\n",
       "  <tbody>\n",
       "    <tr>\n",
       "      <th id=\"T_a8c36_level0_row0\" class=\"row_heading level0 row0\" >241</th>\n",
       "      <td id=\"T_a8c36_row0_col0\" class=\"data row0 col0\" >12643.000000</td>\n",
       "      <td id=\"T_a8c36_row0_col1\" class=\"data row0 col1\" >129</td>\n",
       "      <td id=\"T_a8c36_row0_col2\" class=\"data row0 col2\" >6</td>\n",
       "      <td id=\"T_a8c36_row0_col3\" class=\"data row0 col3\" >3344.640000</td>\n",
       "      <td id=\"T_a8c36_row0_col4\" class=\"data row0 col4\" >2</td>\n",
       "      <td id=\"T_a8c36_row0_col5\" class=\"data row0 col5\" >5</td>\n",
       "      <td id=\"T_a8c36_row0_col6\" class=\"data row0 col6\" >5</td>\n",
       "      <td id=\"T_a8c36_row0_col7\" class=\"data row0 col7\" >25</td>\n",
       "      <td id=\"T_a8c36_row0_col8\" class=\"data row0 col8\" >cant_loose</td>\n",
       "    </tr>\n",
       "    <tr>\n",
       "      <th id=\"T_a8c36_level0_row1\" class=\"row_heading level0 row1\" >400</th>\n",
       "      <td id=\"T_a8c36_row1_col0\" class=\"data row1 col0\" >12853.000000</td>\n",
       "      <td id=\"T_a8c36_row1_col1\" class=\"data row1 col1\" >135</td>\n",
       "      <td id=\"T_a8c36_row1_col2\" class=\"data row1 col2\" >6</td>\n",
       "      <td id=\"T_a8c36_row1_col3\" class=\"data row1 col3\" >1957.100000</td>\n",
       "      <td id=\"T_a8c36_row1_col4\" class=\"data row1 col4\" >2</td>\n",
       "      <td id=\"T_a8c36_row1_col5\" class=\"data row1 col5\" >5</td>\n",
       "      <td id=\"T_a8c36_row1_col6\" class=\"data row1 col6\" >4</td>\n",
       "      <td id=\"T_a8c36_row1_col7\" class=\"data row1 col7\" >25</td>\n",
       "      <td id=\"T_a8c36_row1_col8\" class=\"data row1 col8\" >cant_loose</td>\n",
       "    </tr>\n",
       "    <tr>\n",
       "      <th id=\"T_a8c36_level0_row2\" class=\"row_heading level0 row2\" >410</th>\n",
       "      <td id=\"T_a8c36_row2_col0\" class=\"data row2 col0\" >12868.000000</td>\n",
       "      <td id=\"T_a8c36_row2_col1\" class=\"data row2 col1\" >186</td>\n",
       "      <td id=\"T_a8c36_row2_col2\" class=\"data row2 col2\" >6</td>\n",
       "      <td id=\"T_a8c36_row2_col3\" class=\"data row2 col3\" >1607.060000</td>\n",
       "      <td id=\"T_a8c36_row2_col4\" class=\"data row2 col4\" >1</td>\n",
       "      <td id=\"T_a8c36_row2_col5\" class=\"data row2 col5\" >5</td>\n",
       "      <td id=\"T_a8c36_row2_col6\" class=\"data row2 col6\" >4</td>\n",
       "      <td id=\"T_a8c36_row2_col7\" class=\"data row2 col7\" >15</td>\n",
       "      <td id=\"T_a8c36_row2_col8\" class=\"data row2 col8\" >cant_loose</td>\n",
       "    </tr>\n",
       "    <tr>\n",
       "      <th id=\"T_a8c36_level0_row3\" class=\"row_heading level0 row3\" >464</th>\n",
       "      <td id=\"T_a8c36_row3_col0\" class=\"data row3 col0\" >12947.000000</td>\n",
       "      <td id=\"T_a8c36_row3_col1\" class=\"data row3 col1\" >144</td>\n",
       "      <td id=\"T_a8c36_row3_col2\" class=\"data row3 col2\" >6</td>\n",
       "      <td id=\"T_a8c36_row3_col3\" class=\"data row3 col3\" >1603.990000</td>\n",
       "      <td id=\"T_a8c36_row3_col4\" class=\"data row3 col4\" >2</td>\n",
       "      <td id=\"T_a8c36_row3_col5\" class=\"data row3 col5\" >5</td>\n",
       "      <td id=\"T_a8c36_row3_col6\" class=\"data row3 col6\" >4</td>\n",
       "      <td id=\"T_a8c36_row3_col7\" class=\"data row3 col7\" >25</td>\n",
       "      <td id=\"T_a8c36_row3_col8\" class=\"data row3 col8\" >cant_loose</td>\n",
       "    </tr>\n",
       "    <tr>\n",
       "      <th id=\"T_a8c36_level0_row4\" class=\"row_heading level0 row4\" >485</th>\n",
       "      <td id=\"T_a8c36_row4_col0\" class=\"data row4 col0\" >12980.000000</td>\n",
       "      <td id=\"T_a8c36_row4_col1\" class=\"data row4 col1\" >158</td>\n",
       "      <td id=\"T_a8c36_row4_col2\" class=\"data row4 col2\" >9</td>\n",
       "      <td id=\"T_a8c36_row4_col3\" class=\"data row4 col3\" >7374.900000</td>\n",
       "      <td id=\"T_a8c36_row4_col4\" class=\"data row4 col4\" >2</td>\n",
       "      <td id=\"T_a8c36_row4_col5\" class=\"data row4 col5\" >5</td>\n",
       "      <td id=\"T_a8c36_row4_col6\" class=\"data row4 col6\" >5</td>\n",
       "      <td id=\"T_a8c36_row4_col7\" class=\"data row4 col7\" >25</td>\n",
       "      <td id=\"T_a8c36_row4_col8\" class=\"data row4 col8\" >cant_loose</td>\n",
       "    </tr>\n",
       "  </tbody>\n",
       "</table>\n"
      ],
      "text/plain": [
       "<pandas.io.formats.style.Styler at 0x7f823026b5d0>"
      ]
     },
     "execution_count": 21,
     "metadata": {},
     "output_type": "execute_result"
    }
   ],
   "source": [
    "# Kritik aşamada olan, kaybedilmemesi gerek müşterilerimizi görelim.\n",
    "rfm[rfm[\"segment\"] == \"cant_loose\"].head().style.set_properties(**{\"background-color\": \"#000000\",\"color\":\"#FFEA20\",\"border\": \"0.2px solid white\"})"
   ]
  },
  {
   "cell_type": "markdown",
   "id": "c3ecf47c",
   "metadata": {
    "papermill": {
     "duration": 0.018442,
     "end_time": "2023-03-08T07:47:08.051872",
     "exception": false,
     "start_time": "2023-03-08T07:47:08.033430",
     "status": "completed"
    },
    "tags": []
   },
   "source": [
    "<p style= \"background-color:#000000;font-family:Georgia;color:#FEFBE9;font-size:300%;text-align:center;border-radius:20px 60px;overflow:hidden;border-style:dotted;border-width:1.8px;border-color:#FEFBE9;\"><b>RFM MODEL EVALUATION & COHORT ANALYSIS</b></p>"
   ]
  },
  {
   "cell_type": "code",
   "execution_count": 22,
   "id": "508bdd26",
   "metadata": {
    "execution": {
     "iopub.execute_input": "2023-03-08T07:47:08.091726Z",
     "iopub.status.busy": "2023-03-08T07:47:08.090933Z",
     "iopub.status.idle": "2023-03-08T07:47:08.447801Z",
     "shell.execute_reply": "2023-03-08T07:47:08.446367Z"
    },
    "papermill": {
     "duration": 0.38006,
     "end_time": "2023-03-08T07:47:08.450666",
     "exception": false,
     "start_time": "2023-03-08T07:47:08.070606",
     "status": "completed"
    },
    "tags": []
   },
   "outputs": [
    {
     "name": "stdout",
     "output_type": "stream",
     "text": [
      "************************ RFM Model Evaluation ************************\n",
      "Number of Observations: 4338\n",
      "Number of Segments: 10\n",
      "Silhouette Score: 0.471\n",
      "Calinski Harabasz Score: 4590.526\n",
      "Davies Bouldin Score: 0.633 \n",
      "**********************************************************************\n"
     ]
    }
   ],
   "source": [
    "# RFM modelimizi aşağıdaki kriterler özelinde değerlendirelim.\n",
    "\n",
    "print(' RFM Model Evaluation '.center(70, '*'))\n",
    "X = rfm[['recency_score', 'frequency_score']]\n",
    "labels = rfm['segment']\n",
    "print(f'Number of Observations: {X.shape[0]}')\n",
    "print(f'Number of Segments: {labels.nunique()}')\n",
    "print(f'Silhouette Score: {round(silhouette_score(X, labels), 3)}')\n",
    "print(f'Calinski Harabasz Score: {round(calinski_harabasz_score(X, labels), 3)}')\n",
    "print(f'Davies Bouldin Score: {round(davies_bouldin_score(X, labels), 3)} \\n{70*\"*\"}')"
   ]
  },
  {
   "cell_type": "code",
   "execution_count": 23,
   "id": "38f10a77",
   "metadata": {
    "execution": {
     "iopub.execute_input": "2023-03-08T07:47:08.490073Z",
     "iopub.status.busy": "2023-03-08T07:47:08.489163Z",
     "iopub.status.idle": "2023-03-08T07:47:08.961462Z",
     "shell.execute_reply": "2023-03-08T07:47:08.960537Z"
    },
    "papermill": {
     "duration": 0.494763,
     "end_time": "2023-03-08T07:47:08.963996",
     "exception": false,
     "start_time": "2023-03-08T07:47:08.469233",
     "status": "completed"
    },
    "tags": []
   },
   "outputs": [
    {
     "data": {
      "text/plain": [
       "<Figure size 2000x1500 with 0 Axes>"
      ]
     },
     "metadata": {},
     "output_type": "display_data"
    },
    {
     "data": {
      "image/png": "[encoded data removed]",
      "text/plain": [
       "<Figure size 2000x1000 with 1 Axes>"
      ]
     },
     "metadata": {},
     "output_type": "display_data"
    }
   ],
   "source": [
    "# RFM segmentlerimizi bir grafik üzerinde çok daha kolay anlamlandırabiliriz.\n",
    "\n",
    "background = \"#313332\"\n",
    "backgroundr = \"#6D6D6D\"\n",
    "text_color = \"w\"\n",
    "title_font=\"Alegreya Sans\"\n",
    "\n",
    "plt.figure(figsize=(20,15))\n",
    "fig, ax = plt.subplots(figsize=(20,10))\n",
    "ax.patch.set_facecolor(backgroundr)\n",
    "fig.set_facecolor(backgroundr)\n",
    "fig.facecolor=\"white\"\n",
    "fig.edgecolor=\"white\"\n",
    "\n",
    "ax.grid(ls=\"dotted\",lw=0.5,color=\"lightgrey\",zorder=1)\n",
    "bar_ap = sns.countplot(data = rfm,\n",
    "                   x = 'segment')\n",
    "total = len(rfm.segment)\n",
    "for patch in ax.patches:\n",
    "    percentage = '{:.1f}%'.format(100 * patch.get_height()/total)\n",
    "    x = patch.get_x() + patch.get_width() / 2 - 0.17\n",
    "    y = patch.get_y() + patch.get_height() * 1.005\n",
    "    ax.annotate(percentage, (x, y), size = 14)\n",
    "bar_ap.set_xticklabels(bar_ap.get_xticklabels(), rotation=90)\n",
    "plt.title('Number of Customers by Segments', size = 16, color=text_color)\n",
    "plt.ylabel('Count', size = 14,color=\"white\" )\n",
    "plt.xlabel(\"SEGMENT\",fontsize = 14,color=\"white\" )\n",
    "plt.xticks(size = 10)\n",
    "plt.yticks(size = 10)\n",
    "plt.show()\n"
   ]
  },
  {
   "cell_type": "code",
   "execution_count": 24,
   "id": "97f6fea4",
   "metadata": {
    "execution": {
     "iopub.execute_input": "2023-03-08T07:47:09.006039Z",
     "iopub.status.busy": "2023-03-08T07:47:09.005039Z",
     "iopub.status.idle": "2023-03-08T07:47:09.371534Z",
     "shell.execute_reply": "2023-03-08T07:47:09.370531Z"
    },
    "papermill": {
     "duration": 0.390991,
     "end_time": "2023-03-08T07:47:09.374898",
     "exception": false,
     "start_time": "2023-03-08T07:47:08.983907",
     "status": "completed"
    },
    "tags": []
   },
   "outputs": [
    {
     "data": {
      "image/png": "[encoded data removed]",
      "text/plain": [
       "<Figure size 1600x1000 with 1 Axes>"
      ]
     },
     "metadata": {},
     "output_type": "display_data"
    }
   ],
   "source": [
    "# Çalışmamızın müşteri segmentasyon haritası:\n",
    "\n",
    "segments = rfm[\"segment\"].value_counts().sort_values(ascending=False)\n",
    "fig = plt.gcf()\n",
    "ax = fig.add_subplot()\n",
    "fig.set_size_inches(16, 10)\n",
    "squarify.plot(\n",
    "    sizes=segments,\n",
    "    label=[label for label in seg_map.values()],\n",
    "    color=[\n",
    "        \"#AFB6B5\",\n",
    "        \"#F0819A\",\n",
    "        \"#926717\",\n",
    "        \"#F0F081\",\n",
    "        \"#81D5F0\",\n",
    "        \"#C78BE5\",\n",
    "        \"#748E80\",\n",
    "        \"#FAAF3A\",\n",
    "        \"#7B8FE4\",\n",
    "        \"#86E8C0\",\n",
    "    ],\n",
    "    pad=False,\n",
    "    bar_kwargs={\"alpha\": 1},\n",
    "    text_kwargs={\"fontsize\": 15},\n",
    ")\n",
    "plt.title(\"Customer Segmentation Map\", fontsize=20)\n",
    "plt.xlabel(\"Frequency\", fontsize=18)\n",
    "plt.ylabel(\"Recency\", fontsize=18)\n",
    "plt.show()"
   ]
  },
  {
   "cell_type": "code",
   "execution_count": 25,
   "id": "ee90a138",
   "metadata": {
    "execution": {
     "iopub.execute_input": "2023-03-08T07:47:09.420745Z",
     "iopub.status.busy": "2023-03-08T07:47:09.420128Z",
     "iopub.status.idle": "2023-03-08T07:47:10.143031Z",
     "shell.execute_reply": "2023-03-08T07:47:10.141858Z"
    },
    "papermill": {
     "duration": 0.750748,
     "end_time": "2023-03-08T07:47:10.147230",
     "exception": false,
     "start_time": "2023-03-08T07:47:09.396482",
     "status": "completed"
    },
    "tags": []
   },
   "outputs": [
    {
     "data": {
      "image/png": "[encoded data removed]",
      "text/plain": [
       "<Figure size 1800x800 with 1 Axes>"
      ]
     },
     "metadata": {},
     "output_type": "display_data"
    }
   ],
   "source": [
    "\n",
    "plt.figure(figsize=(18, 8))\n",
    "sns.scatterplot(data=rfm, x=\"recency\", y=\"frequency\", hue=\"segment\", palette=palette, s=60)\n",
    "plt.title(\"Recency & Frequency by Segments\", size=16)\n",
    "plt.xlabel(\"Recency\", size=12)\n",
    "plt.ylabel(\"Frequency\", size=12)\n",
    "plt.xticks(size=10)\n",
    "plt.yticks(size=10)\n",
    "plt.legend(loc=\"best\", fontsize=12, title=\"Segments\", title_fontsize=14)\n",
    "plt.show()"
   ]
  },
  {
   "cell_type": "code",
   "execution_count": 26,
   "id": "e0759d43",
   "metadata": {
    "execution": {
     "iopub.execute_input": "2023-03-08T07:47:10.199466Z",
     "iopub.status.busy": "2023-03-08T07:47:10.199003Z",
     "iopub.status.idle": "2023-03-08T07:47:11.562166Z",
     "shell.execute_reply": "2023-03-08T07:47:11.560946Z"
    },
    "papermill": {
     "duration": 1.393413,
     "end_time": "2023-03-08T07:47:11.565810",
     "exception": false,
     "start_time": "2023-03-08T07:47:10.172397",
     "status": "completed"
    },
    "tags": []
   },
   "outputs": [
    {
     "data": {
      "image/png": "[encoded data removed]",
      "text/plain": [
       "<Figure size 1200x800 with 2 Axes>"
      ]
     },
     "metadata": {},
     "output_type": "display_data"
    }
   ],
   "source": [
    "# Kohort Analizinde, bazı ortak kalıpları veya davranışlarında bulunan kullanici gruplarini kullanıcı gruplarını zaman içinde izleriz.\n",
    "def CohortAnalysis(dataframe):\n",
    "\n",
    "    dataframe = dataframe[[\"CustomerID\", \"Invoice\", \"InvoiceDate\"]].drop_duplicates()\n",
    "    dataframe[\"order_month\"] = dataframe[\"InvoiceDate\"].dt.to_period(\"M\")\n",
    "    dataframe[\"cohort\"] = (dataframe.groupby(\"CustomerID\")[\"InvoiceDate\"].transform(\"min\").dt.to_period(\"M\"))\n",
    "    cohort_data = (dataframe.groupby([\"cohort\", \"order_month\"]).agg(n_customers=(\"CustomerID\", \"nunique\")).reset_index(drop=False))\n",
    "    cohort_data[\"period_number\"] = (cohort_data.order_month - cohort_data.cohort).apply(attrgetter(\"n\"))\n",
    "    cohort_pivot = cohort_data.pivot_table(index=\"cohort\", columns=\"period_number\", values=\"n_customers\")\n",
    "    cohort_size = cohort_pivot.iloc[:, 0]\n",
    "    retention_matrix = cohort_pivot.divide(cohort_size, axis=0)\n",
    "    with sns.axes_style(\"white\"):\n",
    "        fig, ax = plt.subplots(1, 2, figsize=(12, 8), sharey=True, gridspec_kw={\"width_ratios\": [1, 11]})\n",
    "        sns.heatmap(retention_matrix,mask=retention_matrix.isnull(), annot=True, cbar=False, fmt=\".0%\", cmap=\"coolwarm\", ax=ax[1],)\n",
    "        ax[1].set_title(\"Monthly Cohorts: User Retention\", fontsize=14)\n",
    "        ax[1].set(xlabel=\"# of periods\", ylabel=\"\")\n",
    "        white_cmap = mcolors.ListedColormap([\"white\"])\n",
    "        sns.heatmap(pd.DataFrame(cohort_size).rename(columns={0: \"cohort_size\"}),annot=True,cbar=False,fmt=\"g\",cmap=white_cmap,ax=ax[0],)\n",
    "        fig.tight_layout()\n",
    "    \n",
    "CohortAnalysis(df)"
   ]
  },
  {
   "cell_type": "code",
   "execution_count": 27,
   "id": "b0f9f203",
   "metadata": {
    "execution": {
     "iopub.execute_input": "2023-03-08T07:47:11.623968Z",
     "iopub.status.busy": "2023-03-08T07:47:11.623208Z",
     "iopub.status.idle": "2023-03-08T07:47:11.650996Z",
     "shell.execute_reply": "2023-03-08T07:47:11.650050Z"
    },
    "papermill": {
     "duration": 0.060021,
     "end_time": "2023-03-08T07:47:11.653674",
     "exception": false,
     "start_time": "2023-03-08T07:47:11.593653",
     "status": "completed"
    },
    "tags": []
   },
   "outputs": [],
   "source": [
    "rfm.to_csv(\"/kaggle/working/rfm.csv\")"
   ]
  },
  {
   "cell_type": "markdown",
   "id": "c79f27b6",
   "metadata": {
    "papermill": {
     "duration": 0.027606,
     "end_time": "2023-03-08T07:47:11.709232",
     "exception": false,
     "start_time": "2023-03-08T07:47:11.681626",
     "status": "completed"
    },
    "tags": []
   },
   "source": [
    "<p style= \"background-color:#000000;font-family:Georgia;color:#FEFBE9;font-size:300%;text-align:center;border-radius:20px 60px;overflow:hidden;border-style:dotted;border-width:1.8px;border-color:#FEFBE9;\"><b>CUSTOMER LIFETIME VALUE</b></p>\n",
    "\n",
    "* Formula\n",
    "\n",
    "Probabilistic lifetime value estimation with time projection\n",
    "    \n",
    "    \n",
    "*     average_order_value = total_price / total_transaction)\n",
    "*     Purchase Frequency (total_transaction / total_number_of_customers)\n",
    "*     Repeat Rate & Churn Rate\n",
    "*     profit_margin =  total_price * 0.10\n",
    "*     customer_value = average_order_value * purchase_frequency)\n",
    "*     CLTV = (customer_value / churn_rate) x profit_margin)\n",
    "*     Segmentation\n",
    "*     CLTV = Expected Number of Transaction(BG/NBD) * Expected Average Profit(gamma gamma)\n",
    "\n",
    "Above, purchase frequency and number of transaction mean the same thing. Likewise, Average Order Value and Average Profit mean the same thing. It differs with the Expected part that happens to them.\n",
    "\n",
    "CAUTION: It will add a probabilistic distribution. Expected statement refers to this part. Expected number of purchases, expected profitability.\n",
    "\n",
    "BG / NBD = Expected Transaction\n",
    "Gamma Gamma = Expected Profit\n",
    "\n",
    "*    recency: the difference between the customer's last purchase and his first purchase\n",
    "*    T: the age of the client in the company\n",
    "*    frequency: total number of repeat purchases\n",
    "*    monetary_value: average earnings per purchase"
   ]
  },
  {
   "cell_type": "code",
   "execution_count": 28,
   "id": "36ac0b57",
   "metadata": {
    "execution": {
     "iopub.execute_input": "2023-03-08T07:47:11.767460Z",
     "iopub.status.busy": "2023-03-08T07:47:11.767000Z",
     "iopub.status.idle": "2023-03-08T07:47:12.622789Z",
     "shell.execute_reply": "2023-03-08T07:47:12.621357Z"
    },
    "papermill": {
     "duration": 0.888968,
     "end_time": "2023-03-08T07:47:12.626363",
     "exception": false,
     "start_time": "2023-03-08T07:47:11.737395",
     "status": "completed"
    },
    "tags": []
   },
   "outputs": [
    {
     "data": {
      "text/html": [
       "<style type=\"text/css\">\n",
       "#T_500e4_row0_col0, #T_500e4_row0_col1, #T_500e4_row0_col2, #T_500e4_row1_col0, #T_500e4_row1_col1, #T_500e4_row1_col2, #T_500e4_row2_col0, #T_500e4_row2_col1, #T_500e4_row2_col2, #T_500e4_row3_col0, #T_500e4_row3_col1, #T_500e4_row3_col2, #T_500e4_row4_col0, #T_500e4_row4_col1, #T_500e4_row4_col2 {\n",
       "  background-color: #000000;\n",
       "  color: #FFEA20;\n",
       "  border: 0.2px solid white;\n",
       "}\n",
       "</style>\n",
       "<table id=\"T_500e4_\">\n",
       "  <thead>\n",
       "    <tr>\n",
       "      <th class=\"blank level0\" >&nbsp;</th>\n",
       "      <th class=\"col_heading level0 col0\" >total_transaction</th>\n",
       "      <th class=\"col_heading level0 col1\" >total_unit</th>\n",
       "      <th class=\"col_heading level0 col2\" >total_price</th>\n",
       "    </tr>\n",
       "    <tr>\n",
       "      <th class=\"index_name level0\" >CustomerID</th>\n",
       "      <th class=\"blank col0\" >&nbsp;</th>\n",
       "      <th class=\"blank col1\" >&nbsp;</th>\n",
       "      <th class=\"blank col2\" >&nbsp;</th>\n",
       "    </tr>\n",
       "  </thead>\n",
       "  <tbody>\n",
       "    <tr>\n",
       "      <th id=\"T_500e4_level0_row0\" class=\"row_heading level0 row0\" >12346.0</th>\n",
       "      <td id=\"T_500e4_row0_col0\" class=\"data row0 col0\" >1</td>\n",
       "      <td id=\"T_500e4_row0_col1\" class=\"data row0 col1\" >253</td>\n",
       "      <td id=\"T_500e4_row0_col2\" class=\"data row0 col2\" >77183.600000</td>\n",
       "    </tr>\n",
       "    <tr>\n",
       "      <th id=\"T_500e4_level0_row1\" class=\"row_heading level0 row1\" >12347.0</th>\n",
       "      <td id=\"T_500e4_row1_col0\" class=\"data row1 col0\" >7</td>\n",
       "      <td id=\"T_500e4_row1_col1\" class=\"data row1 col1\" >2458</td>\n",
       "      <td id=\"T_500e4_row1_col2\" class=\"data row1 col2\" >4310.000000</td>\n",
       "    </tr>\n",
       "    <tr>\n",
       "      <th id=\"T_500e4_level0_row2\" class=\"row_heading level0 row2\" >12348.0</th>\n",
       "      <td id=\"T_500e4_row2_col0\" class=\"data row2 col0\" >4</td>\n",
       "      <td id=\"T_500e4_row2_col1\" class=\"data row2 col1\" >2341</td>\n",
       "      <td id=\"T_500e4_row2_col2\" class=\"data row2 col2\" >1797.240000</td>\n",
       "    </tr>\n",
       "    <tr>\n",
       "      <th id=\"T_500e4_level0_row3\" class=\"row_heading level0 row3\" >12349.0</th>\n",
       "      <td id=\"T_500e4_row3_col0\" class=\"data row3 col0\" >1</td>\n",
       "      <td id=\"T_500e4_row3_col1\" class=\"data row3 col1\" >631</td>\n",
       "      <td id=\"T_500e4_row3_col2\" class=\"data row3 col2\" >1757.550000</td>\n",
       "    </tr>\n",
       "    <tr>\n",
       "      <th id=\"T_500e4_level0_row4\" class=\"row_heading level0 row4\" >12350.0</th>\n",
       "      <td id=\"T_500e4_row4_col0\" class=\"data row4 col0\" >1</td>\n",
       "      <td id=\"T_500e4_row4_col1\" class=\"data row4 col1\" >197</td>\n",
       "      <td id=\"T_500e4_row4_col2\" class=\"data row4 col2\" >334.400000</td>\n",
       "    </tr>\n",
       "  </tbody>\n",
       "</table>\n"
      ],
      "text/plain": [
       "<pandas.io.formats.style.Styler at 0x7f8234860e10>"
      ]
     },
     "execution_count": 28,
     "metadata": {},
     "output_type": "execute_result"
    }
   ],
   "source": [
    "# 'total_transaction' : Müşteri özelinde eşsiz fatura sayısı\n",
    "# 'total_unit'        : Müştei özelinde satın alınan toplam ürün adedi\n",
    "# 'total_price'        :  Müşteri özelinde toplam harcanan tutar\n",
    "\n",
    "cltv = df.groupby('CustomerID').agg({'Invoice': lambda x: x.nunique(),\n",
    "                                        'Quantity': lambda x: x.sum(),\n",
    "                                        'TotalPrice': lambda x: x.sum()})\n",
    "\n",
    "cltv.columns = ['total_transaction', 'total_unit', 'total_price']\n",
    "\n",
    "cltv.head().style.set_properties(**{\"background-color\": \"#000000\",\"color\":\"#FFEA20\",\"border\": \"0.2px solid white\"})\n"
   ]
  },
  {
   "cell_type": "code",
   "execution_count": 29,
   "id": "05577427",
   "metadata": {
    "execution": {
     "iopub.execute_input": "2023-03-08T07:47:12.690400Z",
     "iopub.status.busy": "2023-03-08T07:47:12.689228Z",
     "iopub.status.idle": "2023-03-08T07:47:12.717562Z",
     "shell.execute_reply": "2023-03-08T07:47:12.716667Z"
    },
    "papermill": {
     "duration": 0.06339,
     "end_time": "2023-03-08T07:47:12.719970",
     "exception": false,
     "start_time": "2023-03-08T07:47:12.656580",
     "status": "completed"
    },
    "tags": []
   },
   "outputs": [
    {
     "data": {
      "text/html": [
       "<style type=\"text/css\">\n",
       "#T_81b53_row0_col0, #T_81b53_row0_col1, #T_81b53_row0_col2, #T_81b53_row0_col3, #T_81b53_row0_col4, #T_81b53_row0_col5, #T_81b53_row0_col6, #T_81b53_row0_col7, #T_81b53_row1_col0, #T_81b53_row1_col1, #T_81b53_row1_col2, #T_81b53_row1_col3, #T_81b53_row1_col4, #T_81b53_row1_col5, #T_81b53_row1_col6, #T_81b53_row1_col7, #T_81b53_row2_col0, #T_81b53_row2_col1, #T_81b53_row2_col2, #T_81b53_row2_col3, #T_81b53_row2_col4, #T_81b53_row2_col5, #T_81b53_row2_col6, #T_81b53_row2_col7, #T_81b53_row3_col0, #T_81b53_row3_col1, #T_81b53_row3_col2, #T_81b53_row3_col3, #T_81b53_row3_col4, #T_81b53_row3_col5, #T_81b53_row3_col6, #T_81b53_row3_col7, #T_81b53_row4_col0, #T_81b53_row4_col1, #T_81b53_row4_col2, #T_81b53_row4_col3, #T_81b53_row4_col4, #T_81b53_row4_col5, #T_81b53_row4_col6, #T_81b53_row4_col7 {\n",
       "  background-color: #000000;\n",
       "  color: #FFEA20;\n",
       "  border: 0.2px solid white;\n",
       "}\n",
       "</style>\n",
       "<table id=\"T_81b53_\">\n",
       "  <thead>\n",
       "    <tr>\n",
       "      <th class=\"blank level0\" >&nbsp;</th>\n",
       "      <th class=\"col_heading level0 col0\" >total_transaction</th>\n",
       "      <th class=\"col_heading level0 col1\" >total_unit</th>\n",
       "      <th class=\"col_heading level0 col2\" >total_price</th>\n",
       "      <th class=\"col_heading level0 col3\" >average_order_value</th>\n",
       "      <th class=\"col_heading level0 col4\" >purchase_frequency</th>\n",
       "      <th class=\"col_heading level0 col5\" >profit_margin</th>\n",
       "      <th class=\"col_heading level0 col6\" >customer_value</th>\n",
       "      <th class=\"col_heading level0 col7\" >cltv</th>\n",
       "    </tr>\n",
       "    <tr>\n",
       "      <th class=\"index_name level0\" >CustomerID</th>\n",
       "      <th class=\"blank col0\" >&nbsp;</th>\n",
       "      <th class=\"blank col1\" >&nbsp;</th>\n",
       "      <th class=\"blank col2\" >&nbsp;</th>\n",
       "      <th class=\"blank col3\" >&nbsp;</th>\n",
       "      <th class=\"blank col4\" >&nbsp;</th>\n",
       "      <th class=\"blank col5\" >&nbsp;</th>\n",
       "      <th class=\"blank col6\" >&nbsp;</th>\n",
       "      <th class=\"blank col7\" >&nbsp;</th>\n",
       "    </tr>\n",
       "  </thead>\n",
       "  <tbody>\n",
       "    <tr>\n",
       "      <th id=\"T_81b53_level0_row0\" class=\"row_heading level0 row0\" >12346.0</th>\n",
       "      <td id=\"T_81b53_row0_col0\" class=\"data row0 col0\" >1</td>\n",
       "      <td id=\"T_81b53_row0_col1\" class=\"data row0 col1\" >253</td>\n",
       "      <td id=\"T_81b53_row0_col2\" class=\"data row0 col2\" >77183.600000</td>\n",
       "      <td id=\"T_81b53_row0_col3\" class=\"data row0 col3\" >77183.600000</td>\n",
       "      <td id=\"T_81b53_row0_col4\" class=\"data row0 col4\" >0.000230</td>\n",
       "      <td id=\"T_81b53_row0_col5\" class=\"data row0 col5\" >7718.360000</td>\n",
       "      <td id=\"T_81b53_row0_col6\" class=\"data row0 col6\" >17.788338</td>\n",
       "      <td id=\"T_81b53_row0_col7\" class=\"data row0 col7\" >398748.869408</td>\n",
       "    </tr>\n",
       "    <tr>\n",
       "      <th id=\"T_81b53_level0_row1\" class=\"row_heading level0 row1\" >12347.0</th>\n",
       "      <td id=\"T_81b53_row1_col0\" class=\"data row1 col0\" >7</td>\n",
       "      <td id=\"T_81b53_row1_col1\" class=\"data row1 col1\" >2458</td>\n",
       "      <td id=\"T_81b53_row1_col2\" class=\"data row1 col2\" >4310.000000</td>\n",
       "      <td id=\"T_81b53_row1_col3\" class=\"data row1 col3\" >615.714286</td>\n",
       "      <td id=\"T_81b53_row1_col4\" class=\"data row1 col4\" >0.001613</td>\n",
       "      <td id=\"T_81b53_row1_col5\" class=\"data row1 col5\" >431.000000</td>\n",
       "      <td id=\"T_81b53_row1_col6\" class=\"data row1 col6\" >0.993316</td>\n",
       "      <td id=\"T_81b53_row1_col7\" class=\"data row1 col7\" >1243.380187</td>\n",
       "    </tr>\n",
       "    <tr>\n",
       "      <th id=\"T_81b53_level0_row2\" class=\"row_heading level0 row2\" >12348.0</th>\n",
       "      <td id=\"T_81b53_row2_col0\" class=\"data row2 col0\" >4</td>\n",
       "      <td id=\"T_81b53_row2_col1\" class=\"data row2 col1\" >2341</td>\n",
       "      <td id=\"T_81b53_row2_col2\" class=\"data row2 col2\" >1797.240000</td>\n",
       "      <td id=\"T_81b53_row2_col3\" class=\"data row2 col3\" >449.310000</td>\n",
       "      <td id=\"T_81b53_row2_col4\" class=\"data row2 col4\" >0.000922</td>\n",
       "      <td id=\"T_81b53_row2_col5\" class=\"data row2 col5\" >179.724000</td>\n",
       "      <td id=\"T_81b53_row2_col6\" class=\"data row2 col6\" >0.414206</td>\n",
       "      <td id=\"T_81b53_row2_col7\" class=\"data row2 col7\" >216.202920</td>\n",
       "    </tr>\n",
       "    <tr>\n",
       "      <th id=\"T_81b53_level0_row3\" class=\"row_heading level0 row3\" >12349.0</th>\n",
       "      <td id=\"T_81b53_row3_col0\" class=\"data row3 col0\" >1</td>\n",
       "      <td id=\"T_81b53_row3_col1\" class=\"data row3 col1\" >631</td>\n",
       "      <td id=\"T_81b53_row3_col2\" class=\"data row3 col2\" >1757.550000</td>\n",
       "      <td id=\"T_81b53_row3_col3\" class=\"data row3 col3\" >1757.550000</td>\n",
       "      <td id=\"T_81b53_row3_col4\" class=\"data row3 col4\" >0.000230</td>\n",
       "      <td id=\"T_81b53_row3_col5\" class=\"data row3 col5\" >175.755000</td>\n",
       "      <td id=\"T_81b53_row3_col6\" class=\"data row3 col6\" >0.405059</td>\n",
       "      <td id=\"T_81b53_row3_col7\" class=\"data row3 col7\" >206.759170</td>\n",
       "    </tr>\n",
       "    <tr>\n",
       "      <th id=\"T_81b53_level0_row4\" class=\"row_heading level0 row4\" >12350.0</th>\n",
       "      <td id=\"T_81b53_row4_col0\" class=\"data row4 col0\" >1</td>\n",
       "      <td id=\"T_81b53_row4_col1\" class=\"data row4 col1\" >197</td>\n",
       "      <td id=\"T_81b53_row4_col2\" class=\"data row4 col2\" >334.400000</td>\n",
       "      <td id=\"T_81b53_row4_col3\" class=\"data row4 col3\" >334.400000</td>\n",
       "      <td id=\"T_81b53_row4_col4\" class=\"data row4 col4\" >0.000230</td>\n",
       "      <td id=\"T_81b53_row4_col5\" class=\"data row4 col5\" >33.440000</td>\n",
       "      <td id=\"T_81b53_row4_col6\" class=\"data row4 col6\" >0.077068</td>\n",
       "      <td id=\"T_81b53_row4_col7\" class=\"data row4 col7\" >7.484830</td>\n",
       "    </tr>\n",
       "  </tbody>\n",
       "</table>\n"
      ],
      "text/plain": [
       "<pandas.io.formats.style.Styler at 0x7f82337603d0>"
      ]
     },
     "execution_count": 29,
     "metadata": {},
     "output_type": "execute_result"
    }
   ],
   "source": [
    "# CLTV metriklerinin hesaplanması\n",
    "cltv[\"average_order_value\"] = cltv[\"total_price\"] / cltv[\"total_transaction\"]\n",
    "cltv[\"purchase_frequency\"] = cltv[\"total_transaction\"] / cltv.shape[0]\n",
    "repeat_rate = cltv[cltv[\"total_transaction\"] > 1].shape[0] / cltv.shape[0]\n",
    "churn_rate = 1 - repeat_rate\n",
    "cltv['profit_margin'] = cltv['total_price'] * 0.10\n",
    "cltv['customer_value'] = cltv['average_order_value'] * cltv[\"purchase_frequency\"]\n",
    "cltv[\"cltv\"] = (cltv[\"customer_value\"] / churn_rate) * cltv[\"profit_margin\"]\n",
    "\n",
    "cltv.head().style.set_properties(**{\"background-color\": \"#000000\",\"color\":\"#FFEA20\",\"border\": \"0.2px solid white\"})"
   ]
  },
  {
   "cell_type": "code",
   "execution_count": 30,
   "id": "23b7978d",
   "metadata": {
    "execution": {
     "iopub.execute_input": "2023-03-08T07:47:12.780510Z",
     "iopub.status.busy": "2023-03-08T07:47:12.779221Z",
     "iopub.status.idle": "2023-03-08T07:47:12.799872Z",
     "shell.execute_reply": "2023-03-08T07:47:12.798995Z"
    },
    "papermill": {
     "duration": 0.053167,
     "end_time": "2023-03-08T07:47:12.802148",
     "exception": false,
     "start_time": "2023-03-08T07:47:12.748981",
     "status": "completed"
    },
    "tags": []
   },
   "outputs": [
    {
     "data": {
      "text/html": [
       "<style type=\"text/css\">\n",
       "#T_e8442_row0_col0, #T_e8442_row0_col1, #T_e8442_row0_col2, #T_e8442_row0_col3, #T_e8442_row0_col4, #T_e8442_row0_col5, #T_e8442_row0_col6, #T_e8442_row0_col7, #T_e8442_row1_col0, #T_e8442_row1_col1, #T_e8442_row1_col2, #T_e8442_row1_col3, #T_e8442_row1_col4, #T_e8442_row1_col5, #T_e8442_row1_col6, #T_e8442_row1_col7, #T_e8442_row2_col0, #T_e8442_row2_col1, #T_e8442_row2_col2, #T_e8442_row2_col3, #T_e8442_row2_col4, #T_e8442_row2_col5, #T_e8442_row2_col6, #T_e8442_row2_col7, #T_e8442_row3_col0, #T_e8442_row3_col1, #T_e8442_row3_col2, #T_e8442_row3_col3, #T_e8442_row3_col4, #T_e8442_row3_col5, #T_e8442_row3_col6, #T_e8442_row3_col7, #T_e8442_row4_col0, #T_e8442_row4_col1, #T_e8442_row4_col2, #T_e8442_row4_col3, #T_e8442_row4_col4, #T_e8442_row4_col5, #T_e8442_row4_col6, #T_e8442_row4_col7 {\n",
       "  background-color: #000000;\n",
       "  color: #FFEA20;\n",
       "  border: 0.2px solid white;\n",
       "}\n",
       "</style>\n",
       "<table id=\"T_e8442_\">\n",
       "  <thead>\n",
       "    <tr>\n",
       "      <th class=\"blank level0\" >&nbsp;</th>\n",
       "      <th class=\"col_heading level0 col0\" >total_transaction</th>\n",
       "      <th class=\"col_heading level0 col1\" >total_unit</th>\n",
       "      <th class=\"col_heading level0 col2\" >total_price</th>\n",
       "      <th class=\"col_heading level0 col3\" >average_order_value</th>\n",
       "      <th class=\"col_heading level0 col4\" >purchase_frequency</th>\n",
       "      <th class=\"col_heading level0 col5\" >profit_margin</th>\n",
       "      <th class=\"col_heading level0 col6\" >customer_value</th>\n",
       "      <th class=\"col_heading level0 col7\" >cltv</th>\n",
       "    </tr>\n",
       "    <tr>\n",
       "      <th class=\"index_name level0\" >CustomerID</th>\n",
       "      <th class=\"blank col0\" >&nbsp;</th>\n",
       "      <th class=\"blank col1\" >&nbsp;</th>\n",
       "      <th class=\"blank col2\" >&nbsp;</th>\n",
       "      <th class=\"blank col3\" >&nbsp;</th>\n",
       "      <th class=\"blank col4\" >&nbsp;</th>\n",
       "      <th class=\"blank col5\" >&nbsp;</th>\n",
       "      <th class=\"blank col6\" >&nbsp;</th>\n",
       "      <th class=\"blank col7\" >&nbsp;</th>\n",
       "    </tr>\n",
       "  </thead>\n",
       "  <tbody>\n",
       "    <tr>\n",
       "      <th id=\"T_e8442_level0_row0\" class=\"row_heading level0 row0\" >14646.0</th>\n",
       "      <td id=\"T_e8442_row0_col0\" class=\"data row0 col0\" >74</td>\n",
       "      <td id=\"T_e8442_row0_col1\" class=\"data row0 col1\" >182169</td>\n",
       "      <td id=\"T_e8442_row0_col2\" class=\"data row0 col2\" >280206.020000</td>\n",
       "      <td id=\"T_e8442_row0_col3\" class=\"data row0 col3\" >3786.567838</td>\n",
       "      <td id=\"T_e8442_row0_col4\" class=\"data row0 col4\" >0.017055</td>\n",
       "      <td id=\"T_e8442_row0_col5\" class=\"data row0 col5\" >28020.602000</td>\n",
       "      <td id=\"T_e8442_row0_col6\" class=\"data row0 col6\" >64.578479</td>\n",
       "      <td id=\"T_e8442_row0_col7\" class=\"data row0 col7\" >5255382.439374</td>\n",
       "    </tr>\n",
       "    <tr>\n",
       "      <th id=\"T_e8442_level0_row1\" class=\"row_heading level0 row1\" >18102.0</th>\n",
       "      <td id=\"T_e8442_row1_col0\" class=\"data row1 col0\" >60</td>\n",
       "      <td id=\"T_e8442_row1_col1\" class=\"data row1 col1\" >51555</td>\n",
       "      <td id=\"T_e8442_row1_col2\" class=\"data row1 col2\" >259657.300000</td>\n",
       "      <td id=\"T_e8442_row1_col3\" class=\"data row1 col3\" >4327.621667</td>\n",
       "      <td id=\"T_e8442_row1_col4\" class=\"data row1 col4\" >0.013828</td>\n",
       "      <td id=\"T_e8442_row1_col5\" class=\"data row1 col5\" >25965.730000</td>\n",
       "      <td id=\"T_e8442_row1_col6\" class=\"data row1 col6\" >59.842660</td>\n",
       "      <td id=\"T_e8442_row1_col7\" class=\"data row1 col7\" >4512845.612001</td>\n",
       "    </tr>\n",
       "    <tr>\n",
       "      <th id=\"T_e8442_level0_row2\" class=\"row_heading level0 row2\" >17450.0</th>\n",
       "      <td id=\"T_e8442_row2_col0\" class=\"data row2 col0\" >46</td>\n",
       "      <td id=\"T_e8442_row2_col1\" class=\"data row2 col1\" >41234</td>\n",
       "      <td id=\"T_e8442_row2_col2\" class=\"data row2 col2\" >194550.790000</td>\n",
       "      <td id=\"T_e8442_row2_col3\" class=\"data row2 col3\" >4229.365000</td>\n",
       "      <td id=\"T_e8442_row2_col4\" class=\"data row2 col4\" >0.010602</td>\n",
       "      <td id=\"T_e8442_row2_col5\" class=\"data row2 col5\" >19455.079000</td>\n",
       "      <td id=\"T_e8442_row2_col6\" class=\"data row2 col6\" >44.837702</td>\n",
       "      <td id=\"T_e8442_row2_col7\" class=\"data row2 col7\" >2533467.864098</td>\n",
       "    </tr>\n",
       "    <tr>\n",
       "      <th id=\"T_e8442_level0_row3\" class=\"row_heading level0 row3\" >16446.0</th>\n",
       "      <td id=\"T_e8442_row3_col0\" class=\"data row3 col0\" >2</td>\n",
       "      <td id=\"T_e8442_row3_col1\" class=\"data row3 col1\" >255</td>\n",
       "      <td id=\"T_e8442_row3_col2\" class=\"data row3 col2\" >168472.500000</td>\n",
       "      <td id=\"T_e8442_row3_col3\" class=\"data row3 col3\" >84236.250000</td>\n",
       "      <td id=\"T_e8442_row3_col4\" class=\"data row3 col4\" >0.000461</td>\n",
       "      <td id=\"T_e8442_row3_col5\" class=\"data row3 col5\" >16847.250000</td>\n",
       "      <td id=\"T_e8442_row3_col6\" class=\"data row3 col6\" >38.827495</td>\n",
       "      <td id=\"T_e8442_row3_col7\" class=\"data row3 col7\" >1899798.076054</td>\n",
       "    </tr>\n",
       "    <tr>\n",
       "      <th id=\"T_e8442_level0_row4\" class=\"row_heading level0 row4\" >14911.0</th>\n",
       "      <td id=\"T_e8442_row4_col0\" class=\"data row4 col0\" >201</td>\n",
       "      <td id=\"T_e8442_row4_col1\" class=\"data row4 col1\" >79726</td>\n",
       "      <td id=\"T_e8442_row4_col2\" class=\"data row4 col2\" >143825.060000</td>\n",
       "      <td id=\"T_e8442_row4_col3\" class=\"data row4 col3\" >715.547562</td>\n",
       "      <td id=\"T_e8442_row4_col4\" class=\"data row4 col4\" >0.046324</td>\n",
       "      <td id=\"T_e8442_row4_col5\" class=\"data row4 col5\" >14382.506000</td>\n",
       "      <td id=\"T_e8442_row4_col6\" class=\"data row4 col6\" >33.147052</td>\n",
       "      <td id=\"T_e8442_row4_col7\" class=\"data row4 col7\" >1384581.518340</td>\n",
       "    </tr>\n",
       "  </tbody>\n",
       "</table>\n"
      ],
      "text/plain": [
       "<pandas.io.formats.style.Styler at 0x7f823442b0d0>"
      ]
     },
     "execution_count": 30,
     "metadata": {},
     "output_type": "execute_result"
    }
   ],
   "source": [
    "# Sıralı verimize bir göz atalım.\n",
    "cltv.sort_values(by=\"cltv\", ascending=False).head().style.set_properties(**{\"background-color\": \"#000000\",\"color\":\"#FFEA20\",\"border\": \"0.2px solid white\"})"
   ]
  },
  {
   "cell_type": "code",
   "execution_count": 31,
   "id": "b1be4854",
   "metadata": {
    "execution": {
     "iopub.execute_input": "2023-03-08T07:47:12.862887Z",
     "iopub.status.busy": "2023-03-08T07:47:12.861815Z",
     "iopub.status.idle": "2023-03-08T07:47:12.984828Z",
     "shell.execute_reply": "2023-03-08T07:47:12.983621Z"
    },
    "papermill": {
     "duration": 0.156277,
     "end_time": "2023-03-08T07:47:12.987439",
     "exception": false,
     "start_time": "2023-03-08T07:47:12.831162",
     "status": "completed"
    },
    "tags": []
   },
   "outputs": [
    {
     "data": {
      "text/html": [
       "<style type=\"text/css\">\n",
       "#T_d2976_row0_col0, #T_d2976_row0_col1, #T_d2976_row0_col2, #T_d2976_row0_col3, #T_d2976_row0_col4, #T_d2976_row0_col5, #T_d2976_row0_col6, #T_d2976_row0_col7, #T_d2976_row0_col8, #T_d2976_row0_col9, #T_d2976_row0_col10, #T_d2976_row0_col11, #T_d2976_row0_col12, #T_d2976_row0_col13, #T_d2976_row0_col14, #T_d2976_row0_col15, #T_d2976_row0_col16, #T_d2976_row0_col17, #T_d2976_row0_col18, #T_d2976_row0_col19, #T_d2976_row0_col20, #T_d2976_row0_col21, #T_d2976_row0_col22, #T_d2976_row0_col23, #T_d2976_row1_col0, #T_d2976_row1_col1, #T_d2976_row1_col2, #T_d2976_row1_col3, #T_d2976_row1_col4, #T_d2976_row1_col5, #T_d2976_row1_col6, #T_d2976_row1_col7, #T_d2976_row1_col8, #T_d2976_row1_col9, #T_d2976_row1_col10, #T_d2976_row1_col11, #T_d2976_row1_col12, #T_d2976_row1_col13, #T_d2976_row1_col14, #T_d2976_row1_col15, #T_d2976_row1_col16, #T_d2976_row1_col17, #T_d2976_row1_col18, #T_d2976_row1_col19, #T_d2976_row1_col20, #T_d2976_row1_col21, #T_d2976_row1_col22, #T_d2976_row1_col23, #T_d2976_row2_col0, #T_d2976_row2_col1, #T_d2976_row2_col2, #T_d2976_row2_col3, #T_d2976_row2_col4, #T_d2976_row2_col5, #T_d2976_row2_col6, #T_d2976_row2_col7, #T_d2976_row2_col8, #T_d2976_row2_col9, #T_d2976_row2_col10, #T_d2976_row2_col11, #T_d2976_row2_col12, #T_d2976_row2_col13, #T_d2976_row2_col14, #T_d2976_row2_col15, #T_d2976_row2_col16, #T_d2976_row2_col17, #T_d2976_row2_col18, #T_d2976_row2_col19, #T_d2976_row2_col20, #T_d2976_row2_col21, #T_d2976_row2_col22, #T_d2976_row2_col23, #T_d2976_row3_col0, #T_d2976_row3_col1, #T_d2976_row3_col2, #T_d2976_row3_col3, #T_d2976_row3_col4, #T_d2976_row3_col5, #T_d2976_row3_col6, #T_d2976_row3_col7, #T_d2976_row3_col8, #T_d2976_row3_col9, #T_d2976_row3_col10, #T_d2976_row3_col11, #T_d2976_row3_col12, #T_d2976_row3_col13, #T_d2976_row3_col14, #T_d2976_row3_col15, #T_d2976_row3_col16, #T_d2976_row3_col17, #T_d2976_row3_col18, #T_d2976_row3_col19, #T_d2976_row3_col20, #T_d2976_row3_col21, #T_d2976_row3_col22, #T_d2976_row3_col23 {\n",
       "  background-color: #000000;\n",
       "  color: #FFEA20;\n",
       "  border: 0.2px solid white;\n",
       "}\n",
       "</style>\n",
       "<table id=\"T_d2976_\">\n",
       "  <thead>\n",
       "    <tr>\n",
       "      <th class=\"blank level0\" >&nbsp;</th>\n",
       "      <th class=\"col_heading level0 col0\" colspan=\"3\">total_transaction</th>\n",
       "      <th class=\"col_heading level0 col3\" colspan=\"3\">total_unit</th>\n",
       "      <th class=\"col_heading level0 col6\" colspan=\"3\">total_price</th>\n",
       "      <th class=\"col_heading level0 col9\" colspan=\"3\">average_order_value</th>\n",
       "      <th class=\"col_heading level0 col12\" colspan=\"3\">purchase_frequency</th>\n",
       "      <th class=\"col_heading level0 col15\" colspan=\"3\">profit_margin</th>\n",
       "      <th class=\"col_heading level0 col18\" colspan=\"3\">customer_value</th>\n",
       "      <th class=\"col_heading level0 col21\" colspan=\"3\">cltv</th>\n",
       "    </tr>\n",
       "    <tr>\n",
       "      <th class=\"blank level1\" >&nbsp;</th>\n",
       "      <th class=\"col_heading level1 col0\" >count</th>\n",
       "      <th class=\"col_heading level1 col1\" >mean</th>\n",
       "      <th class=\"col_heading level1 col2\" >sum</th>\n",
       "      <th class=\"col_heading level1 col3\" >count</th>\n",
       "      <th class=\"col_heading level1 col4\" >mean</th>\n",
       "      <th class=\"col_heading level1 col5\" >sum</th>\n",
       "      <th class=\"col_heading level1 col6\" >count</th>\n",
       "      <th class=\"col_heading level1 col7\" >mean</th>\n",
       "      <th class=\"col_heading level1 col8\" >sum</th>\n",
       "      <th class=\"col_heading level1 col9\" >count</th>\n",
       "      <th class=\"col_heading level1 col10\" >mean</th>\n",
       "      <th class=\"col_heading level1 col11\" >sum</th>\n",
       "      <th class=\"col_heading level1 col12\" >count</th>\n",
       "      <th class=\"col_heading level1 col13\" >mean</th>\n",
       "      <th class=\"col_heading level1 col14\" >sum</th>\n",
       "      <th class=\"col_heading level1 col15\" >count</th>\n",
       "      <th class=\"col_heading level1 col16\" >mean</th>\n",
       "      <th class=\"col_heading level1 col17\" >sum</th>\n",
       "      <th class=\"col_heading level1 col18\" >count</th>\n",
       "      <th class=\"col_heading level1 col19\" >mean</th>\n",
       "      <th class=\"col_heading level1 col20\" >sum</th>\n",
       "      <th class=\"col_heading level1 col21\" >count</th>\n",
       "      <th class=\"col_heading level1 col22\" >mean</th>\n",
       "      <th class=\"col_heading level1 col23\" >sum</th>\n",
       "    </tr>\n",
       "    <tr>\n",
       "      <th class=\"index_name level0\" >segment</th>\n",
       "      <th class=\"blank col0\" >&nbsp;</th>\n",
       "      <th class=\"blank col1\" >&nbsp;</th>\n",
       "      <th class=\"blank col2\" >&nbsp;</th>\n",
       "      <th class=\"blank col3\" >&nbsp;</th>\n",
       "      <th class=\"blank col4\" >&nbsp;</th>\n",
       "      <th class=\"blank col5\" >&nbsp;</th>\n",
       "      <th class=\"blank col6\" >&nbsp;</th>\n",
       "      <th class=\"blank col7\" >&nbsp;</th>\n",
       "      <th class=\"blank col8\" >&nbsp;</th>\n",
       "      <th class=\"blank col9\" >&nbsp;</th>\n",
       "      <th class=\"blank col10\" >&nbsp;</th>\n",
       "      <th class=\"blank col11\" >&nbsp;</th>\n",
       "      <th class=\"blank col12\" >&nbsp;</th>\n",
       "      <th class=\"blank col13\" >&nbsp;</th>\n",
       "      <th class=\"blank col14\" >&nbsp;</th>\n",
       "      <th class=\"blank col15\" >&nbsp;</th>\n",
       "      <th class=\"blank col16\" >&nbsp;</th>\n",
       "      <th class=\"blank col17\" >&nbsp;</th>\n",
       "      <th class=\"blank col18\" >&nbsp;</th>\n",
       "      <th class=\"blank col19\" >&nbsp;</th>\n",
       "      <th class=\"blank col20\" >&nbsp;</th>\n",
       "      <th class=\"blank col21\" >&nbsp;</th>\n",
       "      <th class=\"blank col22\" >&nbsp;</th>\n",
       "      <th class=\"blank col23\" >&nbsp;</th>\n",
       "    </tr>\n",
       "  </thead>\n",
       "  <tbody>\n",
       "    <tr>\n",
       "      <th id=\"T_d2976_level0_row0\" class=\"row_heading level0 row0\" >D</th>\n",
       "      <td id=\"T_d2976_row0_col0\" class=\"data row0 col0\" >1085</td>\n",
       "      <td id=\"T_d2976_row0_col1\" class=\"data row0 col1\" >1.265438</td>\n",
       "      <td id=\"T_d2976_row0_col2\" class=\"data row0 col2\" >1373</td>\n",
       "      <td id=\"T_d2976_row0_col3\" class=\"data row0 col3\" >1085</td>\n",
       "      <td id=\"T_d2976_row0_col4\" class=\"data row0 col4\" >116.784332</td>\n",
       "      <td id=\"T_d2976_row0_col5\" class=\"data row0 col5\" >126711</td>\n",
       "      <td id=\"T_d2976_row0_col6\" class=\"data row0 col6\" >1085</td>\n",
       "      <td id=\"T_d2976_row0_col7\" class=\"data row0 col7\" >178.921742</td>\n",
       "      <td id=\"T_d2976_row0_col8\" class=\"data row0 col8\" >194130.090000</td>\n",
       "      <td id=\"T_d2976_row0_col9\" class=\"data row0 col9\" >1085</td>\n",
       "      <td id=\"T_d2976_row0_col10\" class=\"data row0 col10\" >154.896249</td>\n",
       "      <td id=\"T_d2976_row0_col11\" class=\"data row0 col11\" >168062.430595</td>\n",
       "      <td id=\"T_d2976_row0_col12\" class=\"data row0 col12\" >1085</td>\n",
       "      <td id=\"T_d2976_row0_col13\" class=\"data row0 col13\" >0.000292</td>\n",
       "      <td id=\"T_d2976_row0_col14\" class=\"data row0 col14\" >0.316432</td>\n",
       "      <td id=\"T_d2976_row0_col15\" class=\"data row0 col15\" >1085</td>\n",
       "      <td id=\"T_d2976_row0_col16\" class=\"data row0 col16\" >17.892174</td>\n",
       "      <td id=\"T_d2976_row0_col17\" class=\"data row0 col17\" >19413.009000</td>\n",
       "      <td id=\"T_d2976_row0_col18\" class=\"data row0 col18\" >1085</td>\n",
       "      <td id=\"T_d2976_row0_col19\" class=\"data row0 col19\" >0.041236</td>\n",
       "      <td id=\"T_d2976_row0_col20\" class=\"data row0 col20\" >44.740744</td>\n",
       "      <td id=\"T_d2976_row0_col21\" class=\"data row0 col21\" >1085</td>\n",
       "      <td id=\"T_d2976_row0_col22\" class=\"data row0 col22\" >2.496874</td>\n",
       "      <td id=\"T_d2976_row0_col23\" class=\"data row0 col23\" >2709.108074</td>\n",
       "    </tr>\n",
       "    <tr>\n",
       "      <th id=\"T_d2976_level0_row1\" class=\"row_heading level0 row1\" >C</th>\n",
       "      <td id=\"T_d2976_row1_col0\" class=\"data row1 col0\" >1085</td>\n",
       "      <td id=\"T_d2976_row1_col1\" class=\"data row1 col1\" >1.875576</td>\n",
       "      <td id=\"T_d2976_row1_col2\" class=\"data row1 col2\" >2035</td>\n",
       "      <td id=\"T_d2976_row1_col3\" class=\"data row1 col3\" >1085</td>\n",
       "      <td id=\"T_d2976_row1_col4\" class=\"data row1 col4\" >276.212903</td>\n",
       "      <td id=\"T_d2976_row1_col5\" class=\"data row1 col5\" >299691</td>\n",
       "      <td id=\"T_d2976_row1_col6\" class=\"data row1 col6\" >1085</td>\n",
       "      <td id=\"T_d2976_row1_col7\" class=\"data row1 col7\" >464.365762</td>\n",
       "      <td id=\"T_d2976_row1_col8\" class=\"data row1 col8\" >503836.852000</td>\n",
       "      <td id=\"T_d2976_row1_col9\" class=\"data row1 col9\" >1085</td>\n",
       "      <td id=\"T_d2976_row1_col10\" class=\"data row1 col10\" >303.783362</td>\n",
       "      <td id=\"T_d2976_row1_col11\" class=\"data row1 col11\" >329604.947833</td>\n",
       "      <td id=\"T_d2976_row1_col12\" class=\"data row1 col12\" >1085</td>\n",
       "      <td id=\"T_d2976_row1_col13\" class=\"data row1 col13\" >0.000432</td>\n",
       "      <td id=\"T_d2976_row1_col14\" class=\"data row1 col14\" >0.469002</td>\n",
       "      <td id=\"T_d2976_row1_col15\" class=\"data row1 col15\" >1085</td>\n",
       "      <td id=\"T_d2976_row1_col16\" class=\"data row1 col16\" >46.436576</td>\n",
       "      <td id=\"T_d2976_row1_col17\" class=\"data row1 col17\" >50383.685200</td>\n",
       "      <td id=\"T_d2976_row1_col18\" class=\"data row1 col18\" >1085</td>\n",
       "      <td id=\"T_d2976_row1_col19\" class=\"data row1 col19\" >0.107021</td>\n",
       "      <td id=\"T_d2976_row1_col20\" class=\"data row1 col20\" >116.118196</td>\n",
       "      <td id=\"T_d2976_row1_col21\" class=\"data row1 col21\" >1085</td>\n",
       "      <td id=\"T_d2976_row1_col22\" class=\"data row1 col22\" >15.245815</td>\n",
       "      <td id=\"T_d2976_row1_col23\" class=\"data row1 col23\" >16541.709277</td>\n",
       "    </tr>\n",
       "    <tr>\n",
       "      <th id=\"T_d2976_level0_row2\" class=\"row_heading level0 row2\" >B</th>\n",
       "      <td id=\"T_d2976_row2_col0\" class=\"data row2 col0\" >1084</td>\n",
       "      <td id=\"T_d2976_row2_col1\" class=\"data row2 col1\" >3.510148</td>\n",
       "      <td id=\"T_d2976_row2_col2\" class=\"data row2 col2\" >3805</td>\n",
       "      <td id=\"T_d2976_row2_col3\" class=\"data row2 col3\" >1084</td>\n",
       "      <td id=\"T_d2976_row2_col4\" class=\"data row2 col4\" >637.849631</td>\n",
       "      <td id=\"T_d2976_row2_col5\" class=\"data row2 col5\" >691429</td>\n",
       "      <td id=\"T_d2976_row2_col6\" class=\"data row2 col6\" >1084</td>\n",
       "      <td id=\"T_d2976_row2_col7\" class=\"data row2 col7\" >1071.875748</td>\n",
       "      <td id=\"T_d2976_row2_col8\" class=\"data row2 col8\" >1161913.311000</td>\n",
       "      <td id=\"T_d2976_row2_col9\" class=\"data row2 col9\" >1084</td>\n",
       "      <td id=\"T_d2976_row2_col10\" class=\"data row2 col10\" >398.162182</td>\n",
       "      <td id=\"T_d2976_row2_col11\" class=\"data row2 col11\" >431607.805159</td>\n",
       "      <td id=\"T_d2976_row2_col12\" class=\"data row2 col12\" >1084</td>\n",
       "      <td id=\"T_d2976_row2_col13\" class=\"data row2 col13\" >0.000809</td>\n",
       "      <td id=\"T_d2976_row2_col14\" class=\"data row2 col14\" >0.876930</td>\n",
       "      <td id=\"T_d2976_row2_col15\" class=\"data row2 col15\" >1084</td>\n",
       "      <td id=\"T_d2976_row2_col16\" class=\"data row2 col16\" >107.187575</td>\n",
       "      <td id=\"T_d2976_row2_col17\" class=\"data row2 col17\" >116191.331100</td>\n",
       "      <td id=\"T_d2976_row2_col18\" class=\"data row2 col18\" >1084</td>\n",
       "      <td id=\"T_d2976_row2_col19\" class=\"data row2 col19\" >0.247033</td>\n",
       "      <td id=\"T_d2976_row2_col20\" class=\"data row2 col20\" >267.783662</td>\n",
       "      <td id=\"T_d2976_row2_col21\" class=\"data row2 col21\" >1084</td>\n",
       "      <td id=\"T_d2976_row2_col22\" class=\"data row2 col22\" >82.224645</td>\n",
       "      <td id=\"T_d2976_row2_col23\" class=\"data row2 col23\" >89131.515654</td>\n",
       "    </tr>\n",
       "    <tr>\n",
       "      <th id=\"T_d2976_level0_row3\" class=\"row_heading level0 row3\" >A</th>\n",
       "      <td id=\"T_d2976_row3_col0\" class=\"data row3 col0\" >1085</td>\n",
       "      <td id=\"T_d2976_row3_col1\" class=\"data row3 col1\" >10.435945</td>\n",
       "      <td id=\"T_d2976_row3_col2\" class=\"data row3 col2\" >11323</td>\n",
       "      <td id=\"T_d2976_row3_col3\" class=\"data row3 col3\" >1085</td>\n",
       "      <td id=\"T_d2976_row3_col4\" class=\"data row3 col4\" >3261.003687</td>\n",
       "      <td id=\"T_d2976_row3_col5\" class=\"data row3 col5\" >3538189</td>\n",
       "      <td id=\"T_d2976_row3_col6\" class=\"data row3 col6\" >1085</td>\n",
       "      <td id=\"T_d2976_row3_col7\" class=\"data row3 col7\" >6499.120416</td>\n",
       "      <td id=\"T_d2976_row3_col8\" class=\"data row3 col8\" >7051545.651000</td>\n",
       "      <td id=\"T_d2976_row3_col9\" class=\"data row3 col9\" >1085</td>\n",
       "      <td id=\"T_d2976_row3_col10\" class=\"data row3 col10\" >819.333911</td>\n",
       "      <td id=\"T_d2976_row3_col11\" class=\"data row3 col11\" >888977.293428</td>\n",
       "      <td id=\"T_d2976_row3_col12\" class=\"data row3 col12\" >1085</td>\n",
       "      <td id=\"T_d2976_row3_col13\" class=\"data row3 col13\" >0.002405</td>\n",
       "      <td id=\"T_d2976_row3_col14\" class=\"data row3 col14\" >2.609587</td>\n",
       "      <td id=\"T_d2976_row3_col15\" class=\"data row3 col15\" >1085</td>\n",
       "      <td id=\"T_d2976_row3_col16\" class=\"data row3 col16\" >649.912042</td>\n",
       "      <td id=\"T_d2976_row3_col17\" class=\"data row3 col17\" >705154.565100</td>\n",
       "      <td id=\"T_d2976_row3_col18\" class=\"data row3 col18\" >1085</td>\n",
       "      <td id=\"T_d2976_row3_col19\" class=\"data row3 col19\" >1.497838</td>\n",
       "      <td id=\"T_d2976_row3_col20\" class=\"data row3 col20\" >1625.154563</td>\n",
       "      <td id=\"T_d2976_row3_col21\" class=\"data row3 col21\" >1085</td>\n",
       "      <td id=\"T_d2976_row3_col22\" class=\"data row3 col22\" >22649.366890</td>\n",
       "      <td id=\"T_d2976_row3_col23\" class=\"data row3 col23\" >24574563.075852</td>\n",
       "    </tr>\n",
       "  </tbody>\n",
       "</table>\n"
      ],
      "text/plain": [
       "<pandas.io.formats.style.Styler at 0x7f8234cffe50>"
      ]
     },
     "execution_count": 31,
     "metadata": {},
     "output_type": "execute_result"
    }
   ],
   "source": [
    "# CLTV segmentlerinin belirlenmesi\n",
    "cltv[\"segment\"] = pd.qcut(cltv[\"cltv\"], 4, labels=[\"D\", \"C\", \"B\", \"A\"])\n",
    "\n",
    "# Segmentlere göre ayrıntılı analizler yapabiliriz.\n",
    "\n",
    "cltv.groupby(\"segment\").agg({\"count\", \"mean\", \"sum\"}).style.set_properties(**{\"background-color\": \"#000000\",\"color\":\"#FFEA20\",\"border\": \"0.2px solid white\"})\n"
   ]
  },
  {
   "cell_type": "code",
   "execution_count": 32,
   "id": "d804ab32",
   "metadata": {
    "execution": {
     "iopub.execute_input": "2023-03-08T07:47:13.048012Z",
     "iopub.status.busy": "2023-03-08T07:47:13.047284Z",
     "iopub.status.idle": "2023-03-08T07:47:13.097183Z",
     "shell.execute_reply": "2023-03-08T07:47:13.096253Z"
    },
    "papermill": {
     "duration": 0.083198,
     "end_time": "2023-03-08T07:47:13.099844",
     "exception": false,
     "start_time": "2023-03-08T07:47:13.016646",
     "status": "completed"
    },
    "tags": []
   },
   "outputs": [],
   "source": [
    "cltv.to_csv(\"/kaggle/working/cltc.csv\")"
   ]
  },
  {
   "cell_type": "markdown",
   "id": "ea4c136c",
   "metadata": {
    "papermill": {
     "duration": 0.028916,
     "end_time": "2023-03-08T07:47:13.157778",
     "exception": false,
     "start_time": "2023-03-08T07:47:13.128862",
     "status": "completed"
    },
    "tags": []
   },
   "source": [
    "<p style= \"background-color:#000000;font-family:Georgia;color:#FEFBE9;font-size:300%;text-align:center;border-radius:20px 60px;overflow:hidden;border-style:dotted;border-width:1.8px;border-color:#FEFBE9;\"><b>BG-NBD ve Gamma-Gamma ile CLTV Prediction</b></p>"
   ]
  },
  {
   "cell_type": "code",
   "execution_count": 33,
   "id": "932fdb41",
   "metadata": {
    "execution": {
     "iopub.execute_input": "2023-03-08T07:47:13.219070Z",
     "iopub.status.busy": "2023-03-08T07:47:13.218385Z",
     "iopub.status.idle": "2023-03-08T07:47:15.106651Z",
     "shell.execute_reply": "2023-03-08T07:47:15.105339Z"
    },
    "papermill": {
     "duration": 1.922341,
     "end_time": "2023-03-08T07:47:15.109382",
     "exception": false,
     "start_time": "2023-03-08T07:47:13.187041",
     "status": "completed"
    },
    "tags": []
   },
   "outputs": [
    {
     "data": {
      "text/html": [
       "<style type=\"text/css\">\n",
       "#T_57f5d_row0_col0, #T_57f5d_row0_col1, #T_57f5d_row0_col2, #T_57f5d_row0_col3, #T_57f5d_row1_col0, #T_57f5d_row1_col1, #T_57f5d_row1_col2, #T_57f5d_row1_col3, #T_57f5d_row2_col0, #T_57f5d_row2_col1, #T_57f5d_row2_col2, #T_57f5d_row2_col3, #T_57f5d_row3_col0, #T_57f5d_row3_col1, #T_57f5d_row3_col2, #T_57f5d_row3_col3, #T_57f5d_row4_col0, #T_57f5d_row4_col1, #T_57f5d_row4_col2, #T_57f5d_row4_col3 {\n",
       "  background-color: #000000;\n",
       "  color: #FFEA20;\n",
       "  border: 0.2px solid white;\n",
       "}\n",
       "</style>\n",
       "<table id=\"T_57f5d_\">\n",
       "  <thead>\n",
       "    <tr>\n",
       "      <th class=\"blank level0\" >&nbsp;</th>\n",
       "      <th class=\"col_heading level0 col0\" >recency</th>\n",
       "      <th class=\"col_heading level0 col1\" >T</th>\n",
       "      <th class=\"col_heading level0 col2\" >frequency</th>\n",
       "      <th class=\"col_heading level0 col3\" >monetary</th>\n",
       "    </tr>\n",
       "    <tr>\n",
       "      <th class=\"index_name level0\" >CustomerID</th>\n",
       "      <th class=\"blank col0\" >&nbsp;</th>\n",
       "      <th class=\"blank col1\" >&nbsp;</th>\n",
       "      <th class=\"blank col2\" >&nbsp;</th>\n",
       "      <th class=\"blank col3\" >&nbsp;</th>\n",
       "    </tr>\n",
       "  </thead>\n",
       "  <tbody>\n",
       "    <tr>\n",
       "      <th id=\"T_57f5d_level0_row0\" class=\"row_heading level0 row0\" >12347.0</th>\n",
       "      <td id=\"T_57f5d_row0_col0\" class=\"data row0 col0\" >52.142857</td>\n",
       "      <td id=\"T_57f5d_row0_col1\" class=\"data row0 col1\" >52.571429</td>\n",
       "      <td id=\"T_57f5d_row0_col2\" class=\"data row0 col2\" >7</td>\n",
       "      <td id=\"T_57f5d_row0_col3\" class=\"data row0 col3\" >615.714286</td>\n",
       "    </tr>\n",
       "    <tr>\n",
       "      <th id=\"T_57f5d_level0_row1\" class=\"row_heading level0 row1\" >12348.0</th>\n",
       "      <td id=\"T_57f5d_row1_col0\" class=\"data row1 col0\" >40.285714</td>\n",
       "      <td id=\"T_57f5d_row1_col1\" class=\"data row1 col1\" >51.285714</td>\n",
       "      <td id=\"T_57f5d_row1_col2\" class=\"data row1 col2\" >4</td>\n",
       "      <td id=\"T_57f5d_row1_col3\" class=\"data row1 col3\" >449.310000</td>\n",
       "    </tr>\n",
       "    <tr>\n",
       "      <th id=\"T_57f5d_level0_row2\" class=\"row_heading level0 row2\" >12352.0</th>\n",
       "      <td id=\"T_57f5d_row2_col0\" class=\"data row2 col0\" >37.142857</td>\n",
       "      <td id=\"T_57f5d_row2_col1\" class=\"data row2 col1\" >42.428571</td>\n",
       "      <td id=\"T_57f5d_row2_col2\" class=\"data row2 col2\" >8</td>\n",
       "      <td id=\"T_57f5d_row2_col3\" class=\"data row2 col3\" >313.255000</td>\n",
       "    </tr>\n",
       "    <tr>\n",
       "      <th id=\"T_57f5d_level0_row3\" class=\"row_heading level0 row3\" >12356.0</th>\n",
       "      <td id=\"T_57f5d_row3_col0\" class=\"data row3 col0\" >43.142857</td>\n",
       "      <td id=\"T_57f5d_row3_col1\" class=\"data row3 col1\" >46.571429</td>\n",
       "      <td id=\"T_57f5d_row3_col2\" class=\"data row3 col2\" >3</td>\n",
       "      <td id=\"T_57f5d_row3_col3\" class=\"data row3 col3\" >937.143333</td>\n",
       "    </tr>\n",
       "    <tr>\n",
       "      <th id=\"T_57f5d_level0_row4\" class=\"row_heading level0 row4\" >12358.0</th>\n",
       "      <td id=\"T_57f5d_row4_col0\" class=\"data row4 col0\" >21.285714</td>\n",
       "      <td id=\"T_57f5d_row4_col1\" class=\"data row4 col1\" >21.571429</td>\n",
       "      <td id=\"T_57f5d_row4_col2\" class=\"data row4 col2\" >2</td>\n",
       "      <td id=\"T_57f5d_row4_col3\" class=\"data row4 col3\" >584.030000</td>\n",
       "    </tr>\n",
       "  </tbody>\n",
       "</table>\n"
      ],
      "text/plain": [
       "<pandas.io.formats.style.Styler at 0x7f822efa2750>"
      ]
     },
     "execution_count": 33,
     "metadata": {},
     "output_type": "execute_result"
    }
   ],
   "source": [
    "# Prediction modellerimizi kurmadan önce modelimiz de kullanacağımız değişkenleri hesaplayalım. Bunlar:\n",
    "# 'recency'  : Müşterinin son alışverişinin üzerinden geçen zaman (haftalık)\n",
    "#     'T'    :  Müşterinin yaşı(ilk alışverişinin üzerinden geçen zaman)\n",
    "# 'frequency' : Müşterinin alışveriş sayısı\n",
    "#  'monetary'  : Müşterinin yaptığı alışverişlerin toplam tutarı\n",
    "\n",
    "cltv_predict = df.groupby('CustomerID').agg({'InvoiceDate': [lambda InvoiceDate: (InvoiceDate.max() - InvoiceDate.min()).days,\n",
    "                                                         lambda InvoiceDate: (today_date - InvoiceDate.min()).days],\n",
    "                                         'Invoice': lambda Invoice: Invoice.nunique(),\n",
    "                                         'TotalPrice': lambda TotalPrice: TotalPrice.sum()})\n",
    "\n",
    "cltv_predict.columns = ['recency', 'T', 'frequency', 'monetary']\n",
    "\n",
    "cltv_predict[\"monetary\"] = cltv_predict[\"monetary\"] / cltv_predict[\"frequency\"]\n",
    "\n",
    "cltv_predict = cltv_predict[(cltv_predict['frequency'] > 1)]\n",
    "cltv_predict[\"recency\"] = cltv_predict[\"recency\"] / 7\n",
    "cltv_predict[\"T\"] = cltv_predict[\"T\"] / 7\n",
    "\n",
    "cltv_predict.head().style.set_properties(**{\"background-color\": \"#000000\",\"color\":\"#FFEA20\",\"border\": \"0.2px solid white\"})"
   ]
  },
  {
   "cell_type": "code",
   "execution_count": 34,
   "id": "e6f3c25c",
   "metadata": {
    "execution": {
     "iopub.execute_input": "2023-03-08T07:47:15.172710Z",
     "iopub.status.busy": "2023-03-08T07:47:15.171960Z",
     "iopub.status.idle": "2023-03-08T07:47:15.320681Z",
     "shell.execute_reply": "2023-03-08T07:47:15.318883Z"
    },
    "papermill": {
     "duration": 0.185575,
     "end_time": "2023-03-08T07:47:15.325953",
     "exception": false,
     "start_time": "2023-03-08T07:47:15.140378",
     "status": "completed"
    },
    "tags": []
   },
   "outputs": [
    {
     "data": {
      "text/plain": [
       "<lifetimes.BetaGeoFitter: fitted with 2845 subjects, a: 0.12, alpha: 11.40, b: 2.49, r: 2.18>"
      ]
     },
     "execution_count": 34,
     "metadata": {},
     "output_type": "execute_result"
    }
   ],
   "source": [
    "#BGF Modelimizi kuralım\n",
    "\n",
    "bgf = BetaGeoFitter(penalizer_coef=0.001)\n",
    "\n",
    "bgf.fit(cltv_predict['frequency'],\n",
    "        cltv_predict['recency'],\n",
    "        cltv_predict['T'])"
   ]
  },
  {
   "cell_type": "code",
   "execution_count": 35,
   "id": "ba61f881",
   "metadata": {
    "execution": {
     "iopub.execute_input": "2023-03-08T07:47:15.451445Z",
     "iopub.status.busy": "2023-03-08T07:47:15.450249Z",
     "iopub.status.idle": "2023-03-08T07:47:15.475719Z",
     "shell.execute_reply": "2023-03-08T07:47:15.474783Z"
    },
    "papermill": {
     "duration": 0.080866,
     "end_time": "2023-03-08T07:47:15.478252",
     "exception": false,
     "start_time": "2023-03-08T07:47:15.397386",
     "status": "completed"
    },
    "tags": []
   },
   "outputs": [
    {
     "data": {
      "text/html": [
       "<style type=\"text/css\">\n",
       "#T_91667_row0_col0, #T_91667_row0_col1, #T_91667_row0_col2, #T_91667_row0_col3, #T_91667_row0_col4, #T_91667_row1_col0, #T_91667_row1_col1, #T_91667_row1_col2, #T_91667_row1_col3, #T_91667_row1_col4, #T_91667_row2_col0, #T_91667_row2_col1, #T_91667_row2_col2, #T_91667_row2_col3, #T_91667_row2_col4, #T_91667_row3_col0, #T_91667_row3_col1, #T_91667_row3_col2, #T_91667_row3_col3, #T_91667_row3_col4, #T_91667_row4_col0, #T_91667_row4_col1, #T_91667_row4_col2, #T_91667_row4_col3, #T_91667_row4_col4 {\n",
       "  background-color: #000000;\n",
       "  color: #FFEA20;\n",
       "  border: 0.2px solid white;\n",
       "}\n",
       "</style>\n",
       "<table id=\"T_91667_\">\n",
       "  <thead>\n",
       "    <tr>\n",
       "      <th class=\"blank level0\" >&nbsp;</th>\n",
       "      <th class=\"col_heading level0 col0\" >recency</th>\n",
       "      <th class=\"col_heading level0 col1\" >T</th>\n",
       "      <th class=\"col_heading level0 col2\" >frequency</th>\n",
       "      <th class=\"col_heading level0 col3\" >monetary</th>\n",
       "      <th class=\"col_heading level0 col4\" >expected_purc_1_month</th>\n",
       "    </tr>\n",
       "    <tr>\n",
       "      <th class=\"index_name level0\" >CustomerID</th>\n",
       "      <th class=\"blank col0\" >&nbsp;</th>\n",
       "      <th class=\"blank col1\" >&nbsp;</th>\n",
       "      <th class=\"blank col2\" >&nbsp;</th>\n",
       "      <th class=\"blank col3\" >&nbsp;</th>\n",
       "      <th class=\"blank col4\" >&nbsp;</th>\n",
       "    </tr>\n",
       "  </thead>\n",
       "  <tbody>\n",
       "    <tr>\n",
       "      <th id=\"T_91667_level0_row0\" class=\"row_heading level0 row0\" >12347.0</th>\n",
       "      <td id=\"T_91667_row0_col0\" class=\"data row0 col0\" >52.142857</td>\n",
       "      <td id=\"T_91667_row0_col1\" class=\"data row0 col1\" >52.571429</td>\n",
       "      <td id=\"T_91667_row0_col2\" class=\"data row0 col2\" >7</td>\n",
       "      <td id=\"T_91667_row0_col3\" class=\"data row0 col3\" >615.714286</td>\n",
       "      <td id=\"T_91667_row0_col4\" class=\"data row0 col4\" >0.563516</td>\n",
       "    </tr>\n",
       "    <tr>\n",
       "      <th id=\"T_91667_level0_row1\" class=\"row_heading level0 row1\" >12348.0</th>\n",
       "      <td id=\"T_91667_row1_col0\" class=\"data row1 col0\" >40.285714</td>\n",
       "      <td id=\"T_91667_row1_col1\" class=\"data row1 col1\" >51.285714</td>\n",
       "      <td id=\"T_91667_row1_col2\" class=\"data row1 col2\" >4</td>\n",
       "      <td id=\"T_91667_row1_col3\" class=\"data row1 col3\" >449.310000</td>\n",
       "      <td id=\"T_91667_row1_col4\" class=\"data row1 col4\" >0.366752</td>\n",
       "    </tr>\n",
       "    <tr>\n",
       "      <th id=\"T_91667_level0_row2\" class=\"row_heading level0 row2\" >12352.0</th>\n",
       "      <td id=\"T_91667_row2_col0\" class=\"data row2 col0\" >37.142857</td>\n",
       "      <td id=\"T_91667_row2_col1\" class=\"data row2 col1\" >42.428571</td>\n",
       "      <td id=\"T_91667_row2_col2\" class=\"data row2 col2\" >8</td>\n",
       "      <td id=\"T_91667_row2_col3\" class=\"data row2 col3\" >313.255000</td>\n",
       "      <td id=\"T_91667_row2_col4\" class=\"data row2 col4\" >0.727126</td>\n",
       "    </tr>\n",
       "    <tr>\n",
       "      <th id=\"T_91667_level0_row3\" class=\"row_heading level0 row3\" >12356.0</th>\n",
       "      <td id=\"T_91667_row3_col0\" class=\"data row3 col0\" >43.142857</td>\n",
       "      <td id=\"T_91667_row3_col1\" class=\"data row3 col1\" >46.571429</td>\n",
       "      <td id=\"T_91667_row3_col2\" class=\"data row3 col2\" >3</td>\n",
       "      <td id=\"T_91667_row3_col3\" class=\"data row3 col3\" >937.143333</td>\n",
       "      <td id=\"T_91667_row3_col4\" class=\"data row3 col4\" >0.343511</td>\n",
       "    </tr>\n",
       "    <tr>\n",
       "      <th id=\"T_91667_level0_row4\" class=\"row_heading level0 row4\" >12358.0</th>\n",
       "      <td id=\"T_91667_row4_col0\" class=\"data row4 col0\" >21.285714</td>\n",
       "      <td id=\"T_91667_row4_col1\" class=\"data row4 col1\" >21.571429</td>\n",
       "      <td id=\"T_91667_row4_col2\" class=\"data row4 col2\" >2</td>\n",
       "      <td id=\"T_91667_row4_col3\" class=\"data row4 col3\" >584.030000</td>\n",
       "      <td id=\"T_91667_row4_col4\" class=\"data row4 col4\" >0.486232</td>\n",
       "    </tr>\n",
       "  </tbody>\n",
       "</table>\n"
      ],
      "text/plain": [
       "<pandas.io.formats.style.Styler at 0x7f8238bdb7d0>"
      ]
     },
     "execution_count": 35,
     "metadata": {},
     "output_type": "execute_result"
    }
   ],
   "source": [
    "# 1 aylık süreçte alışveriş yapma ihtimali en yüksek olan müşteriler.\n",
    "\n",
    "cltv_predict[\"expected_purc_1_month\"] = bgf.conditional_expected_number_of_purchases_up_to_time(4,\n",
    "                                                        cltv_predict['frequency'],\n",
    "                                                        cltv_predict['recency'],\n",
    "                                                        cltv_predict['T'])\n",
    "cltv_predict.head().style.set_properties(**{\"background-color\": \"#000000\",\"color\":\"#FFEA20\",\"border\": \"0.2px solid white\"})"
   ]
  },
  {
   "cell_type": "code",
   "execution_count": 36,
   "id": "8263cff6",
   "metadata": {
    "execution": {
     "iopub.execute_input": "2023-03-08T07:47:15.540657Z",
     "iopub.status.busy": "2023-03-08T07:47:15.539848Z",
     "iopub.status.idle": "2023-03-08T07:47:15.568472Z",
     "shell.execute_reply": "2023-03-08T07:47:15.567302Z"
    },
    "papermill": {
     "duration": 0.062668,
     "end_time": "2023-03-08T07:47:15.571110",
     "exception": false,
     "start_time": "2023-03-08T07:47:15.508442",
     "status": "completed"
    },
    "tags": []
   },
   "outputs": [
    {
     "data": {
      "text/html": [
       "<style type=\"text/css\">\n",
       "#T_06fc3_row0_col0, #T_06fc3_row0_col1, #T_06fc3_row0_col2, #T_06fc3_row0_col3, #T_06fc3_row0_col4, #T_06fc3_row0_col5, #T_06fc3_row1_col0, #T_06fc3_row1_col1, #T_06fc3_row1_col2, #T_06fc3_row1_col3, #T_06fc3_row1_col4, #T_06fc3_row1_col5, #T_06fc3_row2_col0, #T_06fc3_row2_col1, #T_06fc3_row2_col2, #T_06fc3_row2_col3, #T_06fc3_row2_col4, #T_06fc3_row2_col5, #T_06fc3_row3_col0, #T_06fc3_row3_col1, #T_06fc3_row3_col2, #T_06fc3_row3_col3, #T_06fc3_row3_col4, #T_06fc3_row3_col5, #T_06fc3_row4_col0, #T_06fc3_row4_col1, #T_06fc3_row4_col2, #T_06fc3_row4_col3, #T_06fc3_row4_col4, #T_06fc3_row4_col5, #T_06fc3_row5_col0, #T_06fc3_row5_col1, #T_06fc3_row5_col2, #T_06fc3_row5_col3, #T_06fc3_row5_col4, #T_06fc3_row5_col5, #T_06fc3_row6_col0, #T_06fc3_row6_col1, #T_06fc3_row6_col2, #T_06fc3_row6_col3, #T_06fc3_row6_col4, #T_06fc3_row6_col5, #T_06fc3_row7_col0, #T_06fc3_row7_col1, #T_06fc3_row7_col2, #T_06fc3_row7_col3, #T_06fc3_row7_col4, #T_06fc3_row7_col5, #T_06fc3_row8_col0, #T_06fc3_row8_col1, #T_06fc3_row8_col2, #T_06fc3_row8_col3, #T_06fc3_row8_col4, #T_06fc3_row8_col5, #T_06fc3_row9_col0, #T_06fc3_row9_col1, #T_06fc3_row9_col2, #T_06fc3_row9_col3, #T_06fc3_row9_col4, #T_06fc3_row9_col5 {\n",
       "  background-color: #000000;\n",
       "  color: #FFEA20;\n",
       "  border: 0.2px solid white;\n",
       "}\n",
       "</style>\n",
       "<table id=\"T_06fc3_\">\n",
       "  <thead>\n",
       "    <tr>\n",
       "      <th class=\"blank level0\" >&nbsp;</th>\n",
       "      <th class=\"col_heading level0 col0\" >recency</th>\n",
       "      <th class=\"col_heading level0 col1\" >T</th>\n",
       "      <th class=\"col_heading level0 col2\" >frequency</th>\n",
       "      <th class=\"col_heading level0 col3\" >monetary</th>\n",
       "      <th class=\"col_heading level0 col4\" >expected_purc_1_month</th>\n",
       "      <th class=\"col_heading level0 col5\" >expected_purc_3_month</th>\n",
       "    </tr>\n",
       "    <tr>\n",
       "      <th class=\"index_name level0\" >CustomerID</th>\n",
       "      <th class=\"blank col0\" >&nbsp;</th>\n",
       "      <th class=\"blank col1\" >&nbsp;</th>\n",
       "      <th class=\"blank col2\" >&nbsp;</th>\n",
       "      <th class=\"blank col3\" >&nbsp;</th>\n",
       "      <th class=\"blank col4\" >&nbsp;</th>\n",
       "      <th class=\"blank col5\" >&nbsp;</th>\n",
       "    </tr>\n",
       "  </thead>\n",
       "  <tbody>\n",
       "    <tr>\n",
       "      <th id=\"T_06fc3_level0_row0\" class=\"row_heading level0 row0\" >12347.0</th>\n",
       "      <td id=\"T_06fc3_row0_col0\" class=\"data row0 col0\" >52.142857</td>\n",
       "      <td id=\"T_06fc3_row0_col1\" class=\"data row0 col1\" >52.571429</td>\n",
       "      <td id=\"T_06fc3_row0_col2\" class=\"data row0 col2\" >7</td>\n",
       "      <td id=\"T_06fc3_row0_col3\" class=\"data row0 col3\" >615.714286</td>\n",
       "      <td id=\"T_06fc3_row0_col4\" class=\"data row0 col4\" >0.563516</td>\n",
       "      <td id=\"T_06fc3_row0_col5\" class=\"data row0 col5\" >1.678394</td>\n",
       "    </tr>\n",
       "    <tr>\n",
       "      <th id=\"T_06fc3_level0_row1\" class=\"row_heading level0 row1\" >12348.0</th>\n",
       "      <td id=\"T_06fc3_row1_col0\" class=\"data row1 col0\" >40.285714</td>\n",
       "      <td id=\"T_06fc3_row1_col1\" class=\"data row1 col1\" >51.285714</td>\n",
       "      <td id=\"T_06fc3_row1_col2\" class=\"data row1 col2\" >4</td>\n",
       "      <td id=\"T_06fc3_row1_col3\" class=\"data row1 col3\" >449.310000</td>\n",
       "      <td id=\"T_06fc3_row1_col4\" class=\"data row1 col4\" >0.366752</td>\n",
       "      <td id=\"T_06fc3_row1_col5\" class=\"data row1 col5\" >1.092006</td>\n",
       "    </tr>\n",
       "    <tr>\n",
       "      <th id=\"T_06fc3_level0_row2\" class=\"row_heading level0 row2\" >12352.0</th>\n",
       "      <td id=\"T_06fc3_row2_col0\" class=\"data row2 col0\" >37.142857</td>\n",
       "      <td id=\"T_06fc3_row2_col1\" class=\"data row2 col1\" >42.428571</td>\n",
       "      <td id=\"T_06fc3_row2_col2\" class=\"data row2 col2\" >8</td>\n",
       "      <td id=\"T_06fc3_row2_col3\" class=\"data row2 col3\" >313.255000</td>\n",
       "      <td id=\"T_06fc3_row2_col4\" class=\"data row2 col4\" >0.727126</td>\n",
       "      <td id=\"T_06fc3_row2_col5\" class=\"data row2 col5\" >2.163117</td>\n",
       "    </tr>\n",
       "    <tr>\n",
       "      <th id=\"T_06fc3_level0_row3\" class=\"row_heading level0 row3\" >12356.0</th>\n",
       "      <td id=\"T_06fc3_row3_col0\" class=\"data row3 col0\" >43.142857</td>\n",
       "      <td id=\"T_06fc3_row3_col1\" class=\"data row3 col1\" >46.571429</td>\n",
       "      <td id=\"T_06fc3_row3_col2\" class=\"data row3 col2\" >3</td>\n",
       "      <td id=\"T_06fc3_row3_col3\" class=\"data row3 col3\" >937.143333</td>\n",
       "      <td id=\"T_06fc3_row3_col4\" class=\"data row3 col4\" >0.343511</td>\n",
       "      <td id=\"T_06fc3_row3_col5\" class=\"data row3 col5\" >1.022127</td>\n",
       "    </tr>\n",
       "    <tr>\n",
       "      <th id=\"T_06fc3_level0_row4\" class=\"row_heading level0 row4\" >12358.0</th>\n",
       "      <td id=\"T_06fc3_row4_col0\" class=\"data row4 col0\" >21.285714</td>\n",
       "      <td id=\"T_06fc3_row4_col1\" class=\"data row4 col1\" >21.571429</td>\n",
       "      <td id=\"T_06fc3_row4_col2\" class=\"data row4 col2\" >2</td>\n",
       "      <td id=\"T_06fc3_row4_col3\" class=\"data row4 col3\" >584.030000</td>\n",
       "      <td id=\"T_06fc3_row4_col4\" class=\"data row4 col4\" >0.486232</td>\n",
       "      <td id=\"T_06fc3_row4_col5\" class=\"data row4 col5\" >1.438802</td>\n",
       "    </tr>\n",
       "    <tr>\n",
       "      <th id=\"T_06fc3_level0_row5\" class=\"row_heading level0 row5\" >12359.0</th>\n",
       "      <td id=\"T_06fc3_row5_col0\" class=\"data row5 col0\" >39.142857</td>\n",
       "      <td id=\"T_06fc3_row5_col1\" class=\"data row5 col1\" >47.428571</td>\n",
       "      <td id=\"T_06fc3_row5_col2\" class=\"data row5 col2\" >4</td>\n",
       "      <td id=\"T_06fc3_row5_col3\" class=\"data row5 col3\" >1593.145000</td>\n",
       "      <td id=\"T_06fc3_row5_col4\" class=\"data row5 col4\" >0.396616</td>\n",
       "      <td id=\"T_06fc3_row5_col5\" class=\"data row5 col5\" >1.180395</td>\n",
       "    </tr>\n",
       "    <tr>\n",
       "      <th id=\"T_06fc3_level0_row6\" class=\"row_heading level0 row6\" >12360.0</th>\n",
       "      <td id=\"T_06fc3_row6_col0\" class=\"data row6 col0\" >21.142857</td>\n",
       "      <td id=\"T_06fc3_row6_col1\" class=\"data row6 col1\" >28.714286</td>\n",
       "      <td id=\"T_06fc3_row6_col2\" class=\"data row6 col2\" >3</td>\n",
       "      <td id=\"T_06fc3_row6_col3\" class=\"data row6 col3\" >887.353333</td>\n",
       "      <td id=\"T_06fc3_row6_col4\" class=\"data row6 col4\" >0.476249</td>\n",
       "      <td id=\"T_06fc3_row6_col5\" class=\"data row6 col5\" >1.412576</td>\n",
       "    </tr>\n",
       "    <tr>\n",
       "      <th id=\"T_06fc3_level0_row7\" class=\"row_heading level0 row7\" >12362.0</th>\n",
       "      <td id=\"T_06fc3_row7_col0\" class=\"data row7 col0\" >41.714286</td>\n",
       "      <td id=\"T_06fc3_row7_col1\" class=\"data row7 col1\" >42.285714</td>\n",
       "      <td id=\"T_06fc3_row7_col2\" class=\"data row7 col2\" >10</td>\n",
       "      <td id=\"T_06fc3_row7_col3\" class=\"data row7 col3\" >522.623000</td>\n",
       "      <td id=\"T_06fc3_row7_col4\" class=\"data row7 col4\" >0.893010</td>\n",
       "      <td id=\"T_06fc3_row7_col5\" class=\"data row7 col5\" >2.656718</td>\n",
       "    </tr>\n",
       "    <tr>\n",
       "      <th id=\"T_06fc3_level0_row8\" class=\"row_heading level0 row8\" >12363.0</th>\n",
       "      <td id=\"T_06fc3_row8_col0\" class=\"data row8 col0\" >18.857143</td>\n",
       "      <td id=\"T_06fc3_row8_col1\" class=\"data row8 col1\" >34.714286</td>\n",
       "      <td id=\"T_06fc3_row8_col2\" class=\"data row8 col2\" >2</td>\n",
       "      <td id=\"T_06fc3_row8_col3\" class=\"data row8 col3\" >276.000000</td>\n",
       "      <td id=\"T_06fc3_row8_col4\" class=\"data row8 col4\" >0.301106</td>\n",
       "      <td id=\"T_06fc3_row8_col5\" class=\"data row8 col5\" >0.894105</td>\n",
       "    </tr>\n",
       "    <tr>\n",
       "      <th id=\"T_06fc3_level0_row9\" class=\"row_heading level0 row9\" >12364.0</th>\n",
       "      <td id=\"T_06fc3_row9_col0\" class=\"data row9 col0\" >14.857143</td>\n",
       "      <td id=\"T_06fc3_row9_col1\" class=\"data row9 col1\" >16.142857</td>\n",
       "      <td id=\"T_06fc3_row9_col2\" class=\"data row9 col2\" >4</td>\n",
       "      <td id=\"T_06fc3_row9_col3\" class=\"data row9 col3\" >328.275000</td>\n",
       "      <td id=\"T_06fc3_row9_col4\" class=\"data row9 col4\" >0.864628</td>\n",
       "      <td id=\"T_06fc3_row9_col5\" class=\"data row9 col5\" >2.553962</td>\n",
       "    </tr>\n",
       "  </tbody>\n",
       "</table>\n"
      ],
      "text/plain": [
       "<pandas.io.formats.style.Styler at 0x7f8231a23250>"
      ]
     },
     "execution_count": 36,
     "metadata": {},
     "output_type": "execute_result"
    }
   ],
   "source": [
    "# 3 aylık süreçte alışveriş yapma ihtimali en yüksek olan müşteriler.\n",
    "\n",
    "cltv_predict[\"expected_purc_3_month\"] = bgf.predict(4 * 3,\n",
    "                                               cltv_predict['frequency'],\n",
    "                                               cltv_predict['recency'],\n",
    "                                               cltv_predict['T'])\n",
    "cltv_predict.head(10).style.set_properties(**{\"background-color\": \"#000000\",\"color\":\"#FFEA20\",\"border\": \"0.2px solid white\"})"
   ]
  },
  {
   "cell_type": "code",
   "execution_count": 37,
   "id": "77f87fcf",
   "metadata": {
    "execution": {
     "iopub.execute_input": "2023-03-08T07:47:15.634522Z",
     "iopub.status.busy": "2023-03-08T07:47:15.633747Z",
     "iopub.status.idle": "2023-03-08T07:47:16.501715Z",
     "shell.execute_reply": "2023-03-08T07:47:16.500379Z"
    },
    "papermill": {
     "duration": 0.902983,
     "end_time": "2023-03-08T07:47:16.504609",
     "exception": false,
     "start_time": "2023-03-08T07:47:15.601626",
     "status": "completed"
    },
    "tags": []
   },
   "outputs": [
    {
     "data": {
      "image/png": "[encoded data removed]",
      "text/plain": [
       "<Figure size 640x480 with 1 Axes>"
      ]
     },
     "metadata": {},
     "output_type": "display_data"
    }
   ],
   "source": [
    "plot_period_transactions(bgf)\n",
    "plt.show()"
   ]
  },
  {
   "cell_type": "code",
   "execution_count": 38,
   "id": "52c419c1",
   "metadata": {
    "execution": {
     "iopub.execute_input": "2023-03-08T07:47:16.570518Z",
     "iopub.status.busy": "2023-03-08T07:47:16.570072Z",
     "iopub.status.idle": "2023-03-08T07:47:16.574746Z",
     "shell.execute_reply": "2023-03-08T07:47:16.573636Z"
    },
    "papermill": {
     "duration": 0.041108,
     "end_time": "2023-03-08T07:47:16.577164",
     "exception": false,
     "start_time": "2023-03-08T07:47:16.536056",
     "status": "completed"
    },
    "tags": []
   },
   "outputs": [],
   "source": [
    "# Gamma gamma modeli\n",
    "ggf = GammaGammaFitter(penalizer_coef=0.01)"
   ]
  },
  {
   "cell_type": "code",
   "execution_count": 39,
   "id": "bd26b12b",
   "metadata": {
    "execution": {
     "iopub.execute_input": "2023-03-08T07:47:16.641174Z",
     "iopub.status.busy": "2023-03-08T07:47:16.640660Z",
     "iopub.status.idle": "2023-03-08T07:47:16.711543Z",
     "shell.execute_reply": "2023-03-08T07:47:16.709618Z"
    },
    "papermill": {
     "duration": 0.10894,
     "end_time": "2023-03-08T07:47:16.716693",
     "exception": false,
     "start_time": "2023-03-08T07:47:16.607753",
     "status": "completed"
    },
    "tags": []
   },
   "outputs": [
    {
     "data": {
      "text/plain": [
       "<lifetimes.GammaGammaFitter: fitted with 2845 subjects, p: 3.79, q: 0.34, v: 3.72>"
      ]
     },
     "execution_count": 39,
     "metadata": {},
     "output_type": "execute_result"
    }
   ],
   "source": [
    "# gamma gamma modelimizin kurulumu\n",
    "ggf.fit(cltv_predict['frequency'], cltv_predict['monetary'])\n"
   ]
  },
  {
   "cell_type": "code",
   "execution_count": 40,
   "id": "c8f2af30",
   "metadata": {
    "execution": {
     "iopub.execute_input": "2023-03-08T07:47:16.824823Z",
     "iopub.status.busy": "2023-03-08T07:47:16.823456Z",
     "iopub.status.idle": "2023-03-08T07:47:16.835638Z",
     "shell.execute_reply": "2023-03-08T07:47:16.834730Z"
    },
    "papermill": {
     "duration": 0.048184,
     "end_time": "2023-03-08T07:47:16.838631",
     "exception": false,
     "start_time": "2023-03-08T07:47:16.790447",
     "status": "completed"
    },
    "tags": []
   },
   "outputs": [
    {
     "data": {
      "text/plain": [
       "CustomerID\n",
       "16446.000   92300.886\n",
       "15749.000   15764.032\n",
       "15098.000   14129.583\n",
       "12415.000    5998.391\n",
       "12590.000    5406.242\n",
       "12536.000    4461.678\n",
       "16000.000    4388.011\n",
       "18102.000    4340.322\n",
       "12435.000    4291.698\n",
       "17450.000    4245.570\n",
       "dtype: float64"
      ]
     },
     "execution_count": 40,
     "metadata": {},
     "output_type": "execute_result"
    }
   ],
   "source": [
    "# Beklenen ortalama karin hesaplanmasi\n",
    "\n",
    "ggf.conditional_expected_average_profit(cltv_predict['frequency'],\n",
    "                                        cltv_predict['monetary']).sort_values(ascending=False).head(10)"
   ]
  },
  {
   "cell_type": "code",
   "execution_count": 41,
   "id": "76edf60e",
   "metadata": {
    "execution": {
     "iopub.execute_input": "2023-03-08T07:47:16.904679Z",
     "iopub.status.busy": "2023-03-08T07:47:16.903958Z",
     "iopub.status.idle": "2023-03-08T07:47:16.924825Z",
     "shell.execute_reply": "2023-03-08T07:47:16.923438Z"
    },
    "papermill": {
     "duration": 0.056267,
     "end_time": "2023-03-08T07:47:16.927732",
     "exception": false,
     "start_time": "2023-03-08T07:47:16.871465",
     "status": "completed"
    },
    "tags": []
   },
   "outputs": [
    {
     "data": {
      "text/html": [
       "<style type=\"text/css\">\n",
       "#T_d2222_row0_col0, #T_d2222_row0_col1, #T_d2222_row0_col2, #T_d2222_row0_col3, #T_d2222_row0_col4, #T_d2222_row0_col5, #T_d2222_row0_col6, #T_d2222_row1_col0, #T_d2222_row1_col1, #T_d2222_row1_col2, #T_d2222_row1_col3, #T_d2222_row1_col4, #T_d2222_row1_col5, #T_d2222_row1_col6, #T_d2222_row2_col0, #T_d2222_row2_col1, #T_d2222_row2_col2, #T_d2222_row2_col3, #T_d2222_row2_col4, #T_d2222_row2_col5, #T_d2222_row2_col6, #T_d2222_row3_col0, #T_d2222_row3_col1, #T_d2222_row3_col2, #T_d2222_row3_col3, #T_d2222_row3_col4, #T_d2222_row3_col5, #T_d2222_row3_col6, #T_d2222_row4_col0, #T_d2222_row4_col1, #T_d2222_row4_col2, #T_d2222_row4_col3, #T_d2222_row4_col4, #T_d2222_row4_col5, #T_d2222_row4_col6 {\n",
       "  background-color: #000000;\n",
       "  color: #FFEA20;\n",
       "  border: 0.2px solid white;\n",
       "}\n",
       "</style>\n",
       "<table id=\"T_d2222_\">\n",
       "  <thead>\n",
       "    <tr>\n",
       "      <th class=\"blank level0\" >&nbsp;</th>\n",
       "      <th class=\"col_heading level0 col0\" >recency</th>\n",
       "      <th class=\"col_heading level0 col1\" >T</th>\n",
       "      <th class=\"col_heading level0 col2\" >frequency</th>\n",
       "      <th class=\"col_heading level0 col3\" >monetary</th>\n",
       "      <th class=\"col_heading level0 col4\" >expected_purc_1_month</th>\n",
       "      <th class=\"col_heading level0 col5\" >expected_purc_3_month</th>\n",
       "      <th class=\"col_heading level0 col6\" >expected_average_profit</th>\n",
       "    </tr>\n",
       "    <tr>\n",
       "      <th class=\"index_name level0\" >CustomerID</th>\n",
       "      <th class=\"blank col0\" >&nbsp;</th>\n",
       "      <th class=\"blank col1\" >&nbsp;</th>\n",
       "      <th class=\"blank col2\" >&nbsp;</th>\n",
       "      <th class=\"blank col3\" >&nbsp;</th>\n",
       "      <th class=\"blank col4\" >&nbsp;</th>\n",
       "      <th class=\"blank col5\" >&nbsp;</th>\n",
       "      <th class=\"blank col6\" >&nbsp;</th>\n",
       "    </tr>\n",
       "  </thead>\n",
       "  <tbody>\n",
       "    <tr>\n",
       "      <th id=\"T_d2222_level0_row0\" class=\"row_heading level0 row0\" >12347.0</th>\n",
       "      <td id=\"T_d2222_row0_col0\" class=\"data row0 col0\" >52.142857</td>\n",
       "      <td id=\"T_d2222_row0_col1\" class=\"data row0 col1\" >52.571429</td>\n",
       "      <td id=\"T_d2222_row0_col2\" class=\"data row0 col2\" >7</td>\n",
       "      <td id=\"T_d2222_row0_col3\" class=\"data row0 col3\" >615.714286</td>\n",
       "      <td id=\"T_d2222_row0_col4\" class=\"data row0 col4\" >0.563516</td>\n",
       "      <td id=\"T_d2222_row0_col5\" class=\"data row0 col5\" >1.678394</td>\n",
       "      <td id=\"T_d2222_row0_col6\" class=\"data row0 col6\" >632.019673</td>\n",
       "    </tr>\n",
       "    <tr>\n",
       "      <th id=\"T_d2222_level0_row1\" class=\"row_heading level0 row1\" >12348.0</th>\n",
       "      <td id=\"T_d2222_row1_col0\" class=\"data row1 col0\" >40.285714</td>\n",
       "      <td id=\"T_d2222_row1_col1\" class=\"data row1 col1\" >51.285714</td>\n",
       "      <td id=\"T_d2222_row1_col2\" class=\"data row1 col2\" >4</td>\n",
       "      <td id=\"T_d2222_row1_col3\" class=\"data row1 col3\" >449.310000</td>\n",
       "      <td id=\"T_d2222_row1_col4\" class=\"data row1 col4\" >0.366752</td>\n",
       "      <td id=\"T_d2222_row1_col5\" class=\"data row1 col5\" >1.092006</td>\n",
       "      <td id=\"T_d2222_row1_col6\" class=\"data row1 col6\" >470.803034</td>\n",
       "    </tr>\n",
       "    <tr>\n",
       "      <th id=\"T_d2222_level0_row2\" class=\"row_heading level0 row2\" >12352.0</th>\n",
       "      <td id=\"T_d2222_row2_col0\" class=\"data row2 col0\" >37.142857</td>\n",
       "      <td id=\"T_d2222_row2_col1\" class=\"data row2 col1\" >42.428571</td>\n",
       "      <td id=\"T_d2222_row2_col2\" class=\"data row2 col2\" >8</td>\n",
       "      <td id=\"T_d2222_row2_col3\" class=\"data row2 col3\" >313.255000</td>\n",
       "      <td id=\"T_d2222_row2_col4\" class=\"data row2 col4\" >0.727126</td>\n",
       "      <td id=\"T_d2222_row2_col5\" class=\"data row2 col5\" >2.163117</td>\n",
       "      <td id=\"T_d2222_row2_col6\" class=\"data row2 col6\" >320.724048</td>\n",
       "    </tr>\n",
       "    <tr>\n",
       "      <th id=\"T_d2222_level0_row3\" class=\"row_heading level0 row3\" >12356.0</th>\n",
       "      <td id=\"T_d2222_row3_col0\" class=\"data row3 col0\" >43.142857</td>\n",
       "      <td id=\"T_d2222_row3_col1\" class=\"data row3 col1\" >46.571429</td>\n",
       "      <td id=\"T_d2222_row3_col2\" class=\"data row3 col2\" >3</td>\n",
       "      <td id=\"T_d2222_row3_col3\" class=\"data row3 col3\" >937.143333</td>\n",
       "      <td id=\"T_d2222_row3_col4\" class=\"data row3 col4\" >0.343511</td>\n",
       "      <td id=\"T_d2222_row3_col5\" class=\"data row3 col5\" >1.022127</td>\n",
       "      <td id=\"T_d2222_row3_col6\" class=\"data row3 col6\" >996.409652</td>\n",
       "    </tr>\n",
       "    <tr>\n",
       "      <th id=\"T_d2222_level0_row4\" class=\"row_heading level0 row4\" >12358.0</th>\n",
       "      <td id=\"T_d2222_row4_col0\" class=\"data row4 col0\" >21.285714</td>\n",
       "      <td id=\"T_d2222_row4_col1\" class=\"data row4 col1\" >21.571429</td>\n",
       "      <td id=\"T_d2222_row4_col2\" class=\"data row4 col2\" >2</td>\n",
       "      <td id=\"T_d2222_row4_col3\" class=\"data row4 col3\" >584.030000</td>\n",
       "      <td id=\"T_d2222_row4_col4\" class=\"data row4 col4\" >0.486232</td>\n",
       "      <td id=\"T_d2222_row4_col5\" class=\"data row4 col5\" >1.438802</td>\n",
       "      <td id=\"T_d2222_row4_col6\" class=\"data row4 col6\" >641.967861</td>\n",
       "    </tr>\n",
       "  </tbody>\n",
       "</table>\n"
      ],
      "text/plain": [
       "<pandas.io.formats.style.Styler at 0x7f8231b92e50>"
      ]
     },
     "execution_count": 41,
     "metadata": {},
     "output_type": "execute_result"
    }
   ],
   "source": [
    "cltv_predict[\"expected_average_profit\"] = ggf.conditional_expected_average_profit(cltv_predict['frequency'],\n",
    "                                                                             cltv_predict['monetary'])\n",
    "cltv_predict.head().style.set_properties(**{\"background-color\": \"#000000\",\"color\":\"#FFEA20\",\"border\": \"0.2px solid white\"})"
   ]
  },
  {
   "cell_type": "code",
   "execution_count": 42,
   "id": "fd02269e",
   "metadata": {
    "execution": {
     "iopub.execute_input": "2023-03-08T07:47:16.993572Z",
     "iopub.status.busy": "2023-03-08T07:47:16.993163Z",
     "iopub.status.idle": "2023-03-08T07:47:17.014611Z",
     "shell.execute_reply": "2023-03-08T07:47:17.013346Z"
    },
    "papermill": {
     "duration": 0.05708,
     "end_time": "2023-03-08T07:47:17.017193",
     "exception": false,
     "start_time": "2023-03-08T07:47:16.960113",
     "status": "completed"
    },
    "tags": []
   },
   "outputs": [
    {
     "data": {
      "text/html": [
       "<style type=\"text/css\">\n",
       "#T_45d1f_row0_col0, #T_45d1f_row0_col1, #T_45d1f_row0_col2, #T_45d1f_row0_col3, #T_45d1f_row0_col4, #T_45d1f_row0_col5, #T_45d1f_row0_col6, #T_45d1f_row1_col0, #T_45d1f_row1_col1, #T_45d1f_row1_col2, #T_45d1f_row1_col3, #T_45d1f_row1_col4, #T_45d1f_row1_col5, #T_45d1f_row1_col6, #T_45d1f_row2_col0, #T_45d1f_row2_col1, #T_45d1f_row2_col2, #T_45d1f_row2_col3, #T_45d1f_row2_col4, #T_45d1f_row2_col5, #T_45d1f_row2_col6, #T_45d1f_row3_col0, #T_45d1f_row3_col1, #T_45d1f_row3_col2, #T_45d1f_row3_col3, #T_45d1f_row3_col4, #T_45d1f_row3_col5, #T_45d1f_row3_col6, #T_45d1f_row4_col0, #T_45d1f_row4_col1, #T_45d1f_row4_col2, #T_45d1f_row4_col3, #T_45d1f_row4_col4, #T_45d1f_row4_col5, #T_45d1f_row4_col6, #T_45d1f_row5_col0, #T_45d1f_row5_col1, #T_45d1f_row5_col2, #T_45d1f_row5_col3, #T_45d1f_row5_col4, #T_45d1f_row5_col5, #T_45d1f_row5_col6, #T_45d1f_row6_col0, #T_45d1f_row6_col1, #T_45d1f_row6_col2, #T_45d1f_row6_col3, #T_45d1f_row6_col4, #T_45d1f_row6_col5, #T_45d1f_row6_col6, #T_45d1f_row7_col0, #T_45d1f_row7_col1, #T_45d1f_row7_col2, #T_45d1f_row7_col3, #T_45d1f_row7_col4, #T_45d1f_row7_col5, #T_45d1f_row7_col6, #T_45d1f_row8_col0, #T_45d1f_row8_col1, #T_45d1f_row8_col2, #T_45d1f_row8_col3, #T_45d1f_row8_col4, #T_45d1f_row8_col5, #T_45d1f_row8_col6, #T_45d1f_row9_col0, #T_45d1f_row9_col1, #T_45d1f_row9_col2, #T_45d1f_row9_col3, #T_45d1f_row9_col4, #T_45d1f_row9_col5, #T_45d1f_row9_col6 {\n",
       "  background-color: #000000;\n",
       "  color: #FFEA20;\n",
       "  border: 0.2px solid white;\n",
       "}\n",
       "</style>\n",
       "<table id=\"T_45d1f_\">\n",
       "  <thead>\n",
       "    <tr>\n",
       "      <th class=\"blank level0\" >&nbsp;</th>\n",
       "      <th class=\"col_heading level0 col0\" >recency</th>\n",
       "      <th class=\"col_heading level0 col1\" >T</th>\n",
       "      <th class=\"col_heading level0 col2\" >frequency</th>\n",
       "      <th class=\"col_heading level0 col3\" >monetary</th>\n",
       "      <th class=\"col_heading level0 col4\" >expected_purc_1_month</th>\n",
       "      <th class=\"col_heading level0 col5\" >expected_purc_3_month</th>\n",
       "      <th class=\"col_heading level0 col6\" >expected_average_profit</th>\n",
       "    </tr>\n",
       "    <tr>\n",
       "      <th class=\"index_name level0\" >CustomerID</th>\n",
       "      <th class=\"blank col0\" >&nbsp;</th>\n",
       "      <th class=\"blank col1\" >&nbsp;</th>\n",
       "      <th class=\"blank col2\" >&nbsp;</th>\n",
       "      <th class=\"blank col3\" >&nbsp;</th>\n",
       "      <th class=\"blank col4\" >&nbsp;</th>\n",
       "      <th class=\"blank col5\" >&nbsp;</th>\n",
       "      <th class=\"blank col6\" >&nbsp;</th>\n",
       "    </tr>\n",
       "  </thead>\n",
       "  <tbody>\n",
       "    <tr>\n",
       "      <th id=\"T_45d1f_level0_row0\" class=\"row_heading level0 row0\" >16446.0</th>\n",
       "      <td id=\"T_45d1f_row0_col0\" class=\"data row0 col0\" >29.142857</td>\n",
       "      <td id=\"T_45d1f_row0_col1\" class=\"data row0 col1\" >29.428571</td>\n",
       "      <td id=\"T_45d1f_row0_col2\" class=\"data row0 col2\" >2</td>\n",
       "      <td id=\"T_45d1f_row0_col3\" class=\"data row0 col3\" >84236.250000</td>\n",
       "      <td id=\"T_45d1f_row0_col4\" class=\"data row0 col4\" >0.393326</td>\n",
       "      <td id=\"T_45d1f_row0_col5\" class=\"data row0 col5\" >1.166587</td>\n",
       "      <td id=\"T_45d1f_row0_col6\" class=\"data row0 col6\" >92300.885839</td>\n",
       "    </tr>\n",
       "    <tr>\n",
       "      <th id=\"T_45d1f_level0_row1\" class=\"row_heading level0 row1\" >15749.0</th>\n",
       "      <td id=\"T_45d1f_row1_col0\" class=\"data row1 col0\" >13.857143</td>\n",
       "      <td id=\"T_45d1f_row1_col1\" class=\"data row1 col1\" >47.571429</td>\n",
       "      <td id=\"T_45d1f_row1_col2\" class=\"data row1 col2\" >3</td>\n",
       "      <td id=\"T_45d1f_row1_col3\" class=\"data row1 col3\" >14844.766667</td>\n",
       "      <td id=\"T_45d1f_row1_col4\" class=\"data row1 col4\" >0.111556</td>\n",
       "      <td id=\"T_45d1f_row1_col5\" class=\"data row1 col5\" >0.331981</td>\n",
       "      <td id=\"T_45d1f_row1_col6\" class=\"data row1 col6\" >15764.032180</td>\n",
       "    </tr>\n",
       "    <tr>\n",
       "      <th id=\"T_45d1f_level0_row2\" class=\"row_heading level0 row2\" >15098.0</th>\n",
       "      <td id=\"T_45d1f_row2_col0\" class=\"data row2 col0\" >0.000000</td>\n",
       "      <td id=\"T_45d1f_row2_col1\" class=\"data row2 col1\" >26.142857</td>\n",
       "      <td id=\"T_45d1f_row2_col2\" class=\"data row2 col2\" >3</td>\n",
       "      <td id=\"T_45d1f_row2_col3\" class=\"data row2 col3\" >13305.500000</td>\n",
       "      <td id=\"T_45d1f_row2_col4\" class=\"data row2 col4\" >0.040052</td>\n",
       "      <td id=\"T_45d1f_row2_col5\" class=\"data row2 col5\" >0.118716</td>\n",
       "      <td id=\"T_45d1f_row2_col6\" class=\"data row2 col6\" >14129.582601</td>\n",
       "    </tr>\n",
       "    <tr>\n",
       "      <th id=\"T_45d1f_level0_row3\" class=\"row_heading level0 row3\" >12415.0</th>\n",
       "      <td id=\"T_45d1f_row3_col0\" class=\"data row3 col0\" >44.714286</td>\n",
       "      <td id=\"T_45d1f_row3_col1\" class=\"data row3 col1\" >48.285714</td>\n",
       "      <td id=\"T_45d1f_row3_col2\" class=\"data row3 col2\" >21</td>\n",
       "      <td id=\"T_45d1f_row3_col3\" class=\"data row3 col3\" >5948.310952</td>\n",
       "      <td id=\"T_45d1f_row3_col4\" class=\"data row3 col4\" >1.513975</td>\n",
       "      <td id=\"T_45d1f_row3_col5\" class=\"data row3 col5\" >4.508208</td>\n",
       "      <td id=\"T_45d1f_row3_col6\" class=\"data row3 col6\" >5998.390804</td>\n",
       "    </tr>\n",
       "    <tr>\n",
       "      <th id=\"T_45d1f_level0_row4\" class=\"row_heading level0 row4\" >12590.0</th>\n",
       "      <td id=\"T_45d1f_row4_col0\" class=\"data row4 col0\" >0.000000</td>\n",
       "      <td id=\"T_45d1f_row4_col1\" class=\"data row4 col1\" >30.285714</td>\n",
       "      <td id=\"T_45d1f_row4_col2\" class=\"data row4 col2\" >2</td>\n",
       "      <td id=\"T_45d1f_row4_col3\" class=\"data row4 col3\" >4932.130000</td>\n",
       "      <td id=\"T_45d1f_row4_col4\" class=\"data row4 col4\" >0.045934</td>\n",
       "      <td id=\"T_45d1f_row4_col5\" class=\"data row4 col5\" >0.136265</td>\n",
       "      <td id=\"T_45d1f_row4_col6\" class=\"data row4 col6\" >5406.242392</td>\n",
       "    </tr>\n",
       "    <tr>\n",
       "      <th id=\"T_45d1f_level0_row5\" class=\"row_heading level0 row5\" >12536.0</th>\n",
       "      <td id=\"T_45d1f_row5_col0\" class=\"data row5 col0\" >2.142857</td>\n",
       "      <td id=\"T_45d1f_row5_col1\" class=\"data row5 col1\" >8.571429</td>\n",
       "      <td id=\"T_45d1f_row5_col2\" class=\"data row5 col2\" >3</td>\n",
       "      <td id=\"T_45d1f_row5_col3\" class=\"data row5 col3\" >4200.610000</td>\n",
       "      <td id=\"T_45d1f_row5_col4\" class=\"data row5 col4\" >0.855978</td>\n",
       "      <td id=\"T_45d1f_row5_col5\" class=\"data row5 col5\" >2.516140</td>\n",
       "      <td id=\"T_45d1f_row5_col6\" class=\"data row5 col6\" >4461.677780</td>\n",
       "    </tr>\n",
       "    <tr>\n",
       "      <th id=\"T_45d1f_level0_row6\" class=\"row_heading level0 row6\" >16000.0</th>\n",
       "      <td id=\"T_45d1f_row6_col0\" class=\"data row6 col0\" >0.000000</td>\n",
       "      <td id=\"T_45d1f_row6_col1\" class=\"data row6 col1\" >0.428571</td>\n",
       "      <td id=\"T_45d1f_row6_col2\" class=\"data row6 col2\" >3</td>\n",
       "      <td id=\"T_45d1f_row6_col3\" class=\"data row6 col3\" >4131.233333</td>\n",
       "      <td id=\"T_45d1f_row6_col4\" class=\"data row6 col4\" >1.664397</td>\n",
       "      <td id=\"T_45d1f_row6_col5\" class=\"data row6 col5\" >4.845252</td>\n",
       "      <td id=\"T_45d1f_row6_col6\" class=\"data row6 col6\" >4388.011101</td>\n",
       "    </tr>\n",
       "    <tr>\n",
       "      <th id=\"T_45d1f_level0_row7\" class=\"row_heading level0 row7\" >18102.0</th>\n",
       "      <td id=\"T_45d1f_row7_col0\" class=\"data row7 col0\" >52.285714</td>\n",
       "      <td id=\"T_45d1f_row7_col1\" class=\"data row7 col1\" >52.571429</td>\n",
       "      <td id=\"T_45d1f_row7_col2\" class=\"data row7 col2\" >60</td>\n",
       "      <td id=\"T_45d1f_row7_col3\" class=\"data row7 col3\" >4327.621667</td>\n",
       "      <td id=\"T_45d1f_row7_col4\" class=\"data row7 col4\" >3.863856</td>\n",
       "      <td id=\"T_45d1f_row7_col5\" class=\"data row7 col5\" >11.511910</td>\n",
       "      <td id=\"T_45d1f_row7_col6\" class=\"data row7 col6\" >4340.321694</td>\n",
       "    </tr>\n",
       "    <tr>\n",
       "      <th id=\"T_45d1f_level0_row8\" class=\"row_heading level0 row8\" >12435.0</th>\n",
       "      <td id=\"T_45d1f_row8_col0\" class=\"data row8 col0\" >26.857143</td>\n",
       "      <td id=\"T_45d1f_row8_col1\" class=\"data row8 col1\" >38.285714</td>\n",
       "      <td id=\"T_45d1f_row8_col2\" class=\"data row8 col2\" >2</td>\n",
       "      <td id=\"T_45d1f_row8_col3\" class=\"data row8 col3\" >3914.945000</td>\n",
       "      <td id=\"T_45d1f_row8_col4\" class=\"data row8 col4\" >0.304072</td>\n",
       "      <td id=\"T_45d1f_row8_col5\" class=\"data row8 col5\" >0.903509</td>\n",
       "      <td id=\"T_45d1f_row8_col6\" class=\"data row8 col6\" >4291.698433</td>\n",
       "    </tr>\n",
       "    <tr>\n",
       "      <th id=\"T_45d1f_level0_row9\" class=\"row_heading level0 row9\" >17450.0</th>\n",
       "      <td id=\"T_45d1f_row9_col0\" class=\"data row9 col0\" >51.285714</td>\n",
       "      <td id=\"T_45d1f_row9_col1\" class=\"data row9 col1\" >52.571429</td>\n",
       "      <td id=\"T_45d1f_row9_col2\" class=\"data row9 col2\" >46</td>\n",
       "      <td id=\"T_45d1f_row9_col3\" class=\"data row9 col3\" >4229.365000</td>\n",
       "      <td id=\"T_45d1f_row9_col4\" class=\"data row9 col4\" >2.981719</td>\n",
       "      <td id=\"T_45d1f_row9_col5\" class=\"data row9 col5\" >8.883536</td>\n",
       "      <td id=\"T_45d1f_row9_col6\" class=\"data row9 col6\" >4245.570391</td>\n",
       "    </tr>\n",
       "  </tbody>\n",
       "</table>\n"
      ],
      "text/plain": [
       "<pandas.io.formats.style.Styler at 0x7f8231c1b8d0>"
      ]
     },
     "execution_count": 42,
     "metadata": {},
     "output_type": "execute_result"
    }
   ],
   "source": [
    "cltv_predict.sort_values(\"expected_average_profit\", ascending=False).head(10).style.set_properties(**{\"background-color\": \"#000000\",\"color\":\"#FFEA20\",\"border\": \"0.2px solid white\"})"
   ]
  },
  {
   "cell_type": "markdown",
   "id": "4ae0d202",
   "metadata": {
    "papermill": {
     "duration": 0.031375,
     "end_time": "2023-03-08T07:47:17.080657",
     "exception": false,
     "start_time": "2023-03-08T07:47:17.049282",
     "status": "completed"
    },
    "tags": []
   },
   "source": [
    "<p style= \"background-color:#000000;font-family:Georgia;color:#FEFBE9;font-size:300%;text-align:center;border-radius:20px 60px;overflow:hidden;border-style:dotted;border-width:1.8px;border-color:#FEFBE9;\"><b>Calculation of CLTV</b></p>"
   ]
  },
  {
   "cell_type": "code",
   "execution_count": 43,
   "id": "dc7a8f22",
   "metadata": {
    "execution": {
     "iopub.execute_input": "2023-03-08T07:47:17.145891Z",
     "iopub.status.busy": "2023-03-08T07:47:17.145116Z",
     "iopub.status.idle": "2023-03-08T07:47:17.206582Z",
     "shell.execute_reply": "2023-03-08T07:47:17.205180Z"
    },
    "papermill": {
     "duration": 0.097491,
     "end_time": "2023-03-08T07:47:17.209391",
     "exception": false,
     "start_time": "2023-03-08T07:47:17.111900",
     "status": "completed"
    },
    "tags": []
   },
   "outputs": [
    {
     "data": {
      "text/plain": [
       "CustomerID\n",
       "12347.000   1128.654\n",
       "12356.000   1083.507\n",
       "12358.000    982.080\n",
       "12352.000    738.058\n",
       "12348.000    546.998\n",
       "Name: clv, dtype: float64"
      ]
     },
     "execution_count": 43,
     "metadata": {},
     "output_type": "execute_result"
    }
   ],
   "source": [
    "# CLTV(Müşteri Yaşamboyu Değeri)'nin hesaplanmasi\n",
    "\n",
    "cltv_result = ggf.customer_lifetime_value(bgf,\n",
    "                                   cltv_predict['frequency'],\n",
    "                                   cltv_predict['recency'],\n",
    "                                   cltv_predict['T'],\n",
    "                                   cltv_predict['monetary'],\n",
    "                                   time=3,  # 3 aylık\n",
    "                                   freq=\"W\",  # T'nin frekans bilgisi.\n",
    "                                   discount_rate=0.01)\n",
    "cltv_result.head().sort_values(ascending=False)"
   ]
  },
  {
   "cell_type": "code",
   "execution_count": 44,
   "id": "63a59d40",
   "metadata": {
    "execution": {
     "iopub.execute_input": "2023-03-08T07:47:17.275708Z",
     "iopub.status.busy": "2023-03-08T07:47:17.274890Z",
     "iopub.status.idle": "2023-03-08T07:47:17.306836Z",
     "shell.execute_reply": "2023-03-08T07:47:17.305397Z"
    },
    "papermill": {
     "duration": 0.068395,
     "end_time": "2023-03-08T07:47:17.309611",
     "exception": false,
     "start_time": "2023-03-08T07:47:17.241216",
     "status": "completed"
    },
    "tags": []
   },
   "outputs": [
    {
     "data": {
      "text/html": [
       "<style type=\"text/css\">\n",
       "#T_66cd9_row0_col0, #T_66cd9_row0_col1, #T_66cd9_row0_col2, #T_66cd9_row0_col3, #T_66cd9_row0_col4, #T_66cd9_row0_col5, #T_66cd9_row0_col6, #T_66cd9_row0_col7, #T_66cd9_row0_col8, #T_66cd9_row1_col0, #T_66cd9_row1_col1, #T_66cd9_row1_col2, #T_66cd9_row1_col3, #T_66cd9_row1_col4, #T_66cd9_row1_col5, #T_66cd9_row1_col6, #T_66cd9_row1_col7, #T_66cd9_row1_col8, #T_66cd9_row2_col0, #T_66cd9_row2_col1, #T_66cd9_row2_col2, #T_66cd9_row2_col3, #T_66cd9_row2_col4, #T_66cd9_row2_col5, #T_66cd9_row2_col6, #T_66cd9_row2_col7, #T_66cd9_row2_col8, #T_66cd9_row3_col0, #T_66cd9_row3_col1, #T_66cd9_row3_col2, #T_66cd9_row3_col3, #T_66cd9_row3_col4, #T_66cd9_row3_col5, #T_66cd9_row3_col6, #T_66cd9_row3_col7, #T_66cd9_row3_col8, #T_66cd9_row4_col0, #T_66cd9_row4_col1, #T_66cd9_row4_col2, #T_66cd9_row4_col3, #T_66cd9_row4_col4, #T_66cd9_row4_col5, #T_66cd9_row4_col6, #T_66cd9_row4_col7, #T_66cd9_row4_col8, #T_66cd9_row5_col0, #T_66cd9_row5_col1, #T_66cd9_row5_col2, #T_66cd9_row5_col3, #T_66cd9_row5_col4, #T_66cd9_row5_col5, #T_66cd9_row5_col6, #T_66cd9_row5_col7, #T_66cd9_row5_col8, #T_66cd9_row6_col0, #T_66cd9_row6_col1, #T_66cd9_row6_col2, #T_66cd9_row6_col3, #T_66cd9_row6_col4, #T_66cd9_row6_col5, #T_66cd9_row6_col6, #T_66cd9_row6_col7, #T_66cd9_row6_col8, #T_66cd9_row7_col0, #T_66cd9_row7_col1, #T_66cd9_row7_col2, #T_66cd9_row7_col3, #T_66cd9_row7_col4, #T_66cd9_row7_col5, #T_66cd9_row7_col6, #T_66cd9_row7_col7, #T_66cd9_row7_col8, #T_66cd9_row8_col0, #T_66cd9_row8_col1, #T_66cd9_row8_col2, #T_66cd9_row8_col3, #T_66cd9_row8_col4, #T_66cd9_row8_col5, #T_66cd9_row8_col6, #T_66cd9_row8_col7, #T_66cd9_row8_col8, #T_66cd9_row9_col0, #T_66cd9_row9_col1, #T_66cd9_row9_col2, #T_66cd9_row9_col3, #T_66cd9_row9_col4, #T_66cd9_row9_col5, #T_66cd9_row9_col6, #T_66cd9_row9_col7, #T_66cd9_row9_col8 {\n",
       "  background-color: #000000;\n",
       "  color: #FFEA20;\n",
       "  border: 0.2px solid white;\n",
       "}\n",
       "</style>\n",
       "<table id=\"T_66cd9_\">\n",
       "  <thead>\n",
       "    <tr>\n",
       "      <th class=\"blank level0\" >&nbsp;</th>\n",
       "      <th class=\"col_heading level0 col0\" >CustomerID</th>\n",
       "      <th class=\"col_heading level0 col1\" >recency</th>\n",
       "      <th class=\"col_heading level0 col2\" >T</th>\n",
       "      <th class=\"col_heading level0 col3\" >frequency</th>\n",
       "      <th class=\"col_heading level0 col4\" >monetary</th>\n",
       "      <th class=\"col_heading level0 col5\" >expected_purc_1_month</th>\n",
       "      <th class=\"col_heading level0 col6\" >expected_purc_3_month</th>\n",
       "      <th class=\"col_heading level0 col7\" >expected_average_profit</th>\n",
       "      <th class=\"col_heading level0 col8\" >clv</th>\n",
       "    </tr>\n",
       "  </thead>\n",
       "  <tbody>\n",
       "    <tr>\n",
       "      <th id=\"T_66cd9_level0_row0\" class=\"row_heading level0 row0\" >0</th>\n",
       "      <td id=\"T_66cd9_row0_col0\" class=\"data row0 col0\" >12347.000000</td>\n",
       "      <td id=\"T_66cd9_row0_col1\" class=\"data row0 col1\" >52.142857</td>\n",
       "      <td id=\"T_66cd9_row0_col2\" class=\"data row0 col2\" >52.571429</td>\n",
       "      <td id=\"T_66cd9_row0_col3\" class=\"data row0 col3\" >7</td>\n",
       "      <td id=\"T_66cd9_row0_col4\" class=\"data row0 col4\" >615.714286</td>\n",
       "      <td id=\"T_66cd9_row0_col5\" class=\"data row0 col5\" >0.563516</td>\n",
       "      <td id=\"T_66cd9_row0_col6\" class=\"data row0 col6\" >1.678394</td>\n",
       "      <td id=\"T_66cd9_row0_col7\" class=\"data row0 col7\" >632.019673</td>\n",
       "      <td id=\"T_66cd9_row0_col8\" class=\"data row0 col8\" >1128.653739</td>\n",
       "    </tr>\n",
       "    <tr>\n",
       "      <th id=\"T_66cd9_level0_row1\" class=\"row_heading level0 row1\" >1</th>\n",
       "      <td id=\"T_66cd9_row1_col0\" class=\"data row1 col0\" >12348.000000</td>\n",
       "      <td id=\"T_66cd9_row1_col1\" class=\"data row1 col1\" >40.285714</td>\n",
       "      <td id=\"T_66cd9_row1_col2\" class=\"data row1 col2\" >51.285714</td>\n",
       "      <td id=\"T_66cd9_row1_col3\" class=\"data row1 col3\" >4</td>\n",
       "      <td id=\"T_66cd9_row1_col4\" class=\"data row1 col4\" >449.310000</td>\n",
       "      <td id=\"T_66cd9_row1_col5\" class=\"data row1 col5\" >0.366752</td>\n",
       "      <td id=\"T_66cd9_row1_col6\" class=\"data row1 col6\" >1.092006</td>\n",
       "      <td id=\"T_66cd9_row1_col7\" class=\"data row1 col7\" >470.803034</td>\n",
       "      <td id=\"T_66cd9_row1_col8\" class=\"data row1 col8\" >546.997685</td>\n",
       "    </tr>\n",
       "    <tr>\n",
       "      <th id=\"T_66cd9_level0_row2\" class=\"row_heading level0 row2\" >2</th>\n",
       "      <td id=\"T_66cd9_row2_col0\" class=\"data row2 col0\" >12352.000000</td>\n",
       "      <td id=\"T_66cd9_row2_col1\" class=\"data row2 col1\" >37.142857</td>\n",
       "      <td id=\"T_66cd9_row2_col2\" class=\"data row2 col2\" >42.428571</td>\n",
       "      <td id=\"T_66cd9_row2_col3\" class=\"data row2 col3\" >8</td>\n",
       "      <td id=\"T_66cd9_row2_col4\" class=\"data row2 col4\" >313.255000</td>\n",
       "      <td id=\"T_66cd9_row2_col5\" class=\"data row2 col5\" >0.727126</td>\n",
       "      <td id=\"T_66cd9_row2_col6\" class=\"data row2 col6\" >2.163117</td>\n",
       "      <td id=\"T_66cd9_row2_col7\" class=\"data row2 col7\" >320.724048</td>\n",
       "      <td id=\"T_66cd9_row2_col8\" class=\"data row2 col8\" >738.058132</td>\n",
       "    </tr>\n",
       "    <tr>\n",
       "      <th id=\"T_66cd9_level0_row3\" class=\"row_heading level0 row3\" >3</th>\n",
       "      <td id=\"T_66cd9_row3_col0\" class=\"data row3 col0\" >12356.000000</td>\n",
       "      <td id=\"T_66cd9_row3_col1\" class=\"data row3 col1\" >43.142857</td>\n",
       "      <td id=\"T_66cd9_row3_col2\" class=\"data row3 col2\" >46.571429</td>\n",
       "      <td id=\"T_66cd9_row3_col3\" class=\"data row3 col3\" >3</td>\n",
       "      <td id=\"T_66cd9_row3_col4\" class=\"data row3 col4\" >937.143333</td>\n",
       "      <td id=\"T_66cd9_row3_col5\" class=\"data row3 col5\" >0.343511</td>\n",
       "      <td id=\"T_66cd9_row3_col6\" class=\"data row3 col6\" >1.022127</td>\n",
       "      <td id=\"T_66cd9_row3_col7\" class=\"data row3 col7\" >996.409652</td>\n",
       "      <td id=\"T_66cd9_row3_col8\" class=\"data row3 col8\" >1083.507270</td>\n",
       "    </tr>\n",
       "    <tr>\n",
       "      <th id=\"T_66cd9_level0_row4\" class=\"row_heading level0 row4\" >4</th>\n",
       "      <td id=\"T_66cd9_row4_col0\" class=\"data row4 col0\" >12358.000000</td>\n",
       "      <td id=\"T_66cd9_row4_col1\" class=\"data row4 col1\" >21.285714</td>\n",
       "      <td id=\"T_66cd9_row4_col2\" class=\"data row4 col2\" >21.571429</td>\n",
       "      <td id=\"T_66cd9_row4_col3\" class=\"data row4 col3\" >2</td>\n",
       "      <td id=\"T_66cd9_row4_col4\" class=\"data row4 col4\" >584.030000</td>\n",
       "      <td id=\"T_66cd9_row4_col5\" class=\"data row4 col5\" >0.486232</td>\n",
       "      <td id=\"T_66cd9_row4_col6\" class=\"data row4 col6\" >1.438802</td>\n",
       "      <td id=\"T_66cd9_row4_col7\" class=\"data row4 col7\" >641.967861</td>\n",
       "      <td id=\"T_66cd9_row4_col8\" class=\"data row4 col8\" >982.080404</td>\n",
       "    </tr>\n",
       "    <tr>\n",
       "      <th id=\"T_66cd9_level0_row5\" class=\"row_heading level0 row5\" >5</th>\n",
       "      <td id=\"T_66cd9_row5_col0\" class=\"data row5 col0\" >12359.000000</td>\n",
       "      <td id=\"T_66cd9_row5_col1\" class=\"data row5 col1\" >39.142857</td>\n",
       "      <td id=\"T_66cd9_row5_col2\" class=\"data row5 col2\" >47.428571</td>\n",
       "      <td id=\"T_66cd9_row5_col3\" class=\"data row5 col3\" >4</td>\n",
       "      <td id=\"T_66cd9_row5_col4\" class=\"data row5 col4\" >1593.145000</td>\n",
       "      <td id=\"T_66cd9_row5_col5\" class=\"data row5 col5\" >0.396616</td>\n",
       "      <td id=\"T_66cd9_row5_col6\" class=\"data row5 col6\" >1.180395</td>\n",
       "      <td id=\"T_66cd9_row5_col7\" class=\"data row5 col7\" >1666.878534</td>\n",
       "      <td id=\"T_66cd9_row5_col8\" class=\"data row5 col8\" >2093.297029</td>\n",
       "    </tr>\n",
       "    <tr>\n",
       "      <th id=\"T_66cd9_level0_row6\" class=\"row_heading level0 row6\" >6</th>\n",
       "      <td id=\"T_66cd9_row6_col0\" class=\"data row6 col0\" >12360.000000</td>\n",
       "      <td id=\"T_66cd9_row6_col1\" class=\"data row6 col1\" >21.142857</td>\n",
       "      <td id=\"T_66cd9_row6_col2\" class=\"data row6 col2\" >28.714286</td>\n",
       "      <td id=\"T_66cd9_row6_col3\" class=\"data row6 col3\" >3</td>\n",
       "      <td id=\"T_66cd9_row6_col4\" class=\"data row6 col4\" >887.353333</td>\n",
       "      <td id=\"T_66cd9_row6_col5\" class=\"data row6 col5\" >0.476249</td>\n",
       "      <td id=\"T_66cd9_row6_col6\" class=\"data row6 col6\" >1.412576</td>\n",
       "      <td id=\"T_66cd9_row6_col7\" class=\"data row6 col7\" >943.540811</td>\n",
       "      <td id=\"T_66cd9_row6_col8\" class=\"data row6 col8\" >1417.463774</td>\n",
       "    </tr>\n",
       "    <tr>\n",
       "      <th id=\"T_66cd9_level0_row7\" class=\"row_heading level0 row7\" >7</th>\n",
       "      <td id=\"T_66cd9_row7_col0\" class=\"data row7 col0\" >12362.000000</td>\n",
       "      <td id=\"T_66cd9_row7_col1\" class=\"data row7 col1\" >41.714286</td>\n",
       "      <td id=\"T_66cd9_row7_col2\" class=\"data row7 col2\" >42.285714</td>\n",
       "      <td id=\"T_66cd9_row7_col3\" class=\"data row7 col3\" >10</td>\n",
       "      <td id=\"T_66cd9_row7_col4\" class=\"data row7 col4\" >522.623000</td>\n",
       "      <td id=\"T_66cd9_row7_col5\" class=\"data row7 col5\" >0.893010</td>\n",
       "      <td id=\"T_66cd9_row7_col6\" class=\"data row7 col6\" >2.656718</td>\n",
       "      <td id=\"T_66cd9_row7_col7\" class=\"data row7 col7\" >532.294509</td>\n",
       "      <td id=\"T_66cd9_row7_col8\" class=\"data row7 col8\" >1504.452639</td>\n",
       "    </tr>\n",
       "    <tr>\n",
       "      <th id=\"T_66cd9_level0_row8\" class=\"row_heading level0 row8\" >8</th>\n",
       "      <td id=\"T_66cd9_row8_col0\" class=\"data row8 col0\" >12363.000000</td>\n",
       "      <td id=\"T_66cd9_row8_col1\" class=\"data row8 col1\" >18.857143</td>\n",
       "      <td id=\"T_66cd9_row8_col2\" class=\"data row8 col2\" >34.714286</td>\n",
       "      <td id=\"T_66cd9_row8_col3\" class=\"data row8 col3\" >2</td>\n",
       "      <td id=\"T_66cd9_row8_col4\" class=\"data row8 col4\" >276.000000</td>\n",
       "      <td id=\"T_66cd9_row8_col5\" class=\"data row8 col5\" >0.301106</td>\n",
       "      <td id=\"T_66cd9_row8_col6\" class=\"data row8 col6\" >0.894105</td>\n",
       "      <td id=\"T_66cd9_row8_col7\" class=\"data row8 col7\" >304.455043</td>\n",
       "      <td id=\"T_66cd9_row8_col8\" class=\"data row8 col8\" >289.536775</td>\n",
       "    </tr>\n",
       "    <tr>\n",
       "      <th id=\"T_66cd9_level0_row9\" class=\"row_heading level0 row9\" >9</th>\n",
       "      <td id=\"T_66cd9_row9_col0\" class=\"data row9 col0\" >12364.000000</td>\n",
       "      <td id=\"T_66cd9_row9_col1\" class=\"data row9 col1\" >14.857143</td>\n",
       "      <td id=\"T_66cd9_row9_col2\" class=\"data row9 col2\" >16.142857</td>\n",
       "      <td id=\"T_66cd9_row9_col3\" class=\"data row9 col3\" >4</td>\n",
       "      <td id=\"T_66cd9_row9_col4\" class=\"data row9 col4\" >328.275000</td>\n",
       "      <td id=\"T_66cd9_row9_col5\" class=\"data row9 col5\" >0.864628</td>\n",
       "      <td id=\"T_66cd9_row9_col6\" class=\"data row9 col6\" >2.553962</td>\n",
       "      <td id=\"T_66cd9_row9_col7\" class=\"data row9 col7\" >344.240201</td>\n",
       "      <td id=\"T_66cd9_row9_col8\" class=\"data row9 col8\" >934.610618</td>\n",
       "    </tr>\n",
       "  </tbody>\n",
       "</table>\n"
      ],
      "text/plain": [
       "<pandas.io.formats.style.Styler at 0x7f82344c0950>"
      ]
     },
     "execution_count": 44,
     "metadata": {},
     "output_type": "execute_result"
    }
   ],
   "source": [
    "# Olusturdugumuz CLTV degerini datafram e ekleyelım.\n",
    "cltv_result = cltv_result.reset_index()\n",
    "cltv_final = cltv_predict.merge(cltv_result, on=\"CustomerID\", how=\"left\")\n",
    "\n",
    "cltv_final.head(10).style.set_properties(**{\"background-color\": \"#000000\",\"color\":\"#FFEA20\",\"border\": \"0.2px solid white\"})"
   ]
  },
  {
   "cell_type": "code",
   "execution_count": 45,
   "id": "5a2fb45e",
   "metadata": {
    "execution": {
     "iopub.execute_input": "2023-03-08T07:47:17.377475Z",
     "iopub.status.busy": "2023-03-08T07:47:17.376996Z",
     "iopub.status.idle": "2023-03-08T07:47:17.402006Z",
     "shell.execute_reply": "2023-03-08T07:47:17.401097Z"
    },
    "papermill": {
     "duration": 0.061613,
     "end_time": "2023-03-08T07:47:17.404144",
     "exception": false,
     "start_time": "2023-03-08T07:47:17.342531",
     "status": "completed"
    },
    "tags": []
   },
   "outputs": [
    {
     "data": {
      "text/html": [
       "<style type=\"text/css\">\n",
       "#T_01dc5_row0_col0, #T_01dc5_row0_col1, #T_01dc5_row0_col2, #T_01dc5_row0_col3, #T_01dc5_row0_col4, #T_01dc5_row0_col5, #T_01dc5_row0_col6, #T_01dc5_row0_col7, #T_01dc5_row0_col8, #T_01dc5_row1_col0, #T_01dc5_row1_col1, #T_01dc5_row1_col2, #T_01dc5_row1_col3, #T_01dc5_row1_col4, #T_01dc5_row1_col5, #T_01dc5_row1_col6, #T_01dc5_row1_col7, #T_01dc5_row1_col8, #T_01dc5_row2_col0, #T_01dc5_row2_col1, #T_01dc5_row2_col2, #T_01dc5_row2_col3, #T_01dc5_row2_col4, #T_01dc5_row2_col5, #T_01dc5_row2_col6, #T_01dc5_row2_col7, #T_01dc5_row2_col8, #T_01dc5_row3_col0, #T_01dc5_row3_col1, #T_01dc5_row3_col2, #T_01dc5_row3_col3, #T_01dc5_row3_col4, #T_01dc5_row3_col5, #T_01dc5_row3_col6, #T_01dc5_row3_col7, #T_01dc5_row3_col8, #T_01dc5_row4_col0, #T_01dc5_row4_col1, #T_01dc5_row4_col2, #T_01dc5_row4_col3, #T_01dc5_row4_col4, #T_01dc5_row4_col5, #T_01dc5_row4_col6, #T_01dc5_row4_col7, #T_01dc5_row4_col8, #T_01dc5_row5_col0, #T_01dc5_row5_col1, #T_01dc5_row5_col2, #T_01dc5_row5_col3, #T_01dc5_row5_col4, #T_01dc5_row5_col5, #T_01dc5_row5_col6, #T_01dc5_row5_col7, #T_01dc5_row5_col8, #T_01dc5_row6_col0, #T_01dc5_row6_col1, #T_01dc5_row6_col2, #T_01dc5_row6_col3, #T_01dc5_row6_col4, #T_01dc5_row6_col5, #T_01dc5_row6_col6, #T_01dc5_row6_col7, #T_01dc5_row6_col8, #T_01dc5_row7_col0, #T_01dc5_row7_col1, #T_01dc5_row7_col2, #T_01dc5_row7_col3, #T_01dc5_row7_col4, #T_01dc5_row7_col5, #T_01dc5_row7_col6, #T_01dc5_row7_col7, #T_01dc5_row7_col8, #T_01dc5_row8_col0, #T_01dc5_row8_col1, #T_01dc5_row8_col2, #T_01dc5_row8_col3, #T_01dc5_row8_col4, #T_01dc5_row8_col5, #T_01dc5_row8_col6, #T_01dc5_row8_col7, #T_01dc5_row8_col8, #T_01dc5_row9_col0, #T_01dc5_row9_col1, #T_01dc5_row9_col2, #T_01dc5_row9_col3, #T_01dc5_row9_col4, #T_01dc5_row9_col5, #T_01dc5_row9_col6, #T_01dc5_row9_col7, #T_01dc5_row9_col8 {\n",
       "  background-color: #000000;\n",
       "  color: #FFEA20;\n",
       "  border: 0.2px solid white;\n",
       "}\n",
       "</style>\n",
       "<table id=\"T_01dc5_\">\n",
       "  <thead>\n",
       "    <tr>\n",
       "      <th class=\"blank level0\" >&nbsp;</th>\n",
       "      <th class=\"col_heading level0 col0\" >CustomerID</th>\n",
       "      <th class=\"col_heading level0 col1\" >recency</th>\n",
       "      <th class=\"col_heading level0 col2\" >T</th>\n",
       "      <th class=\"col_heading level0 col3\" >frequency</th>\n",
       "      <th class=\"col_heading level0 col4\" >monetary</th>\n",
       "      <th class=\"col_heading level0 col5\" >expected_purc_1_month</th>\n",
       "      <th class=\"col_heading level0 col6\" >expected_purc_3_month</th>\n",
       "      <th class=\"col_heading level0 col7\" >expected_average_profit</th>\n",
       "      <th class=\"col_heading level0 col8\" >clv</th>\n",
       "    </tr>\n",
       "  </thead>\n",
       "  <tbody>\n",
       "    <tr>\n",
       "      <th id=\"T_01dc5_level0_row0\" class=\"row_heading level0 row0\" >1970</th>\n",
       "      <td id=\"T_01dc5_row0_col0\" class=\"data row0 col0\" >16446.000000</td>\n",
       "      <td id=\"T_01dc5_row0_col1\" class=\"data row0 col1\" >29.142857</td>\n",
       "      <td id=\"T_01dc5_row0_col2\" class=\"data row0 col2\" >29.428571</td>\n",
       "      <td id=\"T_01dc5_row0_col3\" class=\"data row0 col3\" >2</td>\n",
       "      <td id=\"T_01dc5_row0_col4\" class=\"data row0 col4\" >84236.250000</td>\n",
       "      <td id=\"T_01dc5_row0_col5\" class=\"data row0 col5\" >0.393326</td>\n",
       "      <td id=\"T_01dc5_row0_col6\" class=\"data row0 col6\" >1.166587</td>\n",
       "      <td id=\"T_01dc5_row0_col7\" class=\"data row0 col7\" >92300.885839</td>\n",
       "      <td id=\"T_01dc5_row0_col8\" class=\"data row0 col8\" >114514.629477</td>\n",
       "    </tr>\n",
       "    <tr>\n",
       "      <th id=\"T_01dc5_level0_row1\" class=\"row_heading level0 row1\" >1122</th>\n",
       "      <td id=\"T_01dc5_row1_col0\" class=\"data row1 col0\" >14646.000000</td>\n",
       "      <td id=\"T_01dc5_row1_col1\" class=\"data row1 col1\" >50.428571</td>\n",
       "      <td id=\"T_01dc5_row1_col2\" class=\"data row1 col2\" >50.714286</td>\n",
       "      <td id=\"T_01dc5_row1_col3\" class=\"data row1 col3\" >74</td>\n",
       "      <td id=\"T_01dc5_row1_col4\" class=\"data row1 col4\" >3786.567838</td>\n",
       "      <td id=\"T_01dc5_row1_col5\" class=\"data row1 col5\" >4.876360</td>\n",
       "      <td id=\"T_01dc5_row1_col6\" class=\"data row1 col6\" >14.525946</td>\n",
       "      <td id=\"T_01dc5_row1_col7\" class=\"data row1 col7\" >3795.579076</td>\n",
       "      <td id=\"T_01dc5_row1_col8\" class=\"data row1 col8\" >58663.166838</td>\n",
       "    </tr>\n",
       "    <tr>\n",
       "      <th id=\"T_01dc5_level0_row2\" class=\"row_heading level0 row2\" >2761</th>\n",
       "      <td id=\"T_01dc5_row2_col0\" class=\"data row2 col0\" >18102.000000</td>\n",
       "      <td id=\"T_01dc5_row2_col1\" class=\"data row2 col1\" >52.285714</td>\n",
       "      <td id=\"T_01dc5_row2_col2\" class=\"data row2 col2\" >52.571429</td>\n",
       "      <td id=\"T_01dc5_row2_col3\" class=\"data row2 col3\" >60</td>\n",
       "      <td id=\"T_01dc5_row2_col4\" class=\"data row2 col4\" >4327.621667</td>\n",
       "      <td id=\"T_01dc5_row2_col5\" class=\"data row2 col5\" >3.863856</td>\n",
       "      <td id=\"T_01dc5_row2_col6\" class=\"data row2 col6\" >11.511910</td>\n",
       "      <td id=\"T_01dc5_row2_col7\" class=\"data row2 col7\" >4340.321694</td>\n",
       "      <td id=\"T_01dc5_row2_col8\" class=\"data row2 col8\" >53164.411473</td>\n",
       "    </tr>\n",
       "    <tr>\n",
       "      <th id=\"T_01dc5_level0_row3\" class=\"row_heading level0 row3\" >2458</th>\n",
       "      <td id=\"T_01dc5_row3_col0\" class=\"data row3 col0\" >17450.000000</td>\n",
       "      <td id=\"T_01dc5_row3_col1\" class=\"data row3 col1\" >51.285714</td>\n",
       "      <td id=\"T_01dc5_row3_col2\" class=\"data row3 col2\" >52.571429</td>\n",
       "      <td id=\"T_01dc5_row3_col3\" class=\"data row3 col3\" >46</td>\n",
       "      <td id=\"T_01dc5_row3_col4\" class=\"data row3 col4\" >4229.365000</td>\n",
       "      <td id=\"T_01dc5_row3_col5\" class=\"data row3 col5\" >2.981719</td>\n",
       "      <td id=\"T_01dc5_row3_col6\" class=\"data row3 col6\" >8.883536</td>\n",
       "      <td id=\"T_01dc5_row3_col7\" class=\"data row3 col7\" >4245.570391</td>\n",
       "      <td id=\"T_01dc5_row3_col8\" class=\"data row3 col8\" >40130.337698</td>\n",
       "    </tr>\n",
       "    <tr>\n",
       "      <th id=\"T_01dc5_level0_row4\" class=\"row_heading level0 row4\" >843</th>\n",
       "      <td id=\"T_01dc5_row4_col0\" class=\"data row4 col0\" >14096.000000</td>\n",
       "      <td id=\"T_01dc5_row4_col1\" class=\"data row4 col1\" >13.857143</td>\n",
       "      <td id=\"T_01dc5_row4_col2\" class=\"data row4 col2\" >14.571429</td>\n",
       "      <td id=\"T_01dc5_row4_col3\" class=\"data row4 col3\" >17</td>\n",
       "      <td id=\"T_01dc5_row4_col4\" class=\"data row4 col4\" >3833.222941</td>\n",
       "      <td id=\"T_01dc5_row4_col5\" class=\"data row4 col5\" >2.895990</td>\n",
       "      <td id=\"T_01dc5_row4_col6\" class=\"data row4 col6\" >8.553942</td>\n",
       "      <td id=\"T_01dc5_row4_col7\" class=\"data row4 col7\" >3873.246509</td>\n",
       "      <td id=\"T_01dc5_row4_col8\" class=\"data row4 col8\" >35220.462461</td>\n",
       "    </tr>\n",
       "    <tr>\n",
       "      <th id=\"T_01dc5_level0_row5\" class=\"row_heading level0 row5\" >36</th>\n",
       "      <td id=\"T_01dc5_row5_col0\" class=\"data row5 col0\" >12415.000000</td>\n",
       "      <td id=\"T_01dc5_row5_col1\" class=\"data row5 col1\" >44.714286</td>\n",
       "      <td id=\"T_01dc5_row5_col2\" class=\"data row5 col2\" >48.285714</td>\n",
       "      <td id=\"T_01dc5_row5_col3\" class=\"data row5 col3\" >21</td>\n",
       "      <td id=\"T_01dc5_row5_col4\" class=\"data row5 col4\" >5948.310952</td>\n",
       "      <td id=\"T_01dc5_row5_col5\" class=\"data row5 col5\" >1.513975</td>\n",
       "      <td id=\"T_01dc5_row5_col6\" class=\"data row5 col6\" >4.508208</td>\n",
       "      <td id=\"T_01dc5_row5_col7\" class=\"data row5 col7\" >5998.390804</td>\n",
       "      <td id=\"T_01dc5_row5_col8\" class=\"data row5 col8\" >28771.566605</td>\n",
       "    </tr>\n",
       "    <tr>\n",
       "      <th id=\"T_01dc5_level0_row6\" class=\"row_heading level0 row6\" >1257</th>\n",
       "      <td id=\"T_01dc5_row6_col0\" class=\"data row6 col0\" >14911.000000</td>\n",
       "      <td id=\"T_01dc5_row6_col1\" class=\"data row6 col1\" >53.142857</td>\n",
       "      <td id=\"T_01dc5_row6_col2\" class=\"data row6 col2\" >53.428571</td>\n",
       "      <td id=\"T_01dc5_row6_col3\" class=\"data row6 col3\" >201</td>\n",
       "      <td id=\"T_01dc5_row6_col4\" class=\"data row6 col4\" >715.547562</td>\n",
       "      <td id=\"T_01dc5_row6_col5\" class=\"data row6 col5\" >12.473095</td>\n",
       "      <td id=\"T_01dc5_row6_col6\" class=\"data row6 col6\" >37.166735</td>\n",
       "      <td id=\"T_01dc5_row6_col7\" class=\"data row6 col7\" >716.188570</td>\n",
       "      <td id=\"T_01dc5_row6_col8\" class=\"data row6 col8\" >28323.017358</td>\n",
       "    </tr>\n",
       "    <tr>\n",
       "      <th id=\"T_01dc5_level0_row7\" class=\"row_heading level0 row7\" >874</th>\n",
       "      <td id=\"T_01dc5_row7_col0\" class=\"data row7 col0\" >14156.000000</td>\n",
       "      <td id=\"T_01dc5_row7_col1\" class=\"data row7 col1\" >51.571429</td>\n",
       "      <td id=\"T_01dc5_row7_col2\" class=\"data row7 col2\" >53.142857</td>\n",
       "      <td id=\"T_01dc5_row7_col3\" class=\"data row7 col3\" >55</td>\n",
       "      <td id=\"T_01dc5_row7_col4\" class=\"data row7 col4\" >2134.175091</td>\n",
       "      <td id=\"T_01dc5_row7_col5\" class=\"data row7 col5\" >3.500701</td>\n",
       "      <td id=\"T_01dc5_row7_col6\" class=\"data row7 col6\" >10.430466</td>\n",
       "      <td id=\"T_01dc5_row7_col7\" class=\"data row7 col7\" >2141.043706</td>\n",
       "      <td id=\"T_01dc5_row7_col8\" class=\"data row7 col8\" >23762.025642</td>\n",
       "    </tr>\n",
       "    <tr>\n",
       "      <th id=\"T_01dc5_level0_row8\" class=\"row_heading level0 row8\" >1754</th>\n",
       "      <td id=\"T_01dc5_row8_col0\" class=\"data row8 col0\" >16000.000000</td>\n",
       "      <td id=\"T_01dc5_row8_col1\" class=\"data row8 col1\" >0.000000</td>\n",
       "      <td id=\"T_01dc5_row8_col2\" class=\"data row8 col2\" >0.428571</td>\n",
       "      <td id=\"T_01dc5_row8_col3\" class=\"data row8 col3\" >3</td>\n",
       "      <td id=\"T_01dc5_row8_col4\" class=\"data row8 col4\" >4131.233333</td>\n",
       "      <td id=\"T_01dc5_row8_col5\" class=\"data row8 col5\" >1.664397</td>\n",
       "      <td id=\"T_01dc5_row8_col6\" class=\"data row8 col6\" >4.845252</td>\n",
       "      <td id=\"T_01dc5_row8_col7\" class=\"data row8 col7\" >4388.011101</td>\n",
       "      <td id=\"T_01dc5_row8_col8\" class=\"data row8 col8\" >22570.929411</td>\n",
       "    </tr>\n",
       "    <tr>\n",
       "      <th id=\"T_01dc5_level0_row9\" class=\"row_heading level0 row9\" >2487</th>\n",
       "      <td id=\"T_01dc5_row9_col0\" class=\"data row9 col0\" >17511.000000</td>\n",
       "      <td id=\"T_01dc5_row9_col1\" class=\"data row9 col1\" >52.857143</td>\n",
       "      <td id=\"T_01dc5_row9_col2\" class=\"data row9 col2\" >53.428571</td>\n",
       "      <td id=\"T_01dc5_row9_col3\" class=\"data row9 col3\" >31</td>\n",
       "      <td id=\"T_01dc5_row9_col4\" class=\"data row9 col4\" >2937.496129</td>\n",
       "      <td id=\"T_01dc5_row9_col5\" class=\"data row9 col5\" >2.029876</td>\n",
       "      <td id=\"T_01dc5_row9_col6\" class=\"data row9 col6\" >6.047990</td>\n",
       "      <td id=\"T_01dc5_row9_col7\" class=\"data row9 col7\" >2954.265446</td>\n",
       "      <td id=\"T_01dc5_row9_col8\" class=\"data row9 col8\" >19011.394708</td>\n",
       "    </tr>\n",
       "  </tbody>\n",
       "</table>\n"
      ],
      "text/plain": [
       "<pandas.io.formats.style.Styler at 0x7f8231b99ed0>"
      ]
     },
     "execution_count": 45,
     "metadata": {},
     "output_type": "execute_result"
    }
   ],
   "source": [
    "cltv_final.sort_values(by=\"clv\", ascending=False).head(10).style.set_properties(**{\"background-color\": \"#000000\",\"color\":\"#FFEA20\",\"border\": \"0.2px solid white\"})"
   ]
  },
  {
   "cell_type": "markdown",
   "id": "08dace07",
   "metadata": {
    "papermill": {
     "duration": 0.032473,
     "end_time": "2023-03-08T07:47:17.469710",
     "exception": false,
     "start_time": "2023-03-08T07:47:17.437237",
     "status": "completed"
    },
    "tags": []
   },
   "source": [
    "<p style= \"background-color:#000000;font-family:Georgia;color:#FEFBE9;font-size:300%;text-align:center;border-radius:20px 60px;overflow:hidden;border-style:dotted;border-width:1.8px;border-color:#FEFBE9;\"><b>SEGMENTATION WITH CLTV</b></p>"
   ]
  },
  {
   "cell_type": "code",
   "execution_count": 46,
   "id": "24df6e68",
   "metadata": {
    "execution": {
     "iopub.execute_input": "2023-03-08T07:47:17.536941Z",
     "iopub.status.busy": "2023-03-08T07:47:17.536505Z",
     "iopub.status.idle": "2023-03-08T07:47:17.567139Z",
     "shell.execute_reply": "2023-03-08T07:47:17.565861Z"
    },
    "papermill": {
     "duration": 0.067758,
     "end_time": "2023-03-08T07:47:17.569849",
     "exception": false,
     "start_time": "2023-03-08T07:47:17.502091",
     "status": "completed"
    },
    "tags": []
   },
   "outputs": [
    {
     "data": {
      "text/html": [
       "<style type=\"text/css\">\n",
       "#T_06a6f_row0_col0, #T_06a6f_row0_col1, #T_06a6f_row0_col2, #T_06a6f_row0_col3, #T_06a6f_row0_col4, #T_06a6f_row0_col5, #T_06a6f_row0_col6, #T_06a6f_row0_col7, #T_06a6f_row0_col8, #T_06a6f_row0_col9, #T_06a6f_row1_col0, #T_06a6f_row1_col1, #T_06a6f_row1_col2, #T_06a6f_row1_col3, #T_06a6f_row1_col4, #T_06a6f_row1_col5, #T_06a6f_row1_col6, #T_06a6f_row1_col7, #T_06a6f_row1_col8, #T_06a6f_row1_col9, #T_06a6f_row2_col0, #T_06a6f_row2_col1, #T_06a6f_row2_col2, #T_06a6f_row2_col3, #T_06a6f_row2_col4, #T_06a6f_row2_col5, #T_06a6f_row2_col6, #T_06a6f_row2_col7, #T_06a6f_row2_col8, #T_06a6f_row2_col9, #T_06a6f_row3_col0, #T_06a6f_row3_col1, #T_06a6f_row3_col2, #T_06a6f_row3_col3, #T_06a6f_row3_col4, #T_06a6f_row3_col5, #T_06a6f_row3_col6, #T_06a6f_row3_col7, #T_06a6f_row3_col8, #T_06a6f_row3_col9, #T_06a6f_row4_col0, #T_06a6f_row4_col1, #T_06a6f_row4_col2, #T_06a6f_row4_col3, #T_06a6f_row4_col4, #T_06a6f_row4_col5, #T_06a6f_row4_col6, #T_06a6f_row4_col7, #T_06a6f_row4_col8, #T_06a6f_row4_col9, #T_06a6f_row5_col0, #T_06a6f_row5_col1, #T_06a6f_row5_col2, #T_06a6f_row5_col3, #T_06a6f_row5_col4, #T_06a6f_row5_col5, #T_06a6f_row5_col6, #T_06a6f_row5_col7, #T_06a6f_row5_col8, #T_06a6f_row5_col9, #T_06a6f_row6_col0, #T_06a6f_row6_col1, #T_06a6f_row6_col2, #T_06a6f_row6_col3, #T_06a6f_row6_col4, #T_06a6f_row6_col5, #T_06a6f_row6_col6, #T_06a6f_row6_col7, #T_06a6f_row6_col8, #T_06a6f_row6_col9, #T_06a6f_row7_col0, #T_06a6f_row7_col1, #T_06a6f_row7_col2, #T_06a6f_row7_col3, #T_06a6f_row7_col4, #T_06a6f_row7_col5, #T_06a6f_row7_col6, #T_06a6f_row7_col7, #T_06a6f_row7_col8, #T_06a6f_row7_col9, #T_06a6f_row8_col0, #T_06a6f_row8_col1, #T_06a6f_row8_col2, #T_06a6f_row8_col3, #T_06a6f_row8_col4, #T_06a6f_row8_col5, #T_06a6f_row8_col6, #T_06a6f_row8_col7, #T_06a6f_row8_col8, #T_06a6f_row8_col9, #T_06a6f_row9_col0, #T_06a6f_row9_col1, #T_06a6f_row9_col2, #T_06a6f_row9_col3, #T_06a6f_row9_col4, #T_06a6f_row9_col5, #T_06a6f_row9_col6, #T_06a6f_row9_col7, #T_06a6f_row9_col8, #T_06a6f_row9_col9, #T_06a6f_row10_col0, #T_06a6f_row10_col1, #T_06a6f_row10_col2, #T_06a6f_row10_col3, #T_06a6f_row10_col4, #T_06a6f_row10_col5, #T_06a6f_row10_col6, #T_06a6f_row10_col7, #T_06a6f_row10_col8, #T_06a6f_row10_col9, #T_06a6f_row11_col0, #T_06a6f_row11_col1, #T_06a6f_row11_col2, #T_06a6f_row11_col3, #T_06a6f_row11_col4, #T_06a6f_row11_col5, #T_06a6f_row11_col6, #T_06a6f_row11_col7, #T_06a6f_row11_col8, #T_06a6f_row11_col9, #T_06a6f_row12_col0, #T_06a6f_row12_col1, #T_06a6f_row12_col2, #T_06a6f_row12_col3, #T_06a6f_row12_col4, #T_06a6f_row12_col5, #T_06a6f_row12_col6, #T_06a6f_row12_col7, #T_06a6f_row12_col8, #T_06a6f_row12_col9, #T_06a6f_row13_col0, #T_06a6f_row13_col1, #T_06a6f_row13_col2, #T_06a6f_row13_col3, #T_06a6f_row13_col4, #T_06a6f_row13_col5, #T_06a6f_row13_col6, #T_06a6f_row13_col7, #T_06a6f_row13_col8, #T_06a6f_row13_col9, #T_06a6f_row14_col0, #T_06a6f_row14_col1, #T_06a6f_row14_col2, #T_06a6f_row14_col3, #T_06a6f_row14_col4, #T_06a6f_row14_col5, #T_06a6f_row14_col6, #T_06a6f_row14_col7, #T_06a6f_row14_col8, #T_06a6f_row14_col9, #T_06a6f_row15_col0, #T_06a6f_row15_col1, #T_06a6f_row15_col2, #T_06a6f_row15_col3, #T_06a6f_row15_col4, #T_06a6f_row15_col5, #T_06a6f_row15_col6, #T_06a6f_row15_col7, #T_06a6f_row15_col8, #T_06a6f_row15_col9, #T_06a6f_row16_col0, #T_06a6f_row16_col1, #T_06a6f_row16_col2, #T_06a6f_row16_col3, #T_06a6f_row16_col4, #T_06a6f_row16_col5, #T_06a6f_row16_col6, #T_06a6f_row16_col7, #T_06a6f_row16_col8, #T_06a6f_row16_col9, #T_06a6f_row17_col0, #T_06a6f_row17_col1, #T_06a6f_row17_col2, #T_06a6f_row17_col3, #T_06a6f_row17_col4, #T_06a6f_row17_col5, #T_06a6f_row17_col6, #T_06a6f_row17_col7, #T_06a6f_row17_col8, #T_06a6f_row17_col9, #T_06a6f_row18_col0, #T_06a6f_row18_col1, #T_06a6f_row18_col2, #T_06a6f_row18_col3, #T_06a6f_row18_col4, #T_06a6f_row18_col5, #T_06a6f_row18_col6, #T_06a6f_row18_col7, #T_06a6f_row18_col8, #T_06a6f_row18_col9, #T_06a6f_row19_col0, #T_06a6f_row19_col1, #T_06a6f_row19_col2, #T_06a6f_row19_col3, #T_06a6f_row19_col4, #T_06a6f_row19_col5, #T_06a6f_row19_col6, #T_06a6f_row19_col7, #T_06a6f_row19_col8, #T_06a6f_row19_col9 {\n",
       "  background-color: #000000;\n",
       "  color: #FFEA20;\n",
       "  border: 0.2px solid white;\n",
       "}\n",
       "</style>\n",
       "<table id=\"T_06a6f_\">\n",
       "  <thead>\n",
       "    <tr>\n",
       "      <th class=\"blank level0\" >&nbsp;</th>\n",
       "      <th class=\"col_heading level0 col0\" >CustomerID</th>\n",
       "      <th class=\"col_heading level0 col1\" >recency</th>\n",
       "      <th class=\"col_heading level0 col2\" >T</th>\n",
       "      <th class=\"col_heading level0 col3\" >frequency</th>\n",
       "      <th class=\"col_heading level0 col4\" >monetary</th>\n",
       "      <th class=\"col_heading level0 col5\" >expected_purc_1_month</th>\n",
       "      <th class=\"col_heading level0 col6\" >expected_purc_3_month</th>\n",
       "      <th class=\"col_heading level0 col7\" >expected_average_profit</th>\n",
       "      <th class=\"col_heading level0 col8\" >clv</th>\n",
       "      <th class=\"col_heading level0 col9\" >segment</th>\n",
       "    </tr>\n",
       "  </thead>\n",
       "  <tbody>\n",
       "    <tr>\n",
       "      <th id=\"T_06a6f_level0_row0\" class=\"row_heading level0 row0\" >0</th>\n",
       "      <td id=\"T_06a6f_row0_col0\" class=\"data row0 col0\" >12347.000000</td>\n",
       "      <td id=\"T_06a6f_row0_col1\" class=\"data row0 col1\" >52.142857</td>\n",
       "      <td id=\"T_06a6f_row0_col2\" class=\"data row0 col2\" >52.571429</td>\n",
       "      <td id=\"T_06a6f_row0_col3\" class=\"data row0 col3\" >7</td>\n",
       "      <td id=\"T_06a6f_row0_col4\" class=\"data row0 col4\" >615.714286</td>\n",
       "      <td id=\"T_06a6f_row0_col5\" class=\"data row0 col5\" >0.563516</td>\n",
       "      <td id=\"T_06a6f_row0_col6\" class=\"data row0 col6\" >1.678394</td>\n",
       "      <td id=\"T_06a6f_row0_col7\" class=\"data row0 col7\" >632.019673</td>\n",
       "      <td id=\"T_06a6f_row0_col8\" class=\"data row0 col8\" >1128.653739</td>\n",
       "      <td id=\"T_06a6f_row0_col9\" class=\"data row0 col9\" >A</td>\n",
       "    </tr>\n",
       "    <tr>\n",
       "      <th id=\"T_06a6f_level0_row1\" class=\"row_heading level0 row1\" >1</th>\n",
       "      <td id=\"T_06a6f_row1_col0\" class=\"data row1 col0\" >12348.000000</td>\n",
       "      <td id=\"T_06a6f_row1_col1\" class=\"data row1 col1\" >40.285714</td>\n",
       "      <td id=\"T_06a6f_row1_col2\" class=\"data row1 col2\" >51.285714</td>\n",
       "      <td id=\"T_06a6f_row1_col3\" class=\"data row1 col3\" >4</td>\n",
       "      <td id=\"T_06a6f_row1_col4\" class=\"data row1 col4\" >449.310000</td>\n",
       "      <td id=\"T_06a6f_row1_col5\" class=\"data row1 col5\" >0.366752</td>\n",
       "      <td id=\"T_06a6f_row1_col6\" class=\"data row1 col6\" >1.092006</td>\n",
       "      <td id=\"T_06a6f_row1_col7\" class=\"data row1 col7\" >470.803034</td>\n",
       "      <td id=\"T_06a6f_row1_col8\" class=\"data row1 col8\" >546.997685</td>\n",
       "      <td id=\"T_06a6f_row1_col9\" class=\"data row1 col9\" >B</td>\n",
       "    </tr>\n",
       "    <tr>\n",
       "      <th id=\"T_06a6f_level0_row2\" class=\"row_heading level0 row2\" >2</th>\n",
       "      <td id=\"T_06a6f_row2_col0\" class=\"data row2 col0\" >12352.000000</td>\n",
       "      <td id=\"T_06a6f_row2_col1\" class=\"data row2 col1\" >37.142857</td>\n",
       "      <td id=\"T_06a6f_row2_col2\" class=\"data row2 col2\" >42.428571</td>\n",
       "      <td id=\"T_06a6f_row2_col3\" class=\"data row2 col3\" >8</td>\n",
       "      <td id=\"T_06a6f_row2_col4\" class=\"data row2 col4\" >313.255000</td>\n",
       "      <td id=\"T_06a6f_row2_col5\" class=\"data row2 col5\" >0.727126</td>\n",
       "      <td id=\"T_06a6f_row2_col6\" class=\"data row2 col6\" >2.163117</td>\n",
       "      <td id=\"T_06a6f_row2_col7\" class=\"data row2 col7\" >320.724048</td>\n",
       "      <td id=\"T_06a6f_row2_col8\" class=\"data row2 col8\" >738.058132</td>\n",
       "      <td id=\"T_06a6f_row2_col9\" class=\"data row2 col9\" >B</td>\n",
       "    </tr>\n",
       "    <tr>\n",
       "      <th id=\"T_06a6f_level0_row3\" class=\"row_heading level0 row3\" >3</th>\n",
       "      <td id=\"T_06a6f_row3_col0\" class=\"data row3 col0\" >12356.000000</td>\n",
       "      <td id=\"T_06a6f_row3_col1\" class=\"data row3 col1\" >43.142857</td>\n",
       "      <td id=\"T_06a6f_row3_col2\" class=\"data row3 col2\" >46.571429</td>\n",
       "      <td id=\"T_06a6f_row3_col3\" class=\"data row3 col3\" >3</td>\n",
       "      <td id=\"T_06a6f_row3_col4\" class=\"data row3 col4\" >937.143333</td>\n",
       "      <td id=\"T_06a6f_row3_col5\" class=\"data row3 col5\" >0.343511</td>\n",
       "      <td id=\"T_06a6f_row3_col6\" class=\"data row3 col6\" >1.022127</td>\n",
       "      <td id=\"T_06a6f_row3_col7\" class=\"data row3 col7\" >996.409652</td>\n",
       "      <td id=\"T_06a6f_row3_col8\" class=\"data row3 col8\" >1083.507270</td>\n",
       "      <td id=\"T_06a6f_row3_col9\" class=\"data row3 col9\" >A</td>\n",
       "    </tr>\n",
       "    <tr>\n",
       "      <th id=\"T_06a6f_level0_row4\" class=\"row_heading level0 row4\" >4</th>\n",
       "      <td id=\"T_06a6f_row4_col0\" class=\"data row4 col0\" >12358.000000</td>\n",
       "      <td id=\"T_06a6f_row4_col1\" class=\"data row4 col1\" >21.285714</td>\n",
       "      <td id=\"T_06a6f_row4_col2\" class=\"data row4 col2\" >21.571429</td>\n",
       "      <td id=\"T_06a6f_row4_col3\" class=\"data row4 col3\" >2</td>\n",
       "      <td id=\"T_06a6f_row4_col4\" class=\"data row4 col4\" >584.030000</td>\n",
       "      <td id=\"T_06a6f_row4_col5\" class=\"data row4 col5\" >0.486232</td>\n",
       "      <td id=\"T_06a6f_row4_col6\" class=\"data row4 col6\" >1.438802</td>\n",
       "      <td id=\"T_06a6f_row4_col7\" class=\"data row4 col7\" >641.967861</td>\n",
       "      <td id=\"T_06a6f_row4_col8\" class=\"data row4 col8\" >982.080404</td>\n",
       "      <td id=\"T_06a6f_row4_col9\" class=\"data row4 col9\" >A</td>\n",
       "    </tr>\n",
       "    <tr>\n",
       "      <th id=\"T_06a6f_level0_row5\" class=\"row_heading level0 row5\" >5</th>\n",
       "      <td id=\"T_06a6f_row5_col0\" class=\"data row5 col0\" >12359.000000</td>\n",
       "      <td id=\"T_06a6f_row5_col1\" class=\"data row5 col1\" >39.142857</td>\n",
       "      <td id=\"T_06a6f_row5_col2\" class=\"data row5 col2\" >47.428571</td>\n",
       "      <td id=\"T_06a6f_row5_col3\" class=\"data row5 col3\" >4</td>\n",
       "      <td id=\"T_06a6f_row5_col4\" class=\"data row5 col4\" >1593.145000</td>\n",
       "      <td id=\"T_06a6f_row5_col5\" class=\"data row5 col5\" >0.396616</td>\n",
       "      <td id=\"T_06a6f_row5_col6\" class=\"data row5 col6\" >1.180395</td>\n",
       "      <td id=\"T_06a6f_row5_col7\" class=\"data row5 col7\" >1666.878534</td>\n",
       "      <td id=\"T_06a6f_row5_col8\" class=\"data row5 col8\" >2093.297029</td>\n",
       "      <td id=\"T_06a6f_row5_col9\" class=\"data row5 col9\" >A</td>\n",
       "    </tr>\n",
       "    <tr>\n",
       "      <th id=\"T_06a6f_level0_row6\" class=\"row_heading level0 row6\" >6</th>\n",
       "      <td id=\"T_06a6f_row6_col0\" class=\"data row6 col0\" >12360.000000</td>\n",
       "      <td id=\"T_06a6f_row6_col1\" class=\"data row6 col1\" >21.142857</td>\n",
       "      <td id=\"T_06a6f_row6_col2\" class=\"data row6 col2\" >28.714286</td>\n",
       "      <td id=\"T_06a6f_row6_col3\" class=\"data row6 col3\" >3</td>\n",
       "      <td id=\"T_06a6f_row6_col4\" class=\"data row6 col4\" >887.353333</td>\n",
       "      <td id=\"T_06a6f_row6_col5\" class=\"data row6 col5\" >0.476249</td>\n",
       "      <td id=\"T_06a6f_row6_col6\" class=\"data row6 col6\" >1.412576</td>\n",
       "      <td id=\"T_06a6f_row6_col7\" class=\"data row6 col7\" >943.540811</td>\n",
       "      <td id=\"T_06a6f_row6_col8\" class=\"data row6 col8\" >1417.463774</td>\n",
       "      <td id=\"T_06a6f_row6_col9\" class=\"data row6 col9\" >A</td>\n",
       "    </tr>\n",
       "    <tr>\n",
       "      <th id=\"T_06a6f_level0_row7\" class=\"row_heading level0 row7\" >7</th>\n",
       "      <td id=\"T_06a6f_row7_col0\" class=\"data row7 col0\" >12362.000000</td>\n",
       "      <td id=\"T_06a6f_row7_col1\" class=\"data row7 col1\" >41.714286</td>\n",
       "      <td id=\"T_06a6f_row7_col2\" class=\"data row7 col2\" >42.285714</td>\n",
       "      <td id=\"T_06a6f_row7_col3\" class=\"data row7 col3\" >10</td>\n",
       "      <td id=\"T_06a6f_row7_col4\" class=\"data row7 col4\" >522.623000</td>\n",
       "      <td id=\"T_06a6f_row7_col5\" class=\"data row7 col5\" >0.893010</td>\n",
       "      <td id=\"T_06a6f_row7_col6\" class=\"data row7 col6\" >2.656718</td>\n",
       "      <td id=\"T_06a6f_row7_col7\" class=\"data row7 col7\" >532.294509</td>\n",
       "      <td id=\"T_06a6f_row7_col8\" class=\"data row7 col8\" >1504.452639</td>\n",
       "      <td id=\"T_06a6f_row7_col9\" class=\"data row7 col9\" >A</td>\n",
       "    </tr>\n",
       "    <tr>\n",
       "      <th id=\"T_06a6f_level0_row8\" class=\"row_heading level0 row8\" >8</th>\n",
       "      <td id=\"T_06a6f_row8_col0\" class=\"data row8 col0\" >12363.000000</td>\n",
       "      <td id=\"T_06a6f_row8_col1\" class=\"data row8 col1\" >18.857143</td>\n",
       "      <td id=\"T_06a6f_row8_col2\" class=\"data row8 col2\" >34.714286</td>\n",
       "      <td id=\"T_06a6f_row8_col3\" class=\"data row8 col3\" >2</td>\n",
       "      <td id=\"T_06a6f_row8_col4\" class=\"data row8 col4\" >276.000000</td>\n",
       "      <td id=\"T_06a6f_row8_col5\" class=\"data row8 col5\" >0.301106</td>\n",
       "      <td id=\"T_06a6f_row8_col6\" class=\"data row8 col6\" >0.894105</td>\n",
       "      <td id=\"T_06a6f_row8_col7\" class=\"data row8 col7\" >304.455043</td>\n",
       "      <td id=\"T_06a6f_row8_col8\" class=\"data row8 col8\" >289.536775</td>\n",
       "      <td id=\"T_06a6f_row8_col9\" class=\"data row8 col9\" >C</td>\n",
       "    </tr>\n",
       "    <tr>\n",
       "      <th id=\"T_06a6f_level0_row9\" class=\"row_heading level0 row9\" >9</th>\n",
       "      <td id=\"T_06a6f_row9_col0\" class=\"data row9 col0\" >12364.000000</td>\n",
       "      <td id=\"T_06a6f_row9_col1\" class=\"data row9 col1\" >14.857143</td>\n",
       "      <td id=\"T_06a6f_row9_col2\" class=\"data row9 col2\" >16.142857</td>\n",
       "      <td id=\"T_06a6f_row9_col3\" class=\"data row9 col3\" >4</td>\n",
       "      <td id=\"T_06a6f_row9_col4\" class=\"data row9 col4\" >328.275000</td>\n",
       "      <td id=\"T_06a6f_row9_col5\" class=\"data row9 col5\" >0.864628</td>\n",
       "      <td id=\"T_06a6f_row9_col6\" class=\"data row9 col6\" >2.553962</td>\n",
       "      <td id=\"T_06a6f_row9_col7\" class=\"data row9 col7\" >344.240201</td>\n",
       "      <td id=\"T_06a6f_row9_col8\" class=\"data row9 col8\" >934.610618</td>\n",
       "      <td id=\"T_06a6f_row9_col9\" class=\"data row9 col9\" >B</td>\n",
       "    </tr>\n",
       "    <tr>\n",
       "      <th id=\"T_06a6f_level0_row10\" class=\"row_heading level0 row10\" >10</th>\n",
       "      <td id=\"T_06a6f_row10_col0\" class=\"data row10 col0\" >12365.000000</td>\n",
       "      <td id=\"T_06a6f_row10_col1\" class=\"data row10 col1\" >0.000000</td>\n",
       "      <td id=\"T_06a6f_row10_col2\" class=\"data row10 col2\" >41.714286</td>\n",
       "      <td id=\"T_06a6f_row10_col3\" class=\"data row10 col3\" >2</td>\n",
       "      <td id=\"T_06a6f_row10_col4\" class=\"data row10 col4\" >320.690000</td>\n",
       "      <td id=\"T_06a6f_row10_col5\" class=\"data row10 col5\" >0.014144</td>\n",
       "      <td id=\"T_06a6f_row10_col6\" class=\"data row10 col6\" >0.042050</td>\n",
       "      <td id=\"T_06a6f_row10_col7\" class=\"data row10 col7\" >353.422506</td>\n",
       "      <td id=\"T_06a6f_row10_col8\" class=\"data row10 col8\" >15.809355</td>\n",
       "      <td id=\"T_06a6f_row10_col9\" class=\"data row10 col9\" >D</td>\n",
       "    </tr>\n",
       "    <tr>\n",
       "      <th id=\"T_06a6f_level0_row11\" class=\"row_heading level0 row11\" >11</th>\n",
       "      <td id=\"T_06a6f_row11_col0\" class=\"data row11 col0\" >12370.000000</td>\n",
       "      <td id=\"T_06a6f_row11_col1\" class=\"data row11 col1\" >44.142857</td>\n",
       "      <td id=\"T_06a6f_row11_col2\" class=\"data row11 col2\" >51.571429</td>\n",
       "      <td id=\"T_06a6f_row11_col3\" class=\"data row11 col3\" >4</td>\n",
       "      <td id=\"T_06a6f_row11_col4\" class=\"data row11 col4\" >886.422500</td>\n",
       "      <td id=\"T_06a6f_row11_col5\" class=\"data row11 col5\" >0.373556</td>\n",
       "      <td id=\"T_06a6f_row11_col6\" class=\"data row11 col6\" >1.112300</td>\n",
       "      <td id=\"T_06a6f_row11_col7\" class=\"data row11 col7\" >927.879056</td>\n",
       "      <td id=\"T_06a6f_row11_col8\" class=\"data row11 col8\" >1098.084671</td>\n",
       "      <td id=\"T_06a6f_row11_col9\" class=\"data row11 col9\" >A</td>\n",
       "    </tr>\n",
       "    <tr>\n",
       "      <th id=\"T_06a6f_level0_row12\" class=\"row_heading level0 row12\" >12</th>\n",
       "      <td id=\"T_06a6f_row12_col0\" class=\"data row12 col0\" >12371.000000</td>\n",
       "      <td id=\"T_06a6f_row12_col1\" class=\"data row12 col1\" >2.000000</td>\n",
       "      <td id=\"T_06a6f_row12_col2\" class=\"data row12 col2\" >8.571429</td>\n",
       "      <td id=\"T_06a6f_row12_col3\" class=\"data row12 col3\" >2</td>\n",
       "      <td id=\"T_06a6f_row12_col4\" class=\"data row12 col4\" >943.980000</td>\n",
       "      <td id=\"T_06a6f_row12_col5\" class=\"data row12 col5\" >0.700804</td>\n",
       "      <td id=\"T_06a6f_row12_col6\" class=\"data row12 col6\" >2.059296</td>\n",
       "      <td id=\"T_06a6f_row12_col7\" class=\"data row12 col7\" >1036.370155</td>\n",
       "      <td id=\"T_06a6f_row12_col8\" class=\"data row12 col8\" >2267.599324</td>\n",
       "      <td id=\"T_06a6f_row12_col9\" class=\"data row12 col9\" >A</td>\n",
       "    </tr>\n",
       "    <tr>\n",
       "      <th id=\"T_06a6f_level0_row13\" class=\"row_heading level0 row13\" >13</th>\n",
       "      <td id=\"T_06a6f_row13_col0\" class=\"data row13 col0\" >12372.000000</td>\n",
       "      <td id=\"T_06a6f_row13_col1\" class=\"data row13 col1\" >32.000000</td>\n",
       "      <td id=\"T_06a6f_row13_col2\" class=\"data row13 col2\" >42.428571</td>\n",
       "      <td id=\"T_06a6f_row13_col3\" class=\"data row13 col3\" >3</td>\n",
       "      <td id=\"T_06a6f_row13_col4\" class=\"data row13 col4\" >432.680000</td>\n",
       "      <td id=\"T_06a6f_row13_col5\" class=\"data row13 col5\" >0.354638</td>\n",
       "      <td id=\"T_06a6f_row13_col6\" class=\"data row13 col6\" >1.054634</td>\n",
       "      <td id=\"T_06a6f_row13_col7\" class=\"data row13 col7\" >460.752056</td>\n",
       "      <td id=\"T_06a6f_row13_col8\" class=\"data row13 col8\" >516.929025</td>\n",
       "      <td id=\"T_06a6f_row13_col9\" class=\"data row13 col9\" >B</td>\n",
       "    </tr>\n",
       "    <tr>\n",
       "      <th id=\"T_06a6f_level0_row14\" class=\"row_heading level0 row14\" >14</th>\n",
       "      <td id=\"T_06a6f_row14_col0\" class=\"data row14 col0\" >12375.000000</td>\n",
       "      <td id=\"T_06a6f_row14_col1\" class=\"data row14 col1\" >12.428571</td>\n",
       "      <td id=\"T_06a6f_row14_col2\" class=\"data row14 col2\" >14.142857</td>\n",
       "      <td id=\"T_06a6f_row14_col3\" class=\"data row14 col3\" >2</td>\n",
       "      <td id=\"T_06a6f_row14_col4\" class=\"data row14 col4\" >228.750000</td>\n",
       "      <td id=\"T_06a6f_row14_col5\" class=\"data row14 col5\" >0.620185</td>\n",
       "      <td id=\"T_06a6f_row14_col6\" class=\"data row14 col6\" >1.829181</td>\n",
       "      <td id=\"T_06a6f_row14_col7\" class=\"data row14 col7\" >252.682551</td>\n",
       "      <td id=\"T_06a6f_row14_col8\" class=\"data row14 col8\" >491.270982</td>\n",
       "      <td id=\"T_06a6f_row14_col9\" class=\"data row14 col9\" >C</td>\n",
       "    </tr>\n",
       "    <tr>\n",
       "      <th id=\"T_06a6f_level0_row15\" class=\"row_heading level0 row15\" >15</th>\n",
       "      <td id=\"T_06a6f_row15_col0\" class=\"data row15 col0\" >12377.000000</td>\n",
       "      <td id=\"T_06a6f_row15_col1\" class=\"data row15 col1\" >5.571429</td>\n",
       "      <td id=\"T_06a6f_row15_col2\" class=\"data row15 col2\" >50.714286</td>\n",
       "      <td id=\"T_06a6f_row15_col3\" class=\"data row15 col3\" >2</td>\n",
       "      <td id=\"T_06a6f_row15_col4\" class=\"data row15 col4\" >814.060000</td>\n",
       "      <td id=\"T_06a6f_row15_col5\" class=\"data row15 col5\" >0.030779</td>\n",
       "      <td id=\"T_06a6f_row15_col6\" class=\"data row15 col6\" >0.091616</td>\n",
       "      <td id=\"T_06a6f_row15_col7\" class=\"data row15 col7\" >894.014978</td>\n",
       "      <td id=\"T_06a6f_row15_col8\" class=\"data row15 col8\" >87.140676</td>\n",
       "      <td id=\"T_06a6f_row15_col9\" class=\"data row15 col9\" >D</td>\n",
       "    </tr>\n",
       "    <tr>\n",
       "      <th id=\"T_06a6f_level0_row16\" class=\"row_heading level0 row16\" >16</th>\n",
       "      <td id=\"T_06a6f_row16_col0\" class=\"data row16 col0\" >12379.000000</td>\n",
       "      <td id=\"T_06a6f_row16_col1\" class=\"data row16 col1\" >12.571429</td>\n",
       "      <td id=\"T_06a6f_row16_col2\" class=\"data row16 col2\" >24.428571</td>\n",
       "      <td id=\"T_06a6f_row16_col3\" class=\"data row16 col3\" >2</td>\n",
       "      <td id=\"T_06a6f_row16_col4\" class=\"data row16 col4\" >426.120000</td>\n",
       "      <td id=\"T_06a6f_row16_col5\" class=\"data row16 col5\" >0.392017</td>\n",
       "      <td id=\"T_06a6f_row16_col6\" class=\"data row16 col6\" >1.161106</td>\n",
       "      <td id=\"T_06a6f_row16_col7\" class=\"data row16 col7\" >468.943645</td>\n",
       "      <td id=\"T_06a6f_row16_col8\" class=\"data row16 col8\" >578.986002</td>\n",
       "      <td id=\"T_06a6f_row16_col9\" class=\"data row16 col9\" >B</td>\n",
       "    </tr>\n",
       "    <tr>\n",
       "      <th id=\"T_06a6f_level0_row17\" class=\"row_heading level0 row17\" >17</th>\n",
       "      <td id=\"T_06a6f_row17_col0\" class=\"data row17 col0\" >12380.000000</td>\n",
       "      <td id=\"T_06a6f_row17_col1\" class=\"data row17 col1\" >23.428571</td>\n",
       "      <td id=\"T_06a6f_row17_col2\" class=\"data row17 col2\" >26.571429</td>\n",
       "      <td id=\"T_06a6f_row17_col3\" class=\"data row17 col3\" >4</td>\n",
       "      <td id=\"T_06a6f_row17_col4\" class=\"data row17 col4\" >681.202500</td>\n",
       "      <td id=\"T_06a6f_row17_col5\" class=\"data row17 col5\" >0.623921</td>\n",
       "      <td id=\"T_06a6f_row17_col6\" class=\"data row17 col6\" >1.849820</td>\n",
       "      <td id=\"T_06a6f_row17_col7\" class=\"data row17 col7\" >713.286380</td>\n",
       "      <td id=\"T_06a6f_row17_col8\" class=\"data row17 col8\" >1403.183095</td>\n",
       "      <td id=\"T_06a6f_row17_col9\" class=\"data row17 col9\" >A</td>\n",
       "    </tr>\n",
       "    <tr>\n",
       "      <th id=\"T_06a6f_level0_row18\" class=\"row_heading level0 row18\" >18</th>\n",
       "      <td id=\"T_06a6f_row18_col0\" class=\"data row18 col0\" >12381.000000</td>\n",
       "      <td id=\"T_06a6f_row18_col1\" class=\"data row18 col1\" >16.428571</td>\n",
       "      <td id=\"T_06a6f_row18_col2\" class=\"data row18 col2\" >17.142857</td>\n",
       "      <td id=\"T_06a6f_row18_col3\" class=\"data row18 col3\" >5</td>\n",
       "      <td id=\"T_06a6f_row18_col4\" class=\"data row18 col4\" >369.062000</td>\n",
       "      <td id=\"T_06a6f_row18_col5\" class=\"data row18 col5\" >0.976421</td>\n",
       "      <td id=\"T_06a6f_row18_col6\" class=\"data row18 col6\" >2.885892</td>\n",
       "      <td id=\"T_06a6f_row18_col7\" class=\"data row18 col7\" >383.195302</td>\n",
       "      <td id=\"T_06a6f_row18_col8\" class=\"data row18 col8\" >1175.658221</td>\n",
       "      <td id=\"T_06a6f_row18_col9\" class=\"data row18 col9\" >A</td>\n",
       "    </tr>\n",
       "    <tr>\n",
       "      <th id=\"T_06a6f_level0_row19\" class=\"row_heading level0 row19\" >19</th>\n",
       "      <td id=\"T_06a6f_row19_col0\" class=\"data row19 col0\" >12383.000000</td>\n",
       "      <td id=\"T_06a6f_row19_col1\" class=\"data row19 col1\" >23.857143</td>\n",
       "      <td id=\"T_06a6f_row19_col2\" class=\"data row19 col2\" >50.428571</td>\n",
       "      <td id=\"T_06a6f_row19_col3\" class=\"data row19 col3\" >5</td>\n",
       "      <td id=\"T_06a6f_row19_col4\" class=\"data row19 col4\" >370.112000</td>\n",
       "      <td id=\"T_06a6f_row19_col5\" class=\"data row19 col5\" >0.227753</td>\n",
       "      <td id=\"T_06a6f_row19_col6\" class=\"data row19 col6\" >0.678121</td>\n",
       "      <td id=\"T_06a6f_row19_col7\" class=\"data row19 col7\" >384.283319</td>\n",
       "      <td id=\"T_06a6f_row19_col8\" class=\"data row19 col8\" >277.254674</td>\n",
       "      <td id=\"T_06a6f_row19_col9\" class=\"data row19 col9\" >C</td>\n",
       "    </tr>\n",
       "  </tbody>\n",
       "</table>\n"
      ],
      "text/plain": [
       "<pandas.io.formats.style.Styler at 0x7f82308fbb90>"
      ]
     },
     "execution_count": 46,
     "metadata": {},
     "output_type": "execute_result"
    }
   ],
   "source": [
    "# Etkili gözlemlerde bulunabilmek için CLTV değerlerine göre segmentlere ayıralım.\n",
    "\n",
    "cltv_final[\"segment\"] = pd.qcut(cltv_final[\"clv\"], 4, labels=[\"D\", \"C\", \"B\", \"A\"])\n",
    "\n",
    "cltv_final.head(20).style.set_properties(**{\"background-color\": \"#000000\",\"color\":\"#FFEA20\",\"border\": \"0.2px solid white\"})"
   ]
  },
  {
   "cell_type": "code",
   "execution_count": 47,
   "id": "1f77fe25",
   "metadata": {
    "execution": {
     "iopub.execute_input": "2023-03-08T07:47:17.639199Z",
     "iopub.status.busy": "2023-03-08T07:47:17.638799Z",
     "iopub.status.idle": "2023-03-08T07:47:17.766635Z",
     "shell.execute_reply": "2023-03-08T07:47:17.765416Z"
    },
    "papermill": {
     "duration": 0.166123,
     "end_time": "2023-03-08T07:47:17.769766",
     "exception": false,
     "start_time": "2023-03-08T07:47:17.603643",
     "status": "completed"
    },
    "tags": []
   },
   "outputs": [
    {
     "data": {
      "text/html": [
       "<style type=\"text/css\">\n",
       "#T_7ff22_row0_col0, #T_7ff22_row0_col1, #T_7ff22_row0_col2, #T_7ff22_row0_col3, #T_7ff22_row0_col4, #T_7ff22_row0_col5, #T_7ff22_row0_col6, #T_7ff22_row0_col7, #T_7ff22_row0_col8, #T_7ff22_row0_col9, #T_7ff22_row0_col10, #T_7ff22_row0_col11, #T_7ff22_row0_col12, #T_7ff22_row0_col13, #T_7ff22_row0_col14, #T_7ff22_row0_col15, #T_7ff22_row0_col16, #T_7ff22_row0_col17, #T_7ff22_row0_col18, #T_7ff22_row0_col19, #T_7ff22_row0_col20, #T_7ff22_row0_col21, #T_7ff22_row0_col22, #T_7ff22_row0_col23, #T_7ff22_row0_col24, #T_7ff22_row0_col25, #T_7ff22_row0_col26, #T_7ff22_row1_col0, #T_7ff22_row1_col1, #T_7ff22_row1_col2, #T_7ff22_row1_col3, #T_7ff22_row1_col4, #T_7ff22_row1_col5, #T_7ff22_row1_col6, #T_7ff22_row1_col7, #T_7ff22_row1_col8, #T_7ff22_row1_col9, #T_7ff22_row1_col10, #T_7ff22_row1_col11, #T_7ff22_row1_col12, #T_7ff22_row1_col13, #T_7ff22_row1_col14, #T_7ff22_row1_col15, #T_7ff22_row1_col16, #T_7ff22_row1_col17, #T_7ff22_row1_col18, #T_7ff22_row1_col19, #T_7ff22_row1_col20, #T_7ff22_row1_col21, #T_7ff22_row1_col22, #T_7ff22_row1_col23, #T_7ff22_row1_col24, #T_7ff22_row1_col25, #T_7ff22_row1_col26, #T_7ff22_row2_col0, #T_7ff22_row2_col1, #T_7ff22_row2_col2, #T_7ff22_row2_col3, #T_7ff22_row2_col4, #T_7ff22_row2_col5, #T_7ff22_row2_col6, #T_7ff22_row2_col7, #T_7ff22_row2_col8, #T_7ff22_row2_col9, #T_7ff22_row2_col10, #T_7ff22_row2_col11, #T_7ff22_row2_col12, #T_7ff22_row2_col13, #T_7ff22_row2_col14, #T_7ff22_row2_col15, #T_7ff22_row2_col16, #T_7ff22_row2_col17, #T_7ff22_row2_col18, #T_7ff22_row2_col19, #T_7ff22_row2_col20, #T_7ff22_row2_col21, #T_7ff22_row2_col22, #T_7ff22_row2_col23, #T_7ff22_row2_col24, #T_7ff22_row2_col25, #T_7ff22_row2_col26, #T_7ff22_row3_col0, #T_7ff22_row3_col1, #T_7ff22_row3_col2, #T_7ff22_row3_col3, #T_7ff22_row3_col4, #T_7ff22_row3_col5, #T_7ff22_row3_col6, #T_7ff22_row3_col7, #T_7ff22_row3_col8, #T_7ff22_row3_col9, #T_7ff22_row3_col10, #T_7ff22_row3_col11, #T_7ff22_row3_col12, #T_7ff22_row3_col13, #T_7ff22_row3_col14, #T_7ff22_row3_col15, #T_7ff22_row3_col16, #T_7ff22_row3_col17, #T_7ff22_row3_col18, #T_7ff22_row3_col19, #T_7ff22_row3_col20, #T_7ff22_row3_col21, #T_7ff22_row3_col22, #T_7ff22_row3_col23, #T_7ff22_row3_col24, #T_7ff22_row3_col25, #T_7ff22_row3_col26 {\n",
       "  background-color: #000000;\n",
       "  color: #FFEA20;\n",
       "  border: 0.2px solid white;\n",
       "}\n",
       "</style>\n",
       "<table id=\"T_7ff22_\">\n",
       "  <thead>\n",
       "    <tr>\n",
       "      <th class=\"blank level0\" >&nbsp;</th>\n",
       "      <th class=\"col_heading level0 col0\" colspan=\"3\">CustomerID</th>\n",
       "      <th class=\"col_heading level0 col3\" colspan=\"3\">recency</th>\n",
       "      <th class=\"col_heading level0 col6\" colspan=\"3\">T</th>\n",
       "      <th class=\"col_heading level0 col9\" colspan=\"3\">frequency</th>\n",
       "      <th class=\"col_heading level0 col12\" colspan=\"3\">monetary</th>\n",
       "      <th class=\"col_heading level0 col15\" colspan=\"3\">expected_purc_1_month</th>\n",
       "      <th class=\"col_heading level0 col18\" colspan=\"3\">expected_purc_3_month</th>\n",
       "      <th class=\"col_heading level0 col21\" colspan=\"3\">expected_average_profit</th>\n",
       "      <th class=\"col_heading level0 col24\" colspan=\"3\">clv</th>\n",
       "    </tr>\n",
       "    <tr>\n",
       "      <th class=\"blank level1\" >&nbsp;</th>\n",
       "      <th class=\"col_heading level1 col0\" >count</th>\n",
       "      <th class=\"col_heading level1 col1\" >mean</th>\n",
       "      <th class=\"col_heading level1 col2\" >sum</th>\n",
       "      <th class=\"col_heading level1 col3\" >count</th>\n",
       "      <th class=\"col_heading level1 col4\" >mean</th>\n",
       "      <th class=\"col_heading level1 col5\" >sum</th>\n",
       "      <th class=\"col_heading level1 col6\" >count</th>\n",
       "      <th class=\"col_heading level1 col7\" >mean</th>\n",
       "      <th class=\"col_heading level1 col8\" >sum</th>\n",
       "      <th class=\"col_heading level1 col9\" >count</th>\n",
       "      <th class=\"col_heading level1 col10\" >mean</th>\n",
       "      <th class=\"col_heading level1 col11\" >sum</th>\n",
       "      <th class=\"col_heading level1 col12\" >count</th>\n",
       "      <th class=\"col_heading level1 col13\" >mean</th>\n",
       "      <th class=\"col_heading level1 col14\" >sum</th>\n",
       "      <th class=\"col_heading level1 col15\" >count</th>\n",
       "      <th class=\"col_heading level1 col16\" >mean</th>\n",
       "      <th class=\"col_heading level1 col17\" >sum</th>\n",
       "      <th class=\"col_heading level1 col18\" >count</th>\n",
       "      <th class=\"col_heading level1 col19\" >mean</th>\n",
       "      <th class=\"col_heading level1 col20\" >sum</th>\n",
       "      <th class=\"col_heading level1 col21\" >count</th>\n",
       "      <th class=\"col_heading level1 col22\" >mean</th>\n",
       "      <th class=\"col_heading level1 col23\" >sum</th>\n",
       "      <th class=\"col_heading level1 col24\" >count</th>\n",
       "      <th class=\"col_heading level1 col25\" >mean</th>\n",
       "      <th class=\"col_heading level1 col26\" >sum</th>\n",
       "    </tr>\n",
       "    <tr>\n",
       "      <th class=\"index_name level0\" >segment</th>\n",
       "      <th class=\"blank col0\" >&nbsp;</th>\n",
       "      <th class=\"blank col1\" >&nbsp;</th>\n",
       "      <th class=\"blank col2\" >&nbsp;</th>\n",
       "      <th class=\"blank col3\" >&nbsp;</th>\n",
       "      <th class=\"blank col4\" >&nbsp;</th>\n",
       "      <th class=\"blank col5\" >&nbsp;</th>\n",
       "      <th class=\"blank col6\" >&nbsp;</th>\n",
       "      <th class=\"blank col7\" >&nbsp;</th>\n",
       "      <th class=\"blank col8\" >&nbsp;</th>\n",
       "      <th class=\"blank col9\" >&nbsp;</th>\n",
       "      <th class=\"blank col10\" >&nbsp;</th>\n",
       "      <th class=\"blank col11\" >&nbsp;</th>\n",
       "      <th class=\"blank col12\" >&nbsp;</th>\n",
       "      <th class=\"blank col13\" >&nbsp;</th>\n",
       "      <th class=\"blank col14\" >&nbsp;</th>\n",
       "      <th class=\"blank col15\" >&nbsp;</th>\n",
       "      <th class=\"blank col16\" >&nbsp;</th>\n",
       "      <th class=\"blank col17\" >&nbsp;</th>\n",
       "      <th class=\"blank col18\" >&nbsp;</th>\n",
       "      <th class=\"blank col19\" >&nbsp;</th>\n",
       "      <th class=\"blank col20\" >&nbsp;</th>\n",
       "      <th class=\"blank col21\" >&nbsp;</th>\n",
       "      <th class=\"blank col22\" >&nbsp;</th>\n",
       "      <th class=\"blank col23\" >&nbsp;</th>\n",
       "      <th class=\"blank col24\" >&nbsp;</th>\n",
       "      <th class=\"blank col25\" >&nbsp;</th>\n",
       "      <th class=\"blank col26\" >&nbsp;</th>\n",
       "    </tr>\n",
       "  </thead>\n",
       "  <tbody>\n",
       "    <tr>\n",
       "      <th id=\"T_7ff22_level0_row0\" class=\"row_heading level0 row0\" >D</th>\n",
       "      <td id=\"T_7ff22_row0_col0\" class=\"data row0 col0\" >712</td>\n",
       "      <td id=\"T_7ff22_row0_col1\" class=\"data row0 col1\" >15560.935393</td>\n",
       "      <td id=\"T_7ff22_row0_col2\" class=\"data row0 col2\" >11079386.000000</td>\n",
       "      <td id=\"T_7ff22_row0_col3\" class=\"data row0 col3\" >712</td>\n",
       "      <td id=\"T_7ff22_row0_col4\" class=\"data row0 col4\" >22.120586</td>\n",
       "      <td id=\"T_7ff22_row0_col5\" class=\"data row0 col5\" >15749.857143</td>\n",
       "      <td id=\"T_7ff22_row0_col6\" class=\"data row0 col6\" >712</td>\n",
       "      <td id=\"T_7ff22_row0_col7\" class=\"data row0 col7\" >40.392857</td>\n",
       "      <td id=\"T_7ff22_row0_col8\" class=\"data row0 col8\" >28759.714286</td>\n",
       "      <td id=\"T_7ff22_row0_col9\" class=\"data row0 col9\" >712</td>\n",
       "      <td id=\"T_7ff22_row0_col10\" class=\"data row0 col10\" >3.058989</td>\n",
       "      <td id=\"T_7ff22_row0_col11\" class=\"data row0 col11\" >2178</td>\n",
       "      <td id=\"T_7ff22_row0_col12\" class=\"data row0 col12\" >712</td>\n",
       "      <td id=\"T_7ff22_row0_col13\" class=\"data row0 col13\" >185.633455</td>\n",
       "      <td id=\"T_7ff22_row0_col14\" class=\"data row0 col14\" >132171.020262</td>\n",
       "      <td id=\"T_7ff22_row0_col15\" class=\"data row0 col15\" >712</td>\n",
       "      <td id=\"T_7ff22_row0_col16\" class=\"data row0 col16\" >0.284696</td>\n",
       "      <td id=\"T_7ff22_row0_col17\" class=\"data row0 col17\" >202.703583</td>\n",
       "      <td id=\"T_7ff22_row0_col18\" class=\"data row0 col18\" >712</td>\n",
       "      <td id=\"T_7ff22_row0_col19\" class=\"data row0 col19\" >0.845111</td>\n",
       "      <td id=\"T_7ff22_row0_col20\" class=\"data row0 col20\" >601.718969</td>\n",
       "      <td id=\"T_7ff22_row0_col21\" class=\"data row0 col21\" >712</td>\n",
       "      <td id=\"T_7ff22_row0_col22\" class=\"data row0 col22\" >201.324251</td>\n",
       "      <td id=\"T_7ff22_row0_col23\" class=\"data row0 col23\" >143342.866535</td>\n",
       "      <td id=\"T_7ff22_row0_col24\" class=\"data row0 col24\" >712</td>\n",
       "      <td id=\"T_7ff22_row0_col25\" class=\"data row0 col25\" >146.440011</td>\n",
       "      <td id=\"T_7ff22_row0_col26\" class=\"data row0 col26\" >104265.287631</td>\n",
       "    </tr>\n",
       "    <tr>\n",
       "      <th id=\"T_7ff22_level0_row1\" class=\"row_heading level0 row1\" >C</th>\n",
       "      <td id=\"T_7ff22_row1_col0\" class=\"data row1 col0\" >711</td>\n",
       "      <td id=\"T_7ff22_row1_col1\" class=\"data row1 col1\" >15320.167370</td>\n",
       "      <td id=\"T_7ff22_row1_col2\" class=\"data row1 col2\" >10892639.000000</td>\n",
       "      <td id=\"T_7ff22_row1_col3\" class=\"data row1 col3\" >711</td>\n",
       "      <td id=\"T_7ff22_row1_col4\" class=\"data row1 col4\" >30.784408</td>\n",
       "      <td id=\"T_7ff22_row1_col5\" class=\"data row1 col5\" >21887.714286</td>\n",
       "      <td id=\"T_7ff22_row1_col6\" class=\"data row1 col6\" >711</td>\n",
       "      <td id=\"T_7ff22_row1_col7\" class=\"data row1 col7\" >38.168977</td>\n",
       "      <td id=\"T_7ff22_row1_col8\" class=\"data row1 col8\" >27138.142857</td>\n",
       "      <td id=\"T_7ff22_row1_col9\" class=\"data row1 col9\" >711</td>\n",
       "      <td id=\"T_7ff22_row1_col10\" class=\"data row1 col10\" >4.116737</td>\n",
       "      <td id=\"T_7ff22_row1_col11\" class=\"data row1 col11\" >2927</td>\n",
       "      <td id=\"T_7ff22_row1_col12\" class=\"data row1 col12\" >711</td>\n",
       "      <td id=\"T_7ff22_row1_col13\" class=\"data row1 col13\" >275.404717</td>\n",
       "      <td id=\"T_7ff22_row1_col14\" class=\"data row1 col14\" >195812.753982</td>\n",
       "      <td id=\"T_7ff22_row1_col15\" class=\"data row1 col15\" >711</td>\n",
       "      <td id=\"T_7ff22_row1_col16\" class=\"data row1 col16\" >0.482222</td>\n",
       "      <td id=\"T_7ff22_row1_col17\" class=\"data row1 col17\" >342.859730</td>\n",
       "      <td id=\"T_7ff22_row1_col18\" class=\"data row1 col18\" >711</td>\n",
       "      <td id=\"T_7ff22_row1_col19\" class=\"data row1 col19\" >1.431177</td>\n",
       "      <td id=\"T_7ff22_row1_col20\" class=\"data row1 col20\" >1017.566619</td>\n",
       "      <td id=\"T_7ff22_row1_col21\" class=\"data row1 col21\" >711</td>\n",
       "      <td id=\"T_7ff22_row1_col22\" class=\"data row1 col22\" >294.023045</td>\n",
       "      <td id=\"T_7ff22_row1_col23\" class=\"data row1 col23\" >209050.384704</td>\n",
       "      <td id=\"T_7ff22_row1_col24\" class=\"data row1 col24\" >711</td>\n",
       "      <td id=\"T_7ff22_row1_col25\" class=\"data row1 col25\" >386.433015</td>\n",
       "      <td id=\"T_7ff22_row1_col26\" class=\"data row1 col26\" >274753.873338</td>\n",
       "    </tr>\n",
       "    <tr>\n",
       "      <th id=\"T_7ff22_level0_row2\" class=\"row_heading level0 row2\" >B</th>\n",
       "      <td id=\"T_7ff22_row2_col0\" class=\"data row2 col0\" >711</td>\n",
       "      <td id=\"T_7ff22_row2_col1\" class=\"data row2 col1\" >15315.056259</td>\n",
       "      <td id=\"T_7ff22_row2_col2\" class=\"data row2 col2\" >10889005.000000</td>\n",
       "      <td id=\"T_7ff22_row2_col3\" class=\"data row2 col3\" >711</td>\n",
       "      <td id=\"T_7ff22_row2_col4\" class=\"data row2 col4\" >29.198111</td>\n",
       "      <td id=\"T_7ff22_row2_col5\" class=\"data row2 col5\" >20759.857143</td>\n",
       "      <td id=\"T_7ff22_row2_col6\" class=\"data row2 col6\" >711</td>\n",
       "      <td id=\"T_7ff22_row2_col7\" class=\"data row2 col7\" >34.629094</td>\n",
       "      <td id=\"T_7ff22_row2_col8\" class=\"data row2 col8\" >24621.285714</td>\n",
       "      <td id=\"T_7ff22_row2_col9\" class=\"data row2 col9\" >711</td>\n",
       "      <td id=\"T_7ff22_row2_col10\" class=\"data row2 col10\" >5.433193</td>\n",
       "      <td id=\"T_7ff22_row2_col11\" class=\"data row2 col11\" >3863</td>\n",
       "      <td id=\"T_7ff22_row2_col12\" class=\"data row2 col12\" >711</td>\n",
       "      <td id=\"T_7ff22_row2_col13\" class=\"data row2 col13\" >380.052646</td>\n",
       "      <td id=\"T_7ff22_row2_col14\" class=\"data row2 col14\" >270217.431390</td>\n",
       "      <td id=\"T_7ff22_row2_col15\" class=\"data row2 col15\" >711</td>\n",
       "      <td id=\"T_7ff22_row2_col16\" class=\"data row2 col16\" >0.646504</td>\n",
       "      <td id=\"T_7ff22_row2_col17\" class=\"data row2 col17\" >459.664212</td>\n",
       "      <td id=\"T_7ff22_row2_col18\" class=\"data row2 col18\" >711</td>\n",
       "      <td id=\"T_7ff22_row2_col19\" class=\"data row2 col19\" >1.916338</td>\n",
       "      <td id=\"T_7ff22_row2_col20\" class=\"data row2 col20\" >1362.516532</td>\n",
       "      <td id=\"T_7ff22_row2_col21\" class=\"data row2 col21\" >711</td>\n",
       "      <td id=\"T_7ff22_row2_col22\" class=\"data row2 col22\" >401.134180</td>\n",
       "      <td id=\"T_7ff22_row2_col23\" class=\"data row2 col23\" >285206.402113</td>\n",
       "      <td id=\"T_7ff22_row2_col24\" class=\"data row2 col24\" >711</td>\n",
       "      <td id=\"T_7ff22_row2_col25\" class=\"data row2 col25\" >697.359370</td>\n",
       "      <td id=\"T_7ff22_row2_col26\" class=\"data row2 col26\" >495822.512342</td>\n",
       "    </tr>\n",
       "    <tr>\n",
       "      <th id=\"T_7ff22_level0_row3\" class=\"row_heading level0 row3\" >A</th>\n",
       "      <td id=\"T_7ff22_row3_col0\" class=\"data row3 col0\" >711</td>\n",
       "      <td id=\"T_7ff22_row3_col1\" class=\"data row3 col1\" >14972.125176</td>\n",
       "      <td id=\"T_7ff22_row3_col2\" class=\"data row3 col2\" >10645181.000000</td>\n",
       "      <td id=\"T_7ff22_row3_col3\" class=\"data row3 col3\" >711</td>\n",
       "      <td id=\"T_7ff22_row3_col4\" class=\"data row3 col4\" >31.566004</td>\n",
       "      <td id=\"T_7ff22_row3_col5\" class=\"data row3 col5\" >22443.428571</td>\n",
       "      <td id=\"T_7ff22_row3_col6\" class=\"data row3 col6\" >711</td>\n",
       "      <td id=\"T_7ff22_row3_col7\" class=\"data row3 col7\" >34.680932</td>\n",
       "      <td id=\"T_7ff22_row3_col8\" class=\"data row3 col8\" >24658.142857</td>\n",
       "      <td id=\"T_7ff22_row3_col9\" class=\"data row3 col9\" >711</td>\n",
       "      <td id=\"T_7ff22_row3_col10\" class=\"data row3 col10\" >11.355837</td>\n",
       "      <td id=\"T_7ff22_row3_col11\" class=\"data row3 col11\" >8074</td>\n",
       "      <td id=\"T_7ff22_row3_col12\" class=\"data row3 col12\" >711</td>\n",
       "      <td id=\"T_7ff22_row3_col13\" class=\"data row3 col13\" >849.141407</td>\n",
       "      <td id=\"T_7ff22_row3_col14\" class=\"data row3 col14\" >603739.540382</td>\n",
       "      <td id=\"T_7ff22_row3_col15\" class=\"data row3 col15\" >711</td>\n",
       "      <td id=\"T_7ff22_row3_col16\" class=\"data row3 col16\" >1.085679</td>\n",
       "      <td id=\"T_7ff22_row3_col17\" class=\"data row3 col17\" >771.917549</td>\n",
       "      <td id=\"T_7ff22_row3_col18\" class=\"data row3 col18\" >711</td>\n",
       "      <td id=\"T_7ff22_row3_col19\" class=\"data row3 col19\" >3.220883</td>\n",
       "      <td id=\"T_7ff22_row3_col20\" class=\"data row3 col20\" >2290.047596</td>\n",
       "      <td id=\"T_7ff22_row3_col21\" class=\"data row3 col21\" >711</td>\n",
       "      <td id=\"T_7ff22_row3_col22\" class=\"data row3 col22\" >890.368409</td>\n",
       "      <td id=\"T_7ff22_row3_col23\" class=\"data row3 col23\" >633051.939058</td>\n",
       "      <td id=\"T_7ff22_row3_col24\" class=\"data row3 col24\" >711</td>\n",
       "      <td id=\"T_7ff22_row3_col25\" class=\"data row3 col25\" >2531.772985</td>\n",
       "      <td id=\"T_7ff22_row3_col26\" class=\"data row3 col26\" >1800090.592060</td>\n",
       "    </tr>\n",
       "  </tbody>\n",
       "</table>\n"
      ],
      "text/plain": [
       "<pandas.io.formats.style.Styler at 0x7f82304c05d0>"
      ]
     },
     "execution_count": 47,
     "metadata": {},
     "output_type": "execute_result"
    }
   ],
   "source": [
    "cltv_final.groupby(\"segment\").agg({\"count\", \"mean\", \"sum\"}).style.set_properties(**{\"background-color\": \"#000000\",\"color\":\"#FFEA20\",\"border\": \"0.2px solid white\"})"
   ]
  },
  {
   "cell_type": "code",
   "execution_count": 48,
   "id": "99a65192",
   "metadata": {
    "execution": {
     "iopub.execute_input": "2023-03-08T07:47:17.840916Z",
     "iopub.status.busy": "2023-03-08T07:47:17.840199Z",
     "iopub.status.idle": "2023-03-08T07:47:17.879512Z",
     "shell.execute_reply": "2023-03-08T07:47:17.878370Z"
    },
    "papermill": {
     "duration": 0.077864,
     "end_time": "2023-03-08T07:47:17.882373",
     "exception": false,
     "start_time": "2023-03-08T07:47:17.804509",
     "status": "completed"
    },
    "tags": []
   },
   "outputs": [],
   "source": [
    "cltv_final.to_csv('/kaggle/working/cltv_prediction.csv')\n",
    "\n"
   ]
  },
  {
   "cell_type": "markdown",
   "id": "54c2ecb2",
   "metadata": {
    "papermill": {
     "duration": 0.033463,
     "end_time": "2023-03-08T07:47:17.949883",
     "exception": false,
     "start_time": "2023-03-08T07:47:17.916420",
     "status": "completed"
    },
    "tags": []
   },
   "source": [
    "\n",
    "<p style=\"padding:15px;\n",
    "background-color:#f4ebdc;\n",
    "margin:0; color:#b26960; border:2px dotted #C689C6; font-family:Charter; font-weight: bold; font-size:250%; text-align:center; overflow:hidden; font-weight:500\">If you like this then please like this 😄 Your opinions and suggestions are very important to me... </p>"
   ]
  },
  {
   "cell_type": "markdown",
   "id": "4c32307d",
   "metadata": {
    "papermill": {
     "duration": 0.034195,
     "end_time": "2023-03-08T07:47:18.017776",
     "exception": false,
     "start_time": "2023-03-08T07:47:17.983581",
     "status": "completed"
    },
    "tags": []
   },
   "source": [
    "<div style=\"float:center;margin-left:270px;max-width:50%;\">\n",
    "     <img src ='https://media.giphy.com/media/v1.Y2lkPTc5MGI3NjExOWMyMDhlZGRmM2E0ODA1ZGZhNDJjYjdiNzA4OTVhZDliNmQ1MzUxZCZjdD1n/el7VG1XOOvi24oRXFt/giphy.gif'>\n",
    "</div> "
   ]
  },
  {
   "cell_type": "markdown",
   "id": "3685fbb6",
   "metadata": {
    "papermill": {
     "duration": 0.039233,
     "end_time": "2023-03-08T07:47:18.090996",
     "exception": false,
     "start_time": "2023-03-08T07:47:18.051763",
     "status": "completed"
    },
    "tags": []
   },
   "source": [
    "Credits:\n",
    "\n",
    "https://learning.miuul.com/\n",
    "\n",
    "\n",
    "https://www.analyticsvidhya.com/blog/2021/06/cohort-analysis-using-python-for-beginners-a-hands-on-tutorial/\n"
   ]
  }
 ],
 "metadata": {
  "kernelspec": {
   "display_name": "Python 3",
   "language": "python",
   "name": "python3"
  },
  "language_info": {
   "codemirror_mode": {
    "name": "ipython",
    "version": 3
   },
   "file_extension": ".py",
   "mimetype": "text/x-python",
   "name": "python",
   "nbconvert_exporter": "python",
   "pygments_lexer": "ipython3",
   "version": "3.7.12"
  },
  "papermill": {
   "default_parameters": {},
   "duration": 137.476347,
   "end_time": "2023-03-08T07:47:19.154813",
   "environment_variables": {},
   "exception": null,
   "input_path": "__notebook__.ipynb",
   "output_path": "__notebook__.ipynb",
   "parameters": {},
   "start_time": "2023-03-08T07:45:01.678466",
   "version": "2.4.0"
  }
 },
 "nbformat": 4,
 "nbformat_minor": 5
}
