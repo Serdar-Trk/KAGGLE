{
 "cells": [
  {
   "cell_type": "markdown",
   "id": "0bccbaeb",
   "metadata": {
    "papermill": {
     "duration": 0.007847,
     "end_time": "2023-03-18T18:58:00.394226",
     "exception": false,
     "start_time": "2023-03-18T18:58:00.386379",
     "status": "completed"
    },
    "tags": []
   },
   "source": [
    "<strong style=\"color:#2B3467;font-size:60px;font-family:Georgia;text-align:center;\">Model Based Matrix Factorization </strong>\n",
    "\n",
    "\n",
    "<div style=\"float:center;margin-left:100px;max-width:100%;\">\n",
    "<img src=\"https://i.imgur.com/hmptLkK.gif\"></div>"
   ]
  },
  {
   "cell_type": "markdown",
   "id": "f1bca792",
   "metadata": {
    "papermill": {
     "duration": 0.006955,
     "end_time": "2023-03-18T18:58:00.408000",
     "exception": false,
     "start_time": "2023-03-18T18:58:00.401045",
     "status": "completed"
    },
    "tags": []
   },
   "source": [
    "   We come across recommendations multiple times a day — while deciding what to watch on Netflix/Youtube, item recommendations on shopping sites, song suggestions on Spotify, friend recommendations on Instagram, job recommendations on LinkedIn…the list goes on! Recommender systems aim to predict the “rating” or “preference” a user would give to an item. These ratings are used to determine what a user might like and make informed suggestions.\n",
    "\n",
    "\n",
    "<strong style=\"color:#2B3467;font-size:30px;font-family:Georgia;text-align:center;\">Matrix Factorization </strong>\n",
    "\n",
    " A recommender system has two entities — users and items. Let’s say we have m users and n items. \n",
    "The goal of our recommendation system is to build an mxn matrix (called the utility matrix) which consists of the rating (or preference) for each user-item pair.\n",
    "Initially, this matrix is usually very sparse because we only have ratings for a limited number of user-item pairs.\n",
    "\n",
    " Now, our goal is to populate this matrix by finding similarities between users and items. \n",
    "To get an intuition, for example, we see that User3 and User4 gave the same rating to Batman,  \n",
    "so we can assume the users are similar and they’d feel the same way about Spiderman and predict that User3 would give a rating of 4 to Spiderman.\n",
    "In practice, however, this is not as straightforward because there are multiple users interacting with many different items.\n",
    "\n",
    "In practice, The matrix is populated by decomposing (or factorizing) the Utility matrix into two tall and skinny matrices. \n",
    "The decomposition has the equation:\n",
    "\n",
    "<div style=\"float:center;margin-left:100px;max-width:20%;\">\n",
    "<img src=\"https://miro.medium.com/v2/resize:fit:344/format:webp/1*VsL3stRmAnK_cmz-7j2mbA.png\"></div>\n",
    "\n",
    "   where U is m x k and V is n x k. U is a representation of users in some low dimensional space, and V is a representation of items. \n",
    "For a user i, uᵢ gives the representation of that user, and for an item e, vₑ gives the representation of that item. \n",
    "\n",
    "In practice, The matrix is populated by decomposing (or factorizing) the Utility matrix into two tall and skinny matrices. \n",
    "The decomposition has the equation:\n",
    "\n",
    "* The rating prediction for a user-item pair is simply::\n",
    "\n",
    "<div style=\"float:center;margin-left:100px;max-width:20%;\">\n",
    "<img src=\"https://miro.medium.com/v2/resize:fit:408/format:webp/1*Z0vVFgUDn-xbhcyWY0DD0g.png\"></div>\n",
    "<div style=\"float:center;margin-left:100px;max-width:500%;\">\n",
    "<img src=\"https://miro.medium.com/v2/resize:fit:1400/format:webp/1*n-vTVJgQahPXRI09mMpKNA.png\"></div>\n",
    "\n",
    "\n",
    "Our goal is to find the optimal embeddings for each user and each item. \n",
    "We can then use these embeddings to make predictions for any user-item pair by taking the dot product of user embedding and item embedding\n",
    "\n",
    "Cost function: We are trying to minimize the Mean squared error over the utility matrix. Here N is the number of non-blank elements in the utility matrix.\n",
    "\n",
    "<div style=\"float:center;margin-left:100px;max-width:25%;\">\n",
    "<img src=\"https://miro.medium.com/v2/resize:fit:1400/format:webp/1*ahOZMlf7tiEiWj6dhZb_2w.png\"></div>\n",
    "\n",
    "<strong style=\"color:#2B3467;font-size:30px;font-family:Georgia;text-align:center;\">Gradient Descent: </strong>\n",
    "\n",
    "The gradient descent equations are:\n",
    "\n",
    "<div style=\"float:center;margin-left:60px;max-width:25%;\">\n",
    "<img src=\"https://miro.medium.com/v2/resize:fit:1400/format:webp/1*aU9HD6gWwJJFSEXYFE2jZQ.png\"></div>\n",
    "\n",
    "   I’ve used momentum in my implementation which is a method that helps accelerate gradient descent in the relevant direction and dampens oscillations leading to faster convergence. I’ve also added regularization to ensure my model does not overfit to the training data. Hence, the gradient descent equations in my code are slightly more complex than the ones mentioned above.\n",
    "\n",
    "The regularized cost function is:\n",
    "\n",
    "<div style=\"float:center;margin-left:70px;max-width:35%;\">\n",
    "<img src=\"https://miro.medium.com/v2/resize:fit:1400/format:webp/1*6h35XmJVDT1zmWW_PeD09Q.png\"></div>\n",
    "\n",
    "\n",
    "<div class=\"inner_cell\">\n",
    "<div class=\"text_cell_render border-box-sizing rendered_html\">\n",
    "<p></p><div class=\"list-group\" id=\"list-tab\" role=\"tablist\">\n",
    "  <h3 class=\"list-group-item list-group-item-action active\" data-toggle=\"list\" role=\"tab\" aria-controls=\"home\" style = \"background-color:#FCFFE7;font-family:Georgia;color:#2B3467;font-size:200%;text-align:LEFT;border-radius:20px 40px;overflow:hidden;border-style:dotted;border-width:1.8px;border-color:#2B3467;\">...Table of Contents...</h3>\n",
    "  <a class=\"list-group-item list-group-item-action\" data-toggle=\"list\" href=\"#1\" role=\"tab\" aria-controls=\"home\" target=\"_self\" style = \"color:#000000; font-family:Charter;font-size:120%;\">Data Preparation <span class=\"badge badge-primary badge-pill\">1</span></a>\n",
    "  <a class=\"list-group-item list-group-item-action\" data-toggle=\"list\" href=\"#2\" role=\"tab\" aria-controls=\"messages\" target=\"_self\" style = \"color:#000000; font-family:Charter;font-size:120%;\">Modell<span class=\"badge badge-primary badge-pill\">2</span></a>\n",
    "  <a class=\"list-group-item list-group-item-action\" data-toggle=\"list\" href=\"#3\" role=\"tab\" aria-controls=\"settings\" target=\"_self\" style = \"color:#000000; font-family:Charter;font-size:120%;\">Model Tuning<span class=\"badge badge-primary badge-pill\">3</span></a>\n",
    "  <a class=\"list-group-item list-group-item-action\" data-toggle=\"list\" href=\"#4\" role=\"tab\" aria-controls=\"settings\" target=\"_self\" style = \"color:#000000; font-family:Charter;font-size:120%;\">Final Model & Prediction<span class=\"badge badge-primary badge-pill\">4</span></a> \n",
    "  <a class=\"list-group-item list-group-item-action\" data-toggle=\"list\" href=\"#5\" role=\"tab\" aria-controls=\"settings\" target=\"_self\" style = \"color:#000000; font-family:Charter;font-size:120%;\"> ^^^^^<span class=\"badge badge-primary badge-pill\">5</span></a>\n",
    "</div>\n",
    "</div>\n",
    "</div>"
   ]
  },
  {
   "cell_type": "markdown",
   "id": "4c3995f1",
   "metadata": {
    "papermill": {
     "duration": 0.006373,
     "end_time": "2023-03-18T18:58:00.421415",
     "exception": false,
     "start_time": "2023-03-18T18:58:00.415042",
     "status": "completed"
    },
    "tags": []
   },
   "source": [
    "<a id = \"1\"></a>\n",
    "<strong style=\"color:#2B3467;font-size:20px;font-family:Georgia;text-align:center;\">  Packages-Libraries-Settings 📜 ⚙️ </strong>"
   ]
  },
  {
   "cell_type": "code",
   "execution_count": 1,
   "id": "7728b0a8",
   "metadata": {
    "execution": {
     "iopub.execute_input": "2023-03-18T18:58:00.438372Z",
     "iopub.status.busy": "2023-03-18T18:58:00.437549Z",
     "iopub.status.idle": "2023-03-18T18:58:00.559959Z",
     "shell.execute_reply": "2023-03-18T18:58:00.558589Z"
    },
    "papermill": {
     "duration": 0.134485,
     "end_time": "2023-03-18T18:58:00.563186",
     "exception": false,
     "start_time": "2023-03-18T18:58:00.428701",
     "status": "completed"
    },
    "tags": []
   },
   "outputs": [],
   "source": [
    "import numpy as np\n",
    "import pandas as pd\n",
    "from surprise import Reader, SVD, Dataset, accuracy\n",
    "from surprise.model_selection import GridSearchCV, train_test_split, cross_validate"
   ]
  },
  {
   "cell_type": "markdown",
   "id": "3e9a0fac",
   "metadata": {
    "papermill": {
     "duration": 0.007015,
     "end_time": "2023-03-18T18:58:00.577254",
     "exception": false,
     "start_time": "2023-03-18T18:58:00.570239",
     "status": "completed"
    },
    "tags": []
   },
   "source": [
    "<a id = \"1\"></a>\n",
    "<strong style=\"color:#2B3467;font-size:20px;font-family:Georgia;text-align:center;\">  Data Preparation </strong>"
   ]
  },
  {
   "cell_type": "code",
   "execution_count": 2,
   "id": "5c6b2ed2",
   "metadata": {
    "execution": {
     "iopub.execute_input": "2023-03-18T18:58:00.592518Z",
     "iopub.status.busy": "2023-03-18T18:58:00.592065Z",
     "iopub.status.idle": "2023-03-18T18:58:35.508856Z",
     "shell.execute_reply": "2023-03-18T18:58:35.507394Z"
    },
    "papermill": {
     "duration": 34.932104,
     "end_time": "2023-03-18T18:58:35.516037",
     "exception": false,
     "start_time": "2023-03-18T18:58:00.583933",
     "status": "completed"
    },
    "tags": []
   },
   "outputs": [
    {
     "data": {
      "text/html": [
       "<div>\n",
       "<style scoped>\n",
       "    .dataframe tbody tr th:only-of-type {\n",
       "        vertical-align: middle;\n",
       "    }\n",
       "\n",
       "    .dataframe tbody tr th {\n",
       "        vertical-align: top;\n",
       "    }\n",
       "\n",
       "    .dataframe thead th {\n",
       "        text-align: right;\n",
       "    }\n",
       "</style>\n",
       "<table border=\"1\" class=\"dataframe\">\n",
       "  <thead>\n",
       "    <tr style=\"text-align: right;\">\n",
       "      <th></th>\n",
       "      <th>movieId</th>\n",
       "      <th>title</th>\n",
       "      <th>genres</th>\n",
       "      <th>userId</th>\n",
       "      <th>rating</th>\n",
       "      <th>timestamp</th>\n",
       "    </tr>\n",
       "  </thead>\n",
       "  <tbody>\n",
       "    <tr>\n",
       "      <th>0</th>\n",
       "      <td>1</td>\n",
       "      <td>Toy Story (1995)</td>\n",
       "      <td>Adventure|Animation|Children|Comedy|Fantasy</td>\n",
       "      <td>3.0</td>\n",
       "      <td>4.0</td>\n",
       "      <td>1999-12-11 13:36:47</td>\n",
       "    </tr>\n",
       "    <tr>\n",
       "      <th>1</th>\n",
       "      <td>1</td>\n",
       "      <td>Toy Story (1995)</td>\n",
       "      <td>Adventure|Animation|Children|Comedy|Fantasy</td>\n",
       "      <td>6.0</td>\n",
       "      <td>5.0</td>\n",
       "      <td>1997-03-13 17:50:52</td>\n",
       "    </tr>\n",
       "    <tr>\n",
       "      <th>2</th>\n",
       "      <td>1</td>\n",
       "      <td>Toy Story (1995)</td>\n",
       "      <td>Adventure|Animation|Children|Comedy|Fantasy</td>\n",
       "      <td>8.0</td>\n",
       "      <td>4.0</td>\n",
       "      <td>1996-06-05 13:37:51</td>\n",
       "    </tr>\n",
       "    <tr>\n",
       "      <th>3</th>\n",
       "      <td>1</td>\n",
       "      <td>Toy Story (1995)</td>\n",
       "      <td>Adventure|Animation|Children|Comedy|Fantasy</td>\n",
       "      <td>10.0</td>\n",
       "      <td>4.0</td>\n",
       "      <td>1999-11-25 02:44:47</td>\n",
       "    </tr>\n",
       "    <tr>\n",
       "      <th>4</th>\n",
       "      <td>1</td>\n",
       "      <td>Toy Story (1995)</td>\n",
       "      <td>Adventure|Animation|Children|Comedy|Fantasy</td>\n",
       "      <td>11.0</td>\n",
       "      <td>4.5</td>\n",
       "      <td>2009-01-02 01:13:41</td>\n",
       "    </tr>\n",
       "  </tbody>\n",
       "</table>\n",
       "</div>"
      ],
      "text/plain": [
       "   movieId             title                                       genres  \\\n",
       "0        1  Toy Story (1995)  Adventure|Animation|Children|Comedy|Fantasy   \n",
       "1        1  Toy Story (1995)  Adventure|Animation|Children|Comedy|Fantasy   \n",
       "2        1  Toy Story (1995)  Adventure|Animation|Children|Comedy|Fantasy   \n",
       "3        1  Toy Story (1995)  Adventure|Animation|Children|Comedy|Fantasy   \n",
       "4        1  Toy Story (1995)  Adventure|Animation|Children|Comedy|Fantasy   \n",
       "\n",
       "   userId  rating            timestamp  \n",
       "0     3.0     4.0  1999-12-11 13:36:47  \n",
       "1     6.0     5.0  1997-03-13 17:50:52  \n",
       "2     8.0     4.0  1996-06-05 13:37:51  \n",
       "3    10.0     4.0  1999-11-25 02:44:47  \n",
       "4    11.0     4.5  2009-01-02 01:13:41  "
      ]
     },
     "execution_count": 2,
     "metadata": {},
     "output_type": "execute_result"
    }
   ],
   "source": [
    "movie = pd.read_csv('/kaggle/input/movielens-20m-dataset/movie.csv')\n",
    "rating = pd.read_csv('/kaggle/input/movielens-20m-dataset/rating.csv')\n",
    "df = movie.merge(rating, how=\"left\", on=\"movieId\")\n",
    "df.head()"
   ]
  },
  {
   "cell_type": "code",
   "execution_count": 3,
   "id": "0802b3e6",
   "metadata": {
    "_kg_hide-input": true,
    "execution": {
     "iopub.execute_input": "2023-03-18T18:58:35.532349Z",
     "iopub.status.busy": "2023-03-18T18:58:35.531951Z",
     "iopub.status.idle": "2023-03-18T18:58:36.345193Z",
     "shell.execute_reply": "2023-03-18T18:58:36.343851Z"
    },
    "papermill": {
     "duration": 0.825928,
     "end_time": "2023-03-18T18:58:36.349385",
     "exception": false,
     "start_time": "2023-03-18T18:58:35.523457",
     "status": "completed"
    },
    "tags": []
   },
   "outputs": [
    {
     "name": "stdout",
     "output_type": "stream",
     "text": [
      "Mem. usage decreased to 801.12 Mb (25.0% reduction)\n"
     ]
    }
   ],
   "source": [
    "# Veri turlerinde yapacagimiz degisiklikler ile hafiza kullanimini iyilestirelim.\n",
    "# Bu sayede hafiza kullanimini %73 oraninda azalttik\n",
    "def reduce_memory_usage(df, verbose=True):\n",
    "    numerics = [\"int8\", \"int16\", \"int32\", \"int64\", \"float16\", \"float32\", \"float64\"]\n",
    "    start_mem = df.memory_usage().sum() / 1024 ** 2\n",
    "    for col in df.columns:\n",
    "        col_type = df[col].dtypes\n",
    "        if col_type in numerics:\n",
    "            c_min = df[col].min()\n",
    "            c_max = df[col].max()\n",
    "            if str(col_type)[:3] == \"int\":\n",
    "                if c_min > np.iinfo(np.int8).min and c_max < np.iinfo(np.int8).max:\n",
    "                    df[col] = df[col].astype(np.int8)\n",
    "                elif c_min > np.iinfo(np.int16).min and c_max < np.iinfo(np.int16).max:\n",
    "                    df[col] = df[col].astype(np.int16)\n",
    "                elif c_min > np.iinfo(np.int32).min and c_max < np.iinfo(np.int32).max:\n",
    "                    df[col] = df[col].astype(np.int32)\n",
    "                elif c_min > np.iinfo(np.int64).min and c_max < np.iinfo(np.int64).max:\n",
    "                    df[col] = df[col].astype(np.int64)\n",
    "            else:\n",
    "                if (\n",
    "                    c_min > np.finfo(np.float16).min\n",
    "                    and c_max < np.finfo(np.float16).max\n",
    "                ):\n",
    "                    df[col] = df[col].astype(np.float16)\n",
    "                elif (\n",
    "                    c_min > np.finfo(np.float32).min\n",
    "                    and c_max < np.finfo(np.float32).max\n",
    "                ):\n",
    "                    df[col] = df[col].astype(np.float32)\n",
    "                else:\n",
    "                    df[col] = df[col].astype(np.float64)\n",
    "    end_mem = df.memory_usage().sum() / 1024 ** 2\n",
    "    if verbose:\n",
    "        print(\n",
    "            \"Mem. usage decreased to {:.2f} Mb ({:.1f}% reduction)\".format(\n",
    "                end_mem, 100 * (start_mem - end_mem) / start_mem\n",
    "            )\n",
    "        )\n",
    "    return df\n",
    "\n",
    "df = reduce_memory_usage(df, verbose=True)"
   ]
  },
  {
   "cell_type": "code",
   "execution_count": 4,
   "id": "160b2a4b",
   "metadata": {
    "execution": {
     "iopub.execute_input": "2023-03-18T18:58:36.366495Z",
     "iopub.status.busy": "2023-03-18T18:58:36.365724Z",
     "iopub.status.idle": "2023-03-18T18:59:30.709236Z",
     "shell.execute_reply": "2023-03-18T18:59:30.707718Z"
    },
    "papermill": {
     "duration": 54.35534,
     "end_time": "2023-03-18T18:59:30.712070",
     "exception": false,
     "start_time": "2023-03-18T18:58:36.356730",
     "status": "completed"
    },
    "tags": []
   },
   "outputs": [
    {
     "name": "stdout",
     "output_type": "stream",
     "text": [
      "------------------------------- SHAPE --------------------------------\n",
      "Rows: 20000797\n",
      "Columns: 6\n",
      "------------------------------- TYPES --------------------------------\n",
      "movieId        int32\n",
      "title         object\n",
      "genres        object\n",
      "userId       float32\n",
      "rating       float16\n",
      "timestamp     object\n",
      "dtype: object\n",
      "-------------------------------- HEAD --------------------------------\n",
      "   movieId             title                                       genres  \\\n",
      "0        1  Toy Story (1995)  Adventure|Animation|Children|Comedy|Fantasy   \n",
      "1        1  Toy Story (1995)  Adventure|Animation|Children|Comedy|Fantasy   \n",
      "2        1  Toy Story (1995)  Adventure|Animation|Children|Comedy|Fantasy   \n",
      "3        1  Toy Story (1995)  Adventure|Animation|Children|Comedy|Fantasy   \n",
      "4        1  Toy Story (1995)  Adventure|Animation|Children|Comedy|Fantasy   \n",
      "\n",
      "   userId  rating            timestamp  \n",
      "0     3.0     4.0  1999-12-11 13:36:47  \n",
      "1     6.0     5.0  1997-03-13 17:50:52  \n",
      "2     8.0     4.0  1996-06-05 13:37:51  \n",
      "3    10.0     4.0  1999-11-25 02:44:47  \n",
      "4    11.0     4.5  2009-01-02 01:13:41  \n",
      "-------------------------------- TAIL --------------------------------\n",
      "          movieId                          title                    genres  \\\n",
      "20000792   131254   Kein Bund für's Leben (2007)                    Comedy   \n",
      "20000793   131256  Feuer, Eis & Dosenbier (2002)                    Comedy   \n",
      "20000794   131258             The Pirates (2014)                 Adventure   \n",
      "20000795   131260            Rentun Ruusu (2001)        (no genres listed)   \n",
      "20000796   131262               Innocence (2014)  Adventure|Fantasy|Horror   \n",
      "\n",
      "            userId  rating            timestamp  \n",
      "20000792   79570.0     4.0  2015-03-30 19:32:59  \n",
      "20000793   79570.0     4.0  2015-03-30 19:48:08  \n",
      "20000794   28906.0     2.5  2015-03-30 19:56:32  \n",
      "20000795   65409.0     3.0  2015-03-30 19:57:46  \n",
      "20000796  133047.0     4.0  2015-03-30 20:39:26  \n",
      "--------------------------- MISSING VALUES ---------------------------\n",
      "movieId        0\n",
      "title          0\n",
      "genres         0\n",
      "userId       534\n",
      "rating       534\n",
      "timestamp    534\n",
      "dtype: int64\n",
      "------------------------- DUPLICATED VALUES --------------------------\n",
      "0\n",
      "------------------------------ DESCRIBE ------------------------------\n",
      "              count          mean           std  min   0%      10%      20%  \\\n",
      "movieId  20000797.0   9044.349230  19796.714278  1.0  1.0    296.0    592.0   \n",
      "userId   20000263.0  69045.789062  40038.625000  1.0  1.0  13568.0  27221.0   \n",
      "rating   20000263.0           NaN      0.000000  0.5  0.5      2.0      3.0   \n",
      "\n",
      "             30%      40%      50%      60%      70%       80%       90%  \\\n",
      "movieId   1148.0   1503.0   2167.0   2915.0   3952.0    5872.0   33794.0   \n",
      "userId   41306.0  55132.0  69141.0  82855.0  96703.0  110725.0  124479.0   \n",
      "rating       3.0      3.5      3.5      4.0      4.0       4.5       5.0   \n",
      "\n",
      "             100%       max  \n",
      "movieId  131262.0  131262.0  \n",
      "userId   138493.0  138493.0  \n",
      "rating        5.0       5.0  \n"
     ]
    }
   ],
   "source": [
    "def check_df(dataframe, head=5):\n",
    "    print(\" SHAPE \".center(70,'-'))\n",
    "    print('Rows: {}'.format(dataframe.shape[0]))\n",
    "    print('Columns: {}'.format(dataframe.shape[1]))\n",
    "    print(\" TYPES \".center(70,'-'))\n",
    "    print(dataframe.dtypes)\n",
    "    print(\" HEAD \".center(70,'-'))\n",
    "    print(dataframe.head(head))\n",
    "    print(\" TAIL \".center(70,'-'))\n",
    "    print(dataframe.tail(head))\n",
    "    print(\" MISSING VALUES \".center(70,'-'))\n",
    "    print(dataframe.isnull().sum())\n",
    "    print(\" DUPLICATED VALUES \".center(70,'-'))\n",
    "    print(dataframe.duplicated().sum())\n",
    "    print(\" DESCRIBE \".center(70,'-'))\n",
    "    print(dataframe.describe([0, 0.10, 0.20, 0.30, 0.40, 0.50, 0.60, 0.70, 0.80, 0.90, 1]).T)\n",
    "    \n",
    "check_df(df)"
   ]
  },
  {
   "cell_type": "code",
   "execution_count": 5,
   "id": "713bd4a2",
   "metadata": {
    "execution": {
     "iopub.execute_input": "2023-03-18T18:59:30.729732Z",
     "iopub.status.busy": "2023-03-18T18:59:30.729319Z",
     "iopub.status.idle": "2023-03-18T18:59:30.812225Z",
     "shell.execute_reply": "2023-03-18T18:59:30.811022Z"
    },
    "papermill": {
     "duration": 0.095556,
     "end_time": "2023-03-18T18:59:30.814845",
     "exception": false,
     "start_time": "2023-03-18T18:59:30.719289",
     "status": "completed"
    },
    "tags": []
   },
   "outputs": [
    {
     "data": {
      "text/html": [
       "<div>\n",
       "<style scoped>\n",
       "    .dataframe tbody tr th:only-of-type {\n",
       "        vertical-align: middle;\n",
       "    }\n",
       "\n",
       "    .dataframe tbody tr th {\n",
       "        vertical-align: top;\n",
       "    }\n",
       "\n",
       "    .dataframe thead th {\n",
       "        text-align: right;\n",
       "    }\n",
       "</style>\n",
       "<table border=\"1\" class=\"dataframe\">\n",
       "  <thead>\n",
       "    <tr style=\"text-align: right;\">\n",
       "      <th></th>\n",
       "      <th>movieId</th>\n",
       "      <th>title</th>\n",
       "      <th>genres</th>\n",
       "      <th>userId</th>\n",
       "      <th>rating</th>\n",
       "      <th>timestamp</th>\n",
       "    </tr>\n",
       "  </thead>\n",
       "  <tbody>\n",
       "    <tr>\n",
       "      <th>2457839</th>\n",
       "      <td>356</td>\n",
       "      <td>Forrest Gump (1994)</td>\n",
       "      <td>Comedy|Drama|Romance|War</td>\n",
       "      <td>4.0</td>\n",
       "      <td>4.0</td>\n",
       "      <td>1996-08-24 09:28:42</td>\n",
       "    </tr>\n",
       "    <tr>\n",
       "      <th>2457840</th>\n",
       "      <td>356</td>\n",
       "      <td>Forrest Gump (1994)</td>\n",
       "      <td>Comedy|Drama|Romance|War</td>\n",
       "      <td>7.0</td>\n",
       "      <td>4.0</td>\n",
       "      <td>2002-01-16 19:02:55</td>\n",
       "    </tr>\n",
       "    <tr>\n",
       "      <th>2457841</th>\n",
       "      <td>356</td>\n",
       "      <td>Forrest Gump (1994)</td>\n",
       "      <td>Comedy|Drama|Romance|War</td>\n",
       "      <td>8.0</td>\n",
       "      <td>5.0</td>\n",
       "      <td>1996-06-05 13:44:19</td>\n",
       "    </tr>\n",
       "    <tr>\n",
       "      <th>2457842</th>\n",
       "      <td>356</td>\n",
       "      <td>Forrest Gump (1994)</td>\n",
       "      <td>Comedy|Drama|Romance|War</td>\n",
       "      <td>9.0</td>\n",
       "      <td>4.0</td>\n",
       "      <td>2001-07-01 20:26:38</td>\n",
       "    </tr>\n",
       "    <tr>\n",
       "      <th>2457843</th>\n",
       "      <td>356</td>\n",
       "      <td>Forrest Gump (1994)</td>\n",
       "      <td>Comedy|Drama|Romance|War</td>\n",
       "      <td>10.0</td>\n",
       "      <td>3.0</td>\n",
       "      <td>1999-11-25 02:32:02</td>\n",
       "    </tr>\n",
       "  </tbody>\n",
       "</table>\n",
       "</div>"
      ],
      "text/plain": [
       "         movieId                title                    genres  userId  \\\n",
       "2457839      356  Forrest Gump (1994)  Comedy|Drama|Romance|War     4.0   \n",
       "2457840      356  Forrest Gump (1994)  Comedy|Drama|Romance|War     7.0   \n",
       "2457841      356  Forrest Gump (1994)  Comedy|Drama|Romance|War     8.0   \n",
       "2457842      356  Forrest Gump (1994)  Comedy|Drama|Romance|War     9.0   \n",
       "2457843      356  Forrest Gump (1994)  Comedy|Drama|Romance|War    10.0   \n",
       "\n",
       "         rating            timestamp  \n",
       "2457839     4.0  1996-08-24 09:28:42  \n",
       "2457840     4.0  2002-01-16 19:02:55  \n",
       "2457841     5.0  1996-06-05 13:44:19  \n",
       "2457842     4.0  2001-07-01 20:26:38  \n",
       "2457843     3.0  1999-11-25 02:32:02  "
      ]
     },
     "execution_count": 5,
     "metadata": {},
     "output_type": "execute_result"
    }
   ],
   "source": [
    "movie_ids = [130219, 356, 4422, 541]\n",
    "movies = [\"The Dark Knight (2011)\",\n",
    "          \"Cries and Whispers (Viskningar och rop) (1972)\",\n",
    "          \"Forrest Gump (1994)\",\n",
    "          \"Blade Runner (1982)\"]\n",
    "\n",
    "sample_df = df[df.movieId.isin(movie_ids)]\n",
    "sample_df.head()"
   ]
  },
  {
   "cell_type": "code",
   "execution_count": 6,
   "id": "276cdc2f",
   "metadata": {
    "execution": {
     "iopub.execute_input": "2023-03-18T18:59:30.832765Z",
     "iopub.status.busy": "2023-03-18T18:59:30.832314Z",
     "iopub.status.idle": "2023-03-18T18:59:30.840293Z",
     "shell.execute_reply": "2023-03-18T18:59:30.838789Z"
    },
    "papermill": {
     "duration": 0.02013,
     "end_time": "2023-03-18T18:59:30.842609",
     "exception": false,
     "start_time": "2023-03-18T18:59:30.822479",
     "status": "completed"
    },
    "tags": []
   },
   "outputs": [
    {
     "data": {
      "text/plain": [
       "(97343, 6)"
      ]
     },
     "execution_count": 6,
     "metadata": {},
     "output_type": "execute_result"
    }
   ],
   "source": [
    "sample_df.shape"
   ]
  },
  {
   "cell_type": "code",
   "execution_count": 7,
   "id": "fadab1f4",
   "metadata": {
    "execution": {
     "iopub.execute_input": "2023-03-18T18:59:30.860774Z",
     "iopub.status.busy": "2023-03-18T18:59:30.859600Z",
     "iopub.status.idle": "2023-03-18T18:59:30.995530Z",
     "shell.execute_reply": "2023-03-18T18:59:30.994113Z"
    },
    "papermill": {
     "duration": 0.148411,
     "end_time": "2023-03-18T18:59:30.998761",
     "exception": false,
     "start_time": "2023-03-18T18:59:30.850350",
     "status": "completed"
    },
    "tags": []
   },
   "outputs": [],
   "source": [
    "reader = Reader(rating_scale=(1, 5))\n",
    "\n",
    "data = Dataset.load_from_df(sample_df[['userId',\n",
    "                                       'movieId',\n",
    "                                       'rating']], reader)"
   ]
  },
  {
   "cell_type": "markdown",
   "id": "70babaeb",
   "metadata": {
    "papermill": {
     "duration": 0.007718,
     "end_time": "2023-03-18T18:59:31.014113",
     "exception": false,
     "start_time": "2023-03-18T18:59:31.006395",
     "status": "completed"
    },
    "tags": []
   },
   "source": [
    "<a id = \"2\"></a>\n",
    "<strong style=\"color:#2B3467;font-size:20px;font-family:Georgia;text-align:center;\">  Modell </strong>"
   ]
  },
  {
   "cell_type": "code",
   "execution_count": 8,
   "id": "8b38aea9",
   "metadata": {
    "execution": {
     "iopub.execute_input": "2023-03-18T18:59:31.031842Z",
     "iopub.status.busy": "2023-03-18T18:59:31.030824Z",
     "iopub.status.idle": "2023-03-18T18:59:36.750189Z",
     "shell.execute_reply": "2023-03-18T18:59:36.748966Z"
    },
    "papermill": {
     "duration": 5.731013,
     "end_time": "2023-03-18T18:59:36.752694",
     "exception": false,
     "start_time": "2023-03-18T18:59:31.021681",
     "status": "completed"
    },
    "tags": []
   },
   "outputs": [
    {
     "data": {
      "text/plain": [
       "<surprise.prediction_algorithms.matrix_factorization.SVD at 0x7fcbc7239610>"
      ]
     },
     "execution_count": 8,
     "metadata": {},
     "output_type": "execute_result"
    }
   ],
   "source": [
    "trainset, testset = train_test_split(data, test_size=.25)\n",
    "svd_model = SVD()\n",
    "svd_model.fit(trainset)"
   ]
  },
  {
   "cell_type": "code",
   "execution_count": 9,
   "id": "584f9392",
   "metadata": {
    "execution": {
     "iopub.execute_input": "2023-03-18T18:59:36.770331Z",
     "iopub.status.busy": "2023-03-18T18:59:36.769927Z",
     "iopub.status.idle": "2023-03-18T18:59:37.138424Z",
     "shell.execute_reply": "2023-03-18T18:59:37.137023Z"
    },
    "papermill": {
     "duration": 0.380616,
     "end_time": "2023-03-18T18:59:37.141023",
     "exception": false,
     "start_time": "2023-03-18T18:59:36.760407",
     "status": "completed"
    },
    "tags": []
   },
   "outputs": [
    {
     "name": "stdout",
     "output_type": "stream",
     "text": [
      "RMSE: 0.9284\n"
     ]
    },
    {
     "data": {
      "text/plain": [
       "0.9283925377729576"
      ]
     },
     "execution_count": 9,
     "metadata": {},
     "output_type": "execute_result"
    }
   ],
   "source": [
    "predictions = svd_model.test(testset)\n",
    "\n",
    "accuracy.rmse(predictions)"
   ]
  },
  {
   "cell_type": "code",
   "execution_count": 10,
   "id": "d5b5d9b7",
   "metadata": {
    "execution": {
     "iopub.execute_input": "2023-03-18T18:59:37.158889Z",
     "iopub.status.busy": "2023-03-18T18:59:37.158460Z",
     "iopub.status.idle": "2023-03-18T18:59:37.166348Z",
     "shell.execute_reply": "2023-03-18T18:59:37.165187Z"
    },
    "papermill": {
     "duration": 0.019914,
     "end_time": "2023-03-18T18:59:37.169059",
     "exception": false,
     "start_time": "2023-03-18T18:59:37.149145",
     "status": "completed"
    },
    "tags": []
   },
   "outputs": [
    {
     "name": "stdout",
     "output_type": "stream",
     "text": [
      "user: 1.0        item: 541        r_ui = None   est = 4.16   {'was_impossible': False}\n"
     ]
    },
    {
     "data": {
      "text/plain": [
       "Prediction(uid=1.0, iid=541, r_ui=None, est=4.15552342123814, details={'was_impossible': False})"
      ]
     },
     "execution_count": 10,
     "metadata": {},
     "output_type": "execute_result"
    }
   ],
   "source": [
    "svd_model.predict(uid=1.0, iid=541, verbose=True)\n"
   ]
  },
  {
   "cell_type": "code",
   "execution_count": 11,
   "id": "21d5d156",
   "metadata": {
    "execution": {
     "iopub.execute_input": "2023-03-18T18:59:37.188015Z",
     "iopub.status.busy": "2023-03-18T18:59:37.187576Z",
     "iopub.status.idle": "2023-03-18T18:59:37.196805Z",
     "shell.execute_reply": "2023-03-18T18:59:37.195189Z"
    },
    "papermill": {
     "duration": 0.022357,
     "end_time": "2023-03-18T18:59:37.199619",
     "exception": false,
     "start_time": "2023-03-18T18:59:37.177262",
     "status": "completed"
    },
    "tags": []
   },
   "outputs": [
    {
     "name": "stdout",
     "output_type": "stream",
     "text": [
      "user: 1.0        item: 356        r_ui = None   est = 4.24   {'was_impossible': False}\n"
     ]
    },
    {
     "data": {
      "text/plain": [
       "Prediction(uid=1.0, iid=356, r_ui=None, est=4.240155848180895, details={'was_impossible': False})"
      ]
     },
     "execution_count": 11,
     "metadata": {},
     "output_type": "execute_result"
    }
   ],
   "source": [
    "svd_model.predict(uid=1.0, iid=356, verbose=True)\n"
   ]
  },
  {
   "cell_type": "code",
   "execution_count": 12,
   "id": "f6ad2a9c",
   "metadata": {
    "execution": {
     "iopub.execute_input": "2023-03-18T18:59:37.219733Z",
     "iopub.status.busy": "2023-03-18T18:59:37.218817Z",
     "iopub.status.idle": "2023-03-18T18:59:37.233375Z",
     "shell.execute_reply": "2023-03-18T18:59:37.232289Z"
    },
    "papermill": {
     "duration": 0.027602,
     "end_time": "2023-03-18T18:59:37.235907",
     "exception": false,
     "start_time": "2023-03-18T18:59:37.208305",
     "status": "completed"
    },
    "tags": []
   },
   "outputs": [
    {
     "data": {
      "text/html": [
       "<div>\n",
       "<style scoped>\n",
       "    .dataframe tbody tr th:only-of-type {\n",
       "        vertical-align: middle;\n",
       "    }\n",
       "\n",
       "    .dataframe tbody tr th {\n",
       "        vertical-align: top;\n",
       "    }\n",
       "\n",
       "    .dataframe thead th {\n",
       "        text-align: right;\n",
       "    }\n",
       "</style>\n",
       "<table border=\"1\" class=\"dataframe\">\n",
       "  <thead>\n",
       "    <tr style=\"text-align: right;\">\n",
       "      <th></th>\n",
       "      <th>movieId</th>\n",
       "      <th>title</th>\n",
       "      <th>genres</th>\n",
       "      <th>userId</th>\n",
       "      <th>rating</th>\n",
       "      <th>timestamp</th>\n",
       "    </tr>\n",
       "  </thead>\n",
       "  <tbody>\n",
       "    <tr>\n",
       "      <th>3612352</th>\n",
       "      <td>541</td>\n",
       "      <td>Blade Runner (1982)</td>\n",
       "      <td>Action|Sci-Fi|Thriller</td>\n",
       "      <td>1.0</td>\n",
       "      <td>4.0</td>\n",
       "      <td>2005-04-02 23:30:03</td>\n",
       "    </tr>\n",
       "  </tbody>\n",
       "</table>\n",
       "</div>"
      ],
      "text/plain": [
       "         movieId                title                  genres  userId  rating  \\\n",
       "3612352      541  Blade Runner (1982)  Action|Sci-Fi|Thriller     1.0     4.0   \n",
       "\n",
       "                   timestamp  \n",
       "3612352  2005-04-02 23:30:03  "
      ]
     },
     "execution_count": 12,
     "metadata": {},
     "output_type": "execute_result"
    }
   ],
   "source": [
    "sample_df[sample_df[\"userId\"] == 1]\n"
   ]
  },
  {
   "cell_type": "markdown",
   "id": "05522eb9",
   "metadata": {
    "papermill": {
     "duration": 0.008211,
     "end_time": "2023-03-18T18:59:37.253706",
     "exception": false,
     "start_time": "2023-03-18T18:59:37.245495",
     "status": "completed"
    },
    "tags": []
   },
   "source": [
    "<a id = \"3\"></a>\n",
    "<strong style=\"color:#2B3467;font-size:20px;font-family:Georgia;text-align:center;\">  Model Tuning </strong>\n"
   ]
  },
  {
   "cell_type": "code",
   "execution_count": 13,
   "id": "504b5804",
   "metadata": {
    "execution": {
     "iopub.execute_input": "2023-03-18T18:59:37.273921Z",
     "iopub.status.busy": "2023-03-18T18:59:37.273030Z",
     "iopub.status.idle": "2023-03-18T19:00:55.064906Z",
     "shell.execute_reply": "2023-03-18T19:00:55.061992Z"
    },
    "papermill": {
     "duration": 77.812628,
     "end_time": "2023-03-18T19:00:55.074809",
     "exception": false,
     "start_time": "2023-03-18T18:59:37.262181",
     "status": "completed"
    },
    "tags": []
   },
   "outputs": [
    {
     "name": "stderr",
     "output_type": "stream",
     "text": [
      "[Parallel(n_jobs=-1)]: Using backend LokyBackend with 4 concurrent workers.\n",
      "[Parallel(n_jobs=-1)]: Done  27 out of  27 | elapsed:  1.3min finished\n"
     ]
    }
   ],
   "source": [
    "param_grid = {'n_epochs': [5, 10, 20],\n",
    "              'lr_all': [0.002, 0.005, 0.007]}\n",
    "\n",
    "\n",
    "gs = GridSearchCV(SVD,\n",
    "                  param_grid,\n",
    "                  measures=['rmse', 'mae'],\n",
    "                  cv=3,\n",
    "                  n_jobs=-1,\n",
    "                  joblib_verbose=True)\n",
    "\n",
    "gs.fit(data)"
   ]
  },
  {
   "cell_type": "code",
   "execution_count": 14,
   "id": "0f962fdc",
   "metadata": {
    "execution": {
     "iopub.execute_input": "2023-03-18T19:00:55.095313Z",
     "iopub.status.busy": "2023-03-18T19:00:55.094222Z",
     "iopub.status.idle": "2023-03-18T19:00:55.101336Z",
     "shell.execute_reply": "2023-03-18T19:00:55.100361Z"
    },
    "papermill": {
     "duration": 0.020233,
     "end_time": "2023-03-18T19:00:55.103895",
     "exception": false,
     "start_time": "2023-03-18T19:00:55.083662",
     "status": "completed"
    },
    "tags": []
   },
   "outputs": [
    {
     "data": {
      "text/plain": [
       "0.9309653704043516"
      ]
     },
     "execution_count": 14,
     "metadata": {},
     "output_type": "execute_result"
    }
   ],
   "source": [
    "gs.best_score['rmse']\n"
   ]
  },
  {
   "cell_type": "code",
   "execution_count": 15,
   "id": "73426d18",
   "metadata": {
    "execution": {
     "iopub.execute_input": "2023-03-18T19:00:55.124665Z",
     "iopub.status.busy": "2023-03-18T19:00:55.123544Z",
     "iopub.status.idle": "2023-03-18T19:00:55.132259Z",
     "shell.execute_reply": "2023-03-18T19:00:55.131240Z"
    },
    "papermill": {
     "duration": 0.021897,
     "end_time": "2023-03-18T19:00:55.134619",
     "exception": false,
     "start_time": "2023-03-18T19:00:55.112722",
     "status": "completed"
    },
    "tags": []
   },
   "outputs": [
    {
     "data": {
      "text/plain": [
       "{'n_epochs': 5, 'lr_all': 0.002}"
      ]
     },
     "execution_count": 15,
     "metadata": {},
     "output_type": "execute_result"
    }
   ],
   "source": [
    "gs.best_params['rmse']\n"
   ]
  },
  {
   "cell_type": "markdown",
   "id": "0dbb12f6",
   "metadata": {
    "papermill": {
     "duration": 0.008649,
     "end_time": "2023-03-18T19:00:55.152175",
     "exception": false,
     "start_time": "2023-03-18T19:00:55.143526",
     "status": "completed"
    },
    "tags": []
   },
   "source": [
    "<a id = \"4\"></a>\n",
    "<strong style=\"color:#2B3467;font-size:20px;font-family:Georgia;text-align:center;\"> Final Model & Prediction </strong>\n"
   ]
  },
  {
   "cell_type": "code",
   "execution_count": 16,
   "id": "7a604c3b",
   "metadata": {
    "execution": {
     "iopub.execute_input": "2023-03-18T19:00:55.172625Z",
     "iopub.status.busy": "2023-03-18T19:00:55.171573Z",
     "iopub.status.idle": "2023-03-18T19:00:55.179386Z",
     "shell.execute_reply": "2023-03-18T19:00:55.178131Z"
    },
    "papermill": {
     "duration": 0.020995,
     "end_time": "2023-03-18T19:00:55.181981",
     "exception": false,
     "start_time": "2023-03-18T19:00:55.160986",
     "status": "completed"
    },
    "tags": []
   },
   "outputs": [
    {
     "data": {
      "text/plain": [
       "20"
      ]
     },
     "execution_count": 16,
     "metadata": {},
     "output_type": "execute_result"
    }
   ],
   "source": [
    "svd_model.n_epochs"
   ]
  },
  {
   "cell_type": "code",
   "execution_count": 17,
   "id": "80f58976",
   "metadata": {
    "execution": {
     "iopub.execute_input": "2023-03-18T19:00:55.201826Z",
     "iopub.status.busy": "2023-03-18T19:00:55.201265Z",
     "iopub.status.idle": "2023-03-18T19:00:57.430032Z",
     "shell.execute_reply": "2023-03-18T19:00:57.428831Z"
    },
    "papermill": {
     "duration": 2.241834,
     "end_time": "2023-03-18T19:00:57.432714",
     "exception": false,
     "start_time": "2023-03-18T19:00:55.190880",
     "status": "completed"
    },
    "tags": []
   },
   "outputs": [
    {
     "data": {
      "text/plain": [
       "<surprise.prediction_algorithms.matrix_factorization.SVD at 0x7fcb420ce6d0>"
      ]
     },
     "execution_count": 17,
     "metadata": {},
     "output_type": "execute_result"
    }
   ],
   "source": [
    "svd_model = SVD(**gs.best_params['rmse'])\n",
    "\n",
    "data = data.build_full_trainset()\n",
    "svd_model.fit(data)\n",
    "\n"
   ]
  },
  {
   "cell_type": "code",
   "execution_count": 18,
   "id": "0a9532fd",
   "metadata": {
    "execution": {
     "iopub.execute_input": "2023-03-18T19:00:57.452863Z",
     "iopub.status.busy": "2023-03-18T19:00:57.452421Z",
     "iopub.status.idle": "2023-03-18T19:00:57.461912Z",
     "shell.execute_reply": "2023-03-18T19:00:57.460027Z"
    },
    "papermill": {
     "duration": 0.023476,
     "end_time": "2023-03-18T19:00:57.465153",
     "exception": false,
     "start_time": "2023-03-18T19:00:57.441677",
     "status": "completed"
    },
    "tags": []
   },
   "outputs": [
    {
     "name": "stdout",
     "output_type": "stream",
     "text": [
      "user: 1.0        item: 541        r_ui = None   est = 4.18   {'was_impossible': False}\n"
     ]
    },
    {
     "data": {
      "text/plain": [
       "Prediction(uid=1.0, iid=541, r_ui=None, est=4.184890977590978, details={'was_impossible': False})"
      ]
     },
     "execution_count": 18,
     "metadata": {},
     "output_type": "execute_result"
    }
   ],
   "source": [
    "svd_model.predict(uid=1.0, iid=541, verbose=True)\n"
   ]
  },
  {
   "cell_type": "markdown",
   "id": "a578a5fa",
   "metadata": {
    "papermill": {
     "duration": 0.008757,
     "end_time": "2023-03-18T19:00:57.483108",
     "exception": false,
     "start_time": "2023-03-18T19:00:57.474351",
     "status": "completed"
    },
    "tags": []
   },
   "source": [
    "<p style=\"padding:15px;\n",
    "background-color:#f4ebdc;\n",
    "margin:0; color:#B3005E; border:2px dotted #C689C6; font-family:Charter; font-weight: bold; font-size:250%; text-align:center; overflow:hidden; font-weight:500\">If you like this then please UPVOTE this 😄 Your opinions and suggestions are very important to me...<img src=\"https://media.giphy.com/media/WUlplcMpOCEmTGBtBW/giphy.gif\" width=\"100\"> <div style=\"float:center;margin-left:270px;max-width:50%;\">"
   ]
  },
  {
   "cell_type": "markdown",
   "id": "58f8fecd",
   "metadata": {
    "papermill": {
     "duration": 0.008716,
     "end_time": "2023-03-18T19:00:57.500934",
     "exception": false,
     "start_time": "2023-03-18T19:00:57.492218",
     "status": "completed"
    },
    "tags": []
   },
   "source": [
    "<p style=\"padding:15px;\n",
    "background-color:#f4ebdc;\n",
    "margin:0; color:#B3005E; border:2px dotted #C689C6; font-family:Charter; font-weight: bold; font-size:250%; text-align:center; overflow:hidden; font-weight:500\">\n",
    "FOR MORE:</p> \n",
    "\n",
    "https://www.linkedin.com/in/serdar-ozturk/\n",
    "\n",
    "https://github.com/StanleyHopson\n",
    "\n",
    "https://medium.com/@serdar.f95\n",
    "\n",
    "<p style=\"padding:15px;\n",
    "background-color:#f4ebdc;\n",
    "margin:0; color:#B3005E; border:2px dotted #C689C6; font-family:Charter; font-weight: bold; font-size:250%; text-align:center; overflow:hidden; font-weight:500\">CREDITS:</p> \n",
    "\n",
    "[https://numpy.org/](http://)\n",
    "\n",
    "[https://seaborn.pydata.org/](http://)\n",
    "\n",
    "[https://pandas.pydata.org](http://)\n",
    "\n",
    "[https://pandas.pydata.org/](http://)\n",
    "\n",
    "[https://learning.miuul.com](http://)"
   ]
  }
 ],
 "metadata": {
  "kernelspec": {
   "display_name": "Python 3",
   "language": "python",
   "name": "python3"
  },
  "language_info": {
   "codemirror_mode": {
    "name": "ipython",
    "version": 3
   },
   "file_extension": ".py",
   "mimetype": "text/x-python",
   "name": "python",
   "nbconvert_exporter": "python",
   "pygments_lexer": "ipython3",
   "version": "3.7.12"
  },
  "papermill": {
   "default_parameters": {},
   "duration": 190.402062,
   "end_time": "2023-03-18T19:01:00.333560",
   "environment_variables": {},
   "exception": null,
   "input_path": "__notebook__.ipynb",
   "output_path": "__notebook__.ipynb",
   "parameters": {},
   "start_time": "2023-03-18T18:57:49.931498",
   "version": "2.4.0"
  }
 },
 "nbformat": 4,
 "nbformat_minor": 5
}
