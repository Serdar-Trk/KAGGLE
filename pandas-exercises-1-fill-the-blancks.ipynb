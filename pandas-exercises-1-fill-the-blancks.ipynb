{
 "cells": [
  {
   "cell_type": "markdown",
   "id": "0611f6ec",
   "metadata": {
    "papermill": {
     "duration": 0.023707,
     "end_time": "2023-03-12T14:07:55.462498",
     "exception": false,
     "start_time": "2023-03-12T14:07:55.438791",
     "status": "completed"
    },
    "tags": []
   },
   "source": [
    "PANDAS EXERCISES-1\n",
    "\n",
    "\n",
    "Since pandas is a large library with many different specialist features and functions, these excercises focus mainly on the fundamentals of manipulating data (indexing, grouping, aggregating, cleaning), making use of the core DataFrame and Series objects. \n",
    "\n",
    "Many of the excerises here are stright-forward in that the solutions require no more than a few lines of code (in pandas or NumPy... don't go using pure Python or Cython!). Choosing the right methods and following best practices is the underlying goal.\n",
    "\n",
    "The exercises are loosely divided in sections. Each section has a difficulty rating; these ratings are subjective, of course, but should be a seen as a rough guide as to how inventive the required solution is.\n",
    "\n",
    "If you're just starting out with pandas and you are looking for some other resources, the official documentation  is very extensive. In particular, some good places get a broader overview of pandas are...\n",
    "\n",
    "Enjoy the exercises!\n",
    "\n",
    "- [10 minutes to pandas](http://pandas.pydata.org/pandas-docs/stable/10min.html)\n",
    "- [pandas basics](http://pandas.pydata.org/pandas-docs/stable/basics.html)\n",
    "- [tutorials](http://pandas.pydata.org/pandas-docs/stable/tutorials.html)\n",
    "- [cookbook and idioms](http://pandas.pydata.org/pandas-docs/stable/cookbook.html#cookbook)\n",
    "\n",
    "\\* *the list of exercises is not yet complete! Pull requests or suggestions for additional exercises, corrections and improvements are welcomed.*"
   ]
  },
  {
   "cell_type": "markdown",
   "id": "3e1c66d5",
   "metadata": {
    "papermill": {
     "duration": 0.021797,
     "end_time": "2023-03-12T14:07:55.509144",
     "exception": false,
     "start_time": "2023-03-12T14:07:55.487347",
     "status": "completed"
    },
    "tags": []
   },
   "source": [
    "## Importing pandas\n",
    "\n",
    "### Getting started and checking your pandas setup\n",
    "\n",
    "Difficulty: *easy* \n",
    "\n",
    "**1.** Import pandas under the alias `pd`."
   ]
  },
  {
   "cell_type": "code",
   "execution_count": null,
   "id": "968231be",
   "metadata": {
    "collapsed": true,
    "jupyter": {
     "outputs_hidden": true
    },
    "papermill": {
     "duration": 0.021848,
     "end_time": "2023-03-12T14:07:55.553207",
     "exception": false,
     "start_time": "2023-03-12T14:07:55.531359",
     "status": "completed"
    },
    "tags": []
   },
   "outputs": [],
   "source": []
  },
  {
   "cell_type": "markdown",
   "id": "9de788d2",
   "metadata": {
    "papermill": {
     "duration": 0.021821,
     "end_time": "2023-03-12T14:07:55.597114",
     "exception": false,
     "start_time": "2023-03-12T14:07:55.575293",
     "status": "completed"
    },
    "tags": []
   },
   "source": [
    "**2.** Print the version of pandas that has been imported."
   ]
  },
  {
   "cell_type": "code",
   "execution_count": null,
   "id": "718e400a",
   "metadata": {
    "collapsed": true,
    "jupyter": {
     "outputs_hidden": true
    },
    "papermill": {
     "duration": 0.021531,
     "end_time": "2023-03-12T14:07:55.640513",
     "exception": false,
     "start_time": "2023-03-12T14:07:55.618982",
     "status": "completed"
    },
    "tags": []
   },
   "outputs": [],
   "source": []
  },
  {
   "cell_type": "markdown",
   "id": "958bc9de",
   "metadata": {
    "papermill": {
     "duration": 0.021789,
     "end_time": "2023-03-12T14:07:55.684560",
     "exception": false,
     "start_time": "2023-03-12T14:07:55.662771",
     "status": "completed"
    },
    "tags": []
   },
   "source": [
    "**3.** Print out all the *version* information of the libraries that are required by the pandas library."
   ]
  },
  {
   "cell_type": "code",
   "execution_count": null,
   "id": "86ee5461",
   "metadata": {
    "collapsed": true,
    "jupyter": {
     "outputs_hidden": true
    },
    "papermill": {
     "duration": 0.021919,
     "end_time": "2023-03-12T14:07:55.728774",
     "exception": false,
     "start_time": "2023-03-12T14:07:55.706855",
     "status": "completed"
    },
    "tags": []
   },
   "outputs": [],
   "source": []
  },
  {
   "cell_type": "markdown",
   "id": "c16bba2d",
   "metadata": {
    "papermill": {
     "duration": 0.022984,
     "end_time": "2023-03-12T14:07:55.774275",
     "exception": false,
     "start_time": "2023-03-12T14:07:55.751291",
     "status": "completed"
    },
    "tags": []
   },
   "source": [
    "## DataFrame basics\n",
    "\n",
    "### A few of the fundamental routines for selecting, sorting, adding and aggregating data in DataFrames\n",
    "\n",
    "Difficulty: *easy*\n",
    "\n",
    "Note: remember to import numpy using:\n",
    "```python\n",
    "import numpy as np\n",
    "```\n",
    "\n",
    "Consider the following Python dictionary `data` and Python list `labels`:\n",
    "\n",
    "``` python\n",
    "data = {'animal': ['cat', 'cat', 'snake', 'dog', 'dog', 'cat', 'snake', 'cat', 'dog', 'dog'],\n",
    "        'age': [2.5, 3, 0.5, np.nan, 5, 2, 4.5, np.nan, 7, 3],\n",
    "        'visits': [1, 3, 2, 3, 2, 3, 1, 1, 2, 1],\n",
    "        'priority': ['yes', 'yes', 'no', 'yes', 'no', 'no', 'no', 'yes', 'no', 'no']}\n",
    "\n",
    "labels = ['a', 'b', 'c', 'd', 'e', 'f', 'g', 'h', 'i', 'j']\n",
    "```\n",
    "(This is just some meaningless data I made up with the theme of animals and trips to a vet.)\n",
    "\n",
    "**4.** Create a DataFrame `df` from this dictionary `data` which has the index `labels`."
   ]
  },
  {
   "cell_type": "code",
   "execution_count": 1,
   "id": "fe55fd21",
   "metadata": {
    "execution": {
     "iopub.execute_input": "2023-03-12T14:07:55.821072Z",
     "iopub.status.busy": "2023-03-12T14:07:55.820206Z",
     "iopub.status.idle": "2023-03-12T14:07:55.832679Z",
     "shell.execute_reply": "2023-03-12T14:07:55.831769Z"
    },
    "papermill": {
     "duration": 0.039262,
     "end_time": "2023-03-12T14:07:55.835749",
     "exception": false,
     "start_time": "2023-03-12T14:07:55.796487",
     "status": "completed"
    },
    "tags": []
   },
   "outputs": [],
   "source": [
    "import numpy as np\n",
    "\n",
    "data = {'animal': ['cat', 'cat', 'snake', 'dog', 'dog', 'cat', 'snake', 'cat', 'dog', 'dog'],\n",
    "        'age': [2.5, 3, 0.5, np.nan, 5, 2, 4.5, np.nan, 7, 3],\n",
    "        'visits': [1, 3, 2, 3, 2, 3, 1, 1, 2, 1],\n",
    "        'priority': ['yes', 'yes', 'no', 'yes', 'no', 'no', 'no', 'yes', 'no', 'no']}\n",
    "\n",
    "labels = ['a', 'b', 'c', 'd', 'e', 'f', 'g', 'h', 'i', 'j']\n",
    "\n",
    "# df =  (complete this line of code)"
   ]
  },
  {
   "cell_type": "markdown",
   "id": "8dd5062a",
   "metadata": {
    "papermill": {
     "duration": 0.022004,
     "end_time": "2023-03-12T14:07:55.880531",
     "exception": false,
     "start_time": "2023-03-12T14:07:55.858527",
     "status": "completed"
    },
    "tags": []
   },
   "source": [
    "**5.** Display a summary of the basic information about this DataFrame and its data (*hint: there is a single method that can be called on the DataFrame*)."
   ]
  },
  {
   "cell_type": "code",
   "execution_count": null,
   "id": "dd2bfce1",
   "metadata": {
    "collapsed": true,
    "jupyter": {
     "outputs_hidden": true
    },
    "papermill": {
     "duration": 0.021769,
     "end_time": "2023-03-12T14:07:55.924622",
     "exception": false,
     "start_time": "2023-03-12T14:07:55.902853",
     "status": "completed"
    },
    "tags": []
   },
   "outputs": [],
   "source": []
  },
  {
   "cell_type": "markdown",
   "id": "ec0de99b",
   "metadata": {
    "papermill": {
     "duration": 0.022294,
     "end_time": "2023-03-12T14:07:55.970199",
     "exception": false,
     "start_time": "2023-03-12T14:07:55.947905",
     "status": "completed"
    },
    "tags": []
   },
   "source": [
    "**6.** Return the first 3 rows of the DataFrame `df`."
   ]
  },
  {
   "cell_type": "code",
   "execution_count": null,
   "id": "deadc258",
   "metadata": {
    "collapsed": true,
    "jupyter": {
     "outputs_hidden": true
    },
    "papermill": {
     "duration": 0.021747,
     "end_time": "2023-03-12T14:07:56.015331",
     "exception": false,
     "start_time": "2023-03-12T14:07:55.993584",
     "status": "completed"
    },
    "tags": []
   },
   "outputs": [],
   "source": []
  },
  {
   "cell_type": "markdown",
   "id": "f7b0ee88",
   "metadata": {
    "papermill": {
     "duration": 0.021952,
     "end_time": "2023-03-12T14:07:56.059214",
     "exception": false,
     "start_time": "2023-03-12T14:07:56.037262",
     "status": "completed"
    },
    "tags": []
   },
   "source": [
    "**7.** Select just the 'animal' and 'age' columns from the DataFrame `df`."
   ]
  },
  {
   "cell_type": "code",
   "execution_count": null,
   "id": "0fc747fc",
   "metadata": {
    "collapsed": true,
    "jupyter": {
     "outputs_hidden": true
    },
    "papermill": {
     "duration": 0.021758,
     "end_time": "2023-03-12T14:07:56.102976",
     "exception": false,
     "start_time": "2023-03-12T14:07:56.081218",
     "status": "completed"
    },
    "tags": []
   },
   "outputs": [],
   "source": []
  },
  {
   "cell_type": "markdown",
   "id": "d8797b9f",
   "metadata": {
    "papermill": {
     "duration": 0.021761,
     "end_time": "2023-03-12T14:07:56.146923",
     "exception": false,
     "start_time": "2023-03-12T14:07:56.125162",
     "status": "completed"
    },
    "tags": []
   },
   "source": [
    "**8.** Select the data in rows `[3, 4, 8]` *and* in columns `['animal', 'age']`."
   ]
  },
  {
   "cell_type": "code",
   "execution_count": null,
   "id": "228984d1",
   "metadata": {
    "collapsed": true,
    "jupyter": {
     "outputs_hidden": true
    },
    "papermill": {
     "duration": 0.022594,
     "end_time": "2023-03-12T14:07:56.193617",
     "exception": false,
     "start_time": "2023-03-12T14:07:56.171023",
     "status": "completed"
    },
    "tags": []
   },
   "outputs": [],
   "source": []
  },
  {
   "cell_type": "markdown",
   "id": "6eafc2e9",
   "metadata": {
    "papermill": {
     "duration": 0.021704,
     "end_time": "2023-03-12T14:07:56.237520",
     "exception": false,
     "start_time": "2023-03-12T14:07:56.215816",
     "status": "completed"
    },
    "tags": []
   },
   "source": [
    "**9.** Select only the rows where the number of visits is greater than 3."
   ]
  },
  {
   "cell_type": "code",
   "execution_count": null,
   "id": "b971ab74",
   "metadata": {
    "collapsed": true,
    "jupyter": {
     "outputs_hidden": true
    },
    "papermill": {
     "duration": 0.021851,
     "end_time": "2023-03-12T14:07:56.281411",
     "exception": false,
     "start_time": "2023-03-12T14:07:56.259560",
     "status": "completed"
    },
    "tags": []
   },
   "outputs": [],
   "source": []
  },
  {
   "cell_type": "markdown",
   "id": "05ca7793",
   "metadata": {
    "papermill": {
     "duration": 0.021761,
     "end_time": "2023-03-12T14:07:56.325166",
     "exception": false,
     "start_time": "2023-03-12T14:07:56.303405",
     "status": "completed"
    },
    "tags": []
   },
   "source": [
    "**10.** Select the rows where the age is missing, i.e. it is `NaN`."
   ]
  },
  {
   "cell_type": "code",
   "execution_count": null,
   "id": "e821e42b",
   "metadata": {
    "collapsed": true,
    "jupyter": {
     "outputs_hidden": true
    },
    "papermill": {
     "duration": 0.021634,
     "end_time": "2023-03-12T14:07:56.368923",
     "exception": false,
     "start_time": "2023-03-12T14:07:56.347289",
     "status": "completed"
    },
    "tags": []
   },
   "outputs": [],
   "source": []
  },
  {
   "cell_type": "markdown",
   "id": "6c1456c6",
   "metadata": {
    "papermill": {
     "duration": 0.021832,
     "end_time": "2023-03-12T14:07:56.412887",
     "exception": false,
     "start_time": "2023-03-12T14:07:56.391055",
     "status": "completed"
    },
    "tags": []
   },
   "source": [
    "**11.** Select the rows where the animal is a cat *and* the age is less than 3."
   ]
  },
  {
   "cell_type": "code",
   "execution_count": null,
   "id": "38da706f",
   "metadata": {
    "collapsed": true,
    "jupyter": {
     "outputs_hidden": true
    },
    "papermill": {
     "duration": 0.021858,
     "end_time": "2023-03-12T14:07:56.456662",
     "exception": false,
     "start_time": "2023-03-12T14:07:56.434804",
     "status": "completed"
    },
    "tags": []
   },
   "outputs": [],
   "source": []
  },
  {
   "cell_type": "markdown",
   "id": "4b7164e2",
   "metadata": {
    "papermill": {
     "duration": 0.021767,
     "end_time": "2023-03-12T14:07:56.500702",
     "exception": false,
     "start_time": "2023-03-12T14:07:56.478935",
     "status": "completed"
    },
    "tags": []
   },
   "source": [
    "**12.** Select the rows the age is between 2 and 4 (inclusive)."
   ]
  },
  {
   "cell_type": "code",
   "execution_count": null,
   "id": "4b9ccb52",
   "metadata": {
    "collapsed": true,
    "jupyter": {
     "outputs_hidden": true
    },
    "papermill": {
     "duration": 0.021746,
     "end_time": "2023-03-12T14:07:56.544481",
     "exception": false,
     "start_time": "2023-03-12T14:07:56.522735",
     "status": "completed"
    },
    "tags": []
   },
   "outputs": [],
   "source": []
  },
  {
   "cell_type": "markdown",
   "id": "c96b981a",
   "metadata": {
    "papermill": {
     "duration": 0.021667,
     "end_time": "2023-03-12T14:07:56.588085",
     "exception": false,
     "start_time": "2023-03-12T14:07:56.566418",
     "status": "completed"
    },
    "tags": []
   },
   "source": [
    "**13.** Change the age in row 'f' to 1.5."
   ]
  },
  {
   "cell_type": "code",
   "execution_count": null,
   "id": "47a2ee6a",
   "metadata": {
    "collapsed": true,
    "jupyter": {
     "outputs_hidden": true
    },
    "papermill": {
     "duration": 0.021908,
     "end_time": "2023-03-12T14:07:56.632239",
     "exception": false,
     "start_time": "2023-03-12T14:07:56.610331",
     "status": "completed"
    },
    "tags": []
   },
   "outputs": [],
   "source": []
  },
  {
   "cell_type": "markdown",
   "id": "1b64e783",
   "metadata": {
    "papermill": {
     "duration": 0.02205,
     "end_time": "2023-03-12T14:07:56.676382",
     "exception": false,
     "start_time": "2023-03-12T14:07:56.654332",
     "status": "completed"
    },
    "tags": []
   },
   "source": [
    "**14.** Calculate the sum of all visits in `df` (i.e. find the total number of visits)."
   ]
  },
  {
   "cell_type": "code",
   "execution_count": null,
   "id": "4a29f9d3",
   "metadata": {
    "collapsed": true,
    "jupyter": {
     "outputs_hidden": true
    },
    "papermill": {
     "duration": 0.021812,
     "end_time": "2023-03-12T14:07:56.720536",
     "exception": false,
     "start_time": "2023-03-12T14:07:56.698724",
     "status": "completed"
    },
    "tags": []
   },
   "outputs": [],
   "source": []
  },
  {
   "cell_type": "markdown",
   "id": "2ce899b7",
   "metadata": {
    "papermill": {
     "duration": 0.021884,
     "end_time": "2023-03-12T14:07:56.764607",
     "exception": false,
     "start_time": "2023-03-12T14:07:56.742723",
     "status": "completed"
    },
    "tags": []
   },
   "source": [
    "**15.** Calculate the mean age for each different animal in `df`."
   ]
  },
  {
   "cell_type": "code",
   "execution_count": null,
   "id": "dced91d0",
   "metadata": {
    "collapsed": true,
    "jupyter": {
     "outputs_hidden": true
    },
    "papermill": {
     "duration": 0.022385,
     "end_time": "2023-03-12T14:07:56.809970",
     "exception": false,
     "start_time": "2023-03-12T14:07:56.787585",
     "status": "completed"
    },
    "tags": []
   },
   "outputs": [],
   "source": []
  },
  {
   "cell_type": "markdown",
   "id": "997978b7",
   "metadata": {
    "papermill": {
     "duration": 0.021781,
     "end_time": "2023-03-12T14:07:56.854046",
     "exception": false,
     "start_time": "2023-03-12T14:07:56.832265",
     "status": "completed"
    },
    "tags": []
   },
   "source": [
    "**16.** Append a new row 'k' to `df` with your choice of values for each column. Then delete that row to return the original DataFrame."
   ]
  },
  {
   "cell_type": "code",
   "execution_count": null,
   "id": "7032ea83",
   "metadata": {
    "collapsed": true,
    "jupyter": {
     "outputs_hidden": true
    },
    "papermill": {
     "duration": 0.021834,
     "end_time": "2023-03-12T14:07:56.898090",
     "exception": false,
     "start_time": "2023-03-12T14:07:56.876256",
     "status": "completed"
    },
    "tags": []
   },
   "outputs": [],
   "source": []
  },
  {
   "cell_type": "markdown",
   "id": "30a14fa3",
   "metadata": {
    "papermill": {
     "duration": 0.021924,
     "end_time": "2023-03-12T14:07:56.942896",
     "exception": false,
     "start_time": "2023-03-12T14:07:56.920972",
     "status": "completed"
    },
    "tags": []
   },
   "source": [
    "**17.** Count the number of each type of animal in `df`."
   ]
  },
  {
   "cell_type": "code",
   "execution_count": null,
   "id": "fa0f5918",
   "metadata": {
    "collapsed": true,
    "jupyter": {
     "outputs_hidden": true
    },
    "papermill": {
     "duration": 0.022884,
     "end_time": "2023-03-12T14:07:56.989016",
     "exception": false,
     "start_time": "2023-03-12T14:07:56.966132",
     "status": "completed"
    },
    "tags": []
   },
   "outputs": [],
   "source": []
  },
  {
   "cell_type": "markdown",
   "id": "5df636cd",
   "metadata": {
    "papermill": {
     "duration": 0.022039,
     "end_time": "2023-03-12T14:07:57.034760",
     "exception": false,
     "start_time": "2023-03-12T14:07:57.012721",
     "status": "completed"
    },
    "tags": []
   },
   "source": [
    "**18.** Sort `df` first by the values in the 'age' in *decending* order, then by the value in the 'visits' column in *ascending* order (so row `i` should be first, and row `d` should be last)."
   ]
  },
  {
   "cell_type": "code",
   "execution_count": null,
   "id": "9230255e",
   "metadata": {
    "collapsed": true,
    "jupyter": {
     "outputs_hidden": true
    },
    "papermill": {
     "duration": 0.022376,
     "end_time": "2023-03-12T14:07:57.079331",
     "exception": false,
     "start_time": "2023-03-12T14:07:57.056955",
     "status": "completed"
    },
    "tags": []
   },
   "outputs": [],
   "source": []
  },
  {
   "cell_type": "markdown",
   "id": "4ac6dc57",
   "metadata": {
    "papermill": {
     "duration": 0.021773,
     "end_time": "2023-03-12T14:07:57.123675",
     "exception": false,
     "start_time": "2023-03-12T14:07:57.101902",
     "status": "completed"
    },
    "tags": []
   },
   "source": [
    "**19.** The 'priority' column contains the values 'yes' and 'no'. Replace this column with a column of boolean values: 'yes' should be `True` and 'no' should be `False`."
   ]
  },
  {
   "cell_type": "code",
   "execution_count": null,
   "id": "92a62e1d",
   "metadata": {
    "collapsed": true,
    "jupyter": {
     "outputs_hidden": true
    },
    "papermill": {
     "duration": 0.021859,
     "end_time": "2023-03-12T14:07:57.167915",
     "exception": false,
     "start_time": "2023-03-12T14:07:57.146056",
     "status": "completed"
    },
    "tags": []
   },
   "outputs": [],
   "source": []
  },
  {
   "cell_type": "markdown",
   "id": "8846cf2b",
   "metadata": {
    "papermill": {
     "duration": 0.023117,
     "end_time": "2023-03-12T14:07:57.214334",
     "exception": false,
     "start_time": "2023-03-12T14:07:57.191217",
     "status": "completed"
    },
    "tags": []
   },
   "source": [
    "**20.** In the 'animal' column, change the 'snake' entries to 'python'."
   ]
  },
  {
   "cell_type": "code",
   "execution_count": null,
   "id": "702fef3a",
   "metadata": {
    "collapsed": true,
    "jupyter": {
     "outputs_hidden": true
    },
    "papermill": {
     "duration": 0.021891,
     "end_time": "2023-03-12T14:07:57.258782",
     "exception": false,
     "start_time": "2023-03-12T14:07:57.236891",
     "status": "completed"
    },
    "tags": []
   },
   "outputs": [],
   "source": []
  },
  {
   "cell_type": "markdown",
   "id": "ea661803",
   "metadata": {
    "papermill": {
     "duration": 0.021953,
     "end_time": "2023-03-12T14:07:57.303365",
     "exception": false,
     "start_time": "2023-03-12T14:07:57.281412",
     "status": "completed"
    },
    "tags": []
   },
   "source": [
    "**21.** For each animal type and each number of visits, find the mean age. In other words, each row is an animal, each column is a number of visits and the values are the mean ages (*hint: use a pivot table*)."
   ]
  },
  {
   "cell_type": "code",
   "execution_count": null,
   "id": "6bdbfbae",
   "metadata": {
    "collapsed": true,
    "jupyter": {
     "outputs_hidden": true
    },
    "papermill": {
     "duration": 0.021854,
     "end_time": "2023-03-12T14:07:57.347998",
     "exception": false,
     "start_time": "2023-03-12T14:07:57.326144",
     "status": "completed"
    },
    "tags": []
   },
   "outputs": [],
   "source": []
  },
  {
   "cell_type": "markdown",
   "id": "f03df412",
   "metadata": {
    "papermill": {
     "duration": 0.022035,
     "end_time": "2023-03-12T14:07:57.392123",
     "exception": false,
     "start_time": "2023-03-12T14:07:57.370088",
     "status": "completed"
    },
    "tags": []
   },
   "source": [
    "## DataFrames: beyond the basics\n",
    "\n",
    "### Slightly trickier: you may need to combine two or more methods to get the right answer\n",
    "\n",
    "Difficulty: *medium*\n",
    "\n",
    "The previous section was tour through some basic but essential DataFrame operations. Below are some ways that you might need to cut your data, but for which there is no single \"out of the box\" method."
   ]
  },
  {
   "cell_type": "markdown",
   "id": "cb1abc07",
   "metadata": {
    "papermill": {
     "duration": 0.021719,
     "end_time": "2023-03-12T14:07:57.435975",
     "exception": false,
     "start_time": "2023-03-12T14:07:57.414256",
     "status": "completed"
    },
    "tags": []
   },
   "source": [
    "**22.** You have a DataFrame `df` with a column 'A' of integers. For example:\n",
    "```python\n",
    "df = pd.DataFrame({'A': [1, 2, 2, 3, 4, 5, 5, 5, 6, 7, 7]})\n",
    "```\n",
    "\n",
    "How do you filter out rows which contain the same integer as the row immediately above?\n",
    "\n",
    "You should be left with a column containing the following values:\n",
    "\n",
    "```python\n",
    "1, 2, 3, 4, 5, 6, 7\n",
    "```"
   ]
  },
  {
   "cell_type": "code",
   "execution_count": null,
   "id": "1debc0e6",
   "metadata": {
    "papermill": {
     "duration": 0.02164,
     "end_time": "2023-03-12T14:07:57.479807",
     "exception": false,
     "start_time": "2023-03-12T14:07:57.458167",
     "status": "completed"
    },
    "tags": []
   },
   "outputs": [],
   "source": []
  },
  {
   "cell_type": "markdown",
   "id": "6149b22d",
   "metadata": {
    "papermill": {
     "duration": 0.021765,
     "end_time": "2023-03-12T14:07:57.523650",
     "exception": false,
     "start_time": "2023-03-12T14:07:57.501885",
     "status": "completed"
    },
    "tags": []
   },
   "source": [
    "**23.** Given a DataFrame of numeric values, say\n",
    "```python\n",
    "df = pd.DataFrame(np.random.random(size=(5, 3))) # a 5x3 frame of float values\n",
    "```\n",
    "\n",
    "how do you subtract the row mean from each element in the row?"
   ]
  },
  {
   "cell_type": "code",
   "execution_count": null,
   "id": "11cad9a7",
   "metadata": {
    "collapsed": true,
    "jupyter": {
     "outputs_hidden": true
    },
    "papermill": {
     "duration": 0.021651,
     "end_time": "2023-03-12T14:07:57.567327",
     "exception": false,
     "start_time": "2023-03-12T14:07:57.545676",
     "status": "completed"
    },
    "tags": []
   },
   "outputs": [],
   "source": []
  },
  {
   "cell_type": "markdown",
   "id": "926074fb",
   "metadata": {
    "papermill": {
     "duration": 0.021829,
     "end_time": "2023-03-12T14:07:57.611244",
     "exception": false,
     "start_time": "2023-03-12T14:07:57.589415",
     "status": "completed"
    },
    "tags": []
   },
   "source": [
    "**24.** Suppose you have DataFrame with 10 columns of real numbers, for example:\n",
    "\n",
    "```python\n",
    "df = pd.DataFrame(np.random.random(size=(5, 10)), columns=list('abcdefghij'))\n",
    "```\n",
    "Which column of numbers has the smallest sum?  Return that column's label."
   ]
  },
  {
   "cell_type": "code",
   "execution_count": null,
   "id": "f827cb3d",
   "metadata": {
    "collapsed": true,
    "jupyter": {
     "outputs_hidden": true
    },
    "papermill": {
     "duration": 0.022809,
     "end_time": "2023-03-12T14:07:57.656584",
     "exception": false,
     "start_time": "2023-03-12T14:07:57.633775",
     "status": "completed"
    },
    "tags": []
   },
   "outputs": [],
   "source": []
  },
  {
   "cell_type": "markdown",
   "id": "cb64690b",
   "metadata": {
    "papermill": {
     "duration": 0.021886,
     "end_time": "2023-03-12T14:07:57.701379",
     "exception": false,
     "start_time": "2023-03-12T14:07:57.679493",
     "status": "completed"
    },
    "tags": []
   },
   "source": [
    "**25.** How do you count how many unique rows a DataFrame has (i.e. ignore all rows that are duplicates)? As input, use a DataFrame of zeros and ones with 10 rows and 3 columns.\n",
    "\n",
    "```python\n",
    "df = pd.DataFrame(np.random.randint(0, 2, size=(10, 3)))\n",
    "```"
   ]
  },
  {
   "cell_type": "code",
   "execution_count": null,
   "id": "4b730f4e",
   "metadata": {
    "collapsed": true,
    "jupyter": {
     "outputs_hidden": true
    },
    "papermill": {
     "duration": 0.022546,
     "end_time": "2023-03-12T14:07:57.746213",
     "exception": false,
     "start_time": "2023-03-12T14:07:57.723667",
     "status": "completed"
    },
    "tags": []
   },
   "outputs": [],
   "source": []
  },
  {
   "cell_type": "markdown",
   "id": "6aff24e7",
   "metadata": {
    "papermill": {
     "duration": 0.022214,
     "end_time": "2023-03-12T14:07:57.792595",
     "exception": false,
     "start_time": "2023-03-12T14:07:57.770381",
     "status": "completed"
    },
    "tags": []
   },
   "source": [
    "The next three puzzles are slightly harder.\n",
    "\n",
    "\n",
    "**26.** In the cell below, you have a DataFrame `df` that consists of 10 columns of floating-point numbers. Exactly 5 entries in each row are NaN values. \n",
    "\n",
    "For each row of the DataFrame, find the *column* which contains the *third* NaN value.\n",
    "\n",
    "You should return a Series of column labels: `e, c, d, h, d`"
   ]
  },
  {
   "cell_type": "code",
   "execution_count": 2,
   "id": "335a85ca",
   "metadata": {
    "execution": {
     "iopub.execute_input": "2023-03-12T14:07:57.840139Z",
     "iopub.status.busy": "2023-03-12T14:07:57.839723Z",
     "iopub.status.idle": "2023-03-12T14:07:57.850325Z",
     "shell.execute_reply": "2023-03-12T14:07:57.849319Z"
    },
    "papermill": {
     "duration": 0.037099,
     "end_time": "2023-03-12T14:07:57.852811",
     "exception": false,
     "start_time": "2023-03-12T14:07:57.815712",
     "status": "completed"
    },
    "tags": []
   },
   "outputs": [],
   "source": [
    "import pandas as pd\n",
    "nan = np.nan\n",
    "\n",
    "data = [[0.04,  nan,  nan, 0.25,  nan, 0.43, 0.71, 0.51,  nan,  nan],\n",
    "        [ nan,  nan,  nan, 0.04, 0.76,  nan,  nan, 0.67, 0.76, 0.16],\n",
    "        [ nan,  nan, 0.5 ,  nan, 0.31, 0.4 ,  nan,  nan, 0.24, 0.01],\n",
    "        [0.49,  nan,  nan, 0.62, 0.73, 0.26, 0.85,  nan,  nan,  nan],\n",
    "        [ nan,  nan, 0.41,  nan, 0.05,  nan, 0.61,  nan, 0.48, 0.68]]\n",
    "\n",
    "columns = list('abcdefghij')\n",
    "\n",
    "df = pd.DataFrame(data, columns=columns)\n",
    "\n",
    "# write a solution to the question here"
   ]
  },
  {
   "cell_type": "markdown",
   "id": "3e552b95",
   "metadata": {
    "papermill": {
     "duration": 0.022604,
     "end_time": "2023-03-12T14:07:57.897957",
     "exception": false,
     "start_time": "2023-03-12T14:07:57.875353",
     "status": "completed"
    },
    "tags": []
   },
   "source": [
    "**27.** A DataFrame has a column of groups 'grps' and and column of integer values 'vals': \n",
    "\n",
    "```python\n",
    "df = pd.DataFrame({'grps': list('aaabbcaabcccbbc'), \n",
    "                   'vals': [12,345,3,1,45,14,4,52,54,23,235,21,57,3,87]})\n",
    "```\n",
    "For each *group*, find the sum of the three greatest values. You should end up with the answer as follows:\n",
    "```\n",
    "grps\n",
    "a    409\n",
    "b    156\n",
    "c    345\n",
    "```"
   ]
  },
  {
   "cell_type": "code",
   "execution_count": 3,
   "id": "319a86c9",
   "metadata": {
    "execution": {
     "iopub.execute_input": "2023-03-12T14:07:57.944523Z",
     "iopub.status.busy": "2023-03-12T14:07:57.944085Z",
     "iopub.status.idle": "2023-03-12T14:07:57.950412Z",
     "shell.execute_reply": "2023-03-12T14:07:57.949142Z"
    },
    "papermill": {
     "duration": 0.032525,
     "end_time": "2023-03-12T14:07:57.952729",
     "exception": false,
     "start_time": "2023-03-12T14:07:57.920204",
     "status": "completed"
    },
    "tags": []
   },
   "outputs": [],
   "source": [
    "df = pd.DataFrame({'grps': list('aaabbcaabcccbbc'), \n",
    "                   'vals': [12,345,3,1,45,14,4,52,54,23,235,21,57,3,87]})\n",
    "\n",
    "# write a solution to the question here"
   ]
  },
  {
   "cell_type": "markdown",
   "id": "1c7ff68a",
   "metadata": {
    "papermill": {
     "duration": 0.0225,
     "end_time": "2023-03-12T14:07:57.998313",
     "exception": false,
     "start_time": "2023-03-12T14:07:57.975813",
     "status": "completed"
    },
    "tags": []
   },
   "source": [
    "**28.** The DataFrame `df` constructed below has two integer columns 'A' and 'B'. The values in 'A' are between 1 and 100 (inclusive). \n",
    "\n",
    "For each group of 10 consecutive integers in 'A' (i.e. `(0, 10]`, `(10, 20]`, ...), calculate the sum of the corresponding values in column 'B'.\n",
    "\n",
    "The answer should be a Series as follows:\n",
    "\n",
    "```\n",
    "A\n",
    "(0, 10]      635\n",
    "(10, 20]     360\n",
    "(20, 30]     315\n",
    "(30, 40]     306\n",
    "(40, 50]     750\n",
    "(50, 60]     284\n",
    "(60, 70]     424\n",
    "(70, 80]     526\n",
    "(80, 90]     835\n",
    "(90, 100]    852\n",
    "```"
   ]
  },
  {
   "cell_type": "code",
   "execution_count": 4,
   "id": "1d6d8af0",
   "metadata": {
    "execution": {
     "iopub.execute_input": "2023-03-12T14:07:58.045140Z",
     "iopub.status.busy": "2023-03-12T14:07:58.044669Z",
     "iopub.status.idle": "2023-03-12T14:07:58.054346Z",
     "shell.execute_reply": "2023-03-12T14:07:58.053423Z"
    },
    "papermill": {
     "duration": 0.036117,
     "end_time": "2023-03-12T14:07:58.056875",
     "exception": false,
     "start_time": "2023-03-12T14:07:58.020758",
     "status": "completed"
    },
    "tags": []
   },
   "outputs": [],
   "source": [
    "df = pd.DataFrame(np.random.RandomState(8765).randint(1, 101, size=(100, 2)), columns = [\"A\", \"B\"])\n",
    "\n",
    "# write a solution to the question here"
   ]
  },
  {
   "cell_type": "markdown",
   "id": "0dadea96",
   "metadata": {
    "papermill": {
     "duration": 0.022451,
     "end_time": "2023-03-12T14:07:58.101761",
     "exception": false,
     "start_time": "2023-03-12T14:07:58.079310",
     "status": "completed"
    },
    "tags": []
   },
   "source": [
    "## DataFrames: harder problems \n",
    "\n",
    "### These might require a bit of thinking outside the box...\n",
    "\n",
    "...but all are solvable using just the usual pandas/NumPy methods (and so avoid using explicit `for` loops).\n",
    "\n",
    "Difficulty: *hard*"
   ]
  },
  {
   "cell_type": "markdown",
   "id": "914038e4",
   "metadata": {
    "papermill": {
     "duration": 0.021748,
     "end_time": "2023-03-12T14:07:58.145601",
     "exception": false,
     "start_time": "2023-03-12T14:07:58.123853",
     "status": "completed"
    },
    "tags": []
   },
   "source": [
    "**29.** Consider a DataFrame `df` where there is an integer column 'X':\n",
    "```python\n",
    "df = pd.DataFrame({'X': [7, 2, 0, 3, 4, 2, 5, 0, 3, 4]})\n",
    "```\n",
    "For each value, count the difference back to the previous zero (or the start of the Series, whichever is closer). These values should therefore be \n",
    "\n",
    "```\n",
    "[1, 2, 0, 1, 2, 3, 4, 0, 1, 2]\n",
    "```\n",
    "\n",
    "Make this a new column 'Y'."
   ]
  },
  {
   "cell_type": "code",
   "execution_count": null,
   "id": "adc9b9d8",
   "metadata": {
    "collapsed": true,
    "jupyter": {
     "outputs_hidden": true
    },
    "papermill": {
     "duration": 0.021818,
     "end_time": "2023-03-12T14:07:58.189781",
     "exception": false,
     "start_time": "2023-03-12T14:07:58.167963",
     "status": "completed"
    },
    "tags": []
   },
   "outputs": [],
   "source": []
  },
  {
   "cell_type": "markdown",
   "id": "697e9745",
   "metadata": {
    "papermill": {
     "duration": 0.0228,
     "end_time": "2023-03-12T14:07:58.235207",
     "exception": false,
     "start_time": "2023-03-12T14:07:58.212407",
     "status": "completed"
    },
    "tags": []
   },
   "source": [
    "**30.** Consider the DataFrame constructed below which contains rows and columns of numerical data. \n",
    "\n",
    "Create a list of the column-row index locations of the 3 largest values in this DataFrame. In this case, the answer should be:\n",
    "```\n",
    "[(5, 7), (6, 4), (2, 5)]\n",
    "```"
   ]
  },
  {
   "cell_type": "code",
   "execution_count": 5,
   "id": "54311ddc",
   "metadata": {
    "execution": {
     "iopub.execute_input": "2023-03-12T14:07:58.283592Z",
     "iopub.status.busy": "2023-03-12T14:07:58.282401Z",
     "iopub.status.idle": "2023-03-12T14:07:58.288468Z",
     "shell.execute_reply": "2023-03-12T14:07:58.287517Z"
    },
    "papermill": {
     "duration": 0.032586,
     "end_time": "2023-03-12T14:07:58.291050",
     "exception": false,
     "start_time": "2023-03-12T14:07:58.258464",
     "status": "completed"
    },
    "tags": []
   },
   "outputs": [],
   "source": [
    "df = pd.DataFrame(np.random.RandomState(30).randint(1, 101, size=(8, 8)))"
   ]
  },
  {
   "cell_type": "markdown",
   "id": "843055f7",
   "metadata": {
    "papermill": {
     "duration": 0.022736,
     "end_time": "2023-03-12T14:07:58.336101",
     "exception": false,
     "start_time": "2023-03-12T14:07:58.313365",
     "status": "completed"
    },
    "tags": []
   },
   "source": [
    "**31.** You are given the DataFrame below with a column of group IDs, 'grps', and a column of corresponding integer values, 'vals'.\n",
    "\n",
    "```python\n",
    "df = pd.DataFrame({\"vals\": np.random.RandomState(31).randint(-30, 30, size=15), \n",
    "                   \"grps\": np.random.RandomState(31).choice([\"A\", \"B\"], 15)})\n",
    "```\n",
    "\n",
    "Create a new column 'patched_values' which contains the same values as the 'vals' any negative values in 'vals' with the group mean:\n",
    "\n",
    "```\n",
    "    vals grps  patched_vals\n",
    "0    -12    A          13.6\n",
    "1     -7    B          28.0\n",
    "2    -14    A          13.6\n",
    "3      4    A           4.0\n",
    "4     -7    A          13.6\n",
    "5     28    B          28.0\n",
    "6     -2    A          13.6\n",
    "7     -1    A          13.6\n",
    "8      8    A           8.0\n",
    "9     -2    B          28.0\n",
    "10    28    A          28.0\n",
    "11    12    A          12.0\n",
    "12    16    A          16.0\n",
    "13   -24    A          13.6\n",
    "14   -12    A          13.6\n",
    "```"
   ]
  },
  {
   "cell_type": "code",
   "execution_count": null,
   "id": "0ec3e422",
   "metadata": {
    "collapsed": true,
    "jupyter": {
     "outputs_hidden": true
    },
    "papermill": {
     "duration": 0.022609,
     "end_time": "2023-03-12T14:07:58.381100",
     "exception": false,
     "start_time": "2023-03-12T14:07:58.358491",
     "status": "completed"
    },
    "tags": []
   },
   "outputs": [],
   "source": []
  },
  {
   "cell_type": "markdown",
   "id": "9f480879",
   "metadata": {
    "papermill": {
     "duration": 0.022675,
     "end_time": "2023-03-12T14:07:58.426549",
     "exception": false,
     "start_time": "2023-03-12T14:07:58.403874",
     "status": "completed"
    },
    "tags": []
   },
   "source": [
    "**32.** Implement a rolling mean over groups with window size 3, which ignores NaN value. For example consider the following DataFrame:\n",
    "\n",
    "```python\n",
    ">>> df = pd.DataFrame({'group': list('aabbabbbabab'),\n",
    "                       'value': [1, 2, 3, np.nan, 2, 3, np.nan, 1, 7, 3, np.nan, 8]})\n",
    ">>> df\n",
    "   group  value\n",
    "0      a    1.0\n",
    "1      a    2.0\n",
    "2      b    3.0\n",
    "3      b    NaN\n",
    "4      a    2.0\n",
    "5      b    3.0\n",
    "6      b    NaN\n",
    "7      b    1.0\n",
    "8      a    7.0\n",
    "9      b    3.0\n",
    "10     a    NaN\n",
    "11     b    8.0\n",
    "```\n",
    "The goal is to compute the Series:\n",
    "\n",
    "```\n",
    "0     1.000000\n",
    "1     1.500000\n",
    "2     3.000000\n",
    "3     3.000000\n",
    "4     1.666667\n",
    "5     3.000000\n",
    "6     3.000000\n",
    "7     2.000000\n",
    "8     3.666667\n",
    "9     2.000000\n",
    "10    4.500000\n",
    "11    4.000000\n",
    "```\n",
    "E.g. the first window of size three for group 'b' has values 3.0, NaN and 3.0 and occurs at row index 5. Instead of being NaN the value in the new column at this row index should be 3.0 (just the two non-NaN values are used to compute the mean (3+3)/2)"
   ]
  },
  {
   "cell_type": "code",
   "execution_count": null,
   "id": "fbeb68d2",
   "metadata": {
    "collapsed": true,
    "jupyter": {
     "outputs_hidden": true
    },
    "papermill": {
     "duration": 0.022034,
     "end_time": "2023-03-12T14:07:58.471362",
     "exception": false,
     "start_time": "2023-03-12T14:07:58.449328",
     "status": "completed"
    },
    "tags": []
   },
   "outputs": [],
   "source": []
  },
  {
   "cell_type": "markdown",
   "id": "638e5853",
   "metadata": {
    "papermill": {
     "duration": 0.022034,
     "end_time": "2023-03-12T14:07:58.515569",
     "exception": false,
     "start_time": "2023-03-12T14:07:58.493535",
     "status": "completed"
    },
    "tags": []
   },
   "source": [
    "## Series and DatetimeIndex\n",
    "\n",
    "### Exercises for creating and manipulating Series with datetime data\n",
    "\n",
    "Difficulty: *easy/medium*\n",
    "\n",
    "pandas is fantastic for working with dates and times. These puzzles explore some of this functionality.\n"
   ]
  },
  {
   "cell_type": "markdown",
   "id": "41520572",
   "metadata": {
    "papermill": {
     "duration": 0.022612,
     "end_time": "2023-03-12T14:07:58.560951",
     "exception": false,
     "start_time": "2023-03-12T14:07:58.538339",
     "status": "completed"
    },
    "tags": []
   },
   "source": [
    "**33.** Create a DatetimeIndex that contains each business day of 2015 and use it to index a Series of random numbers. Let's call this Series `s`."
   ]
  },
  {
   "cell_type": "code",
   "execution_count": null,
   "id": "29557c75",
   "metadata": {
    "collapsed": true,
    "jupyter": {
     "outputs_hidden": true
    },
    "papermill": {
     "duration": 0.021952,
     "end_time": "2023-03-12T14:07:58.605123",
     "exception": false,
     "start_time": "2023-03-12T14:07:58.583171",
     "status": "completed"
    },
    "tags": []
   },
   "outputs": [],
   "source": []
  },
  {
   "cell_type": "markdown",
   "id": "d7d9913f",
   "metadata": {
    "papermill": {
     "duration": 0.021847,
     "end_time": "2023-03-12T14:07:58.649344",
     "exception": false,
     "start_time": "2023-03-12T14:07:58.627497",
     "status": "completed"
    },
    "tags": []
   },
   "source": [
    "**34.** Find the sum of the values in `s` for every Wednesday."
   ]
  },
  {
   "cell_type": "code",
   "execution_count": null,
   "id": "24d9e769",
   "metadata": {
    "collapsed": true,
    "jupyter": {
     "outputs_hidden": true
    },
    "papermill": {
     "duration": 0.02216,
     "end_time": "2023-03-12T14:07:58.693677",
     "exception": false,
     "start_time": "2023-03-12T14:07:58.671517",
     "status": "completed"
    },
    "tags": []
   },
   "outputs": [],
   "source": []
  },
  {
   "cell_type": "markdown",
   "id": "1d55ddf5",
   "metadata": {
    "papermill": {
     "duration": 0.022116,
     "end_time": "2023-03-12T14:07:58.738268",
     "exception": false,
     "start_time": "2023-03-12T14:07:58.716152",
     "status": "completed"
    },
    "tags": []
   },
   "source": [
    "**35.** For each calendar month in `s`, find the mean of values."
   ]
  },
  {
   "cell_type": "code",
   "execution_count": null,
   "id": "6e1e7470",
   "metadata": {
    "collapsed": true,
    "jupyter": {
     "outputs_hidden": true
    },
    "papermill": {
     "duration": 0.022232,
     "end_time": "2023-03-12T14:07:58.782869",
     "exception": false,
     "start_time": "2023-03-12T14:07:58.760637",
     "status": "completed"
    },
    "tags": []
   },
   "outputs": [],
   "source": []
  },
  {
   "cell_type": "markdown",
   "id": "dea2523d",
   "metadata": {
    "papermill": {
     "duration": 0.022123,
     "end_time": "2023-03-12T14:07:58.827769",
     "exception": false,
     "start_time": "2023-03-12T14:07:58.805646",
     "status": "completed"
    },
    "tags": []
   },
   "source": [
    "**36.** For each group of four consecutive calendar months in `s`, find the date on which the highest value occurred."
   ]
  },
  {
   "cell_type": "code",
   "execution_count": null,
   "id": "4d337a72",
   "metadata": {
    "collapsed": true,
    "jupyter": {
     "outputs_hidden": true
    },
    "papermill": {
     "duration": 0.021834,
     "end_time": "2023-03-12T14:07:58.871910",
     "exception": false,
     "start_time": "2023-03-12T14:07:58.850076",
     "status": "completed"
    },
    "tags": []
   },
   "outputs": [],
   "source": []
  },
  {
   "cell_type": "markdown",
   "id": "b7cc26fd",
   "metadata": {
    "papermill": {
     "duration": 0.021878,
     "end_time": "2023-03-12T14:07:58.916074",
     "exception": false,
     "start_time": "2023-03-12T14:07:58.894196",
     "status": "completed"
    },
    "tags": []
   },
   "source": [
    "**37.** Create a DateTimeIndex consisting of the third Thursday in each month for the years 2015 and 2016."
   ]
  },
  {
   "cell_type": "code",
   "execution_count": null,
   "id": "f2a97ba5",
   "metadata": {
    "collapsed": true,
    "jupyter": {
     "outputs_hidden": true
    },
    "papermill": {
     "duration": 0.021958,
     "end_time": "2023-03-12T14:07:58.960091",
     "exception": false,
     "start_time": "2023-03-12T14:07:58.938133",
     "status": "completed"
    },
    "tags": []
   },
   "outputs": [],
   "source": []
  },
  {
   "cell_type": "markdown",
   "id": "247d3ae1",
   "metadata": {
    "papermill": {
     "duration": 0.022192,
     "end_time": "2023-03-12T14:07:59.004509",
     "exception": false,
     "start_time": "2023-03-12T14:07:58.982317",
     "status": "completed"
    },
    "tags": []
   },
   "source": [
    "## Cleaning Data\n",
    "\n",
    "### Making a DataFrame easier to work with\n",
    "\n",
    "Difficulty: *easy/medium*\n",
    "\n",
    "It happens all the time: someone gives you data containing malformed strings, Python, lists and missing data. How do you tidy it up so you can get on with the analysis?\n",
    "\n",
    "Take this monstrosity as the DataFrame to use in the following puzzles:\n",
    "\n",
    "```python\n",
    "df = pd.DataFrame({'From_To': ['LoNDon_paris', 'MAdrid_miLAN', 'londON_StockhOlm', \n",
    "                               'Budapest_PaRis', 'Brussels_londOn'],\n",
    "              'FlightNumber': [10045, np.nan, 10065, np.nan, 10085],\n",
    "              'RecentDelays': [[23, 47], [], [24, 43, 87], [13], [67, 32]],\n",
    "                   'Airline': ['KLM(!)', '<Air France> (12)', '(British Airways. )', \n",
    "                               '12. Air France', '\"Swiss Air\"']})\n",
    "```\n",
    "Formatted, it looks like this:\n",
    "\n",
    "```\n",
    "            From_To  FlightNumber  RecentDelays              Airline\n",
    "0      LoNDon_paris       10045.0      [23, 47]               KLM(!)\n",
    "1      MAdrid_miLAN           NaN            []    <Air France> (12)\n",
    "2  londON_StockhOlm       10065.0  [24, 43, 87]  (British Airways. )\n",
    "3    Budapest_PaRis           NaN          [13]       12. Air France\n",
    "4   Brussels_londOn       10085.0      [67, 32]          \"Swiss Air\"\n",
    "```\n",
    "\n",
    "\n",
    "(It's some flight data I made up; it's not meant to be accurate in any way.)\n"
   ]
  },
  {
   "cell_type": "markdown",
   "id": "939cb68b",
   "metadata": {
    "papermill": {
     "duration": 0.022006,
     "end_time": "2023-03-12T14:07:59.049067",
     "exception": false,
     "start_time": "2023-03-12T14:07:59.027061",
     "status": "completed"
    },
    "tags": []
   },
   "source": [
    "**38.** Some values in the the **FlightNumber** column are missing (they are `NaN`). These numbers are meant to increase by 10 with each row so 10055 and 10075 need to be put in place. Modify `df` to fill in these missing numbers and make the column an integer column (instead of a float column)."
   ]
  },
  {
   "cell_type": "code",
   "execution_count": null,
   "id": "0c8ee58f",
   "metadata": {
    "collapsed": true,
    "jupyter": {
     "outputs_hidden": true
    },
    "papermill": {
     "duration": 0.022168,
     "end_time": "2023-03-12T14:07:59.093504",
     "exception": false,
     "start_time": "2023-03-12T14:07:59.071336",
     "status": "completed"
    },
    "tags": []
   },
   "outputs": [],
   "source": []
  },
  {
   "cell_type": "markdown",
   "id": "4679fa4a",
   "metadata": {
    "papermill": {
     "duration": 0.021931,
     "end_time": "2023-03-12T14:07:59.137710",
     "exception": false,
     "start_time": "2023-03-12T14:07:59.115779",
     "status": "completed"
    },
    "tags": []
   },
   "source": [
    "**39.** The **From\\_To** column would be better as two separate columns! Split each string on the underscore delimiter `_` to give a new temporary DataFrame called 'temp' with the correct values. Assign the correct column names 'From' and 'To' to this temporary DataFrame. "
   ]
  },
  {
   "cell_type": "code",
   "execution_count": null,
   "id": "d85aca22",
   "metadata": {
    "collapsed": true,
    "jupyter": {
     "outputs_hidden": true
    },
    "papermill": {
     "duration": 0.022058,
     "end_time": "2023-03-12T14:07:59.182194",
     "exception": false,
     "start_time": "2023-03-12T14:07:59.160136",
     "status": "completed"
    },
    "tags": []
   },
   "outputs": [],
   "source": []
  },
  {
   "cell_type": "markdown",
   "id": "20edf056",
   "metadata": {
    "papermill": {
     "duration": 0.022018,
     "end_time": "2023-03-12T14:07:59.226566",
     "exception": false,
     "start_time": "2023-03-12T14:07:59.204548",
     "status": "completed"
    },
    "tags": []
   },
   "source": [
    "**40.** Notice how the capitalisation of the city names is all mixed up in this temporary DataFrame 'temp'. Standardise the strings so that only the first letter is uppercase (e.g. \"londON\" should become \"London\".)"
   ]
  },
  {
   "cell_type": "code",
   "execution_count": null,
   "id": "1cd15e6f",
   "metadata": {
    "collapsed": true,
    "jupyter": {
     "outputs_hidden": true
    },
    "papermill": {
     "duration": 0.023445,
     "end_time": "2023-03-12T14:07:59.272452",
     "exception": false,
     "start_time": "2023-03-12T14:07:59.249007",
     "status": "completed"
    },
    "tags": []
   },
   "outputs": [],
   "source": []
  },
  {
   "cell_type": "markdown",
   "id": "7ff2f17e",
   "metadata": {
    "papermill": {
     "duration": 0.02236,
     "end_time": "2023-03-12T14:07:59.317531",
     "exception": false,
     "start_time": "2023-03-12T14:07:59.295171",
     "status": "completed"
    },
    "tags": []
   },
   "source": [
    "**41.** Delete the **From_To** column from `df` and attach the temporary DataFrame 'temp' from the previous questions."
   ]
  },
  {
   "cell_type": "code",
   "execution_count": null,
   "id": "901ca53f",
   "metadata": {
    "collapsed": true,
    "jupyter": {
     "outputs_hidden": true
    },
    "papermill": {
     "duration": 0.022001,
     "end_time": "2023-03-12T14:07:59.361954",
     "exception": false,
     "start_time": "2023-03-12T14:07:59.339953",
     "status": "completed"
    },
    "tags": []
   },
   "outputs": [],
   "source": []
  },
  {
   "cell_type": "markdown",
   "id": "597296fb",
   "metadata": {
    "papermill": {
     "duration": 0.022626,
     "end_time": "2023-03-12T14:07:59.406945",
     "exception": false,
     "start_time": "2023-03-12T14:07:59.384319",
     "status": "completed"
    },
    "tags": []
   },
   "source": [
    "**42**. In the **Airline** column, you can see some extra puctuation and symbols have appeared around the airline names. Pull out just the airline name. E.g. `'(British Airways. )'` should become `'British Airways'`."
   ]
  },
  {
   "cell_type": "code",
   "execution_count": null,
   "id": "7778308f",
   "metadata": {
    "collapsed": true,
    "jupyter": {
     "outputs_hidden": true
    },
    "papermill": {
     "duration": 0.021901,
     "end_time": "2023-03-12T14:07:59.450994",
     "exception": false,
     "start_time": "2023-03-12T14:07:59.429093",
     "status": "completed"
    },
    "tags": []
   },
   "outputs": [],
   "source": []
  },
  {
   "cell_type": "markdown",
   "id": "a8ca5234",
   "metadata": {
    "papermill": {
     "duration": 0.021957,
     "end_time": "2023-03-12T14:07:59.495226",
     "exception": false,
     "start_time": "2023-03-12T14:07:59.473269",
     "status": "completed"
    },
    "tags": []
   },
   "source": [
    "**43**. In the RecentDelays column, the values have been entered into the DataFrame as a list. We would like each first value in its own column, each second value in its own column, and so on. If there isn't an Nth value, the value should be NaN.\n",
    "\n",
    "Expand the Series of lists into a DataFrame named `delays`, rename the columns `delay_1`, `delay_2`, etc. and replace the unwanted RecentDelays column in `df` with `delays`."
   ]
  },
  {
   "cell_type": "code",
   "execution_count": null,
   "id": "3ffc8315",
   "metadata": {
    "collapsed": true,
    "jupyter": {
     "outputs_hidden": true
    },
    "papermill": {
     "duration": 0.021897,
     "end_time": "2023-03-12T14:07:59.539408",
     "exception": false,
     "start_time": "2023-03-12T14:07:59.517511",
     "status": "completed"
    },
    "tags": []
   },
   "outputs": [],
   "source": []
  },
  {
   "cell_type": "markdown",
   "id": "9f057304",
   "metadata": {
    "papermill": {
     "duration": 0.022073,
     "end_time": "2023-03-12T14:07:59.584423",
     "exception": false,
     "start_time": "2023-03-12T14:07:59.562350",
     "status": "completed"
    },
    "tags": []
   },
   "source": [
    "The DataFrame should look much better now.\n",
    "```\n",
    "   FlightNumber          Airline      From         To  delay_1  delay_2  delay_3\n",
    "0         10045              KLM    London      Paris     23.0     47.0      NaN\n",
    "1         10055       Air France    Madrid      Milan      NaN      NaN      NaN\n",
    "2         10065  British Airways    London  Stockholm     24.0     43.0     87.0\n",
    "3         10075       Air France  Budapest      Paris     13.0      NaN      NaN\n",
    "4         10085        Swiss Air  Brussels     London     67.0     32.0      NaN\n",
    "```"
   ]
  },
  {
   "cell_type": "markdown",
   "id": "a84255f0",
   "metadata": {
    "papermill": {
     "duration": 0.022702,
     "end_time": "2023-03-12T14:07:59.629458",
     "exception": false,
     "start_time": "2023-03-12T14:07:59.606756",
     "status": "completed"
    },
    "tags": []
   },
   "source": [
    "## Using MultiIndexes\n",
    "\n",
    "### Go beyond flat DataFrames with additional index levels\n",
    "\n",
    "Difficulty: *medium*\n",
    "\n",
    "Previous exercises have seen us analysing data from DataFrames equipped with a single index level. However, pandas also gives you the possibilty of indexing your data using *multiple* levels. This is very much like adding new dimensions to a Series or a DataFrame. For example, a Series is 1D, but by using a MultiIndex with 2 levels we gain of much the same functionality as a 2D DataFrame.\n",
    "\n",
    "The set of puzzles below explores how you might use multiple index levels to enhance data analysis.\n",
    "\n",
    "To warm up, we'll look make a Series with two index levels. "
   ]
  },
  {
   "cell_type": "markdown",
   "id": "fa42029d",
   "metadata": {
    "papermill": {
     "duration": 0.022864,
     "end_time": "2023-03-12T14:07:59.675508",
     "exception": false,
     "start_time": "2023-03-12T14:07:59.652644",
     "status": "completed"
    },
    "tags": []
   },
   "source": [
    "**44**. Given the lists `letters = ['A', 'B', 'C']` and `numbers = list(range(10))`, construct a MultiIndex object from the product of the two lists. Use it to index a Series of random numbers. Call this Series `s`."
   ]
  },
  {
   "cell_type": "code",
   "execution_count": null,
   "id": "ee6cad6d",
   "metadata": {
    "collapsed": true,
    "jupyter": {
     "outputs_hidden": true
    },
    "papermill": {
     "duration": 0.022114,
     "end_time": "2023-03-12T14:07:59.720098",
     "exception": false,
     "start_time": "2023-03-12T14:07:59.697984",
     "status": "completed"
    },
    "tags": []
   },
   "outputs": [],
   "source": []
  },
  {
   "cell_type": "markdown",
   "id": "20add3f7",
   "metadata": {
    "papermill": {
     "duration": 0.022837,
     "end_time": "2023-03-12T14:07:59.765496",
     "exception": false,
     "start_time": "2023-03-12T14:07:59.742659",
     "status": "completed"
    },
    "tags": []
   },
   "source": [
    "**45.** Check the index of `s` is lexicographically sorted (this is a necessary proprty for indexing to work correctly with a MultiIndex)."
   ]
  },
  {
   "cell_type": "code",
   "execution_count": null,
   "id": "56a1c711",
   "metadata": {
    "collapsed": true,
    "jupyter": {
     "outputs_hidden": true
    },
    "papermill": {
     "duration": 0.022927,
     "end_time": "2023-03-12T14:07:59.810928",
     "exception": false,
     "start_time": "2023-03-12T14:07:59.788001",
     "status": "completed"
    },
    "tags": []
   },
   "outputs": [],
   "source": []
  },
  {
   "cell_type": "markdown",
   "id": "c39d9b00",
   "metadata": {
    "papermill": {
     "duration": 0.022055,
     "end_time": "2023-03-12T14:07:59.855677",
     "exception": false,
     "start_time": "2023-03-12T14:07:59.833622",
     "status": "completed"
    },
    "tags": []
   },
   "source": [
    "**46**. Select the labels `1`, `3` and `6` from the second level of the MultiIndexed Series."
   ]
  },
  {
   "cell_type": "code",
   "execution_count": null,
   "id": "35093062",
   "metadata": {
    "collapsed": true,
    "jupyter": {
     "outputs_hidden": true
    },
    "papermill": {
     "duration": 0.022866,
     "end_time": "2023-03-12T14:07:59.901586",
     "exception": false,
     "start_time": "2023-03-12T14:07:59.878720",
     "status": "completed"
    },
    "tags": []
   },
   "outputs": [],
   "source": []
  },
  {
   "cell_type": "markdown",
   "id": "61df568a",
   "metadata": {
    "papermill": {
     "duration": 0.022018,
     "end_time": "2023-03-12T14:07:59.946095",
     "exception": false,
     "start_time": "2023-03-12T14:07:59.924077",
     "status": "completed"
    },
    "tags": []
   },
   "source": [
    "**47**. Slice the Series `s`; slice up to label 'B' for the first level and from label 5 onwards for the second level."
   ]
  },
  {
   "cell_type": "code",
   "execution_count": null,
   "id": "d41969f1",
   "metadata": {
    "collapsed": true,
    "jupyter": {
     "outputs_hidden": true
    },
    "papermill": {
     "duration": 0.022339,
     "end_time": "2023-03-12T14:07:59.990765",
     "exception": false,
     "start_time": "2023-03-12T14:07:59.968426",
     "status": "completed"
    },
    "tags": []
   },
   "outputs": [],
   "source": []
  },
  {
   "cell_type": "markdown",
   "id": "abe40161",
   "metadata": {
    "papermill": {
     "duration": 0.023115,
     "end_time": "2023-03-12T14:08:00.037183",
     "exception": false,
     "start_time": "2023-03-12T14:08:00.014068",
     "status": "completed"
    },
    "tags": []
   },
   "source": [
    "**48**. Sum the values in `s` for each label in the first level (you should have Series giving you a total for labels A, B and C)."
   ]
  },
  {
   "cell_type": "code",
   "execution_count": null,
   "id": "68e8155e",
   "metadata": {
    "collapsed": true,
    "jupyter": {
     "outputs_hidden": true
    },
    "papermill": {
     "duration": 0.023447,
     "end_time": "2023-03-12T14:08:00.084800",
     "exception": false,
     "start_time": "2023-03-12T14:08:00.061353",
     "status": "completed"
    },
    "tags": []
   },
   "outputs": [],
   "source": []
  },
  {
   "cell_type": "markdown",
   "id": "d7f38424",
   "metadata": {
    "papermill": {
     "duration": 0.023599,
     "end_time": "2023-03-12T14:08:00.131219",
     "exception": false,
     "start_time": "2023-03-12T14:08:00.107620",
     "status": "completed"
    },
    "tags": []
   },
   "source": [
    "**49**. Suppose that `sum()` (and other methods) did not accept a `level` keyword argument. How else could you perform the equivalent of `s.sum(level=1)`?"
   ]
  },
  {
   "cell_type": "code",
   "execution_count": null,
   "id": "c976b3b5",
   "metadata": {
    "collapsed": true,
    "jupyter": {
     "outputs_hidden": true
    },
    "papermill": {
     "duration": 0.022235,
     "end_time": "2023-03-12T14:08:00.177577",
     "exception": false,
     "start_time": "2023-03-12T14:08:00.155342",
     "status": "completed"
    },
    "tags": []
   },
   "outputs": [],
   "source": []
  },
  {
   "cell_type": "markdown",
   "id": "52729911",
   "metadata": {
    "papermill": {
     "duration": 0.022324,
     "end_time": "2023-03-12T14:08:00.222365",
     "exception": false,
     "start_time": "2023-03-12T14:08:00.200041",
     "status": "completed"
    },
    "tags": []
   },
   "source": [
    "**50**. Exchange the levels of the MultiIndex so we have an index of the form (letters, numbers). Is this new Series properly lexsorted? If not, sort it."
   ]
  },
  {
   "cell_type": "code",
   "execution_count": null,
   "id": "8f13e195",
   "metadata": {
    "papermill": {
     "duration": 0.022223,
     "end_time": "2023-03-12T14:08:00.266970",
     "exception": false,
     "start_time": "2023-03-12T14:08:00.244747",
     "status": "completed"
    },
    "tags": []
   },
   "outputs": [],
   "source": []
  },
  {
   "cell_type": "markdown",
   "id": "8f0b209c",
   "metadata": {
    "papermill": {
     "duration": 0.022132,
     "end_time": "2023-03-12T14:08:00.311983",
     "exception": false,
     "start_time": "2023-03-12T14:08:00.289851",
     "status": "completed"
    },
    "tags": []
   },
   "source": [
    "## Minesweeper\n",
    "\n",
    "### Generate the numbers for safe squares in a Minesweeper grid\n",
    "\n",
    "Difficulty: *medium* to *hard*\n",
    "\n",
    "If you've ever used an older version of Windows, there's a good chance you've played with Minesweeper:\n",
    "- https://en.wikipedia.org/wiki/Minesweeper_(video_game)\n",
    "\n",
    "\n",
    "If you're not familiar with the game, imagine a grid of squares: some of these squares conceal a mine. If you click on a mine, you lose instantly. If you click on a safe square, you reveal a number telling you how many mines are found in the squares that are immediately adjacent. The aim of the game is to uncover all squares in the grid that do not contain a mine.\n",
    "\n",
    "In this section, we'll make a DataFrame that contains the necessary data for a game of Minesweeper: coordinates of the squares, whether the square contains a mine and the number of mines found on adjacent squares."
   ]
  },
  {
   "cell_type": "markdown",
   "id": "4f6f5816",
   "metadata": {
    "papermill": {
     "duration": 0.022107,
     "end_time": "2023-03-12T14:08:00.356526",
     "exception": false,
     "start_time": "2023-03-12T14:08:00.334419",
     "status": "completed"
    },
    "tags": []
   },
   "source": [
    "**51**. Let's suppose we're playing Minesweeper on a 5 by 4 grid, i.e.\n",
    "```\n",
    "X = 5\n",
    "Y = 4\n",
    "```\n",
    "To begin, generate a DataFrame `df` with two columns, `'x'` and `'y'` containing every coordinate for this grid. That is, the DataFrame should start:\n",
    "```\n",
    "   x  y\n",
    "0  0  0\n",
    "1  0  1\n",
    "2  0  2\n",
    "```"
   ]
  },
  {
   "cell_type": "code",
   "execution_count": null,
   "id": "41b02fcb",
   "metadata": {
    "collapsed": true,
    "jupyter": {
     "outputs_hidden": true
    },
    "papermill": {
     "duration": 0.023196,
     "end_time": "2023-03-12T14:08:00.402688",
     "exception": false,
     "start_time": "2023-03-12T14:08:00.379492",
     "status": "completed"
    },
    "tags": []
   },
   "outputs": [],
   "source": []
  },
  {
   "cell_type": "markdown",
   "id": "71cd1fc0",
   "metadata": {
    "papermill": {
     "duration": 0.022123,
     "end_time": "2023-03-12T14:08:00.447725",
     "exception": false,
     "start_time": "2023-03-12T14:08:00.425602",
     "status": "completed"
    },
    "tags": []
   },
   "source": [
    "**52**. For this DataFrame `df`, create a new column of zeros (safe) and ones (mine). The probability of a mine occuring at each location should be 0.4."
   ]
  },
  {
   "cell_type": "code",
   "execution_count": null,
   "id": "a263b5e1",
   "metadata": {
    "collapsed": true,
    "jupyter": {
     "outputs_hidden": true
    },
    "papermill": {
     "duration": 0.025313,
     "end_time": "2023-03-12T14:08:00.496701",
     "exception": false,
     "start_time": "2023-03-12T14:08:00.471388",
     "status": "completed"
    },
    "tags": []
   },
   "outputs": [],
   "source": []
  },
  {
   "cell_type": "markdown",
   "id": "137741ba",
   "metadata": {
    "papermill": {
     "duration": 0.024036,
     "end_time": "2023-03-12T14:08:00.547078",
     "exception": false,
     "start_time": "2023-03-12T14:08:00.523042",
     "status": "completed"
    },
    "tags": []
   },
   "source": [
    "**53**. Now create a new column for this DataFrame called `'adjacent'`. This column should contain the number of mines found on adjacent squares in the grid. \n",
    "\n",
    "(E.g. for the first row, which is the entry for the coordinate `(0, 0)`, count how many mines are found on the coordinates `(0, 1)`, `(1, 0)` and `(1, 1)`.)"
   ]
  },
  {
   "cell_type": "code",
   "execution_count": null,
   "id": "ddde8c87",
   "metadata": {
    "collapsed": true,
    "jupyter": {
     "outputs_hidden": true
    },
    "papermill": {
     "duration": 0.02216,
     "end_time": "2023-03-12T14:08:00.592036",
     "exception": false,
     "start_time": "2023-03-12T14:08:00.569876",
     "status": "completed"
    },
    "tags": []
   },
   "outputs": [],
   "source": []
  },
  {
   "cell_type": "markdown",
   "id": "30b7f194",
   "metadata": {
    "papermill": {
     "duration": 0.022412,
     "end_time": "2023-03-12T14:08:00.637199",
     "exception": false,
     "start_time": "2023-03-12T14:08:00.614787",
     "status": "completed"
    },
    "tags": []
   },
   "source": [
    "**54**. For rows of the DataFrame that contain a mine, set the value in the `'adjacent'` column to NaN."
   ]
  },
  {
   "cell_type": "code",
   "execution_count": null,
   "id": "feddd44d",
   "metadata": {
    "collapsed": true,
    "jupyter": {
     "outputs_hidden": true
    },
    "papermill": {
     "duration": 0.022504,
     "end_time": "2023-03-12T14:08:00.682235",
     "exception": false,
     "start_time": "2023-03-12T14:08:00.659731",
     "status": "completed"
    },
    "tags": []
   },
   "outputs": [],
   "source": []
  },
  {
   "cell_type": "markdown",
   "id": "64dc6035",
   "metadata": {
    "papermill": {
     "duration": 0.022434,
     "end_time": "2023-03-12T14:08:00.727280",
     "exception": false,
     "start_time": "2023-03-12T14:08:00.704846",
     "status": "completed"
    },
    "tags": []
   },
   "source": [
    "**55**. Finally, convert the DataFrame to grid of the adjacent mine counts: columns are the `x` coordinate, rows are the `y` coordinate."
   ]
  },
  {
   "cell_type": "code",
   "execution_count": null,
   "id": "7ecf200d",
   "metadata": {
    "collapsed": true,
    "jupyter": {
     "outputs_hidden": true
    },
    "papermill": {
     "duration": 0.02308,
     "end_time": "2023-03-12T14:08:00.773049",
     "exception": false,
     "start_time": "2023-03-12T14:08:00.749969",
     "status": "completed"
    },
    "tags": []
   },
   "outputs": [],
   "source": []
  },
  {
   "cell_type": "markdown",
   "id": "08f0b0a6",
   "metadata": {
    "papermill": {
     "duration": 0.02289,
     "end_time": "2023-03-12T14:08:00.818648",
     "exception": false,
     "start_time": "2023-03-12T14:08:00.795758",
     "status": "completed"
    },
    "tags": []
   },
   "source": [
    "## Plotting\n",
    "\n",
    "### Visualize trends and patterns in data\n",
    "\n",
    "Difficulty: *medium*\n",
    "\n",
    "To really get a good understanding of the data contained in your DataFrame, it is often essential to create plots: if you're lucky, trends and anomalies will jump right out at you. This functionality is baked into pandas and the puzzles below explore some of what's possible with the library.\n",
    "\n",
    "**56.** Pandas is highly integrated with the plotting library matplotlib, and makes plotting DataFrames very user-friendly! Plotting in a notebook environment usually makes use of the following boilerplate:\n",
    "\n",
    "```python\n",
    "import matplotlib.pyplot as plt\n",
    "%matplotlib inline\n",
    "plt.style.use('ggplot')\n",
    "```\n",
    "\n",
    "matplotlib is the plotting library which pandas' plotting functionality is built upon, and it is usually aliased to ```plt```.\n",
    "\n",
    "```%matplotlib inline``` tells the notebook to show plots inline, instead of creating them in a separate window.  \n",
    "\n",
    "```plt.style.use('ggplot')``` is a style theme that most people find agreeable, based upon the styling of R's ggplot package.\n",
    "\n",
    "For starters, make a scatter plot of this random data, but use black X's instead of the default markers. \n",
    "\n",
    "```df = pd.DataFrame({\"xs\":[1,5,2,8,1], \"ys\":[4,2,1,9,6]})```\n",
    "\n",
    "Consult the [documentation](https://pandas.pydata.org/pandas-docs/stable/generated/pandas.DataFrame.plot.html) if you get stuck!"
   ]
  },
  {
   "cell_type": "code",
   "execution_count": null,
   "id": "aafdba6b",
   "metadata": {
    "collapsed": true,
    "jupyter": {
     "outputs_hidden": true
    },
    "papermill": {
     "duration": 0.022116,
     "end_time": "2023-03-12T14:08:00.863990",
     "exception": false,
     "start_time": "2023-03-12T14:08:00.841874",
     "status": "completed"
    },
    "tags": []
   },
   "outputs": [],
   "source": []
  },
  {
   "cell_type": "markdown",
   "id": "bffa9dab",
   "metadata": {
    "papermill": {
     "duration": 0.022288,
     "end_time": "2023-03-12T14:08:00.908960",
     "exception": false,
     "start_time": "2023-03-12T14:08:00.886672",
     "status": "completed"
    },
    "tags": []
   },
   "source": [
    "**57.** Columns in your DataFrame can also be used to modify colors and sizes.  Bill has been keeping track of his performance at work over time, as well as how good he was feeling that day, and whether he had a cup of coffee in the morning.  Make a plot which incorporates all four features of this DataFrame.\n",
    "\n",
    "(Hint:  If you're having trouble seeing the plot, try multiplying the Series which you choose to represent size by 10 or more)\n",
    "\n",
    "*The chart doesn't have to be pretty: this isn't a course in data viz!*\n",
    "\n",
    "```\n",
    "df = pd.DataFrame({\"productivity\":[5,2,3,1,4,5,6,7,8,3,4,8,9],\n",
    "                   \"hours_in\"    :[1,9,6,5,3,9,2,9,1,7,4,2,2],\n",
    "                   \"happiness\"   :[2,1,3,2,3,1,2,3,1,2,2,1,3],\n",
    "                   \"caffienated\" :[0,0,1,1,0,0,0,0,1,1,0,1,0]})\n",
    "```"
   ]
  },
  {
   "cell_type": "code",
   "execution_count": null,
   "id": "186f9f14",
   "metadata": {
    "collapsed": true,
    "jupyter": {
     "outputs_hidden": true
    },
    "papermill": {
     "duration": 0.022023,
     "end_time": "2023-03-12T14:08:00.953593",
     "exception": false,
     "start_time": "2023-03-12T14:08:00.931570",
     "status": "completed"
    },
    "tags": []
   },
   "outputs": [],
   "source": []
  },
  {
   "cell_type": "markdown",
   "id": "fcb8470d",
   "metadata": {
    "papermill": {
     "duration": 0.022284,
     "end_time": "2023-03-12T14:08:00.998320",
     "exception": false,
     "start_time": "2023-03-12T14:08:00.976036",
     "status": "completed"
    },
    "tags": []
   },
   "source": [
    "**58.**  What if we want to plot multiple things?  Pandas allows you to pass in a matplotlib *Axis* object for plots, and plots will also return an Axis object.\n",
    "\n",
    "Make a bar plot of monthly revenue with a line plot of monthly advertising spending (numbers in millions)\n",
    "\n",
    "```\n",
    "df = pd.DataFrame({\"revenue\":[57,68,63,71,72,90,80,62,59,51,47,52],\n",
    "                   \"advertising\":[2.1,1.9,2.7,3.0,3.6,3.2,2.7,2.4,1.8,1.6,1.3,1.9],\n",
    "                   \"month\":range(12)\n",
    "                  })\n",
    "```"
   ]
  },
  {
   "cell_type": "code",
   "execution_count": null,
   "id": "d6eb2bd7",
   "metadata": {
    "collapsed": true,
    "jupyter": {
     "outputs_hidden": true
    },
    "papermill": {
     "duration": 0.092443,
     "end_time": "2023-03-12T14:08:01.113480",
     "exception": false,
     "start_time": "2023-03-12T14:08:01.021037",
     "status": "completed"
    },
    "tags": []
   },
   "outputs": [],
   "source": []
  },
  {
   "cell_type": "markdown",
   "id": "7d3396c2",
   "metadata": {
    "papermill": {
     "duration": 0.0224,
     "end_time": "2023-03-12T14:08:01.159562",
     "exception": false,
     "start_time": "2023-03-12T14:08:01.137162",
     "status": "completed"
    },
    "tags": []
   },
   "source": [
    "Now we're finally ready to create a candlestick chart, which is a very common tool used to analyze stock price data.  A candlestick chart shows the opening, closing, highest, and lowest price for a stock during a time window.  The color of the \"candle\" (the thick part of the bar) is green if the stock closed above its opening price, or red if below.\n",
    "\n",
    "![Candlestick Example](img/candle.jpg)\n",
    "\n",
    "This was initially designed to be a pandas plotting challenge, but it just so happens that this type of plot is just not feasible using pandas' methods.  If you are unfamiliar with matplotlib, we have provided a function that will plot the chart for you so long as you can use pandas to get the data into the correct format.\n",
    "\n",
    "Your first step should be to get the data in the correct format using pandas' time-series grouping function.  We would like each candle to represent an hour's worth of data.  You can write your own aggregation function which returns the open/high/low/close, but pandas has a built-in which also does this."
   ]
  },
  {
   "cell_type": "markdown",
   "id": "6a9594cf",
   "metadata": {
    "papermill": {
     "duration": 0.02241,
     "end_time": "2023-03-12T14:08:01.204944",
     "exception": false,
     "start_time": "2023-03-12T14:08:01.182534",
     "status": "completed"
    },
    "tags": []
   },
   "source": [
    "The below cell contains helper functions.  Call ```day_stock_data()``` to generate a DataFrame containing the prices a hypothetical stock sold for, and the time the sale occurred.  Call ```plot_candlestick(df)``` on your properly aggregated and formatted stock data to print the candlestick chart."
   ]
  },
  {
   "cell_type": "code",
   "execution_count": 6,
   "id": "5da55d77",
   "metadata": {
    "execution": {
     "iopub.execute_input": "2023-03-12T14:08:01.252964Z",
     "iopub.status.busy": "2023-03-12T14:08:01.252482Z",
     "iopub.status.idle": "2023-03-12T14:08:01.265476Z",
     "shell.execute_reply": "2023-03-12T14:08:01.264364Z"
    },
    "papermill": {
     "duration": 0.040091,
     "end_time": "2023-03-12T14:08:01.268149",
     "exception": false,
     "start_time": "2023-03-12T14:08:01.228058",
     "status": "completed"
    },
    "tags": []
   },
   "outputs": [],
   "source": [
    "import numpy as np\n",
    "def float_to_time(x):\n",
    "    return str(int(x)) + \":\" + str(int(x%1 * 60)).zfill(2) + \":\" + str(int(x*60 % 1 * 60)).zfill(2)\n",
    "\n",
    "def day_stock_data():\n",
    "    #NYSE is open from 9:30 to 4:00\n",
    "    time = 9.5\n",
    "    price = 100\n",
    "    results = [(float_to_time(time), price)]\n",
    "    while time < 16:\n",
    "        elapsed = np.random.exponential(.001)\n",
    "        time += elapsed\n",
    "        if time > 16:\n",
    "            break\n",
    "        price_diff = np.random.uniform(.999, 1.001)\n",
    "        price *= price_diff\n",
    "        results.append((float_to_time(time), price))\n",
    "    \n",
    "    \n",
    "    df = pd.DataFrame(results, columns = ['time','price'])\n",
    "    df.time = pd.to_datetime(df.time)\n",
    "    return df\n",
    "\n",
    "#Don't read me unless you get stuck!\n",
    "def plot_candlestick(agg):\n",
    "    \"\"\"\n",
    "    agg is a DataFrame which has a DatetimeIndex and five columns: [\"open\",\"high\",\"low\",\"close\",\"color\"]\n",
    "    \"\"\"\n",
    "    fig, ax = plt.subplots()\n",
    "    for time in agg.index:\n",
    "        ax.plot([time.hour] * 2, agg.loc[time, [\"high\",\"low\"]].values, color = \"black\")\n",
    "        ax.plot([time.hour] * 2, agg.loc[time, [\"open\",\"close\"]].values, color = agg.loc[time, \"color\"], linewidth = 10)\n",
    "\n",
    "    ax.set_xlim((8,16))\n",
    "    ax.set_ylabel(\"Price\")\n",
    "    ax.set_xlabel(\"Hour\")\n",
    "    ax.set_title(\"OHLC of Stock Value During Trading Day\")\n",
    "    plt.show()"
   ]
  },
  {
   "cell_type": "markdown",
   "id": "68e1c655",
   "metadata": {
    "papermill": {
     "duration": 0.023035,
     "end_time": "2023-03-12T14:08:01.314592",
     "exception": false,
     "start_time": "2023-03-12T14:08:01.291557",
     "status": "completed"
    },
    "tags": []
   },
   "source": [
    "**59.** Generate a day's worth of random stock data, and aggregate / reformat it so that it has hourly summaries of the opening, highest, lowest, and closing prices"
   ]
  },
  {
   "cell_type": "code",
   "execution_count": null,
   "id": "8a24751a",
   "metadata": {
    "collapsed": true,
    "jupyter": {
     "outputs_hidden": true
    },
    "papermill": {
     "duration": 0.022426,
     "end_time": "2023-03-12T14:08:01.359904",
     "exception": false,
     "start_time": "2023-03-12T14:08:01.337478",
     "status": "completed"
    },
    "tags": []
   },
   "outputs": [],
   "source": []
  },
  {
   "cell_type": "markdown",
   "id": "6f863af6",
   "metadata": {
    "papermill": {
     "duration": 0.022365,
     "end_time": "2023-03-12T14:08:01.405034",
     "exception": false,
     "start_time": "2023-03-12T14:08:01.382669",
     "status": "completed"
    },
    "tags": []
   },
   "source": [
    "**60.** Now that you have your properly-formatted data, try to plot it yourself as a candlestick chart.  Use the ```plot_candlestick(df)``` function above, or matplotlib's [```plot``` documentation](https://matplotlib.org/api/_as_gen/matplotlib.axes.Axes.plot.html) if you get stuck."
   ]
  },
  {
   "cell_type": "code",
   "execution_count": null,
   "id": "bd80a49f",
   "metadata": {
    "collapsed": true,
    "jupyter": {
     "outputs_hidden": true
    },
    "papermill": {
     "duration": 0.02218,
     "end_time": "2023-03-12T14:08:01.450172",
     "exception": false,
     "start_time": "2023-03-12T14:08:01.427992",
     "status": "completed"
    },
    "tags": []
   },
   "outputs": [],
   "source": []
  },
  {
   "cell_type": "markdown",
   "id": "6b25854f",
   "metadata": {
    "papermill": {
     "duration": 0.022331,
     "end_time": "2023-03-12T14:08:01.495073",
     "exception": false,
     "start_time": "2023-03-12T14:08:01.472742",
     "status": "completed"
    },
    "tags": []
   },
   "source": [
    "*More exercises to follow soon...*"
   ]
  }
 ],
 "metadata": {
  "kernelspec": {
   "display_name": "Python 3",
   "language": "python",
   "name": "python3"
  },
  "language_info": {
   "codemirror_mode": {
    "name": "ipython",
    "version": 3
   },
   "file_extension": ".py",
   "mimetype": "text/x-python",
   "name": "python",
   "nbconvert_exporter": "python",
   "pygments_lexer": "ipython3",
   "version": "3.7.12"
  },
  "papermill": {
   "default_parameters": {},
   "duration": 17.275241,
   "end_time": "2023-03-12T14:08:02.240346",
   "environment_variables": {},
   "exception": null,
   "input_path": "__notebook__.ipynb",
   "output_path": "__notebook__.ipynb",
   "parameters": {},
   "start_time": "2023-03-12T14:07:44.965105",
   "version": "2.4.0"
  }
 },
 "nbformat": 4,
 "nbformat_minor": 5
}
