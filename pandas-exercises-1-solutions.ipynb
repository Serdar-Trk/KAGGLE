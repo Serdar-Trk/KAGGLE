{
 "cells": [
  {
   "cell_type": "markdown",
   "id": "d5532a71",
   "metadata": {
    "papermill": {
     "duration": 0.026393,
     "end_time": "2023-03-12T14:05:06.154740",
     "exception": false,
     "start_time": "2023-03-12T14:05:06.128347",
     "status": "completed"
    },
    "tags": []
   },
   "source": [
    "# PANDAS EXERCISES-1-SOLUTIONS\n",
    "\n",
    "\n",
    "Since pandas is a large library with many different specialist features and functions, these excercises focus mainly on the fundamentals of manipulating data (indexing, grouping, aggregating, cleaning), making use of the core DataFrame and Series objects. \n",
    "\n",
    "Many of the excerises here are stright-forward in that the solutions require no more than a few lines of code (in pandas or NumPy... don't go using pure Python or Cython!). Choosing the right methods and following best practices is the underlying goal.\n",
    "\n",
    "The exercises are loosely divided in sections. Each section has a difficulty rating; these ratings are subjective, of course, but should be a seen as a rough guide as to how inventive the required solution is.\n",
    "\n",
    "If you're just starting out with pandas and you are looking for some other resources, the official documentation  is very extensive. In particular, some good places get a broader overview of pandas are...\n",
    "\n",
    "- [10 minutes to pandas](http://pandas.pydata.org/pandas-docs/stable/10min.html)\n",
    "- [pandas basics](http://pandas.pydata.org/pandas-docs/stable/basics.html)\n",
    "- [tutorials](http://pandas.pydata.org/pandas-docs/stable/tutorials.html)\n",
    "- [cookbook and idioms](http://pandas.pydata.org/pandas-docs/stable/cookbook.html#cookbook)\n",
    "\n",
    "Enjoy the puzzles!\n",
    "\n",
    "\\* *the list of exercises is not yet complete! Pull requests or suggestions for additional exercises, corrections and improvements are welcomed.*"
   ]
  },
  {
   "cell_type": "markdown",
   "id": "8e1e7919",
   "metadata": {
    "papermill": {
     "duration": 0.024082,
     "end_time": "2023-03-12T14:05:06.205014",
     "exception": false,
     "start_time": "2023-03-12T14:05:06.180932",
     "status": "completed"
    },
    "tags": []
   },
   "source": [
    "## Importing pandas\n",
    "\n",
    "### Getting started and checking your pandas setup\n",
    "\n",
    "Difficulty: *easy* \n",
    "\n",
    "**1.** Import pandas under the alias `pd`."
   ]
  },
  {
   "cell_type": "code",
   "execution_count": 1,
   "id": "73735cae",
   "metadata": {
    "execution": {
     "iopub.execute_input": "2023-03-12T14:05:06.255117Z",
     "iopub.status.busy": "2023-03-12T14:05:06.254405Z",
     "iopub.status.idle": "2023-03-12T14:05:06.264323Z",
     "shell.execute_reply": "2023-03-12T14:05:06.263039Z"
    },
    "papermill": {
     "duration": 0.037911,
     "end_time": "2023-03-12T14:05:06.266860",
     "exception": false,
     "start_time": "2023-03-12T14:05:06.228949",
     "status": "completed"
    },
    "tags": []
   },
   "outputs": [],
   "source": [
    "import pandas as pd"
   ]
  },
  {
   "cell_type": "markdown",
   "id": "0362b82e",
   "metadata": {
    "papermill": {
     "duration": 0.023594,
     "end_time": "2023-03-12T14:05:06.314944",
     "exception": false,
     "start_time": "2023-03-12T14:05:06.291350",
     "status": "completed"
    },
    "tags": []
   },
   "source": [
    "**2.** Print the version of pandas that has been imported."
   ]
  },
  {
   "cell_type": "code",
   "execution_count": 2,
   "id": "ca93c277",
   "metadata": {
    "execution": {
     "iopub.execute_input": "2023-03-12T14:05:06.365032Z",
     "iopub.status.busy": "2023-03-12T14:05:06.364600Z",
     "iopub.status.idle": "2023-03-12T14:05:06.372289Z",
     "shell.execute_reply": "2023-03-12T14:05:06.371346Z"
    },
    "papermill": {
     "duration": 0.035185,
     "end_time": "2023-03-12T14:05:06.374324",
     "exception": false,
     "start_time": "2023-03-12T14:05:06.339139",
     "status": "completed"
    },
    "tags": []
   },
   "outputs": [
    {
     "data": {
      "text/plain": [
       "'1.3.5'"
      ]
     },
     "execution_count": 2,
     "metadata": {},
     "output_type": "execute_result"
    }
   ],
   "source": [
    "pd.__version__"
   ]
  },
  {
   "cell_type": "markdown",
   "id": "aae52770",
   "metadata": {
    "papermill": {
     "duration": 0.024035,
     "end_time": "2023-03-12T14:05:06.422902",
     "exception": false,
     "start_time": "2023-03-12T14:05:06.398867",
     "status": "completed"
    },
    "tags": []
   },
   "source": [
    "**3.** Print out all the version information of the libraries that are required by the pandas library."
   ]
  },
  {
   "cell_type": "code",
   "execution_count": 3,
   "id": "69107f56",
   "metadata": {
    "execution": {
     "iopub.execute_input": "2023-03-12T14:05:06.474031Z",
     "iopub.status.busy": "2023-03-12T14:05:06.473339Z",
     "iopub.status.idle": "2023-03-12T14:05:10.333022Z",
     "shell.execute_reply": "2023-03-12T14:05:10.331794Z"
    },
    "papermill": {
     "duration": 3.889176,
     "end_time": "2023-03-12T14:05:10.336397",
     "exception": false,
     "start_time": "2023-03-12T14:05:06.447221",
     "status": "completed"
    },
    "tags": []
   },
   "outputs": [
    {
     "name": "stdout",
     "output_type": "stream",
     "text": [
      "\n",
      "INSTALLED VERSIONS\n",
      "------------------\n",
      "commit           : 66e3805b8cabe977f40c05259cc3fcf7ead5687d\n",
      "python           : 3.7.12.final.0\n",
      "python-bits      : 64\n",
      "OS               : Linux\n",
      "OS-release       : 5.15.89+\n",
      "Version          : #1 SMP Wed Mar 8 10:11:54 UTC 2023\n",
      "machine          : x86_64\n",
      "processor        : x86_64\n",
      "byteorder        : little\n",
      "LC_ALL           : C.UTF-8\n",
      "LANG             : C.UTF-8\n",
      "LOCALE           : en_US.UTF-8\n",
      "\n",
      "pandas           : 1.3.5\n",
      "numpy            : 1.21.6\n",
      "pytz             : 2022.7.1\n",
      "dateutil         : 2.8.2\n",
      "pip              : 22.3.1\n",
      "setuptools       : 59.8.0\n",
      "Cython           : 0.29.33\n",
      "pytest           : 7.2.1\n",
      "hypothesis       : None\n",
      "sphinx           : None\n",
      "blosc            : None\n",
      "feather          : 0.4.1\n",
      "xlsxwriter       : None\n",
      "lxml.etree       : 4.9.2\n",
      "html5lib         : 1.1\n",
      "pymysql          : None\n",
      "psycopg2         : None\n",
      "jinja2           : 3.1.2\n",
      "IPython          : 7.34.0\n",
      "pandas_datareader: 0.10.0\n",
      "bs4              : 4.11.1\n",
      "bottleneck       : None\n",
      "fsspec           : 2023.1.0\n",
      "fastparquet      : None\n",
      "gcsfs            : 2023.1.0\n",
      "matplotlib       : 3.5.3\n",
      "numexpr          : 2.8.4\n",
      "odfpy            : None\n",
      "openpyxl         : 3.1.1\n",
      "pandas_gbq       : None\n",
      "pyarrow          : 6.0.1\n",
      "pyxlsb           : None\n",
      "s3fs             : 2023.1.0\n",
      "scipy            : 1.7.3\n",
      "sqlalchemy       : 1.4.46\n",
      "tables           : 3.7.0\n",
      "tabulate         : 0.9.0\n",
      "xarray           : 0.20.2\n",
      "xlrd             : None\n",
      "xlwt             : None\n",
      "numba            : 0.56.4\n"
     ]
    }
   ],
   "source": [
    "pd.show_versions()"
   ]
  },
  {
   "cell_type": "markdown",
   "id": "532c0e3d",
   "metadata": {
    "papermill": {
     "duration": 0.024067,
     "end_time": "2023-03-12T14:05:10.385804",
     "exception": false,
     "start_time": "2023-03-12T14:05:10.361737",
     "status": "completed"
    },
    "tags": []
   },
   "source": [
    "## DataFrame basics\n",
    "\n",
    "### A few of the fundamental routines for selecting, sorting, adding and aggregating data in DataFrames\n",
    "\n",
    "Difficulty: *easy*\n",
    "\n",
    "Note: remember to import numpy using:\n",
    "```python\n",
    "import numpy as np\n",
    "```\n",
    "\n",
    "Consider the following Python dictionary `data` and Python list `labels`:\n",
    "\n",
    "``` python\n",
    "data = {'animal': ['cat', 'cat', 'snake', 'dog', 'dog', 'cat', 'snake', 'cat', 'dog', 'dog'],\n",
    "        'age': [2.5, 3, 0.5, np.nan, 5, 2, 4.5, np.nan, 7, 3],\n",
    "        'visits': [1, 3, 2, 3, 2, 3, 1, 1, 2, 1],\n",
    "        'priority': ['yes', 'yes', 'no', 'yes', 'no', 'no', 'no', 'yes', 'no', 'no']}\n",
    "\n",
    "labels = ['a', 'b', 'c', 'd', 'e', 'f', 'g', 'h', 'i', 'j']\n",
    "```\n",
    "(This is just some meaningless data I made up with the theme of animals and trips to a vet.)\n",
    "\n",
    "**4.** Create a DataFrame `df` from this dictionary `data` which has the index `labels`."
   ]
  },
  {
   "cell_type": "code",
   "execution_count": 4,
   "id": "f918981a",
   "metadata": {
    "execution": {
     "iopub.execute_input": "2023-03-12T14:05:10.436696Z",
     "iopub.status.busy": "2023-03-12T14:05:10.436255Z",
     "iopub.status.idle": "2023-03-12T14:05:10.446548Z",
     "shell.execute_reply": "2023-03-12T14:05:10.445144Z"
    },
    "papermill": {
     "duration": 0.038619,
     "end_time": "2023-03-12T14:05:10.448848",
     "exception": false,
     "start_time": "2023-03-12T14:05:10.410229",
     "status": "completed"
    },
    "tags": []
   },
   "outputs": [],
   "source": [
    "import numpy as np\n",
    "\n",
    "data = {'animal': ['cat', 'cat', 'snake', 'dog', 'dog', 'cat', 'snake', 'cat', 'dog', 'dog'],\n",
    "        'age': [2.5, 3, 0.5, np.nan, 5, 2, 4.5, np.nan, 7, 3],\n",
    "        'visits': [1, 3, 2, 3, 2, 3, 1, 1, 2, 1],\n",
    "        'priority': ['yes', 'yes', 'no', 'yes', 'no', 'no', 'no', 'yes', 'no', 'no']}\n",
    "\n",
    "labels = ['a', 'b', 'c', 'd', 'e', 'f', 'g', 'h', 'i', 'j']\n",
    "\n",
    "df = pd.DataFrame(data, index=labels)"
   ]
  },
  {
   "cell_type": "markdown",
   "id": "c884ac6b",
   "metadata": {
    "papermill": {
     "duration": 0.02401,
     "end_time": "2023-03-12T14:05:10.497278",
     "exception": false,
     "start_time": "2023-03-12T14:05:10.473268",
     "status": "completed"
    },
    "tags": []
   },
   "source": [
    "**5.** Display a summary of the basic information about this DataFrame and its data (*hint: there is a single method that can be called on the DataFrame*)."
   ]
  },
  {
   "cell_type": "code",
   "execution_count": 5,
   "id": "b2403550",
   "metadata": {
    "execution": {
     "iopub.execute_input": "2023-03-12T14:05:10.547394Z",
     "iopub.status.busy": "2023-03-12T14:05:10.547015Z",
     "iopub.status.idle": "2023-03-12T14:05:10.598008Z",
     "shell.execute_reply": "2023-03-12T14:05:10.596433Z"
    },
    "papermill": {
     "duration": 0.079146,
     "end_time": "2023-03-12T14:05:10.600575",
     "exception": false,
     "start_time": "2023-03-12T14:05:10.521429",
     "status": "completed"
    },
    "tags": []
   },
   "outputs": [
    {
     "name": "stdout",
     "output_type": "stream",
     "text": [
      "<class 'pandas.core.frame.DataFrame'>\n",
      "Index: 10 entries, a to j\n",
      "Data columns (total 4 columns):\n",
      " #   Column    Non-Null Count  Dtype  \n",
      "---  ------    --------------  -----  \n",
      " 0   animal    10 non-null     object \n",
      " 1   age       8 non-null      float64\n",
      " 2   visits    10 non-null     int64  \n",
      " 3   priority  10 non-null     object \n",
      "dtypes: float64(1), int64(1), object(2)\n",
      "memory usage: 400.0+ bytes\n"
     ]
    },
    {
     "data": {
      "text/html": [
       "<div>\n",
       "<style scoped>\n",
       "    .dataframe tbody tr th:only-of-type {\n",
       "        vertical-align: middle;\n",
       "    }\n",
       "\n",
       "    .dataframe tbody tr th {\n",
       "        vertical-align: top;\n",
       "    }\n",
       "\n",
       "    .dataframe thead th {\n",
       "        text-align: right;\n",
       "    }\n",
       "</style>\n",
       "<table border=\"1\" class=\"dataframe\">\n",
       "  <thead>\n",
       "    <tr style=\"text-align: right;\">\n",
       "      <th></th>\n",
       "      <th>age</th>\n",
       "      <th>visits</th>\n",
       "    </tr>\n",
       "  </thead>\n",
       "  <tbody>\n",
       "    <tr>\n",
       "      <th>count</th>\n",
       "      <td>8.000000</td>\n",
       "      <td>10.000000</td>\n",
       "    </tr>\n",
       "    <tr>\n",
       "      <th>mean</th>\n",
       "      <td>3.437500</td>\n",
       "      <td>1.900000</td>\n",
       "    </tr>\n",
       "    <tr>\n",
       "      <th>std</th>\n",
       "      <td>2.007797</td>\n",
       "      <td>0.875595</td>\n",
       "    </tr>\n",
       "    <tr>\n",
       "      <th>min</th>\n",
       "      <td>0.500000</td>\n",
       "      <td>1.000000</td>\n",
       "    </tr>\n",
       "    <tr>\n",
       "      <th>25%</th>\n",
       "      <td>2.375000</td>\n",
       "      <td>1.000000</td>\n",
       "    </tr>\n",
       "    <tr>\n",
       "      <th>50%</th>\n",
       "      <td>3.000000</td>\n",
       "      <td>2.000000</td>\n",
       "    </tr>\n",
       "    <tr>\n",
       "      <th>75%</th>\n",
       "      <td>4.625000</td>\n",
       "      <td>2.750000</td>\n",
       "    </tr>\n",
       "    <tr>\n",
       "      <th>max</th>\n",
       "      <td>7.000000</td>\n",
       "      <td>3.000000</td>\n",
       "    </tr>\n",
       "  </tbody>\n",
       "</table>\n",
       "</div>"
      ],
      "text/plain": [
       "            age     visits\n",
       "count  8.000000  10.000000\n",
       "mean   3.437500   1.900000\n",
       "std    2.007797   0.875595\n",
       "min    0.500000   1.000000\n",
       "25%    2.375000   1.000000\n",
       "50%    3.000000   2.000000\n",
       "75%    4.625000   2.750000\n",
       "max    7.000000   3.000000"
      ]
     },
     "execution_count": 5,
     "metadata": {},
     "output_type": "execute_result"
    }
   ],
   "source": [
    "df.info()\n",
    "\n",
    "# ...or...\n",
    "\n",
    "df.describe()"
   ]
  },
  {
   "cell_type": "markdown",
   "id": "2335c523",
   "metadata": {
    "papermill": {
     "duration": 0.024021,
     "end_time": "2023-03-12T14:05:10.649277",
     "exception": false,
     "start_time": "2023-03-12T14:05:10.625256",
     "status": "completed"
    },
    "tags": []
   },
   "source": [
    "**6.** Return the first 3 rows of the DataFrame `df`."
   ]
  },
  {
   "cell_type": "code",
   "execution_count": 6,
   "id": "2b83f651",
   "metadata": {
    "execution": {
     "iopub.execute_input": "2023-03-12T14:05:10.700369Z",
     "iopub.status.busy": "2023-03-12T14:05:10.699924Z",
     "iopub.status.idle": "2023-03-12T14:05:10.712615Z",
     "shell.execute_reply": "2023-03-12T14:05:10.711670Z"
    },
    "papermill": {
     "duration": 0.040654,
     "end_time": "2023-03-12T14:05:10.714622",
     "exception": false,
     "start_time": "2023-03-12T14:05:10.673968",
     "status": "completed"
    },
    "tags": []
   },
   "outputs": [
    {
     "data": {
      "text/html": [
       "<div>\n",
       "<style scoped>\n",
       "    .dataframe tbody tr th:only-of-type {\n",
       "        vertical-align: middle;\n",
       "    }\n",
       "\n",
       "    .dataframe tbody tr th {\n",
       "        vertical-align: top;\n",
       "    }\n",
       "\n",
       "    .dataframe thead th {\n",
       "        text-align: right;\n",
       "    }\n",
       "</style>\n",
       "<table border=\"1\" class=\"dataframe\">\n",
       "  <thead>\n",
       "    <tr style=\"text-align: right;\">\n",
       "      <th></th>\n",
       "      <th>animal</th>\n",
       "      <th>age</th>\n",
       "      <th>visits</th>\n",
       "      <th>priority</th>\n",
       "    </tr>\n",
       "  </thead>\n",
       "  <tbody>\n",
       "    <tr>\n",
       "      <th>a</th>\n",
       "      <td>cat</td>\n",
       "      <td>2.5</td>\n",
       "      <td>1</td>\n",
       "      <td>yes</td>\n",
       "    </tr>\n",
       "    <tr>\n",
       "      <th>b</th>\n",
       "      <td>cat</td>\n",
       "      <td>3.0</td>\n",
       "      <td>3</td>\n",
       "      <td>yes</td>\n",
       "    </tr>\n",
       "    <tr>\n",
       "      <th>c</th>\n",
       "      <td>snake</td>\n",
       "      <td>0.5</td>\n",
       "      <td>2</td>\n",
       "      <td>no</td>\n",
       "    </tr>\n",
       "  </tbody>\n",
       "</table>\n",
       "</div>"
      ],
      "text/plain": [
       "  animal  age  visits priority\n",
       "a    cat  2.5       1      yes\n",
       "b    cat  3.0       3      yes\n",
       "c  snake  0.5       2       no"
      ]
     },
     "execution_count": 6,
     "metadata": {},
     "output_type": "execute_result"
    }
   ],
   "source": [
    "df.iloc[:3]\n",
    "\n",
    "# or equivalently\n",
    "\n",
    "df.head(3)"
   ]
  },
  {
   "cell_type": "markdown",
   "id": "15b05642",
   "metadata": {
    "papermill": {
     "duration": 0.024574,
     "end_time": "2023-03-12T14:05:10.764086",
     "exception": false,
     "start_time": "2023-03-12T14:05:10.739512",
     "status": "completed"
    },
    "tags": []
   },
   "source": [
    "**7.** Select just the 'animal' and 'age' columns from the DataFrame `df`."
   ]
  },
  {
   "cell_type": "code",
   "execution_count": 7,
   "id": "f2c80960",
   "metadata": {
    "execution": {
     "iopub.execute_input": "2023-03-12T14:05:10.816257Z",
     "iopub.status.busy": "2023-03-12T14:05:10.815465Z",
     "iopub.status.idle": "2023-03-12T14:05:10.828350Z",
     "shell.execute_reply": "2023-03-12T14:05:10.827510Z"
    },
    "papermill": {
     "duration": 0.041356,
     "end_time": "2023-03-12T14:05:10.830595",
     "exception": false,
     "start_time": "2023-03-12T14:05:10.789239",
     "status": "completed"
    },
    "tags": []
   },
   "outputs": [
    {
     "data": {
      "text/html": [
       "<div>\n",
       "<style scoped>\n",
       "    .dataframe tbody tr th:only-of-type {\n",
       "        vertical-align: middle;\n",
       "    }\n",
       "\n",
       "    .dataframe tbody tr th {\n",
       "        vertical-align: top;\n",
       "    }\n",
       "\n",
       "    .dataframe thead th {\n",
       "        text-align: right;\n",
       "    }\n",
       "</style>\n",
       "<table border=\"1\" class=\"dataframe\">\n",
       "  <thead>\n",
       "    <tr style=\"text-align: right;\">\n",
       "      <th></th>\n",
       "      <th>animal</th>\n",
       "      <th>age</th>\n",
       "    </tr>\n",
       "  </thead>\n",
       "  <tbody>\n",
       "    <tr>\n",
       "      <th>a</th>\n",
       "      <td>cat</td>\n",
       "      <td>2.5</td>\n",
       "    </tr>\n",
       "    <tr>\n",
       "      <th>b</th>\n",
       "      <td>cat</td>\n",
       "      <td>3.0</td>\n",
       "    </tr>\n",
       "    <tr>\n",
       "      <th>c</th>\n",
       "      <td>snake</td>\n",
       "      <td>0.5</td>\n",
       "    </tr>\n",
       "    <tr>\n",
       "      <th>d</th>\n",
       "      <td>dog</td>\n",
       "      <td>NaN</td>\n",
       "    </tr>\n",
       "    <tr>\n",
       "      <th>e</th>\n",
       "      <td>dog</td>\n",
       "      <td>5.0</td>\n",
       "    </tr>\n",
       "    <tr>\n",
       "      <th>f</th>\n",
       "      <td>cat</td>\n",
       "      <td>2.0</td>\n",
       "    </tr>\n",
       "    <tr>\n",
       "      <th>g</th>\n",
       "      <td>snake</td>\n",
       "      <td>4.5</td>\n",
       "    </tr>\n",
       "    <tr>\n",
       "      <th>h</th>\n",
       "      <td>cat</td>\n",
       "      <td>NaN</td>\n",
       "    </tr>\n",
       "    <tr>\n",
       "      <th>i</th>\n",
       "      <td>dog</td>\n",
       "      <td>7.0</td>\n",
       "    </tr>\n",
       "    <tr>\n",
       "      <th>j</th>\n",
       "      <td>dog</td>\n",
       "      <td>3.0</td>\n",
       "    </tr>\n",
       "  </tbody>\n",
       "</table>\n",
       "</div>"
      ],
      "text/plain": [
       "  animal  age\n",
       "a    cat  2.5\n",
       "b    cat  3.0\n",
       "c  snake  0.5\n",
       "d    dog  NaN\n",
       "e    dog  5.0\n",
       "f    cat  2.0\n",
       "g  snake  4.5\n",
       "h    cat  NaN\n",
       "i    dog  7.0\n",
       "j    dog  3.0"
      ]
     },
     "execution_count": 7,
     "metadata": {},
     "output_type": "execute_result"
    }
   ],
   "source": [
    "df.loc[:, ['animal', 'age']]\n",
    "\n",
    "# or\n",
    "\n",
    "df[['animal', 'age']]"
   ]
  },
  {
   "cell_type": "markdown",
   "id": "8b94cf1b",
   "metadata": {
    "papermill": {
     "duration": 0.025556,
     "end_time": "2023-03-12T14:05:10.882021",
     "exception": false,
     "start_time": "2023-03-12T14:05:10.856465",
     "status": "completed"
    },
    "tags": []
   },
   "source": [
    "**8.** Select the data in rows `[3, 4, 8]` *and* in columns `['animal', 'age']`."
   ]
  },
  {
   "cell_type": "code",
   "execution_count": 8,
   "id": "c182a1a4",
   "metadata": {
    "execution": {
     "iopub.execute_input": "2023-03-12T14:05:10.935604Z",
     "iopub.status.busy": "2023-03-12T14:05:10.934911Z",
     "iopub.status.idle": "2023-03-12T14:05:10.948434Z",
     "shell.execute_reply": "2023-03-12T14:05:10.947184Z"
    },
    "papermill": {
     "duration": 0.042857,
     "end_time": "2023-03-12T14:05:10.950906",
     "exception": false,
     "start_time": "2023-03-12T14:05:10.908049",
     "status": "completed"
    },
    "tags": []
   },
   "outputs": [
    {
     "data": {
      "text/html": [
       "<div>\n",
       "<style scoped>\n",
       "    .dataframe tbody tr th:only-of-type {\n",
       "        vertical-align: middle;\n",
       "    }\n",
       "\n",
       "    .dataframe tbody tr th {\n",
       "        vertical-align: top;\n",
       "    }\n",
       "\n",
       "    .dataframe thead th {\n",
       "        text-align: right;\n",
       "    }\n",
       "</style>\n",
       "<table border=\"1\" class=\"dataframe\">\n",
       "  <thead>\n",
       "    <tr style=\"text-align: right;\">\n",
       "      <th></th>\n",
       "      <th>animal</th>\n",
       "      <th>age</th>\n",
       "    </tr>\n",
       "  </thead>\n",
       "  <tbody>\n",
       "    <tr>\n",
       "      <th>d</th>\n",
       "      <td>dog</td>\n",
       "      <td>NaN</td>\n",
       "    </tr>\n",
       "    <tr>\n",
       "      <th>e</th>\n",
       "      <td>dog</td>\n",
       "      <td>5.0</td>\n",
       "    </tr>\n",
       "    <tr>\n",
       "      <th>i</th>\n",
       "      <td>dog</td>\n",
       "      <td>7.0</td>\n",
       "    </tr>\n",
       "  </tbody>\n",
       "</table>\n",
       "</div>"
      ],
      "text/plain": [
       "  animal  age\n",
       "d    dog  NaN\n",
       "e    dog  5.0\n",
       "i    dog  7.0"
      ]
     },
     "execution_count": 8,
     "metadata": {},
     "output_type": "execute_result"
    }
   ],
   "source": [
    "df.loc[df.index[[3, 4, 8]], ['animal', 'age']]"
   ]
  },
  {
   "cell_type": "markdown",
   "id": "aa437016",
   "metadata": {
    "papermill": {
     "duration": 0.025425,
     "end_time": "2023-03-12T14:05:11.001382",
     "exception": false,
     "start_time": "2023-03-12T14:05:10.975957",
     "status": "completed"
    },
    "tags": []
   },
   "source": [
    "**9.** Select only the rows where the number of visits is greater than 3."
   ]
  },
  {
   "cell_type": "code",
   "execution_count": 9,
   "id": "3802fc36",
   "metadata": {
    "execution": {
     "iopub.execute_input": "2023-03-12T14:05:11.056794Z",
     "iopub.status.busy": "2023-03-12T14:05:11.056090Z",
     "iopub.status.idle": "2023-03-12T14:05:11.068003Z",
     "shell.execute_reply": "2023-03-12T14:05:11.066909Z"
    },
    "papermill": {
     "duration": 0.042685,
     "end_time": "2023-03-12T14:05:11.070213",
     "exception": false,
     "start_time": "2023-03-12T14:05:11.027528",
     "status": "completed"
    },
    "tags": []
   },
   "outputs": [
    {
     "data": {
      "text/html": [
       "<div>\n",
       "<style scoped>\n",
       "    .dataframe tbody tr th:only-of-type {\n",
       "        vertical-align: middle;\n",
       "    }\n",
       "\n",
       "    .dataframe tbody tr th {\n",
       "        vertical-align: top;\n",
       "    }\n",
       "\n",
       "    .dataframe thead th {\n",
       "        text-align: right;\n",
       "    }\n",
       "</style>\n",
       "<table border=\"1\" class=\"dataframe\">\n",
       "  <thead>\n",
       "    <tr style=\"text-align: right;\">\n",
       "      <th></th>\n",
       "      <th>animal</th>\n",
       "      <th>age</th>\n",
       "      <th>visits</th>\n",
       "      <th>priority</th>\n",
       "    </tr>\n",
       "  </thead>\n",
       "  <tbody>\n",
       "  </tbody>\n",
       "</table>\n",
       "</div>"
      ],
      "text/plain": [
       "Empty DataFrame\n",
       "Columns: [animal, age, visits, priority]\n",
       "Index: []"
      ]
     },
     "execution_count": 9,
     "metadata": {},
     "output_type": "execute_result"
    }
   ],
   "source": [
    "df[df['visits'] > 3]"
   ]
  },
  {
   "cell_type": "markdown",
   "id": "bb8dcc63",
   "metadata": {
    "papermill": {
     "duration": 0.025538,
     "end_time": "2023-03-12T14:05:11.121579",
     "exception": false,
     "start_time": "2023-03-12T14:05:11.096041",
     "status": "completed"
    },
    "tags": []
   },
   "source": [
    "**10.** Select the rows where the age is missing, i.e. it is `NaN`."
   ]
  },
  {
   "cell_type": "code",
   "execution_count": 10,
   "id": "ac2c8472",
   "metadata": {
    "execution": {
     "iopub.execute_input": "2023-03-12T14:05:11.176515Z",
     "iopub.status.busy": "2023-03-12T14:05:11.175750Z",
     "iopub.status.idle": "2023-03-12T14:05:11.189114Z",
     "shell.execute_reply": "2023-03-12T14:05:11.187734Z"
    },
    "papermill": {
     "duration": 0.043635,
     "end_time": "2023-03-12T14:05:11.191796",
     "exception": false,
     "start_time": "2023-03-12T14:05:11.148161",
     "status": "completed"
    },
    "tags": []
   },
   "outputs": [
    {
     "data": {
      "text/html": [
       "<div>\n",
       "<style scoped>\n",
       "    .dataframe tbody tr th:only-of-type {\n",
       "        vertical-align: middle;\n",
       "    }\n",
       "\n",
       "    .dataframe tbody tr th {\n",
       "        vertical-align: top;\n",
       "    }\n",
       "\n",
       "    .dataframe thead th {\n",
       "        text-align: right;\n",
       "    }\n",
       "</style>\n",
       "<table border=\"1\" class=\"dataframe\">\n",
       "  <thead>\n",
       "    <tr style=\"text-align: right;\">\n",
       "      <th></th>\n",
       "      <th>animal</th>\n",
       "      <th>age</th>\n",
       "      <th>visits</th>\n",
       "      <th>priority</th>\n",
       "    </tr>\n",
       "  </thead>\n",
       "  <tbody>\n",
       "    <tr>\n",
       "      <th>d</th>\n",
       "      <td>dog</td>\n",
       "      <td>NaN</td>\n",
       "      <td>3</td>\n",
       "      <td>yes</td>\n",
       "    </tr>\n",
       "    <tr>\n",
       "      <th>h</th>\n",
       "      <td>cat</td>\n",
       "      <td>NaN</td>\n",
       "      <td>1</td>\n",
       "      <td>yes</td>\n",
       "    </tr>\n",
       "  </tbody>\n",
       "</table>\n",
       "</div>"
      ],
      "text/plain": [
       "  animal  age  visits priority\n",
       "d    dog  NaN       3      yes\n",
       "h    cat  NaN       1      yes"
      ]
     },
     "execution_count": 10,
     "metadata": {},
     "output_type": "execute_result"
    }
   ],
   "source": [
    "df[df['age'].isnull()]"
   ]
  },
  {
   "cell_type": "markdown",
   "id": "77eeae12",
   "metadata": {
    "papermill": {
     "duration": 0.025991,
     "end_time": "2023-03-12T14:05:11.244095",
     "exception": false,
     "start_time": "2023-03-12T14:05:11.218104",
     "status": "completed"
    },
    "tags": []
   },
   "source": [
    "**11.** Select the rows where the animal is a cat *and* the age is less than 3."
   ]
  },
  {
   "cell_type": "code",
   "execution_count": 11,
   "id": "d0f6fb46",
   "metadata": {
    "execution": {
     "iopub.execute_input": "2023-03-12T14:05:11.297649Z",
     "iopub.status.busy": "2023-03-12T14:05:11.296902Z",
     "iopub.status.idle": "2023-03-12T14:05:11.308900Z",
     "shell.execute_reply": "2023-03-12T14:05:11.307884Z"
    },
    "papermill": {
     "duration": 0.041662,
     "end_time": "2023-03-12T14:05:11.311186",
     "exception": false,
     "start_time": "2023-03-12T14:05:11.269524",
     "status": "completed"
    },
    "tags": []
   },
   "outputs": [
    {
     "data": {
      "text/html": [
       "<div>\n",
       "<style scoped>\n",
       "    .dataframe tbody tr th:only-of-type {\n",
       "        vertical-align: middle;\n",
       "    }\n",
       "\n",
       "    .dataframe tbody tr th {\n",
       "        vertical-align: top;\n",
       "    }\n",
       "\n",
       "    .dataframe thead th {\n",
       "        text-align: right;\n",
       "    }\n",
       "</style>\n",
       "<table border=\"1\" class=\"dataframe\">\n",
       "  <thead>\n",
       "    <tr style=\"text-align: right;\">\n",
       "      <th></th>\n",
       "      <th>animal</th>\n",
       "      <th>age</th>\n",
       "      <th>visits</th>\n",
       "      <th>priority</th>\n",
       "    </tr>\n",
       "  </thead>\n",
       "  <tbody>\n",
       "    <tr>\n",
       "      <th>a</th>\n",
       "      <td>cat</td>\n",
       "      <td>2.5</td>\n",
       "      <td>1</td>\n",
       "      <td>yes</td>\n",
       "    </tr>\n",
       "    <tr>\n",
       "      <th>f</th>\n",
       "      <td>cat</td>\n",
       "      <td>2.0</td>\n",
       "      <td>3</td>\n",
       "      <td>no</td>\n",
       "    </tr>\n",
       "  </tbody>\n",
       "</table>\n",
       "</div>"
      ],
      "text/plain": [
       "  animal  age  visits priority\n",
       "a    cat  2.5       1      yes\n",
       "f    cat  2.0       3       no"
      ]
     },
     "execution_count": 11,
     "metadata": {},
     "output_type": "execute_result"
    }
   ],
   "source": [
    "df[(df['animal'] == 'cat') & (df['age'] < 3)]"
   ]
  },
  {
   "cell_type": "markdown",
   "id": "256675ff",
   "metadata": {
    "papermill": {
     "duration": 0.025577,
     "end_time": "2023-03-12T14:05:11.362820",
     "exception": false,
     "start_time": "2023-03-12T14:05:11.337243",
     "status": "completed"
    },
    "tags": []
   },
   "source": [
    "**12.** Select the rows the age is between 2 and 4 (inclusive)."
   ]
  },
  {
   "cell_type": "code",
   "execution_count": 12,
   "id": "a7280e93",
   "metadata": {
    "execution": {
     "iopub.execute_input": "2023-03-12T14:05:11.416765Z",
     "iopub.status.busy": "2023-03-12T14:05:11.416001Z",
     "iopub.status.idle": "2023-03-12T14:05:11.427926Z",
     "shell.execute_reply": "2023-03-12T14:05:11.427036Z"
    },
    "papermill": {
     "duration": 0.041605,
     "end_time": "2023-03-12T14:05:11.430218",
     "exception": false,
     "start_time": "2023-03-12T14:05:11.388613",
     "status": "completed"
    },
    "tags": []
   },
   "outputs": [
    {
     "data": {
      "text/html": [
       "<div>\n",
       "<style scoped>\n",
       "    .dataframe tbody tr th:only-of-type {\n",
       "        vertical-align: middle;\n",
       "    }\n",
       "\n",
       "    .dataframe tbody tr th {\n",
       "        vertical-align: top;\n",
       "    }\n",
       "\n",
       "    .dataframe thead th {\n",
       "        text-align: right;\n",
       "    }\n",
       "</style>\n",
       "<table border=\"1\" class=\"dataframe\">\n",
       "  <thead>\n",
       "    <tr style=\"text-align: right;\">\n",
       "      <th></th>\n",
       "      <th>animal</th>\n",
       "      <th>age</th>\n",
       "      <th>visits</th>\n",
       "      <th>priority</th>\n",
       "    </tr>\n",
       "  </thead>\n",
       "  <tbody>\n",
       "    <tr>\n",
       "      <th>a</th>\n",
       "      <td>cat</td>\n",
       "      <td>2.5</td>\n",
       "      <td>1</td>\n",
       "      <td>yes</td>\n",
       "    </tr>\n",
       "    <tr>\n",
       "      <th>b</th>\n",
       "      <td>cat</td>\n",
       "      <td>3.0</td>\n",
       "      <td>3</td>\n",
       "      <td>yes</td>\n",
       "    </tr>\n",
       "    <tr>\n",
       "      <th>f</th>\n",
       "      <td>cat</td>\n",
       "      <td>2.0</td>\n",
       "      <td>3</td>\n",
       "      <td>no</td>\n",
       "    </tr>\n",
       "    <tr>\n",
       "      <th>j</th>\n",
       "      <td>dog</td>\n",
       "      <td>3.0</td>\n",
       "      <td>1</td>\n",
       "      <td>no</td>\n",
       "    </tr>\n",
       "  </tbody>\n",
       "</table>\n",
       "</div>"
      ],
      "text/plain": [
       "  animal  age  visits priority\n",
       "a    cat  2.5       1      yes\n",
       "b    cat  3.0       3      yes\n",
       "f    cat  2.0       3       no\n",
       "j    dog  3.0       1       no"
      ]
     },
     "execution_count": 12,
     "metadata": {},
     "output_type": "execute_result"
    }
   ],
   "source": [
    "df[df['age'].between(2, 4)]"
   ]
  },
  {
   "cell_type": "markdown",
   "id": "d493cd0a",
   "metadata": {
    "papermill": {
     "duration": 0.026653,
     "end_time": "2023-03-12T14:05:11.484619",
     "exception": false,
     "start_time": "2023-03-12T14:05:11.457966",
     "status": "completed"
    },
    "tags": []
   },
   "source": [
    "**13.** Change the age in row 'f' to 1.5."
   ]
  },
  {
   "cell_type": "code",
   "execution_count": 13,
   "id": "fef1be3b",
   "metadata": {
    "execution": {
     "iopub.execute_input": "2023-03-12T14:05:11.540507Z",
     "iopub.status.busy": "2023-03-12T14:05:11.539736Z",
     "iopub.status.idle": "2023-03-12T14:05:11.545127Z",
     "shell.execute_reply": "2023-03-12T14:05:11.543961Z"
    },
    "papermill": {
     "duration": 0.03613,
     "end_time": "2023-03-12T14:05:11.547563",
     "exception": false,
     "start_time": "2023-03-12T14:05:11.511433",
     "status": "completed"
    },
    "tags": []
   },
   "outputs": [],
   "source": [
    "df.loc['f', 'age'] = 1.5"
   ]
  },
  {
   "cell_type": "markdown",
   "id": "eb1d6632",
   "metadata": {
    "papermill": {
     "duration": 0.025662,
     "end_time": "2023-03-12T14:05:11.599275",
     "exception": false,
     "start_time": "2023-03-12T14:05:11.573613",
     "status": "completed"
    },
    "tags": []
   },
   "source": [
    "**14.** Calculate the sum of all visits in `df` (i.e. the total number of visits)."
   ]
  },
  {
   "cell_type": "code",
   "execution_count": 14,
   "id": "937f0790",
   "metadata": {
    "execution": {
     "iopub.execute_input": "2023-03-12T14:05:11.652850Z",
     "iopub.status.busy": "2023-03-12T14:05:11.652123Z",
     "iopub.status.idle": "2023-03-12T14:05:11.659776Z",
     "shell.execute_reply": "2023-03-12T14:05:11.658486Z"
    },
    "papermill": {
     "duration": 0.037177,
     "end_time": "2023-03-12T14:05:11.662160",
     "exception": false,
     "start_time": "2023-03-12T14:05:11.624983",
     "status": "completed"
    },
    "tags": []
   },
   "outputs": [
    {
     "data": {
      "text/plain": [
       "19"
      ]
     },
     "execution_count": 14,
     "metadata": {},
     "output_type": "execute_result"
    }
   ],
   "source": [
    "df['visits'].sum()"
   ]
  },
  {
   "cell_type": "markdown",
   "id": "f33a2385",
   "metadata": {
    "papermill": {
     "duration": 0.025854,
     "end_time": "2023-03-12T14:05:11.714064",
     "exception": false,
     "start_time": "2023-03-12T14:05:11.688210",
     "status": "completed"
    },
    "tags": []
   },
   "source": [
    "**15.** Calculate the mean age for each different animal in `df`."
   ]
  },
  {
   "cell_type": "code",
   "execution_count": 15,
   "id": "7786449a",
   "metadata": {
    "execution": {
     "iopub.execute_input": "2023-03-12T14:05:11.768520Z",
     "iopub.status.busy": "2023-03-12T14:05:11.767856Z",
     "iopub.status.idle": "2023-03-12T14:05:11.777329Z",
     "shell.execute_reply": "2023-03-12T14:05:11.776191Z"
    },
    "papermill": {
     "duration": 0.03941,
     "end_time": "2023-03-12T14:05:11.779583",
     "exception": false,
     "start_time": "2023-03-12T14:05:11.740173",
     "status": "completed"
    },
    "tags": []
   },
   "outputs": [
    {
     "data": {
      "text/plain": [
       "animal\n",
       "cat      2.333333\n",
       "dog      5.000000\n",
       "snake    2.500000\n",
       "Name: age, dtype: float64"
      ]
     },
     "execution_count": 15,
     "metadata": {},
     "output_type": "execute_result"
    }
   ],
   "source": [
    "df.groupby('animal')['age'].mean()"
   ]
  },
  {
   "cell_type": "markdown",
   "id": "4f815acf",
   "metadata": {
    "papermill": {
     "duration": 0.025677,
     "end_time": "2023-03-12T14:05:11.831406",
     "exception": false,
     "start_time": "2023-03-12T14:05:11.805729",
     "status": "completed"
    },
    "tags": []
   },
   "source": [
    "**16.** Append a new row 'k' to `df` with your choice of values for each column. Then delete that row to return the original DataFrame."
   ]
  },
  {
   "cell_type": "code",
   "execution_count": 16,
   "id": "adfb0f36",
   "metadata": {
    "execution": {
     "iopub.execute_input": "2023-03-12T14:05:11.887419Z",
     "iopub.status.busy": "2023-03-12T14:05:11.886758Z",
     "iopub.status.idle": "2023-03-12T14:05:11.896497Z",
     "shell.execute_reply": "2023-03-12T14:05:11.895628Z"
    },
    "papermill": {
     "duration": 0.040786,
     "end_time": "2023-03-12T14:05:11.898770",
     "exception": false,
     "start_time": "2023-03-12T14:05:11.857984",
     "status": "completed"
    },
    "tags": []
   },
   "outputs": [],
   "source": [
    "df.loc['k'] = [5.5, 'dog', 'no', 2]\n",
    "\n",
    "# and then deleting the new row...\n",
    "\n",
    "df = df.drop('k')"
   ]
  },
  {
   "cell_type": "markdown",
   "id": "d32b1eb2",
   "metadata": {
    "papermill": {
     "duration": 0.026956,
     "end_time": "2023-03-12T14:05:11.952796",
     "exception": false,
     "start_time": "2023-03-12T14:05:11.925840",
     "status": "completed"
    },
    "tags": []
   },
   "source": [
    "**17.** Count the number of each type of animal in `df`."
   ]
  },
  {
   "cell_type": "code",
   "execution_count": 17,
   "id": "ecdf7d50",
   "metadata": {
    "execution": {
     "iopub.execute_input": "2023-03-12T14:05:12.007191Z",
     "iopub.status.busy": "2023-03-12T14:05:12.006531Z",
     "iopub.status.idle": "2023-03-12T14:05:12.015240Z",
     "shell.execute_reply": "2023-03-12T14:05:12.014144Z"
    },
    "papermill": {
     "duration": 0.03872,
     "end_time": "2023-03-12T14:05:12.017674",
     "exception": false,
     "start_time": "2023-03-12T14:05:11.978954",
     "status": "completed"
    },
    "tags": []
   },
   "outputs": [
    {
     "data": {
      "text/plain": [
       "cat      4\n",
       "dog      4\n",
       "snake    2\n",
       "Name: animal, dtype: int64"
      ]
     },
     "execution_count": 17,
     "metadata": {},
     "output_type": "execute_result"
    }
   ],
   "source": [
    "df['animal'].value_counts()"
   ]
  },
  {
   "cell_type": "markdown",
   "id": "18f5921f",
   "metadata": {
    "papermill": {
     "duration": 0.026287,
     "end_time": "2023-03-12T14:05:12.070863",
     "exception": false,
     "start_time": "2023-03-12T14:05:12.044576",
     "status": "completed"
    },
    "tags": []
   },
   "source": [
    "**18.** Sort `df` first by the values in the 'age' in *decending* order, then by the value in the 'visits' column in *ascending* order (so row `i` should be first, and row `d` should be last)."
   ]
  },
  {
   "cell_type": "code",
   "execution_count": 18,
   "id": "4d7aeb43",
   "metadata": {
    "execution": {
     "iopub.execute_input": "2023-03-12T14:05:12.125991Z",
     "iopub.status.busy": "2023-03-12T14:05:12.125283Z",
     "iopub.status.idle": "2023-03-12T14:05:12.142972Z",
     "shell.execute_reply": "2023-03-12T14:05:12.142073Z"
    },
    "papermill": {
     "duration": 0.047789,
     "end_time": "2023-03-12T14:05:12.145213",
     "exception": false,
     "start_time": "2023-03-12T14:05:12.097424",
     "status": "completed"
    },
    "tags": []
   },
   "outputs": [
    {
     "data": {
      "text/html": [
       "<div>\n",
       "<style scoped>\n",
       "    .dataframe tbody tr th:only-of-type {\n",
       "        vertical-align: middle;\n",
       "    }\n",
       "\n",
       "    .dataframe tbody tr th {\n",
       "        vertical-align: top;\n",
       "    }\n",
       "\n",
       "    .dataframe thead th {\n",
       "        text-align: right;\n",
       "    }\n",
       "</style>\n",
       "<table border=\"1\" class=\"dataframe\">\n",
       "  <thead>\n",
       "    <tr style=\"text-align: right;\">\n",
       "      <th></th>\n",
       "      <th>animal</th>\n",
       "      <th>age</th>\n",
       "      <th>visits</th>\n",
       "      <th>priority</th>\n",
       "    </tr>\n",
       "  </thead>\n",
       "  <tbody>\n",
       "    <tr>\n",
       "      <th>i</th>\n",
       "      <td>dog</td>\n",
       "      <td>7.0</td>\n",
       "      <td>2</td>\n",
       "      <td>no</td>\n",
       "    </tr>\n",
       "    <tr>\n",
       "      <th>e</th>\n",
       "      <td>dog</td>\n",
       "      <td>5.0</td>\n",
       "      <td>2</td>\n",
       "      <td>no</td>\n",
       "    </tr>\n",
       "    <tr>\n",
       "      <th>g</th>\n",
       "      <td>snake</td>\n",
       "      <td>4.5</td>\n",
       "      <td>1</td>\n",
       "      <td>no</td>\n",
       "    </tr>\n",
       "    <tr>\n",
       "      <th>j</th>\n",
       "      <td>dog</td>\n",
       "      <td>3.0</td>\n",
       "      <td>1</td>\n",
       "      <td>no</td>\n",
       "    </tr>\n",
       "    <tr>\n",
       "      <th>b</th>\n",
       "      <td>cat</td>\n",
       "      <td>3.0</td>\n",
       "      <td>3</td>\n",
       "      <td>yes</td>\n",
       "    </tr>\n",
       "    <tr>\n",
       "      <th>a</th>\n",
       "      <td>cat</td>\n",
       "      <td>2.5</td>\n",
       "      <td>1</td>\n",
       "      <td>yes</td>\n",
       "    </tr>\n",
       "    <tr>\n",
       "      <th>f</th>\n",
       "      <td>cat</td>\n",
       "      <td>1.5</td>\n",
       "      <td>3</td>\n",
       "      <td>no</td>\n",
       "    </tr>\n",
       "    <tr>\n",
       "      <th>c</th>\n",
       "      <td>snake</td>\n",
       "      <td>0.5</td>\n",
       "      <td>2</td>\n",
       "      <td>no</td>\n",
       "    </tr>\n",
       "    <tr>\n",
       "      <th>h</th>\n",
       "      <td>cat</td>\n",
       "      <td>NaN</td>\n",
       "      <td>1</td>\n",
       "      <td>yes</td>\n",
       "    </tr>\n",
       "    <tr>\n",
       "      <th>d</th>\n",
       "      <td>dog</td>\n",
       "      <td>NaN</td>\n",
       "      <td>3</td>\n",
       "      <td>yes</td>\n",
       "    </tr>\n",
       "  </tbody>\n",
       "</table>\n",
       "</div>"
      ],
      "text/plain": [
       "  animal  age visits priority\n",
       "i    dog  7.0      2       no\n",
       "e    dog  5.0      2       no\n",
       "g  snake  4.5      1       no\n",
       "j    dog  3.0      1       no\n",
       "b    cat  3.0      3      yes\n",
       "a    cat  2.5      1      yes\n",
       "f    cat  1.5      3       no\n",
       "c  snake  0.5      2       no\n",
       "h    cat  NaN      1      yes\n",
       "d    dog  NaN      3      yes"
      ]
     },
     "execution_count": 18,
     "metadata": {},
     "output_type": "execute_result"
    }
   ],
   "source": [
    "df.sort_values(by=['age', 'visits'], ascending=[False, True])"
   ]
  },
  {
   "cell_type": "markdown",
   "id": "493d06d1",
   "metadata": {
    "papermill": {
     "duration": 0.026864,
     "end_time": "2023-03-12T14:05:12.198990",
     "exception": false,
     "start_time": "2023-03-12T14:05:12.172126",
     "status": "completed"
    },
    "tags": []
   },
   "source": [
    "**19.** The 'priority' column contains the values 'yes' and 'no'. Replace this column with a column of boolean values: 'yes' should be `True` and 'no' should be `False`."
   ]
  },
  {
   "cell_type": "code",
   "execution_count": 19,
   "id": "e4c27af8",
   "metadata": {
    "execution": {
     "iopub.execute_input": "2023-03-12T14:05:12.254913Z",
     "iopub.status.busy": "2023-03-12T14:05:12.253773Z",
     "iopub.status.idle": "2023-03-12T14:05:12.261078Z",
     "shell.execute_reply": "2023-03-12T14:05:12.259795Z"
    },
    "papermill": {
     "duration": 0.038169,
     "end_time": "2023-03-12T14:05:12.263838",
     "exception": false,
     "start_time": "2023-03-12T14:05:12.225669",
     "status": "completed"
    },
    "tags": []
   },
   "outputs": [],
   "source": [
    "df['priority'] = df['priority'].map({'yes': True, 'no': False})"
   ]
  },
  {
   "cell_type": "markdown",
   "id": "b48265e8",
   "metadata": {
    "papermill": {
     "duration": 0.026694,
     "end_time": "2023-03-12T14:05:12.317577",
     "exception": false,
     "start_time": "2023-03-12T14:05:12.290883",
     "status": "completed"
    },
    "tags": []
   },
   "source": [
    "**20.** In the 'animal' column, change the 'snake' entries to 'python'."
   ]
  },
  {
   "cell_type": "code",
   "execution_count": 20,
   "id": "e0ff11b9",
   "metadata": {
    "execution": {
     "iopub.execute_input": "2023-03-12T14:05:12.373423Z",
     "iopub.status.busy": "2023-03-12T14:05:12.373007Z",
     "iopub.status.idle": "2023-03-12T14:05:12.379163Z",
     "shell.execute_reply": "2023-03-12T14:05:12.377968Z"
    },
    "papermill": {
     "duration": 0.036811,
     "end_time": "2023-03-12T14:05:12.381543",
     "exception": false,
     "start_time": "2023-03-12T14:05:12.344732",
     "status": "completed"
    },
    "tags": []
   },
   "outputs": [],
   "source": [
    "df['animal'] = df['animal'].replace('snake', 'python')"
   ]
  },
  {
   "cell_type": "markdown",
   "id": "30fc8977",
   "metadata": {
    "papermill": {
     "duration": 0.027769,
     "end_time": "2023-03-12T14:05:12.437375",
     "exception": false,
     "start_time": "2023-03-12T14:05:12.409606",
     "status": "completed"
    },
    "tags": []
   },
   "source": [
    "**21.** For each animal type and each number of visits, find the mean age. In other words, each row is an animal, each column is a number of visits and the values are the mean ages (*hint: use a pivot table*)."
   ]
  },
  {
   "cell_type": "code",
   "execution_count": 21,
   "id": "1bbef4eb",
   "metadata": {
    "execution": {
     "iopub.execute_input": "2023-03-12T14:05:12.493562Z",
     "iopub.status.busy": "2023-03-12T14:05:12.493062Z",
     "iopub.status.idle": "2023-03-12T14:05:12.522548Z",
     "shell.execute_reply": "2023-03-12T14:05:12.521332Z"
    },
    "papermill": {
     "duration": 0.060401,
     "end_time": "2023-03-12T14:05:12.525025",
     "exception": false,
     "start_time": "2023-03-12T14:05:12.464624",
     "status": "completed"
    },
    "tags": []
   },
   "outputs": [
    {
     "data": {
      "text/html": [
       "<div>\n",
       "<style scoped>\n",
       "    .dataframe tbody tr th:only-of-type {\n",
       "        vertical-align: middle;\n",
       "    }\n",
       "\n",
       "    .dataframe tbody tr th {\n",
       "        vertical-align: top;\n",
       "    }\n",
       "\n",
       "    .dataframe thead th {\n",
       "        text-align: right;\n",
       "    }\n",
       "</style>\n",
       "<table border=\"1\" class=\"dataframe\">\n",
       "  <thead>\n",
       "    <tr style=\"text-align: right;\">\n",
       "      <th>visits</th>\n",
       "      <th>1</th>\n",
       "      <th>2</th>\n",
       "      <th>3</th>\n",
       "    </tr>\n",
       "    <tr>\n",
       "      <th>animal</th>\n",
       "      <th></th>\n",
       "      <th></th>\n",
       "      <th></th>\n",
       "    </tr>\n",
       "  </thead>\n",
       "  <tbody>\n",
       "    <tr>\n",
       "      <th>cat</th>\n",
       "      <td>2.5</td>\n",
       "      <td>NaN</td>\n",
       "      <td>2.25</td>\n",
       "    </tr>\n",
       "    <tr>\n",
       "      <th>dog</th>\n",
       "      <td>3.0</td>\n",
       "      <td>6.0</td>\n",
       "      <td>NaN</td>\n",
       "    </tr>\n",
       "    <tr>\n",
       "      <th>python</th>\n",
       "      <td>4.5</td>\n",
       "      <td>0.5</td>\n",
       "      <td>NaN</td>\n",
       "    </tr>\n",
       "  </tbody>\n",
       "</table>\n",
       "</div>"
      ],
      "text/plain": [
       "visits    1    2     3\n",
       "animal                \n",
       "cat     2.5  NaN  2.25\n",
       "dog     3.0  6.0   NaN\n",
       "python  4.5  0.5   NaN"
      ]
     },
     "execution_count": 21,
     "metadata": {},
     "output_type": "execute_result"
    }
   ],
   "source": [
    "df.pivot_table(index='animal', columns='visits', values='age', aggfunc='mean')"
   ]
  },
  {
   "cell_type": "markdown",
   "id": "ede561c7",
   "metadata": {
    "papermill": {
     "duration": 0.026407,
     "end_time": "2023-03-12T14:05:12.579296",
     "exception": false,
     "start_time": "2023-03-12T14:05:12.552889",
     "status": "completed"
    },
    "tags": []
   },
   "source": [
    "## DataFrames: beyond the basics\n",
    "\n",
    "### Slightly trickier: you may need to combine two or more methods to get the right answer\n",
    "\n",
    "Difficulty: *medium*\n",
    "\n",
    "The previous section was tour through some basic but essential DataFrame operations. Below are some ways that you might need to cut your data, but for which there is no single \"out of the box\" method."
   ]
  },
  {
   "cell_type": "markdown",
   "id": "09952c55",
   "metadata": {
    "papermill": {
     "duration": 0.026378,
     "end_time": "2023-03-12T14:05:12.632285",
     "exception": false,
     "start_time": "2023-03-12T14:05:12.605907",
     "status": "completed"
    },
    "tags": []
   },
   "source": [
    "**22.** You have a DataFrame `df` with a column 'A' of integers. For example:\n",
    "```python\n",
    "df = pd.DataFrame({'A': [1, 2, 2, 3, 4, 5, 5, 5, 6, 7, 7]})\n",
    "```\n",
    "\n",
    "How do you filter out rows which contain the same integer as the row immediately above?\n",
    "\n",
    "You should be left with a column containing the following values:\n",
    "\n",
    "```python\n",
    "1, 2, 3, 4, 5, 6, 7\n",
    "```"
   ]
  },
  {
   "cell_type": "code",
   "execution_count": 22,
   "id": "66f047f3",
   "metadata": {
    "execution": {
     "iopub.execute_input": "2023-03-12T14:05:12.687611Z",
     "iopub.status.busy": "2023-03-12T14:05:12.687156Z",
     "iopub.status.idle": "2023-03-12T14:05:12.700886Z",
     "shell.execute_reply": "2023-03-12T14:05:12.699923Z"
    },
    "papermill": {
     "duration": 0.044039,
     "end_time": "2023-03-12T14:05:12.703092",
     "exception": false,
     "start_time": "2023-03-12T14:05:12.659053",
     "status": "completed"
    },
    "tags": []
   },
   "outputs": [
    {
     "data": {
      "text/html": [
       "<div>\n",
       "<style scoped>\n",
       "    .dataframe tbody tr th:only-of-type {\n",
       "        vertical-align: middle;\n",
       "    }\n",
       "\n",
       "    .dataframe tbody tr th {\n",
       "        vertical-align: top;\n",
       "    }\n",
       "\n",
       "    .dataframe thead th {\n",
       "        text-align: right;\n",
       "    }\n",
       "</style>\n",
       "<table border=\"1\" class=\"dataframe\">\n",
       "  <thead>\n",
       "    <tr style=\"text-align: right;\">\n",
       "      <th></th>\n",
       "      <th>A</th>\n",
       "    </tr>\n",
       "  </thead>\n",
       "  <tbody>\n",
       "    <tr>\n",
       "      <th>0</th>\n",
       "      <td>1</td>\n",
       "    </tr>\n",
       "    <tr>\n",
       "      <th>1</th>\n",
       "      <td>2</td>\n",
       "    </tr>\n",
       "    <tr>\n",
       "      <th>3</th>\n",
       "      <td>3</td>\n",
       "    </tr>\n",
       "    <tr>\n",
       "      <th>4</th>\n",
       "      <td>4</td>\n",
       "    </tr>\n",
       "    <tr>\n",
       "      <th>5</th>\n",
       "      <td>5</td>\n",
       "    </tr>\n",
       "    <tr>\n",
       "      <th>8</th>\n",
       "      <td>6</td>\n",
       "    </tr>\n",
       "    <tr>\n",
       "      <th>9</th>\n",
       "      <td>7</td>\n",
       "    </tr>\n",
       "  </tbody>\n",
       "</table>\n",
       "</div>"
      ],
      "text/plain": [
       "   A\n",
       "0  1\n",
       "1  2\n",
       "3  3\n",
       "4  4\n",
       "5  5\n",
       "8  6\n",
       "9  7"
      ]
     },
     "execution_count": 22,
     "metadata": {},
     "output_type": "execute_result"
    }
   ],
   "source": [
    "df = pd.DataFrame({'A': [1, 2, 2, 3, 4, 5, 5, 5, 6, 7, 7]})\n",
    "\n",
    "df.loc[df['A'].shift() != df['A']]\n",
    "\n",
    "# Alternatively, we could use drop_duplicates() here. Note\n",
    "# that this removes *all* duplicates though, so it won't\n",
    "# work as desired if A is [1, 1, 2, 2, 1, 1] for example.\n",
    "\n",
    "df.drop_duplicates(subset='A')"
   ]
  },
  {
   "cell_type": "markdown",
   "id": "dc9e8465",
   "metadata": {
    "papermill": {
     "duration": 0.02848,
     "end_time": "2023-03-12T14:05:12.759577",
     "exception": false,
     "start_time": "2023-03-12T14:05:12.731097",
     "status": "completed"
    },
    "tags": []
   },
   "source": [
    "**23.** Given a DataFrame of random numeric values:\n",
    "```python\n",
    "df = pd.DataFrame(np.random.random(size=(5, 3))) # this is a 5x3 DataFrame of float values\n",
    "```\n",
    "\n",
    "how do you subtract the row mean from each element in the row?"
   ]
  },
  {
   "cell_type": "code",
   "execution_count": 23,
   "id": "d526daf2",
   "metadata": {
    "execution": {
     "iopub.execute_input": "2023-03-12T14:05:12.816191Z",
     "iopub.status.busy": "2023-03-12T14:05:12.815471Z",
     "iopub.status.idle": "2023-03-12T14:05:12.828741Z",
     "shell.execute_reply": "2023-03-12T14:05:12.827498Z"
    },
    "papermill": {
     "duration": 0.044845,
     "end_time": "2023-03-12T14:05:12.831499",
     "exception": false,
     "start_time": "2023-03-12T14:05:12.786654",
     "status": "completed"
    },
    "tags": []
   },
   "outputs": [
    {
     "data": {
      "text/html": [
       "<div>\n",
       "<style scoped>\n",
       "    .dataframe tbody tr th:only-of-type {\n",
       "        vertical-align: middle;\n",
       "    }\n",
       "\n",
       "    .dataframe tbody tr th {\n",
       "        vertical-align: top;\n",
       "    }\n",
       "\n",
       "    .dataframe thead th {\n",
       "        text-align: right;\n",
       "    }\n",
       "</style>\n",
       "<table border=\"1\" class=\"dataframe\">\n",
       "  <thead>\n",
       "    <tr style=\"text-align: right;\">\n",
       "      <th></th>\n",
       "      <th>0</th>\n",
       "      <th>1</th>\n",
       "      <th>2</th>\n",
       "    </tr>\n",
       "  </thead>\n",
       "  <tbody>\n",
       "    <tr>\n",
       "      <th>0</th>\n",
       "      <td>-0.098120</td>\n",
       "      <td>0.165460</td>\n",
       "      <td>-0.067340</td>\n",
       "    </tr>\n",
       "    <tr>\n",
       "      <th>1</th>\n",
       "      <td>-0.125965</td>\n",
       "      <td>0.153540</td>\n",
       "      <td>-0.027575</td>\n",
       "    </tr>\n",
       "    <tr>\n",
       "      <th>2</th>\n",
       "      <td>-0.065308</td>\n",
       "      <td>0.060668</td>\n",
       "      <td>0.004640</td>\n",
       "    </tr>\n",
       "    <tr>\n",
       "      <th>3</th>\n",
       "      <td>0.093987</td>\n",
       "      <td>0.009617</td>\n",
       "      <td>-0.103603</td>\n",
       "    </tr>\n",
       "    <tr>\n",
       "      <th>4</th>\n",
       "      <td>-0.250089</td>\n",
       "      <td>0.212265</td>\n",
       "      <td>0.037824</td>\n",
       "    </tr>\n",
       "  </tbody>\n",
       "</table>\n",
       "</div>"
      ],
      "text/plain": [
       "          0         1         2\n",
       "0 -0.098120  0.165460 -0.067340\n",
       "1 -0.125965  0.153540 -0.027575\n",
       "2 -0.065308  0.060668  0.004640\n",
       "3  0.093987  0.009617 -0.103603\n",
       "4 -0.250089  0.212265  0.037824"
      ]
     },
     "execution_count": 23,
     "metadata": {},
     "output_type": "execute_result"
    }
   ],
   "source": [
    "df = pd.DataFrame(np.random.random(size=(5, 3)))\n",
    "\n",
    "df.sub(df.mean(axis=1), axis=0)"
   ]
  },
  {
   "cell_type": "markdown",
   "id": "04b9bf29",
   "metadata": {
    "papermill": {
     "duration": 0.026817,
     "end_time": "2023-03-12T14:05:12.885852",
     "exception": false,
     "start_time": "2023-03-12T14:05:12.859035",
     "status": "completed"
    },
    "tags": []
   },
   "source": [
    "**24.** Suppose you have DataFrame with 10 columns of real numbers, for example:\n",
    "\n",
    "```python\n",
    "df = pd.DataFrame(np.random.random(size=(5, 10)), columns=list('abcdefghij'))\n",
    "```\n",
    "Which column of numbers has the smallest sum? Return that column's label."
   ]
  },
  {
   "cell_type": "code",
   "execution_count": 24,
   "id": "c38523bd",
   "metadata": {
    "execution": {
     "iopub.execute_input": "2023-03-12T14:05:12.942774Z",
     "iopub.status.busy": "2023-03-12T14:05:12.942108Z",
     "iopub.status.idle": "2023-03-12T14:05:12.950057Z",
     "shell.execute_reply": "2023-03-12T14:05:12.949131Z"
    },
    "papermill": {
     "duration": 0.039058,
     "end_time": "2023-03-12T14:05:12.952305",
     "exception": false,
     "start_time": "2023-03-12T14:05:12.913247",
     "status": "completed"
    },
    "tags": []
   },
   "outputs": [
    {
     "data": {
      "text/plain": [
       "'c'"
      ]
     },
     "execution_count": 24,
     "metadata": {},
     "output_type": "execute_result"
    }
   ],
   "source": [
    "df = pd.DataFrame(np.random.random(size=(5, 10)), columns=list('abcdefghij'))\n",
    "\n",
    "df.sum().idxmin()"
   ]
  },
  {
   "cell_type": "markdown",
   "id": "b30f1c8d",
   "metadata": {
    "papermill": {
     "duration": 0.028285,
     "end_time": "2023-03-12T14:05:13.008279",
     "exception": false,
     "start_time": "2023-03-12T14:05:12.979994",
     "status": "completed"
    },
    "tags": []
   },
   "source": [
    "**25.** How do you count how many unique rows a DataFrame has (i.e. ignore all rows that are duplicates)?"
   ]
  },
  {
   "cell_type": "code",
   "execution_count": 25,
   "id": "39275bd4",
   "metadata": {
    "execution": {
     "iopub.execute_input": "2023-03-12T14:05:13.065665Z",
     "iopub.status.busy": "2023-03-12T14:05:13.065218Z",
     "iopub.status.idle": "2023-03-12T14:05:13.078395Z",
     "shell.execute_reply": "2023-03-12T14:05:13.077185Z"
    },
    "papermill": {
     "duration": 0.045236,
     "end_time": "2023-03-12T14:05:13.080911",
     "exception": false,
     "start_time": "2023-03-12T14:05:13.035675",
     "status": "completed"
    },
    "tags": []
   },
   "outputs": [
    {
     "data": {
      "text/plain": [
       "5"
      ]
     },
     "execution_count": 25,
     "metadata": {},
     "output_type": "execute_result"
    }
   ],
   "source": [
    "df = pd.DataFrame(np.random.randint(0, 2, size=(10, 3)))\n",
    "\n",
    "len(df) - df.duplicated(keep=False).sum()\n",
    "\n",
    "# or perhaps more simply...\n",
    "\n",
    "len(df.drop_duplicates(keep=False))"
   ]
  },
  {
   "cell_type": "markdown",
   "id": "73003c31",
   "metadata": {
    "papermill": {
     "duration": 0.028187,
     "end_time": "2023-03-12T14:05:13.137297",
     "exception": false,
     "start_time": "2023-03-12T14:05:13.109110",
     "status": "completed"
    },
    "tags": []
   },
   "source": [
    "The next three puzzles are slightly harder.\n",
    "\n",
    "**26.** In the cell below, you have a DataFrame `df` that consists of 10 columns of floating-point numbers. Exactly 5 entries in each row are NaN values. \n",
    "\n",
    "For each row of the DataFrame, find the *column* which contains the *third* NaN value.\n",
    "\n",
    "You should return a Series of column labels: `e, c, d, h, d`"
   ]
  },
  {
   "cell_type": "code",
   "execution_count": 26,
   "id": "6b3ef327",
   "metadata": {
    "execution": {
     "iopub.execute_input": "2023-03-12T14:05:13.195682Z",
     "iopub.status.busy": "2023-03-12T14:05:13.194564Z",
     "iopub.status.idle": "2023-03-12T14:05:13.210439Z",
     "shell.execute_reply": "2023-03-12T14:05:13.208989Z"
    },
    "papermill": {
     "duration": 0.047877,
     "end_time": "2023-03-12T14:05:13.213078",
     "exception": false,
     "start_time": "2023-03-12T14:05:13.165201",
     "status": "completed"
    },
    "tags": []
   },
   "outputs": [
    {
     "data": {
      "text/plain": [
       "0    e\n",
       "1    c\n",
       "2    d\n",
       "3    h\n",
       "4    d\n",
       "dtype: object"
      ]
     },
     "execution_count": 26,
     "metadata": {},
     "output_type": "execute_result"
    }
   ],
   "source": [
    "nan = np.nan\n",
    "\n",
    "data = [[0.04,  nan,  nan, 0.25,  nan, 0.43, 0.71, 0.51,  nan,  nan],\n",
    "        [ nan,  nan,  nan, 0.04, 0.76,  nan,  nan, 0.67, 0.76, 0.16],\n",
    "        [ nan,  nan, 0.5 ,  nan, 0.31, 0.4 ,  nan,  nan, 0.24, 0.01],\n",
    "        [0.49,  nan,  nan, 0.62, 0.73, 0.26, 0.85,  nan,  nan,  nan],\n",
    "        [ nan,  nan, 0.41,  nan, 0.05,  nan, 0.61,  nan, 0.48, 0.68]]\n",
    "\n",
    "columns = list('abcdefghij')\n",
    "\n",
    "df = pd.DataFrame(data, columns=columns)\n",
    "\n",
    "\n",
    "(df.isnull().cumsum(axis=1) == 3).idxmax(axis=1)"
   ]
  },
  {
   "cell_type": "markdown",
   "id": "eb5e5cfc",
   "metadata": {
    "papermill": {
     "duration": 0.028435,
     "end_time": "2023-03-12T14:05:13.270660",
     "exception": false,
     "start_time": "2023-03-12T14:05:13.242225",
     "status": "completed"
    },
    "tags": []
   },
   "source": [
    "**27.** A DataFrame has a column of groups 'grps' and and column of integer values 'vals': \n",
    "\n",
    "```python\n",
    "df = pd.DataFrame({'grps': list('aaabbcaabcccbbc'), \n",
    "                   'vals': [12,345,3,1,45,14,4,52,54,23,235,21,57,3,87]})\n",
    "```\n",
    "For each *group*, find the sum of the three greatest values.  You should end up with the answer as follows:\n",
    "```\n",
    "grps\n",
    "a    409\n",
    "b    156\n",
    "c    345\n",
    "```"
   ]
  },
  {
   "cell_type": "code",
   "execution_count": 27,
   "id": "1b7f6c60",
   "metadata": {
    "execution": {
     "iopub.execute_input": "2023-03-12T14:05:13.329467Z",
     "iopub.status.busy": "2023-03-12T14:05:13.329040Z",
     "iopub.status.idle": "2023-03-12T14:05:13.351070Z",
     "shell.execute_reply": "2023-03-12T14:05:13.349640Z"
    },
    "papermill": {
     "duration": 0.053676,
     "end_time": "2023-03-12T14:05:13.353361",
     "exception": false,
     "start_time": "2023-03-12T14:05:13.299685",
     "status": "completed"
    },
    "tags": []
   },
   "outputs": [
    {
     "name": "stderr",
     "output_type": "stream",
     "text": [
      "/opt/conda/lib/python3.7/site-packages/ipykernel_launcher.py:4: FutureWarning: Using the level keyword in DataFrame and Series aggregations is deprecated and will be removed in a future version. Use groupby instead. df.sum(level=1) should use df.groupby(level=1).sum().\n",
      "  after removing the cwd from sys.path.\n"
     ]
    },
    {
     "data": {
      "text/plain": [
       "grps\n",
       "a    409\n",
       "b    156\n",
       "c    345\n",
       "Name: vals, dtype: int64"
      ]
     },
     "execution_count": 27,
     "metadata": {},
     "output_type": "execute_result"
    }
   ],
   "source": [
    "df = pd.DataFrame({'grps': list('aaabbcaabcccbbc'), \n",
    "                   'vals': [12,345,3,1,45,14,4,52,54,23,235,21,57,3,87]})\n",
    "\n",
    "df.groupby('grps')['vals'].nlargest(3).sum(level=0)"
   ]
  },
  {
   "cell_type": "markdown",
   "id": "dce52a24",
   "metadata": {
    "papermill": {
     "duration": 0.027542,
     "end_time": "2023-03-12T14:05:13.409299",
     "exception": false,
     "start_time": "2023-03-12T14:05:13.381757",
     "status": "completed"
    },
    "tags": []
   },
   "source": [
    "**28.** The DataFrame `df` constructed below has two integer columns 'A' and 'B'. The values in 'A' are between 1 and 100 (inclusive). \n",
    "\n",
    "For each group of 10 consecutive integers in 'A' (i.e. `(0, 10]`, `(10, 20]`, ...), calculate the sum of the corresponding values in column 'B'.\n",
    "\n",
    "The answer should be a Series as follows:\n",
    "\n",
    "```\n",
    "A\n",
    "(0, 10]      635\n",
    "(10, 20]     360\n",
    "(20, 30]     315\n",
    "(30, 40]     306\n",
    "(40, 50]     750\n",
    "(50, 60]     284\n",
    "(60, 70]     424\n",
    "(70, 80]     526\n",
    "(80, 90]     835\n",
    "(90, 100]    852\n",
    "```"
   ]
  },
  {
   "cell_type": "code",
   "execution_count": 28,
   "id": "3667098b",
   "metadata": {
    "execution": {
     "iopub.execute_input": "2023-03-12T14:05:13.467050Z",
     "iopub.status.busy": "2023-03-12T14:05:13.466356Z",
     "iopub.status.idle": "2023-03-12T14:05:13.491862Z",
     "shell.execute_reply": "2023-03-12T14:05:13.490533Z"
    },
    "papermill": {
     "duration": 0.057284,
     "end_time": "2023-03-12T14:05:13.494260",
     "exception": false,
     "start_time": "2023-03-12T14:05:13.436976",
     "status": "completed"
    },
    "tags": []
   },
   "outputs": [
    {
     "data": {
      "text/plain": [
       "A\n",
       "(0, 10]      635\n",
       "(10, 20]     360\n",
       "(20, 30]     315\n",
       "(30, 40]     306\n",
       "(40, 50]     750\n",
       "(50, 60]     284\n",
       "(60, 70]     424\n",
       "(70, 80]     526\n",
       "(80, 90]     835\n",
       "(90, 100]    852\n",
       "Name: B, dtype: int64"
      ]
     },
     "execution_count": 28,
     "metadata": {},
     "output_type": "execute_result"
    }
   ],
   "source": [
    "df = pd.DataFrame(np.random.RandomState(8765).randint(1, 101, size=(100, 2)), columns = [\"A\", \"B\"])\n",
    "\n",
    "df.groupby(pd.cut(df['A'], np.arange(0, 101, 10)))['B'].sum()"
   ]
  },
  {
   "cell_type": "markdown",
   "id": "568e993f",
   "metadata": {
    "papermill": {
     "duration": 0.028481,
     "end_time": "2023-03-12T14:05:13.551274",
     "exception": false,
     "start_time": "2023-03-12T14:05:13.522793",
     "status": "completed"
    },
    "tags": []
   },
   "source": [
    "## DataFrames: harder problems \n",
    "\n",
    "### These might require a bit of thinking outside the box...\n",
    "\n",
    "...but all are solvable using just the usual pandas/NumPy methods (and so avoid using explicit `for` loops).\n",
    "\n",
    "Difficulty: *hard*"
   ]
  },
  {
   "cell_type": "markdown",
   "id": "ca49fd47",
   "metadata": {
    "papermill": {
     "duration": 0.027492,
     "end_time": "2023-03-12T14:05:13.606752",
     "exception": false,
     "start_time": "2023-03-12T14:05:13.579260",
     "status": "completed"
    },
    "tags": []
   },
   "source": [
    "**29.** Consider a DataFrame `df` where there is an integer column 'X':\n",
    "```python\n",
    "df = pd.DataFrame({'X': [7, 2, 0, 3, 4, 2, 5, 0, 3, 4]})\n",
    "```\n",
    "For each value, count the difference back to the previous zero (or the start of the Series, whichever is closer). These values should therefore be \n",
    "\n",
    "```\n",
    "[1, 2, 0, 1, 2, 3, 4, 0, 1, 2]\n",
    "```\n",
    "\n",
    "Make this a new column 'Y'."
   ]
  },
  {
   "cell_type": "code",
   "execution_count": 29,
   "id": "3adbcc9f",
   "metadata": {
    "execution": {
     "iopub.execute_input": "2023-03-12T14:05:13.665360Z",
     "iopub.status.busy": "2023-03-12T14:05:13.664656Z",
     "iopub.status.idle": "2023-03-12T14:05:13.672988Z",
     "shell.execute_reply": "2023-03-12T14:05:13.671929Z"
    },
    "papermill": {
     "duration": 0.040595,
     "end_time": "2023-03-12T14:05:13.675581",
     "exception": false,
     "start_time": "2023-03-12T14:05:13.634986",
     "status": "completed"
    },
    "tags": []
   },
   "outputs": [],
   "source": [
    "df = pd.DataFrame({'X': [7, 2, 0, 3, 4, 2, 5, 0, 3, 4]})\n",
    "\n",
    "izero = np.r_[-1, (df == 0).values.nonzero()[0]]  # indices of zeros\n",
    "idx = np.arange(len(df))\n",
    "y = df['X'] != 0\n",
    "df['Y'] = idx - izero[np.searchsorted(izero - 1, idx) - 1]\n",
    "\n",
    "# http://stackoverflow.com/questions/30730981/how-to-count-distance-to-the-previous-zero-in-pandas-series/\n",
    "# credit: Behzad Nouri"
   ]
  },
  {
   "cell_type": "markdown",
   "id": "2b4e6d57",
   "metadata": {
    "papermill": {
     "duration": 0.027528,
     "end_time": "2023-03-12T14:05:13.731208",
     "exception": false,
     "start_time": "2023-03-12T14:05:13.703680",
     "status": "completed"
    },
    "tags": []
   },
   "source": [
    "Here's an alternative approach based on a [cookbook recipe](http://pandas.pydata.org/pandas-docs/stable/cookbook.html#grouping):"
   ]
  },
  {
   "cell_type": "code",
   "execution_count": 30,
   "id": "288f357b",
   "metadata": {
    "execution": {
     "iopub.execute_input": "2023-03-12T14:05:13.789590Z",
     "iopub.status.busy": "2023-03-12T14:05:13.788339Z",
     "iopub.status.idle": "2023-03-12T14:05:13.800553Z",
     "shell.execute_reply": "2023-03-12T14:05:13.799252Z"
    },
    "papermill": {
     "duration": 0.044158,
     "end_time": "2023-03-12T14:05:13.803420",
     "exception": false,
     "start_time": "2023-03-12T14:05:13.759262",
     "status": "completed"
    },
    "tags": []
   },
   "outputs": [],
   "source": [
    "df = pd.DataFrame({'X': [7, 2, 0, 3, 4, 2, 5, 0, 3, 4]})\n",
    "\n",
    "x = (df['X'] != 0).cumsum()\n",
    "y = x != x.shift()\n",
    "df['Y'] = y.groupby((y != y.shift()).cumsum()).cumsum()"
   ]
  },
  {
   "cell_type": "markdown",
   "id": "69596361",
   "metadata": {
    "papermill": {
     "duration": 0.027803,
     "end_time": "2023-03-12T14:05:13.859437",
     "exception": false,
     "start_time": "2023-03-12T14:05:13.831634",
     "status": "completed"
    },
    "tags": []
   },
   "source": [
    "And another approach using a groupby operation:"
   ]
  },
  {
   "cell_type": "code",
   "execution_count": 31,
   "id": "06dc6b7f",
   "metadata": {
    "execution": {
     "iopub.execute_input": "2023-03-12T14:05:13.917708Z",
     "iopub.status.busy": "2023-03-12T14:05:13.917294Z",
     "iopub.status.idle": "2023-03-12T14:05:13.928284Z",
     "shell.execute_reply": "2023-03-12T14:05:13.926998Z"
    },
    "papermill": {
     "duration": 0.043325,
     "end_time": "2023-03-12T14:05:13.930796",
     "exception": false,
     "start_time": "2023-03-12T14:05:13.887471",
     "status": "completed"
    },
    "tags": []
   },
   "outputs": [],
   "source": [
    "df = pd.DataFrame({'X': [7, 2, 0, 3, 4, 2, 5, 0, 3, 4]})\n",
    "\n",
    "df['Y'] = df.groupby((df['X'] == 0).cumsum()).cumcount()\n",
    "\n",
    "# We're off by one before we reach the first zero.\n",
    "first_zero_idx = (df['X'] == 0).idxmax()\n",
    "df['Y'].iloc[0:first_zero_idx] += 1"
   ]
  },
  {
   "cell_type": "markdown",
   "id": "53bcdf9e",
   "metadata": {
    "papermill": {
     "duration": 0.028404,
     "end_time": "2023-03-12T14:05:13.988443",
     "exception": false,
     "start_time": "2023-03-12T14:05:13.960039",
     "status": "completed"
    },
    "tags": []
   },
   "source": [
    "**30.** Consider the DataFrame constructed below which contains rows and columns of numerical data. \n",
    "\n",
    "Create a list of the column-row index locations of the 3 largest values in this DataFrame. In this case, the answer should be:\n",
    "```\n",
    "[(5, 7), (6, 4), (2, 5)]\n",
    "```"
   ]
  },
  {
   "cell_type": "code",
   "execution_count": 32,
   "id": "dee61cf8",
   "metadata": {
    "execution": {
     "iopub.execute_input": "2023-03-12T14:05:14.048199Z",
     "iopub.status.busy": "2023-03-12T14:05:14.047081Z",
     "iopub.status.idle": "2023-03-12T14:05:14.057341Z",
     "shell.execute_reply": "2023-03-12T14:05:14.056211Z"
    },
    "papermill": {
     "duration": 0.043483,
     "end_time": "2023-03-12T14:05:14.059715",
     "exception": false,
     "start_time": "2023-03-12T14:05:14.016232",
     "status": "completed"
    },
    "tags": []
   },
   "outputs": [
    {
     "data": {
      "text/plain": [
       "[(5, 7), (6, 4), (2, 5)]"
      ]
     },
     "execution_count": 32,
     "metadata": {},
     "output_type": "execute_result"
    }
   ],
   "source": [
    "df = pd.DataFrame(np.random.RandomState(30).randint(1, 101, size=(8, 8)))\n",
    "\n",
    "df.unstack().sort_values()[-3:].index.tolist()\n",
    "\n",
    "# http://stackoverflow.com/questions/14941261/index-and-column-for-the-max-value-in-pandas-dataframe/\n",
    "# credit: DSM"
   ]
  },
  {
   "cell_type": "markdown",
   "id": "326448e1",
   "metadata": {
    "papermill": {
     "duration": 0.028253,
     "end_time": "2023-03-12T14:05:14.116375",
     "exception": false,
     "start_time": "2023-03-12T14:05:14.088122",
     "status": "completed"
    },
    "tags": []
   },
   "source": [
    "**31.** You are given the DataFrame below with a column of group IDs, 'grps', and a column of corresponding integer values, 'vals'.\n",
    "\n",
    "```python\n",
    "df = pd.DataFrame({\"vals\": np.random.RandomState(31).randint(-30, 30, size=15), \n",
    "                   \"grps\": np.random.RandomState(31).choice([\"A\", \"B\"], 15)})\n",
    "```\n",
    "\n",
    "Create a new column 'patched_values' which contains the same values as the 'vals' any negative values in 'vals' with the group mean:\n",
    "\n",
    "```\n",
    "    vals grps  patched_vals\n",
    "0    -12    A          13.6\n",
    "1     -7    B          28.0\n",
    "2    -14    A          13.6\n",
    "3      4    A           4.0\n",
    "4     -7    A          13.6\n",
    "5     28    B          28.0\n",
    "6     -2    A          13.6\n",
    "7     -1    A          13.6\n",
    "8      8    A           8.0\n",
    "9     -2    B          28.0\n",
    "10    28    A          28.0\n",
    "11    12    A          12.0\n",
    "12    16    A          16.0\n",
    "13   -24    A          13.6\n",
    "14   -12    A          13.6\n",
    "```"
   ]
  },
  {
   "cell_type": "code",
   "execution_count": 33,
   "id": "b455a178",
   "metadata": {
    "execution": {
     "iopub.execute_input": "2023-03-12T14:05:14.175079Z",
     "iopub.status.busy": "2023-03-12T14:05:14.173933Z",
     "iopub.status.idle": "2023-03-12T14:05:14.191491Z",
     "shell.execute_reply": "2023-03-12T14:05:14.190337Z"
    },
    "papermill": {
     "duration": 0.048937,
     "end_time": "2023-03-12T14:05:14.193780",
     "exception": false,
     "start_time": "2023-03-12T14:05:14.144843",
     "status": "completed"
    },
    "tags": []
   },
   "outputs": [
    {
     "data": {
      "text/plain": [
       "0     13.6\n",
       "1     28.0\n",
       "2     13.6\n",
       "3      4.0\n",
       "4     13.6\n",
       "5     28.0\n",
       "6     13.6\n",
       "7     13.6\n",
       "8      8.0\n",
       "9     28.0\n",
       "10    28.0\n",
       "11    12.0\n",
       "12    16.0\n",
       "13    13.6\n",
       "14    13.6\n",
       "Name: vals, dtype: float64"
      ]
     },
     "execution_count": 33,
     "metadata": {},
     "output_type": "execute_result"
    }
   ],
   "source": [
    "df = pd.DataFrame({\"vals\": np.random.RandomState(31).randint(-30, 30, size=15), \n",
    "                   \"grps\": np.random.RandomState(31).choice([\"A\", \"B\"], 15)})\n",
    "\n",
    "def replace(group):\n",
    "    mask = group<0\n",
    "    group[mask] = group[~mask].mean()\n",
    "    return group\n",
    "\n",
    "df.groupby(['grps'])['vals'].transform(replace)\n",
    "\n",
    "# http://stackoverflow.com/questions/14760757/replacing-values-with-groupby-means/\n",
    "# credit: unutbu"
   ]
  },
  {
   "cell_type": "markdown",
   "id": "7f6ca6e5",
   "metadata": {
    "papermill": {
     "duration": 0.02742,
     "end_time": "2023-03-12T14:05:14.249211",
     "exception": false,
     "start_time": "2023-03-12T14:05:14.221791",
     "status": "completed"
    },
    "tags": []
   },
   "source": [
    "**32.** Implement a rolling mean over groups with window size 3, which ignores NaN value. For example consider the following DataFrame:\n",
    "\n",
    "```python\n",
    ">>> df = pd.DataFrame({'group': list('aabbabbbabab'),\n",
    "                       'value': [1, 2, 3, np.nan, 2, 3, np.nan, 1, 7, 3, np.nan, 8]})\n",
    ">>> df\n",
    "   group  value\n",
    "0      a    1.0\n",
    "1      a    2.0\n",
    "2      b    3.0\n",
    "3      b    NaN\n",
    "4      a    2.0\n",
    "5      b    3.0\n",
    "6      b    NaN\n",
    "7      b    1.0\n",
    "8      a    7.0\n",
    "9      b    3.0\n",
    "10     a    NaN\n",
    "11     b    8.0\n",
    "```\n",
    "The goal is to compute the Series:\n",
    "\n",
    "```\n",
    "0     1.000000\n",
    "1     1.500000\n",
    "2     3.000000\n",
    "3     3.000000\n",
    "4     1.666667\n",
    "5     3.000000\n",
    "6     3.000000\n",
    "7     2.000000\n",
    "8     3.666667\n",
    "9     2.000000\n",
    "10    4.500000\n",
    "11    4.000000\n",
    "```\n",
    "E.g. the first window of size three for group 'b' has values 3.0, NaN and 3.0 and occurs at row index 5. Instead of being NaN the value in the new column at this row index should be 3.0 (just the two non-NaN values are used to compute the mean (3+3)/2)"
   ]
  },
  {
   "cell_type": "code",
   "execution_count": 34,
   "id": "c5cd554b",
   "metadata": {
    "execution": {
     "iopub.execute_input": "2023-03-12T14:05:14.306931Z",
     "iopub.status.busy": "2023-03-12T14:05:14.306503Z",
     "iopub.status.idle": "2023-03-12T14:05:14.327352Z",
     "shell.execute_reply": "2023-03-12T14:05:14.326126Z"
    },
    "papermill": {
     "duration": 0.05269,
     "end_time": "2023-03-12T14:05:14.329727",
     "exception": false,
     "start_time": "2023-03-12T14:05:14.277037",
     "status": "completed"
    },
    "tags": []
   },
   "outputs": [
    {
     "data": {
      "text/plain": [
       "0     1.000000\n",
       "1     1.500000\n",
       "2     3.000000\n",
       "3     3.000000\n",
       "4     1.666667\n",
       "5     3.000000\n",
       "6     3.000000\n",
       "7     2.000000\n",
       "8     3.666667\n",
       "9     2.000000\n",
       "10    4.500000\n",
       "11    4.000000\n",
       "Name: value, dtype: float64"
      ]
     },
     "execution_count": 34,
     "metadata": {},
     "output_type": "execute_result"
    }
   ],
   "source": [
    "df = pd.DataFrame({'group': list('aabbabbbabab'),\n",
    "                   'value': [1, 2, 3, np.nan, 2, 3, np.nan, 1, 7, 3, np.nan, 8]})\n",
    "\n",
    "g1 = df.groupby(['group'])['value']              # group values  \n",
    "g2 = df.fillna(0).groupby(['group'])['value']    # fillna, then group values\n",
    "\n",
    "s = g2.rolling(3, min_periods=1).sum() / g1.rolling(3, min_periods=1).count() # compute means\n",
    "\n",
    "s.reset_index(level=0, drop=True).sort_index()  # drop/sort index\n",
    "\n",
    "# http://stackoverflow.com/questions/36988123/pandas-groupby-and-rolling-apply-ignoring-nans/"
   ]
  },
  {
   "cell_type": "markdown",
   "id": "45edf1c4",
   "metadata": {
    "papermill": {
     "duration": 0.027731,
     "end_time": "2023-03-12T14:05:14.385590",
     "exception": false,
     "start_time": "2023-03-12T14:05:14.357859",
     "status": "completed"
    },
    "tags": []
   },
   "source": [
    "## Series and DatetimeIndex\n",
    "\n",
    "### Exercises for creating and manipulating Series with datetime data\n",
    "\n",
    "Difficulty: *easy/medium*\n",
    "\n",
    "pandas is fantastic for working with dates and times. These puzzles explore some of this functionality.\n"
   ]
  },
  {
   "cell_type": "markdown",
   "id": "dd01553a",
   "metadata": {
    "papermill": {
     "duration": 0.027985,
     "end_time": "2023-03-12T14:05:14.441854",
     "exception": false,
     "start_time": "2023-03-12T14:05:14.413869",
     "status": "completed"
    },
    "tags": []
   },
   "source": [
    "**33.** Create a DatetimeIndex that contains each business day of 2015 and use it to index a Series of random numbers. Let's call this Series `s`."
   ]
  },
  {
   "cell_type": "code",
   "execution_count": 35,
   "id": "ac1226ea",
   "metadata": {
    "execution": {
     "iopub.execute_input": "2023-03-12T14:05:14.500905Z",
     "iopub.status.busy": "2023-03-12T14:05:14.500172Z",
     "iopub.status.idle": "2023-03-12T14:05:14.525315Z",
     "shell.execute_reply": "2023-03-12T14:05:14.524065Z"
    },
    "papermill": {
     "duration": 0.057709,
     "end_time": "2023-03-12T14:05:14.527961",
     "exception": false,
     "start_time": "2023-03-12T14:05:14.470252",
     "status": "completed"
    },
    "tags": []
   },
   "outputs": [
    {
     "data": {
      "text/plain": [
       "2015-01-01    0.406703\n",
       "2015-01-02    0.770024\n",
       "2015-01-05    0.100588\n",
       "2015-01-06    0.402442\n",
       "2015-01-07    0.501118\n",
       "                ...   \n",
       "2015-12-25    0.355555\n",
       "2015-12-28    0.650591\n",
       "2015-12-29    0.651487\n",
       "2015-12-30    0.849592\n",
       "2015-12-31    0.847242\n",
       "Freq: B, Length: 261, dtype: float64"
      ]
     },
     "execution_count": 35,
     "metadata": {},
     "output_type": "execute_result"
    }
   ],
   "source": [
    "dti = pd.date_range(start='2015-01-01', end='2015-12-31', freq='B') \n",
    "s = pd.Series(np.random.rand(len(dti)), index=dti)\n",
    "s"
   ]
  },
  {
   "cell_type": "markdown",
   "id": "c1a732f0",
   "metadata": {
    "papermill": {
     "duration": 0.029339,
     "end_time": "2023-03-12T14:05:14.586885",
     "exception": false,
     "start_time": "2023-03-12T14:05:14.557546",
     "status": "completed"
    },
    "tags": []
   },
   "source": [
    "**34.** Find the sum of the values in `s` for every Wednesday."
   ]
  },
  {
   "cell_type": "code",
   "execution_count": 36,
   "id": "b1ea2efa",
   "metadata": {
    "execution": {
     "iopub.execute_input": "2023-03-12T14:05:14.649875Z",
     "iopub.status.busy": "2023-03-12T14:05:14.648748Z",
     "iopub.status.idle": "2023-03-12T14:05:14.657751Z",
     "shell.execute_reply": "2023-03-12T14:05:14.656534Z"
    },
    "papermill": {
     "duration": 0.042927,
     "end_time": "2023-03-12T14:05:14.660049",
     "exception": false,
     "start_time": "2023-03-12T14:05:14.617122",
     "status": "completed"
    },
    "tags": []
   },
   "outputs": [
    {
     "data": {
      "text/plain": [
       "28.398662434207132"
      ]
     },
     "execution_count": 36,
     "metadata": {},
     "output_type": "execute_result"
    }
   ],
   "source": [
    "s[s.index.weekday == 2].sum() "
   ]
  },
  {
   "cell_type": "markdown",
   "id": "32ae995b",
   "metadata": {
    "papermill": {
     "duration": 0.028035,
     "end_time": "2023-03-12T14:05:14.717109",
     "exception": false,
     "start_time": "2023-03-12T14:05:14.689074",
     "status": "completed"
    },
    "tags": []
   },
   "source": [
    "**35.** For each calendar month in `s`, find the mean of values."
   ]
  },
  {
   "cell_type": "code",
   "execution_count": 37,
   "id": "72db1bcf",
   "metadata": {
    "execution": {
     "iopub.execute_input": "2023-03-12T14:05:14.775452Z",
     "iopub.status.busy": "2023-03-12T14:05:14.775039Z",
     "iopub.status.idle": "2023-03-12T14:05:14.801549Z",
     "shell.execute_reply": "2023-03-12T14:05:14.800153Z"
    },
    "papermill": {
     "duration": 0.058813,
     "end_time": "2023-03-12T14:05:14.804032",
     "exception": false,
     "start_time": "2023-03-12T14:05:14.745219",
     "status": "completed"
    },
    "tags": []
   },
   "outputs": [
    {
     "data": {
      "text/plain": [
       "2015-01-31    0.432912\n",
       "2015-02-28    0.413503\n",
       "2015-03-31    0.508761\n",
       "2015-04-30    0.587969\n",
       "2015-05-31    0.555625\n",
       "2015-06-30    0.473319\n",
       "2015-07-31    0.494079\n",
       "2015-08-31    0.654970\n",
       "2015-09-30    0.536911\n",
       "2015-10-31    0.510631\n",
       "2015-11-30    0.460889\n",
       "2015-12-31    0.513159\n",
       "Freq: M, dtype: float64"
      ]
     },
     "execution_count": 37,
     "metadata": {},
     "output_type": "execute_result"
    }
   ],
   "source": [
    "s.resample('M').mean()"
   ]
  },
  {
   "cell_type": "markdown",
   "id": "55574e9a",
   "metadata": {
    "papermill": {
     "duration": 0.028264,
     "end_time": "2023-03-12T14:05:14.861453",
     "exception": false,
     "start_time": "2023-03-12T14:05:14.833189",
     "status": "completed"
    },
    "tags": []
   },
   "source": [
    "**36.** For each group of four consecutive calendar months in `s`, find the date on which the highest value occurred."
   ]
  },
  {
   "cell_type": "code",
   "execution_count": 38,
   "id": "fa56bf16",
   "metadata": {
    "execution": {
     "iopub.execute_input": "2023-03-12T14:05:14.920347Z",
     "iopub.status.busy": "2023-03-12T14:05:14.919905Z",
     "iopub.status.idle": "2023-03-12T14:05:14.932862Z",
     "shell.execute_reply": "2023-03-12T14:05:14.931776Z"
    },
    "papermill": {
     "duration": 0.045266,
     "end_time": "2023-03-12T14:05:14.935268",
     "exception": false,
     "start_time": "2023-03-12T14:05:14.890002",
     "status": "completed"
    },
    "tags": []
   },
   "outputs": [
    {
     "data": {
      "text/plain": [
       "2015-01-31   2015-01-15\n",
       "2015-05-31   2015-03-16\n",
       "2015-09-30   2015-07-23\n",
       "2016-01-31   2015-10-14\n",
       "Freq: 4M, dtype: datetime64[ns]"
      ]
     },
     "execution_count": 38,
     "metadata": {},
     "output_type": "execute_result"
    }
   ],
   "source": [
    "s.groupby(pd.Grouper(freq='4M')).idxmax()"
   ]
  },
  {
   "cell_type": "markdown",
   "id": "c8408de3",
   "metadata": {
    "papermill": {
     "duration": 0.028799,
     "end_time": "2023-03-12T14:05:14.993497",
     "exception": false,
     "start_time": "2023-03-12T14:05:14.964698",
     "status": "completed"
    },
    "tags": []
   },
   "source": [
    "**37.** Create a DateTimeIndex consisting of the third Thursday in each month for the years 2015 and 2016."
   ]
  },
  {
   "cell_type": "code",
   "execution_count": 39,
   "id": "574e65f5",
   "metadata": {
    "execution": {
     "iopub.execute_input": "2023-03-12T14:05:15.057305Z",
     "iopub.status.busy": "2023-03-12T14:05:15.056909Z",
     "iopub.status.idle": "2023-03-12T14:05:15.066120Z",
     "shell.execute_reply": "2023-03-12T14:05:15.064936Z"
    },
    "papermill": {
     "duration": 0.046282,
     "end_time": "2023-03-12T14:05:15.068718",
     "exception": false,
     "start_time": "2023-03-12T14:05:15.022436",
     "status": "completed"
    },
    "tags": []
   },
   "outputs": [
    {
     "data": {
      "text/plain": [
       "DatetimeIndex(['2015-01-15', '2015-02-19', '2015-03-19', '2015-04-16',\n",
       "               '2015-05-21', '2015-06-18', '2015-07-16', '2015-08-20',\n",
       "               '2015-09-17', '2015-10-15', '2015-11-19', '2015-12-17',\n",
       "               '2016-01-21', '2016-02-18', '2016-03-17', '2016-04-21',\n",
       "               '2016-05-19', '2016-06-16', '2016-07-21', '2016-08-18',\n",
       "               '2016-09-15', '2016-10-20', '2016-11-17', '2016-12-15'],\n",
       "              dtype='datetime64[ns]', freq='WOM-3THU')"
      ]
     },
     "execution_count": 39,
     "metadata": {},
     "output_type": "execute_result"
    }
   ],
   "source": [
    "pd.date_range('2015-01-01', '2016-12-31', freq='WOM-3THU')"
   ]
  },
  {
   "cell_type": "markdown",
   "id": "9464aef0",
   "metadata": {
    "papermill": {
     "duration": 0.029351,
     "end_time": "2023-03-12T14:05:15.126756",
     "exception": false,
     "start_time": "2023-03-12T14:05:15.097405",
     "status": "completed"
    },
    "tags": []
   },
   "source": [
    "## Cleaning Data\n",
    "\n",
    "### Making a DataFrame easier to work with\n",
    "\n",
    "Difficulty: *easy/medium*\n",
    "\n",
    "It happens all the time: someone gives you data containing malformed strings, Python, lists and missing data. How do you tidy it up so you can get on with the analysis?\n",
    "\n",
    "Take this monstrosity as the DataFrame to use in the following puzzles:\n",
    "\n",
    "```python\n",
    "df = pd.DataFrame({'From_To': ['LoNDon_paris', 'MAdrid_miLAN', 'londON_StockhOlm', \n",
    "                               'Budapest_PaRis', 'Brussels_londOn'],\n",
    "              'FlightNumber': [10045, np.nan, 10065, np.nan, 10085],\n",
    "              'RecentDelays': [[23, 47], [], [24, 43, 87], [13], [67, 32]],\n",
    "                   'Airline': ['KLM(!)', '<Air France> (12)', '(British Airways. )', \n",
    "                               '12. Air France', '\"Swiss Air\"']})\n",
    "```\n",
    "\n",
    "Formatted, it looks like this:\n",
    "\n",
    "```\n",
    "            From_To  FlightNumber  RecentDelays              Airline\n",
    "0      LoNDon_paris       10045.0      [23, 47]               KLM(!)\n",
    "1      MAdrid_miLAN           NaN            []    <Air France> (12)\n",
    "2  londON_StockhOlm       10065.0  [24, 43, 87]  (British Airways. )\n",
    "3    Budapest_PaRis           NaN          [13]       12. Air France\n",
    "4   Brussels_londOn       10085.0      [67, 32]          \"Swiss Air\"\n",
    "```\n",
    "\n",
    "(It's some flight data I made up; it's not meant to be accurate in any way.)\n"
   ]
  },
  {
   "cell_type": "markdown",
   "id": "2bb506b4",
   "metadata": {
    "papermill": {
     "duration": 0.028269,
     "end_time": "2023-03-12T14:05:15.184512",
     "exception": false,
     "start_time": "2023-03-12T14:05:15.156243",
     "status": "completed"
    },
    "tags": []
   },
   "source": [
    "**38.** Some values in the the **FlightNumber** column are missing (they are `NaN`). These numbers are meant to increase by 10 with each row so 10055 and 10075 need to be put in place. Modify `df` to fill in these missing numbers and make the column an integer column (instead of a float column)."
   ]
  },
  {
   "cell_type": "code",
   "execution_count": 40,
   "id": "bcb15ffa",
   "metadata": {
    "execution": {
     "iopub.execute_input": "2023-03-12T14:05:15.243524Z",
     "iopub.status.busy": "2023-03-12T14:05:15.243105Z",
     "iopub.status.idle": "2023-03-12T14:05:15.261531Z",
     "shell.execute_reply": "2023-03-12T14:05:15.260419Z"
    },
    "papermill": {
     "duration": 0.050755,
     "end_time": "2023-03-12T14:05:15.263740",
     "exception": false,
     "start_time": "2023-03-12T14:05:15.212985",
     "status": "completed"
    },
    "tags": []
   },
   "outputs": [
    {
     "data": {
      "text/html": [
       "<div>\n",
       "<style scoped>\n",
       "    .dataframe tbody tr th:only-of-type {\n",
       "        vertical-align: middle;\n",
       "    }\n",
       "\n",
       "    .dataframe tbody tr th {\n",
       "        vertical-align: top;\n",
       "    }\n",
       "\n",
       "    .dataframe thead th {\n",
       "        text-align: right;\n",
       "    }\n",
       "</style>\n",
       "<table border=\"1\" class=\"dataframe\">\n",
       "  <thead>\n",
       "    <tr style=\"text-align: right;\">\n",
       "      <th></th>\n",
       "      <th>From_To</th>\n",
       "      <th>FlightNumber</th>\n",
       "      <th>RecentDelays</th>\n",
       "      <th>Airline</th>\n",
       "    </tr>\n",
       "  </thead>\n",
       "  <tbody>\n",
       "    <tr>\n",
       "      <th>0</th>\n",
       "      <td>LoNDon_paris</td>\n",
       "      <td>10045</td>\n",
       "      <td>[23, 47]</td>\n",
       "      <td>KLM(!)</td>\n",
       "    </tr>\n",
       "    <tr>\n",
       "      <th>1</th>\n",
       "      <td>MAdrid_miLAN</td>\n",
       "      <td>10055</td>\n",
       "      <td>[]</td>\n",
       "      <td>&lt;Air France&gt; (12)</td>\n",
       "    </tr>\n",
       "    <tr>\n",
       "      <th>2</th>\n",
       "      <td>londON_StockhOlm</td>\n",
       "      <td>10065</td>\n",
       "      <td>[24, 43, 87]</td>\n",
       "      <td>(British Airways. )</td>\n",
       "    </tr>\n",
       "    <tr>\n",
       "      <th>3</th>\n",
       "      <td>Budapest_PaRis</td>\n",
       "      <td>10075</td>\n",
       "      <td>[13]</td>\n",
       "      <td>12. Air France</td>\n",
       "    </tr>\n",
       "    <tr>\n",
       "      <th>4</th>\n",
       "      <td>Brussels_londOn</td>\n",
       "      <td>10085</td>\n",
       "      <td>[67, 32]</td>\n",
       "      <td>\"Swiss Air\"</td>\n",
       "    </tr>\n",
       "  </tbody>\n",
       "</table>\n",
       "</div>"
      ],
      "text/plain": [
       "            From_To  FlightNumber  RecentDelays              Airline\n",
       "0      LoNDon_paris         10045      [23, 47]               KLM(!)\n",
       "1      MAdrid_miLAN         10055            []    <Air France> (12)\n",
       "2  londON_StockhOlm         10065  [24, 43, 87]  (British Airways. )\n",
       "3    Budapest_PaRis         10075          [13]       12. Air France\n",
       "4   Brussels_londOn         10085      [67, 32]          \"Swiss Air\""
      ]
     },
     "execution_count": 40,
     "metadata": {},
     "output_type": "execute_result"
    }
   ],
   "source": [
    "df = pd.DataFrame({'From_To': ['LoNDon_paris', 'MAdrid_miLAN', 'londON_StockhOlm', \n",
    "                               'Budapest_PaRis', 'Brussels_londOn'],\n",
    "              'FlightNumber': [10045, np.nan, 10065, np.nan, 10085],\n",
    "              'RecentDelays': [[23, 47], [], [24, 43, 87], [13], [67, 32]],\n",
    "                   'Airline': ['KLM(!)', '<Air France> (12)', '(British Airways. )', \n",
    "                               '12. Air France', '\"Swiss Air\"']})\n",
    "\n",
    "df['FlightNumber'] = df['FlightNumber'].interpolate().astype(int)\n",
    "df"
   ]
  },
  {
   "cell_type": "markdown",
   "id": "597f0314",
   "metadata": {
    "papermill": {
     "duration": 0.028735,
     "end_time": "2023-03-12T14:05:15.321498",
     "exception": false,
     "start_time": "2023-03-12T14:05:15.292763",
     "status": "completed"
    },
    "tags": []
   },
   "source": [
    "**39.** The **From\\_To** column would be better as two separate columns! Split each string on the underscore delimiter `_` to give a new temporary DataFrame called 'temp' with the correct values. Assign the correct column names 'From' and 'To' to this temporary DataFrame. "
   ]
  },
  {
   "cell_type": "code",
   "execution_count": 41,
   "id": "ed03ca3c",
   "metadata": {
    "execution": {
     "iopub.execute_input": "2023-03-12T14:05:15.381109Z",
     "iopub.status.busy": "2023-03-12T14:05:15.380664Z",
     "iopub.status.idle": "2023-03-12T14:05:15.393499Z",
     "shell.execute_reply": "2023-03-12T14:05:15.392253Z"
    },
    "papermill": {
     "duration": 0.045806,
     "end_time": "2023-03-12T14:05:15.396180",
     "exception": false,
     "start_time": "2023-03-12T14:05:15.350374",
     "status": "completed"
    },
    "tags": []
   },
   "outputs": [
    {
     "data": {
      "text/html": [
       "<div>\n",
       "<style scoped>\n",
       "    .dataframe tbody tr th:only-of-type {\n",
       "        vertical-align: middle;\n",
       "    }\n",
       "\n",
       "    .dataframe tbody tr th {\n",
       "        vertical-align: top;\n",
       "    }\n",
       "\n",
       "    .dataframe thead th {\n",
       "        text-align: right;\n",
       "    }\n",
       "</style>\n",
       "<table border=\"1\" class=\"dataframe\">\n",
       "  <thead>\n",
       "    <tr style=\"text-align: right;\">\n",
       "      <th></th>\n",
       "      <th>From</th>\n",
       "      <th>To</th>\n",
       "    </tr>\n",
       "  </thead>\n",
       "  <tbody>\n",
       "    <tr>\n",
       "      <th>0</th>\n",
       "      <td>LoNDon</td>\n",
       "      <td>paris</td>\n",
       "    </tr>\n",
       "    <tr>\n",
       "      <th>1</th>\n",
       "      <td>MAdrid</td>\n",
       "      <td>miLAN</td>\n",
       "    </tr>\n",
       "    <tr>\n",
       "      <th>2</th>\n",
       "      <td>londON</td>\n",
       "      <td>StockhOlm</td>\n",
       "    </tr>\n",
       "    <tr>\n",
       "      <th>3</th>\n",
       "      <td>Budapest</td>\n",
       "      <td>PaRis</td>\n",
       "    </tr>\n",
       "    <tr>\n",
       "      <th>4</th>\n",
       "      <td>Brussels</td>\n",
       "      <td>londOn</td>\n",
       "    </tr>\n",
       "  </tbody>\n",
       "</table>\n",
       "</div>"
      ],
      "text/plain": [
       "       From         To\n",
       "0    LoNDon      paris\n",
       "1    MAdrid      miLAN\n",
       "2    londON  StockhOlm\n",
       "3  Budapest      PaRis\n",
       "4  Brussels     londOn"
      ]
     },
     "execution_count": 41,
     "metadata": {},
     "output_type": "execute_result"
    }
   ],
   "source": [
    "temp = df.From_To.str.split('_', expand=True)\n",
    "temp.columns = ['From', 'To']\n",
    "temp"
   ]
  },
  {
   "cell_type": "markdown",
   "id": "4bcc6b02",
   "metadata": {
    "papermill": {
     "duration": 0.028815,
     "end_time": "2023-03-12T14:05:15.454223",
     "exception": false,
     "start_time": "2023-03-12T14:05:15.425408",
     "status": "completed"
    },
    "tags": []
   },
   "source": [
    "**40.** Notice how the capitalisation of the city names is all mixed up in this temporary DataFrame 'temp'. Standardise the strings so that only the first letter is uppercase (e.g. \"londON\" should become \"London\".)"
   ]
  },
  {
   "cell_type": "code",
   "execution_count": 42,
   "id": "82a99b98",
   "metadata": {
    "execution": {
     "iopub.execute_input": "2023-03-12T14:05:15.515067Z",
     "iopub.status.busy": "2023-03-12T14:05:15.514412Z",
     "iopub.status.idle": "2023-03-12T14:05:15.527836Z",
     "shell.execute_reply": "2023-03-12T14:05:15.526314Z"
    },
    "papermill": {
     "duration": 0.047359,
     "end_time": "2023-03-12T14:05:15.530702",
     "exception": false,
     "start_time": "2023-03-12T14:05:15.483343",
     "status": "completed"
    },
    "tags": []
   },
   "outputs": [
    {
     "data": {
      "text/html": [
       "<div>\n",
       "<style scoped>\n",
       "    .dataframe tbody tr th:only-of-type {\n",
       "        vertical-align: middle;\n",
       "    }\n",
       "\n",
       "    .dataframe tbody tr th {\n",
       "        vertical-align: top;\n",
       "    }\n",
       "\n",
       "    .dataframe thead th {\n",
       "        text-align: right;\n",
       "    }\n",
       "</style>\n",
       "<table border=\"1\" class=\"dataframe\">\n",
       "  <thead>\n",
       "    <tr style=\"text-align: right;\">\n",
       "      <th></th>\n",
       "      <th>From</th>\n",
       "      <th>To</th>\n",
       "    </tr>\n",
       "  </thead>\n",
       "  <tbody>\n",
       "    <tr>\n",
       "      <th>0</th>\n",
       "      <td>London</td>\n",
       "      <td>Paris</td>\n",
       "    </tr>\n",
       "    <tr>\n",
       "      <th>1</th>\n",
       "      <td>Madrid</td>\n",
       "      <td>Milan</td>\n",
       "    </tr>\n",
       "    <tr>\n",
       "      <th>2</th>\n",
       "      <td>London</td>\n",
       "      <td>Stockholm</td>\n",
       "    </tr>\n",
       "    <tr>\n",
       "      <th>3</th>\n",
       "      <td>Budapest</td>\n",
       "      <td>Paris</td>\n",
       "    </tr>\n",
       "    <tr>\n",
       "      <th>4</th>\n",
       "      <td>Brussels</td>\n",
       "      <td>London</td>\n",
       "    </tr>\n",
       "  </tbody>\n",
       "</table>\n",
       "</div>"
      ],
      "text/plain": [
       "       From         To\n",
       "0    London      Paris\n",
       "1    Madrid      Milan\n",
       "2    London  Stockholm\n",
       "3  Budapest      Paris\n",
       "4  Brussels     London"
      ]
     },
     "execution_count": 42,
     "metadata": {},
     "output_type": "execute_result"
    }
   ],
   "source": [
    "temp['From'] = temp['From'].str.capitalize()\n",
    "temp['To'] = temp['To'].str.capitalize()\n",
    "temp"
   ]
  },
  {
   "cell_type": "markdown",
   "id": "3968f224",
   "metadata": {
    "papermill": {
     "duration": 0.029239,
     "end_time": "2023-03-12T14:05:15.589857",
     "exception": false,
     "start_time": "2023-03-12T14:05:15.560618",
     "status": "completed"
    },
    "tags": []
   },
   "source": [
    "**41.** Delete the From_To column from **41.** Delete the **From_To** column from `df` and attach the temporary DataFrame 'temp' from the previous questions.`df` and attach the temporary DataFrame from the previous questions."
   ]
  },
  {
   "cell_type": "code",
   "execution_count": 43,
   "id": "61dcddde",
   "metadata": {
    "execution": {
     "iopub.execute_input": "2023-03-12T14:05:15.650689Z",
     "iopub.status.busy": "2023-03-12T14:05:15.650239Z",
     "iopub.status.idle": "2023-03-12T14:05:15.667197Z",
     "shell.execute_reply": "2023-03-12T14:05:15.665736Z"
    },
    "papermill": {
     "duration": 0.050699,
     "end_time": "2023-03-12T14:05:15.669970",
     "exception": false,
     "start_time": "2023-03-12T14:05:15.619271",
     "status": "completed"
    },
    "tags": []
   },
   "outputs": [
    {
     "data": {
      "text/html": [
       "<div>\n",
       "<style scoped>\n",
       "    .dataframe tbody tr th:only-of-type {\n",
       "        vertical-align: middle;\n",
       "    }\n",
       "\n",
       "    .dataframe tbody tr th {\n",
       "        vertical-align: top;\n",
       "    }\n",
       "\n",
       "    .dataframe thead th {\n",
       "        text-align: right;\n",
       "    }\n",
       "</style>\n",
       "<table border=\"1\" class=\"dataframe\">\n",
       "  <thead>\n",
       "    <tr style=\"text-align: right;\">\n",
       "      <th></th>\n",
       "      <th>FlightNumber</th>\n",
       "      <th>RecentDelays</th>\n",
       "      <th>Airline</th>\n",
       "      <th>From</th>\n",
       "      <th>To</th>\n",
       "    </tr>\n",
       "  </thead>\n",
       "  <tbody>\n",
       "    <tr>\n",
       "      <th>0</th>\n",
       "      <td>10045</td>\n",
       "      <td>[23, 47]</td>\n",
       "      <td>KLM(!)</td>\n",
       "      <td>London</td>\n",
       "      <td>Paris</td>\n",
       "    </tr>\n",
       "    <tr>\n",
       "      <th>1</th>\n",
       "      <td>10055</td>\n",
       "      <td>[]</td>\n",
       "      <td>&lt;Air France&gt; (12)</td>\n",
       "      <td>Madrid</td>\n",
       "      <td>Milan</td>\n",
       "    </tr>\n",
       "    <tr>\n",
       "      <th>2</th>\n",
       "      <td>10065</td>\n",
       "      <td>[24, 43, 87]</td>\n",
       "      <td>(British Airways. )</td>\n",
       "      <td>London</td>\n",
       "      <td>Stockholm</td>\n",
       "    </tr>\n",
       "    <tr>\n",
       "      <th>3</th>\n",
       "      <td>10075</td>\n",
       "      <td>[13]</td>\n",
       "      <td>12. Air France</td>\n",
       "      <td>Budapest</td>\n",
       "      <td>Paris</td>\n",
       "    </tr>\n",
       "    <tr>\n",
       "      <th>4</th>\n",
       "      <td>10085</td>\n",
       "      <td>[67, 32]</td>\n",
       "      <td>\"Swiss Air\"</td>\n",
       "      <td>Brussels</td>\n",
       "      <td>London</td>\n",
       "    </tr>\n",
       "  </tbody>\n",
       "</table>\n",
       "</div>"
      ],
      "text/plain": [
       "   FlightNumber  RecentDelays              Airline      From         To\n",
       "0         10045      [23, 47]               KLM(!)    London      Paris\n",
       "1         10055            []    <Air France> (12)    Madrid      Milan\n",
       "2         10065  [24, 43, 87]  (British Airways. )    London  Stockholm\n",
       "3         10075          [13]       12. Air France  Budapest      Paris\n",
       "4         10085      [67, 32]          \"Swiss Air\"  Brussels     London"
      ]
     },
     "execution_count": 43,
     "metadata": {},
     "output_type": "execute_result"
    }
   ],
   "source": [
    "df = df.drop('From_To', axis=1)\n",
    "df = df.join(temp)\n",
    "df"
   ]
  },
  {
   "cell_type": "markdown",
   "id": "bc8c9a57",
   "metadata": {
    "papermill": {
     "duration": 0.029334,
     "end_time": "2023-03-12T14:05:15.729909",
     "exception": false,
     "start_time": "2023-03-12T14:05:15.700575",
     "status": "completed"
    },
    "tags": []
   },
   "source": [
    "**42**. In the **Airline** column, you can see some extra puctuation and symbols have appeared around the airline names. Pull out just the airline name. E.g. `'(British Airways. )'` should become `'British Airways'`."
   ]
  },
  {
   "cell_type": "code",
   "execution_count": 44,
   "id": "044b7e73",
   "metadata": {
    "execution": {
     "iopub.execute_input": "2023-03-12T14:05:15.790824Z",
     "iopub.status.busy": "2023-03-12T14:05:15.790408Z",
     "iopub.status.idle": "2023-03-12T14:05:15.806604Z",
     "shell.execute_reply": "2023-03-12T14:05:15.805212Z"
    },
    "papermill": {
     "duration": 0.049655,
     "end_time": "2023-03-12T14:05:15.809118",
     "exception": false,
     "start_time": "2023-03-12T14:05:15.759463",
     "status": "completed"
    },
    "tags": []
   },
   "outputs": [
    {
     "data": {
      "text/html": [
       "<div>\n",
       "<style scoped>\n",
       "    .dataframe tbody tr th:only-of-type {\n",
       "        vertical-align: middle;\n",
       "    }\n",
       "\n",
       "    .dataframe tbody tr th {\n",
       "        vertical-align: top;\n",
       "    }\n",
       "\n",
       "    .dataframe thead th {\n",
       "        text-align: right;\n",
       "    }\n",
       "</style>\n",
       "<table border=\"1\" class=\"dataframe\">\n",
       "  <thead>\n",
       "    <tr style=\"text-align: right;\">\n",
       "      <th></th>\n",
       "      <th>FlightNumber</th>\n",
       "      <th>RecentDelays</th>\n",
       "      <th>Airline</th>\n",
       "      <th>From</th>\n",
       "      <th>To</th>\n",
       "    </tr>\n",
       "  </thead>\n",
       "  <tbody>\n",
       "    <tr>\n",
       "      <th>0</th>\n",
       "      <td>10045</td>\n",
       "      <td>[23, 47]</td>\n",
       "      <td>KLM</td>\n",
       "      <td>London</td>\n",
       "      <td>Paris</td>\n",
       "    </tr>\n",
       "    <tr>\n",
       "      <th>1</th>\n",
       "      <td>10055</td>\n",
       "      <td>[]</td>\n",
       "      <td>Air France</td>\n",
       "      <td>Madrid</td>\n",
       "      <td>Milan</td>\n",
       "    </tr>\n",
       "    <tr>\n",
       "      <th>2</th>\n",
       "      <td>10065</td>\n",
       "      <td>[24, 43, 87]</td>\n",
       "      <td>British Airways</td>\n",
       "      <td>London</td>\n",
       "      <td>Stockholm</td>\n",
       "    </tr>\n",
       "    <tr>\n",
       "      <th>3</th>\n",
       "      <td>10075</td>\n",
       "      <td>[13]</td>\n",
       "      <td>Air France</td>\n",
       "      <td>Budapest</td>\n",
       "      <td>Paris</td>\n",
       "    </tr>\n",
       "    <tr>\n",
       "      <th>4</th>\n",
       "      <td>10085</td>\n",
       "      <td>[67, 32]</td>\n",
       "      <td>Swiss Air</td>\n",
       "      <td>Brussels</td>\n",
       "      <td>London</td>\n",
       "    </tr>\n",
       "  </tbody>\n",
       "</table>\n",
       "</div>"
      ],
      "text/plain": [
       "   FlightNumber  RecentDelays          Airline      From         To\n",
       "0         10045      [23, 47]              KLM    London      Paris\n",
       "1         10055            []       Air France    Madrid      Milan\n",
       "2         10065  [24, 43, 87]  British Airways    London  Stockholm\n",
       "3         10075          [13]       Air France  Budapest      Paris\n",
       "4         10085      [67, 32]        Swiss Air  Brussels     London"
      ]
     },
     "execution_count": 44,
     "metadata": {},
     "output_type": "execute_result"
    }
   ],
   "source": [
    "df['Airline'] = df['Airline'].str.extract('([a-zA-Z\\s]+)', expand=False).str.strip()\n",
    "# note: using .strip() gets rid of any leading/trailing spaces\n",
    "df"
   ]
  },
  {
   "cell_type": "markdown",
   "id": "d6c2f95d",
   "metadata": {
    "papermill": {
     "duration": 0.029255,
     "end_time": "2023-03-12T14:05:15.868267",
     "exception": false,
     "start_time": "2023-03-12T14:05:15.839012",
     "status": "completed"
    },
    "tags": []
   },
   "source": [
    "**43**. In the **RecentDelays** column, the values have been entered into the DataFrame as a list. We would like each first value in its own column, each second value in its own column, and so on. If there isn't an Nth value, the value should be NaN.\n",
    "\n",
    "Expand the Series of lists into a new DataFrame named 'delays', rename the columns 'delay_1', 'delay_2', etc. and replace the unwanted RecentDelays column in `df` with 'delays'."
   ]
  },
  {
   "cell_type": "code",
   "execution_count": 45,
   "id": "299a7122",
   "metadata": {
    "execution": {
     "iopub.execute_input": "2023-03-12T14:05:15.929998Z",
     "iopub.status.busy": "2023-03-12T14:05:15.929595Z",
     "iopub.status.idle": "2023-03-12T14:05:15.951184Z",
     "shell.execute_reply": "2023-03-12T14:05:15.949923Z"
    },
    "papermill": {
     "duration": 0.055639,
     "end_time": "2023-03-12T14:05:15.953686",
     "exception": false,
     "start_time": "2023-03-12T14:05:15.898047",
     "status": "completed"
    },
    "tags": []
   },
   "outputs": [
    {
     "data": {
      "text/html": [
       "<div>\n",
       "<style scoped>\n",
       "    .dataframe tbody tr th:only-of-type {\n",
       "        vertical-align: middle;\n",
       "    }\n",
       "\n",
       "    .dataframe tbody tr th {\n",
       "        vertical-align: top;\n",
       "    }\n",
       "\n",
       "    .dataframe thead th {\n",
       "        text-align: right;\n",
       "    }\n",
       "</style>\n",
       "<table border=\"1\" class=\"dataframe\">\n",
       "  <thead>\n",
       "    <tr style=\"text-align: right;\">\n",
       "      <th></th>\n",
       "      <th>FlightNumber</th>\n",
       "      <th>Airline</th>\n",
       "      <th>From</th>\n",
       "      <th>To</th>\n",
       "      <th>delay_1</th>\n",
       "      <th>delay_2</th>\n",
       "      <th>delay_3</th>\n",
       "    </tr>\n",
       "  </thead>\n",
       "  <tbody>\n",
       "    <tr>\n",
       "      <th>0</th>\n",
       "      <td>10045</td>\n",
       "      <td>KLM</td>\n",
       "      <td>London</td>\n",
       "      <td>Paris</td>\n",
       "      <td>23.0</td>\n",
       "      <td>47.0</td>\n",
       "      <td>NaN</td>\n",
       "    </tr>\n",
       "    <tr>\n",
       "      <th>1</th>\n",
       "      <td>10055</td>\n",
       "      <td>Air France</td>\n",
       "      <td>Madrid</td>\n",
       "      <td>Milan</td>\n",
       "      <td>NaN</td>\n",
       "      <td>NaN</td>\n",
       "      <td>NaN</td>\n",
       "    </tr>\n",
       "    <tr>\n",
       "      <th>2</th>\n",
       "      <td>10065</td>\n",
       "      <td>British Airways</td>\n",
       "      <td>London</td>\n",
       "      <td>Stockholm</td>\n",
       "      <td>24.0</td>\n",
       "      <td>43.0</td>\n",
       "      <td>87.0</td>\n",
       "    </tr>\n",
       "    <tr>\n",
       "      <th>3</th>\n",
       "      <td>10075</td>\n",
       "      <td>Air France</td>\n",
       "      <td>Budapest</td>\n",
       "      <td>Paris</td>\n",
       "      <td>13.0</td>\n",
       "      <td>NaN</td>\n",
       "      <td>NaN</td>\n",
       "    </tr>\n",
       "    <tr>\n",
       "      <th>4</th>\n",
       "      <td>10085</td>\n",
       "      <td>Swiss Air</td>\n",
       "      <td>Brussels</td>\n",
       "      <td>London</td>\n",
       "      <td>67.0</td>\n",
       "      <td>32.0</td>\n",
       "      <td>NaN</td>\n",
       "    </tr>\n",
       "  </tbody>\n",
       "</table>\n",
       "</div>"
      ],
      "text/plain": [
       "   FlightNumber          Airline      From         To  delay_1  delay_2  \\\n",
       "0         10045              KLM    London      Paris     23.0     47.0   \n",
       "1         10055       Air France    Madrid      Milan      NaN      NaN   \n",
       "2         10065  British Airways    London  Stockholm     24.0     43.0   \n",
       "3         10075       Air France  Budapest      Paris     13.0      NaN   \n",
       "4         10085        Swiss Air  Brussels     London     67.0     32.0   \n",
       "\n",
       "   delay_3  \n",
       "0      NaN  \n",
       "1      NaN  \n",
       "2     87.0  \n",
       "3      NaN  \n",
       "4      NaN  "
      ]
     },
     "execution_count": 45,
     "metadata": {},
     "output_type": "execute_result"
    }
   ],
   "source": [
    "# there are several ways to do this, but the following approach is possibly the simplest\n",
    "\n",
    "delays = df['RecentDelays'].apply(pd.Series)\n",
    "\n",
    "delays.columns = ['delay_{}'.format(n) for n in range(1, len(delays.columns)+1)]\n",
    "\n",
    "df = df.drop('RecentDelays', axis=1).join(delays)\n",
    "\n",
    "df"
   ]
  },
  {
   "cell_type": "markdown",
   "id": "93685815",
   "metadata": {
    "papermill": {
     "duration": 0.029541,
     "end_time": "2023-03-12T14:05:16.015133",
     "exception": false,
     "start_time": "2023-03-12T14:05:15.985592",
     "status": "completed"
    },
    "tags": []
   },
   "source": [
    "The DataFrame should look much better now:\n",
    "\n",
    "```\n",
    "   FlightNumber          Airline      From         To  delay_1  delay_2  delay_3\n",
    "0         10045              KLM    London      Paris     23.0     47.0      NaN\n",
    "1         10055       Air France    Madrid      Milan      NaN      NaN      NaN\n",
    "2         10065  British Airways    London  Stockholm     24.0     43.0     87.0\n",
    "3         10075       Air France  Budapest      Paris     13.0      NaN      NaN\n",
    "4         10085        Swiss Air  Brussels     London     67.0     32.0      NaN\n",
    "```"
   ]
  },
  {
   "cell_type": "markdown",
   "id": "86b81dfc",
   "metadata": {
    "papermill": {
     "duration": 0.029961,
     "end_time": "2023-03-12T14:05:16.075014",
     "exception": false,
     "start_time": "2023-03-12T14:05:16.045053",
     "status": "completed"
    },
    "tags": []
   },
   "source": [
    "## Using MultiIndexes\n",
    "\n",
    "### Go beyond flat DataFrames with additional index levels\n",
    "\n",
    "Difficulty: *medium*\n",
    "\n",
    "Previous exercises have seen us analysing data from DataFrames equipped with a single index level. However, pandas also gives you the possibilty of indexing your data using *multiple* levels. This is very much like adding new dimensions to a Series or a DataFrame. For example, a Series is 1D, but by using a MultiIndex with 2 levels we gain of much the same functionality as a 2D DataFrame.\n",
    "\n",
    "The set of puzzles below explores how you might use multiple index levels to enhance data analysis.\n",
    "\n",
    "To warm up, we'll look make a Series with two index levels. "
   ]
  },
  {
   "cell_type": "markdown",
   "id": "5569a175",
   "metadata": {
    "papermill": {
     "duration": 0.029372,
     "end_time": "2023-03-12T14:05:16.134206",
     "exception": false,
     "start_time": "2023-03-12T14:05:16.104834",
     "status": "completed"
    },
    "tags": []
   },
   "source": [
    "**44**. Given the lists `letters = ['A', 'B', 'C']` and `numbers = list(range(10))`, construct a MultiIndex object from the product of the two lists. Use it to index a Series of random numbers. Call this Series `s`."
   ]
  },
  {
   "cell_type": "code",
   "execution_count": 46,
   "id": "400f87ea",
   "metadata": {
    "execution": {
     "iopub.execute_input": "2023-03-12T14:05:16.195416Z",
     "iopub.status.busy": "2023-03-12T14:05:16.195041Z",
     "iopub.status.idle": "2023-03-12T14:05:16.208157Z",
     "shell.execute_reply": "2023-03-12T14:05:16.207027Z"
    },
    "papermill": {
     "duration": 0.046734,
     "end_time": "2023-03-12T14:05:16.210519",
     "exception": false,
     "start_time": "2023-03-12T14:05:16.163785",
     "status": "completed"
    },
    "tags": []
   },
   "outputs": [
    {
     "data": {
      "text/plain": [
       "A  0    0.345436\n",
       "   1    0.588438\n",
       "   2    0.785387\n",
       "   3    0.368125\n",
       "   4    0.755394\n",
       "   5    0.318001\n",
       "   6    0.390621\n",
       "   7    0.907468\n",
       "   8    0.265963\n",
       "   9    0.152488\n",
       "B  0    0.699821\n",
       "   1    0.682072\n",
       "   2    0.461585\n",
       "   3    0.688333\n",
       "   4    0.967924\n",
       "   5    0.530183\n",
       "   6    0.279903\n",
       "   7    0.172427\n",
       "   8    0.526624\n",
       "   9    0.731306\n",
       "C  0    0.837082\n",
       "   1    0.858001\n",
       "   2    0.130366\n",
       "   3    0.876437\n",
       "   4    0.082269\n",
       "   5    0.946399\n",
       "   6    0.826040\n",
       "   7    0.494954\n",
       "   8    0.103624\n",
       "   9    0.674004\n",
       "dtype: float64"
      ]
     },
     "execution_count": 46,
     "metadata": {},
     "output_type": "execute_result"
    }
   ],
   "source": [
    "letters = ['A', 'B', 'C']\n",
    "numbers = list(range(10))\n",
    "\n",
    "mi = pd.MultiIndex.from_product([letters, numbers])\n",
    "s = pd.Series(np.random.rand(30), index=mi)\n",
    "s"
   ]
  },
  {
   "cell_type": "markdown",
   "id": "d49f8238",
   "metadata": {
    "papermill": {
     "duration": 0.030676,
     "end_time": "2023-03-12T14:05:16.274271",
     "exception": false,
     "start_time": "2023-03-12T14:05:16.243595",
     "status": "completed"
    },
    "tags": []
   },
   "source": [
    "**45.** Check the index of `s` is lexicographically sorted (this is a necessary proprty for indexing to work correctly with a MultiIndex)."
   ]
  },
  {
   "cell_type": "code",
   "execution_count": 47,
   "id": "6efac1f3",
   "metadata": {
    "execution": {
     "iopub.execute_input": "2023-03-12T14:05:16.337443Z",
     "iopub.status.busy": "2023-03-12T14:05:16.335946Z",
     "iopub.status.idle": "2023-03-12T14:05:16.346868Z",
     "shell.execute_reply": "2023-03-12T14:05:16.345319Z"
    },
    "papermill": {
     "duration": 0.045498,
     "end_time": "2023-03-12T14:05:16.349815",
     "exception": false,
     "start_time": "2023-03-12T14:05:16.304317",
     "status": "completed"
    },
    "tags": []
   },
   "outputs": [
    {
     "name": "stderr",
     "output_type": "stream",
     "text": [
      "/opt/conda/lib/python3.7/site-packages/ipykernel_launcher.py:1: FutureWarning: MultiIndex.is_lexsorted is deprecated as a public function, users should use MultiIndex.is_monotonic_increasing instead.\n",
      "  \"\"\"Entry point for launching an IPython kernel.\n",
      "/opt/conda/lib/python3.7/site-packages/ipykernel_launcher.py:4: FutureWarning: MultiIndex.is_lexsorted is deprecated as a public function, users should use MultiIndex.is_monotonic_increasing instead.\n",
      "  after removing the cwd from sys.path.\n"
     ]
    },
    {
     "data": {
      "text/plain": [
       "True"
      ]
     },
     "execution_count": 47,
     "metadata": {},
     "output_type": "execute_result"
    }
   ],
   "source": [
    "s.index.is_lexsorted()\n",
    "\n",
    "# or more verbosely...\n",
    "s.index.lexsort_depth == s.index.nlevels"
   ]
  },
  {
   "cell_type": "markdown",
   "id": "651fed9d",
   "metadata": {
    "papermill": {
     "duration": 0.030637,
     "end_time": "2023-03-12T14:05:16.412159",
     "exception": false,
     "start_time": "2023-03-12T14:05:16.381522",
     "status": "completed"
    },
    "tags": []
   },
   "source": [
    "**46**. Select the labels `1`, `3` and `6` from the second level of the MultiIndexed Series."
   ]
  },
  {
   "cell_type": "code",
   "execution_count": 48,
   "id": "485ff020",
   "metadata": {
    "execution": {
     "iopub.execute_input": "2023-03-12T14:05:16.475674Z",
     "iopub.status.busy": "2023-03-12T14:05:16.475186Z",
     "iopub.status.idle": "2023-03-12T14:05:16.487221Z",
     "shell.execute_reply": "2023-03-12T14:05:16.485940Z"
    },
    "papermill": {
     "duration": 0.04622,
     "end_time": "2023-03-12T14:05:16.489571",
     "exception": false,
     "start_time": "2023-03-12T14:05:16.443351",
     "status": "completed"
    },
    "tags": []
   },
   "outputs": [
    {
     "data": {
      "text/plain": [
       "A  1    0.588438\n",
       "   3    0.368125\n",
       "   6    0.390621\n",
       "B  1    0.682072\n",
       "   3    0.688333\n",
       "   6    0.279903\n",
       "C  1    0.858001\n",
       "   3    0.876437\n",
       "   6    0.826040\n",
       "dtype: float64"
      ]
     },
     "execution_count": 48,
     "metadata": {},
     "output_type": "execute_result"
    }
   ],
   "source": [
    "s.loc[:, [1, 3, 6]]"
   ]
  },
  {
   "cell_type": "markdown",
   "id": "b39a5d43",
   "metadata": {
    "papermill": {
     "duration": 0.030309,
     "end_time": "2023-03-12T14:05:16.550899",
     "exception": false,
     "start_time": "2023-03-12T14:05:16.520590",
     "status": "completed"
    },
    "tags": []
   },
   "source": [
    "**47**. Slice the Series `s`; slice up to label 'B' for the first level and from label 5 onwards for the second level."
   ]
  },
  {
   "cell_type": "code",
   "execution_count": 49,
   "id": "d53cf0ce",
   "metadata": {
    "execution": {
     "iopub.execute_input": "2023-03-12T14:05:16.614590Z",
     "iopub.status.busy": "2023-03-12T14:05:16.614172Z",
     "iopub.status.idle": "2023-03-12T14:05:16.631124Z",
     "shell.execute_reply": "2023-03-12T14:05:16.630094Z"
    },
    "papermill": {
     "duration": 0.052168,
     "end_time": "2023-03-12T14:05:16.633963",
     "exception": false,
     "start_time": "2023-03-12T14:05:16.581795",
     "status": "completed"
    },
    "tags": []
   },
   "outputs": [
    {
     "data": {
      "text/plain": [
       "A  5    0.318001\n",
       "   6    0.390621\n",
       "   7    0.907468\n",
       "   8    0.265963\n",
       "   9    0.152488\n",
       "B  5    0.530183\n",
       "   6    0.279903\n",
       "   7    0.172427\n",
       "   8    0.526624\n",
       "   9    0.731306\n",
       "dtype: float64"
      ]
     },
     "execution_count": 49,
     "metadata": {},
     "output_type": "execute_result"
    }
   ],
   "source": [
    "s.loc[pd.IndexSlice[:'B', 5:]]\n",
    "\n",
    "# or equivalently without IndexSlice...\n",
    "s.loc[slice(None, 'B'), slice(5, None)]"
   ]
  },
  {
   "cell_type": "markdown",
   "id": "3586cb9d",
   "metadata": {
    "papermill": {
     "duration": 0.030772,
     "end_time": "2023-03-12T14:05:16.762662",
     "exception": false,
     "start_time": "2023-03-12T14:05:16.731890",
     "status": "completed"
    },
    "tags": []
   },
   "source": [
    "**48**. Sum the values in `s` for each label in the first level (you should have Series giving you a total for labels A, B and C)."
   ]
  },
  {
   "cell_type": "markdown",
   "id": "bbfe686f",
   "metadata": {
    "papermill": {
     "duration": 0.030474,
     "end_time": "2023-03-12T14:05:16.824155",
     "exception": false,
     "start_time": "2023-03-12T14:05:16.793681",
     "status": "completed"
    },
    "tags": []
   },
   "source": [
    "**49**. Suppose that `sum()` (and other methods) did not accept a `level` keyword argument. How else could you perform the equivalent of `s.sum(level=1)`?"
   ]
  },
  {
   "cell_type": "code",
   "execution_count": 50,
   "id": "a1a3b0e5",
   "metadata": {
    "execution": {
     "iopub.execute_input": "2023-03-12T14:05:16.887626Z",
     "iopub.status.busy": "2023-03-12T14:05:16.887180Z",
     "iopub.status.idle": "2023-03-12T14:05:16.898204Z",
     "shell.execute_reply": "2023-03-12T14:05:16.896934Z"
    },
    "papermill": {
     "duration": 0.045579,
     "end_time": "2023-03-12T14:05:16.900678",
     "exception": false,
     "start_time": "2023-03-12T14:05:16.855099",
     "status": "completed"
    },
    "tags": []
   },
   "outputs": [
    {
     "data": {
      "text/plain": [
       "0    1.882339\n",
       "1    2.128511\n",
       "2    1.377338\n",
       "3    1.932895\n",
       "4    1.805586\n",
       "5    1.794582\n",
       "6    1.496563\n",
       "7    1.574849\n",
       "8    0.896212\n",
       "9    1.557798\n",
       "dtype: float64"
      ]
     },
     "execution_count": 50,
     "metadata": {},
     "output_type": "execute_result"
    }
   ],
   "source": [
    "# One way is to use .unstack()... \n",
    "# This method should convince you that s is essentially just a regular DataFrame in disguise!\n",
    "s.unstack().sum(axis=0)"
   ]
  },
  {
   "cell_type": "markdown",
   "id": "869c0bea",
   "metadata": {
    "papermill": {
     "duration": 0.031313,
     "end_time": "2023-03-12T14:05:16.963411",
     "exception": false,
     "start_time": "2023-03-12T14:05:16.932098",
     "status": "completed"
    },
    "tags": []
   },
   "source": [
    "**50**. Exchange the levels of the MultiIndex so we have an index of the form (letters, numbers). Is this new Series properly lexsorted? If not, sort it."
   ]
  },
  {
   "cell_type": "markdown",
   "id": "ba470313",
   "metadata": {
    "papermill": {
     "duration": 0.031995,
     "end_time": "2023-03-12T14:05:17.027697",
     "exception": false,
     "start_time": "2023-03-12T14:05:16.995702",
     "status": "completed"
    },
    "tags": []
   },
   "source": [
    "## Minesweeper\n",
    "\n",
    "### Generate the numbers for safe squares in a Minesweeper grid\n",
    "\n",
    "Difficulty: *medium* to *hard*\n",
    "\n",
    "If you've ever used an older version of Windows, there's a good chance you've played with Minesweeper:\n",
    "- https://en.wikipedia.org/wiki/Minesweeper_(video_game)\n",
    "\n",
    "\n",
    "If you're not familiar with the game, imagine a grid of squares: some of these squares conceal a mine. If you click on a mine, you lose instantly. If you click on a safe square, you reveal a number telling you how many mines are found in the squares that are immediately adjacent. The aim of the game is to uncover all squares in the grid that do not contain a mine.\n",
    "\n",
    "In this section, we'll make a DataFrame that contains the necessary data for a game of Minesweeper: coordinates of the squares, whether the square contains a mine and the number of mines found on adjacent squares."
   ]
  },
  {
   "cell_type": "markdown",
   "id": "fa488cfc",
   "metadata": {
    "papermill": {
     "duration": 0.030741,
     "end_time": "2023-03-12T14:05:17.092652",
     "exception": false,
     "start_time": "2023-03-12T14:05:17.061911",
     "status": "completed"
    },
    "tags": []
   },
   "source": [
    "**51**. Let's suppose we're playing Minesweeper on a 5 by 4 grid, i.e.\n",
    "```\n",
    "X = 5\n",
    "Y = 4\n",
    "```\n",
    "To begin, generate a DataFrame `df` with two columns, `'x'` and `'y'` containing every coordinate for this grid. That is, the DataFrame should start:\n",
    "```\n",
    "   x  y\n",
    "0  0  0\n",
    "1  0  1\n",
    "2  0  2\n",
    "...\n",
    "```"
   ]
  },
  {
   "cell_type": "code",
   "execution_count": 51,
   "id": "64114a06",
   "metadata": {
    "execution": {
     "iopub.execute_input": "2023-03-12T14:05:17.157004Z",
     "iopub.status.busy": "2023-03-12T14:05:17.156302Z",
     "iopub.status.idle": "2023-03-12T14:05:17.169151Z",
     "shell.execute_reply": "2023-03-12T14:05:17.167818Z"
    },
    "papermill": {
     "duration": 0.047783,
     "end_time": "2023-03-12T14:05:17.171981",
     "exception": false,
     "start_time": "2023-03-12T14:05:17.124198",
     "status": "completed"
    },
    "tags": []
   },
   "outputs": [
    {
     "data": {
      "text/html": [
       "<div>\n",
       "<style scoped>\n",
       "    .dataframe tbody tr th:only-of-type {\n",
       "        vertical-align: middle;\n",
       "    }\n",
       "\n",
       "    .dataframe tbody tr th {\n",
       "        vertical-align: top;\n",
       "    }\n",
       "\n",
       "    .dataframe thead th {\n",
       "        text-align: right;\n",
       "    }\n",
       "</style>\n",
       "<table border=\"1\" class=\"dataframe\">\n",
       "  <thead>\n",
       "    <tr style=\"text-align: right;\">\n",
       "      <th></th>\n",
       "      <th>x</th>\n",
       "      <th>y</th>\n",
       "    </tr>\n",
       "  </thead>\n",
       "  <tbody>\n",
       "    <tr>\n",
       "      <th>0</th>\n",
       "      <td>0</td>\n",
       "      <td>0</td>\n",
       "    </tr>\n",
       "    <tr>\n",
       "      <th>1</th>\n",
       "      <td>0</td>\n",
       "      <td>1</td>\n",
       "    </tr>\n",
       "    <tr>\n",
       "      <th>2</th>\n",
       "      <td>0</td>\n",
       "      <td>2</td>\n",
       "    </tr>\n",
       "    <tr>\n",
       "      <th>3</th>\n",
       "      <td>0</td>\n",
       "      <td>3</td>\n",
       "    </tr>\n",
       "    <tr>\n",
       "      <th>4</th>\n",
       "      <td>1</td>\n",
       "      <td>0</td>\n",
       "    </tr>\n",
       "    <tr>\n",
       "      <th>5</th>\n",
       "      <td>1</td>\n",
       "      <td>1</td>\n",
       "    </tr>\n",
       "    <tr>\n",
       "      <th>6</th>\n",
       "      <td>1</td>\n",
       "      <td>2</td>\n",
       "    </tr>\n",
       "    <tr>\n",
       "      <th>7</th>\n",
       "      <td>1</td>\n",
       "      <td>3</td>\n",
       "    </tr>\n",
       "    <tr>\n",
       "      <th>8</th>\n",
       "      <td>2</td>\n",
       "      <td>0</td>\n",
       "    </tr>\n",
       "    <tr>\n",
       "      <th>9</th>\n",
       "      <td>2</td>\n",
       "      <td>1</td>\n",
       "    </tr>\n",
       "    <tr>\n",
       "      <th>10</th>\n",
       "      <td>2</td>\n",
       "      <td>2</td>\n",
       "    </tr>\n",
       "    <tr>\n",
       "      <th>11</th>\n",
       "      <td>2</td>\n",
       "      <td>3</td>\n",
       "    </tr>\n",
       "    <tr>\n",
       "      <th>12</th>\n",
       "      <td>3</td>\n",
       "      <td>0</td>\n",
       "    </tr>\n",
       "    <tr>\n",
       "      <th>13</th>\n",
       "      <td>3</td>\n",
       "      <td>1</td>\n",
       "    </tr>\n",
       "    <tr>\n",
       "      <th>14</th>\n",
       "      <td>3</td>\n",
       "      <td>2</td>\n",
       "    </tr>\n",
       "    <tr>\n",
       "      <th>15</th>\n",
       "      <td>3</td>\n",
       "      <td>3</td>\n",
       "    </tr>\n",
       "    <tr>\n",
       "      <th>16</th>\n",
       "      <td>4</td>\n",
       "      <td>0</td>\n",
       "    </tr>\n",
       "    <tr>\n",
       "      <th>17</th>\n",
       "      <td>4</td>\n",
       "      <td>1</td>\n",
       "    </tr>\n",
       "    <tr>\n",
       "      <th>18</th>\n",
       "      <td>4</td>\n",
       "      <td>2</td>\n",
       "    </tr>\n",
       "    <tr>\n",
       "      <th>19</th>\n",
       "      <td>4</td>\n",
       "      <td>3</td>\n",
       "    </tr>\n",
       "  </tbody>\n",
       "</table>\n",
       "</div>"
      ],
      "text/plain": [
       "    x  y\n",
       "0   0  0\n",
       "1   0  1\n",
       "2   0  2\n",
       "3   0  3\n",
       "4   1  0\n",
       "5   1  1\n",
       "6   1  2\n",
       "7   1  3\n",
       "8   2  0\n",
       "9   2  1\n",
       "10  2  2\n",
       "11  2  3\n",
       "12  3  0\n",
       "13  3  1\n",
       "14  3  2\n",
       "15  3  3\n",
       "16  4  0\n",
       "17  4  1\n",
       "18  4  2\n",
       "19  4  3"
      ]
     },
     "execution_count": 51,
     "metadata": {},
     "output_type": "execute_result"
    }
   ],
   "source": [
    "X = 5\n",
    "Y = 4\n",
    "\n",
    "p = pd.core.reshape.util.cartesian_product([np.arange(X), np.arange(Y)])\n",
    "df = pd.DataFrame(np.asarray(p).T, columns=['x', 'y'])\n",
    "df"
   ]
  },
  {
   "cell_type": "markdown",
   "id": "6d61ffcc",
   "metadata": {
    "papermill": {
     "duration": 0.031075,
     "end_time": "2023-03-12T14:05:17.236101",
     "exception": false,
     "start_time": "2023-03-12T14:05:17.205026",
     "status": "completed"
    },
    "tags": []
   },
   "source": [
    "**52**. For this DataFrame `df`, create a new column of zeros (safe) and ones (mine). The probability of a mine occuring at each location should be 0.4."
   ]
  },
  {
   "cell_type": "code",
   "execution_count": 52,
   "id": "124272f4",
   "metadata": {
    "execution": {
     "iopub.execute_input": "2023-03-12T14:05:17.302781Z",
     "iopub.status.busy": "2023-03-12T14:05:17.301554Z",
     "iopub.status.idle": "2023-03-12T14:05:17.314563Z",
     "shell.execute_reply": "2023-03-12T14:05:17.313505Z"
    },
    "papermill": {
     "duration": 0.048755,
     "end_time": "2023-03-12T14:05:17.316951",
     "exception": false,
     "start_time": "2023-03-12T14:05:17.268196",
     "status": "completed"
    },
    "tags": []
   },
   "outputs": [
    {
     "data": {
      "text/html": [
       "<div>\n",
       "<style scoped>\n",
       "    .dataframe tbody tr th:only-of-type {\n",
       "        vertical-align: middle;\n",
       "    }\n",
       "\n",
       "    .dataframe tbody tr th {\n",
       "        vertical-align: top;\n",
       "    }\n",
       "\n",
       "    .dataframe thead th {\n",
       "        text-align: right;\n",
       "    }\n",
       "</style>\n",
       "<table border=\"1\" class=\"dataframe\">\n",
       "  <thead>\n",
       "    <tr style=\"text-align: right;\">\n",
       "      <th></th>\n",
       "      <th>x</th>\n",
       "      <th>y</th>\n",
       "      <th>mine</th>\n",
       "    </tr>\n",
       "  </thead>\n",
       "  <tbody>\n",
       "    <tr>\n",
       "      <th>0</th>\n",
       "      <td>0</td>\n",
       "      <td>0</td>\n",
       "      <td>0</td>\n",
       "    </tr>\n",
       "    <tr>\n",
       "      <th>1</th>\n",
       "      <td>0</td>\n",
       "      <td>1</td>\n",
       "      <td>0</td>\n",
       "    </tr>\n",
       "    <tr>\n",
       "      <th>2</th>\n",
       "      <td>0</td>\n",
       "      <td>2</td>\n",
       "      <td>0</td>\n",
       "    </tr>\n",
       "    <tr>\n",
       "      <th>3</th>\n",
       "      <td>0</td>\n",
       "      <td>3</td>\n",
       "      <td>1</td>\n",
       "    </tr>\n",
       "    <tr>\n",
       "      <th>4</th>\n",
       "      <td>1</td>\n",
       "      <td>0</td>\n",
       "      <td>1</td>\n",
       "    </tr>\n",
       "    <tr>\n",
       "      <th>5</th>\n",
       "      <td>1</td>\n",
       "      <td>1</td>\n",
       "      <td>1</td>\n",
       "    </tr>\n",
       "    <tr>\n",
       "      <th>6</th>\n",
       "      <td>1</td>\n",
       "      <td>2</td>\n",
       "      <td>0</td>\n",
       "    </tr>\n",
       "    <tr>\n",
       "      <th>7</th>\n",
       "      <td>1</td>\n",
       "      <td>3</td>\n",
       "      <td>1</td>\n",
       "    </tr>\n",
       "    <tr>\n",
       "      <th>8</th>\n",
       "      <td>2</td>\n",
       "      <td>0</td>\n",
       "      <td>0</td>\n",
       "    </tr>\n",
       "    <tr>\n",
       "      <th>9</th>\n",
       "      <td>2</td>\n",
       "      <td>1</td>\n",
       "      <td>1</td>\n",
       "    </tr>\n",
       "    <tr>\n",
       "      <th>10</th>\n",
       "      <td>2</td>\n",
       "      <td>2</td>\n",
       "      <td>0</td>\n",
       "    </tr>\n",
       "    <tr>\n",
       "      <th>11</th>\n",
       "      <td>2</td>\n",
       "      <td>3</td>\n",
       "      <td>0</td>\n",
       "    </tr>\n",
       "    <tr>\n",
       "      <th>12</th>\n",
       "      <td>3</td>\n",
       "      <td>0</td>\n",
       "      <td>0</td>\n",
       "    </tr>\n",
       "    <tr>\n",
       "      <th>13</th>\n",
       "      <td>3</td>\n",
       "      <td>1</td>\n",
       "      <td>0</td>\n",
       "    </tr>\n",
       "    <tr>\n",
       "      <th>14</th>\n",
       "      <td>3</td>\n",
       "      <td>2</td>\n",
       "      <td>1</td>\n",
       "    </tr>\n",
       "    <tr>\n",
       "      <th>15</th>\n",
       "      <td>3</td>\n",
       "      <td>3</td>\n",
       "      <td>0</td>\n",
       "    </tr>\n",
       "    <tr>\n",
       "      <th>16</th>\n",
       "      <td>4</td>\n",
       "      <td>0</td>\n",
       "      <td>1</td>\n",
       "    </tr>\n",
       "    <tr>\n",
       "      <th>17</th>\n",
       "      <td>4</td>\n",
       "      <td>1</td>\n",
       "      <td>1</td>\n",
       "    </tr>\n",
       "    <tr>\n",
       "      <th>18</th>\n",
       "      <td>4</td>\n",
       "      <td>2</td>\n",
       "      <td>0</td>\n",
       "    </tr>\n",
       "    <tr>\n",
       "      <th>19</th>\n",
       "      <td>4</td>\n",
       "      <td>3</td>\n",
       "      <td>1</td>\n",
       "    </tr>\n",
       "  </tbody>\n",
       "</table>\n",
       "</div>"
      ],
      "text/plain": [
       "    x  y  mine\n",
       "0   0  0     0\n",
       "1   0  1     0\n",
       "2   0  2     0\n",
       "3   0  3     1\n",
       "4   1  0     1\n",
       "5   1  1     1\n",
       "6   1  2     0\n",
       "7   1  3     1\n",
       "8   2  0     0\n",
       "9   2  1     1\n",
       "10  2  2     0\n",
       "11  2  3     0\n",
       "12  3  0     0\n",
       "13  3  1     0\n",
       "14  3  2     1\n",
       "15  3  3     0\n",
       "16  4  0     1\n",
       "17  4  1     1\n",
       "18  4  2     0\n",
       "19  4  3     1"
      ]
     },
     "execution_count": 52,
     "metadata": {},
     "output_type": "execute_result"
    }
   ],
   "source": [
    "# One way is to draw samples from a binomial distribution.\n",
    "\n",
    "df['mine'] = np.random.binomial(1, 0.4, X*Y)\n",
    "df"
   ]
  },
  {
   "cell_type": "markdown",
   "id": "297c93dc",
   "metadata": {
    "papermill": {
     "duration": 0.031348,
     "end_time": "2023-03-12T14:05:17.379616",
     "exception": false,
     "start_time": "2023-03-12T14:05:17.348268",
     "status": "completed"
    },
    "tags": []
   },
   "source": [
    "**53**. Now create a new column for this DataFrame called `'adjacent'`. This column should contain the number of mines found on adjacent squares in the grid. \n",
    "\n",
    "(E.g. for the first row, which is the entry for the coordinate `(0, 0)`, count how many mines are found on the coordinates `(0, 1)`, `(1, 0)` and `(1, 1)`.)"
   ]
  },
  {
   "cell_type": "markdown",
   "id": "f0701a30",
   "metadata": {
    "papermill": {
     "duration": 0.031604,
     "end_time": "2023-03-12T14:05:17.443638",
     "exception": false,
     "start_time": "2023-03-12T14:05:17.412034",
     "status": "completed"
    },
    "tags": []
   },
   "source": [
    "**54**. For rows of the DataFrame that contain a mine, set the value in the `'adjacent'` column to NaN."
   ]
  },
  {
   "cell_type": "code",
   "execution_count": 53,
   "id": "be7501b2",
   "metadata": {
    "execution": {
     "iopub.execute_input": "2023-03-12T14:05:17.509657Z",
     "iopub.status.busy": "2023-03-12T14:05:17.508836Z",
     "iopub.status.idle": "2023-03-12T14:05:17.515715Z",
     "shell.execute_reply": "2023-03-12T14:05:17.514820Z"
    },
    "papermill": {
     "duration": 0.04256,
     "end_time": "2023-03-12T14:05:17.518142",
     "exception": false,
     "start_time": "2023-03-12T14:05:17.475582",
     "status": "completed"
    },
    "tags": []
   },
   "outputs": [],
   "source": [
    "df.loc[df['mine'] == 1, 'adjacent'] = np.nan"
   ]
  },
  {
   "cell_type": "markdown",
   "id": "0e4efa7d",
   "metadata": {
    "papermill": {
     "duration": 0.031161,
     "end_time": "2023-03-12T14:05:17.580960",
     "exception": false,
     "start_time": "2023-03-12T14:05:17.549799",
     "status": "completed"
    },
    "tags": []
   },
   "source": [
    "**55**. Finally, convert the DataFrame to grid of the adjacent mine counts: columns are the `x` coordinate, rows are the `y` coordinate."
   ]
  },
  {
   "cell_type": "code",
   "execution_count": 54,
   "id": "7da7a61b",
   "metadata": {
    "execution": {
     "iopub.execute_input": "2023-03-12T14:05:17.645746Z",
     "iopub.status.busy": "2023-03-12T14:05:17.644937Z",
     "iopub.status.idle": "2023-03-12T14:05:17.663315Z",
     "shell.execute_reply": "2023-03-12T14:05:17.662250Z"
    },
    "papermill": {
     "duration": 0.053511,
     "end_time": "2023-03-12T14:05:17.665716",
     "exception": false,
     "start_time": "2023-03-12T14:05:17.612205",
     "status": "completed"
    },
    "tags": []
   },
   "outputs": [
    {
     "data": {
      "text/html": [
       "<div>\n",
       "<style scoped>\n",
       "    .dataframe tbody tr th:only-of-type {\n",
       "        vertical-align: middle;\n",
       "    }\n",
       "\n",
       "    .dataframe tbody tr th {\n",
       "        vertical-align: top;\n",
       "    }\n",
       "\n",
       "    .dataframe thead tr th {\n",
       "        text-align: left;\n",
       "    }\n",
       "\n",
       "    .dataframe thead tr:last-of-type th {\n",
       "        text-align: right;\n",
       "    }\n",
       "</style>\n",
       "<table border=\"1\" class=\"dataframe\">\n",
       "  <thead>\n",
       "    <tr>\n",
       "      <th></th>\n",
       "      <th colspan=\"5\" halign=\"left\">adjacent</th>\n",
       "    </tr>\n",
       "    <tr>\n",
       "      <th>x</th>\n",
       "      <th>0</th>\n",
       "      <th>1</th>\n",
       "      <th>2</th>\n",
       "      <th>3</th>\n",
       "      <th>4</th>\n",
       "    </tr>\n",
       "    <tr>\n",
       "      <th>y</th>\n",
       "      <th></th>\n",
       "      <th></th>\n",
       "      <th></th>\n",
       "      <th></th>\n",
       "      <th></th>\n",
       "    </tr>\n",
       "  </thead>\n",
       "  <tbody>\n",
       "    <tr>\n",
       "      <th>0</th>\n",
       "      <td>NaN</td>\n",
       "      <td>NaN</td>\n",
       "      <td>NaN</td>\n",
       "      <td>NaN</td>\n",
       "      <td>NaN</td>\n",
       "    </tr>\n",
       "    <tr>\n",
       "      <th>1</th>\n",
       "      <td>NaN</td>\n",
       "      <td>NaN</td>\n",
       "      <td>NaN</td>\n",
       "      <td>NaN</td>\n",
       "      <td>NaN</td>\n",
       "    </tr>\n",
       "    <tr>\n",
       "      <th>2</th>\n",
       "      <td>NaN</td>\n",
       "      <td>NaN</td>\n",
       "      <td>NaN</td>\n",
       "      <td>NaN</td>\n",
       "      <td>NaN</td>\n",
       "    </tr>\n",
       "    <tr>\n",
       "      <th>3</th>\n",
       "      <td>NaN</td>\n",
       "      <td>NaN</td>\n",
       "      <td>NaN</td>\n",
       "      <td>NaN</td>\n",
       "      <td>NaN</td>\n",
       "    </tr>\n",
       "  </tbody>\n",
       "</table>\n",
       "</div>"
      ],
      "text/plain": [
       "  adjacent                \n",
       "x        0   1   2   3   4\n",
       "y                         \n",
       "0      NaN NaN NaN NaN NaN\n",
       "1      NaN NaN NaN NaN NaN\n",
       "2      NaN NaN NaN NaN NaN\n",
       "3      NaN NaN NaN NaN NaN"
      ]
     },
     "execution_count": 54,
     "metadata": {},
     "output_type": "execute_result"
    }
   ],
   "source": [
    "df.drop('mine', axis=1).set_index(['y', 'x']).unstack()"
   ]
  },
  {
   "cell_type": "markdown",
   "id": "a72e16bf",
   "metadata": {
    "papermill": {
     "duration": 0.031092,
     "end_time": "2023-03-12T14:05:17.728505",
     "exception": false,
     "start_time": "2023-03-12T14:05:17.697413",
     "status": "completed"
    },
    "tags": []
   },
   "source": [
    "## Plotting\n",
    "\n",
    "### Visualize trends and patterns in data\n",
    "\n",
    "Difficulty: *medium*\n",
    "\n",
    "To really get a good understanding of the data contained in your DataFrame, it is often essential to create plots: if you're lucky, trends and anomalies will jump right out at you. This functionality is baked into pandas and the puzzles below explore some of what's possible with the library.\n",
    "\n",
    "**56.** Pandas is highly integrated with the plotting library matplotlib, and makes plotting DataFrames very user-friendly! Plotting in a notebook environment usually makes use of the following boilerplate:\n",
    "\n",
    "```python\n",
    "import matplotlib.pyplot as plt\n",
    "%matplotlib inline\n",
    "plt.style.use('ggplot')\n",
    "```\n",
    "\n",
    "matplotlib is the plotting library which pandas' plotting functionality is built upon, and it is usually aliased to ```plt```.\n",
    "\n",
    "```%matplotlib inline``` tells the notebook to show plots inline, instead of creating them in a separate window.  \n",
    "\n",
    "```plt.style.use('ggplot')``` is a style theme that most people find agreeable, based upon the styling of R's ggplot package.\n",
    "\n",
    "For starters, make a scatter plot of this random data, but use black X's instead of the default markers. \n",
    "\n",
    "```df = pd.DataFrame({\"xs\":[1,5,2,8,1], \"ys\":[4,2,1,9,6]})```\n",
    "\n",
    "Consult the [documentation](https://pandas.pydata.org/pandas-docs/stable/generated/pandas.DataFrame.plot.html) if you get stuck!"
   ]
  },
  {
   "cell_type": "code",
   "execution_count": 55,
   "id": "1ae235d4",
   "metadata": {
    "execution": {
     "iopub.execute_input": "2023-03-12T14:05:17.794653Z",
     "iopub.status.busy": "2023-03-12T14:05:17.793834Z",
     "iopub.status.idle": "2023-03-12T14:05:18.061158Z",
     "shell.execute_reply": "2023-03-12T14:05:18.060124Z"
    },
    "papermill": {
     "duration": 0.303767,
     "end_time": "2023-03-12T14:05:18.063914",
     "exception": false,
     "start_time": "2023-03-12T14:05:17.760147",
     "status": "completed"
    },
    "tags": []
   },
   "outputs": [
    {
     "data": {
      "text/plain": [
       "<AxesSubplot:xlabel='xs', ylabel='ys'>"
      ]
     },
     "execution_count": 55,
     "metadata": {},
     "output_type": "execute_result"
    },
    {
     "data": {
      "image/png": "[encoded data removed]",
      "text/plain": [
       "<Figure size 640x480 with 1 Axes>"
      ]
     },
     "metadata": {},
     "output_type": "display_data"
    }
   ],
   "source": [
    "import matplotlib.pyplot as plt\n",
    "%matplotlib inline\n",
    "plt.style.use('ggplot')\n",
    "\n",
    "df = pd.DataFrame({\"xs\":[1,5,2,8,1], \"ys\":[4,2,1,9,6]})\n",
    "\n",
    "df.plot.scatter(\"xs\", \"ys\", color = \"black\", marker = \"x\")"
   ]
  },
  {
   "cell_type": "markdown",
   "id": "0b7917ee",
   "metadata": {
    "papermill": {
     "duration": 0.039042,
     "end_time": "2023-03-12T14:05:18.136707",
     "exception": false,
     "start_time": "2023-03-12T14:05:18.097665",
     "status": "completed"
    },
    "tags": []
   },
   "source": [
    "**57.** Columns in your DataFrame can also be used to modify colors and sizes.  Bill has been keeping track of his performance at work over time, as well as how good he was feeling that day, and whether he had a cup of coffee in the morning.  Make a plot which incorporates all four features of this DataFrame.\n",
    "\n",
    "(Hint:  If you're having trouble seeing the plot, try multiplying the Series which you choose to represent size by 10 or more)\n",
    "\n",
    "*The chart doesn't have to be pretty: this isn't a course in data viz!*\n",
    "\n",
    "```\n",
    "df = pd.DataFrame({\"productivity\":[5,2,3,1,4,5,6,7,8,3,4,8,9],\n",
    "                   \"hours_in\"    :[1,9,6,5,3,9,2,9,1,7,4,2,2],\n",
    "                   \"happiness\"   :[2,1,3,2,3,1,2,3,1,2,2,1,3],\n",
    "                   \"caffienated\" :[0,0,1,1,0,0,0,0,1,1,0,1,0]})\n",
    "```"
   ]
  },
  {
   "cell_type": "code",
   "execution_count": 56,
   "id": "348565d2",
   "metadata": {
    "execution": {
     "iopub.execute_input": "2023-03-12T14:05:18.205551Z",
     "iopub.status.busy": "2023-03-12T14:05:18.205161Z",
     "iopub.status.idle": "2023-03-12T14:05:18.456861Z",
     "shell.execute_reply": "2023-03-12T14:05:18.455695Z"
    },
    "papermill": {
     "duration": 0.288279,
     "end_time": "2023-03-12T14:05:18.459437",
     "exception": false,
     "start_time": "2023-03-12T14:05:18.171158",
     "status": "completed"
    },
    "tags": []
   },
   "outputs": [
    {
     "data": {
      "text/plain": [
       "<AxesSubplot:xlabel='hours_in', ylabel='productivity'>"
      ]
     },
     "execution_count": 56,
     "metadata": {},
     "output_type": "execute_result"
    },
    {
     "data": {
      "image/png": "[encoded data removed]",
      "text/plain": [
       "<Figure size 640x480 with 1 Axes>"
      ]
     },
     "metadata": {},
     "output_type": "display_data"
    }
   ],
   "source": [
    "df = pd.DataFrame({\"productivity\":[5,2,3,1,4,5,6,7,8,3,4,8,9],\n",
    "                   \"hours_in\"    :[1,9,6,5,3,9,2,9,1,7,4,2,2],\n",
    "                   \"happiness\"   :[2,1,3,2,3,1,2,3,1,2,2,1,3],\n",
    "                   \"caffienated\" :[0,0,1,1,0,0,0,0,1,1,0,1,0]})\n",
    "\n",
    "df.plot.scatter(\"hours_in\", \"productivity\", s = df.happiness * 30, c = df.caffienated)"
   ]
  },
  {
   "cell_type": "markdown",
   "id": "8963c2f1",
   "metadata": {
    "papermill": {
     "duration": 0.032472,
     "end_time": "2023-03-12T14:05:18.524568",
     "exception": false,
     "start_time": "2023-03-12T14:05:18.492096",
     "status": "completed"
    },
    "tags": []
   },
   "source": [
    "**58.**  What if we want to plot multiple things?  Pandas allows you to pass in a matplotlib *Axis* object for plots, and plots will also return an Axis object.\n",
    "\n",
    "Make a bar plot of monthly revenue with a line plot of monthly advertising spending (numbers in millions)\n",
    "\n",
    "```\n",
    "df = pd.DataFrame({\"revenue\":[57,68,63,71,72,90,80,62,59,51,47,52],\n",
    "                   \"advertising\":[2.1,1.9,2.7,3.0,3.6,3.2,2.7,2.4,1.8,1.6,1.3,1.9],\n",
    "                   \"month\":range(12)\n",
    "                  })\n",
    "```"
   ]
  },
  {
   "cell_type": "code",
   "execution_count": 57,
   "id": "931f5c5e",
   "metadata": {
    "execution": {
     "iopub.execute_input": "2023-03-12T14:05:18.591923Z",
     "iopub.status.busy": "2023-03-12T14:05:18.591472Z",
     "iopub.status.idle": "2023-03-12T14:05:18.899795Z",
     "shell.execute_reply": "2023-03-12T14:05:18.898884Z"
    },
    "papermill": {
     "duration": 0.344953,
     "end_time": "2023-03-12T14:05:18.902130",
     "exception": false,
     "start_time": "2023-03-12T14:05:18.557177",
     "status": "completed"
    },
    "tags": []
   },
   "outputs": [
    {
     "data": {
      "text/plain": [
       "(-1.0, 12.0)"
      ]
     },
     "execution_count": 57,
     "metadata": {},
     "output_type": "execute_result"
    },
    {
     "data": {
      "image/png": "[encoded data removed]",
      "text/plain": [
       "<Figure size 640x480 with 2 Axes>"
      ]
     },
     "metadata": {},
     "output_type": "display_data"
    }
   ],
   "source": [
    "df = pd.DataFrame({\"revenue\":[57,68,63,71,72,90,80,62,59,51,47,52],\n",
    "                   \"advertising\":[2.1,1.9,2.7,3.0,3.6,3.2,2.7,2.4,1.8,1.6,1.3,1.9],\n",
    "                   \"month\":range(12)\n",
    "                  })\n",
    "\n",
    "ax = df.plot.bar(\"month\", \"revenue\", color = \"green\")\n",
    "df.plot.line(\"month\", \"advertising\", secondary_y = True, ax = ax)\n",
    "ax.set_xlim((-1,12))"
   ]
  },
  {
   "cell_type": "markdown",
   "id": "eddb6e98",
   "metadata": {
    "papermill": {
     "duration": 0.033199,
     "end_time": "2023-03-12T14:05:18.968945",
     "exception": false,
     "start_time": "2023-03-12T14:05:18.935746",
     "status": "completed"
    },
    "tags": []
   },
   "source": [
    "Now we're finally ready to create a candlestick chart, which is a very common tool used to analyze stock price data.  A candlestick chart shows the opening, closing, highest, and lowest price for a stock during a time window.  The color of the \"candle\" (the thick part of the bar) is green if the stock closed above its opening price, or red if below.\n",
    "\n",
    "![Candlestick Example](img/candle.jpg)\n",
    "\n",
    "This was initially designed to be a pandas plotting challenge, but it just so happens that this type of plot is just not feasible using pandas' methods.  If you are unfamiliar with matplotlib, we have provided a function that will plot the chart for you so long as you can use pandas to get the data into the correct format.\n",
    "\n",
    "Your first step should be to get the data in the correct format using pandas' time-series grouping function.  We would like each candle to represent an hour's worth of data.  You can write your own aggregation function which returns the open/high/low/close, but pandas has a built-in which also does this."
   ]
  },
  {
   "cell_type": "markdown",
   "id": "2e2444d1",
   "metadata": {
    "papermill": {
     "duration": 0.035033,
     "end_time": "2023-03-12T14:05:19.038407",
     "exception": false,
     "start_time": "2023-03-12T14:05:19.003374",
     "status": "completed"
    },
    "tags": []
   },
   "source": [
    "The below cell contains helper functions.  Call ```day_stock_data()``` to generate a DataFrame containing the prices a hypothetical stock sold for, and the time the sale occurred.  Call ```plot_candlestick(df)``` on your properly aggregated and formatted stock data to print the candlestick chart."
   ]
  },
  {
   "cell_type": "code",
   "execution_count": 58,
   "id": "60dd0d1d",
   "metadata": {
    "execution": {
     "iopub.execute_input": "2023-03-12T14:05:19.108212Z",
     "iopub.status.busy": "2023-03-12T14:05:19.107552Z",
     "iopub.status.idle": "2023-03-12T14:05:19.118503Z",
     "shell.execute_reply": "2023-03-12T14:05:19.117546Z"
    },
    "papermill": {
     "duration": 0.048408,
     "end_time": "2023-03-12T14:05:19.120921",
     "exception": false,
     "start_time": "2023-03-12T14:05:19.072513",
     "status": "completed"
    },
    "tags": []
   },
   "outputs": [],
   "source": [
    "#This function is designed to create semi-interesting random stock price data\n",
    "\n",
    "import numpy as np\n",
    "def float_to_time(x):\n",
    "    return str(int(x)) + \":\" + str(int(x%1 * 60)).zfill(2) + \":\" + str(int(x*60 % 1 * 60)).zfill(2)\n",
    "\n",
    "def day_stock_data():\n",
    "    #NYSE is open from 9:30 to 4:00\n",
    "    time = 9.5\n",
    "    price = 100\n",
    "    results = [(float_to_time(time), price)]\n",
    "    while time < 16:\n",
    "        elapsed = np.random.exponential(.001)\n",
    "        time += elapsed\n",
    "        if time > 16:\n",
    "            break\n",
    "        price_diff = np.random.uniform(.999, 1.001)\n",
    "        price *= price_diff\n",
    "        results.append((float_to_time(time), price))\n",
    "    \n",
    "    \n",
    "    df = pd.DataFrame(results, columns = ['time','price'])\n",
    "    df.time = pd.to_datetime(df.time)\n",
    "    return df\n",
    "\n",
    "def plot_candlestick(agg):\n",
    "    fig, ax = plt.subplots()\n",
    "    for time in agg.index:\n",
    "        ax.plot([time.hour] * 2, agg.loc[time, [\"high\",\"low\"]].values, color = \"black\")\n",
    "        ax.plot([time.hour] * 2, agg.loc[time, [\"open\",\"close\"]].values, color = agg.loc[time, \"color\"], linewidth = 10)\n",
    "\n",
    "    ax.set_xlim((8,16))\n",
    "    ax.set_ylabel(\"Price\")\n",
    "    ax.set_xlabel(\"Hour\")\n",
    "    ax.set_title(\"OHLC of Stock Value During Trading Day\")\n",
    "    plt.show()"
   ]
  },
  {
   "cell_type": "markdown",
   "id": "0d664182",
   "metadata": {
    "papermill": {
     "duration": 0.033016,
     "end_time": "2023-03-12T14:05:19.187913",
     "exception": false,
     "start_time": "2023-03-12T14:05:19.154897",
     "status": "completed"
    },
    "tags": []
   },
   "source": [
    "**59.** Generate a day's worth of random stock data, and aggregate / reformat it so that it has hourly summaries of the opening, highest, lowest, and closing prices"
   ]
  },
  {
   "cell_type": "code",
   "execution_count": 59,
   "id": "2935cf4d",
   "metadata": {
    "execution": {
     "iopub.execute_input": "2023-03-12T14:05:19.257646Z",
     "iopub.status.busy": "2023-03-12T14:05:19.256911Z",
     "iopub.status.idle": "2023-03-12T14:05:19.655397Z",
     "shell.execute_reply": "2023-03-12T14:05:19.654118Z"
    },
    "papermill": {
     "duration": 0.436165,
     "end_time": "2023-03-12T14:05:19.657927",
     "exception": false,
     "start_time": "2023-03-12T14:05:19.221762",
     "status": "completed"
    },
    "tags": []
   },
   "outputs": [
    {
     "data": {
      "text/html": [
       "<div>\n",
       "<style scoped>\n",
       "    .dataframe tbody tr th:only-of-type {\n",
       "        vertical-align: middle;\n",
       "    }\n",
       "\n",
       "    .dataframe tbody tr th {\n",
       "        vertical-align: top;\n",
       "    }\n",
       "\n",
       "    .dataframe thead th {\n",
       "        text-align: right;\n",
       "    }\n",
       "</style>\n",
       "<table border=\"1\" class=\"dataframe\">\n",
       "  <thead>\n",
       "    <tr style=\"text-align: right;\">\n",
       "      <th></th>\n",
       "      <th>time</th>\n",
       "      <th>price</th>\n",
       "    </tr>\n",
       "  </thead>\n",
       "  <tbody>\n",
       "    <tr>\n",
       "      <th>0</th>\n",
       "      <td>2023-03-12 09:30:00</td>\n",
       "      <td>100.000000</td>\n",
       "    </tr>\n",
       "    <tr>\n",
       "      <th>1</th>\n",
       "      <td>2023-03-12 09:30:01</td>\n",
       "      <td>100.005122</td>\n",
       "    </tr>\n",
       "    <tr>\n",
       "      <th>2</th>\n",
       "      <td>2023-03-12 09:30:10</td>\n",
       "      <td>99.953517</td>\n",
       "    </tr>\n",
       "    <tr>\n",
       "      <th>3</th>\n",
       "      <td>2023-03-12 09:30:11</td>\n",
       "      <td>100.031758</td>\n",
       "    </tr>\n",
       "    <tr>\n",
       "      <th>4</th>\n",
       "      <td>2023-03-12 09:30:14</td>\n",
       "      <td>100.054342</td>\n",
       "    </tr>\n",
       "  </tbody>\n",
       "</table>\n",
       "</div>"
      ],
      "text/plain": [
       "                 time       price\n",
       "0 2023-03-12 09:30:00  100.000000\n",
       "1 2023-03-12 09:30:01  100.005122\n",
       "2 2023-03-12 09:30:10   99.953517\n",
       "3 2023-03-12 09:30:11  100.031758\n",
       "4 2023-03-12 09:30:14  100.054342"
      ]
     },
     "execution_count": 59,
     "metadata": {},
     "output_type": "execute_result"
    }
   ],
   "source": [
    "df = day_stock_data()\n",
    "df.head()"
   ]
  },
  {
   "cell_type": "code",
   "execution_count": 60,
   "id": "deaa7db3",
   "metadata": {
    "execution": {
     "iopub.execute_input": "2023-03-12T14:05:19.729857Z",
     "iopub.status.busy": "2023-03-12T14:05:19.729141Z",
     "iopub.status.idle": "2023-03-12T14:05:19.749753Z",
     "shell.execute_reply": "2023-03-12T14:05:19.748792Z"
    },
    "papermill": {
     "duration": 0.058299,
     "end_time": "2023-03-12T14:05:19.752206",
     "exception": false,
     "start_time": "2023-03-12T14:05:19.693907",
     "status": "completed"
    },
    "tags": []
   },
   "outputs": [
    {
     "data": {
      "text/html": [
       "<div>\n",
       "<style scoped>\n",
       "    .dataframe tbody tr th:only-of-type {\n",
       "        vertical-align: middle;\n",
       "    }\n",
       "\n",
       "    .dataframe tbody tr th {\n",
       "        vertical-align: top;\n",
       "    }\n",
       "\n",
       "    .dataframe thead th {\n",
       "        text-align: right;\n",
       "    }\n",
       "</style>\n",
       "<table border=\"1\" class=\"dataframe\">\n",
       "  <thead>\n",
       "    <tr style=\"text-align: right;\">\n",
       "      <th></th>\n",
       "      <th>open</th>\n",
       "      <th>high</th>\n",
       "      <th>low</th>\n",
       "      <th>close</th>\n",
       "      <th>color</th>\n",
       "    </tr>\n",
       "    <tr>\n",
       "      <th>time</th>\n",
       "      <th></th>\n",
       "      <th></th>\n",
       "      <th></th>\n",
       "      <th></th>\n",
       "      <th></th>\n",
       "    </tr>\n",
       "  </thead>\n",
       "  <tbody>\n",
       "    <tr>\n",
       "      <th>2023-03-12 09:00:00</th>\n",
       "      <td>100.000000</td>\n",
       "      <td>102.340240</td>\n",
       "      <td>99.447634</td>\n",
       "      <td>102.163746</td>\n",
       "      <td>green</td>\n",
       "    </tr>\n",
       "    <tr>\n",
       "      <th>2023-03-12 10:00:00</th>\n",
       "      <td>102.114965</td>\n",
       "      <td>104.307583</td>\n",
       "      <td>101.742550</td>\n",
       "      <td>103.338055</td>\n",
       "      <td>green</td>\n",
       "    </tr>\n",
       "    <tr>\n",
       "      <th>2023-03-12 11:00:00</th>\n",
       "      <td>103.262363</td>\n",
       "      <td>103.336553</td>\n",
       "      <td>99.478919</td>\n",
       "      <td>99.546338</td>\n",
       "      <td>red</td>\n",
       "    </tr>\n",
       "    <tr>\n",
       "      <th>2023-03-12 12:00:00</th>\n",
       "      <td>99.555763</td>\n",
       "      <td>101.566137</td>\n",
       "      <td>99.223931</td>\n",
       "      <td>100.271825</td>\n",
       "      <td>green</td>\n",
       "    </tr>\n",
       "    <tr>\n",
       "      <th>2023-03-12 13:00:00</th>\n",
       "      <td>100.285274</td>\n",
       "      <td>101.236852</td>\n",
       "      <td>99.581392</td>\n",
       "      <td>100.545893</td>\n",
       "      <td>green</td>\n",
       "    </tr>\n",
       "  </tbody>\n",
       "</table>\n",
       "</div>"
      ],
      "text/plain": [
       "                           open        high         low       close  color\n",
       "time                                                                      \n",
       "2023-03-12 09:00:00  100.000000  102.340240   99.447634  102.163746  green\n",
       "2023-03-12 10:00:00  102.114965  104.307583  101.742550  103.338055  green\n",
       "2023-03-12 11:00:00  103.262363  103.336553   99.478919   99.546338    red\n",
       "2023-03-12 12:00:00   99.555763  101.566137   99.223931  100.271825  green\n",
       "2023-03-12 13:00:00  100.285274  101.236852   99.581392  100.545893  green"
      ]
     },
     "execution_count": 60,
     "metadata": {},
     "output_type": "execute_result"
    }
   ],
   "source": [
    "df.set_index(\"time\", inplace = True)\n",
    "agg = df.resample(\"H\").ohlc()\n",
    "agg.columns = agg.columns.droplevel()\n",
    "agg[\"color\"] = (agg.close > agg.open).map({True:\"green\",False:\"red\"})\n",
    "agg.head()"
   ]
  },
  {
   "cell_type": "markdown",
   "id": "2003e570",
   "metadata": {
    "papermill": {
     "duration": 0.034004,
     "end_time": "2023-03-12T14:05:19.820430",
     "exception": false,
     "start_time": "2023-03-12T14:05:19.786426",
     "status": "completed"
    },
    "tags": []
   },
   "source": [
    "**60.** Now that you have your properly-formatted data, try to plot it yourself as a candlestick chart.  Use the ```plot_candlestick(df)``` function above, or matplotlib's [```plot``` documentation](https://matplotlib.org/api/_as_gen/matplotlib.axes.Axes.plot.html) if you get stuck."
   ]
  },
  {
   "cell_type": "code",
   "execution_count": 61,
   "id": "005da270",
   "metadata": {
    "execution": {
     "iopub.execute_input": "2023-03-12T14:05:19.890066Z",
     "iopub.status.busy": "2023-03-12T14:05:19.889212Z",
     "iopub.status.idle": "2023-03-12T14:05:20.078314Z",
     "shell.execute_reply": "2023-03-12T14:05:20.077065Z"
    },
    "papermill": {
     "duration": 0.226716,
     "end_time": "2023-03-12T14:05:20.080867",
     "exception": false,
     "start_time": "2023-03-12T14:05:19.854151",
     "status": "completed"
    },
    "tags": []
   },
   "outputs": [
    {
     "data": {
      "image/png": "[encoded data removed]",
      "text/plain": [
       "<Figure size 640x480 with 1 Axes>"
      ]
     },
     "metadata": {},
     "output_type": "display_data"
    }
   ],
   "source": [
    "plot_candlestick(agg)"
   ]
  },
  {
   "cell_type": "markdown",
   "id": "bb9e35de",
   "metadata": {
    "papermill": {
     "duration": 0.033364,
     "end_time": "2023-03-12T14:05:20.148495",
     "exception": false,
     "start_time": "2023-03-12T14:05:20.115131",
     "status": "completed"
    },
    "tags": []
   },
   "source": [
    "*More exercises to follow soon...*"
   ]
  }
 ],
 "metadata": {
  "kernelspec": {
   "display_name": "Python 3",
   "language": "python",
   "name": "python3"
  },
  "language_info": {
   "codemirror_mode": {
    "name": "ipython",
    "version": 3
   },
   "file_extension": ".py",
   "mimetype": "text/x-python",
   "name": "python",
   "nbconvert_exporter": "python",
   "pygments_lexer": "ipython3",
   "version": "3.7.12"
  },
  "papermill": {
   "default_parameters": {},
   "duration": 24.830376,
   "end_time": "2023-03-12T14:05:21.105377",
   "environment_variables": {},
   "exception": null,
   "input_path": "__notebook__.ipynb",
   "output_path": "__notebook__.ipynb",
   "parameters": {},
   "start_time": "2023-03-12T14:04:56.275001",
   "version": "2.4.0"
  }
 },
 "nbformat": 4,
 "nbformat_minor": 5
}
