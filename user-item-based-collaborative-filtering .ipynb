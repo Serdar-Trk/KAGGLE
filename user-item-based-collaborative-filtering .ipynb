{
 "cells": [
  {
   "cell_type": "markdown",
   "id": "b93f808a",
   "metadata": {
    "papermill": {
     "duration": 0.008816,
     "end_time": "2023-03-24T19:38:00.384822",
     "exception": false,
     "start_time": "2023-03-24T19:38:00.376006",
     "status": "completed"
    },
    "tags": []
   },
   "source": [
    "<div style=\"float:center;margin-left:100px;max-width:100%;\">\n",
    "<img src=\"https://i.imgur.com/XDC6ZdH.gif\"></div>\n",
    "\n",
    "<strong style=\"color:#B3005E;font-size:25px;font-family:Georgia;text-align:center;\">Why the Recommendation system? </strong>\n",
    "\n",
    "* Benefits users in finding items of their interest.\n",
    "\n",
    "* Help item providers in delivering their items to the right user.\n",
    "\n",
    "* Identity products that are most relevant to users.\n",
    "\n",
    "* Personalized content.\n",
    "\n",
    "* Help websites to improve user engagement.\n",
    "\n",
    "<strong style=\"color:#B3005E;font-size:25px;font-family:Georgia;text-align:center;\">1-User Based Collaborative Filtering\n",
    " </strong>\n",
    "\n",
    "\n",
    "* Collaborative filtering is making recommend according to combination of your experience and experiences of other people.\n",
    "* First we need to make user vs item matrix.\n",
    "* Each row is users and each columns are items like movie, product or websites\n",
    "* Secondly, computes similarity scores between users.\n",
    "* Each row is users and each row is vector.\n",
    "* Compute similarity of these rows (users).\n",
    "* Thirdly, find users who are similar to you based on past behaviours\n",
    "* Finally, it suggests that you are not experienced before.\n",
    "* User based collaborative filtering has some problems\n",
    "* In this system, each row of matrix is user. Therefore, comparing and finding similarity between of them is computationaly hard and spend too much computational power.\n",
    "* Also, habits of people can be changed. Therefore making correct and useful recommendation can be hard in time.\n",
    "* In order to solve these problems, lets look at another recommender system that is item based collaborative filtering\n",
    "\n",
    "<strong style=\"color:#B3005E;font-size:25px;font-family:Georgia;text-align:center;\">2-Item Based Collaborative Filtering\n",
    " </strong>\n",
    "\n",
    "* In this system, instead of finding relationship between users, used items like movies or stuffs are compared with each others.\n",
    "* In user based recommendation systems, habits of users can be changed. This situation makes hard to recommendation. However, in item based recommendation systems, movies or stuffs does not change. Therefore recommendation is easier.\n",
    "* On the other hand, there are almost 7 billion people all over the world. Comparing people increases the computational power. However, if items are compared, computational power is less.\n",
    "* In item based recommendation systems, we need to make user vs item matrix that we use also in user based recommender systems.\n",
    "* Each row is user and each column is items like movie, product or websites.\n",
    "* However, at this time instead of calculating similarity between rows, we need to calculate similarity between columns that are items like movies or stuffs.\n",
    "\n",
    "\n",
    "<div style=\"float:center;margin-left:100px;max-width:100%;\">\n",
    "<img src=\"https://i.imgur.com/11r6q9d.jpg\"></div>\n",
    "\n",
    "<div class=\"inner_cell\">\n",
    "<div class=\"text_cell_render border-box-sizing rendered_html\">\n",
    "<p></p><div class=\"list-group\" id=\"list-tab\" role=\"tablist\">\n",
    "  <h3 class=\"list-group-item list-group-item-action active\" data-toggle=\"list\" role=\"tab\" aria-controls=\"home\" style = \"background-color:#FCFFE7;font-family:Georgia;color:#B3005E;font-size:200%;text-align:LEFT;border-radius:20px 40px;overflow:hidden;border-style:dotted;border-width:1.8px;border-color:#B3005E;\">...Table of Contents...</h3>\n",
    "  <a class=\"list-group-item list-group-item-action\" data-toggle=\"list\" href=\"#1\" role=\"tab\" aria-controls=\"home\" target=\"_self\" style = \"color:#000000; font-family:Charter;font-size:120%;\">1-User Based Collaborative Filtering <span class=\"badge badge-primary badge-pill\">1</span></a>\n",
    "  <a class=\"list-group-item list-group-item-action\" data-toggle=\"list\" href=\"#2\" role=\"tab\" aria-controls=\"messages\" target=\"_self\" style = \"color:#000000; font-family:Charter;font-size:120%;\">Practical to Bring Watched Movies<span class=\"badge badge-primary badge-pill\">2</span></a>\n",
    "  <a class=\"list-group-item list-group-item-action\" data-toggle=\"list\" href=\"#3\" role=\"tab\" aria-controls=\"settings\" target=\"_self\" style = \"color:#000000; font-family:Charter;font-size:120%;\">2- Item Based Collaborative Filtering<span class=\"badge badge-primary badge-pill\">3</span></a>\n",
    "  <a class=\"list-group-item list-group-item-action\" data-toggle=\"list\" href=\"#4\" role=\"tab\" aria-controls=\"settings\" target=\"_self\" style = \"color:#000000; font-family:Charter;font-size:120%;\">Making Movie Recommendations<span class=\"badge badge-primary badge-pill\">4</span></a> \n",
    "  <a class=\"list-group-item list-group-item-action\" data-toggle=\"list\" href=\"#5\" role=\"tab\" aria-controls=\"settings\" target=\"_self\" style = \"color:#000000; font-family:Charter;font-size:120%;\"> ^^^^^<span class=\"badge badge-primary badge-pill\">5</span></a>\n",
    "</div>\n",
    "</div>\n",
    "</div>\n"
   ]
  },
  {
   "cell_type": "code",
   "execution_count": 1,
   "id": "bb07a0eb",
   "metadata": {
    "execution": {
     "iopub.execute_input": "2023-03-24T19:38:00.402333Z",
     "iopub.status.busy": "2023-03-24T19:38:00.401929Z",
     "iopub.status.idle": "2023-03-24T19:38:00.410722Z",
     "shell.execute_reply": "2023-03-24T19:38:00.409976Z"
    },
    "papermill": {
     "duration": 0.02056,
     "end_time": "2023-03-24T19:38:00.413346",
     "exception": false,
     "start_time": "2023-03-24T19:38:00.392786",
     "status": "completed"
    },
    "tags": []
   },
   "outputs": [],
   "source": [
    "import pandas as pd\n",
    "pd.set_option('display.max_columns', None)\n",
    "pd.set_option('display.width', 500)\n",
    "pd.set_option('display.expand_frame_repr', False)"
   ]
  },
  {
   "cell_type": "markdown",
   "id": "9a7fd955",
   "metadata": {
    "papermill": {
     "duration": 0.007489,
     "end_time": "2023-03-24T19:38:00.428845",
     "exception": false,
     "start_time": "2023-03-24T19:38:00.421356",
     "status": "completed"
    },
    "tags": []
   },
   "source": [
    "<a id = \"1\"></a>\n",
    "<strong style=\"color:#B3005E;font-size:30px;font-family:Georgia;text-align:center;\">1-User Based Collaborative Filtering\n",
    " </strong>\n",
    " "
   ]
  },
  {
   "cell_type": "code",
   "execution_count": 2,
   "id": "9a5780c8",
   "metadata": {
    "execution": {
     "iopub.execute_input": "2023-03-24T19:38:00.447190Z",
     "iopub.status.busy": "2023-03-24T19:38:00.446483Z",
     "iopub.status.idle": "2023-03-24T19:38:23.511707Z",
     "shell.execute_reply": "2023-03-24T19:38:23.510720Z"
    },
    "papermill": {
     "duration": 23.077312,
     "end_time": "2023-03-24T19:38:23.514214",
     "exception": false,
     "start_time": "2023-03-24T19:38:00.436902",
     "status": "completed"
    },
    "tags": []
   },
   "outputs": [],
   "source": [
    "\n",
    "movie = pd.read_csv('/kaggle/input/movielens-20m-dataset/movie.csv')\n",
    "rating = pd.read_csv('/kaggle/input/movielens-20m-dataset/rating.csv')\n",
    "    "
   ]
  },
  {
   "cell_type": "code",
   "execution_count": 3,
   "id": "54dec4ea",
   "metadata": {
    "execution": {
     "iopub.execute_input": "2023-03-24T19:38:23.532742Z",
     "iopub.status.busy": "2023-03-24T19:38:23.532356Z",
     "iopub.status.idle": "2023-03-24T19:39:15.558449Z",
     "shell.execute_reply": "2023-03-24T19:39:15.556820Z"
    },
    "papermill": {
     "duration": 52.038585,
     "end_time": "2023-03-24T19:39:15.560822",
     "exception": false,
     "start_time": "2023-03-24T19:38:23.522237",
     "status": "completed"
    },
    "tags": []
   },
   "outputs": [
    {
     "name": "stdout",
     "output_type": "stream",
     "text": [
      "------------------------------- SHAPE --------------------------------\n",
      "Rows: 20000797\n",
      "Columns: 6\n",
      "------------------------------- TYPES --------------------------------\n",
      "movieId        int64\n",
      "title         object\n",
      "genres        object\n",
      "userId       float64\n",
      "rating       float64\n",
      "timestamp     object\n",
      "dtype: object\n",
      "-------------------------------- HEAD --------------------------------\n",
      "   movieId             title                                       genres  userId  rating            timestamp\n",
      "0        1  Toy Story (1995)  Adventure|Animation|Children|Comedy|Fantasy     3.0     4.0  1999-12-11 13:36:47\n",
      "1        1  Toy Story (1995)  Adventure|Animation|Children|Comedy|Fantasy     6.0     5.0  1997-03-13 17:50:52\n",
      "2        1  Toy Story (1995)  Adventure|Animation|Children|Comedy|Fantasy     8.0     4.0  1996-06-05 13:37:51\n",
      "3        1  Toy Story (1995)  Adventure|Animation|Children|Comedy|Fantasy    10.0     4.0  1999-11-25 02:44:47\n",
      "4        1  Toy Story (1995)  Adventure|Animation|Children|Comedy|Fantasy    11.0     4.5  2009-01-02 01:13:41\n",
      "-------------------------------- TAIL --------------------------------\n",
      "          movieId                          title                    genres    userId  rating            timestamp\n",
      "20000792   131254   Kein Bund für's Leben (2007)                    Comedy   79570.0     4.0  2015-03-30 19:32:59\n",
      "20000793   131256  Feuer, Eis & Dosenbier (2002)                    Comedy   79570.0     4.0  2015-03-30 19:48:08\n",
      "20000794   131258             The Pirates (2014)                 Adventure   28906.0     2.5  2015-03-30 19:56:32\n",
      "20000795   131260            Rentun Ruusu (2001)        (no genres listed)   65409.0     3.0  2015-03-30 19:57:46\n",
      "20000796   131262               Innocence (2014)  Adventure|Fantasy|Horror  133047.0     4.0  2015-03-30 20:39:26\n",
      "--------------------------- MISSING VALUES ---------------------------\n",
      "movieId        0\n",
      "title          0\n",
      "genres         0\n",
      "userId       534\n",
      "rating       534\n",
      "timestamp    534\n",
      "dtype: int64\n",
      "------------------------- DUPLICATED VALUES --------------------------\n",
      "0\n",
      "------------------------------ DESCRIBE ------------------------------\n",
      "              count          mean           std  min      25%      50%       75%       max\n",
      "movieId  20000797.0   9044.349230  19796.714278  1.0    902.0   2167.0    4770.0  131262.0\n",
      "userId   20000263.0  69045.872583  40038.626653  1.0  34395.0  69141.0  103637.0  138493.0\n",
      "rating   20000263.0      3.525529      1.051989  0.5      3.0      3.5       4.0       5.0\n"
     ]
    }
   ],
   "source": [
    "df = movie.merge(rating, how=\"left\", on=\"movieId\")\n",
    "\n",
    "def check_df(dataframe, head=5):\n",
    "    print(\" SHAPE \".center(70,'-'))\n",
    "    print('Rows: {}'.format(dataframe.shape[0]))\n",
    "    print('Columns: {}'.format(dataframe.shape[1]))\n",
    "    print(\" TYPES \".center(70,'-'))\n",
    "    print(dataframe.dtypes)\n",
    "    print(\" HEAD \".center(70,'-'))\n",
    "    print(dataframe.head(head))\n",
    "    print(\" TAIL \".center(70,'-'))\n",
    "    print(dataframe.tail(head))\n",
    "    print(\" MISSING VALUES \".center(70,'-'))\n",
    "    print(dataframe.isnull().sum())\n",
    "    print(\" DUPLICATED VALUES \".center(70,'-'))\n",
    "    print(dataframe.duplicated().sum())\n",
    "    print(\" DESCRIBE \".center(70,'-'))\n",
    "    print(dataframe.describe().T)\n",
    "    \n",
    "check_df(df)"
   ]
  },
  {
   "cell_type": "code",
   "execution_count": 4,
   "id": "174493f1",
   "metadata": {
    "execution": {
     "iopub.execute_input": "2023-03-24T19:39:15.579744Z",
     "iopub.status.busy": "2023-03-24T19:39:15.579368Z",
     "iopub.status.idle": "2023-03-24T19:39:40.162214Z",
     "shell.execute_reply": "2023-03-24T19:39:40.160645Z"
    },
    "papermill": {
     "duration": 24.594718,
     "end_time": "2023-03-24T19:39:40.164825",
     "exception": false,
     "start_time": "2023-03-24T19:39:15.570107",
     "status": "completed"
    },
    "tags": []
   },
   "outputs": [],
   "source": [
    "def create_user_movie_df():\n",
    "    comment_counts = pd.DataFrame(df[\"title\"].value_counts())\n",
    "    rare_movies = comment_counts[comment_counts[\"title\"] <= 1000].index\n",
    "    common_movies = df[~df[\"title\"].isin(rare_movies)]\n",
    "    user_movie_df = common_movies.pivot_table(index=[\"userId\"], columns=[\"title\"], values=\"rating\")\n",
    "    return user_movie_df\n",
    "user_movie_df = create_user_movie_df()"
   ]
  },
  {
   "cell_type": "markdown",
   "id": "b32c4a0d",
   "metadata": {
    "papermill": {
     "duration": 0.007407,
     "end_time": "2023-03-24T19:39:40.180297",
     "exception": false,
     "start_time": "2023-03-24T19:39:40.172890",
     "status": "completed"
    },
    "tags": []
   },
   "source": [
    "<a id = \"2\"></a>\n",
    "<strong style=\"color:#B3005E;font-size:25px;font-family:Georgia;text-align:center;\">Practical to Bring Watched Movies </strong>"
   ]
  },
  {
   "cell_type": "code",
   "execution_count": 5,
   "id": "d0165712",
   "metadata": {
    "execution": {
     "iopub.execute_input": "2023-03-24T19:39:40.197345Z",
     "iopub.status.busy": "2023-03-24T19:39:40.196921Z",
     "iopub.status.idle": "2023-03-24T19:39:40.212845Z",
     "shell.execute_reply": "2023-03-24T19:39:40.211609Z"
    },
    "papermill": {
     "duration": 0.027065,
     "end_time": "2023-03-24T19:39:40.214970",
     "exception": false,
     "start_time": "2023-03-24T19:39:40.187905",
     "status": "completed"
    },
    "tags": []
   },
   "outputs": [
    {
     "data": {
      "text/plain": [
       "28941"
      ]
     },
     "execution_count": 5,
     "metadata": {},
     "output_type": "execute_result"
    }
   ],
   "source": [
    "# User to recommend\n",
    "random_user = int(pd.Series(user_movie_df.index).sample(1, random_state=45).values)\n",
    "random_user\n",
    "# Find out which movies the user has watched and what rating they have given.\n",
    "# Find people who show similar liking behavior to the selected user.\n",
    "# calculate score.\n",
    "# And advise accordingly."
   ]
  },
  {
   "cell_type": "code",
   "execution_count": 6,
   "id": "890514b5",
   "metadata": {
    "execution": {
     "iopub.execute_input": "2023-03-24T19:39:40.233298Z",
     "iopub.status.busy": "2023-03-24T19:39:40.232916Z",
     "iopub.status.idle": "2023-03-24T19:39:40.249695Z",
     "shell.execute_reply": "2023-03-24T19:39:40.248500Z"
    },
    "papermill": {
     "duration": 0.028803,
     "end_time": "2023-03-24T19:39:40.252277",
     "exception": false,
     "start_time": "2023-03-24T19:39:40.223474",
     "status": "completed"
    },
    "tags": []
   },
   "outputs": [
    {
     "data": {
      "text/plain": [
       "['Ace Ventura: Pet Detective (1994)',\n",
       " 'Ace Ventura: When Nature Calls (1995)',\n",
       " 'Aladdin (1992)',\n",
       " 'American President, The (1995)',\n",
       " 'Apollo 13 (1995)',\n",
       " 'Babe (1995)',\n",
       " 'Bullets Over Broadway (1994)',\n",
       " 'Clueless (1995)',\n",
       " 'Disclosure (1994)',\n",
       " 'Forrest Gump (1994)',\n",
       " 'Four Weddings and a Funeral (1994)',\n",
       " 'Home Alone (1990)',\n",
       " 'Jurassic Park (1993)',\n",
       " 'Like Water for Chocolate (Como agua para chocolate) (1992)',\n",
       " 'Little Women (1994)',\n",
       " \"Mr. Holland's Opus (1995)\",\n",
       " 'Mrs. Doubtfire (1993)',\n",
       " 'Much Ado About Nothing (1993)',\n",
       " \"Muriel's Wedding (1994)\",\n",
       " 'Nine Months (1995)',\n",
       " 'Operation Dumbo Drop (1995)',\n",
       " 'Piano, The (1993)',\n",
       " 'Postman, The (Postino, Il) (1994)',\n",
       " 'Ready to Wear (Pret-A-Porter) (1994)',\n",
       " 'Remains of the Day, The (1993)',\n",
       " 'Sabrina (1995)',\n",
       " \"Schindler's List (1993)\",\n",
       " 'Secret Garden, The (1993)',\n",
       " 'Sense and Sensibility (1995)',\n",
       " 'Shadowlands (1993)',\n",
       " 'Silence of the Lambs, The (1991)',\n",
       " 'Star Trek: Generations (1994)',\n",
       " 'Stargate (1994)']"
      ]
     },
     "execution_count": 6,
     "metadata": {},
     "output_type": "execute_result"
    }
   ],
   "source": [
    "# I select the part of the data set that interests your user.\n",
    "# Movies watched by the user.\n",
    "random_user_df = user_movie_df[user_movie_df.index == random_user]\n",
    "\n",
    "# Bring non-NAs. \n",
    "movies_watched = random_user_df.columns[random_user_df.notna().any()].tolist()\n",
    "movies_watched #List of watched movies."
   ]
  },
  {
   "cell_type": "code",
   "execution_count": 7,
   "id": "212976a4",
   "metadata": {
    "execution": {
     "iopub.execute_input": "2023-03-24T19:39:40.270508Z",
     "iopub.status.busy": "2023-03-24T19:39:40.270171Z",
     "iopub.status.idle": "2023-03-24T19:39:40.277280Z",
     "shell.execute_reply": "2023-03-24T19:39:40.275948Z"
    },
    "papermill": {
     "duration": 0.018493,
     "end_time": "2023-03-24T19:39:40.279373",
     "exception": false,
     "start_time": "2023-03-24T19:39:40.260880",
     "status": "completed"
    },
    "tags": []
   },
   "outputs": [
    {
     "data": {
      "text/plain": [
       "33"
      ]
     },
     "execution_count": 7,
     "metadata": {},
     "output_type": "execute_result"
    }
   ],
   "source": [
    "#Our user has watched 33 movies.\n",
    "len(movies_watched)"
   ]
  },
  {
   "cell_type": "code",
   "execution_count": 8,
   "id": "877a2d17",
   "metadata": {
    "execution": {
     "iopub.execute_input": "2023-03-24T19:39:40.297729Z",
     "iopub.status.busy": "2023-03-24T19:39:40.297388Z",
     "iopub.status.idle": "2023-03-24T19:39:40.315179Z",
     "shell.execute_reply": "2023-03-24T19:39:40.314099Z"
    },
    "papermill": {
     "duration": 0.029771,
     "end_time": "2023-03-24T19:39:40.317516",
     "exception": false,
     "start_time": "2023-03-24T19:39:40.287745",
     "status": "completed"
    },
    "tags": []
   },
   "outputs": [
    {
     "data": {
      "text/html": [
       "<div>\n",
       "<style scoped>\n",
       "    .dataframe tbody tr th:only-of-type {\n",
       "        vertical-align: middle;\n",
       "    }\n",
       "\n",
       "    .dataframe tbody tr th {\n",
       "        vertical-align: top;\n",
       "    }\n",
       "\n",
       "    .dataframe thead th {\n",
       "        text-align: right;\n",
       "    }\n",
       "</style>\n",
       "<table border=\"1\" class=\"dataframe\">\n",
       "  <thead>\n",
       "    <tr style=\"text-align: right;\">\n",
       "      <th>title</th>\n",
       "      <th>Silence of the Lambs, The (1991)</th>\n",
       "    </tr>\n",
       "    <tr>\n",
       "      <th>userId</th>\n",
       "      <th></th>\n",
       "    </tr>\n",
       "  </thead>\n",
       "  <tbody>\n",
       "    <tr>\n",
       "      <th>28941.0</th>\n",
       "      <td>1.0</td>\n",
       "    </tr>\n",
       "  </tbody>\n",
       "</table>\n",
       "</div>"
      ],
      "text/plain": [
       "title    Silence of the Lambs, The (1991)\n",
       "userId                                   \n",
       "28941.0                               1.0"
      ]
     },
     "execution_count": 8,
     "metadata": {},
     "output_type": "execute_result"
    }
   ],
   "source": [
    "# We wonder how many ratings the user gave the movie \"Silence of the Lambs, The (1991)\".\n",
    "user_movie_df.loc[user_movie_df.index == random_user,user_movie_df.columns == \"Silence of the Lambs, The (1991)\"]"
   ]
  },
  {
   "cell_type": "markdown",
   "id": "c6136f36",
   "metadata": {
    "papermill": {
     "duration": 0.008228,
     "end_time": "2023-03-24T19:39:40.334887",
     "exception": false,
     "start_time": "2023-03-24T19:39:40.326659",
     "status": "completed"
    },
    "tags": []
   },
   "source": [
    " <a id = \"3\"></a>\n",
    "\n",
    " <strong style=\"color:#B3005E;font-size:20px;font-family:Georgia;text-align:center;\">Other Users Watching the Same Movies  </strong>\n",
    " "
   ]
  },
  {
   "cell_type": "code",
   "execution_count": 9,
   "id": "6a7c562c",
   "metadata": {
    "execution": {
     "iopub.execute_input": "2023-03-24T19:39:40.354352Z",
     "iopub.status.busy": "2023-03-24T19:39:40.353648Z",
     "iopub.status.idle": "2023-03-24T19:39:40.374064Z",
     "shell.execute_reply": "2023-03-24T19:39:40.373341Z"
    },
    "papermill": {
     "duration": 0.032665,
     "end_time": "2023-03-24T19:39:40.376213",
     "exception": false,
     "start_time": "2023-03-24T19:39:40.343548",
     "status": "completed"
    },
    "tags": []
   },
   "outputs": [
    {
     "data": {
      "text/html": [
       "<div>\n",
       "<style scoped>\n",
       "    .dataframe tbody tr th:only-of-type {\n",
       "        vertical-align: middle;\n",
       "    }\n",
       "\n",
       "    .dataframe tbody tr th {\n",
       "        vertical-align: top;\n",
       "    }\n",
       "\n",
       "    .dataframe thead th {\n",
       "        text-align: right;\n",
       "    }\n",
       "</style>\n",
       "<table border=\"1\" class=\"dataframe\">\n",
       "  <thead>\n",
       "    <tr style=\"text-align: right;\">\n",
       "      <th>title</th>\n",
       "      <th>Ace Ventura: Pet Detective (1994)</th>\n",
       "      <th>Ace Ventura: When Nature Calls (1995)</th>\n",
       "      <th>Aladdin (1992)</th>\n",
       "      <th>American President, The (1995)</th>\n",
       "      <th>Apollo 13 (1995)</th>\n",
       "    </tr>\n",
       "    <tr>\n",
       "      <th>userId</th>\n",
       "      <th></th>\n",
       "      <th></th>\n",
       "      <th></th>\n",
       "      <th></th>\n",
       "      <th></th>\n",
       "    </tr>\n",
       "  </thead>\n",
       "  <tbody>\n",
       "    <tr>\n",
       "      <th>1.0</th>\n",
       "      <td>NaN</td>\n",
       "      <td>NaN</td>\n",
       "      <td>NaN</td>\n",
       "      <td>NaN</td>\n",
       "      <td>NaN</td>\n",
       "    </tr>\n",
       "    <tr>\n",
       "      <th>2.0</th>\n",
       "      <td>NaN</td>\n",
       "      <td>NaN</td>\n",
       "      <td>NaN</td>\n",
       "      <td>NaN</td>\n",
       "      <td>NaN</td>\n",
       "    </tr>\n",
       "    <tr>\n",
       "      <th>3.0</th>\n",
       "      <td>NaN</td>\n",
       "      <td>NaN</td>\n",
       "      <td>NaN</td>\n",
       "      <td>NaN</td>\n",
       "      <td>NaN</td>\n",
       "    </tr>\n",
       "    <tr>\n",
       "      <th>4.0</th>\n",
       "      <td>NaN</td>\n",
       "      <td>3.0</td>\n",
       "      <td>NaN</td>\n",
       "      <td>NaN</td>\n",
       "      <td>NaN</td>\n",
       "    </tr>\n",
       "    <tr>\n",
       "      <th>5.0</th>\n",
       "      <td>NaN</td>\n",
       "      <td>NaN</td>\n",
       "      <td>5.0</td>\n",
       "      <td>5.0</td>\n",
       "      <td>5.0</td>\n",
       "    </tr>\n",
       "  </tbody>\n",
       "</table>\n",
       "</div>"
      ],
      "text/plain": [
       "title   Ace Ventura: Pet Detective (1994)  Ace Ventura: When Nature Calls (1995)  Aladdin (1992)  American President, The (1995)  Apollo 13 (1995)\n",
       "userId                                                                                                                                            \n",
       "1.0                                   NaN                                    NaN             NaN                             NaN               NaN\n",
       "2.0                                   NaN                                    NaN             NaN                             NaN               NaN\n",
       "3.0                                   NaN                                    NaN             NaN                             NaN               NaN\n",
       "4.0                                   NaN                                    3.0             NaN                             NaN               NaN\n",
       "5.0                                   NaN                                    NaN             5.0                             5.0               5.0"
      ]
     },
     "execution_count": 9,
     "metadata": {},
     "output_type": "execute_result"
    }
   ],
   "source": [
    "# Access to the information of users who have watched the same movies.\n",
    "movies_watched_df = user_movie_df[movies_watched]\n",
    "movies_watched_df.iloc[0:5, 0:5]"
   ]
  },
  {
   "cell_type": "code",
   "execution_count": 10,
   "id": "36968fa4",
   "metadata": {
    "execution": {
     "iopub.execute_input": "2023-03-24T19:39:40.396818Z",
     "iopub.status.busy": "2023-03-24T19:39:40.396209Z",
     "iopub.status.idle": "2023-03-24T19:39:40.669741Z",
     "shell.execute_reply": "2023-03-24T19:39:40.668589Z"
    },
    "papermill": {
     "duration": 0.286991,
     "end_time": "2023-03-24T19:39:40.672692",
     "exception": false,
     "start_time": "2023-03-24T19:39:40.385701",
     "status": "completed"
    },
    "tags": []
   },
   "outputs": [
    {
     "data": {
      "text/html": [
       "<div>\n",
       "<style scoped>\n",
       "    .dataframe tbody tr th:only-of-type {\n",
       "        vertical-align: middle;\n",
       "    }\n",
       "\n",
       "    .dataframe tbody tr th {\n",
       "        vertical-align: top;\n",
       "    }\n",
       "\n",
       "    .dataframe thead th {\n",
       "        text-align: right;\n",
       "    }\n",
       "</style>\n",
       "<table border=\"1\" class=\"dataframe\">\n",
       "  <thead>\n",
       "    <tr style=\"text-align: right;\">\n",
       "      <th></th>\n",
       "      <th>userId</th>\n",
       "      <th>movie_count</th>\n",
       "    </tr>\n",
       "  </thead>\n",
       "  <tbody>\n",
       "    <tr>\n",
       "      <th>94230</th>\n",
       "      <td>94231.0</td>\n",
       "      <td>33</td>\n",
       "    </tr>\n",
       "    <tr>\n",
       "      <th>100398</th>\n",
       "      <td>100399.0</td>\n",
       "      <td>33</td>\n",
       "    </tr>\n",
       "    <tr>\n",
       "      <th>118204</th>\n",
       "      <td>118205.0</td>\n",
       "      <td>33</td>\n",
       "    </tr>\n",
       "    <tr>\n",
       "      <th>15918</th>\n",
       "      <td>15919.0</td>\n",
       "      <td>33</td>\n",
       "    </tr>\n",
       "    <tr>\n",
       "      <th>124051</th>\n",
       "      <td>124052.0</td>\n",
       "      <td>33</td>\n",
       "    </tr>\n",
       "    <tr>\n",
       "      <th>...</th>\n",
       "      <td>...</td>\n",
       "      <td>...</td>\n",
       "    </tr>\n",
       "    <tr>\n",
       "      <th>79214</th>\n",
       "      <td>79215.0</td>\n",
       "      <td>21</td>\n",
       "    </tr>\n",
       "    <tr>\n",
       "      <th>79174</th>\n",
       "      <td>79175.0</td>\n",
       "      <td>21</td>\n",
       "    </tr>\n",
       "    <tr>\n",
       "      <th>9105</th>\n",
       "      <td>9106.0</td>\n",
       "      <td>21</td>\n",
       "    </tr>\n",
       "    <tr>\n",
       "      <th>78515</th>\n",
       "      <td>78516.0</td>\n",
       "      <td>21</td>\n",
       "    </tr>\n",
       "    <tr>\n",
       "      <th>129</th>\n",
       "      <td>130.0</td>\n",
       "      <td>21</td>\n",
       "    </tr>\n",
       "  </tbody>\n",
       "</table>\n",
       "<p>3202 rows × 2 columns</p>\n",
       "</div>"
      ],
      "text/plain": [
       "          userId  movie_count\n",
       "94230    94231.0           33\n",
       "100398  100399.0           33\n",
       "118204  118205.0           33\n",
       "15918    15919.0           33\n",
       "124051  124052.0           33\n",
       "...          ...          ...\n",
       "79214    79215.0           21\n",
       "79174    79175.0           21\n",
       "9105      9106.0           21\n",
       "78515    78516.0           21\n",
       "129        130.0           21\n",
       "\n",
       "[3202 rows x 2 columns]"
      ]
     },
     "execution_count": 10,
     "metadata": {},
     "output_type": "execute_result"
    }
   ],
   "source": [
    "# From here we want to select only those who have watched at least 20 joint movies with our user.\n",
    "# For this, we want to access the information about how many movies our other users have watched.\n",
    "# Threshold values to be determined here are relative. It may vary.\n",
    "user_movie_count = movies_watched_df.T.notnull().sum()\n",
    "user_movie_count = user_movie_count.reset_index()\n",
    "user_movie_count.columns = [\"userId\", \"movie_count\"]\n",
    "# At least 20 joint films\n",
    "user_movie_count[user_movie_count[\"movie_count\"] > 20].sort_values(\"movie_count\", ascending=False)\n"
   ]
  },
  {
   "cell_type": "code",
   "execution_count": 11,
   "id": "4dde9302",
   "metadata": {
    "execution": {
     "iopub.execute_input": "2023-03-24T19:39:40.693102Z",
     "iopub.status.busy": "2023-03-24T19:39:40.692455Z",
     "iopub.status.idle": "2023-03-24T19:39:40.701674Z",
     "shell.execute_reply": "2023-03-24T19:39:40.700209Z"
    },
    "papermill": {
     "duration": 0.021505,
     "end_time": "2023-03-24T19:39:40.703728",
     "exception": false,
     "start_time": "2023-03-24T19:39:40.682223",
     "status": "completed"
    },
    "tags": []
   },
   "outputs": [
    {
     "data": {
      "text/plain": [
       "userId         17\n",
       "movie_count    17\n",
       "dtype: int64"
      ]
     },
     "execution_count": 11,
     "metadata": {},
     "output_type": "execute_result"
    }
   ],
   "source": [
    "# For example, if we want to see other users who have watched all the movies the user has watched.\n",
    "user_movie_count[user_movie_count[\"movie_count\"] == 33].count()"
   ]
  },
  {
   "cell_type": "code",
   "execution_count": 12,
   "id": "56946b65",
   "metadata": {
    "execution": {
     "iopub.execute_input": "2023-03-24T19:39:40.723164Z",
     "iopub.status.busy": "2023-03-24T19:39:40.722776Z",
     "iopub.status.idle": "2023-03-24T19:39:40.728061Z",
     "shell.execute_reply": "2023-03-24T19:39:40.727370Z"
    },
    "papermill": {
     "duration": 0.017129,
     "end_time": "2023-03-24T19:39:40.729927",
     "exception": false,
     "start_time": "2023-03-24T19:39:40.712798",
     "status": "completed"
    },
    "tags": []
   },
   "outputs": [],
   "source": [
    "users_same_movies = user_movie_count[user_movie_count[\"movie_count\"] > 20][\"userId\"]"
   ]
  },
  {
   "cell_type": "markdown",
   "id": "53b8d3f1",
   "metadata": {
    "papermill": {
     "duration": 0.008488,
     "end_time": "2023-03-24T19:39:40.747273",
     "exception": false,
     "start_time": "2023-03-24T19:39:40.738785",
     "status": "completed"
    },
    "tags": []
   },
   "source": [
    " <a id = \"4\"></a>\n",
    "\n",
    " <strong style=\"color:#B3005E;font-size:25px;font-family:Georgia;text-align:center;\">Determination of Similarity  </strong>"
   ]
  },
  {
   "cell_type": "code",
   "execution_count": 13,
   "id": "a248099e",
   "metadata": {
    "execution": {
     "iopub.execute_input": "2023-03-24T19:39:40.766452Z",
     "iopub.status.busy": "2023-03-24T19:39:40.765854Z",
     "iopub.status.idle": "2023-03-24T19:39:40.777972Z",
     "shell.execute_reply": "2023-03-24T19:39:40.776414Z"
    },
    "papermill": {
     "duration": 0.024328,
     "end_time": "2023-03-24T19:39:40.780209",
     "exception": false,
     "start_time": "2023-03-24T19:39:40.755881",
     "status": "completed"
    },
    "tags": []
   },
   "outputs": [],
   "source": [
    "# We combine the data of our user and others to see the correlation. \n",
    "# We will identify the most similar ones.\n",
    "final_df = pd.concat([movies_watched_df[movies_watched_df.index.isin(users_same_movies)],\n",
    "                      random_user_df[movies_watched]])"
   ]
  },
  {
   "cell_type": "code",
   "execution_count": 14,
   "id": "d5435262",
   "metadata": {
    "execution": {
     "iopub.execute_input": "2023-03-24T19:39:40.799434Z",
     "iopub.status.busy": "2023-03-24T19:39:40.799004Z",
     "iopub.status.idle": "2023-03-24T19:39:45.308932Z",
     "shell.execute_reply": "2023-03-24T19:39:45.307848Z"
    },
    "papermill": {
     "duration": 4.525362,
     "end_time": "2023-03-24T19:39:45.314441",
     "exception": false,
     "start_time": "2023-03-24T19:39:40.789079",
     "status": "completed"
    },
    "tags": []
   },
   "outputs": [
    {
     "data": {
      "text/html": [
       "<div>\n",
       "<style scoped>\n",
       "    .dataframe tbody tr th:only-of-type {\n",
       "        vertical-align: middle;\n",
       "    }\n",
       "\n",
       "    .dataframe tbody tr th {\n",
       "        vertical-align: top;\n",
       "    }\n",
       "\n",
       "    .dataframe thead th {\n",
       "        text-align: right;\n",
       "    }\n",
       "</style>\n",
       "<table border=\"1\" class=\"dataframe\">\n",
       "  <thead>\n",
       "    <tr style=\"text-align: right;\">\n",
       "      <th></th>\n",
       "      <th>user_id_1</th>\n",
       "      <th>user_id_2</th>\n",
       "      <th>corr</th>\n",
       "    </tr>\n",
       "  </thead>\n",
       "  <tbody>\n",
       "    <tr>\n",
       "      <th>0</th>\n",
       "      <td>28866.0</td>\n",
       "      <td>67756.0</td>\n",
       "      <td>-0.936065</td>\n",
       "    </tr>\n",
       "    <tr>\n",
       "      <th>1</th>\n",
       "      <td>60562.0</td>\n",
       "      <td>37121.0</td>\n",
       "      <td>-0.915003</td>\n",
       "    </tr>\n",
       "    <tr>\n",
       "      <th>2</th>\n",
       "      <td>34103.0</td>\n",
       "      <td>80593.0</td>\n",
       "      <td>-0.898718</td>\n",
       "    </tr>\n",
       "    <tr>\n",
       "      <th>3</th>\n",
       "      <td>62575.0</td>\n",
       "      <td>21398.0</td>\n",
       "      <td>-0.896612</td>\n",
       "    </tr>\n",
       "    <tr>\n",
       "      <th>4</th>\n",
       "      <td>117826.0</td>\n",
       "      <td>48416.0</td>\n",
       "      <td>-0.883969</td>\n",
       "    </tr>\n",
       "  </tbody>\n",
       "</table>\n",
       "</div>"
      ],
      "text/plain": [
       "   user_id_1  user_id_2      corr\n",
       "0    28866.0    67756.0 -0.936065\n",
       "1    60562.0    37121.0 -0.915003\n",
       "2    34103.0    80593.0 -0.898718\n",
       "3    62575.0    21398.0 -0.896612\n",
       "4   117826.0    48416.0 -0.883969"
      ]
     },
     "execution_count": 14,
     "metadata": {},
     "output_type": "execute_result"
    }
   ],
   "source": [
    "# We add users to the columns for easier operation.\n",
    "corr_df = final_df.T.corr().unstack().sort_values().drop_duplicates()\n",
    "# After combining all the data, let's take the correlation and make it more readable.\n",
    "corr_df = pd.DataFrame(corr_df, columns=[\"corr\"])\n",
    "corr_df.index.names = ['user_id_1', 'user_id_2']\n",
    "corr_df = corr_df.reset_index()\n",
    "corr_df.head() \n",
    "## Correlations for all users."
   ]
  },
  {
   "cell_type": "code",
   "execution_count": 15,
   "id": "799676ca",
   "metadata": {
    "execution": {
     "iopub.execute_input": "2023-03-24T19:39:45.339139Z",
     "iopub.status.busy": "2023-03-24T19:39:45.338469Z",
     "iopub.status.idle": "2023-03-24T19:39:45.394352Z",
     "shell.execute_reply": "2023-03-24T19:39:45.393394Z"
    },
    "papermill": {
     "duration": 0.070184,
     "end_time": "2023-03-24T19:39:45.396545",
     "exception": false,
     "start_time": "2023-03-24T19:39:45.326361",
     "status": "completed"
    },
    "tags": []
   },
   "outputs": [
    {
     "data": {
      "text/html": [
       "<div>\n",
       "<style scoped>\n",
       "    .dataframe tbody tr th:only-of-type {\n",
       "        vertical-align: middle;\n",
       "    }\n",
       "\n",
       "    .dataframe tbody tr th {\n",
       "        vertical-align: top;\n",
       "    }\n",
       "\n",
       "    .dataframe thead th {\n",
       "        text-align: right;\n",
       "    }\n",
       "</style>\n",
       "<table border=\"1\" class=\"dataframe\">\n",
       "  <thead>\n",
       "    <tr style=\"text-align: right;\">\n",
       "      <th></th>\n",
       "      <th>userId</th>\n",
       "      <th>corr</th>\n",
       "    </tr>\n",
       "  </thead>\n",
       "  <tbody>\n",
       "    <tr>\n",
       "      <th>12</th>\n",
       "      <td>28941.0</td>\n",
       "      <td>1.000000</td>\n",
       "    </tr>\n",
       "    <tr>\n",
       "      <th>11</th>\n",
       "      <td>45158.0</td>\n",
       "      <td>0.800749</td>\n",
       "    </tr>\n",
       "    <tr>\n",
       "      <th>10</th>\n",
       "      <td>101628.0</td>\n",
       "      <td>0.790405</td>\n",
       "    </tr>\n",
       "    <tr>\n",
       "      <th>9</th>\n",
       "      <td>127259.0</td>\n",
       "      <td>0.763925</td>\n",
       "    </tr>\n",
       "    <tr>\n",
       "      <th>8</th>\n",
       "      <td>9783.0</td>\n",
       "      <td>0.747942</td>\n",
       "    </tr>\n",
       "    <tr>\n",
       "      <th>7</th>\n",
       "      <td>93089.0</td>\n",
       "      <td>0.738536</td>\n",
       "    </tr>\n",
       "    <tr>\n",
       "      <th>6</th>\n",
       "      <td>136259.0</td>\n",
       "      <td>0.737177</td>\n",
       "    </tr>\n",
       "    <tr>\n",
       "      <th>5</th>\n",
       "      <td>136259.0</td>\n",
       "      <td>0.737177</td>\n",
       "    </tr>\n",
       "    <tr>\n",
       "      <th>4</th>\n",
       "      <td>67346.0</td>\n",
       "      <td>0.732943</td>\n",
       "    </tr>\n",
       "    <tr>\n",
       "      <th>3</th>\n",
       "      <td>67346.0</td>\n",
       "      <td>0.732943</td>\n",
       "    </tr>\n",
       "    <tr>\n",
       "      <th>2</th>\n",
       "      <td>2171.0</td>\n",
       "      <td>0.728516</td>\n",
       "    </tr>\n",
       "    <tr>\n",
       "      <th>1</th>\n",
       "      <td>60411.0</td>\n",
       "      <td>0.727636</td>\n",
       "    </tr>\n",
       "    <tr>\n",
       "      <th>0</th>\n",
       "      <td>10943.0</td>\n",
       "      <td>0.703123</td>\n",
       "    </tr>\n",
       "  </tbody>\n",
       "</table>\n",
       "</div>"
      ],
      "text/plain": [
       "      userId      corr\n",
       "12   28941.0  1.000000\n",
       "11   45158.0  0.800749\n",
       "10  101628.0  0.790405\n",
       "9   127259.0  0.763925\n",
       "8     9783.0  0.747942\n",
       "7    93089.0  0.738536\n",
       "6   136259.0  0.737177\n",
       "5   136259.0  0.737177\n",
       "4    67346.0  0.732943\n",
       "3    67346.0  0.732943\n",
       "2     2171.0  0.728516\n",
       "1    60411.0  0.727636\n",
       "0    10943.0  0.703123"
      ]
     },
     "execution_count": 15,
     "metadata": {},
     "output_type": "execute_result"
    }
   ],
   "source": [
    "# We only need correlations that concern our selected user.\n",
    "top_users = corr_df[(corr_df[\"user_id_1\"] == random_user) & (corr_df[\"corr\"] >= 0.70)][[\"user_id_2\", \"corr\"]].reset_index(drop=True)\n",
    "\n",
    "# Let's see other users who have a correlation of 70% or more with our user. The applied filter changes accordingly.\n",
    "top_users = top_users.sort_values(by='corr', ascending=False)\n",
    "top_users.rename(columns={\"user_id_2\": \"userId\"}, inplace=True)\n",
    "\n",
    "top_users.head(20)\n",
    "# We identified our users who showed the most like behavior with our user.\n",
    "# Now let's find out how many points these users give to which movie."
   ]
  },
  {
   "cell_type": "code",
   "execution_count": 16,
   "id": "d6394971",
   "metadata": {
    "execution": {
     "iopub.execute_input": "2023-03-24T19:39:45.418662Z",
     "iopub.status.busy": "2023-03-24T19:39:45.418303Z",
     "iopub.status.idle": "2023-03-24T19:39:49.433827Z",
     "shell.execute_reply": "2023-03-24T19:39:49.431692Z"
    },
    "papermill": {
     "duration": 4.032098,
     "end_time": "2023-03-24T19:39:49.439083",
     "exception": false,
     "start_time": "2023-03-24T19:39:45.406985",
     "status": "completed"
    },
    "tags": []
   },
   "outputs": [
    {
     "data": {
      "text/html": [
       "<div>\n",
       "<style scoped>\n",
       "    .dataframe tbody tr th:only-of-type {\n",
       "        vertical-align: middle;\n",
       "    }\n",
       "\n",
       "    .dataframe tbody tr th {\n",
       "        vertical-align: top;\n",
       "    }\n",
       "\n",
       "    .dataframe thead th {\n",
       "        text-align: right;\n",
       "    }\n",
       "</style>\n",
       "<table border=\"1\" class=\"dataframe\">\n",
       "  <thead>\n",
       "    <tr style=\"text-align: right;\">\n",
       "      <th></th>\n",
       "      <th>userId</th>\n",
       "      <th>corr</th>\n",
       "      <th>movieId</th>\n",
       "      <th>rating</th>\n",
       "    </tr>\n",
       "  </thead>\n",
       "  <tbody>\n",
       "    <tr>\n",
       "      <th>33</th>\n",
       "      <td>45158.0</td>\n",
       "      <td>0.800749</td>\n",
       "      <td>1</td>\n",
       "      <td>1.5</td>\n",
       "    </tr>\n",
       "    <tr>\n",
       "      <th>34</th>\n",
       "      <td>45158.0</td>\n",
       "      <td>0.800749</td>\n",
       "      <td>3</td>\n",
       "      <td>1.0</td>\n",
       "    </tr>\n",
       "    <tr>\n",
       "      <th>35</th>\n",
       "      <td>45158.0</td>\n",
       "      <td>0.800749</td>\n",
       "      <td>17</td>\n",
       "      <td>3.5</td>\n",
       "    </tr>\n",
       "    <tr>\n",
       "      <th>36</th>\n",
       "      <td>45158.0</td>\n",
       "      <td>0.800749</td>\n",
       "      <td>19</td>\n",
       "      <td>2.0</td>\n",
       "    </tr>\n",
       "    <tr>\n",
       "      <th>37</th>\n",
       "      <td>45158.0</td>\n",
       "      <td>0.800749</td>\n",
       "      <td>22</td>\n",
       "      <td>3.0</td>\n",
       "    </tr>\n",
       "    <tr>\n",
       "      <th>38</th>\n",
       "      <td>45158.0</td>\n",
       "      <td>0.800749</td>\n",
       "      <td>25</td>\n",
       "      <td>4.0</td>\n",
       "    </tr>\n",
       "    <tr>\n",
       "      <th>39</th>\n",
       "      <td>45158.0</td>\n",
       "      <td>0.800749</td>\n",
       "      <td>31</td>\n",
       "      <td>3.0</td>\n",
       "    </tr>\n",
       "    <tr>\n",
       "      <th>40</th>\n",
       "      <td>45158.0</td>\n",
       "      <td>0.800749</td>\n",
       "      <td>32</td>\n",
       "      <td>2.5</td>\n",
       "    </tr>\n",
       "    <tr>\n",
       "      <th>41</th>\n",
       "      <td>45158.0</td>\n",
       "      <td>0.800749</td>\n",
       "      <td>36</td>\n",
       "      <td>4.0</td>\n",
       "    </tr>\n",
       "    <tr>\n",
       "      <th>42</th>\n",
       "      <td>45158.0</td>\n",
       "      <td>0.800749</td>\n",
       "      <td>39</td>\n",
       "      <td>3.5</td>\n",
       "    </tr>\n",
       "  </tbody>\n",
       "</table>\n",
       "</div>"
      ],
      "text/plain": [
       "     userId      corr  movieId  rating\n",
       "33  45158.0  0.800749        1     1.5\n",
       "34  45158.0  0.800749        3     1.0\n",
       "35  45158.0  0.800749       17     3.5\n",
       "36  45158.0  0.800749       19     2.0\n",
       "37  45158.0  0.800749       22     3.0\n",
       "38  45158.0  0.800749       25     4.0\n",
       "39  45158.0  0.800749       31     3.0\n",
       "40  45158.0  0.800749       32     2.5\n",
       "41  45158.0  0.800749       36     4.0\n",
       "42  45158.0  0.800749       39     3.5"
      ]
     },
     "execution_count": 16,
     "metadata": {},
     "output_type": "execute_result"
    }
   ],
   "source": [
    "top_users_ratings = top_users.merge(rating[[\"userId\", \"movieId\", \"rating\"]], how='inner')\n",
    "# Users with the highest correlation with our user and their ratings for movies:\n",
    "top_users_ratings = top_users_ratings[top_users_ratings[\"userId\"] != random_user]\n",
    "top_users_ratings.head(10) "
   ]
  },
  {
   "cell_type": "markdown",
   "id": "08155db6",
   "metadata": {
    "papermill": {
     "duration": 0.023828,
     "end_time": "2023-03-24T19:39:49.486511",
     "exception": false,
     "start_time": "2023-03-24T19:39:49.462683",
     "status": "completed"
    },
    "tags": []
   },
   "source": [
    "<a id = \"5\"></a>\n",
    "\n",
    "<strong style=\"color:#B3005E;font-size:25px;font-family:Georgia;text-align:center;\">Weighted Average Recommendation Score Calculation </strong>\n"
   ]
  },
  {
   "cell_type": "code",
   "execution_count": 17,
   "id": "38adcbb0",
   "metadata": {
    "execution": {
     "iopub.execute_input": "2023-03-24T19:39:49.537151Z",
     "iopub.status.busy": "2023-03-24T19:39:49.534780Z",
     "iopub.status.idle": "2023-03-24T19:39:49.572091Z",
     "shell.execute_reply": "2023-03-24T19:39:49.569465Z"
    },
    "papermill": {
     "duration": 0.069911,
     "end_time": "2023-03-24T19:39:49.579388",
     "exception": false,
     "start_time": "2023-03-24T19:39:49.509477",
     "status": "completed"
    },
    "tags": []
   },
   "outputs": [
    {
     "data": {
      "text/html": [
       "<div>\n",
       "<style scoped>\n",
       "    .dataframe tbody tr th:only-of-type {\n",
       "        vertical-align: middle;\n",
       "    }\n",
       "\n",
       "    .dataframe tbody tr th {\n",
       "        vertical-align: top;\n",
       "    }\n",
       "\n",
       "    .dataframe thead th {\n",
       "        text-align: right;\n",
       "    }\n",
       "</style>\n",
       "<table border=\"1\" class=\"dataframe\">\n",
       "  <thead>\n",
       "    <tr style=\"text-align: right;\">\n",
       "      <th></th>\n",
       "      <th>movieId</th>\n",
       "      <th>weighted_rating</th>\n",
       "    </tr>\n",
       "  </thead>\n",
       "  <tbody>\n",
       "    <tr>\n",
       "      <th>0</th>\n",
       "      <td>1</td>\n",
       "      <td>2.203838</td>\n",
       "    </tr>\n",
       "    <tr>\n",
       "      <th>1</th>\n",
       "      <td>2</td>\n",
       "      <td>1.224009</td>\n",
       "    </tr>\n",
       "    <tr>\n",
       "      <th>2</th>\n",
       "      <td>3</td>\n",
       "      <td>0.934528</td>\n",
       "    </tr>\n",
       "    <tr>\n",
       "      <th>3</th>\n",
       "      <td>4</td>\n",
       "      <td>1.633519</td>\n",
       "    </tr>\n",
       "    <tr>\n",
       "      <th>4</th>\n",
       "      <td>5</td>\n",
       "      <td>1.832357</td>\n",
       "    </tr>\n",
       "    <tr>\n",
       "      <th>5</th>\n",
       "      <td>6</td>\n",
       "      <td>1.436111</td>\n",
       "    </tr>\n",
       "    <tr>\n",
       "      <th>6</th>\n",
       "      <td>7</td>\n",
       "      <td>2.724309</td>\n",
       "    </tr>\n",
       "    <tr>\n",
       "      <th>7</th>\n",
       "      <td>10</td>\n",
       "      <td>2.124006</td>\n",
       "    </tr>\n",
       "    <tr>\n",
       "      <th>8</th>\n",
       "      <td>11</td>\n",
       "      <td>2.428406</td>\n",
       "    </tr>\n",
       "    <tr>\n",
       "      <th>9</th>\n",
       "      <td>13</td>\n",
       "      <td>0.738536</td>\n",
       "    </tr>\n",
       "  </tbody>\n",
       "</table>\n",
       "</div>"
      ],
      "text/plain": [
       "   movieId  weighted_rating\n",
       "0        1         2.203838\n",
       "1        2         1.224009\n",
       "2        3         0.934528\n",
       "3        4         1.633519\n",
       "4        5         1.832357\n",
       "5        6         1.436111\n",
       "6        7         2.724309\n",
       "7       10         2.124006\n",
       "8       11         2.428406\n",
       "9       13         0.738536"
      ]
     },
     "execution_count": 17,
     "metadata": {},
     "output_type": "execute_result"
    }
   ],
   "source": [
    "top_users_ratings['weighted_rating'] = top_users_ratings['corr'] * top_users_ratings['rating']\n",
    "\n",
    "recommendation_df = top_users_ratings.groupby('movieId').agg({\"weighted_rating\": \"mean\"}).reset_index()\n",
    "recommendation_df.head(10)"
   ]
  },
  {
   "cell_type": "code",
   "execution_count": 18,
   "id": "32389926",
   "metadata": {
    "execution": {
     "iopub.execute_input": "2023-03-24T19:39:49.636331Z",
     "iopub.status.busy": "2023-03-24T19:39:49.633198Z",
     "iopub.status.idle": "2023-03-24T19:39:49.659841Z",
     "shell.execute_reply": "2023-03-24T19:39:49.657857Z"
    },
    "papermill": {
     "duration": 0.059666,
     "end_time": "2023-03-24T19:39:49.664549",
     "exception": false,
     "start_time": "2023-03-24T19:39:49.604883",
     "status": "completed"
    },
    "tags": []
   },
   "outputs": [
    {
     "data": {
      "text/html": [
       "<div>\n",
       "<style scoped>\n",
       "    .dataframe tbody tr th:only-of-type {\n",
       "        vertical-align: middle;\n",
       "    }\n",
       "\n",
       "    .dataframe tbody tr th {\n",
       "        vertical-align: top;\n",
       "    }\n",
       "\n",
       "    .dataframe thead th {\n",
       "        text-align: right;\n",
       "    }\n",
       "</style>\n",
       "<table border=\"1\" class=\"dataframe\">\n",
       "  <thead>\n",
       "    <tr style=\"text-align: right;\">\n",
       "      <th></th>\n",
       "      <th>movieId</th>\n",
       "      <th>weighted_rating</th>\n",
       "    </tr>\n",
       "  </thead>\n",
       "  <tbody>\n",
       "    <tr>\n",
       "      <th>26</th>\n",
       "      <td>30</td>\n",
       "      <td>3.952023</td>\n",
       "    </tr>\n",
       "    <tr>\n",
       "      <th>237</th>\n",
       "      <td>326</td>\n",
       "      <td>3.952023</td>\n",
       "    </tr>\n",
       "    <tr>\n",
       "      <th>365</th>\n",
       "      <td>501</td>\n",
       "      <td>3.952023</td>\n",
       "    </tr>\n",
       "    <tr>\n",
       "      <th>44</th>\n",
       "      <td>53</td>\n",
       "      <td>3.952023</td>\n",
       "    </tr>\n",
       "    <tr>\n",
       "      <th>186</th>\n",
       "      <td>263</td>\n",
       "      <td>3.952023</td>\n",
       "    </tr>\n",
       "    <tr>\n",
       "      <th>168</th>\n",
       "      <td>242</td>\n",
       "      <td>3.952023</td>\n",
       "    </tr>\n",
       "    <tr>\n",
       "      <th>575</th>\n",
       "      <td>933</td>\n",
       "      <td>3.777725</td>\n",
       "    </tr>\n",
       "    <tr>\n",
       "      <th>844</th>\n",
       "      <td>1348</td>\n",
       "      <td>3.692678</td>\n",
       "    </tr>\n",
       "    <tr>\n",
       "      <th>3452</th>\n",
       "      <td>25850</td>\n",
       "      <td>3.664714</td>\n",
       "    </tr>\n",
       "    <tr>\n",
       "      <th>2687</th>\n",
       "      <td>5799</td>\n",
       "      <td>3.664714</td>\n",
       "    </tr>\n",
       "  </tbody>\n",
       "</table>\n",
       "</div>"
      ],
      "text/plain": [
       "      movieId  weighted_rating\n",
       "26         30         3.952023\n",
       "237       326         3.952023\n",
       "365       501         3.952023\n",
       "44         53         3.952023\n",
       "186       263         3.952023\n",
       "168       242         3.952023\n",
       "575       933         3.777725\n",
       "844      1348         3.692678\n",
       "3452    25850         3.664714\n",
       "2687     5799         3.664714"
      ]
     },
     "execution_count": 18,
     "metadata": {},
     "output_type": "execute_result"
    }
   ],
   "source": [
    "movies_to_be_recommend = recommendation_df[recommendation_df[\"weighted_rating\"] > 3.5].sort_values(\"weighted_rating\", ascending=False)\n",
    "movies_to_be_recommend.head(10)"
   ]
  },
  {
   "cell_type": "code",
   "execution_count": 19,
   "id": "f37f3be0",
   "metadata": {
    "execution": {
     "iopub.execute_input": "2023-03-24T19:39:49.717509Z",
     "iopub.status.busy": "2023-03-24T19:39:49.714434Z",
     "iopub.status.idle": "2023-03-24T19:39:49.825014Z",
     "shell.execute_reply": "2023-03-24T19:39:49.822226Z"
    },
    "papermill": {
     "duration": 0.143029,
     "end_time": "2023-03-24T19:39:49.831153",
     "exception": false,
     "start_time": "2023-03-24T19:39:49.688124",
     "status": "completed"
    },
    "tags": []
   },
   "outputs": [
    {
     "data": {
      "text/html": [
       "<div>\n",
       "<style scoped>\n",
       "    .dataframe tbody tr th:only-of-type {\n",
       "        vertical-align: middle;\n",
       "    }\n",
       "\n",
       "    .dataframe tbody tr th {\n",
       "        vertical-align: top;\n",
       "    }\n",
       "\n",
       "    .dataframe thead th {\n",
       "        text-align: right;\n",
       "    }\n",
       "</style>\n",
       "<table border=\"1\" class=\"dataframe\">\n",
       "  <thead>\n",
       "    <tr style=\"text-align: right;\">\n",
       "      <th></th>\n",
       "      <th>movieId</th>\n",
       "      <th>weighted_rating</th>\n",
       "      <th>title</th>\n",
       "    </tr>\n",
       "  </thead>\n",
       "  <tbody>\n",
       "    <tr>\n",
       "      <th>0</th>\n",
       "      <td>30</td>\n",
       "      <td>3.952023</td>\n",
       "      <td>Shanghai Triad (Yao a yao yao dao waipo qiao) ...</td>\n",
       "    </tr>\n",
       "    <tr>\n",
       "      <th>1</th>\n",
       "      <td>326</td>\n",
       "      <td>3.952023</td>\n",
       "      <td>To Live (Huozhe) (1994)</td>\n",
       "    </tr>\n",
       "    <tr>\n",
       "      <th>2</th>\n",
       "      <td>501</td>\n",
       "      <td>3.952023</td>\n",
       "      <td>Naked (1993)</td>\n",
       "    </tr>\n",
       "    <tr>\n",
       "      <th>3</th>\n",
       "      <td>53</td>\n",
       "      <td>3.952023</td>\n",
       "      <td>Lamerica (1994)</td>\n",
       "    </tr>\n",
       "    <tr>\n",
       "      <th>4</th>\n",
       "      <td>263</td>\n",
       "      <td>3.952023</td>\n",
       "      <td>Ladybird Ladybird (1994)</td>\n",
       "    </tr>\n",
       "    <tr>\n",
       "      <th>...</th>\n",
       "      <td>...</td>\n",
       "      <td>...</td>\n",
       "      <td>...</td>\n",
       "    </tr>\n",
       "    <tr>\n",
       "      <th>59</th>\n",
       "      <td>1230</td>\n",
       "      <td>3.543752</td>\n",
       "      <td>Annie Hall (1977)</td>\n",
       "    </tr>\n",
       "    <tr>\n",
       "      <th>60</th>\n",
       "      <td>908</td>\n",
       "      <td>3.543752</td>\n",
       "      <td>North by Northwest (1959)</td>\n",
       "    </tr>\n",
       "    <tr>\n",
       "      <th>61</th>\n",
       "      <td>4174</td>\n",
       "      <td>3.535917</td>\n",
       "      <td>Avalon (1990)</td>\n",
       "    </tr>\n",
       "    <tr>\n",
       "      <th>62</th>\n",
       "      <td>903</td>\n",
       "      <td>3.510809</td>\n",
       "      <td>Vertigo (1958)</td>\n",
       "    </tr>\n",
       "    <tr>\n",
       "      <th>63</th>\n",
       "      <td>2943</td>\n",
       "      <td>3.510809</td>\n",
       "      <td>Indochine (1992)</td>\n",
       "    </tr>\n",
       "  </tbody>\n",
       "</table>\n",
       "<p>64 rows × 3 columns</p>\n",
       "</div>"
      ],
      "text/plain": [
       "    movieId  weighted_rating                                              title\n",
       "0        30         3.952023  Shanghai Triad (Yao a yao yao dao waipo qiao) ...\n",
       "1       326         3.952023                            To Live (Huozhe) (1994)\n",
       "2       501         3.952023                                       Naked (1993)\n",
       "3        53         3.952023                                    Lamerica (1994)\n",
       "4       263         3.952023                           Ladybird Ladybird (1994)\n",
       "..      ...              ...                                                ...\n",
       "59     1230         3.543752                                  Annie Hall (1977)\n",
       "60      908         3.543752                          North by Northwest (1959)\n",
       "61     4174         3.535917                                      Avalon (1990)\n",
       "62      903         3.510809                                     Vertigo (1958)\n",
       "63     2943         3.510809                                   Indochine (1992)\n",
       "\n",
       "[64 rows x 3 columns]"
      ]
     },
     "execution_count": 19,
     "metadata": {},
     "output_type": "execute_result"
    }
   ],
   "source": [
    "movie = pd.read_csv('/kaggle/input/movielens-20m-dataset/movie.csv')\n",
    "movies_to_be_recommend.merge(movie[[\"movieId\", \"title\"]])"
   ]
  },
  {
   "cell_type": "markdown",
   "id": "9a382427",
   "metadata": {
    "papermill": {
     "duration": 0.027243,
     "end_time": "2023-03-24T19:39:49.886685",
     "exception": false,
     "start_time": "2023-03-24T19:39:49.859442",
     "status": "completed"
    },
    "tags": []
   },
   "source": [
    "<a id = \"3\"></a>\n",
    "\n",
    "<strong style=\"color:#B3005E;font-size:30px;font-family:Georgia;text-align:center;\">2- Item Based Collaborative Filtering\n",
    " </strong>\n",
    " \n",
    " <strong style=\"color:#B3005E;font-size:20px;font-family:Georgia;text-align:center;\">Creation of User Movie Df \n",
    " </strong>"
   ]
  },
  {
   "cell_type": "code",
   "execution_count": 20,
   "id": "84dea5f6",
   "metadata": {
    "execution": {
     "iopub.execute_input": "2023-03-24T19:39:49.941089Z",
     "iopub.status.busy": "2023-03-24T19:39:49.940118Z",
     "iopub.status.idle": "2023-03-24T19:39:52.000056Z",
     "shell.execute_reply": "2023-03-24T19:39:51.998788Z"
    },
    "papermill": {
     "duration": 2.092865,
     "end_time": "2023-03-24T19:39:52.005072",
     "exception": false,
     "start_time": "2023-03-24T19:39:49.912207",
     "status": "completed"
    },
    "tags": []
   },
   "outputs": [
    {
     "data": {
      "text/plain": [
       "27262"
      ]
     },
     "execution_count": 20,
     "metadata": {},
     "output_type": "execute_result"
    }
   ],
   "source": [
    "df[\"title\"].nunique()"
   ]
  },
  {
   "cell_type": "code",
   "execution_count": 21,
   "id": "32324117",
   "metadata": {
    "execution": {
     "iopub.execute_input": "2023-03-24T19:39:52.061201Z",
     "iopub.status.busy": "2023-03-24T19:39:52.060786Z",
     "iopub.status.idle": "2023-03-24T19:39:52.895438Z",
     "shell.execute_reply": "2023-03-24T19:39:52.894468Z"
    },
    "papermill": {
     "duration": 0.866404,
     "end_time": "2023-03-24T19:39:52.897322",
     "exception": false,
     "start_time": "2023-03-24T19:39:52.030918",
     "status": "completed"
    },
    "tags": []
   },
   "outputs": [
    {
     "data": {
      "text/plain": [
       "Pulp Fiction (1994)                 67310\n",
       "Forrest Gump (1994)                 66172\n",
       "Shawshank Redemption, The (1994)    63366\n",
       "Silence of the Lambs, The (1991)    63299\n",
       "Jurassic Park (1993)                59715\n",
       "Name: title, dtype: int64"
      ]
     },
     "execution_count": 21,
     "metadata": {},
     "output_type": "execute_result"
    }
   ],
   "source": [
    "df[\"title\"].value_counts().head()"
   ]
  },
  {
   "cell_type": "code",
   "execution_count": 22,
   "id": "7e33dd61",
   "metadata": {
    "execution": {
     "iopub.execute_input": "2023-03-24T19:39:52.918858Z",
     "iopub.status.busy": "2023-03-24T19:39:52.918516Z",
     "iopub.status.idle": "2023-03-24T19:39:57.989924Z",
     "shell.execute_reply": "2023-03-24T19:39:57.988970Z"
    },
    "papermill": {
     "duration": 5.084516,
     "end_time": "2023-03-24T19:39:57.992000",
     "exception": false,
     "start_time": "2023-03-24T19:39:52.907484",
     "status": "completed"
    },
    "tags": []
   },
   "outputs": [
    {
     "data": {
      "text/plain": [
       "3159"
      ]
     },
     "execution_count": 22,
     "metadata": {},
     "output_type": "execute_result"
    }
   ],
   "source": [
    "comment_counts = pd.DataFrame(df[\"title\"].value_counts())\n",
    "rare_movies = comment_counts[comment_counts[\"title\"] <= 1000].index\n",
    "common_movies = df[~df[\"title\"].isin(rare_movies)]\n",
    "common_movies.shape\n",
    "common_movies[\"title\"].nunique()"
   ]
  },
  {
   "cell_type": "code",
   "execution_count": 23,
   "id": "0a76e05c",
   "metadata": {
    "execution": {
     "iopub.execute_input": "2023-03-24T19:39:58.014998Z",
     "iopub.status.busy": "2023-03-24T19:39:58.014606Z",
     "iopub.status.idle": "2023-03-24T19:40:21.589134Z",
     "shell.execute_reply": "2023-03-24T19:40:21.588068Z"
    },
    "papermill": {
     "duration": 23.588331,
     "end_time": "2023-03-24T19:40:21.591028",
     "exception": false,
     "start_time": "2023-03-24T19:39:58.002697",
     "status": "completed"
    },
    "tags": []
   },
   "outputs": [
    {
     "data": {
      "text/plain": [
       "(138493, 3159)"
      ]
     },
     "execution_count": 23,
     "metadata": {},
     "output_type": "execute_result"
    }
   ],
   "source": [
    "user_movie_df = common_movies.pivot_table(index=[\"userId\"], columns=[\"title\"], values=\"rating\")\n",
    "\n",
    "user_movie_df.shape"
   ]
  },
  {
   "cell_type": "markdown",
   "id": "90509c2d",
   "metadata": {
    "papermill": {
     "duration": 0.009586,
     "end_time": "2023-03-24T19:40:21.611203",
     "exception": false,
     "start_time": "2023-03-24T19:40:21.601617",
     "status": "completed"
    },
    "tags": []
   },
   "source": [
    "<a id = \"7\"></a>\n",
    "\n",
    "<strong style=\"color:#B3005E;font-size:25px;font-family:Georgia;text-align:center;\">Making Movie Recommendations\n",
    " </strong>\n"
   ]
  },
  {
   "cell_type": "code",
   "execution_count": 24,
   "id": "a235107e",
   "metadata": {
    "execution": {
     "iopub.execute_input": "2023-03-24T19:40:21.632867Z",
     "iopub.status.busy": "2023-03-24T19:40:21.632537Z",
     "iopub.status.idle": "2023-03-24T19:40:23.608997Z",
     "shell.execute_reply": "2023-03-24T19:40:23.607832Z"
    },
    "papermill": {
     "duration": 1.989955,
     "end_time": "2023-03-24T19:40:23.611083",
     "exception": false,
     "start_time": "2023-03-24T19:40:21.621128",
     "status": "completed"
    },
    "tags": []
   },
   "outputs": [
    {
     "data": {
      "text/plain": [
       "title\n",
       "Matrix, The (1999)                                           1.000000\n",
       "Matrix Reloaded, The (2003)                                  0.516906\n",
       "Matrix Revolutions, The (2003)                               0.449588\n",
       "Animatrix, The (2003)                                        0.367151\n",
       "Blade (1998)                                                 0.334493\n",
       "Terminator 2: Judgment Day (1991)                            0.333882\n",
       "Minority Report (2002)                                       0.332434\n",
       "Edge of Tomorrow (2014)                                      0.326762\n",
       "Mission: Impossible (1996)                                   0.320815\n",
       "Lord of the Rings: The Fellowship of the Ring, The (2001)    0.318726\n",
       "dtype: float64"
      ]
     },
     "execution_count": 24,
     "metadata": {},
     "output_type": "execute_result"
    }
   ],
   "source": [
    "# Matrix filmiini izleyen kullanicilara asagidaki oneriler yapilabilir.\n",
    "movie_name = \"Matrix, The (1999)\"\n",
    "movie_name = user_movie_df[movie_name]\n",
    "user_movie_df.corrwith(movie_name).sort_values(ascending=False).head(10)"
   ]
  },
  {
   "cell_type": "code",
   "execution_count": 25,
   "id": "2be5aa2d",
   "metadata": {
    "execution": {
     "iopub.execute_input": "2023-03-24T19:40:23.636419Z",
     "iopub.status.busy": "2023-03-24T19:40:23.635970Z",
     "iopub.status.idle": "2023-03-24T19:40:25.035598Z",
     "shell.execute_reply": "2023-03-24T19:40:25.034631Z"
    },
    "papermill": {
     "duration": 1.415387,
     "end_time": "2023-03-24T19:40:25.037691",
     "exception": false,
     "start_time": "2023-03-24T19:40:23.622304",
     "status": "completed"
    },
    "tags": []
   },
   "outputs": [
    {
     "data": {
      "text/plain": [
       "title\n",
       "Ocean's Twelve (2004)                                 1.000000\n",
       "Ocean's Thirteen (2007)                               0.681654\n",
       "Ocean's Eleven (2001)                                 0.551280\n",
       "Eddie (1996)                                          0.474808\n",
       "National Treasure: Book of Secrets (2007)             0.474230\n",
       "Eagle Eye (2008)                                      0.473061\n",
       "Pirates of the Caribbean: On Stranger Tides (2011)    0.472446\n",
       "Ocean's Eleven (a.k.a. Ocean's 11) (1960)             0.470412\n",
       "Analyze That (2002)                                   0.459010\n",
       "Bad Boys II (2003)                                    0.458827\n",
       "dtype: float64"
      ]
     },
     "execution_count": 25,
     "metadata": {},
     "output_type": "execute_result"
    }
   ],
   "source": [
    "movie_name = \"Ocean's Twelve (2004)\"\n",
    "movie_name = user_movie_df[movie_name]\n",
    "user_movie_df.corrwith(movie_name).sort_values(ascending=False).head(10)"
   ]
  },
  {
   "cell_type": "code",
   "execution_count": 26,
   "id": "81392d33",
   "metadata": {
    "execution": {
     "iopub.execute_input": "2023-03-24T19:40:25.062308Z",
     "iopub.status.busy": "2023-03-24T19:40:25.060884Z",
     "iopub.status.idle": "2023-03-24T19:40:26.370951Z",
     "shell.execute_reply": "2023-03-24T19:40:26.369932Z"
    },
    "papermill": {
     "duration": 1.324684,
     "end_time": "2023-03-24T19:40:26.373318",
     "exception": false,
     "start_time": "2023-03-24T19:40:25.048634",
     "status": "completed"
    },
    "tags": []
   },
   "outputs": [
    {
     "data": {
      "text/plain": [
       "title\n",
       "Super 8 (2011)                   1.000000\n",
       "Farinelli: il castrato (1994)    0.568693\n",
       "Affliction (1997)                0.521297\n",
       "Othello (1995)                   0.518104\n",
       "Run Silent Run Deep (1958)       0.499901\n",
       "Babysitter, The (1995)           0.494973\n",
       "Unforgiven, The (1960)           0.490069\n",
       "Widows' Peak (1994)              0.468997\n",
       "Everest (1998)                   0.463791\n",
       "Matewan (1987)                   0.458997\n",
       "dtype: float64"
      ]
     },
     "execution_count": 26,
     "metadata": {},
     "output_type": "execute_result"
    }
   ],
   "source": [
    "# Hadi rastgele bir film ismi secip secilen filme onerilebilecek filmleri tespit edelim.\n",
    "movie_name = pd.Series(user_movie_df.columns).sample(1).values[0]\n",
    "movie_name = user_movie_df[movie_name]\n",
    "user_movie_df.corrwith(movie_name).sort_values(ascending=False).head(10)"
   ]
  },
  {
   "cell_type": "code",
   "execution_count": 27,
   "id": "77898119",
   "metadata": {
    "execution": {
     "iopub.execute_input": "2023-03-24T19:40:26.400202Z",
     "iopub.status.busy": "2023-03-24T19:40:26.399801Z",
     "iopub.status.idle": "2023-03-24T19:40:26.407771Z",
     "shell.execute_reply": "2023-03-24T19:40:26.406607Z"
    },
    "papermill": {
     "duration": 0.024433,
     "end_time": "2023-03-24T19:40:26.410147",
     "exception": false,
     "start_time": "2023-03-24T19:40:26.385714",
     "status": "completed"
    },
    "tags": []
   },
   "outputs": [
    {
     "data": {
      "text/plain": [
       "['Insomnia (1997)', 'Insomnia (2002)']"
      ]
     },
     "execution_count": 27,
     "metadata": {},
     "output_type": "execute_result"
    }
   ],
   "source": [
    "# Asagidaki fonksiyon ile girdigimiz keyword e gore film secimi yapabiliriz.\n",
    "def check_film(keyword, user_movie_df):\n",
    "    return [col for col in user_movie_df.columns if keyword in col]\n",
    "\n",
    "check_film(\"Insomnia\", user_movie_df)"
   ]
  },
  {
   "cell_type": "code",
   "execution_count": 28,
   "id": "bafbc71a",
   "metadata": {
    "execution": {
     "iopub.execute_input": "2023-03-24T19:40:26.436073Z",
     "iopub.status.busy": "2023-03-24T19:40:26.434970Z",
     "iopub.status.idle": "2023-03-24T19:40:26.444619Z",
     "shell.execute_reply": "2023-03-24T19:40:26.442989Z"
    },
    "papermill": {
     "duration": 0.025848,
     "end_time": "2023-03-24T19:40:26.447437",
     "exception": false,
     "start_time": "2023-03-24T19:40:26.421589",
     "status": "completed"
    },
    "tags": []
   },
   "outputs": [
    {
     "data": {
      "text/plain": [
       "['Lord of Illusions (1995)',\n",
       " 'Lord of War (2005)',\n",
       " 'Lord of the Flies (1963)',\n",
       " 'Lord of the Flies (1990)',\n",
       " 'Lord of the Rings, The (1978)',\n",
       " 'Lord of the Rings: The Fellowship of the Ring, The (2001)',\n",
       " 'Lord of the Rings: The Return of the King, The (2003)',\n",
       " 'Lord of the Rings: The Two Towers, The (2002)']"
      ]
     },
     "execution_count": 28,
     "metadata": {},
     "output_type": "execute_result"
    }
   ],
   "source": [
    "check_film('Lord', user_movie_df)"
   ]
  },
  {
   "cell_type": "markdown",
   "id": "87213c6b",
   "metadata": {
    "papermill": {
     "duration": 0.011054,
     "end_time": "2023-03-24T19:40:26.470713",
     "exception": false,
     "start_time": "2023-03-24T19:40:26.459659",
     "status": "completed"
    },
    "tags": []
   },
   "source": [
    "<p style=\"padding:15px;\n",
    "background-color:#f4ebdc;\n",
    "margin:0; color:#B3005E; border:2px dotted #C689C6; font-family:Charter; font-weight: bold; font-size:250%; text-align:center; overflow:hidden; font-weight:500\">If you like this then please UPVOTE this 😄 Your opinions and suggestions are very important to me...<img src=\"https://media.giphy.com/media/WUlplcMpOCEmTGBtBW/giphy.gif\" width=\"100\"> <div style=\"float:center;margin-left:270px;max-width:50%;\">"
   ]
  },
  {
   "cell_type": "markdown",
   "id": "ca97e5f7",
   "metadata": {
    "papermill": {
     "duration": 0.011009,
     "end_time": "2023-03-24T19:40:26.493181",
     "exception": false,
     "start_time": "2023-03-24T19:40:26.482172",
     "status": "completed"
    },
    "tags": []
   },
   "source": [
    "<p style=\"padding:15px;\n",
    "background-color:#f4ebdc;\n",
    "margin:0; color:#B3005E; border:2px dotted #C689C6; font-family:Charter; font-weight: bold; font-size:250%; text-align:center; overflow:hidden; font-weight:500\">\n",
    "FOR MORE:</p> \n",
    "\n",
    "https://www.linkedin.com/in/serdar-ozturk/\n",
    "\n",
    "https://github.com/StanleyHopson\n",
    "\n",
    "https://medium.com/@serdar.f95\n",
    "\n",
    "<p style=\"padding:15px;\n",
    "background-color:#f4ebdc;\n",
    "margin:0; color:#B3005E; border:2px dotted #C689C6; font-family:Charter; font-weight: bold; font-size:250%; text-align:center; overflow:hidden; font-weight:500\">CREDITS:</p> \n",
    "\n",
    "[https://numpy.org/](http://)\n",
    "\n",
    "[https://seaborn.pydata.org/](http://)\n",
    "\n",
    "[https://pandas.pydata.org](http://)\n",
    "\n",
    "[https://pandas.pydata.org/](http://)\n",
    "\n",
    "[https://learning.miuul.com](http://)"
   ]
  }
 ],
 "metadata": {
  "kernelspec": {
   "display_name": "Python 3",
   "language": "python",
   "name": "python3"
  },
  "language_info": {
   "codemirror_mode": {
    "name": "ipython",
    "version": 3
   },
   "file_extension": ".py",
   "mimetype": "text/x-python",
   "name": "python",
   "nbconvert_exporter": "python",
   "pygments_lexer": "ipython3",
   "version": "3.7.12"
  },
  "papermill": {
   "default_parameters": {},
   "duration": 157.014509,
   "end_time": "2023-03-24T19:40:29.126881",
   "environment_variables": {},
   "exception": null,
   "input_path": "__notebook__.ipynb",
   "output_path": "__notebook__.ipynb",
   "parameters": {},
   "start_time": "2023-03-24T19:37:52.112372",
   "version": "2.4.0"
  }
 },
 "nbformat": 4,
 "nbformat_minor": 5
}
